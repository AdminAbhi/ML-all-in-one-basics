{
  "nbformat": 4,
  "nbformat_minor": 0,
  "metadata": {
    "kernelspec": {
      "display_name": "Python 3.6",
      "language": "python",
      "name": "python3"
    },
    "language_info": {
      "codemirror_mode": {
        "name": "ipython",
        "version": 3
      },
      "file_extension": ".py",
      "mimetype": "text/x-python",
      "name": "python",
      "nbconvert_exporter": "python",
      "pygments_lexer": "ipython3",
      "version": "3.6.9"
    },
    "colab": {
      "name": "Loan_payoff_Classifier.ipynb",
      "provenance": [],
      "collapsed_sections": [],
      "include_colab_link": true
    }
  },
  "cells": [
    {
      "cell_type": "markdown",
      "metadata": {
        "id": "view-in-github",
        "colab_type": "text"
      },
      "source": [
        "<a href=\"https://colab.research.google.com/github/AdminAbhi/ML-all-in-one-basics/blob/master/Project-ML-with-Python/Loan_payoff_Classifier.ipynb\" target=\"_parent\"><img src=\"https://colab.research.google.com/assets/colab-badge.svg\" alt=\"Open In Colab\"/></a>"
      ]
    },
    {
      "cell_type": "markdown",
      "metadata": {
        "button": false,
        "new_sheet": false,
        "run_control": {
          "read_only": false
        },
        "id": "mvo-27zFL4kw"
      },
      "source": [
        "<h1 align=\"center\"><font size=\"6\"><strong>Battle of Best Classifier</strong> \n",
        "<br>( Loan pay-off Classifier​ — ​ ML Model )</font></h1>\n",
        "\n"
      ]
    },
    {
      "cell_type": "markdown",
      "metadata": {
        "id": "kyfH1ASCinDs"
      },
      "source": [
        "### **Algorithms used:**\n",
        "- K Nearest Neighbor(KNN)\n",
        "- Decision Tree\n",
        "- Support Vector Machine\n",
        "- Logistic Regression"
      ]
    },
    {
      "cell_type": "markdown",
      "metadata": {
        "id": "dVTPeFm-jFb7"
      },
      "source": [
        "# **Project Flow :**\n",
        "1. Import required libraries\n",
        "2. Download the dataset\n",
        "3. Data visualization\n",
        "4. Data Pre-processing\n",
        "5. Feature selection and Label Encoding\n",
        "6. Data Normalization\n",
        "7. Train-Test Split\n",
        "8. Classification using Different Algorithms\n",
        "9. Model Evaluation using Test set\n",
        "10. Test Data Pre-processing pipeline\n",
        "11. Calculating Accuracies of All Models"
      ]
    },
    {
      "cell_type": "markdown",
      "metadata": {
        "button": false,
        "new_sheet": false,
        "run_control": {
          "read_only": false
        },
        "id": "tZhyxwuZL4kx"
      },
      "source": [
        "# 1. Lets first import required libraries:"
      ]
    },
    {
      "cell_type": "code",
      "metadata": {
        "button": false,
        "new_sheet": false,
        "run_control": {
          "read_only": false
        },
        "id": "VDPlTMyNL4kx"
      },
      "source": [
        "import itertools\n",
        "import numpy as np\n",
        "import matplotlib.pyplot as plt\n",
        "from matplotlib.ticker import NullFormatter\n",
        "import pandas as pd\n",
        "import numpy as np\n",
        "import matplotlib.ticker as ticker\n",
        "from sklearn import preprocessing\n",
        "%matplotlib inline"
      ],
      "execution_count": 1,
      "outputs": []
    },
    {
      "cell_type": "markdown",
      "metadata": {
        "button": false,
        "new_sheet": false,
        "run_control": {
          "read_only": false
        },
        "id": "bMVW5Q4QL4k1"
      },
      "source": [
        "We load a dataset using Pandas library, and apply classification algorithms, and find the best one for this specific dataset by accuracy evaluation methods.\n",
        "\n",
        "\n",
        "### About dataset"
      ]
    },
    {
      "cell_type": "markdown",
      "metadata": {
        "button": false,
        "new_sheet": false,
        "run_control": {
          "read_only": false
        },
        "id": "jJIrmbrZL4k2"
      },
      "source": [
        "This dataset is about past loans. The __Loan_train.csv__ data set includes details of 346 customers whose loan are already paid off or defaulted. It includes following fields:\n",
        "\n",
        "| Field          | Description                                                                           |\n",
        "|----------------|---------------------------------------------------------------------------------------|\n",
        "| Loan_status    | Whether a loan is paid off on in collection                                           |\n",
        "| Principal      | Basic principal loan amount at the                                                    |\n",
        "| Terms          | Origination terms which can be weekly (7 days), biweekly, and monthly payoff schedule |\n",
        "| Effective_date | When the loan got originated and took effects                                         |\n",
        "| Due_date       | Since it’s one-time payoff schedule, each loan has one single due date                |\n",
        "| Age            | Age of applicant                                                                      |\n",
        "| Education      | Education of applicant                                                                |\n",
        "| Gender         | The gender of applicant                                                               |"
      ]
    },
    {
      "cell_type": "markdown",
      "metadata": {
        "button": false,
        "new_sheet": false,
        "run_control": {
          "read_only": false
        },
        "id": "Fm2IqYyAL4k3"
      },
      "source": [
        "# 2. Download Dataset"
      ]
    },
    {
      "cell_type": "code",
      "metadata": {
        "button": false,
        "new_sheet": false,
        "run_control": {
          "read_only": false
        },
        "id": "UpcUCcvmL4k4",
        "colab": {
          "base_uri": "https://localhost:8080/"
        },
        "outputId": "dc4ee4c9-417a-4ccd-a530-ed628b7da1dd"
      },
      "source": [
        "# Training data\n",
        "!wget -O loan_train.csv https://s3-api.us-geo.objectstorage.softlayer.net/cf-courses-data/CognitiveClass/ML0101ENv3/labs/loan_train.csv\n"
      ],
      "execution_count": 2,
      "outputs": [
        {
          "output_type": "stream",
          "text": [
            "--2020-12-01 10:05:58--  https://s3-api.us-geo.objectstorage.softlayer.net/cf-courses-data/CognitiveClass/ML0101ENv3/labs/loan_train.csv\n",
            "Resolving s3-api.us-geo.objectstorage.softlayer.net (s3-api.us-geo.objectstorage.softlayer.net)... 67.228.254.196\n",
            "Connecting to s3-api.us-geo.objectstorage.softlayer.net (s3-api.us-geo.objectstorage.softlayer.net)|67.228.254.196|:443... connected.\n",
            "HTTP request sent, awaiting response... 200 OK\n",
            "Length: 23101 (23K) [text/csv]\n",
            "Saving to: ‘loan_train.csv’\n",
            "\n",
            "loan_train.csv      100%[===================>]  22.56K  --.-KB/s    in 0.1s    \n",
            "\n",
            "2020-12-01 10:05:59 (153 KB/s) - ‘loan_train.csv’ saved [23101/23101]\n",
            "\n"
          ],
          "name": "stdout"
        }
      ]
    },
    {
      "cell_type": "markdown",
      "metadata": {
        "button": false,
        "new_sheet": false,
        "run_control": {
          "read_only": false
        },
        "id": "VNPbQRFzL4k8"
      },
      "source": [
        "### Load Data From CSV File  "
      ]
    },
    {
      "cell_type": "code",
      "metadata": {
        "button": false,
        "new_sheet": false,
        "run_control": {
          "read_only": false
        },
        "id": "klIcmu0eL4k9",
        "colab": {
          "base_uri": "https://localhost:8080/",
          "height": 204
        },
        "outputId": "ea70350b-6e7a-4296-cae6-acebe371e322"
      },
      "source": [
        "df = pd.read_csv('loan_train.csv')\n",
        "df.head()"
      ],
      "execution_count": 3,
      "outputs": [
        {
          "output_type": "execute_result",
          "data": {
            "text/html": [
              "<div>\n",
              "<style scoped>\n",
              "    .dataframe tbody tr th:only-of-type {\n",
              "        vertical-align: middle;\n",
              "    }\n",
              "\n",
              "    .dataframe tbody tr th {\n",
              "        vertical-align: top;\n",
              "    }\n",
              "\n",
              "    .dataframe thead th {\n",
              "        text-align: right;\n",
              "    }\n",
              "</style>\n",
              "<table border=\"1\" class=\"dataframe\">\n",
              "  <thead>\n",
              "    <tr style=\"text-align: right;\">\n",
              "      <th></th>\n",
              "      <th>Unnamed: 0</th>\n",
              "      <th>Unnamed: 0.1</th>\n",
              "      <th>loan_status</th>\n",
              "      <th>Principal</th>\n",
              "      <th>terms</th>\n",
              "      <th>effective_date</th>\n",
              "      <th>due_date</th>\n",
              "      <th>age</th>\n",
              "      <th>education</th>\n",
              "      <th>Gender</th>\n",
              "    </tr>\n",
              "  </thead>\n",
              "  <tbody>\n",
              "    <tr>\n",
              "      <th>0</th>\n",
              "      <td>0</td>\n",
              "      <td>0</td>\n",
              "      <td>PAIDOFF</td>\n",
              "      <td>1000</td>\n",
              "      <td>30</td>\n",
              "      <td>9/8/2016</td>\n",
              "      <td>10/7/2016</td>\n",
              "      <td>45</td>\n",
              "      <td>High School or Below</td>\n",
              "      <td>male</td>\n",
              "    </tr>\n",
              "    <tr>\n",
              "      <th>1</th>\n",
              "      <td>2</td>\n",
              "      <td>2</td>\n",
              "      <td>PAIDOFF</td>\n",
              "      <td>1000</td>\n",
              "      <td>30</td>\n",
              "      <td>9/8/2016</td>\n",
              "      <td>10/7/2016</td>\n",
              "      <td>33</td>\n",
              "      <td>Bechalor</td>\n",
              "      <td>female</td>\n",
              "    </tr>\n",
              "    <tr>\n",
              "      <th>2</th>\n",
              "      <td>3</td>\n",
              "      <td>3</td>\n",
              "      <td>PAIDOFF</td>\n",
              "      <td>1000</td>\n",
              "      <td>15</td>\n",
              "      <td>9/8/2016</td>\n",
              "      <td>9/22/2016</td>\n",
              "      <td>27</td>\n",
              "      <td>college</td>\n",
              "      <td>male</td>\n",
              "    </tr>\n",
              "    <tr>\n",
              "      <th>3</th>\n",
              "      <td>4</td>\n",
              "      <td>4</td>\n",
              "      <td>PAIDOFF</td>\n",
              "      <td>1000</td>\n",
              "      <td>30</td>\n",
              "      <td>9/9/2016</td>\n",
              "      <td>10/8/2016</td>\n",
              "      <td>28</td>\n",
              "      <td>college</td>\n",
              "      <td>female</td>\n",
              "    </tr>\n",
              "    <tr>\n",
              "      <th>4</th>\n",
              "      <td>6</td>\n",
              "      <td>6</td>\n",
              "      <td>PAIDOFF</td>\n",
              "      <td>1000</td>\n",
              "      <td>30</td>\n",
              "      <td>9/9/2016</td>\n",
              "      <td>10/8/2016</td>\n",
              "      <td>29</td>\n",
              "      <td>college</td>\n",
              "      <td>male</td>\n",
              "    </tr>\n",
              "  </tbody>\n",
              "</table>\n",
              "</div>"
            ],
            "text/plain": [
              "   Unnamed: 0  Unnamed: 0.1 loan_status  ...  age             education  Gender\n",
              "0           0             0     PAIDOFF  ...   45  High School or Below    male\n",
              "1           2             2     PAIDOFF  ...   33              Bechalor  female\n",
              "2           3             3     PAIDOFF  ...   27               college    male\n",
              "3           4             4     PAIDOFF  ...   28               college  female\n",
              "4           6             6     PAIDOFF  ...   29               college    male\n",
              "\n",
              "[5 rows x 10 columns]"
            ]
          },
          "metadata": {
            "tags": []
          },
          "execution_count": 3
        }
      ]
    },
    {
      "cell_type": "code",
      "metadata": {
        "id": "Q3VYQEI6L4lB",
        "colab": {
          "base_uri": "https://localhost:8080/"
        },
        "outputId": "0487421b-d436-42c0-e4ea-49bf680025a6"
      },
      "source": [
        "df.shape"
      ],
      "execution_count": 4,
      "outputs": [
        {
          "output_type": "execute_result",
          "data": {
            "text/plain": [
              "(346, 10)"
            ]
          },
          "metadata": {
            "tags": []
          },
          "execution_count": 4
        }
      ]
    },
    {
      "cell_type": "markdown",
      "metadata": {
        "button": false,
        "new_sheet": false,
        "run_control": {
          "read_only": false
        },
        "id": "u3zYUhrWL4lE"
      },
      "source": [
        "### Convert to date time object to Standard Date-Time"
      ]
    },
    {
      "cell_type": "code",
      "metadata": {
        "button": false,
        "new_sheet": false,
        "run_control": {
          "read_only": false
        },
        "id": "tLsF5-qhL4lF",
        "colab": {
          "base_uri": "https://localhost:8080/",
          "height": 204
        },
        "outputId": "60431f17-87d5-4d93-d699-375da59c6ea7"
      },
      "source": [
        "df['due_date'] = pd.to_datetime(df['due_date'])\n",
        "df['effective_date'] = pd.to_datetime(df['effective_date'])\n",
        "df.head()"
      ],
      "execution_count": 5,
      "outputs": [
        {
          "output_type": "execute_result",
          "data": {
            "text/html": [
              "<div>\n",
              "<style scoped>\n",
              "    .dataframe tbody tr th:only-of-type {\n",
              "        vertical-align: middle;\n",
              "    }\n",
              "\n",
              "    .dataframe tbody tr th {\n",
              "        vertical-align: top;\n",
              "    }\n",
              "\n",
              "    .dataframe thead th {\n",
              "        text-align: right;\n",
              "    }\n",
              "</style>\n",
              "<table border=\"1\" class=\"dataframe\">\n",
              "  <thead>\n",
              "    <tr style=\"text-align: right;\">\n",
              "      <th></th>\n",
              "      <th>Unnamed: 0</th>\n",
              "      <th>Unnamed: 0.1</th>\n",
              "      <th>loan_status</th>\n",
              "      <th>Principal</th>\n",
              "      <th>terms</th>\n",
              "      <th>effective_date</th>\n",
              "      <th>due_date</th>\n",
              "      <th>age</th>\n",
              "      <th>education</th>\n",
              "      <th>Gender</th>\n",
              "    </tr>\n",
              "  </thead>\n",
              "  <tbody>\n",
              "    <tr>\n",
              "      <th>0</th>\n",
              "      <td>0</td>\n",
              "      <td>0</td>\n",
              "      <td>PAIDOFF</td>\n",
              "      <td>1000</td>\n",
              "      <td>30</td>\n",
              "      <td>2016-09-08</td>\n",
              "      <td>2016-10-07</td>\n",
              "      <td>45</td>\n",
              "      <td>High School or Below</td>\n",
              "      <td>male</td>\n",
              "    </tr>\n",
              "    <tr>\n",
              "      <th>1</th>\n",
              "      <td>2</td>\n",
              "      <td>2</td>\n",
              "      <td>PAIDOFF</td>\n",
              "      <td>1000</td>\n",
              "      <td>30</td>\n",
              "      <td>2016-09-08</td>\n",
              "      <td>2016-10-07</td>\n",
              "      <td>33</td>\n",
              "      <td>Bechalor</td>\n",
              "      <td>female</td>\n",
              "    </tr>\n",
              "    <tr>\n",
              "      <th>2</th>\n",
              "      <td>3</td>\n",
              "      <td>3</td>\n",
              "      <td>PAIDOFF</td>\n",
              "      <td>1000</td>\n",
              "      <td>15</td>\n",
              "      <td>2016-09-08</td>\n",
              "      <td>2016-09-22</td>\n",
              "      <td>27</td>\n",
              "      <td>college</td>\n",
              "      <td>male</td>\n",
              "    </tr>\n",
              "    <tr>\n",
              "      <th>3</th>\n",
              "      <td>4</td>\n",
              "      <td>4</td>\n",
              "      <td>PAIDOFF</td>\n",
              "      <td>1000</td>\n",
              "      <td>30</td>\n",
              "      <td>2016-09-09</td>\n",
              "      <td>2016-10-08</td>\n",
              "      <td>28</td>\n",
              "      <td>college</td>\n",
              "      <td>female</td>\n",
              "    </tr>\n",
              "    <tr>\n",
              "      <th>4</th>\n",
              "      <td>6</td>\n",
              "      <td>6</td>\n",
              "      <td>PAIDOFF</td>\n",
              "      <td>1000</td>\n",
              "      <td>30</td>\n",
              "      <td>2016-09-09</td>\n",
              "      <td>2016-10-08</td>\n",
              "      <td>29</td>\n",
              "      <td>college</td>\n",
              "      <td>male</td>\n",
              "    </tr>\n",
              "  </tbody>\n",
              "</table>\n",
              "</div>"
            ],
            "text/plain": [
              "   Unnamed: 0  Unnamed: 0.1 loan_status  ...  age             education  Gender\n",
              "0           0             0     PAIDOFF  ...   45  High School or Below    male\n",
              "1           2             2     PAIDOFF  ...   33              Bechalor  female\n",
              "2           3             3     PAIDOFF  ...   27               college    male\n",
              "3           4             4     PAIDOFF  ...   28               college  female\n",
              "4           6             6     PAIDOFF  ...   29               college    male\n",
              "\n",
              "[5 rows x 10 columns]"
            ]
          },
          "metadata": {
            "tags": []
          },
          "execution_count": 5
        }
      ]
    },
    {
      "cell_type": "markdown",
      "metadata": {
        "button": false,
        "new_sheet": false,
        "run_control": {
          "read_only": false
        },
        "id": "-4DGdgl7L4lJ"
      },
      "source": [
        "# 3. Data visualization\n",
        "\n"
      ]
    },
    {
      "cell_type": "markdown",
      "metadata": {
        "button": false,
        "new_sheet": false,
        "run_control": {
          "read_only": false
        },
        "id": "RaLJ16gPL4lK"
      },
      "source": [
        "Let’s see how many of each class is in our data set "
      ]
    },
    {
      "cell_type": "code",
      "metadata": {
        "button": false,
        "new_sheet": false,
        "run_control": {
          "read_only": false
        },
        "id": "ig-tstFKL4lK",
        "colab": {
          "base_uri": "https://localhost:8080/",
          "height": 369
        },
        "outputId": "2d1ad6c2-96ce-4748-e22d-b15eb0f864c0"
      },
      "source": [
        "df['loan_status'].value_counts().plot.bar()\n",
        "print(df['loan_status'].value_counts())"
      ],
      "execution_count": 6,
      "outputs": [
        {
          "output_type": "stream",
          "text": [
            "PAIDOFF       260\n",
            "COLLECTION     86\n",
            "Name: loan_status, dtype: int64\n"
          ],
          "name": "stdout"
        },
        {
          "output_type": "display_data",
          "data": {
            "image/png": "[encoded data removed]",
            "text/plain": [
              "<Figure size 432x288 with 1 Axes>"
            ]
          },
          "metadata": {
            "tags": [],
            "needs_background": "light"
          }
        }
      ]
    },
    {
      "cell_type": "markdown",
      "metadata": {
        "button": false,
        "new_sheet": false,
        "run_control": {
          "read_only": false
        },
        "id": "0ZGfNnn6L4lO"
      },
      "source": [
        "260 people have paid off the loan on time while 86 have gone into collection \n"
      ]
    },
    {
      "cell_type": "markdown",
      "metadata": {
        "button": false,
        "new_sheet": false,
        "run_control": {
          "read_only": false
        },
        "id": "xkWjr574L4lj"
      },
      "source": [
        "Lets look at gender:"
      ]
    },
    {
      "cell_type": "code",
      "metadata": {
        "button": false,
        "new_sheet": false,
        "run_control": {
          "read_only": false
        },
        "id": "aZoR51D9L4lk",
        "colab": {
          "base_uri": "https://localhost:8080/",
          "height": 399
        },
        "outputId": "b709439a-4315-43f7-8406-ae15bfac0b95"
      },
      "source": [
        "df.groupby(['Gender'])['loan_status'].value_counts(normalize=True).plot.bar()"
      ],
      "execution_count": 7,
      "outputs": [
        {
          "output_type": "execute_result",
          "data": {
            "text/plain": [
              "<matplotlib.axes._subplots.AxesSubplot at 0x7f809ef07e80>"
            ]
          },
          "metadata": {
            "tags": []
          },
          "execution_count": 7
        },
        {
          "output_type": "display_data",
          "data": {
            "image/png": "[encoded data removed]",
            "text/plain": [
              "<Figure size 432x288 with 1 Axes>"
            ]
          },
          "metadata": {
            "tags": [],
            "needs_background": "light"
          }
        }
      ]
    },
    {
      "cell_type": "markdown",
      "metadata": {
        "button": false,
        "new_sheet": false,
        "run_control": {
          "read_only": false
        },
        "id": "KK9IsSfrL4ln"
      },
      "source": [
        "86 % of female pay their loans while only 73 % of males pay their loan\n"
      ]
    },
    {
      "cell_type": "markdown",
      "metadata": {
        "id": "x67JmGL3L4lP"
      },
      "source": [
        "### Lets plot some columns to underestand data better:"
      ]
    },
    {
      "cell_type": "code",
      "metadata": {
        "id": "UGErDZz-L4lS",
        "colab": {
          "base_uri": "https://localhost:8080/",
          "height": 225
        },
        "outputId": "5c8f6e31-4b31-4df7-ef6d-254124b2d061"
      },
      "source": [
        "import seaborn as sns\n",
        "\n",
        "bins = np.linspace(df.Principal.min(), df.Principal.max(), 10)\n",
        "g = sns.FacetGrid(df, col=\"Gender\", hue=\"loan_status\", palette=\"Set1\", col_wrap=2)\n",
        "g.map(plt.hist, 'Principal', bins=bins, ec=\"k\")\n",
        "\n",
        "g.axes[-1].legend()\n",
        "plt.show()"
      ],
      "execution_count": 8,
      "outputs": [
        {
          "output_type": "display_data",
          "data": {
            "image/png": "[encoded data removed]",
            "text/plain": [
              "<Figure size 432x216 with 2 Axes>"
            ]
          },
          "metadata": {
            "tags": [],
            "needs_background": "light"
          }
        }
      ]
    },
    {
      "cell_type": "markdown",
      "metadata": {
        "id": "EPQFQ1sFCcTn"
      },
      "source": [
        "# 4. Data Pre-processing"
      ]
    },
    {
      "cell_type": "markdown",
      "metadata": {
        "button": false,
        "new_sheet": false,
        "run_control": {
          "read_only": false
        },
        "id": "mPNn-4zIL4lj"
      },
      "source": [
        "### Convert Categorical features to numerical values"
      ]
    },
    {
      "cell_type": "markdown",
      "metadata": {
        "button": false,
        "new_sheet": false,
        "run_control": {
          "read_only": false
        },
        "id": "mQtWpUA-L4lo"
      },
      "source": [
        "#### Lets convert male to 0 and female to 1:\n"
      ]
    },
    {
      "cell_type": "code",
      "metadata": {
        "button": false,
        "new_sheet": false,
        "run_control": {
          "read_only": false
        },
        "id": "z5GBuNIrL4lo",
        "colab": {
          "base_uri": "https://localhost:8080/",
          "height": 204
        },
        "outputId": "e3d1da7e-3150-4739-af43-6043ff6bd2ed"
      },
      "source": [
        "df['Gender'].replace(to_replace=['male','female'], value=[0,1],inplace=True)\n",
        "df.head()"
      ],
      "execution_count": 9,
      "outputs": [
        {
          "output_type": "execute_result",
          "data": {
            "text/html": [
              "<div>\n",
              "<style scoped>\n",
              "    .dataframe tbody tr th:only-of-type {\n",
              "        vertical-align: middle;\n",
              "    }\n",
              "\n",
              "    .dataframe tbody tr th {\n",
              "        vertical-align: top;\n",
              "    }\n",
              "\n",
              "    .dataframe thead th {\n",
              "        text-align: right;\n",
              "    }\n",
              "</style>\n",
              "<table border=\"1\" class=\"dataframe\">\n",
              "  <thead>\n",
              "    <tr style=\"text-align: right;\">\n",
              "      <th></th>\n",
              "      <th>Unnamed: 0</th>\n",
              "      <th>Unnamed: 0.1</th>\n",
              "      <th>loan_status</th>\n",
              "      <th>Principal</th>\n",
              "      <th>terms</th>\n",
              "      <th>effective_date</th>\n",
              "      <th>due_date</th>\n",
              "      <th>age</th>\n",
              "      <th>education</th>\n",
              "      <th>Gender</th>\n",
              "    </tr>\n",
              "  </thead>\n",
              "  <tbody>\n",
              "    <tr>\n",
              "      <th>0</th>\n",
              "      <td>0</td>\n",
              "      <td>0</td>\n",
              "      <td>PAIDOFF</td>\n",
              "      <td>1000</td>\n",
              "      <td>30</td>\n",
              "      <td>2016-09-08</td>\n",
              "      <td>2016-10-07</td>\n",
              "      <td>45</td>\n",
              "      <td>High School or Below</td>\n",
              "      <td>0</td>\n",
              "    </tr>\n",
              "    <tr>\n",
              "      <th>1</th>\n",
              "      <td>2</td>\n",
              "      <td>2</td>\n",
              "      <td>PAIDOFF</td>\n",
              "      <td>1000</td>\n",
              "      <td>30</td>\n",
              "      <td>2016-09-08</td>\n",
              "      <td>2016-10-07</td>\n",
              "      <td>33</td>\n",
              "      <td>Bechalor</td>\n",
              "      <td>1</td>\n",
              "    </tr>\n",
              "    <tr>\n",
              "      <th>2</th>\n",
              "      <td>3</td>\n",
              "      <td>3</td>\n",
              "      <td>PAIDOFF</td>\n",
              "      <td>1000</td>\n",
              "      <td>15</td>\n",
              "      <td>2016-09-08</td>\n",
              "      <td>2016-09-22</td>\n",
              "      <td>27</td>\n",
              "      <td>college</td>\n",
              "      <td>0</td>\n",
              "    </tr>\n",
              "    <tr>\n",
              "      <th>3</th>\n",
              "      <td>4</td>\n",
              "      <td>4</td>\n",
              "      <td>PAIDOFF</td>\n",
              "      <td>1000</td>\n",
              "      <td>30</td>\n",
              "      <td>2016-09-09</td>\n",
              "      <td>2016-10-08</td>\n",
              "      <td>28</td>\n",
              "      <td>college</td>\n",
              "      <td>1</td>\n",
              "    </tr>\n",
              "    <tr>\n",
              "      <th>4</th>\n",
              "      <td>6</td>\n",
              "      <td>6</td>\n",
              "      <td>PAIDOFF</td>\n",
              "      <td>1000</td>\n",
              "      <td>30</td>\n",
              "      <td>2016-09-09</td>\n",
              "      <td>2016-10-08</td>\n",
              "      <td>29</td>\n",
              "      <td>college</td>\n",
              "      <td>0</td>\n",
              "    </tr>\n",
              "  </tbody>\n",
              "</table>\n",
              "</div>"
            ],
            "text/plain": [
              "   Unnamed: 0  Unnamed: 0.1 loan_status  ...  age             education Gender\n",
              "0           0             0     PAIDOFF  ...   45  High School or Below      0\n",
              "1           2             2     PAIDOFF  ...   33              Bechalor      1\n",
              "2           3             3     PAIDOFF  ...   27               college      0\n",
              "3           4             4     PAIDOFF  ...   28               college      1\n",
              "4           6             6     PAIDOFF  ...   29               college      0\n",
              "\n",
              "[5 rows x 10 columns]"
            ]
          },
          "metadata": {
            "tags": []
          },
          "execution_count": 9
        }
      ]
    },
    {
      "cell_type": "markdown",
      "metadata": {
        "button": false,
        "new_sheet": false,
        "run_control": {
          "read_only": false
        },
        "id": "2TLsak_WL4lr"
      },
      "source": [
        "### How about education?\n"
      ]
    },
    {
      "cell_type": "code",
      "metadata": {
        "button": false,
        "new_sheet": false,
        "run_control": {
          "read_only": false
        },
        "id": "2iYl0TMhL4ls",
        "colab": {
          "base_uri": "https://localhost:8080/"
        },
        "outputId": "f559f719-0b0a-4eaa-b122-806fd42634c6"
      },
      "source": [
        "df.groupby(['education'])['loan_status'].value_counts(normalize=True)"
      ],
      "execution_count": 10,
      "outputs": [
        {
          "output_type": "execute_result",
          "data": {
            "text/plain": [
              "education             loan_status\n",
              "Bechalor              PAIDOFF        0.750000\n",
              "                      COLLECTION     0.250000\n",
              "High School or Below  PAIDOFF        0.741722\n",
              "                      COLLECTION     0.258278\n",
              "Master or Above       COLLECTION     0.500000\n",
              "                      PAIDOFF        0.500000\n",
              "college               PAIDOFF        0.765101\n",
              "                      COLLECTION     0.234899\n",
              "Name: loan_status, dtype: float64"
            ]
          },
          "metadata": {
            "tags": []
          },
          "execution_count": 10
        }
      ]
    },
    {
      "cell_type": "code",
      "metadata": {
        "colab": {
          "base_uri": "https://localhost:8080/",
          "height": 473
        },
        "id": "gZFp4J6ITVIv",
        "outputId": "e56c24a2-39e7-47cd-bee1-df7e4f6f8c6a"
      },
      "source": [
        "df.groupby(['education'])['loan_status'].value_counts(normalize=True).plot.bar()"
      ],
      "execution_count": 11,
      "outputs": [
        {
          "output_type": "execute_result",
          "data": {
            "text/plain": [
              "<matplotlib.axes._subplots.AxesSubplot at 0x7f809b8cb0b8>"
            ]
          },
          "metadata": {
            "tags": []
          },
          "execution_count": 11
        },
        {
          "output_type": "display_data",
          "data": {
            "image/png": "[encoded data removed]",
            "text/plain": [
              "<Figure size 432x288 with 1 Axes>"
            ]
          },
          "metadata": {
            "tags": [],
            "needs_background": "light"
          }
        }
      ]
    },
    {
      "cell_type": "markdown",
      "metadata": {
        "button": false,
        "new_sheet": false,
        "run_control": {
          "read_only": false
        },
        "id": "Zz0BRUBKL4lv"
      },
      "source": [
        "### Features before One Hot Encoding"
      ]
    },
    {
      "cell_type": "code",
      "metadata": {
        "colab": {
          "base_uri": "https://localhost:8080/",
          "height": 204
        },
        "id": "eBcmdyA5JUnp",
        "outputId": "3e8fb02e-f8a0-46d4-d820-60d67f0e20ef"
      },
      "source": [
        "Feature = df[['Principal','terms','age','Gender','education']]\n",
        "Feature.head()"
      ],
      "execution_count": 12,
      "outputs": [
        {
          "output_type": "execute_result",
          "data": {
            "text/html": [
              "<div>\n",
              "<style scoped>\n",
              "    .dataframe tbody tr th:only-of-type {\n",
              "        vertical-align: middle;\n",
              "    }\n",
              "\n",
              "    .dataframe tbody tr th {\n",
              "        vertical-align: top;\n",
              "    }\n",
              "\n",
              "    .dataframe thead th {\n",
              "        text-align: right;\n",
              "    }\n",
              "</style>\n",
              "<table border=\"1\" class=\"dataframe\">\n",
              "  <thead>\n",
              "    <tr style=\"text-align: right;\">\n",
              "      <th></th>\n",
              "      <th>Principal</th>\n",
              "      <th>terms</th>\n",
              "      <th>age</th>\n",
              "      <th>Gender</th>\n",
              "      <th>education</th>\n",
              "    </tr>\n",
              "  </thead>\n",
              "  <tbody>\n",
              "    <tr>\n",
              "      <th>0</th>\n",
              "      <td>1000</td>\n",
              "      <td>30</td>\n",
              "      <td>45</td>\n",
              "      <td>0</td>\n",
              "      <td>High School or Below</td>\n",
              "    </tr>\n",
              "    <tr>\n",
              "      <th>1</th>\n",
              "      <td>1000</td>\n",
              "      <td>30</td>\n",
              "      <td>33</td>\n",
              "      <td>1</td>\n",
              "      <td>Bechalor</td>\n",
              "    </tr>\n",
              "    <tr>\n",
              "      <th>2</th>\n",
              "      <td>1000</td>\n",
              "      <td>15</td>\n",
              "      <td>27</td>\n",
              "      <td>0</td>\n",
              "      <td>college</td>\n",
              "    </tr>\n",
              "    <tr>\n",
              "      <th>3</th>\n",
              "      <td>1000</td>\n",
              "      <td>30</td>\n",
              "      <td>28</td>\n",
              "      <td>1</td>\n",
              "      <td>college</td>\n",
              "    </tr>\n",
              "    <tr>\n",
              "      <th>4</th>\n",
              "      <td>1000</td>\n",
              "      <td>30</td>\n",
              "      <td>29</td>\n",
              "      <td>0</td>\n",
              "      <td>college</td>\n",
              "    </tr>\n",
              "  </tbody>\n",
              "</table>\n",
              "</div>"
            ],
            "text/plain": [
              "   Principal  terms  age  Gender             education\n",
              "0       1000     30   45       0  High School or Below\n",
              "1       1000     30   33       1              Bechalor\n",
              "2       1000     15   27       0               college\n",
              "3       1000     30   28       1               college\n",
              "4       1000     30   29       0               college"
            ]
          },
          "metadata": {
            "tags": []
          },
          "execution_count": 12
        }
      ]
    },
    {
      "cell_type": "markdown",
      "metadata": {
        "button": false,
        "new_sheet": false,
        "run_control": {
          "read_only": false
        },
        "id": "ZO9CHBf1L4l0"
      },
      "source": [
        "### Using One Hot Encoding technique to convert categorical varables to binary  variables and appending them to the feature Data Frame. "
      ]
    },
    {
      "cell_type": "code",
      "metadata": {
        "button": false,
        "new_sheet": false,
        "run_control": {
          "read_only": false
        },
        "id": "D1Lud5RPL4l0",
        "colab": {
          "base_uri": "https://localhost:8080/",
          "height": 204
        },
        "outputId": "4b5e2a09-9786-4b2a-da09-8ed6d0c3b1e2"
      },
      "source": [
        "Feature = pd.concat([Feature,pd.get_dummies(df['education'])], axis=1)\n",
        "Feature.drop(['education'], axis = 1,inplace=True)\n",
        "Feature.head()\n"
      ],
      "execution_count": 13,
      "outputs": [
        {
          "output_type": "execute_result",
          "data": {
            "text/html": [
              "<div>\n",
              "<style scoped>\n",
              "    .dataframe tbody tr th:only-of-type {\n",
              "        vertical-align: middle;\n",
              "    }\n",
              "\n",
              "    .dataframe tbody tr th {\n",
              "        vertical-align: top;\n",
              "    }\n",
              "\n",
              "    .dataframe thead th {\n",
              "        text-align: right;\n",
              "    }\n",
              "</style>\n",
              "<table border=\"1\" class=\"dataframe\">\n",
              "  <thead>\n",
              "    <tr style=\"text-align: right;\">\n",
              "      <th></th>\n",
              "      <th>Principal</th>\n",
              "      <th>terms</th>\n",
              "      <th>age</th>\n",
              "      <th>Gender</th>\n",
              "      <th>Bechalor</th>\n",
              "      <th>High School or Below</th>\n",
              "      <th>Master or Above</th>\n",
              "      <th>college</th>\n",
              "    </tr>\n",
              "  </thead>\n",
              "  <tbody>\n",
              "    <tr>\n",
              "      <th>0</th>\n",
              "      <td>1000</td>\n",
              "      <td>30</td>\n",
              "      <td>45</td>\n",
              "      <td>0</td>\n",
              "      <td>0</td>\n",
              "      <td>1</td>\n",
              "      <td>0</td>\n",
              "      <td>0</td>\n",
              "    </tr>\n",
              "    <tr>\n",
              "      <th>1</th>\n",
              "      <td>1000</td>\n",
              "      <td>30</td>\n",
              "      <td>33</td>\n",
              "      <td>1</td>\n",
              "      <td>1</td>\n",
              "      <td>0</td>\n",
              "      <td>0</td>\n",
              "      <td>0</td>\n",
              "    </tr>\n",
              "    <tr>\n",
              "      <th>2</th>\n",
              "      <td>1000</td>\n",
              "      <td>15</td>\n",
              "      <td>27</td>\n",
              "      <td>0</td>\n",
              "      <td>0</td>\n",
              "      <td>0</td>\n",
              "      <td>0</td>\n",
              "      <td>1</td>\n",
              "    </tr>\n",
              "    <tr>\n",
              "      <th>3</th>\n",
              "      <td>1000</td>\n",
              "      <td>30</td>\n",
              "      <td>28</td>\n",
              "      <td>1</td>\n",
              "      <td>0</td>\n",
              "      <td>0</td>\n",
              "      <td>0</td>\n",
              "      <td>1</td>\n",
              "    </tr>\n",
              "    <tr>\n",
              "      <th>4</th>\n",
              "      <td>1000</td>\n",
              "      <td>30</td>\n",
              "      <td>29</td>\n",
              "      <td>0</td>\n",
              "      <td>0</td>\n",
              "      <td>0</td>\n",
              "      <td>0</td>\n",
              "      <td>1</td>\n",
              "    </tr>\n",
              "  </tbody>\n",
              "</table>\n",
              "</div>"
            ],
            "text/plain": [
              "   Principal  terms  age  ...  High School or Below  Master or Above  college\n",
              "0       1000     30   45  ...                     1                0        0\n",
              "1       1000     30   33  ...                     0                0        0\n",
              "2       1000     15   27  ...                     0                0        1\n",
              "3       1000     30   28  ...                     0                0        1\n",
              "4       1000     30   29  ...                     0                0        1\n",
              "\n",
              "[5 rows x 8 columns]"
            ]
          },
          "metadata": {
            "tags": []
          },
          "execution_count": 13
        }
      ]
    },
    {
      "cell_type": "markdown",
      "metadata": {
        "button": false,
        "new_sheet": false,
        "run_control": {
          "read_only": false
        },
        "id": "Iwmp8waPL4l3"
      },
      "source": [
        "## 5. Feature selection and Label Encoding."
      ]
    },
    {
      "cell_type": "markdown",
      "metadata": {
        "button": false,
        "new_sheet": false,
        "run_control": {
          "read_only": false
        },
        "id": "TJSJYK77L4l3"
      },
      "source": [
        "Lets defind feature sets, X:"
      ]
    },
    {
      "cell_type": "code",
      "metadata": {
        "button": false,
        "new_sheet": false,
        "run_control": {
          "read_only": false
        },
        "id": "tLoLwTLkL4l3",
        "colab": {
          "base_uri": "https://localhost:8080/",
          "height": 204
        },
        "outputId": "fda142d6-d950-42da-dd9d-cbc5e5b70a99"
      },
      "source": [
        "X = Feature\n",
        "X.head()"
      ],
      "execution_count": 14,
      "outputs": [
        {
          "output_type": "execute_result",
          "data": {
            "text/html": [
              "<div>\n",
              "<style scoped>\n",
              "    .dataframe tbody tr th:only-of-type {\n",
              "        vertical-align: middle;\n",
              "    }\n",
              "\n",
              "    .dataframe tbody tr th {\n",
              "        vertical-align: top;\n",
              "    }\n",
              "\n",
              "    .dataframe thead th {\n",
              "        text-align: right;\n",
              "    }\n",
              "</style>\n",
              "<table border=\"1\" class=\"dataframe\">\n",
              "  <thead>\n",
              "    <tr style=\"text-align: right;\">\n",
              "      <th></th>\n",
              "      <th>Principal</th>\n",
              "      <th>terms</th>\n",
              "      <th>age</th>\n",
              "      <th>Gender</th>\n",
              "      <th>Bechalor</th>\n",
              "      <th>High School or Below</th>\n",
              "      <th>Master or Above</th>\n",
              "      <th>college</th>\n",
              "    </tr>\n",
              "  </thead>\n",
              "  <tbody>\n",
              "    <tr>\n",
              "      <th>0</th>\n",
              "      <td>1000</td>\n",
              "      <td>30</td>\n",
              "      <td>45</td>\n",
              "      <td>0</td>\n",
              "      <td>0</td>\n",
              "      <td>1</td>\n",
              "      <td>0</td>\n",
              "      <td>0</td>\n",
              "    </tr>\n",
              "    <tr>\n",
              "      <th>1</th>\n",
              "      <td>1000</td>\n",
              "      <td>30</td>\n",
              "      <td>33</td>\n",
              "      <td>1</td>\n",
              "      <td>1</td>\n",
              "      <td>0</td>\n",
              "      <td>0</td>\n",
              "      <td>0</td>\n",
              "    </tr>\n",
              "    <tr>\n",
              "      <th>2</th>\n",
              "      <td>1000</td>\n",
              "      <td>15</td>\n",
              "      <td>27</td>\n",
              "      <td>0</td>\n",
              "      <td>0</td>\n",
              "      <td>0</td>\n",
              "      <td>0</td>\n",
              "      <td>1</td>\n",
              "    </tr>\n",
              "    <tr>\n",
              "      <th>3</th>\n",
              "      <td>1000</td>\n",
              "      <td>30</td>\n",
              "      <td>28</td>\n",
              "      <td>1</td>\n",
              "      <td>0</td>\n",
              "      <td>0</td>\n",
              "      <td>0</td>\n",
              "      <td>1</td>\n",
              "    </tr>\n",
              "    <tr>\n",
              "      <th>4</th>\n",
              "      <td>1000</td>\n",
              "      <td>30</td>\n",
              "      <td>29</td>\n",
              "      <td>0</td>\n",
              "      <td>0</td>\n",
              "      <td>0</td>\n",
              "      <td>0</td>\n",
              "      <td>1</td>\n",
              "    </tr>\n",
              "  </tbody>\n",
              "</table>\n",
              "</div>"
            ],
            "text/plain": [
              "   Principal  terms  age  ...  High School or Below  Master or Above  college\n",
              "0       1000     30   45  ...                     1                0        0\n",
              "1       1000     30   33  ...                     0                0        0\n",
              "2       1000     15   27  ...                     0                0        1\n",
              "3       1000     30   28  ...                     0                0        1\n",
              "4       1000     30   29  ...                     0                0        1\n",
              "\n",
              "[5 rows x 8 columns]"
            ]
          },
          "metadata": {
            "tags": []
          },
          "execution_count": 14
        }
      ]
    },
    {
      "cell_type": "markdown",
      "metadata": {
        "button": false,
        "new_sheet": false,
        "run_control": {
          "read_only": false
        },
        "id": "nHBNsgFSL4l7"
      },
      "source": [
        "### What are our lables?"
      ]
    },
    {
      "cell_type": "code",
      "metadata": {
        "button": false,
        "new_sheet": false,
        "run_control": {
          "read_only": false
        },
        "id": "v-ZLFNFNL4l7",
        "colab": {
          "base_uri": "https://localhost:8080/"
        },
        "outputId": "22a9106a-a465-40d2-e50c-781e01dc69e6"
      },
      "source": [
        "y = df['loan_status'].values\n",
        "y[0:10]"
      ],
      "execution_count": 15,
      "outputs": [
        {
          "output_type": "execute_result",
          "data": {
            "text/plain": [
              "array(['PAIDOFF', 'PAIDOFF', 'PAIDOFF', 'PAIDOFF', 'PAIDOFF', 'PAIDOFF',\n",
              "       'PAIDOFF', 'PAIDOFF', 'PAIDOFF', 'PAIDOFF'], dtype=object)"
            ]
          },
          "metadata": {
            "tags": []
          },
          "execution_count": 15
        }
      ]
    },
    {
      "cell_type": "markdown",
      "metadata": {
        "id": "YGAtjCrmMupS"
      },
      "source": [
        "### Transform: PAIDOFF = 1, COLLECTION = 0."
      ]
    },
    {
      "cell_type": "code",
      "metadata": {
        "id": "I2phOXqDL4l-",
        "colab": {
          "base_uri": "https://localhost:8080/"
        },
        "outputId": "527d9242-78d5-4810-dc1a-a707aa152495"
      },
      "source": [
        "from sklearn import preprocessing\n",
        "\n",
        "le_loan_sta = preprocessing.LabelEncoder()\n",
        "le_loan_sta.fit(['PAIDOFF','COLLECTION'])\n",
        "y = le_loan_sta.transform(y) \n",
        "y"
      ],
      "execution_count": 16,
      "outputs": [
        {
          "output_type": "execute_result",
          "data": {
            "text/plain": [
              "array([1, 1, 1, 1, 1, 1, 1, 1, 1, 1, 1, 1, 1, 1, 1, 1, 1, 1, 1, 1, 1, 1,\n",
              "       1, 1, 1, 1, 1, 1, 1, 1, 1, 1, 1, 1, 1, 1, 1, 1, 1, 1, 1, 1, 1, 1,\n",
              "       1, 1, 1, 1, 1, 1, 1, 1, 1, 1, 1, 1, 1, 1, 1, 1, 1, 1, 1, 1, 1, 1,\n",
              "       1, 1, 1, 1, 1, 1, 1, 1, 1, 1, 1, 1, 1, 1, 1, 1, 1, 1, 1, 1, 1, 1,\n",
              "       1, 1, 1, 1, 1, 1, 1, 1, 1, 1, 1, 1, 1, 1, 1, 1, 1, 1, 1, 1, 1, 1,\n",
              "       1, 1, 1, 1, 1, 1, 1, 1, 1, 1, 1, 1, 1, 1, 1, 1, 1, 1, 1, 1, 1, 1,\n",
              "       1, 1, 1, 1, 1, 1, 1, 1, 1, 1, 1, 1, 1, 1, 1, 1, 1, 1, 1, 1, 1, 1,\n",
              "       1, 1, 1, 1, 1, 1, 1, 1, 1, 1, 1, 1, 1, 1, 1, 1, 1, 1, 1, 1, 1, 1,\n",
              "       1, 1, 1, 1, 1, 1, 1, 1, 1, 1, 1, 1, 1, 1, 1, 1, 1, 1, 1, 1, 1, 1,\n",
              "       1, 1, 1, 1, 1, 1, 1, 1, 1, 1, 1, 1, 1, 1, 1, 1, 1, 1, 1, 1, 1, 1,\n",
              "       1, 1, 1, 1, 1, 1, 1, 1, 1, 1, 1, 1, 1, 1, 1, 1, 1, 1, 1, 1, 1, 1,\n",
              "       1, 1, 1, 1, 1, 1, 1, 1, 1, 1, 1, 1, 1, 1, 1, 1, 1, 1, 0, 0, 0, 0,\n",
              "       0, 0, 0, 0, 0, 0, 0, 0, 0, 0, 0, 0, 0, 0, 0, 0, 0, 0, 0, 0, 0, 0,\n",
              "       0, 0, 0, 0, 0, 0, 0, 0, 0, 0, 0, 0, 0, 0, 0, 0, 0, 0, 0, 0, 0, 0,\n",
              "       0, 0, 0, 0, 0, 0, 0, 0, 0, 0, 0, 0, 0, 0, 0, 0, 0, 0, 0, 0, 0, 0,\n",
              "       0, 0, 0, 0, 0, 0, 0, 0, 0, 0, 0, 0, 0, 0, 0, 0])"
            ]
          },
          "metadata": {
            "tags": []
          },
          "execution_count": 16
        }
      ]
    },
    {
      "cell_type": "markdown",
      "metadata": {
        "button": false,
        "new_sheet": false,
        "run_control": {
          "read_only": false
        },
        "id": "9B1OETd8L4mB"
      },
      "source": [
        "## 6. Data Normalization.\n",
        "#### getting the data ready for implimentation\n",
        "\n",
        "\n",
        " "
      ]
    },
    {
      "cell_type": "markdown",
      "metadata": {
        "button": false,
        "new_sheet": false,
        "run_control": {
          "read_only": false
        },
        "id": "WHNxuErlL4mB"
      },
      "source": [
        "Data Standardization give data zero mean and unit variance (technically should be done after train test split )"
      ]
    },
    {
      "cell_type": "code",
      "metadata": {
        "button": false,
        "new_sheet": false,
        "run_control": {
          "read_only": false
        },
        "id": "52eee9goL4mC",
        "colab": {
          "base_uri": "https://localhost:8080/"
        },
        "outputId": "ed6b55a4-7f95-4a85-f08d-24520bb86ce8"
      },
      "source": [
        "X = preprocessing.StandardScaler().fit(X).transform(X)\n",
        "X[0:5]"
      ],
      "execution_count": 17,
      "outputs": [
        {
          "output_type": "execute_result",
          "data": {
            "text/plain": [
              "array([[ 0.51578458,  0.92071769,  2.33152555, -0.42056004, -0.38170062,\n",
              "         1.13639374, -0.07624929, -0.86968108],\n",
              "       [ 0.51578458,  0.92071769,  0.34170148,  2.37778177,  2.61985426,\n",
              "        -0.87997669, -0.07624929, -0.86968108],\n",
              "       [ 0.51578458, -0.95911111, -0.65321055, -0.42056004, -0.38170062,\n",
              "        -0.87997669, -0.07624929,  1.14984679],\n",
              "       [ 0.51578458,  0.92071769, -0.48739188,  2.37778177, -0.38170062,\n",
              "        -0.87997669, -0.07624929,  1.14984679],\n",
              "       [ 0.51578458,  0.92071769, -0.3215732 , -0.42056004, -0.38170062,\n",
              "        -0.87997669, -0.07624929,  1.14984679]])"
            ]
          },
          "metadata": {
            "tags": []
          },
          "execution_count": 17
        }
      ]
    },
    {
      "cell_type": "markdown",
      "metadata": {
        "button": false,
        "new_sheet": false,
        "run_control": {
          "read_only": false
        },
        "id": "WuvrSkHIL4mF"
      },
      "source": [
        "# Classification Using Different Algorithms."
      ]
    },
    {
      "cell_type": "code",
      "metadata": {
        "id": "IAD_0REmWhLO"
      },
      "source": [
        "# import scoring methods\n",
        "from sklearn.metrics import jaccard_score\n",
        "from sklearn.metrics import f1_score\n",
        "from sklearn.model_selection import cross_val_score\n"
      ],
      "execution_count": 18,
      "outputs": []
    },
    {
      "cell_type": "markdown",
      "metadata": {
        "id": "a6VzjO4_Wtmt"
      },
      "source": [
        "## 7. Train-Test Split"
      ]
    },
    {
      "cell_type": "code",
      "metadata": {
        "id": "ynmoPO9ZL4mG"
      },
      "source": [
        "#Train-Test Split\n",
        "from sklearn.model_selection import train_test_split\n",
        "X_train, X_test, y_train, y_test = train_test_split(X, y, test_size=0.2)"
      ],
      "execution_count": 19,
      "outputs": []
    },
    {
      "cell_type": "markdown",
      "metadata": {
        "button": false,
        "new_sheet": false,
        "run_control": {
          "read_only": false
        },
        "id": "GVz7H8s_L4mF"
      },
      "source": [
        "Let's use the algorithms one by one:\n"
      ]
    },
    {
      "cell_type": "markdown",
      "metadata": {
        "id": "4yzXSEMPL4mG"
      },
      "source": [
        "# 8. a) K Nearest Neighbor(KNN).\n",
        "- Finding the best __k__."
      ]
    },
    {
      "cell_type": "code",
      "metadata": {
        "id": "6_esYe8JL4mJ",
        "colab": {
          "base_uri": "https://localhost:8080/"
        },
        "outputId": "40d1e346-fb18-4d8e-d9cb-98cb8bfe4b24"
      },
      "source": [
        "#Training\n",
        "from sklearn.neighbors import KNeighborsClassifier\n",
        "from sklearn import metrics\n",
        "\n",
        "Ks = 11\n",
        "\n",
        "std_acc = np.zeros((Ks-1))\n",
        "mean_acc = np.zeros((Ks-1))\n",
        "ConfustionMx = [];\n",
        "for n in range(1,Ks):\n",
        "    \n",
        "    #Train Model and Predict  \n",
        "    neigh = KNeighborsClassifier(n_neighbors = n).fit(X_train,y_train)\n",
        "    yhat=neigh.predict(X_test)\n",
        "    \n",
        "    #Accuaracy\n",
        "    mean_acc[n-1] = metrics.accuracy_score(y_test, yhat)\n",
        "    std_acc[n-1]=np.std(yhat==y_test)/np.sqrt(yhat.shape[0])\n",
        "    print('k =',n,'accuaracy:', np.round(mean_acc[n-1], 2))\n",
        "   "
      ],
      "execution_count": 20,
      "outputs": [
        {
          "output_type": "stream",
          "text": [
            "k = 1 accuaracy: 0.63\n",
            "k = 2 accuaracy: 0.46\n",
            "k = 3 accuaracy: 0.7\n",
            "k = 4 accuaracy: 0.56\n",
            "k = 5 accuaracy: 0.73\n",
            "k = 6 accuaracy: 0.64\n",
            "k = 7 accuaracy: 0.74\n",
            "k = 8 accuaracy: 0.71\n",
            "k = 9 accuaracy: 0.74\n",
            "k = 10 accuaracy: 0.71\n"
          ],
          "name": "stdout"
        }
      ]
    },
    {
      "cell_type": "code",
      "metadata": {
        "id": "Jl-LwIBEL4mM",
        "colab": {
          "base_uri": "https://localhost:8080/",
          "height": 348
        },
        "outputId": "8a4e189d-13c2-4385-f84a-67beeb49f773"
      },
      "source": [
        "plt.plot(range(1,Ks),mean_acc,'g')\n",
        "plt.fill_between(range(1,Ks),mean_acc - 1 * std_acc,mean_acc + 1 * std_acc, alpha=0.10)\n",
        "plt.legend(('Accuracy ', '+/- 3xstd'))\n",
        "plt.ylabel('Accuracy ')\n",
        "plt.xlabel('Number of Neighbours(K)')\n",
        "plt.tight_layout()\n",
        "plt.show()\n",
        "\n",
        "print( \"The best accuracy was with\", mean_acc.max(), \"with k =\", mean_acc.argmax()+1) \n",
        "neighAlgo = KNeighborsClassifier(n_neighbors = mean_acc.argmax()+1).fit(X_train,y_train)\n",
        "yhat=neighAlgo.predict(X_test)\n",
        "\n",
        "print('Jaccard index:',metrics.jaccard_score(y_test, yhat))\n",
        "print('F1 score:',metrics.f1_score(y_test, yhat))"
      ],
      "execution_count": 21,
      "outputs": [
        {
          "output_type": "display_data",
          "data": {
            "image/png": "[encoded data removed]",
            "text/plain": [
              "<Figure size 432x288 with 1 Axes>"
            ]
          },
          "metadata": {
            "tags": [],
            "needs_background": "light"
          }
        },
        {
          "output_type": "stream",
          "text": [
            "The best accuracy was with 0.7428571428571429 with k = 7\n",
            "Jaccard index: 0.7391304347826086\n",
            "F1 score: 0.8500000000000001\n"
          ],
          "name": "stdout"
        }
      ]
    },
    {
      "cell_type": "markdown",
      "metadata": {
        "id": "7uiGhzEwL4mR"
      },
      "source": [
        "# 8. b) Decision Tree"
      ]
    },
    {
      "cell_type": "code",
      "metadata": {
        "id": "mex_ui1kL4mR",
        "colab": {
          "base_uri": "https://localhost:8080/"
        },
        "outputId": "c9adafda-430b-445d-f189-e30d678542b0"
      },
      "source": [
        "from sklearn.tree import DecisionTreeClassifier\n",
        "from sklearn.externals.six import StringIO\n",
        "import matplotlib.image as mpimg\n",
        "from sklearn import tree\n",
        "\n",
        "#Modelling\n",
        "clf_tree = tree.DecisionTreeClassifier()\n",
        "clf_tree = clf_tree.fit(X_train, y_train)\n",
        "\n",
        "#Prediction\n",
        "y_pred=clf_tree.predict(X_train)\n",
        "\n",
        "trainScores = {}\n",
        "trainScores['Tree-jaccard']=jaccard_score(y_train, y_pred)\n",
        "trainScores['Tree-f1-score']=f1_score(y_train, y_pred, average='weighted')\n",
        "\n",
        "trainScores"
      ],
      "execution_count": 22,
      "outputs": [
        {
          "output_type": "stream",
          "text": [
            "/usr/local/lib/python3.6/dist-packages/sklearn/externals/six.py:31: FutureWarning: The module is deprecated in version 0.21 and will be removed in version 0.23 since we've dropped support for Python 2.7. Please rely on the official version of six (https://pypi.org/project/six/).\n",
            "  \"(https://pypi.org/project/six/).\", FutureWarning)\n"
          ],
          "name": "stderr"
        },
        {
          "output_type": "execute_result",
          "data": {
            "text/plain": [
              "{'Tree-f1-score': 0.8474117399027693, 'Tree-jaccard': 0.8027522935779816}"
            ]
          },
          "metadata": {
            "tags": []
          },
          "execution_count": 22
        }
      ]
    },
    {
      "cell_type": "code",
      "metadata": {
        "id": "BfbltMhdL4mV"
      },
      "source": [
        "#!pip install graphviz\n",
        "#!pip install pydotplus\n",
        "import graphviz \n",
        "import pydotplus"
      ],
      "execution_count": 23,
      "outputs": []
    },
    {
      "cell_type": "code",
      "metadata": {
        "id": "pUq6ROtBL4mY",
        "colab": {
          "base_uri": "https://localhost:8080/",
          "height": 736
        },
        "outputId": "6e02a161-834d-4b9e-c3d1-b8797dc61198"
      },
      "source": [
        "dot_data = tree.export_graphviz(clf_tree, out_file=None, \n",
        "                     feature_names=['Principal',\n",
        "                                    'terms','age',\n",
        "                                    'Gender',\n",
        "                                    'Bechalor',\n",
        "                                    'High School or Below',\n",
        "                                    'Master or Above',\n",
        "                                    'college'\n",
        "                                   ],  \n",
        "                     class_names='loan_status',  \n",
        "                     filled=True, rounded=True,  \n",
        "                     special_characters=True) \n",
        "graph = pydotplus.graph_from_dot_data(dot_data)\n",
        "graph.set_size('\"8,8!\"')\n",
        "gvz_graph = graphviz.Source(graph.to_string())\n",
        "\n",
        "gvz_graph"
      ],
      "execution_count": 24,
      "outputs": [
        {
          "output_type": "execute_result",
          "data": {
            "text/plain": [
              "<graphviz.files.Source at 0x7f809783af60>"
            ],
            "image/svg+xml": "<?xml version=\"1.0\" encoding=\"UTF-8\" standalone=\"no\"?>\n<!DOCTYPE svg PUBLIC \"-//W3C//DTD SVG 1.1//EN\"\n \"http://www.w3.org/Graphics/SVG/1.1/DTD/svg11.dtd\">\n<!-- Generated by graphviz version 2.40.1 (20161225.0304)\n -->\n<!-- Title: Tree Pages: 1 -->\n<svg width=\"576pt\" height=\"536pt\"\n viewBox=\"0.00 0.00 576.00 536.42\" xmlns=\"http://www.w3.org/2000/svg\" xmlns:xlink=\"http://www.w3.org/1999/xlink\">\n<g id=\"graph0\" class=\"graph\" transform=\"scale(.2083 .2083) rotate(0) translate(4 2571)\">\n<title>Tree</title>\n<polygon fill=\"#ffffff\" stroke=\"transparent\" points=\"-4,4 -4,-2571 2761,-2571 2761,4 -4,4\"/>\n<!-- 0 -->\n<g id=\"node1\" class=\"node\">\n<title>0</title>\n<path fill=\"#82c1ef\" stroke=\"#000000\" d=\"M1900.5,-2567C1900.5,-2567 1800.5,-2567 1800.5,-2567 1794.5,-2567 1788.5,-2561 1788.5,-2555 1788.5,-2555 1788.5,-2496 1788.5,-2496 1788.5,-2490 1794.5,-2484 1800.5,-2484 1800.5,-2484 1900.5,-2484 1900.5,-2484 1906.5,-2484 1912.5,-2490 1912.5,-2496 1912.5,-2496 1912.5,-2555 1912.5,-2555 1912.5,-2561 1906.5,-2567 1900.5,-2567\"/>\n<text text-anchor=\"start\" x=\"1808\" y=\"-2551.8\" font-family=\"Helvetica,sans-Serif\" font-size=\"14.00\" fill=\"#000000\">terms ≤ &#45;1.46</text>\n<text text-anchor=\"start\" x=\"1812.5\" y=\"-2536.8\" font-family=\"Helvetica,sans-Serif\" font-size=\"14.00\" fill=\"#000000\">gini = 0.392</text>\n<text text-anchor=\"start\" x=\"1802.5\" y=\"-2521.8\" font-family=\"Helvetica,sans-Serif\" font-size=\"14.00\" fill=\"#000000\">samples = 276</text>\n<text text-anchor=\"start\" x=\"1796.5\" y=\"-2506.8\" font-family=\"Helvetica,sans-Serif\" font-size=\"14.00\" fill=\"#000000\">value = [74, 202]</text>\n<text text-anchor=\"start\" x=\"1821.5\" y=\"-2491.8\" font-family=\"Helvetica,sans-Serif\" font-size=\"14.00\" fill=\"#000000\">class = o</text>\n</g>\n<!-- 1 -->\n<g id=\"node2\" class=\"node\">\n<title>1</title>\n<path fill=\"#399de5\" stroke=\"#000000\" d=\"M1825,-2440.5C1825,-2440.5 1742,-2440.5 1742,-2440.5 1736,-2440.5 1730,-2434.5 1730,-2428.5 1730,-2428.5 1730,-2384.5 1730,-2384.5 1730,-2378.5 1736,-2372.5 1742,-2372.5 1742,-2372.5 1825,-2372.5 1825,-2372.5 1831,-2372.5 1837,-2378.5 1837,-2384.5 1837,-2384.5 1837,-2428.5 1837,-2428.5 1837,-2434.5 1831,-2440.5 1825,-2440.5\"/>\n<text text-anchor=\"start\" x=\"1754\" y=\"-2425.3\" font-family=\"Helvetica,sans-Serif\" font-size=\"14.00\" fill=\"#000000\">gini = 0.0</text>\n<text text-anchor=\"start\" x=\"1739.5\" y=\"-2410.3\" font-family=\"Helvetica,sans-Serif\" font-size=\"14.00\" fill=\"#000000\">samples = 14</text>\n<text text-anchor=\"start\" x=\"1738\" y=\"-2395.3\" font-family=\"Helvetica,sans-Serif\" font-size=\"14.00\" fill=\"#000000\">value = [0, 14]</text>\n<text text-anchor=\"start\" x=\"1754.5\" y=\"-2380.3\" font-family=\"Helvetica,sans-Serif\" font-size=\"14.00\" fill=\"#000000\">class = o</text>\n</g>\n<!-- 0&#45;&gt;1 -->\n<g id=\"edge1\" class=\"edge\">\n<title>0&#45;&gt;1</title>\n<path fill=\"none\" stroke=\"#000000\" d=\"M1827.0667,-2483.8796C1820.8137,-2472.7735 1814.0448,-2460.7513 1807.749,-2449.5691\"/>\n<polygon fill=\"#000000\" stroke=\"#000000\" points=\"1810.7761,-2447.8116 1802.8202,-2440.8149 1804.6765,-2451.2459 1810.7761,-2447.8116\"/>\n<text text-anchor=\"middle\" x=\"1796.089\" y=\"-2461.1917\" font-family=\"Helvetica,sans-Serif\" font-size=\"14.00\" fill=\"#000000\">True</text>\n</g>\n<!-- 2 -->\n<g id=\"node3\" class=\"node\">\n<title>2</title>\n<path fill=\"#87c4ef\" stroke=\"#000000\" d=\"M1967.5,-2448C1967.5,-2448 1867.5,-2448 1867.5,-2448 1861.5,-2448 1855.5,-2442 1855.5,-2436 1855.5,-2436 1855.5,-2377 1855.5,-2377 1855.5,-2371 1861.5,-2365 1867.5,-2365 1867.5,-2365 1967.5,-2365 1967.5,-2365 1973.5,-2365 1979.5,-2371 1979.5,-2377 1979.5,-2377 1979.5,-2436 1979.5,-2436 1979.5,-2442 1973.5,-2448 1967.5,-2448\"/>\n<text text-anchor=\"start\" x=\"1867\" y=\"-2432.8\" font-family=\"Helvetica,sans-Serif\" font-size=\"14.00\" fill=\"#000000\">Gender ≤ 0.979</text>\n<text text-anchor=\"start\" x=\"1879.5\" y=\"-2417.8\" font-family=\"Helvetica,sans-Serif\" font-size=\"14.00\" fill=\"#000000\">gini = 0.405</text>\n<text text-anchor=\"start\" x=\"1869.5\" y=\"-2402.8\" font-family=\"Helvetica,sans-Serif\" font-size=\"14.00\" fill=\"#000000\">samples = 262</text>\n<text text-anchor=\"start\" x=\"1863.5\" y=\"-2387.8\" font-family=\"Helvetica,sans-Serif\" font-size=\"14.00\" fill=\"#000000\">value = [74, 188]</text>\n<text text-anchor=\"start\" x=\"1888.5\" y=\"-2372.8\" font-family=\"Helvetica,sans-Serif\" font-size=\"14.00\" fill=\"#000000\">class = o</text>\n</g>\n<!-- 0&#45;&gt;2 -->\n<g id=\"edge2\" class=\"edge\">\n<title>0&#45;&gt;2</title>\n<path fill=\"none\" stroke=\"#000000\" d=\"M1873.9333,-2483.8796C1878.8013,-2475.2335 1883.9819,-2466.0322 1889.0086,-2457.1042\"/>\n<polygon fill=\"#000000\" stroke=\"#000000\" points=\"1892.1103,-2458.729 1893.9666,-2448.2981 1886.0107,-2455.2947 1892.1103,-2458.729\"/>\n<text text-anchor=\"middle\" x=\"1900.6978\" y=\"-2468.6749\" font-family=\"Helvetica,sans-Serif\" font-size=\"14.00\" fill=\"#000000\">False</text>\n</g>\n<!-- 3 -->\n<g id=\"node4\" class=\"node\">\n<title>3</title>\n<path fill=\"#91c8f0\" stroke=\"#000000\" d=\"M1862.5,-2329C1862.5,-2329 1762.5,-2329 1762.5,-2329 1756.5,-2329 1750.5,-2323 1750.5,-2317 1750.5,-2317 1750.5,-2258 1750.5,-2258 1750.5,-2252 1756.5,-2246 1762.5,-2246 1762.5,-2246 1862.5,-2246 1862.5,-2246 1868.5,-2246 1874.5,-2252 1874.5,-2258 1874.5,-2258 1874.5,-2317 1874.5,-2317 1874.5,-2323 1868.5,-2329 1862.5,-2329\"/>\n<text text-anchor=\"start\" x=\"1771.5\" y=\"-2313.8\" font-family=\"Helvetica,sans-Serif\" font-size=\"14.00\" fill=\"#000000\">age ≤ &#45;2.063</text>\n<text text-anchor=\"start\" x=\"1774.5\" y=\"-2298.8\" font-family=\"Helvetica,sans-Serif\" font-size=\"14.00\" fill=\"#000000\">gini = 0.425</text>\n<text text-anchor=\"start\" x=\"1764.5\" y=\"-2283.8\" font-family=\"Helvetica,sans-Serif\" font-size=\"14.00\" fill=\"#000000\">samples = 225</text>\n<text text-anchor=\"start\" x=\"1758.5\" y=\"-2268.8\" font-family=\"Helvetica,sans-Serif\" font-size=\"14.00\" fill=\"#000000\">value = [69, 156]</text>\n<text text-anchor=\"start\" x=\"1783.5\" y=\"-2253.8\" font-family=\"Helvetica,sans-Serif\" font-size=\"14.00\" fill=\"#000000\">class = o</text>\n</g>\n<!-- 2&#45;&gt;3 -->\n<g id=\"edge3\" class=\"edge\">\n<title>2&#45;&gt;3</title>\n<path fill=\"none\" stroke=\"#000000\" d=\"M1880.7761,-2364.8796C1872.8293,-2355.8733 1864.351,-2346.2644 1856.1674,-2336.9897\"/>\n<polygon fill=\"#000000\" stroke=\"#000000\" points=\"1858.6213,-2334.4808 1849.3807,-2329.2981 1853.3725,-2339.1122 1858.6213,-2334.4808\"/>\n</g>\n<!-- 178 -->\n<g id=\"node179\" class=\"node\">\n<title>178</title>\n<path fill=\"#58ace9\" stroke=\"#000000\" d=\"M2114,-2329C2114,-2329 1931,-2329 1931,-2329 1925,-2329 1919,-2323 1919,-2317 1919,-2317 1919,-2258 1919,-2258 1919,-2252 1925,-2246 1931,-2246 1931,-2246 2114,-2246 2114,-2246 2120,-2246 2126,-2252 2126,-2258 2126,-2258 2126,-2317 2126,-2317 2126,-2323 2120,-2329 2114,-2329\"/>\n<text text-anchor=\"start\" x=\"1927\" y=\"-2313.8\" font-family=\"Helvetica,sans-Serif\" font-size=\"14.00\" fill=\"#000000\">High School or Below ≤ 0.128</text>\n<text text-anchor=\"start\" x=\"1984.5\" y=\"-2298.8\" font-family=\"Helvetica,sans-Serif\" font-size=\"14.00\" fill=\"#000000\">gini = 0.234</text>\n<text text-anchor=\"start\" x=\"1978.5\" y=\"-2283.8\" font-family=\"Helvetica,sans-Serif\" font-size=\"14.00\" fill=\"#000000\">samples = 37</text>\n<text text-anchor=\"start\" x=\"1977\" y=\"-2268.8\" font-family=\"Helvetica,sans-Serif\" font-size=\"14.00\" fill=\"#000000\">value = [5, 32]</text>\n<text text-anchor=\"start\" x=\"1993.5\" y=\"-2253.8\" font-family=\"Helvetica,sans-Serif\" font-size=\"14.00\" fill=\"#000000\">class = o</text>\n</g>\n<!-- 2&#45;&gt;178 -->\n<g id=\"edge178\" class=\"edge\">\n<title>2&#45;&gt;178</title>\n<path fill=\"none\" stroke=\"#000000\" d=\"M1954.2239,-2364.8796C1962.1707,-2355.8733 1970.649,-2346.2644 1978.8326,-2336.9897\"/>\n<polygon fill=\"#000000\" stroke=\"#000000\" points=\"1981.6275,-2339.1122 1985.6193,-2329.2981 1976.3787,-2334.4808 1981.6275,-2339.1122\"/>\n</g>\n<!-- 4 -->\n<g id=\"node5\" class=\"node\">\n<title>4</title>\n<path fill=\"#e58139\" stroke=\"#000000\" d=\"M1695,-2202.5C1695,-2202.5 1620,-2202.5 1620,-2202.5 1614,-2202.5 1608,-2196.5 1608,-2190.5 1608,-2190.5 1608,-2146.5 1608,-2146.5 1608,-2140.5 1614,-2134.5 1620,-2134.5 1620,-2134.5 1695,-2134.5 1695,-2134.5 1701,-2134.5 1707,-2140.5 1707,-2146.5 1707,-2146.5 1707,-2190.5 1707,-2190.5 1707,-2196.5 1701,-2202.5 1695,-2202.5\"/>\n<text text-anchor=\"start\" x=\"1628\" y=\"-2187.3\" font-family=\"Helvetica,sans-Serif\" font-size=\"14.00\" fill=\"#000000\">gini = 0.0</text>\n<text text-anchor=\"start\" x=\"1618\" y=\"-2172.3\" font-family=\"Helvetica,sans-Serif\" font-size=\"14.00\" fill=\"#000000\">samples = 1</text>\n<text text-anchor=\"start\" x=\"1616\" y=\"-2157.3\" font-family=\"Helvetica,sans-Serif\" font-size=\"14.00\" fill=\"#000000\">value = [1, 0]</text>\n<text text-anchor=\"start\" x=\"1631\" y=\"-2142.3\" font-family=\"Helvetica,sans-Serif\" font-size=\"14.00\" fill=\"#000000\">class = l</text>\n</g>\n<!-- 3&#45;&gt;4 -->\n<g id=\"edge4\" class=\"edge\">\n<title>3&#45;&gt;4</title>\n<path fill=\"none\" stroke=\"#000000\" d=\"M1758.2885,-2245.8796C1742.6769,-2233.8938 1725.6753,-2220.841 1710.1592,-2208.9287\"/>\n<polygon fill=\"#000000\" stroke=\"#000000\" points=\"1712.2593,-2206.1285 1702.1959,-2202.8149 1707.9965,-2211.6808 1712.2593,-2206.1285\"/>\n</g>\n<!-- 5 -->\n<g id=\"node6\" class=\"node\">\n<title>5</title>\n<path fill=\"#8fc8f0\" stroke=\"#000000\" d=\"M1887.5,-2210C1887.5,-2210 1737.5,-2210 1737.5,-2210 1731.5,-2210 1725.5,-2204 1725.5,-2198 1725.5,-2198 1725.5,-2139 1725.5,-2139 1725.5,-2133 1731.5,-2127 1737.5,-2127 1737.5,-2127 1887.5,-2127 1887.5,-2127 1893.5,-2127 1899.5,-2133 1899.5,-2139 1899.5,-2139 1899.5,-2198 1899.5,-2198 1899.5,-2204 1893.5,-2210 1887.5,-2210\"/>\n<text text-anchor=\"start\" x=\"1733.5\" y=\"-2194.8\" font-family=\"Helvetica,sans-Serif\" font-size=\"14.00\" fill=\"#000000\">Master or Above ≤ 6.519</text>\n<text text-anchor=\"start\" x=\"1774.5\" y=\"-2179.8\" font-family=\"Helvetica,sans-Serif\" font-size=\"14.00\" fill=\"#000000\">gini = 0.423</text>\n<text text-anchor=\"start\" x=\"1764.5\" y=\"-2164.8\" font-family=\"Helvetica,sans-Serif\" font-size=\"14.00\" fill=\"#000000\">samples = 224</text>\n<text text-anchor=\"start\" x=\"1758.5\" y=\"-2149.8\" font-family=\"Helvetica,sans-Serif\" font-size=\"14.00\" fill=\"#000000\">value = [68, 156]</text>\n<text text-anchor=\"start\" x=\"1783.5\" y=\"-2134.8\" font-family=\"Helvetica,sans-Serif\" font-size=\"14.00\" fill=\"#000000\">class = o</text>\n</g>\n<!-- 3&#45;&gt;5 -->\n<g id=\"edge5\" class=\"edge\">\n<title>3&#45;&gt;5</title>\n<path fill=\"none\" stroke=\"#000000\" d=\"M1812.5,-2245.8796C1812.5,-2237.6838 1812.5,-2228.9891 1812.5,-2220.5013\"/>\n<polygon fill=\"#000000\" stroke=\"#000000\" points=\"1816.0001,-2220.298 1812.5,-2210.2981 1809.0001,-2220.2981 1816.0001,-2220.298\"/>\n</g>\n<!-- 6 -->\n<g id=\"node7\" class=\"node\">\n<title>6</title>\n<path fill=\"#8ec7f0\" stroke=\"#000000\" d=\"M1732.5,-2091C1732.5,-2091 1632.5,-2091 1632.5,-2091 1626.5,-2091 1620.5,-2085 1620.5,-2079 1620.5,-2079 1620.5,-2020 1620.5,-2020 1620.5,-2014 1626.5,-2008 1632.5,-2008 1632.5,-2008 1732.5,-2008 1732.5,-2008 1738.5,-2008 1744.5,-2014 1744.5,-2020 1744.5,-2020 1744.5,-2079 1744.5,-2079 1744.5,-2085 1738.5,-2091 1732.5,-2091\"/>\n<text text-anchor=\"start\" x=\"1641.5\" y=\"-2075.8\" font-family=\"Helvetica,sans-Serif\" font-size=\"14.00\" fill=\"#000000\">age ≤ &#45;1.731</text>\n<text text-anchor=\"start\" x=\"1649\" y=\"-2060.8\" font-family=\"Helvetica,sans-Serif\" font-size=\"14.00\" fill=\"#000000\">gini = 0.42</text>\n<text text-anchor=\"start\" x=\"1634.5\" y=\"-2045.8\" font-family=\"Helvetica,sans-Serif\" font-size=\"14.00\" fill=\"#000000\">samples = 223</text>\n<text text-anchor=\"start\" x=\"1628.5\" y=\"-2030.8\" font-family=\"Helvetica,sans-Serif\" font-size=\"14.00\" fill=\"#000000\">value = [67, 156]</text>\n<text text-anchor=\"start\" x=\"1653.5\" y=\"-2015.8\" font-family=\"Helvetica,sans-Serif\" font-size=\"14.00\" fill=\"#000000\">class = o</text>\n</g>\n<!-- 5&#45;&gt;6 -->\n<g id=\"edge6\" class=\"edge\">\n<title>5&#45;&gt;6</title>\n<path fill=\"none\" stroke=\"#000000\" d=\"M1767.0323,-2126.8796C1756.8983,-2117.6031 1746.066,-2107.6874 1735.6535,-2098.1559\"/>\n<polygon fill=\"#000000\" stroke=\"#000000\" points=\"1737.9013,-2095.4685 1728.1618,-2091.2981 1733.1748,-2100.6319 1737.9013,-2095.4685\"/>\n</g>\n<!-- 177 -->\n<g id=\"node178\" class=\"node\">\n<title>177</title>\n<path fill=\"#e58139\" stroke=\"#000000\" d=\"M1850,-2083.5C1850,-2083.5 1775,-2083.5 1775,-2083.5 1769,-2083.5 1763,-2077.5 1763,-2071.5 1763,-2071.5 1763,-2027.5 1763,-2027.5 1763,-2021.5 1769,-2015.5 1775,-2015.5 1775,-2015.5 1850,-2015.5 1850,-2015.5 1856,-2015.5 1862,-2021.5 1862,-2027.5 1862,-2027.5 1862,-2071.5 1862,-2071.5 1862,-2077.5 1856,-2083.5 1850,-2083.5\"/>\n<text text-anchor=\"start\" x=\"1783\" y=\"-2068.3\" font-family=\"Helvetica,sans-Serif\" font-size=\"14.00\" fill=\"#000000\">gini = 0.0</text>\n<text text-anchor=\"start\" x=\"1773\" y=\"-2053.3\" font-family=\"Helvetica,sans-Serif\" font-size=\"14.00\" fill=\"#000000\">samples = 1</text>\n<text text-anchor=\"start\" x=\"1771\" y=\"-2038.3\" font-family=\"Helvetica,sans-Serif\" font-size=\"14.00\" fill=\"#000000\">value = [1, 0]</text>\n<text text-anchor=\"start\" x=\"1786\" y=\"-2023.3\" font-family=\"Helvetica,sans-Serif\" font-size=\"14.00\" fill=\"#000000\">class = l</text>\n</g>\n<!-- 5&#45;&gt;177 -->\n<g id=\"edge177\" class=\"edge\">\n<title>5&#45;&gt;177</title>\n<path fill=\"none\" stroke=\"#000000\" d=\"M1812.5,-2126.8796C1812.5,-2116.2134 1812.5,-2104.7021 1812.5,-2093.9015\"/>\n<polygon fill=\"#000000\" stroke=\"#000000\" points=\"1816.0001,-2093.8149 1812.5,-2083.8149 1809.0001,-2093.815 1816.0001,-2093.8149\"/>\n</g>\n<!-- 7 -->\n<g id=\"node8\" class=\"node\">\n<title>7</title>\n<path fill=\"#399de5\" stroke=\"#000000\" d=\"M1652,-1964.5C1652,-1964.5 1577,-1964.5 1577,-1964.5 1571,-1964.5 1565,-1958.5 1565,-1952.5 1565,-1952.5 1565,-1908.5 1565,-1908.5 1565,-1902.5 1571,-1896.5 1577,-1896.5 1577,-1896.5 1652,-1896.5 1652,-1896.5 1658,-1896.5 1664,-1902.5 1664,-1908.5 1664,-1908.5 1664,-1952.5 1664,-1952.5 1664,-1958.5 1658,-1964.5 1652,-1964.5\"/>\n<text text-anchor=\"start\" x=\"1585\" y=\"-1949.3\" font-family=\"Helvetica,sans-Serif\" font-size=\"14.00\" fill=\"#000000\">gini = 0.0</text>\n<text text-anchor=\"start\" x=\"1575\" y=\"-1934.3\" font-family=\"Helvetica,sans-Serif\" font-size=\"14.00\" fill=\"#000000\">samples = 4</text>\n<text text-anchor=\"start\" x=\"1573\" y=\"-1919.3\" font-family=\"Helvetica,sans-Serif\" font-size=\"14.00\" fill=\"#000000\">value = [0, 4]</text>\n<text text-anchor=\"start\" x=\"1585.5\" y=\"-1904.3\" font-family=\"Helvetica,sans-Serif\" font-size=\"14.00\" fill=\"#000000\">class = o</text>\n</g>\n<!-- 6&#45;&gt;7 -->\n<g id=\"edge7\" class=\"edge\">\n<title>6&#45;&gt;7</title>\n<path fill=\"none\" stroke=\"#000000\" d=\"M1658.7169,-2007.8796C1652.3706,-1996.7735 1645.5007,-1984.7513 1639.1109,-1973.5691\"/>\n<polygon fill=\"#000000\" stroke=\"#000000\" points=\"1642.1088,-1971.7609 1634.1085,-1964.8149 1636.0311,-1975.2339 1642.1088,-1971.7609\"/>\n</g>\n<!-- 8 -->\n<g id=\"node9\" class=\"node\">\n<title>8</title>\n<path fill=\"#90c8f0\" stroke=\"#000000\" d=\"M1794.5,-1972C1794.5,-1972 1694.5,-1972 1694.5,-1972 1688.5,-1972 1682.5,-1966 1682.5,-1960 1682.5,-1960 1682.5,-1901 1682.5,-1901 1682.5,-1895 1688.5,-1889 1694.5,-1889 1694.5,-1889 1794.5,-1889 1794.5,-1889 1800.5,-1889 1806.5,-1895 1806.5,-1901 1806.5,-1901 1806.5,-1960 1806.5,-1960 1806.5,-1966 1800.5,-1972 1794.5,-1972\"/>\n<text text-anchor=\"start\" x=\"1703.5\" y=\"-1956.8\" font-family=\"Helvetica,sans-Serif\" font-size=\"14.00\" fill=\"#000000\">age ≤ &#45;0.736</text>\n<text text-anchor=\"start\" x=\"1706.5\" y=\"-1941.8\" font-family=\"Helvetica,sans-Serif\" font-size=\"14.00\" fill=\"#000000\">gini = 0.425</text>\n<text text-anchor=\"start\" x=\"1696.5\" y=\"-1926.8\" font-family=\"Helvetica,sans-Serif\" font-size=\"14.00\" fill=\"#000000\">samples = 219</text>\n<text text-anchor=\"start\" x=\"1690.5\" y=\"-1911.8\" font-family=\"Helvetica,sans-Serif\" font-size=\"14.00\" fill=\"#000000\">value = [67, 152]</text>\n<text text-anchor=\"start\" x=\"1715.5\" y=\"-1896.8\" font-family=\"Helvetica,sans-Serif\" font-size=\"14.00\" fill=\"#000000\">class = o</text>\n</g>\n<!-- 6&#45;&gt;8 -->\n<g id=\"edge8\" class=\"edge\">\n<title>6&#45;&gt;8</title>\n<path fill=\"none\" stroke=\"#000000\" d=\"M1704.1846,-2007.8796C1708.6423,-1999.3236 1713.3834,-1990.2238 1717.9894,-1981.3833\"/>\n<polygon fill=\"#000000\" stroke=\"#000000\" points=\"1721.2062,-1982.7838 1722.7229,-1972.2981 1714.9983,-1979.5494 1721.2062,-1982.7838\"/>\n</g>\n<!-- 9 -->\n<g id=\"node10\" class=\"node\">\n<title>9</title>\n<path fill=\"#b1d8f5\" stroke=\"#000000\" d=\"M933.5,-1853C933.5,-1853 841.5,-1853 841.5,-1853 835.5,-1853 829.5,-1847 829.5,-1841 829.5,-1841 829.5,-1782 829.5,-1782 829.5,-1776 835.5,-1770 841.5,-1770 841.5,-1770 933.5,-1770 933.5,-1770 939.5,-1770 945.5,-1776 945.5,-1782 945.5,-1782 945.5,-1841 945.5,-1841 945.5,-1847 939.5,-1853 933.5,-1853\"/>\n<text text-anchor=\"start\" x=\"841\" y=\"-1837.8\" font-family=\"Helvetica,sans-Serif\" font-size=\"14.00\" fill=\"#000000\">terms ≤ &#45;0.019</text>\n<text text-anchor=\"start\" x=\"854\" y=\"-1822.8\" font-family=\"Helvetica,sans-Serif\" font-size=\"14.00\" fill=\"#000000\">gini = 0.47</text>\n<text text-anchor=\"start\" x=\"843.5\" y=\"-1807.8\" font-family=\"Helvetica,sans-Serif\" font-size=\"14.00\" fill=\"#000000\">samples = 53</text>\n<text text-anchor=\"start\" x=\"837.5\" y=\"-1792.8\" font-family=\"Helvetica,sans-Serif\" font-size=\"14.00\" fill=\"#000000\">value = [20, 33]</text>\n<text text-anchor=\"start\" x=\"858.5\" y=\"-1777.8\" font-family=\"Helvetica,sans-Serif\" font-size=\"14.00\" fill=\"#000000\">class = o</text>\n</g>\n<!-- 8&#45;&gt;9 -->\n<g id=\"edge9\" class=\"edge\">\n<title>8&#45;&gt;9</title>\n<path fill=\"none\" stroke=\"#000000\" d=\"M1682.403,-1892.6337C1679.1085,-1891.2832 1675.7969,-1890.0584 1672.5,-1889 1539.6727,-1846.3577 1121.0779,-1822.5029 955.6916,-1814.5398\"/>\n<polygon fill=\"#000000\" stroke=\"#000000\" points=\"955.7968,-1811.0409 945.6414,-1814.0605 955.4633,-1818.033 955.7968,-1811.0409\"/>\n</g>\n<!-- 56 -->\n<g id=\"node57\" class=\"node\">\n<title>56</title>\n<path fill=\"#87c4ef\" stroke=\"#000000\" d=\"M1920.5,-1853C1920.5,-1853 1820.5,-1853 1820.5,-1853 1814.5,-1853 1808.5,-1847 1808.5,-1841 1808.5,-1841 1808.5,-1782 1808.5,-1782 1808.5,-1776 1814.5,-1770 1820.5,-1770 1820.5,-1770 1920.5,-1770 1920.5,-1770 1926.5,-1770 1932.5,-1776 1932.5,-1782 1932.5,-1782 1932.5,-1841 1932.5,-1841 1932.5,-1847 1926.5,-1853 1920.5,-1853\"/>\n<text text-anchor=\"start\" x=\"1836\" y=\"-1837.8\" font-family=\"Helvetica,sans-Serif\" font-size=\"14.00\" fill=\"#000000\">age ≤ 2.58</text>\n<text text-anchor=\"start\" x=\"1832.5\" y=\"-1822.8\" font-family=\"Helvetica,sans-Serif\" font-size=\"14.00\" fill=\"#000000\">gini = 0.406</text>\n<text text-anchor=\"start\" x=\"1822.5\" y=\"-1807.8\" font-family=\"Helvetica,sans-Serif\" font-size=\"14.00\" fill=\"#000000\">samples = 166</text>\n<text text-anchor=\"start\" x=\"1816.5\" y=\"-1792.8\" font-family=\"Helvetica,sans-Serif\" font-size=\"14.00\" fill=\"#000000\">value = [47, 119]</text>\n<text text-anchor=\"start\" x=\"1841.5\" y=\"-1777.8\" font-family=\"Helvetica,sans-Serif\" font-size=\"14.00\" fill=\"#000000\">class = o</text>\n</g>\n<!-- 8&#45;&gt;56 -->\n<g id=\"edge56\" class=\"edge\">\n<title>8&#45;&gt;56</title>\n<path fill=\"none\" stroke=\"#000000\" d=\"M1788.5687,-1888.8796C1798.2955,-1879.6931 1808.6861,-1869.8798 1818.6879,-1860.4336\"/>\n<polygon fill=\"#000000\" stroke=\"#000000\" points=\"1821.3763,-1862.7089 1826.2432,-1853.2981 1816.5699,-1857.6198 1821.3763,-1862.7089\"/>\n</g>\n<!-- 10 -->\n<g id=\"node11\" class=\"node\">\n<title>10</title>\n<path fill=\"#63b2ea\" stroke=\"#000000\" d=\"M565,-1734C565,-1734 382,-1734 382,-1734 376,-1734 370,-1728 370,-1722 370,-1722 370,-1663 370,-1663 370,-1657 376,-1651 382,-1651 382,-1651 565,-1651 565,-1651 571,-1651 577,-1657 577,-1663 577,-1663 577,-1722 577,-1722 577,-1728 571,-1734 565,-1734\"/>\n<text text-anchor=\"start\" x=\"378\" y=\"-1718.8\" font-family=\"Helvetica,sans-Serif\" font-size=\"14.00\" fill=\"#000000\">High School or Below ≤ 0.128</text>\n<text text-anchor=\"start\" x=\"435.5\" y=\"-1703.8\" font-family=\"Helvetica,sans-Serif\" font-size=\"14.00\" fill=\"#000000\">gini = 0.287</text>\n<text text-anchor=\"start\" x=\"429.5\" y=\"-1688.8\" font-family=\"Helvetica,sans-Serif\" font-size=\"14.00\" fill=\"#000000\">samples = 23</text>\n<text text-anchor=\"start\" x=\"428\" y=\"-1673.8\" font-family=\"Helvetica,sans-Serif\" font-size=\"14.00\" fill=\"#000000\">value = [4, 19]</text>\n<text text-anchor=\"start\" x=\"444.5\" y=\"-1658.8\" font-family=\"Helvetica,sans-Serif\" font-size=\"14.00\" fill=\"#000000\">class = o</text>\n</g>\n<!-- 9&#45;&gt;10 -->\n<g id=\"edge10\" class=\"edge\">\n<title>9&#45;&gt;10</title>\n<path fill=\"none\" stroke=\"#000000\" d=\"M829.4992,-1794.8283C766.9703,-1776.855 665.8545,-1747.7903 587.3363,-1725.2211\"/>\n<polygon fill=\"#000000\" stroke=\"#000000\" points=\"587.9682,-1721.761 577.3905,-1722.3622 586.0344,-1728.4886 587.9682,-1721.761\"/>\n</g>\n<!-- 33 -->\n<g id=\"node34\" class=\"node\">\n<title>33</title>\n<path fill=\"#fcefe6\" stroke=\"#000000\" d=\"M933.5,-1734C933.5,-1734 841.5,-1734 841.5,-1734 835.5,-1734 829.5,-1728 829.5,-1722 829.5,-1722 829.5,-1663 829.5,-1663 829.5,-1657 835.5,-1651 841.5,-1651 841.5,-1651 933.5,-1651 933.5,-1651 939.5,-1651 945.5,-1657 945.5,-1663 945.5,-1663 945.5,-1722 945.5,-1722 945.5,-1728 939.5,-1734 933.5,-1734\"/>\n<text text-anchor=\"start\" x=\"846.5\" y=\"-1718.8\" font-family=\"Helvetica,sans-Serif\" font-size=\"14.00\" fill=\"#000000\">age ≤ &#45;1.399</text>\n<text text-anchor=\"start\" x=\"849.5\" y=\"-1703.8\" font-family=\"Helvetica,sans-Serif\" font-size=\"14.00\" fill=\"#000000\">gini = 0.498</text>\n<text text-anchor=\"start\" x=\"843.5\" y=\"-1688.8\" font-family=\"Helvetica,sans-Serif\" font-size=\"14.00\" fill=\"#000000\">samples = 30</text>\n<text text-anchor=\"start\" x=\"837.5\" y=\"-1673.8\" font-family=\"Helvetica,sans-Serif\" font-size=\"14.00\" fill=\"#000000\">value = [16, 14]</text>\n<text text-anchor=\"start\" x=\"861\" y=\"-1658.8\" font-family=\"Helvetica,sans-Serif\" font-size=\"14.00\" fill=\"#000000\">class = l</text>\n</g>\n<!-- 9&#45;&gt;33 -->\n<g id=\"edge33\" class=\"edge\">\n<title>9&#45;&gt;33</title>\n<path fill=\"none\" stroke=\"#000000\" d=\"M887.5,-1769.8796C887.5,-1761.6838 887.5,-1752.9891 887.5,-1744.5013\"/>\n<polygon fill=\"#000000\" stroke=\"#000000\" points=\"891.0001,-1744.298 887.5,-1734.2981 884.0001,-1744.2981 891.0001,-1744.298\"/>\n</g>\n<!-- 11 -->\n<g id=\"node12\" class=\"node\">\n<title>11</title>\n<path fill=\"#7bbeee\" stroke=\"#000000\" d=\"M339,-1615C339,-1615 256,-1615 256,-1615 250,-1615 244,-1609 244,-1603 244,-1603 244,-1544 244,-1544 244,-1538 250,-1532 256,-1532 256,-1532 339,-1532 339,-1532 345,-1532 351,-1538 351,-1544 351,-1544 351,-1603 351,-1603 351,-1609 345,-1615 339,-1615\"/>\n<text text-anchor=\"start\" x=\"256.5\" y=\"-1599.8\" font-family=\"Helvetica,sans-Serif\" font-size=\"14.00\" fill=\"#000000\">age ≤ &#45;1.565</text>\n<text text-anchor=\"start\" x=\"259.5\" y=\"-1584.8\" font-family=\"Helvetica,sans-Serif\" font-size=\"14.00\" fill=\"#000000\">gini = 0.375</text>\n<text text-anchor=\"start\" x=\"253.5\" y=\"-1569.8\" font-family=\"Helvetica,sans-Serif\" font-size=\"14.00\" fill=\"#000000\">samples = 16</text>\n<text text-anchor=\"start\" x=\"252\" y=\"-1554.8\" font-family=\"Helvetica,sans-Serif\" font-size=\"14.00\" fill=\"#000000\">value = [4, 12]</text>\n<text text-anchor=\"start\" x=\"268.5\" y=\"-1539.8\" font-family=\"Helvetica,sans-Serif\" font-size=\"14.00\" fill=\"#000000\">class = o</text>\n</g>\n<!-- 10&#45;&gt;11 -->\n<g id=\"edge11\" class=\"edge\">\n<title>10&#45;&gt;11</title>\n<path fill=\"none\" stroke=\"#000000\" d=\"M411.9437,-1650.8796C395.0611,-1639.4646 376.7469,-1627.0817 359.8217,-1615.638\"/>\n<polygon fill=\"#000000\" stroke=\"#000000\" points=\"361.357,-1612.4511 351.1124,-1609.7493 357.4361,-1618.25 361.357,-1612.4511\"/>\n</g>\n<!-- 32 -->\n<g id=\"node33\" class=\"node\">\n<title>32</title>\n<path fill=\"#399de5\" stroke=\"#000000\" d=\"M511,-1607.5C511,-1607.5 436,-1607.5 436,-1607.5 430,-1607.5 424,-1601.5 424,-1595.5 424,-1595.5 424,-1551.5 424,-1551.5 424,-1545.5 430,-1539.5 436,-1539.5 436,-1539.5 511,-1539.5 511,-1539.5 517,-1539.5 523,-1545.5 523,-1551.5 523,-1551.5 523,-1595.5 523,-1595.5 523,-1601.5 517,-1607.5 511,-1607.5\"/>\n<text text-anchor=\"start\" x=\"444\" y=\"-1592.3\" font-family=\"Helvetica,sans-Serif\" font-size=\"14.00\" fill=\"#000000\">gini = 0.0</text>\n<text text-anchor=\"start\" x=\"434\" y=\"-1577.3\" font-family=\"Helvetica,sans-Serif\" font-size=\"14.00\" fill=\"#000000\">samples = 7</text>\n<text text-anchor=\"start\" x=\"432\" y=\"-1562.3\" font-family=\"Helvetica,sans-Serif\" font-size=\"14.00\" fill=\"#000000\">value = [0, 7]</text>\n<text text-anchor=\"start\" x=\"444.5\" y=\"-1547.3\" font-family=\"Helvetica,sans-Serif\" font-size=\"14.00\" fill=\"#000000\">class = o</text>\n</g>\n<!-- 10&#45;&gt;32 -->\n<g id=\"edge32\" class=\"edge\">\n<title>10&#45;&gt;32</title>\n<path fill=\"none\" stroke=\"#000000\" d=\"M473.5,-1650.8796C473.5,-1640.2134 473.5,-1628.7021 473.5,-1617.9015\"/>\n<polygon fill=\"#000000\" stroke=\"#000000\" points=\"477.0001,-1617.8149 473.5,-1607.8149 470.0001,-1617.815 477.0001,-1617.8149\"/>\n</g>\n<!-- 12 -->\n<g id=\"node13\" class=\"node\">\n<title>12</title>\n<path fill=\"#399de5\" stroke=\"#000000\" d=\"M214,-1488.5C214,-1488.5 139,-1488.5 139,-1488.5 133,-1488.5 127,-1482.5 127,-1476.5 127,-1476.5 127,-1432.5 127,-1432.5 127,-1426.5 133,-1420.5 139,-1420.5 139,-1420.5 214,-1420.5 214,-1420.5 220,-1420.5 226,-1426.5 226,-1432.5 226,-1432.5 226,-1476.5 226,-1476.5 226,-1482.5 220,-1488.5 214,-1488.5\"/>\n<text text-anchor=\"start\" x=\"147\" y=\"-1473.3\" font-family=\"Helvetica,sans-Serif\" font-size=\"14.00\" fill=\"#000000\">gini = 0.0</text>\n<text text-anchor=\"start\" x=\"137\" y=\"-1458.3\" font-family=\"Helvetica,sans-Serif\" font-size=\"14.00\" fill=\"#000000\">samples = 1</text>\n<text text-anchor=\"start\" x=\"135\" y=\"-1443.3\" font-family=\"Helvetica,sans-Serif\" font-size=\"14.00\" fill=\"#000000\">value = [0, 1]</text>\n<text text-anchor=\"start\" x=\"147.5\" y=\"-1428.3\" font-family=\"Helvetica,sans-Serif\" font-size=\"14.00\" fill=\"#000000\">class = o</text>\n</g>\n<!-- 11&#45;&gt;12 -->\n<g id=\"edge12\" class=\"edge\">\n<title>11&#45;&gt;12</title>\n<path fill=\"none\" stroke=\"#000000\" d=\"M255.1801,-1531.8796C243.3283,-1520.2237 230.4505,-1507.5587 218.6109,-1495.9148\"/>\n<polygon fill=\"#000000\" stroke=\"#000000\" points=\"220.9756,-1493.3314 211.3917,-1488.8149 216.0673,-1498.3223 220.9756,-1493.3314\"/>\n</g>\n<!-- 13 -->\n<g id=\"node14\" class=\"node\">\n<title>13</title>\n<path fill=\"#81c1ee\" stroke=\"#000000\" d=\"M339,-1496C339,-1496 256,-1496 256,-1496 250,-1496 244,-1490 244,-1484 244,-1484 244,-1425 244,-1425 244,-1419 250,-1413 256,-1413 256,-1413 339,-1413 339,-1413 345,-1413 351,-1419 351,-1425 351,-1425 351,-1484 351,-1484 351,-1490 345,-1496 339,-1496\"/>\n<text text-anchor=\"start\" x=\"256.5\" y=\"-1480.8\" font-family=\"Helvetica,sans-Serif\" font-size=\"14.00\" fill=\"#000000\">age ≤ &#45;1.399</text>\n<text text-anchor=\"start\" x=\"259.5\" y=\"-1465.8\" font-family=\"Helvetica,sans-Serif\" font-size=\"14.00\" fill=\"#000000\">gini = 0.391</text>\n<text text-anchor=\"start\" x=\"253.5\" y=\"-1450.8\" font-family=\"Helvetica,sans-Serif\" font-size=\"14.00\" fill=\"#000000\">samples = 15</text>\n<text text-anchor=\"start\" x=\"252\" y=\"-1435.8\" font-family=\"Helvetica,sans-Serif\" font-size=\"14.00\" fill=\"#000000\">value = [4, 11]</text>\n<text text-anchor=\"start\" x=\"268.5\" y=\"-1420.8\" font-family=\"Helvetica,sans-Serif\" font-size=\"14.00\" fill=\"#000000\">class = o</text>\n</g>\n<!-- 11&#45;&gt;13 -->\n<g id=\"edge13\" class=\"edge\">\n<title>11&#45;&gt;13</title>\n<path fill=\"none\" stroke=\"#000000\" d=\"M297.5,-1531.8796C297.5,-1523.6838 297.5,-1514.9891 297.5,-1506.5013\"/>\n<polygon fill=\"#000000\" stroke=\"#000000\" points=\"301.0001,-1506.298 297.5,-1496.2981 294.0001,-1506.2981 301.0001,-1506.298\"/>\n</g>\n<!-- 14 -->\n<g id=\"node15\" class=\"node\">\n<title>14</title>\n<path fill=\"#ffffff\" stroke=\"#000000\" d=\"M213.5,-1377C213.5,-1377 109.5,-1377 109.5,-1377 103.5,-1377 97.5,-1371 97.5,-1365 97.5,-1365 97.5,-1306 97.5,-1306 97.5,-1300 103.5,-1294 109.5,-1294 109.5,-1294 213.5,-1294 213.5,-1294 219.5,-1294 225.5,-1300 225.5,-1306 225.5,-1306 225.5,-1365 225.5,-1365 225.5,-1371 219.5,-1377 213.5,-1377\"/>\n<text text-anchor=\"start\" x=\"105.5\" y=\"-1361.8\" font-family=\"Helvetica,sans-Serif\" font-size=\"14.00\" fill=\"#000000\">Principal ≤ &#45;0.399</text>\n<text text-anchor=\"start\" x=\"132\" y=\"-1346.8\" font-family=\"Helvetica,sans-Serif\" font-size=\"14.00\" fill=\"#000000\">gini = 0.5</text>\n<text text-anchor=\"start\" x=\"122\" y=\"-1331.8\" font-family=\"Helvetica,sans-Serif\" font-size=\"14.00\" fill=\"#000000\">samples = 2</text>\n<text text-anchor=\"start\" x=\"120\" y=\"-1316.8\" font-family=\"Helvetica,sans-Serif\" font-size=\"14.00\" fill=\"#000000\">value = [1, 1]</text>\n<text text-anchor=\"start\" x=\"135\" y=\"-1301.8\" font-family=\"Helvetica,sans-Serif\" font-size=\"14.00\" fill=\"#000000\">class = l</text>\n</g>\n<!-- 13&#45;&gt;14 -->\n<g id=\"edge14\" class=\"edge\">\n<title>13&#45;&gt;14</title>\n<path fill=\"none\" stroke=\"#000000\" d=\"M249.9338,-1412.8796C239.3321,-1403.6031 227.9998,-1393.6874 217.1067,-1384.1559\"/>\n<polygon fill=\"#000000\" stroke=\"#000000\" points=\"219.0998,-1381.2491 209.2692,-1377.2981 214.4902,-1386.5172 219.0998,-1381.2491\"/>\n</g>\n<!-- 17 -->\n<g id=\"node18\" class=\"node\">\n<title>17</title>\n<path fill=\"#74baed\" stroke=\"#000000\" d=\"M339,-1377C339,-1377 256,-1377 256,-1377 250,-1377 244,-1371 244,-1365 244,-1365 244,-1306 244,-1306 244,-1300 250,-1294 256,-1294 256,-1294 339,-1294 339,-1294 345,-1294 351,-1300 351,-1306 351,-1306 351,-1365 351,-1365 351,-1371 345,-1377 339,-1377\"/>\n<text text-anchor=\"start\" x=\"256.5\" y=\"-1361.8\" font-family=\"Helvetica,sans-Serif\" font-size=\"14.00\" fill=\"#000000\">age ≤ &#45;1.234</text>\n<text text-anchor=\"start\" x=\"259.5\" y=\"-1346.8\" font-family=\"Helvetica,sans-Serif\" font-size=\"14.00\" fill=\"#000000\">gini = 0.355</text>\n<text text-anchor=\"start\" x=\"253.5\" y=\"-1331.8\" font-family=\"Helvetica,sans-Serif\" font-size=\"14.00\" fill=\"#000000\">samples = 13</text>\n<text text-anchor=\"start\" x=\"252\" y=\"-1316.8\" font-family=\"Helvetica,sans-Serif\" font-size=\"14.00\" fill=\"#000000\">value = [3, 10]</text>\n<text text-anchor=\"start\" x=\"268.5\" y=\"-1301.8\" font-family=\"Helvetica,sans-Serif\" font-size=\"14.00\" fill=\"#000000\">class = o</text>\n</g>\n<!-- 13&#45;&gt;17 -->\n<g id=\"edge17\" class=\"edge\">\n<title>13&#45;&gt;17</title>\n<path fill=\"none\" stroke=\"#000000\" d=\"M297.5,-1412.8796C297.5,-1404.6838 297.5,-1395.9891 297.5,-1387.5013\"/>\n<polygon fill=\"#000000\" stroke=\"#000000\" points=\"301.0001,-1387.298 297.5,-1377.2981 294.0001,-1387.2981 301.0001,-1387.298\"/>\n</g>\n<!-- 15 -->\n<g id=\"node16\" class=\"node\">\n<title>15</title>\n<path fill=\"#e58139\" stroke=\"#000000\" d=\"M87,-1250.5C87,-1250.5 12,-1250.5 12,-1250.5 6,-1250.5 0,-1244.5 0,-1238.5 0,-1238.5 0,-1194.5 0,-1194.5 0,-1188.5 6,-1182.5 12,-1182.5 12,-1182.5 87,-1182.5 87,-1182.5 93,-1182.5 99,-1188.5 99,-1194.5 99,-1194.5 99,-1238.5 99,-1238.5 99,-1244.5 93,-1250.5 87,-1250.5\"/>\n<text text-anchor=\"start\" x=\"20\" y=\"-1235.3\" font-family=\"Helvetica,sans-Serif\" font-size=\"14.00\" fill=\"#000000\">gini = 0.0</text>\n<text text-anchor=\"start\" x=\"10\" y=\"-1220.3\" font-family=\"Helvetica,sans-Serif\" font-size=\"14.00\" fill=\"#000000\">samples = 1</text>\n<text text-anchor=\"start\" x=\"8\" y=\"-1205.3\" font-family=\"Helvetica,sans-Serif\" font-size=\"14.00\" fill=\"#000000\">value = [1, 0]</text>\n<text text-anchor=\"start\" x=\"23\" y=\"-1190.3\" font-family=\"Helvetica,sans-Serif\" font-size=\"14.00\" fill=\"#000000\">class = l</text>\n</g>\n<!-- 14&#45;&gt;15 -->\n<g id=\"edge15\" class=\"edge\">\n<title>14&#45;&gt;15</title>\n<path fill=\"none\" stroke=\"#000000\" d=\"M122.3278,-1293.8796C111.4611,-1282.3337 99.6624,-1269.7976 88.7891,-1258.2446\"/>\n<polygon fill=\"#000000\" stroke=\"#000000\" points=\"91.1988,-1255.6982 81.7964,-1250.8149 86.1014,-1260.4958 91.1988,-1255.6982\"/>\n</g>\n<!-- 16 -->\n<g id=\"node17\" class=\"node\">\n<title>16</title>\n<path fill=\"#399de5\" stroke=\"#000000\" d=\"M204,-1250.5C204,-1250.5 129,-1250.5 129,-1250.5 123,-1250.5 117,-1244.5 117,-1238.5 117,-1238.5 117,-1194.5 117,-1194.5 117,-1188.5 123,-1182.5 129,-1182.5 129,-1182.5 204,-1182.5 204,-1182.5 210,-1182.5 216,-1188.5 216,-1194.5 216,-1194.5 216,-1238.5 216,-1238.5 216,-1244.5 210,-1250.5 204,-1250.5\"/>\n<text text-anchor=\"start\" x=\"137\" y=\"-1235.3\" font-family=\"Helvetica,sans-Serif\" font-size=\"14.00\" fill=\"#000000\">gini = 0.0</text>\n<text text-anchor=\"start\" x=\"127\" y=\"-1220.3\" font-family=\"Helvetica,sans-Serif\" font-size=\"14.00\" fill=\"#000000\">samples = 1</text>\n<text text-anchor=\"start\" x=\"125\" y=\"-1205.3\" font-family=\"Helvetica,sans-Serif\" font-size=\"14.00\" fill=\"#000000\">value = [0, 1]</text>\n<text text-anchor=\"start\" x=\"137.5\" y=\"-1190.3\" font-family=\"Helvetica,sans-Serif\" font-size=\"14.00\" fill=\"#000000\">class = o</text>\n</g>\n<!-- 14&#45;&gt;16 -->\n<g id=\"edge16\" class=\"edge\">\n<title>14&#45;&gt;16</title>\n<path fill=\"none\" stroke=\"#000000\" d=\"M163.2488,-1293.8796C163.6969,-1283.2134 164.1806,-1271.7021 164.6344,-1260.9015\"/>\n<polygon fill=\"#000000\" stroke=\"#000000\" points=\"168.1352,-1260.9531 165.0582,-1250.8149 161.1414,-1260.6592 168.1352,-1260.9531\"/>\n</g>\n<!-- 18 -->\n<g id=\"node19\" class=\"node\">\n<title>18</title>\n<path fill=\"#399de5\" stroke=\"#000000\" d=\"M330,-1250.5C330,-1250.5 255,-1250.5 255,-1250.5 249,-1250.5 243,-1244.5 243,-1238.5 243,-1238.5 243,-1194.5 243,-1194.5 243,-1188.5 249,-1182.5 255,-1182.5 255,-1182.5 330,-1182.5 330,-1182.5 336,-1182.5 342,-1188.5 342,-1194.5 342,-1194.5 342,-1238.5 342,-1238.5 342,-1244.5 336,-1250.5 330,-1250.5\"/>\n<text text-anchor=\"start\" x=\"263\" y=\"-1235.3\" font-family=\"Helvetica,sans-Serif\" font-size=\"14.00\" fill=\"#000000\">gini = 0.0</text>\n<text text-anchor=\"start\" x=\"253\" y=\"-1220.3\" font-family=\"Helvetica,sans-Serif\" font-size=\"14.00\" fill=\"#000000\">samples = 2</text>\n<text text-anchor=\"start\" x=\"251\" y=\"-1205.3\" font-family=\"Helvetica,sans-Serif\" font-size=\"14.00\" fill=\"#000000\">value = [0, 2]</text>\n<text text-anchor=\"start\" x=\"263.5\" y=\"-1190.3\" font-family=\"Helvetica,sans-Serif\" font-size=\"14.00\" fill=\"#000000\">class = o</text>\n</g>\n<!-- 17&#45;&gt;18 -->\n<g id=\"edge18\" class=\"edge\">\n<title>17&#45;&gt;18</title>\n<path fill=\"none\" stroke=\"#000000\" d=\"M295.7512,-1293.8796C295.3031,-1283.2134 294.8194,-1271.7021 294.3656,-1260.9015\"/>\n<polygon fill=\"#000000\" stroke=\"#000000\" points=\"297.8586,-1260.6592 293.9418,-1250.8149 290.8648,-1260.9531 297.8586,-1260.6592\"/>\n</g>\n<!-- 19 -->\n<g id=\"node20\" class=\"node\">\n<title>19</title>\n<path fill=\"#83c2ef\" stroke=\"#000000\" d=\"M452.5,-1258C452.5,-1258 372.5,-1258 372.5,-1258 366.5,-1258 360.5,-1252 360.5,-1246 360.5,-1246 360.5,-1187 360.5,-1187 360.5,-1181 366.5,-1175 372.5,-1175 372.5,-1175 452.5,-1175 452.5,-1175 458.5,-1175 464.5,-1181 464.5,-1187 464.5,-1187 464.5,-1246 464.5,-1246 464.5,-1252 458.5,-1258 452.5,-1258\"/>\n<text text-anchor=\"start\" x=\"371.5\" y=\"-1242.8\" font-family=\"Helvetica,sans-Serif\" font-size=\"14.00\" fill=\"#000000\">age ≤ &#45;0.902</text>\n<text text-anchor=\"start\" x=\"374.5\" y=\"-1227.8\" font-family=\"Helvetica,sans-Serif\" font-size=\"14.00\" fill=\"#000000\">gini = 0.397</text>\n<text text-anchor=\"start\" x=\"368.5\" y=\"-1212.8\" font-family=\"Helvetica,sans-Serif\" font-size=\"14.00\" fill=\"#000000\">samples = 11</text>\n<text text-anchor=\"start\" x=\"371\" y=\"-1197.8\" font-family=\"Helvetica,sans-Serif\" font-size=\"14.00\" fill=\"#000000\">value = [3, 8]</text>\n<text text-anchor=\"start\" x=\"383.5\" y=\"-1182.8\" font-family=\"Helvetica,sans-Serif\" font-size=\"14.00\" fill=\"#000000\">class = o</text>\n</g>\n<!-- 17&#45;&gt;19 -->\n<g id=\"edge19\" class=\"edge\">\n<title>17&#45;&gt;19</title>\n<path fill=\"none\" stroke=\"#000000\" d=\"M337.7214,-1293.8796C346.512,-1284.7832 355.8966,-1275.0722 364.9426,-1265.7116\"/>\n<polygon fill=\"#000000\" stroke=\"#000000\" points=\"367.6745,-1267.9212 372.1069,-1258.2981 362.6409,-1263.0568 367.6745,-1267.9212\"/>\n</g>\n<!-- 20 -->\n<g id=\"node21\" class=\"node\">\n<title>20</title>\n<path fill=\"#9ccef2\" stroke=\"#000000\" d=\"M390.5,-1139C390.5,-1139 288.5,-1139 288.5,-1139 282.5,-1139 276.5,-1133 276.5,-1127 276.5,-1127 276.5,-1068 276.5,-1068 276.5,-1062 282.5,-1056 288.5,-1056 288.5,-1056 390.5,-1056 390.5,-1056 396.5,-1056 402.5,-1062 402.5,-1068 402.5,-1068 402.5,-1127 402.5,-1127 402.5,-1133 396.5,-1139 390.5,-1139\"/>\n<text text-anchor=\"start\" x=\"284.5\" y=\"-1123.8\" font-family=\"Helvetica,sans-Serif\" font-size=\"14.00\" fill=\"#000000\">Bechalor ≤ 1.119</text>\n<text text-anchor=\"start\" x=\"301.5\" y=\"-1108.8\" font-family=\"Helvetica,sans-Serif\" font-size=\"14.00\" fill=\"#000000\">gini = 0.444</text>\n<text text-anchor=\"start\" x=\"300\" y=\"-1093.8\" font-family=\"Helvetica,sans-Serif\" font-size=\"14.00\" fill=\"#000000\">samples = 6</text>\n<text text-anchor=\"start\" x=\"298\" y=\"-1078.8\" font-family=\"Helvetica,sans-Serif\" font-size=\"14.00\" fill=\"#000000\">value = [2, 4]</text>\n<text text-anchor=\"start\" x=\"310.5\" y=\"-1063.8\" font-family=\"Helvetica,sans-Serif\" font-size=\"14.00\" fill=\"#000000\">class = o</text>\n</g>\n<!-- 19&#45;&gt;20 -->\n<g id=\"edge20\" class=\"edge\">\n<title>19&#45;&gt;20</title>\n<path fill=\"none\" stroke=\"#000000\" d=\"M386.9681,-1174.8796C381.609,-1166.1434 375.9021,-1156.8404 370.3718,-1147.8253\"/>\n<polygon fill=\"#000000\" stroke=\"#000000\" points=\"373.3533,-1145.9919 365.1408,-1139.2981 367.3865,-1149.6522 373.3533,-1145.9919\"/>\n</g>\n<!-- 27 -->\n<g id=\"node28\" class=\"node\">\n<title>27</title>\n<path fill=\"#6ab6ec\" stroke=\"#000000\" d=\"M536.5,-1139C536.5,-1139 432.5,-1139 432.5,-1139 426.5,-1139 420.5,-1133 420.5,-1127 420.5,-1127 420.5,-1068 420.5,-1068 420.5,-1062 426.5,-1056 432.5,-1056 432.5,-1056 536.5,-1056 536.5,-1056 542.5,-1056 548.5,-1062 548.5,-1068 548.5,-1068 548.5,-1127 548.5,-1127 548.5,-1133 542.5,-1139 536.5,-1139\"/>\n<text text-anchor=\"start\" x=\"428.5\" y=\"-1123.8\" font-family=\"Helvetica,sans-Serif\" font-size=\"14.00\" fill=\"#000000\">Principal ≤ &#45;0.399</text>\n<text text-anchor=\"start\" x=\"451\" y=\"-1108.8\" font-family=\"Helvetica,sans-Serif\" font-size=\"14.00\" fill=\"#000000\">gini = 0.32</text>\n<text text-anchor=\"start\" x=\"445\" y=\"-1093.8\" font-family=\"Helvetica,sans-Serif\" font-size=\"14.00\" fill=\"#000000\">samples = 5</text>\n<text text-anchor=\"start\" x=\"443\" y=\"-1078.8\" font-family=\"Helvetica,sans-Serif\" font-size=\"14.00\" fill=\"#000000\">value = [1, 4]</text>\n<text text-anchor=\"start\" x=\"455.5\" y=\"-1063.8\" font-family=\"Helvetica,sans-Serif\" font-size=\"14.00\" fill=\"#000000\">class = o</text>\n</g>\n<!-- 19&#45;&gt;27 -->\n<g id=\"edge27\" class=\"edge\">\n<title>19&#45;&gt;27</title>\n<path fill=\"none\" stroke=\"#000000\" d=\"M437.6821,-1174.8796C442.9133,-1166.2335 448.4805,-1157.0322 453.8823,-1148.1042\"/>\n<polygon fill=\"#000000\" stroke=\"#000000\" points=\"457.0283,-1149.6658 459.2104,-1139.2981 451.0392,-1146.0421 457.0283,-1149.6658\"/>\n</g>\n<!-- 21 -->\n<g id=\"node22\" class=\"node\">\n<title>21</title>\n<path fill=\"#7bbeee\" stroke=\"#000000\" d=\"M249,-1020C249,-1020 174,-1020 174,-1020 168,-1020 162,-1014 162,-1008 162,-1008 162,-949 162,-949 162,-943 168,-937 174,-937 174,-937 249,-937 249,-937 255,-937 261,-943 261,-949 261,-949 261,-1008 261,-1008 261,-1014 255,-1020 249,-1020\"/>\n<text text-anchor=\"start\" x=\"170.5\" y=\"-1004.8\" font-family=\"Helvetica,sans-Serif\" font-size=\"14.00\" fill=\"#000000\">age ≤ &#45;1.068</text>\n<text text-anchor=\"start\" x=\"173.5\" y=\"-989.8\" font-family=\"Helvetica,sans-Serif\" font-size=\"14.00\" fill=\"#000000\">gini = 0.375</text>\n<text text-anchor=\"start\" x=\"172\" y=\"-974.8\" font-family=\"Helvetica,sans-Serif\" font-size=\"14.00\" fill=\"#000000\">samples = 4</text>\n<text text-anchor=\"start\" x=\"170\" y=\"-959.8\" font-family=\"Helvetica,sans-Serif\" font-size=\"14.00\" fill=\"#000000\">value = [1, 3]</text>\n<text text-anchor=\"start\" x=\"182.5\" y=\"-944.8\" font-family=\"Helvetica,sans-Serif\" font-size=\"14.00\" fill=\"#000000\">class = o</text>\n</g>\n<!-- 20&#45;&gt;21 -->\n<g id=\"edge21\" class=\"edge\">\n<title>20&#45;&gt;21</title>\n<path fill=\"none\" stroke=\"#000000\" d=\"M294.7318,-1055.8796C284.7537,-1046.6031 274.0881,-1036.6874 263.8358,-1027.1559\"/>\n<polygon fill=\"#000000\" stroke=\"#000000\" points=\"266.1663,-1024.5436 256.4593,-1020.2981 261.4,-1029.6704 266.1663,-1024.5436\"/>\n</g>\n<!-- 24 -->\n<g id=\"node25\" class=\"node\">\n<title>24</title>\n<path fill=\"#ffffff\" stroke=\"#000000\" d=\"M395.5,-1020C395.5,-1020 291.5,-1020 291.5,-1020 285.5,-1020 279.5,-1014 279.5,-1008 279.5,-1008 279.5,-949 279.5,-949 279.5,-943 285.5,-937 291.5,-937 291.5,-937 395.5,-937 395.5,-937 401.5,-937 407.5,-943 407.5,-949 407.5,-949 407.5,-1008 407.5,-1008 407.5,-1014 401.5,-1020 395.5,-1020\"/>\n<text text-anchor=\"start\" x=\"287.5\" y=\"-1004.8\" font-family=\"Helvetica,sans-Serif\" font-size=\"14.00\" fill=\"#000000\">Principal ≤ &#45;0.399</text>\n<text text-anchor=\"start\" x=\"314\" y=\"-989.8\" font-family=\"Helvetica,sans-Serif\" font-size=\"14.00\" fill=\"#000000\">gini = 0.5</text>\n<text text-anchor=\"start\" x=\"304\" y=\"-974.8\" font-family=\"Helvetica,sans-Serif\" font-size=\"14.00\" fill=\"#000000\">samples = 2</text>\n<text text-anchor=\"start\" x=\"302\" y=\"-959.8\" font-family=\"Helvetica,sans-Serif\" font-size=\"14.00\" fill=\"#000000\">value = [1, 1]</text>\n<text text-anchor=\"start\" x=\"317\" y=\"-944.8\" font-family=\"Helvetica,sans-Serif\" font-size=\"14.00\" fill=\"#000000\">class = l</text>\n</g>\n<!-- 20&#45;&gt;24 -->\n<g id=\"edge24\" class=\"edge\">\n<title>20&#45;&gt;24</title>\n<path fill=\"none\" stroke=\"#000000\" d=\"M340.899,-1055.8796C341.1745,-1047.6838 341.4668,-1038.9891 341.7521,-1030.5013\"/>\n<polygon fill=\"#000000\" stroke=\"#000000\" points=\"345.257,-1030.41 342.095,-1020.2981 338.261,-1030.1748 345.257,-1030.41\"/>\n</g>\n<!-- 22 -->\n<g id=\"node23\" class=\"node\">\n<title>22</title>\n<path fill=\"#399de5\" stroke=\"#000000\" d=\"M136,-893.5C136,-893.5 61,-893.5 61,-893.5 55,-893.5 49,-887.5 49,-881.5 49,-881.5 49,-837.5 49,-837.5 49,-831.5 55,-825.5 61,-825.5 61,-825.5 136,-825.5 136,-825.5 142,-825.5 148,-831.5 148,-837.5 148,-837.5 148,-881.5 148,-881.5 148,-887.5 142,-893.5 136,-893.5\"/>\n<text text-anchor=\"start\" x=\"69\" y=\"-878.3\" font-family=\"Helvetica,sans-Serif\" font-size=\"14.00\" fill=\"#000000\">gini = 0.0</text>\n<text text-anchor=\"start\" x=\"59\" y=\"-863.3\" font-family=\"Helvetica,sans-Serif\" font-size=\"14.00\" fill=\"#000000\">samples = 1</text>\n<text text-anchor=\"start\" x=\"57\" y=\"-848.3\" font-family=\"Helvetica,sans-Serif\" font-size=\"14.00\" fill=\"#000000\">value = [0, 1]</text>\n<text text-anchor=\"start\" x=\"69.5\" y=\"-833.3\" font-family=\"Helvetica,sans-Serif\" font-size=\"14.00\" fill=\"#000000\">class = o</text>\n</g>\n<!-- 21&#45;&gt;22 -->\n<g id=\"edge22\" class=\"edge\">\n<title>21&#45;&gt;22</title>\n<path fill=\"none\" stroke=\"#000000\" d=\"M171.9781,-936.8796C161.0143,-925.3337 149.1103,-912.7976 138.1399,-901.2446\"/>\n<polygon fill=\"#000000\" stroke=\"#000000\" points=\"140.5087,-898.6564 131.0848,-893.8149 135.4327,-903.4766 140.5087,-898.6564\"/>\n</g>\n<!-- 23 -->\n<g id=\"node24\" class=\"node\">\n<title>23</title>\n<path fill=\"#9ccef2\" stroke=\"#000000\" d=\"M253,-893.5C253,-893.5 178,-893.5 178,-893.5 172,-893.5 166,-887.5 166,-881.5 166,-881.5 166,-837.5 166,-837.5 166,-831.5 172,-825.5 178,-825.5 178,-825.5 253,-825.5 253,-825.5 259,-825.5 265,-831.5 265,-837.5 265,-837.5 265,-881.5 265,-881.5 265,-887.5 259,-893.5 253,-893.5\"/>\n<text text-anchor=\"start\" x=\"177.5\" y=\"-878.3\" font-family=\"Helvetica,sans-Serif\" font-size=\"14.00\" fill=\"#000000\">gini = 0.444</text>\n<text text-anchor=\"start\" x=\"176\" y=\"-863.3\" font-family=\"Helvetica,sans-Serif\" font-size=\"14.00\" fill=\"#000000\">samples = 3</text>\n<text text-anchor=\"start\" x=\"174\" y=\"-848.3\" font-family=\"Helvetica,sans-Serif\" font-size=\"14.00\" fill=\"#000000\">value = [1, 2]</text>\n<text text-anchor=\"start\" x=\"186.5\" y=\"-833.3\" font-family=\"Helvetica,sans-Serif\" font-size=\"14.00\" fill=\"#000000\">class = o</text>\n</g>\n<!-- 21&#45;&gt;23 -->\n<g id=\"edge23\" class=\"edge\">\n<title>21&#45;&gt;23</title>\n<path fill=\"none\" stroke=\"#000000\" d=\"M212.899,-936.8796C213.2575,-926.2134 213.6445,-914.7021 214.0075,-903.9015\"/>\n<polygon fill=\"#000000\" stroke=\"#000000\" points=\"217.5085,-903.9269 214.3466,-893.8149 210.5125,-903.6917 217.5085,-903.9269\"/>\n</g>\n<!-- 25 -->\n<g id=\"node26\" class=\"node\">\n<title>25</title>\n<path fill=\"#e58139\" stroke=\"#000000\" d=\"M377,-893.5C377,-893.5 302,-893.5 302,-893.5 296,-893.5 290,-887.5 290,-881.5 290,-881.5 290,-837.5 290,-837.5 290,-831.5 296,-825.5 302,-825.5 302,-825.5 377,-825.5 377,-825.5 383,-825.5 389,-831.5 389,-837.5 389,-837.5 389,-881.5 389,-881.5 389,-887.5 383,-893.5 377,-893.5\"/>\n<text text-anchor=\"start\" x=\"310\" y=\"-878.3\" font-family=\"Helvetica,sans-Serif\" font-size=\"14.00\" fill=\"#000000\">gini = 0.0</text>\n<text text-anchor=\"start\" x=\"300\" y=\"-863.3\" font-family=\"Helvetica,sans-Serif\" font-size=\"14.00\" fill=\"#000000\">samples = 1</text>\n<text text-anchor=\"start\" x=\"298\" y=\"-848.3\" font-family=\"Helvetica,sans-Serif\" font-size=\"14.00\" fill=\"#000000\">value = [1, 0]</text>\n<text text-anchor=\"start\" x=\"313\" y=\"-833.3\" font-family=\"Helvetica,sans-Serif\" font-size=\"14.00\" fill=\"#000000\">class = l</text>\n</g>\n<!-- 24&#45;&gt;25 -->\n<g id=\"edge25\" class=\"edge\">\n<title>24&#45;&gt;25</title>\n<path fill=\"none\" stroke=\"#000000\" d=\"M342.101,-936.8796C341.7425,-926.2134 341.3555,-914.7021 340.9925,-903.9015\"/>\n<polygon fill=\"#000000\" stroke=\"#000000\" points=\"344.4875,-903.6917 340.6534,-893.8149 337.4915,-903.9269 344.4875,-903.6917\"/>\n</g>\n<!-- 26 -->\n<g id=\"node27\" class=\"node\">\n<title>26</title>\n<path fill=\"#399de5\" stroke=\"#000000\" d=\"M494,-893.5C494,-893.5 419,-893.5 419,-893.5 413,-893.5 407,-887.5 407,-881.5 407,-881.5 407,-837.5 407,-837.5 407,-831.5 413,-825.5 419,-825.5 419,-825.5 494,-825.5 494,-825.5 500,-825.5 506,-831.5 506,-837.5 506,-837.5 506,-881.5 506,-881.5 506,-887.5 500,-893.5 494,-893.5\"/>\n<text text-anchor=\"start\" x=\"427\" y=\"-878.3\" font-family=\"Helvetica,sans-Serif\" font-size=\"14.00\" fill=\"#000000\">gini = 0.0</text>\n<text text-anchor=\"start\" x=\"417\" y=\"-863.3\" font-family=\"Helvetica,sans-Serif\" font-size=\"14.00\" fill=\"#000000\">samples = 1</text>\n<text text-anchor=\"start\" x=\"415\" y=\"-848.3\" font-family=\"Helvetica,sans-Serif\" font-size=\"14.00\" fill=\"#000000\">value = [0, 1]</text>\n<text text-anchor=\"start\" x=\"427.5\" y=\"-833.3\" font-family=\"Helvetica,sans-Serif\" font-size=\"14.00\" fill=\"#000000\">class = o</text>\n</g>\n<!-- 24&#45;&gt;26 -->\n<g id=\"edge26\" class=\"edge\">\n<title>24&#45;&gt;26</title>\n<path fill=\"none\" stroke=\"#000000\" d=\"M383.0219,-936.8796C393.9857,-925.3337 405.8897,-912.7976 416.8601,-901.2446\"/>\n<polygon fill=\"#000000\" stroke=\"#000000\" points=\"419.5673,-903.4766 423.9152,-893.8149 414.4913,-898.6564 419.5673,-903.4766\"/>\n</g>\n<!-- 28 -->\n<g id=\"node29\" class=\"node\">\n<title>28</title>\n<path fill=\"#399de5\" stroke=\"#000000\" d=\"M519,-1012.5C519,-1012.5 444,-1012.5 444,-1012.5 438,-1012.5 432,-1006.5 432,-1000.5 432,-1000.5 432,-956.5 432,-956.5 432,-950.5 438,-944.5 444,-944.5 444,-944.5 519,-944.5 519,-944.5 525,-944.5 531,-950.5 531,-956.5 531,-956.5 531,-1000.5 531,-1000.5 531,-1006.5 525,-1012.5 519,-1012.5\"/>\n<text text-anchor=\"start\" x=\"452\" y=\"-997.3\" font-family=\"Helvetica,sans-Serif\" font-size=\"14.00\" fill=\"#000000\">gini = 0.0</text>\n<text text-anchor=\"start\" x=\"442\" y=\"-982.3\" font-family=\"Helvetica,sans-Serif\" font-size=\"14.00\" fill=\"#000000\">samples = 2</text>\n<text text-anchor=\"start\" x=\"440\" y=\"-967.3\" font-family=\"Helvetica,sans-Serif\" font-size=\"14.00\" fill=\"#000000\">value = [0, 2]</text>\n<text text-anchor=\"start\" x=\"452.5\" y=\"-952.3\" font-family=\"Helvetica,sans-Serif\" font-size=\"14.00\" fill=\"#000000\">class = o</text>\n</g>\n<!-- 27&#45;&gt;28 -->\n<g id=\"edge28\" class=\"edge\">\n<title>27&#45;&gt;28</title>\n<path fill=\"none\" stroke=\"#000000\" d=\"M483.4507,-1055.8796C483.1818,-1045.2134 482.8916,-1033.7021 482.6194,-1022.9015\"/>\n<polygon fill=\"#000000\" stroke=\"#000000\" points=\"486.1161,-1022.7235 482.3651,-1012.8149 479.1183,-1022.9 486.1161,-1022.7235\"/>\n</g>\n<!-- 29 -->\n<g id=\"node30\" class=\"node\">\n<title>29</title>\n<path fill=\"#9ccef2\" stroke=\"#000000\" d=\"M644,-1020C644,-1020 561,-1020 561,-1020 555,-1020 549,-1014 549,-1008 549,-1008 549,-949 549,-949 549,-943 555,-937 561,-937 561,-937 644,-937 644,-937 650,-937 656,-943 656,-949 656,-949 656,-1008 656,-1008 656,-1014 650,-1020 644,-1020\"/>\n<text text-anchor=\"start\" x=\"557\" y=\"-1004.8\" font-family=\"Helvetica,sans-Serif\" font-size=\"14.00\" fill=\"#000000\">college ≤ 0.14</text>\n<text text-anchor=\"start\" x=\"564.5\" y=\"-989.8\" font-family=\"Helvetica,sans-Serif\" font-size=\"14.00\" fill=\"#000000\">gini = 0.444</text>\n<text text-anchor=\"start\" x=\"563\" y=\"-974.8\" font-family=\"Helvetica,sans-Serif\" font-size=\"14.00\" fill=\"#000000\">samples = 3</text>\n<text text-anchor=\"start\" x=\"561\" y=\"-959.8\" font-family=\"Helvetica,sans-Serif\" font-size=\"14.00\" fill=\"#000000\">value = [1, 2]</text>\n<text text-anchor=\"start\" x=\"573.5\" y=\"-944.8\" font-family=\"Helvetica,sans-Serif\" font-size=\"14.00\" fill=\"#000000\">class = o</text>\n</g>\n<!-- 27&#45;&gt;29 -->\n<g id=\"edge29\" class=\"edge\">\n<title>27&#45;&gt;29</title>\n<path fill=\"none\" stroke=\"#000000\" d=\"M525.7707,-1055.8796C534.8799,-1046.6931 544.6108,-1036.8798 553.9776,-1027.4336\"/>\n<polygon fill=\"#000000\" stroke=\"#000000\" points=\"556.4973,-1029.8634 561.0532,-1020.2981 551.5267,-1024.9345 556.4973,-1029.8634\"/>\n</g>\n<!-- 30 -->\n<g id=\"node31\" class=\"node\">\n<title>30</title>\n<path fill=\"#399de5\" stroke=\"#000000\" d=\"M620,-893.5C620,-893.5 545,-893.5 545,-893.5 539,-893.5 533,-887.5 533,-881.5 533,-881.5 533,-837.5 533,-837.5 533,-831.5 539,-825.5 545,-825.5 545,-825.5 620,-825.5 620,-825.5 626,-825.5 632,-831.5 632,-837.5 632,-837.5 632,-881.5 632,-881.5 632,-887.5 626,-893.5 620,-893.5\"/>\n<text text-anchor=\"start\" x=\"553\" y=\"-878.3\" font-family=\"Helvetica,sans-Serif\" font-size=\"14.00\" fill=\"#000000\">gini = 0.0</text>\n<text text-anchor=\"start\" x=\"543\" y=\"-863.3\" font-family=\"Helvetica,sans-Serif\" font-size=\"14.00\" fill=\"#000000\">samples = 1</text>\n<text text-anchor=\"start\" x=\"541\" y=\"-848.3\" font-family=\"Helvetica,sans-Serif\" font-size=\"14.00\" fill=\"#000000\">value = [0, 1]</text>\n<text text-anchor=\"start\" x=\"553.5\" y=\"-833.3\" font-family=\"Helvetica,sans-Serif\" font-size=\"14.00\" fill=\"#000000\">class = o</text>\n</g>\n<!-- 29&#45;&gt;30 -->\n<g id=\"edge30\" class=\"edge\">\n<title>29&#45;&gt;30</title>\n<path fill=\"none\" stroke=\"#000000\" d=\"M595.505,-936.8796C593.7123,-926.2134 591.7777,-914.7021 589.9624,-903.9015\"/>\n<polygon fill=\"#000000\" stroke=\"#000000\" points=\"593.3763,-903.0965 588.2672,-893.8149 586.4731,-904.2568 593.3763,-903.0965\"/>\n</g>\n<!-- 31 -->\n<g id=\"node32\" class=\"node\">\n<title>31</title>\n<path fill=\"#ffffff\" stroke=\"#000000\" d=\"M737,-893.5C737,-893.5 662,-893.5 662,-893.5 656,-893.5 650,-887.5 650,-881.5 650,-881.5 650,-837.5 650,-837.5 650,-831.5 656,-825.5 662,-825.5 662,-825.5 737,-825.5 737,-825.5 743,-825.5 749,-831.5 749,-837.5 749,-837.5 749,-881.5 749,-881.5 749,-887.5 743,-893.5 737,-893.5\"/>\n<text text-anchor=\"start\" x=\"670\" y=\"-878.3\" font-family=\"Helvetica,sans-Serif\" font-size=\"14.00\" fill=\"#000000\">gini = 0.5</text>\n<text text-anchor=\"start\" x=\"660\" y=\"-863.3\" font-family=\"Helvetica,sans-Serif\" font-size=\"14.00\" fill=\"#000000\">samples = 2</text>\n<text text-anchor=\"start\" x=\"658\" y=\"-848.3\" font-family=\"Helvetica,sans-Serif\" font-size=\"14.00\" fill=\"#000000\">value = [1, 1]</text>\n<text text-anchor=\"start\" x=\"673\" y=\"-833.3\" font-family=\"Helvetica,sans-Serif\" font-size=\"14.00\" fill=\"#000000\">class = l</text>\n</g>\n<!-- 29&#45;&gt;31 -->\n<g id=\"edge31\" class=\"edge\">\n<title>29&#45;&gt;31</title>\n<path fill=\"none\" stroke=\"#000000\" d=\"M636.4259,-936.8796C645.7476,-925.4436 655.8612,-913.0363 665.2036,-901.575\"/>\n<polygon fill=\"#000000\" stroke=\"#000000\" points=\"667.9237,-903.7775 671.529,-893.8149 662.4979,-899.3548 667.9237,-903.7775\"/>\n</g>\n<!-- 34 -->\n<g id=\"node35\" class=\"node\">\n<title>34</title>\n<path fill=\"#7bbeee\" stroke=\"#000000\" d=\"M765.5,-1615C765.5,-1615 663.5,-1615 663.5,-1615 657.5,-1615 651.5,-1609 651.5,-1603 651.5,-1603 651.5,-1544 651.5,-1544 651.5,-1538 657.5,-1532 663.5,-1532 663.5,-1532 765.5,-1532 765.5,-1532 771.5,-1532 777.5,-1538 777.5,-1544 777.5,-1544 777.5,-1603 777.5,-1603 777.5,-1609 771.5,-1615 765.5,-1615\"/>\n<text text-anchor=\"start\" x=\"659.5\" y=\"-1599.8\" font-family=\"Helvetica,sans-Serif\" font-size=\"14.00\" fill=\"#000000\">Bechalor ≤ 1.119</text>\n<text text-anchor=\"start\" x=\"676.5\" y=\"-1584.8\" font-family=\"Helvetica,sans-Serif\" font-size=\"14.00\" fill=\"#000000\">gini = 0.375</text>\n<text text-anchor=\"start\" x=\"675\" y=\"-1569.8\" font-family=\"Helvetica,sans-Serif\" font-size=\"14.00\" fill=\"#000000\">samples = 8</text>\n<text text-anchor=\"start\" x=\"673\" y=\"-1554.8\" font-family=\"Helvetica,sans-Serif\" font-size=\"14.00\" fill=\"#000000\">value = [2, 6]</text>\n<text text-anchor=\"start\" x=\"685.5\" y=\"-1539.8\" font-family=\"Helvetica,sans-Serif\" font-size=\"14.00\" fill=\"#000000\">class = o</text>\n</g>\n<!-- 33&#45;&gt;34 -->\n<g id=\"edge34\" class=\"edge\">\n<title>33&#45;&gt;34</title>\n<path fill=\"none\" stroke=\"#000000\" d=\"M829.4122,-1652.5437C814.6697,-1642.4029 798.6885,-1631.41 783.4639,-1620.9376\"/>\n<polygon fill=\"#000000\" stroke=\"#000000\" points=\"785.3189,-1617.9655 775.0962,-1615.1818 781.3517,-1623.7328 785.3189,-1617.9655\"/>\n</g>\n<!-- 41 -->\n<g id=\"node42\" class=\"node\">\n<title>41</title>\n<path fill=\"#f4c9aa\" stroke=\"#000000\" d=\"M1073,-1615C1073,-1615 890,-1615 890,-1615 884,-1615 878,-1609 878,-1603 878,-1603 878,-1544 878,-1544 878,-1538 884,-1532 890,-1532 890,-1532 1073,-1532 1073,-1532 1079,-1532 1085,-1538 1085,-1544 1085,-1544 1085,-1603 1085,-1603 1085,-1609 1079,-1615 1073,-1615\"/>\n<text text-anchor=\"start\" x=\"886\" y=\"-1599.8\" font-family=\"Helvetica,sans-Serif\" font-size=\"14.00\" fill=\"#000000\">High School or Below ≤ 0.128</text>\n<text text-anchor=\"start\" x=\"943.5\" y=\"-1584.8\" font-family=\"Helvetica,sans-Serif\" font-size=\"14.00\" fill=\"#000000\">gini = 0.463</text>\n<text text-anchor=\"start\" x=\"937.5\" y=\"-1569.8\" font-family=\"Helvetica,sans-Serif\" font-size=\"14.00\" fill=\"#000000\">samples = 22</text>\n<text text-anchor=\"start\" x=\"936\" y=\"-1554.8\" font-family=\"Helvetica,sans-Serif\" font-size=\"14.00\" fill=\"#000000\">value = [14, 8]</text>\n<text text-anchor=\"start\" x=\"955\" y=\"-1539.8\" font-family=\"Helvetica,sans-Serif\" font-size=\"14.00\" fill=\"#000000\">class = l</text>\n</g>\n<!-- 33&#45;&gt;41 -->\n<g id=\"edge41\" class=\"edge\">\n<title>33&#45;&gt;41</title>\n<path fill=\"none\" stroke=\"#000000\" d=\"M920.3766,-1650.8796C927.4197,-1641.9633 934.9293,-1632.4565 942.1874,-1623.268\"/>\n<polygon fill=\"#000000\" stroke=\"#000000\" points=\"945.0309,-1625.3147 948.483,-1615.2981 939.5379,-1620.9757 945.0309,-1625.3147\"/>\n</g>\n<!-- 35 -->\n<g id=\"node36\" class=\"node\">\n<title>35</title>\n<path fill=\"#61b1ea\" stroke=\"#000000\" d=\"M573,-1496C573,-1496 498,-1496 498,-1496 492,-1496 486,-1490 486,-1484 486,-1484 486,-1425 486,-1425 486,-1419 492,-1413 498,-1413 498,-1413 573,-1413 573,-1413 579,-1413 585,-1419 585,-1425 585,-1425 585,-1484 585,-1484 585,-1490 579,-1496 573,-1496\"/>\n<text text-anchor=\"start\" x=\"494.5\" y=\"-1480.8\" font-family=\"Helvetica,sans-Serif\" font-size=\"14.00\" fill=\"#000000\">age ≤ &#45;1.565</text>\n<text text-anchor=\"start\" x=\"497.5\" y=\"-1465.8\" font-family=\"Helvetica,sans-Serif\" font-size=\"14.00\" fill=\"#000000\">gini = 0.278</text>\n<text text-anchor=\"start\" x=\"496\" y=\"-1450.8\" font-family=\"Helvetica,sans-Serif\" font-size=\"14.00\" fill=\"#000000\">samples = 6</text>\n<text text-anchor=\"start\" x=\"494\" y=\"-1435.8\" font-family=\"Helvetica,sans-Serif\" font-size=\"14.00\" fill=\"#000000\">value = [1, 5]</text>\n<text text-anchor=\"start\" x=\"506.5\" y=\"-1420.8\" font-family=\"Helvetica,sans-Serif\" font-size=\"14.00\" fill=\"#000000\">class = o</text>\n</g>\n<!-- 34&#45;&gt;35 -->\n<g id=\"edge35\" class=\"edge\">\n<title>34&#45;&gt;35</title>\n<path fill=\"none\" stroke=\"#000000\" d=\"M651.8945,-1531.8796C632.9227,-1519.2671 612.1736,-1505.4729 593.5164,-1493.0695\"/>\n<polygon fill=\"#000000\" stroke=\"#000000\" points=\"595.3706,-1490.0994 585.1052,-1487.4778 591.4952,-1495.9288 595.3706,-1490.0994\"/>\n</g>\n<!-- 38 -->\n<g id=\"node39\" class=\"node\">\n<title>38</title>\n<path fill=\"#ffffff\" stroke=\"#000000\" d=\"M752,-1496C752,-1496 677,-1496 677,-1496 671,-1496 665,-1490 665,-1484 665,-1484 665,-1425 665,-1425 665,-1419 671,-1413 677,-1413 677,-1413 752,-1413 752,-1413 758,-1413 764,-1419 764,-1425 764,-1425 764,-1484 764,-1484 764,-1490 758,-1496 752,-1496\"/>\n<text text-anchor=\"start\" x=\"673.5\" y=\"-1480.8\" font-family=\"Helvetica,sans-Serif\" font-size=\"14.00\" fill=\"#000000\">age ≤ &#45;1.565</text>\n<text text-anchor=\"start\" x=\"685\" y=\"-1465.8\" font-family=\"Helvetica,sans-Serif\" font-size=\"14.00\" fill=\"#000000\">gini = 0.5</text>\n<text text-anchor=\"start\" x=\"675\" y=\"-1450.8\" font-family=\"Helvetica,sans-Serif\" font-size=\"14.00\" fill=\"#000000\">samples = 2</text>\n<text text-anchor=\"start\" x=\"673\" y=\"-1435.8\" font-family=\"Helvetica,sans-Serif\" font-size=\"14.00\" fill=\"#000000\">value = [1, 1]</text>\n<text text-anchor=\"start\" x=\"688\" y=\"-1420.8\" font-family=\"Helvetica,sans-Serif\" font-size=\"14.00\" fill=\"#000000\">class = l</text>\n</g>\n<!-- 34&#45;&gt;38 -->\n<g id=\"edge38\" class=\"edge\">\n<title>34&#45;&gt;38</title>\n<path fill=\"none\" stroke=\"#000000\" d=\"M714.5,-1531.8796C714.5,-1523.6838 714.5,-1514.9891 714.5,-1506.5013\"/>\n<polygon fill=\"#000000\" stroke=\"#000000\" points=\"718.0001,-1506.298 714.5,-1496.2981 711.0001,-1506.2981 718.0001,-1506.298\"/>\n</g>\n<!-- 36 -->\n<g id=\"node37\" class=\"node\">\n<title>36</title>\n<path fill=\"#9ccef2\" stroke=\"#000000\" d=\"M456,-1369.5C456,-1369.5 381,-1369.5 381,-1369.5 375,-1369.5 369,-1363.5 369,-1357.5 369,-1357.5 369,-1313.5 369,-1313.5 369,-1307.5 375,-1301.5 381,-1301.5 381,-1301.5 456,-1301.5 456,-1301.5 462,-1301.5 468,-1307.5 468,-1313.5 468,-1313.5 468,-1357.5 468,-1357.5 468,-1363.5 462,-1369.5 456,-1369.5\"/>\n<text text-anchor=\"start\" x=\"380.5\" y=\"-1354.3\" font-family=\"Helvetica,sans-Serif\" font-size=\"14.00\" fill=\"#000000\">gini = 0.444</text>\n<text text-anchor=\"start\" x=\"379\" y=\"-1339.3\" font-family=\"Helvetica,sans-Serif\" font-size=\"14.00\" fill=\"#000000\">samples = 3</text>\n<text text-anchor=\"start\" x=\"377\" y=\"-1324.3\" font-family=\"Helvetica,sans-Serif\" font-size=\"14.00\" fill=\"#000000\">value = [1, 2]</text>\n<text text-anchor=\"start\" x=\"389.5\" y=\"-1309.3\" font-family=\"Helvetica,sans-Serif\" font-size=\"14.00\" fill=\"#000000\">class = o</text>\n</g>\n<!-- 35&#45;&gt;36 -->\n<g id=\"edge36\" class=\"edge\">\n<title>35&#45;&gt;36</title>\n<path fill=\"none\" stroke=\"#000000\" d=\"M494.5791,-1412.8796C483.2272,-1401.3337 470.9018,-1388.7976 459.543,-1377.2446\"/>\n<polygon fill=\"#000000\" stroke=\"#000000\" points=\"461.7449,-1374.4919 452.2382,-1369.8149 456.7534,-1379.3995 461.7449,-1374.4919\"/>\n</g>\n<!-- 37 -->\n<g id=\"node38\" class=\"node\">\n<title>37</title>\n<path fill=\"#399de5\" stroke=\"#000000\" d=\"M573,-1369.5C573,-1369.5 498,-1369.5 498,-1369.5 492,-1369.5 486,-1363.5 486,-1357.5 486,-1357.5 486,-1313.5 486,-1313.5 486,-1307.5 492,-1301.5 498,-1301.5 498,-1301.5 573,-1301.5 573,-1301.5 579,-1301.5 585,-1307.5 585,-1313.5 585,-1313.5 585,-1357.5 585,-1357.5 585,-1363.5 579,-1369.5 573,-1369.5\"/>\n<text text-anchor=\"start\" x=\"506\" y=\"-1354.3\" font-family=\"Helvetica,sans-Serif\" font-size=\"14.00\" fill=\"#000000\">gini = 0.0</text>\n<text text-anchor=\"start\" x=\"496\" y=\"-1339.3\" font-family=\"Helvetica,sans-Serif\" font-size=\"14.00\" fill=\"#000000\">samples = 3</text>\n<text text-anchor=\"start\" x=\"494\" y=\"-1324.3\" font-family=\"Helvetica,sans-Serif\" font-size=\"14.00\" fill=\"#000000\">value = [0, 3]</text>\n<text text-anchor=\"start\" x=\"506.5\" y=\"-1309.3\" font-family=\"Helvetica,sans-Serif\" font-size=\"14.00\" fill=\"#000000\">class = o</text>\n</g>\n<!-- 35&#45;&gt;37 -->\n<g id=\"edge37\" class=\"edge\">\n<title>35&#45;&gt;37</title>\n<path fill=\"none\" stroke=\"#000000\" d=\"M535.5,-1412.8796C535.5,-1402.2134 535.5,-1390.7021 535.5,-1379.9015\"/>\n<polygon fill=\"#000000\" stroke=\"#000000\" points=\"539.0001,-1379.8149 535.5,-1369.8149 532.0001,-1379.815 539.0001,-1379.8149\"/>\n</g>\n<!-- 39 -->\n<g id=\"node40\" class=\"node\">\n<title>39</title>\n<path fill=\"#399de5\" stroke=\"#000000\" d=\"M690,-1369.5C690,-1369.5 615,-1369.5 615,-1369.5 609,-1369.5 603,-1363.5 603,-1357.5 603,-1357.5 603,-1313.5 603,-1313.5 603,-1307.5 609,-1301.5 615,-1301.5 615,-1301.5 690,-1301.5 690,-1301.5 696,-1301.5 702,-1307.5 702,-1313.5 702,-1313.5 702,-1357.5 702,-1357.5 702,-1363.5 696,-1369.5 690,-1369.5\"/>\n<text text-anchor=\"start\" x=\"623\" y=\"-1354.3\" font-family=\"Helvetica,sans-Serif\" font-size=\"14.00\" fill=\"#000000\">gini = 0.0</text>\n<text text-anchor=\"start\" x=\"613\" y=\"-1339.3\" font-family=\"Helvetica,sans-Serif\" font-size=\"14.00\" fill=\"#000000\">samples = 1</text>\n<text text-anchor=\"start\" x=\"611\" y=\"-1324.3\" font-family=\"Helvetica,sans-Serif\" font-size=\"14.00\" fill=\"#000000\">value = [0, 1]</text>\n<text text-anchor=\"start\" x=\"623.5\" y=\"-1309.3\" font-family=\"Helvetica,sans-Serif\" font-size=\"14.00\" fill=\"#000000\">class = o</text>\n</g>\n<!-- 38&#45;&gt;39 -->\n<g id=\"edge39\" class=\"edge\">\n<title>38&#45;&gt;39</title>\n<path fill=\"none\" stroke=\"#000000\" d=\"M692.8154,-1412.8796C687.0864,-1401.8835 680.8894,-1389.9893 675.1126,-1378.9015\"/>\n<polygon fill=\"#000000\" stroke=\"#000000\" points=\"678.103,-1377.0662 670.3784,-1369.8149 671.895,-1380.3007 678.103,-1377.0662\"/>\n</g>\n<!-- 40 -->\n<g id=\"node41\" class=\"node\">\n<title>40</title>\n<path fill=\"#e58139\" stroke=\"#000000\" d=\"M807,-1369.5C807,-1369.5 732,-1369.5 732,-1369.5 726,-1369.5 720,-1363.5 720,-1357.5 720,-1357.5 720,-1313.5 720,-1313.5 720,-1307.5 726,-1301.5 732,-1301.5 732,-1301.5 807,-1301.5 807,-1301.5 813,-1301.5 819,-1307.5 819,-1313.5 819,-1313.5 819,-1357.5 819,-1357.5 819,-1363.5 813,-1369.5 807,-1369.5\"/>\n<text text-anchor=\"start\" x=\"740\" y=\"-1354.3\" font-family=\"Helvetica,sans-Serif\" font-size=\"14.00\" fill=\"#000000\">gini = 0.0</text>\n<text text-anchor=\"start\" x=\"730\" y=\"-1339.3\" font-family=\"Helvetica,sans-Serif\" font-size=\"14.00\" fill=\"#000000\">samples = 1</text>\n<text text-anchor=\"start\" x=\"728\" y=\"-1324.3\" font-family=\"Helvetica,sans-Serif\" font-size=\"14.00\" fill=\"#000000\">value = [1, 0]</text>\n<text text-anchor=\"start\" x=\"743\" y=\"-1309.3\" font-family=\"Helvetica,sans-Serif\" font-size=\"14.00\" fill=\"#000000\">class = l</text>\n</g>\n<!-- 38&#45;&gt;40 -->\n<g id=\"edge40\" class=\"edge\">\n<title>38&#45;&gt;40</title>\n<path fill=\"none\" stroke=\"#000000\" d=\"M733.7363,-1412.8796C738.8186,-1401.8835 744.3159,-1389.9893 749.4405,-1378.9015\"/>\n<polygon fill=\"#000000\" stroke=\"#000000\" points=\"752.6218,-1380.3607 753.6402,-1369.8149 746.2676,-1377.4239 752.6218,-1380.3607\"/>\n</g>\n<!-- 42 -->\n<g id=\"node43\" class=\"node\">\n<title>42</title>\n<path fill=\"#fbede3\" stroke=\"#000000\" d=\"M1021.5,-1496C1021.5,-1496 941.5,-1496 941.5,-1496 935.5,-1496 929.5,-1490 929.5,-1484 929.5,-1484 929.5,-1425 929.5,-1425 929.5,-1419 935.5,-1413 941.5,-1413 941.5,-1413 1021.5,-1413 1021.5,-1413 1027.5,-1413 1033.5,-1419 1033.5,-1425 1033.5,-1425 1033.5,-1484 1033.5,-1484 1033.5,-1490 1027.5,-1496 1021.5,-1496\"/>\n<text text-anchor=\"start\" x=\"940.5\" y=\"-1480.8\" font-family=\"Helvetica,sans-Serif\" font-size=\"14.00\" fill=\"#000000\">age ≤ &#45;0.902</text>\n<text text-anchor=\"start\" x=\"943.5\" y=\"-1465.8\" font-family=\"Helvetica,sans-Serif\" font-size=\"14.00\" fill=\"#000000\">gini = 0.497</text>\n<text text-anchor=\"start\" x=\"937.5\" y=\"-1450.8\" font-family=\"Helvetica,sans-Serif\" font-size=\"14.00\" fill=\"#000000\">samples = 13</text>\n<text text-anchor=\"start\" x=\"940\" y=\"-1435.8\" font-family=\"Helvetica,sans-Serif\" font-size=\"14.00\" fill=\"#000000\">value = [7, 6]</text>\n<text text-anchor=\"start\" x=\"955\" y=\"-1420.8\" font-family=\"Helvetica,sans-Serif\" font-size=\"14.00\" fill=\"#000000\">class = l</text>\n</g>\n<!-- 41&#45;&gt;42 -->\n<g id=\"edge42\" class=\"edge\">\n<title>41&#45;&gt;42</title>\n<path fill=\"none\" stroke=\"#000000\" d=\"M981.5,-1531.8796C981.5,-1523.6838 981.5,-1514.9891 981.5,-1506.5013\"/>\n<polygon fill=\"#000000\" stroke=\"#000000\" points=\"985.0001,-1506.298 981.5,-1496.2981 978.0001,-1506.2981 985.0001,-1506.298\"/>\n</g>\n<!-- 49 -->\n<g id=\"node50\" class=\"node\">\n<title>49</title>\n<path fill=\"#eca572\" stroke=\"#000000\" d=\"M1166,-1496C1166,-1496 1091,-1496 1091,-1496 1085,-1496 1079,-1490 1079,-1484 1079,-1484 1079,-1425 1079,-1425 1079,-1419 1085,-1413 1091,-1413 1091,-1413 1166,-1413 1166,-1413 1172,-1413 1178,-1419 1178,-1425 1178,-1425 1178,-1484 1178,-1484 1178,-1490 1172,-1496 1166,-1496\"/>\n<text text-anchor=\"start\" x=\"1087.5\" y=\"-1480.8\" font-family=\"Helvetica,sans-Serif\" font-size=\"14.00\" fill=\"#000000\">age ≤ &#45;1.234</text>\n<text text-anchor=\"start\" x=\"1090.5\" y=\"-1465.8\" font-family=\"Helvetica,sans-Serif\" font-size=\"14.00\" fill=\"#000000\">gini = 0.346</text>\n<text text-anchor=\"start\" x=\"1089\" y=\"-1450.8\" font-family=\"Helvetica,sans-Serif\" font-size=\"14.00\" fill=\"#000000\">samples = 9</text>\n<text text-anchor=\"start\" x=\"1087\" y=\"-1435.8\" font-family=\"Helvetica,sans-Serif\" font-size=\"14.00\" fill=\"#000000\">value = [7, 2]</text>\n<text text-anchor=\"start\" x=\"1102\" y=\"-1420.8\" font-family=\"Helvetica,sans-Serif\" font-size=\"14.00\" fill=\"#000000\">class = l</text>\n</g>\n<!-- 41&#45;&gt;49 -->\n<g id=\"edge49\" class=\"edge\">\n<title>41&#45;&gt;49</title>\n<path fill=\"none\" stroke=\"#000000\" d=\"M1032.9135,-1531.8796C1045.1385,-1521.9831 1058.2623,-1511.3591 1070.7496,-1501.2503\"/>\n<polygon fill=\"#000000\" stroke=\"#000000\" points=\"1073.2775,-1503.707 1078.8478,-1494.6946 1068.8731,-1498.2663 1073.2775,-1503.707\"/>\n</g>\n<!-- 43 -->\n<g id=\"node44\" class=\"node\">\n<title>43</title>\n<path fill=\"#f2c09c\" stroke=\"#000000\" d=\"M924,-1377C924,-1377 849,-1377 849,-1377 843,-1377 837,-1371 837,-1365 837,-1365 837,-1306 837,-1306 837,-1300 843,-1294 849,-1294 849,-1294 924,-1294 924,-1294 930,-1294 936,-1300 936,-1306 936,-1306 936,-1365 936,-1365 936,-1371 930,-1377 924,-1377\"/>\n<text text-anchor=\"start\" x=\"845.5\" y=\"-1361.8\" font-family=\"Helvetica,sans-Serif\" font-size=\"14.00\" fill=\"#000000\">age ≤ &#45;1.068</text>\n<text text-anchor=\"start\" x=\"848.5\" y=\"-1346.8\" font-family=\"Helvetica,sans-Serif\" font-size=\"14.00\" fill=\"#000000\">gini = 0.444</text>\n<text text-anchor=\"start\" x=\"847\" y=\"-1331.8\" font-family=\"Helvetica,sans-Serif\" font-size=\"14.00\" fill=\"#000000\">samples = 6</text>\n<text text-anchor=\"start\" x=\"845\" y=\"-1316.8\" font-family=\"Helvetica,sans-Serif\" font-size=\"14.00\" fill=\"#000000\">value = [4, 2]</text>\n<text text-anchor=\"start\" x=\"860\" y=\"-1301.8\" font-family=\"Helvetica,sans-Serif\" font-size=\"14.00\" fill=\"#000000\">class = l</text>\n</g>\n<!-- 42&#45;&gt;43 -->\n<g id=\"edge43\" class=\"edge\">\n<title>42&#45;&gt;43</title>\n<path fill=\"none\" stroke=\"#000000\" d=\"M948.2736,-1412.8796C941.1556,-1403.9633 933.5661,-1394.4565 926.2308,-1385.268\"/>\n<polygon fill=\"#000000\" stroke=\"#000000\" points=\"928.8425,-1382.9295 919.8682,-1377.2981 923.3719,-1387.2968 928.8425,-1382.9295\"/>\n</g>\n<!-- 46 -->\n<g id=\"node47\" class=\"node\">\n<title>46</title>\n<path fill=\"#cee6f8\" stroke=\"#000000\" d=\"M1049,-1377C1049,-1377 966,-1377 966,-1377 960,-1377 954,-1371 954,-1365 954,-1365 954,-1306 954,-1306 954,-1300 960,-1294 966,-1294 966,-1294 1049,-1294 1049,-1294 1055,-1294 1061,-1300 1061,-1306 1061,-1306 1061,-1365 1061,-1365 1061,-1371 1055,-1377 1049,-1377\"/>\n<text text-anchor=\"start\" x=\"962\" y=\"-1361.8\" font-family=\"Helvetica,sans-Serif\" font-size=\"14.00\" fill=\"#000000\">college ≤ 0.14</text>\n<text text-anchor=\"start\" x=\"974\" y=\"-1346.8\" font-family=\"Helvetica,sans-Serif\" font-size=\"14.00\" fill=\"#000000\">gini = 0.49</text>\n<text text-anchor=\"start\" x=\"968\" y=\"-1331.8\" font-family=\"Helvetica,sans-Serif\" font-size=\"14.00\" fill=\"#000000\">samples = 7</text>\n<text text-anchor=\"start\" x=\"966\" y=\"-1316.8\" font-family=\"Helvetica,sans-Serif\" font-size=\"14.00\" fill=\"#000000\">value = [3, 4]</text>\n<text text-anchor=\"start\" x=\"978.5\" y=\"-1301.8\" font-family=\"Helvetica,sans-Serif\" font-size=\"14.00\" fill=\"#000000\">class = o</text>\n</g>\n<!-- 42&#45;&gt;46 -->\n<g id=\"edge46\" class=\"edge\">\n<title>42&#45;&gt;46</title>\n<path fill=\"none\" stroke=\"#000000\" d=\"M990.5935,-1412.8796C992.4039,-1404.5938 994.3257,-1395.798 996.1995,-1387.2216\"/>\n<polygon fill=\"#000000\" stroke=\"#000000\" points=\"999.6524,-1387.8147 998.3676,-1377.2981 992.8137,-1386.3205 999.6524,-1387.8147\"/>\n</g>\n<!-- 44 -->\n<g id=\"node45\" class=\"node\">\n<title>44</title>\n<path fill=\"#ffffff\" stroke=\"#000000\" d=\"M807,-1250.5C807,-1250.5 732,-1250.5 732,-1250.5 726,-1250.5 720,-1244.5 720,-1238.5 720,-1238.5 720,-1194.5 720,-1194.5 720,-1188.5 726,-1182.5 732,-1182.5 732,-1182.5 807,-1182.5 807,-1182.5 813,-1182.5 819,-1188.5 819,-1194.5 819,-1194.5 819,-1238.5 819,-1238.5 819,-1244.5 813,-1250.5 807,-1250.5\"/>\n<text text-anchor=\"start\" x=\"740\" y=\"-1235.3\" font-family=\"Helvetica,sans-Serif\" font-size=\"14.00\" fill=\"#000000\">gini = 0.5</text>\n<text text-anchor=\"start\" x=\"730\" y=\"-1220.3\" font-family=\"Helvetica,sans-Serif\" font-size=\"14.00\" fill=\"#000000\">samples = 4</text>\n<text text-anchor=\"start\" x=\"728\" y=\"-1205.3\" font-family=\"Helvetica,sans-Serif\" font-size=\"14.00\" fill=\"#000000\">value = [2, 2]</text>\n<text text-anchor=\"start\" x=\"743\" y=\"-1190.3\" font-family=\"Helvetica,sans-Serif\" font-size=\"14.00\" fill=\"#000000\">class = l</text>\n</g>\n<!-- 43&#45;&gt;44 -->\n<g id=\"edge44\" class=\"edge\">\n<title>43&#45;&gt;44</title>\n<path fill=\"none\" stroke=\"#000000\" d=\"M845.5791,-1293.8796C834.2272,-1282.3337 821.9018,-1269.7976 810.543,-1258.2446\"/>\n<polygon fill=\"#000000\" stroke=\"#000000\" points=\"812.7449,-1255.4919 803.2382,-1250.8149 807.7534,-1260.3995 812.7449,-1255.4919\"/>\n</g>\n<!-- 45 -->\n<g id=\"node46\" class=\"node\">\n<title>45</title>\n<path fill=\"#e58139\" stroke=\"#000000\" d=\"M924,-1250.5C924,-1250.5 849,-1250.5 849,-1250.5 843,-1250.5 837,-1244.5 837,-1238.5 837,-1238.5 837,-1194.5 837,-1194.5 837,-1188.5 843,-1182.5 849,-1182.5 849,-1182.5 924,-1182.5 924,-1182.5 930,-1182.5 936,-1188.5 936,-1194.5 936,-1194.5 936,-1238.5 936,-1238.5 936,-1244.5 930,-1250.5 924,-1250.5\"/>\n<text text-anchor=\"start\" x=\"857\" y=\"-1235.3\" font-family=\"Helvetica,sans-Serif\" font-size=\"14.00\" fill=\"#000000\">gini = 0.0</text>\n<text text-anchor=\"start\" x=\"847\" y=\"-1220.3\" font-family=\"Helvetica,sans-Serif\" font-size=\"14.00\" fill=\"#000000\">samples = 2</text>\n<text text-anchor=\"start\" x=\"845\" y=\"-1205.3\" font-family=\"Helvetica,sans-Serif\" font-size=\"14.00\" fill=\"#000000\">value = [2, 0]</text>\n<text text-anchor=\"start\" x=\"860\" y=\"-1190.3\" font-family=\"Helvetica,sans-Serif\" font-size=\"14.00\" fill=\"#000000\">class = l</text>\n</g>\n<!-- 43&#45;&gt;45 -->\n<g id=\"edge45\" class=\"edge\">\n<title>43&#45;&gt;45</title>\n<path fill=\"none\" stroke=\"#000000\" d=\"M886.5,-1293.8796C886.5,-1283.2134 886.5,-1271.7021 886.5,-1260.9015\"/>\n<polygon fill=\"#000000\" stroke=\"#000000\" points=\"890.0001,-1260.8149 886.5,-1250.8149 883.0001,-1260.815 890.0001,-1260.8149\"/>\n</g>\n<!-- 47 -->\n<g id=\"node48\" class=\"node\">\n<title>47</title>\n<path fill=\"#ffffff\" stroke=\"#000000\" d=\"M1041,-1250.5C1041,-1250.5 966,-1250.5 966,-1250.5 960,-1250.5 954,-1244.5 954,-1238.5 954,-1238.5 954,-1194.5 954,-1194.5 954,-1188.5 960,-1182.5 966,-1182.5 966,-1182.5 1041,-1182.5 1041,-1182.5 1047,-1182.5 1053,-1188.5 1053,-1194.5 1053,-1194.5 1053,-1238.5 1053,-1238.5 1053,-1244.5 1047,-1250.5 1041,-1250.5\"/>\n<text text-anchor=\"start\" x=\"974\" y=\"-1235.3\" font-family=\"Helvetica,sans-Serif\" font-size=\"14.00\" fill=\"#000000\">gini = 0.5</text>\n<text text-anchor=\"start\" x=\"964\" y=\"-1220.3\" font-family=\"Helvetica,sans-Serif\" font-size=\"14.00\" fill=\"#000000\">samples = 2</text>\n<text text-anchor=\"start\" x=\"962\" y=\"-1205.3\" font-family=\"Helvetica,sans-Serif\" font-size=\"14.00\" fill=\"#000000\">value = [1, 1]</text>\n<text text-anchor=\"start\" x=\"977\" y=\"-1190.3\" font-family=\"Helvetica,sans-Serif\" font-size=\"14.00\" fill=\"#000000\">class = l</text>\n</g>\n<!-- 46&#45;&gt;47 -->\n<g id=\"edge47\" class=\"edge\">\n<title>46&#45;&gt;47</title>\n<path fill=\"none\" stroke=\"#000000\" d=\"M1006.101,-1293.8796C1005.7425,-1283.2134 1005.3555,-1271.7021 1004.9925,-1260.9015\"/>\n<polygon fill=\"#000000\" stroke=\"#000000\" points=\"1008.4875,-1260.6917 1004.6534,-1250.8149 1001.4915,-1260.9269 1008.4875,-1260.6917\"/>\n</g>\n<!-- 48 -->\n<g id=\"node49\" class=\"node\">\n<title>48</title>\n<path fill=\"#bddef6\" stroke=\"#000000\" d=\"M1158,-1250.5C1158,-1250.5 1083,-1250.5 1083,-1250.5 1077,-1250.5 1071,-1244.5 1071,-1238.5 1071,-1238.5 1071,-1194.5 1071,-1194.5 1071,-1188.5 1077,-1182.5 1083,-1182.5 1083,-1182.5 1158,-1182.5 1158,-1182.5 1164,-1182.5 1170,-1188.5 1170,-1194.5 1170,-1194.5 1170,-1238.5 1170,-1238.5 1170,-1244.5 1164,-1250.5 1158,-1250.5\"/>\n<text text-anchor=\"start\" x=\"1087\" y=\"-1235.3\" font-family=\"Helvetica,sans-Serif\" font-size=\"14.00\" fill=\"#000000\">gini = 0.48</text>\n<text text-anchor=\"start\" x=\"1081\" y=\"-1220.3\" font-family=\"Helvetica,sans-Serif\" font-size=\"14.00\" fill=\"#000000\">samples = 5</text>\n<text text-anchor=\"start\" x=\"1079\" y=\"-1205.3\" font-family=\"Helvetica,sans-Serif\" font-size=\"14.00\" fill=\"#000000\">value = [2, 3]</text>\n<text text-anchor=\"start\" x=\"1091.5\" y=\"-1190.3\" font-family=\"Helvetica,sans-Serif\" font-size=\"14.00\" fill=\"#000000\">class = o</text>\n</g>\n<!-- 46&#45;&gt;48 -->\n<g id=\"edge48\" class=\"edge\">\n<title>46&#45;&gt;48</title>\n<path fill=\"none\" stroke=\"#000000\" d=\"M1047.0219,-1293.8796C1057.9857,-1282.3337 1069.8897,-1269.7976 1080.8601,-1258.2446\"/>\n<polygon fill=\"#000000\" stroke=\"#000000\" points=\"1083.5673,-1260.4766 1087.9152,-1250.8149 1078.4913,-1255.6564 1083.5673,-1260.4766\"/>\n</g>\n<!-- 50 -->\n<g id=\"node51\" class=\"node\">\n<title>50</title>\n<path fill=\"#e58139\" stroke=\"#000000\" d=\"M1166,-1369.5C1166,-1369.5 1091,-1369.5 1091,-1369.5 1085,-1369.5 1079,-1363.5 1079,-1357.5 1079,-1357.5 1079,-1313.5 1079,-1313.5 1079,-1307.5 1085,-1301.5 1091,-1301.5 1091,-1301.5 1166,-1301.5 1166,-1301.5 1172,-1301.5 1178,-1307.5 1178,-1313.5 1178,-1313.5 1178,-1357.5 1178,-1357.5 1178,-1363.5 1172,-1369.5 1166,-1369.5\"/>\n<text text-anchor=\"start\" x=\"1099\" y=\"-1354.3\" font-family=\"Helvetica,sans-Serif\" font-size=\"14.00\" fill=\"#000000\">gini = 0.0</text>\n<text text-anchor=\"start\" x=\"1089\" y=\"-1339.3\" font-family=\"Helvetica,sans-Serif\" font-size=\"14.00\" fill=\"#000000\">samples = 2</text>\n<text text-anchor=\"start\" x=\"1087\" y=\"-1324.3\" font-family=\"Helvetica,sans-Serif\" font-size=\"14.00\" fill=\"#000000\">value = [2, 0]</text>\n<text text-anchor=\"start\" x=\"1102\" y=\"-1309.3\" font-family=\"Helvetica,sans-Serif\" font-size=\"14.00\" fill=\"#000000\">class = l</text>\n</g>\n<!-- 49&#45;&gt;50 -->\n<g id=\"edge50\" class=\"edge\">\n<title>49&#45;&gt;50</title>\n<path fill=\"none\" stroke=\"#000000\" d=\"M1128.5,-1412.8796C1128.5,-1402.2134 1128.5,-1390.7021 1128.5,-1379.9015\"/>\n<polygon fill=\"#000000\" stroke=\"#000000\" points=\"1132.0001,-1379.8149 1128.5,-1369.8149 1125.0001,-1379.815 1132.0001,-1379.8149\"/>\n</g>\n<!-- 51 -->\n<g id=\"node52\" class=\"node\">\n<title>51</title>\n<path fill=\"#efb388\" stroke=\"#000000\" d=\"M1283,-1377C1283,-1377 1208,-1377 1208,-1377 1202,-1377 1196,-1371 1196,-1365 1196,-1365 1196,-1306 1196,-1306 1196,-1300 1202,-1294 1208,-1294 1208,-1294 1283,-1294 1283,-1294 1289,-1294 1295,-1300 1295,-1306 1295,-1306 1295,-1365 1295,-1365 1295,-1371 1289,-1377 1283,-1377\"/>\n<text text-anchor=\"start\" x=\"1204.5\" y=\"-1361.8\" font-family=\"Helvetica,sans-Serif\" font-size=\"14.00\" fill=\"#000000\">age ≤ &#45;1.068</text>\n<text text-anchor=\"start\" x=\"1207.5\" y=\"-1346.8\" font-family=\"Helvetica,sans-Serif\" font-size=\"14.00\" fill=\"#000000\">gini = 0.408</text>\n<text text-anchor=\"start\" x=\"1206\" y=\"-1331.8\" font-family=\"Helvetica,sans-Serif\" font-size=\"14.00\" fill=\"#000000\">samples = 7</text>\n<text text-anchor=\"start\" x=\"1204\" y=\"-1316.8\" font-family=\"Helvetica,sans-Serif\" font-size=\"14.00\" fill=\"#000000\">value = [5, 2]</text>\n<text text-anchor=\"start\" x=\"1219\" y=\"-1301.8\" font-family=\"Helvetica,sans-Serif\" font-size=\"14.00\" fill=\"#000000\">class = l</text>\n</g>\n<!-- 49&#45;&gt;51 -->\n<g id=\"edge51\" class=\"edge\">\n<title>49&#45;&gt;51</title>\n<path fill=\"none\" stroke=\"#000000\" d=\"M1169.4209,-1412.8796C1178.453,-1403.6931 1188.1013,-1393.8798 1197.3888,-1384.4336\"/>\n<polygon fill=\"#000000\" stroke=\"#000000\" points=\"1199.8893,-1386.8827 1204.4044,-1377.2981 1194.8977,-1381.975 1199.8893,-1386.8827\"/>\n</g>\n<!-- 52 -->\n<g id=\"node53\" class=\"node\">\n<title>52</title>\n<path fill=\"#399de5\" stroke=\"#000000\" d=\"M1275,-1250.5C1275,-1250.5 1200,-1250.5 1200,-1250.5 1194,-1250.5 1188,-1244.5 1188,-1238.5 1188,-1238.5 1188,-1194.5 1188,-1194.5 1188,-1188.5 1194,-1182.5 1200,-1182.5 1200,-1182.5 1275,-1182.5 1275,-1182.5 1281,-1182.5 1287,-1188.5 1287,-1194.5 1287,-1194.5 1287,-1238.5 1287,-1238.5 1287,-1244.5 1281,-1250.5 1275,-1250.5\"/>\n<text text-anchor=\"start\" x=\"1208\" y=\"-1235.3\" font-family=\"Helvetica,sans-Serif\" font-size=\"14.00\" fill=\"#000000\">gini = 0.0</text>\n<text text-anchor=\"start\" x=\"1198\" y=\"-1220.3\" font-family=\"Helvetica,sans-Serif\" font-size=\"14.00\" fill=\"#000000\">samples = 1</text>\n<text text-anchor=\"start\" x=\"1196\" y=\"-1205.3\" font-family=\"Helvetica,sans-Serif\" font-size=\"14.00\" fill=\"#000000\">value = [0, 1]</text>\n<text text-anchor=\"start\" x=\"1208.5\" y=\"-1190.3\" font-family=\"Helvetica,sans-Serif\" font-size=\"14.00\" fill=\"#000000\">class = o</text>\n</g>\n<!-- 51&#45;&gt;52 -->\n<g id=\"edge52\" class=\"edge\">\n<title>51&#45;&gt;52</title>\n<path fill=\"none\" stroke=\"#000000\" d=\"M1242.702,-1293.8796C1241.9849,-1283.2134 1241.2111,-1271.7021 1240.485,-1260.9015\"/>\n<polygon fill=\"#000000\" stroke=\"#000000\" points=\"1243.9699,-1260.5576 1239.8069,-1250.8149 1236.9856,-1261.0272 1243.9699,-1260.5576\"/>\n</g>\n<!-- 53 -->\n<g id=\"node54\" class=\"node\">\n<title>53</title>\n<path fill=\"#ea9a61\" stroke=\"#000000\" d=\"M1392,-1258C1392,-1258 1317,-1258 1317,-1258 1311,-1258 1305,-1252 1305,-1246 1305,-1246 1305,-1187 1305,-1187 1305,-1181 1311,-1175 1317,-1175 1317,-1175 1392,-1175 1392,-1175 1398,-1175 1404,-1181 1404,-1187 1404,-1187 1404,-1246 1404,-1246 1404,-1252 1398,-1258 1392,-1258\"/>\n<text text-anchor=\"start\" x=\"1313.5\" y=\"-1242.8\" font-family=\"Helvetica,sans-Serif\" font-size=\"14.00\" fill=\"#000000\">age ≤ &#45;0.902</text>\n<text text-anchor=\"start\" x=\"1316.5\" y=\"-1227.8\" font-family=\"Helvetica,sans-Serif\" font-size=\"14.00\" fill=\"#000000\">gini = 0.278</text>\n<text text-anchor=\"start\" x=\"1315\" y=\"-1212.8\" font-family=\"Helvetica,sans-Serif\" font-size=\"14.00\" fill=\"#000000\">samples = 6</text>\n<text text-anchor=\"start\" x=\"1313\" y=\"-1197.8\" font-family=\"Helvetica,sans-Serif\" font-size=\"14.00\" fill=\"#000000\">value = [5, 1]</text>\n<text text-anchor=\"start\" x=\"1328\" y=\"-1182.8\" font-family=\"Helvetica,sans-Serif\" font-size=\"14.00\" fill=\"#000000\">class = l</text>\n</g>\n<!-- 51&#45;&gt;53 -->\n<g id=\"edge53\" class=\"edge\">\n<title>51&#45;&gt;53</title>\n<path fill=\"none\" stroke=\"#000000\" d=\"M1283.6229,-1293.8796C1291.9549,-1284.7832 1300.8498,-1275.0722 1309.4239,-1265.7116\"/>\n<polygon fill=\"#000000\" stroke=\"#000000\" points=\"1312.0408,-1268.0363 1316.2144,-1258.2981 1306.8789,-1263.3081 1312.0408,-1268.0363\"/>\n</g>\n<!-- 54 -->\n<g id=\"node55\" class=\"node\">\n<title>54</title>\n<path fill=\"#e58139\" stroke=\"#000000\" d=\"M1275,-1131.5C1275,-1131.5 1200,-1131.5 1200,-1131.5 1194,-1131.5 1188,-1125.5 1188,-1119.5 1188,-1119.5 1188,-1075.5 1188,-1075.5 1188,-1069.5 1194,-1063.5 1200,-1063.5 1200,-1063.5 1275,-1063.5 1275,-1063.5 1281,-1063.5 1287,-1069.5 1287,-1075.5 1287,-1075.5 1287,-1119.5 1287,-1119.5 1287,-1125.5 1281,-1131.5 1275,-1131.5\"/>\n<text text-anchor=\"start\" x=\"1208\" y=\"-1116.3\" font-family=\"Helvetica,sans-Serif\" font-size=\"14.00\" fill=\"#000000\">gini = 0.0</text>\n<text text-anchor=\"start\" x=\"1198\" y=\"-1101.3\" font-family=\"Helvetica,sans-Serif\" font-size=\"14.00\" fill=\"#000000\">samples = 2</text>\n<text text-anchor=\"start\" x=\"1196\" y=\"-1086.3\" font-family=\"Helvetica,sans-Serif\" font-size=\"14.00\" fill=\"#000000\">value = [2, 0]</text>\n<text text-anchor=\"start\" x=\"1211\" y=\"-1071.3\" font-family=\"Helvetica,sans-Serif\" font-size=\"14.00\" fill=\"#000000\">class = l</text>\n</g>\n<!-- 53&#45;&gt;54 -->\n<g id=\"edge54\" class=\"edge\">\n<title>53&#45;&gt;54</title>\n<path fill=\"none\" stroke=\"#000000\" d=\"M1313.5791,-1174.8796C1302.2272,-1163.3337 1289.9018,-1150.7976 1278.543,-1139.2446\"/>\n<polygon fill=\"#000000\" stroke=\"#000000\" points=\"1280.7449,-1136.4919 1271.2382,-1131.8149 1275.7534,-1141.3995 1280.7449,-1136.4919\"/>\n</g>\n<!-- 55 -->\n<g id=\"node56\" class=\"node\">\n<title>55</title>\n<path fill=\"#eeab7b\" stroke=\"#000000\" d=\"M1392,-1131.5C1392,-1131.5 1317,-1131.5 1317,-1131.5 1311,-1131.5 1305,-1125.5 1305,-1119.5 1305,-1119.5 1305,-1075.5 1305,-1075.5 1305,-1069.5 1311,-1063.5 1317,-1063.5 1317,-1063.5 1392,-1063.5 1392,-1063.5 1398,-1063.5 1404,-1069.5 1404,-1075.5 1404,-1075.5 1404,-1119.5 1404,-1119.5 1404,-1125.5 1398,-1131.5 1392,-1131.5\"/>\n<text text-anchor=\"start\" x=\"1316.5\" y=\"-1116.3\" font-family=\"Helvetica,sans-Serif\" font-size=\"14.00\" fill=\"#000000\">gini = 0.375</text>\n<text text-anchor=\"start\" x=\"1315\" y=\"-1101.3\" font-family=\"Helvetica,sans-Serif\" font-size=\"14.00\" fill=\"#000000\">samples = 4</text>\n<text text-anchor=\"start\" x=\"1313\" y=\"-1086.3\" font-family=\"Helvetica,sans-Serif\" font-size=\"14.00\" fill=\"#000000\">value = [3, 1]</text>\n<text text-anchor=\"start\" x=\"1328\" y=\"-1071.3\" font-family=\"Helvetica,sans-Serif\" font-size=\"14.00\" fill=\"#000000\">class = l</text>\n</g>\n<!-- 53&#45;&gt;55 -->\n<g id=\"edge55\" class=\"edge\">\n<title>53&#45;&gt;55</title>\n<path fill=\"none\" stroke=\"#000000\" d=\"M1354.5,-1174.8796C1354.5,-1164.2134 1354.5,-1152.7021 1354.5,-1141.9015\"/>\n<polygon fill=\"#000000\" stroke=\"#000000\" points=\"1358.0001,-1141.8149 1354.5,-1131.8149 1351.0001,-1141.815 1358.0001,-1141.8149\"/>\n</g>\n<!-- 57 -->\n<g id=\"node58\" class=\"node\">\n<title>57</title>\n<path fill=\"#89c5f0\" stroke=\"#000000\" d=\"M1920.5,-1734C1920.5,-1734 1820.5,-1734 1820.5,-1734 1814.5,-1734 1808.5,-1728 1808.5,-1722 1808.5,-1722 1808.5,-1663 1808.5,-1663 1808.5,-1657 1814.5,-1651 1820.5,-1651 1820.5,-1651 1920.5,-1651 1920.5,-1651 1926.5,-1651 1932.5,-1657 1932.5,-1663 1932.5,-1663 1932.5,-1722 1932.5,-1722 1932.5,-1728 1926.5,-1734 1920.5,-1734\"/>\n<text text-anchor=\"start\" x=\"1832\" y=\"-1718.8\" font-family=\"Helvetica,sans-Serif\" font-size=\"14.00\" fill=\"#000000\">age ≤ 2.414</text>\n<text text-anchor=\"start\" x=\"1837\" y=\"-1703.8\" font-family=\"Helvetica,sans-Serif\" font-size=\"14.00\" fill=\"#000000\">gini = 0.41</text>\n<text text-anchor=\"start\" x=\"1822.5\" y=\"-1688.8\" font-family=\"Helvetica,sans-Serif\" font-size=\"14.00\" fill=\"#000000\">samples = 163</text>\n<text text-anchor=\"start\" x=\"1816.5\" y=\"-1673.8\" font-family=\"Helvetica,sans-Serif\" font-size=\"14.00\" fill=\"#000000\">value = [47, 116]</text>\n<text text-anchor=\"start\" x=\"1841.5\" y=\"-1658.8\" font-family=\"Helvetica,sans-Serif\" font-size=\"14.00\" fill=\"#000000\">class = o</text>\n</g>\n<!-- 56&#45;&gt;57 -->\n<g id=\"edge57\" class=\"edge\">\n<title>56&#45;&gt;57</title>\n<path fill=\"none\" stroke=\"#000000\" d=\"M1870.5,-1769.8796C1870.5,-1761.6838 1870.5,-1752.9891 1870.5,-1744.5013\"/>\n<polygon fill=\"#000000\" stroke=\"#000000\" points=\"1874.0001,-1744.298 1870.5,-1734.2981 1867.0001,-1744.2981 1874.0001,-1744.298\"/>\n</g>\n<!-- 176 -->\n<g id=\"node177\" class=\"node\">\n<title>176</title>\n<path fill=\"#399de5\" stroke=\"#000000\" d=\"M2038,-1726.5C2038,-1726.5 1963,-1726.5 1963,-1726.5 1957,-1726.5 1951,-1720.5 1951,-1714.5 1951,-1714.5 1951,-1670.5 1951,-1670.5 1951,-1664.5 1957,-1658.5 1963,-1658.5 1963,-1658.5 2038,-1658.5 2038,-1658.5 2044,-1658.5 2050,-1664.5 2050,-1670.5 2050,-1670.5 2050,-1714.5 2050,-1714.5 2050,-1720.5 2044,-1726.5 2038,-1726.5\"/>\n<text text-anchor=\"start\" x=\"1971\" y=\"-1711.3\" font-family=\"Helvetica,sans-Serif\" font-size=\"14.00\" fill=\"#000000\">gini = 0.0</text>\n<text text-anchor=\"start\" x=\"1961\" y=\"-1696.3\" font-family=\"Helvetica,sans-Serif\" font-size=\"14.00\" fill=\"#000000\">samples = 3</text>\n<text text-anchor=\"start\" x=\"1959\" y=\"-1681.3\" font-family=\"Helvetica,sans-Serif\" font-size=\"14.00\" fill=\"#000000\">value = [0, 3]</text>\n<text text-anchor=\"start\" x=\"1971.5\" y=\"-1666.3\" font-family=\"Helvetica,sans-Serif\" font-size=\"14.00\" fill=\"#000000\">class = o</text>\n</g>\n<!-- 56&#45;&gt;176 -->\n<g id=\"edge176\" class=\"edge\">\n<title>56&#45;&gt;176</title>\n<path fill=\"none\" stroke=\"#000000\" d=\"M1915.9677,-1769.8796C1928.8211,-1758.1138 1942.7979,-1745.3197 1955.6166,-1733.5855\"/>\n<polygon fill=\"#000000\" stroke=\"#000000\" points=\"1958.0001,-1736.1488 1963.0131,-1726.8149 1953.2736,-1730.9854 1958.0001,-1736.1488\"/>\n</g>\n<!-- 58 -->\n<g id=\"node59\" class=\"node\">\n<title>58</title>\n<path fill=\"#88c4ef\" stroke=\"#000000\" d=\"M1920.5,-1615C1920.5,-1615 1820.5,-1615 1820.5,-1615 1814.5,-1615 1808.5,-1609 1808.5,-1603 1808.5,-1603 1808.5,-1544 1808.5,-1544 1808.5,-1538 1814.5,-1532 1820.5,-1532 1820.5,-1532 1920.5,-1532 1920.5,-1532 1926.5,-1532 1932.5,-1538 1932.5,-1544 1932.5,-1544 1932.5,-1603 1932.5,-1603 1932.5,-1609 1926.5,-1615 1920.5,-1615\"/>\n<text text-anchor=\"start\" x=\"1832\" y=\"-1599.8\" font-family=\"Helvetica,sans-Serif\" font-size=\"14.00\" fill=\"#000000\">age ≤ 1.585</text>\n<text text-anchor=\"start\" x=\"1832.5\" y=\"-1584.8\" font-family=\"Helvetica,sans-Serif\" font-size=\"14.00\" fill=\"#000000\">gini = 0.407</text>\n<text text-anchor=\"start\" x=\"1822.5\" y=\"-1569.8\" font-family=\"Helvetica,sans-Serif\" font-size=\"14.00\" fill=\"#000000\">samples = 162</text>\n<text text-anchor=\"start\" x=\"1816.5\" y=\"-1554.8\" font-family=\"Helvetica,sans-Serif\" font-size=\"14.00\" fill=\"#000000\">value = [46, 116]</text>\n<text text-anchor=\"start\" x=\"1841.5\" y=\"-1539.8\" font-family=\"Helvetica,sans-Serif\" font-size=\"14.00\" fill=\"#000000\">class = o</text>\n</g>\n<!-- 57&#45;&gt;58 -->\n<g id=\"edge58\" class=\"edge\">\n<title>57&#45;&gt;58</title>\n<path fill=\"none\" stroke=\"#000000\" d=\"M1870.5,-1650.8796C1870.5,-1642.6838 1870.5,-1633.9891 1870.5,-1625.5013\"/>\n<polygon fill=\"#000000\" stroke=\"#000000\" points=\"1874.0001,-1625.298 1870.5,-1615.2981 1867.0001,-1625.2981 1874.0001,-1625.298\"/>\n</g>\n<!-- 175 -->\n<g id=\"node176\" class=\"node\">\n<title>175</title>\n<path fill=\"#e58139\" stroke=\"#000000\" d=\"M2038,-1607.5C2038,-1607.5 1963,-1607.5 1963,-1607.5 1957,-1607.5 1951,-1601.5 1951,-1595.5 1951,-1595.5 1951,-1551.5 1951,-1551.5 1951,-1545.5 1957,-1539.5 1963,-1539.5 1963,-1539.5 2038,-1539.5 2038,-1539.5 2044,-1539.5 2050,-1545.5 2050,-1551.5 2050,-1551.5 2050,-1595.5 2050,-1595.5 2050,-1601.5 2044,-1607.5 2038,-1607.5\"/>\n<text text-anchor=\"start\" x=\"1971\" y=\"-1592.3\" font-family=\"Helvetica,sans-Serif\" font-size=\"14.00\" fill=\"#000000\">gini = 0.0</text>\n<text text-anchor=\"start\" x=\"1961\" y=\"-1577.3\" font-family=\"Helvetica,sans-Serif\" font-size=\"14.00\" fill=\"#000000\">samples = 1</text>\n<text text-anchor=\"start\" x=\"1959\" y=\"-1562.3\" font-family=\"Helvetica,sans-Serif\" font-size=\"14.00\" fill=\"#000000\">value = [1, 0]</text>\n<text text-anchor=\"start\" x=\"1974\" y=\"-1547.3\" font-family=\"Helvetica,sans-Serif\" font-size=\"14.00\" fill=\"#000000\">class = l</text>\n</g>\n<!-- 57&#45;&gt;175 -->\n<g id=\"edge175\" class=\"edge\">\n<title>57&#45;&gt;175</title>\n<path fill=\"none\" stroke=\"#000000\" d=\"M1915.9677,-1650.8796C1928.8211,-1639.1138 1942.7979,-1626.3197 1955.6166,-1614.5855\"/>\n<polygon fill=\"#000000\" stroke=\"#000000\" points=\"1958.0001,-1617.1488 1963.0131,-1607.8149 1953.2736,-1611.9854 1958.0001,-1617.1488\"/>\n</g>\n<!-- 59 -->\n<g id=\"node60\" class=\"node\">\n<title>59</title>\n<path fill=\"#8bc6f0\" stroke=\"#000000\" d=\"M1920.5,-1496C1920.5,-1496 1820.5,-1496 1820.5,-1496 1814.5,-1496 1808.5,-1490 1808.5,-1484 1808.5,-1484 1808.5,-1425 1808.5,-1425 1808.5,-1419 1814.5,-1413 1820.5,-1413 1820.5,-1413 1920.5,-1413 1920.5,-1413 1926.5,-1413 1932.5,-1419 1932.5,-1425 1932.5,-1425 1932.5,-1484 1932.5,-1484 1932.5,-1490 1926.5,-1496 1920.5,-1496\"/>\n<text text-anchor=\"start\" x=\"1836\" y=\"-1480.8\" font-family=\"Helvetica,sans-Serif\" font-size=\"14.00\" fill=\"#000000\">age ≤ 1.42</text>\n<text text-anchor=\"start\" x=\"1832.5\" y=\"-1465.8\" font-family=\"Helvetica,sans-Serif\" font-size=\"14.00\" fill=\"#000000\">gini = 0.415</text>\n<text text-anchor=\"start\" x=\"1822.5\" y=\"-1450.8\" font-family=\"Helvetica,sans-Serif\" font-size=\"14.00\" fill=\"#000000\">samples = 150</text>\n<text text-anchor=\"start\" x=\"1816.5\" y=\"-1435.8\" font-family=\"Helvetica,sans-Serif\" font-size=\"14.00\" fill=\"#000000\">value = [44, 106]</text>\n<text text-anchor=\"start\" x=\"1841.5\" y=\"-1420.8\" font-family=\"Helvetica,sans-Serif\" font-size=\"14.00\" fill=\"#000000\">class = o</text>\n</g>\n<!-- 58&#45;&gt;59 -->\n<g id=\"edge59\" class=\"edge\">\n<title>58&#45;&gt;59</title>\n<path fill=\"none\" stroke=\"#000000\" d=\"M1870.5,-1531.8796C1870.5,-1523.6838 1870.5,-1514.9891 1870.5,-1506.5013\"/>\n<polygon fill=\"#000000\" stroke=\"#000000\" points=\"1874.0001,-1506.298 1870.5,-1496.2981 1867.0001,-1506.2981 1874.0001,-1506.298\"/>\n</g>\n<!-- 166 -->\n<g id=\"node167\" class=\"node\">\n<title>166</title>\n<path fill=\"#61b1ea\" stroke=\"#000000\" d=\"M2177,-1496C2177,-1496 2094,-1496 2094,-1496 2088,-1496 2082,-1490 2082,-1484 2082,-1484 2082,-1425 2082,-1425 2082,-1419 2088,-1413 2094,-1413 2094,-1413 2177,-1413 2177,-1413 2183,-1413 2189,-1419 2189,-1425 2189,-1425 2189,-1484 2189,-1484 2189,-1490 2183,-1496 2177,-1496\"/>\n<text text-anchor=\"start\" x=\"2097\" y=\"-1480.8\" font-family=\"Helvetica,sans-Serif\" font-size=\"14.00\" fill=\"#000000\">age ≤ 2.083</text>\n<text text-anchor=\"start\" x=\"2097.5\" y=\"-1465.8\" font-family=\"Helvetica,sans-Serif\" font-size=\"14.00\" fill=\"#000000\">gini = 0.278</text>\n<text text-anchor=\"start\" x=\"2091.5\" y=\"-1450.8\" font-family=\"Helvetica,sans-Serif\" font-size=\"14.00\" fill=\"#000000\">samples = 12</text>\n<text text-anchor=\"start\" x=\"2090\" y=\"-1435.8\" font-family=\"Helvetica,sans-Serif\" font-size=\"14.00\" fill=\"#000000\">value = [2, 10]</text>\n<text text-anchor=\"start\" x=\"2106.5\" y=\"-1420.8\" font-family=\"Helvetica,sans-Serif\" font-size=\"14.00\" fill=\"#000000\">class = o</text>\n</g>\n<!-- 58&#45;&gt;166 -->\n<g id=\"edge166\" class=\"edge\">\n<title>58&#45;&gt;166</title>\n<path fill=\"none\" stroke=\"#000000\" d=\"M1932.5513,-1536.5275C1935.5561,-1534.9593 1938.5495,-1533.4417 1941.5,-1532 1984.1578,-1511.1563 2033.9167,-1491.3648 2072.3601,-1476.9996\"/>\n<polygon fill=\"#000000\" stroke=\"#000000\" points=\"2073.7214,-1480.2277 2081.8788,-1473.467 2071.2858,-1473.665 2073.7214,-1480.2277\"/>\n</g>\n<!-- 60 -->\n<g id=\"node61\" class=\"node\">\n<title>60</title>\n<path fill=\"#88c4ef\" stroke=\"#000000\" d=\"M1848.5,-1377C1848.5,-1377 1748.5,-1377 1748.5,-1377 1742.5,-1377 1736.5,-1371 1736.5,-1365 1736.5,-1365 1736.5,-1306 1736.5,-1306 1736.5,-1300 1742.5,-1294 1748.5,-1294 1748.5,-1294 1848.5,-1294 1848.5,-1294 1854.5,-1294 1860.5,-1300 1860.5,-1306 1860.5,-1306 1860.5,-1365 1860.5,-1365 1860.5,-1371 1854.5,-1377 1848.5,-1377\"/>\n<text text-anchor=\"start\" x=\"1752\" y=\"-1361.8\" font-family=\"Helvetica,sans-Serif\" font-size=\"14.00\" fill=\"#000000\">terms ≤ &#45;0.019</text>\n<text text-anchor=\"start\" x=\"1760.5\" y=\"-1346.8\" font-family=\"Helvetica,sans-Serif\" font-size=\"14.00\" fill=\"#000000\">gini = 0.407</text>\n<text text-anchor=\"start\" x=\"1750.5\" y=\"-1331.8\" font-family=\"Helvetica,sans-Serif\" font-size=\"14.00\" fill=\"#000000\">samples = 144</text>\n<text text-anchor=\"start\" x=\"1744.5\" y=\"-1316.8\" font-family=\"Helvetica,sans-Serif\" font-size=\"14.00\" fill=\"#000000\">value = [41, 103]</text>\n<text text-anchor=\"start\" x=\"1769.5\" y=\"-1301.8\" font-family=\"Helvetica,sans-Serif\" font-size=\"14.00\" fill=\"#000000\">class = o</text>\n</g>\n<!-- 59&#45;&gt;60 -->\n<g id=\"edge60\" class=\"edge\">\n<title>59&#45;&gt;60</title>\n<path fill=\"none\" stroke=\"#000000\" d=\"M1845.3179,-1412.8796C1840.0867,-1404.2335 1834.5195,-1395.0322 1829.1177,-1386.1042\"/>\n<polygon fill=\"#000000\" stroke=\"#000000\" points=\"1831.9608,-1384.0421 1823.7896,-1377.2981 1825.9717,-1387.6658 1831.9608,-1384.0421\"/>\n</g>\n<!-- 159 -->\n<g id=\"node160\" class=\"node\">\n<title>159</title>\n<path fill=\"#ffffff\" stroke=\"#000000\" d=\"M1994.5,-1377C1994.5,-1377 1890.5,-1377 1890.5,-1377 1884.5,-1377 1878.5,-1371 1878.5,-1365 1878.5,-1365 1878.5,-1306 1878.5,-1306 1878.5,-1300 1884.5,-1294 1890.5,-1294 1890.5,-1294 1994.5,-1294 1994.5,-1294 2000.5,-1294 2006.5,-1300 2006.5,-1306 2006.5,-1306 2006.5,-1365 2006.5,-1365 2006.5,-1371 2000.5,-1377 1994.5,-1377\"/>\n<text text-anchor=\"start\" x=\"1886.5\" y=\"-1361.8\" font-family=\"Helvetica,sans-Serif\" font-size=\"14.00\" fill=\"#000000\">Principal ≤ &#45;0.399</text>\n<text text-anchor=\"start\" x=\"1913\" y=\"-1346.8\" font-family=\"Helvetica,sans-Serif\" font-size=\"14.00\" fill=\"#000000\">gini = 0.5</text>\n<text text-anchor=\"start\" x=\"1903\" y=\"-1331.8\" font-family=\"Helvetica,sans-Serif\" font-size=\"14.00\" fill=\"#000000\">samples = 6</text>\n<text text-anchor=\"start\" x=\"1901\" y=\"-1316.8\" font-family=\"Helvetica,sans-Serif\" font-size=\"14.00\" fill=\"#000000\">value = [3, 3]</text>\n<text text-anchor=\"start\" x=\"1916\" y=\"-1301.8\" font-family=\"Helvetica,sans-Serif\" font-size=\"14.00\" fill=\"#000000\">class = l</text>\n</g>\n<!-- 59&#45;&gt;159 -->\n<g id=\"edge159\" class=\"edge\">\n<title>59&#45;&gt;159</title>\n<path fill=\"none\" stroke=\"#000000\" d=\"M1895.6821,-1412.8796C1900.9133,-1404.2335 1906.4805,-1395.0322 1911.8823,-1386.1042\"/>\n<polygon fill=\"#000000\" stroke=\"#000000\" points=\"1915.0283,-1387.6658 1917.2104,-1377.2981 1909.0392,-1384.0421 1915.0283,-1387.6658\"/>\n</g>\n<!-- 61 -->\n<g id=\"node62\" class=\"node\">\n<title>61</title>\n<path fill=\"#93caf1\" stroke=\"#000000\" d=\"M1661.5,-1258C1661.5,-1258 1559.5,-1258 1559.5,-1258 1553.5,-1258 1547.5,-1252 1547.5,-1246 1547.5,-1246 1547.5,-1187 1547.5,-1187 1547.5,-1181 1553.5,-1175 1559.5,-1175 1559.5,-1175 1661.5,-1175 1661.5,-1175 1667.5,-1175 1673.5,-1181 1673.5,-1187 1673.5,-1187 1673.5,-1246 1673.5,-1246 1673.5,-1252 1667.5,-1258 1661.5,-1258\"/>\n<text text-anchor=\"start\" x=\"1555.5\" y=\"-1242.8\" font-family=\"Helvetica,sans-Serif\" font-size=\"14.00\" fill=\"#000000\">Bechalor ≤ 1.119</text>\n<text text-anchor=\"start\" x=\"1577\" y=\"-1227.8\" font-family=\"Helvetica,sans-Serif\" font-size=\"14.00\" fill=\"#000000\">gini = 0.43</text>\n<text text-anchor=\"start\" x=\"1566.5\" y=\"-1212.8\" font-family=\"Helvetica,sans-Serif\" font-size=\"14.00\" fill=\"#000000\">samples = 64</text>\n<text text-anchor=\"start\" x=\"1560.5\" y=\"-1197.8\" font-family=\"Helvetica,sans-Serif\" font-size=\"14.00\" fill=\"#000000\">value = [20, 44]</text>\n<text text-anchor=\"start\" x=\"1581.5\" y=\"-1182.8\" font-family=\"Helvetica,sans-Serif\" font-size=\"14.00\" fill=\"#000000\">class = o</text>\n</g>\n<!-- 60&#45;&gt;61 -->\n<g id=\"edge61\" class=\"edge\">\n<title>60&#45;&gt;61</title>\n<path fill=\"none\" stroke=\"#000000\" d=\"M1736.4207,-1296.2052C1719.1411,-1285.2675 1700.2283,-1273.2961 1682.4338,-1262.0326\"/>\n<polygon fill=\"#000000\" stroke=\"#000000\" points=\"1684.1217,-1258.9587 1673.8002,-1256.5677 1680.3778,-1264.8734 1684.1217,-1258.9587\"/>\n</g>\n<!-- 114 -->\n<g id=\"node115\" class=\"node\">\n<title>114</title>\n<path fill=\"#7fc0ee\" stroke=\"#000000\" d=\"M1856.5,-1258C1856.5,-1258 1754.5,-1258 1754.5,-1258 1748.5,-1258 1742.5,-1252 1742.5,-1246 1742.5,-1246 1742.5,-1187 1742.5,-1187 1742.5,-1181 1748.5,-1175 1754.5,-1175 1754.5,-1175 1856.5,-1175 1856.5,-1175 1862.5,-1175 1868.5,-1181 1868.5,-1187 1868.5,-1187 1868.5,-1246 1868.5,-1246 1868.5,-1252 1862.5,-1258 1856.5,-1258\"/>\n<text text-anchor=\"start\" x=\"1750.5\" y=\"-1242.8\" font-family=\"Helvetica,sans-Serif\" font-size=\"14.00\" fill=\"#000000\">Bechalor ≤ 1.119</text>\n<text text-anchor=\"start\" x=\"1767.5\" y=\"-1227.8\" font-family=\"Helvetica,sans-Serif\" font-size=\"14.00\" fill=\"#000000\">gini = 0.387</text>\n<text text-anchor=\"start\" x=\"1761.5\" y=\"-1212.8\" font-family=\"Helvetica,sans-Serif\" font-size=\"14.00\" fill=\"#000000\">samples = 80</text>\n<text text-anchor=\"start\" x=\"1755.5\" y=\"-1197.8\" font-family=\"Helvetica,sans-Serif\" font-size=\"14.00\" fill=\"#000000\">value = [21, 59]</text>\n<text text-anchor=\"start\" x=\"1776.5\" y=\"-1182.8\" font-family=\"Helvetica,sans-Serif\" font-size=\"14.00\" fill=\"#000000\">class = o</text>\n</g>\n<!-- 60&#45;&gt;114 -->\n<g id=\"edge114\" class=\"edge\">\n<title>60&#45;&gt;114</title>\n<path fill=\"none\" stroke=\"#000000\" d=\"M1800.9483,-1293.8796C1801.4304,-1285.6838 1801.9418,-1276.9891 1802.4411,-1268.5013\"/>\n<polygon fill=\"#000000\" stroke=\"#000000\" points=\"1805.9479,-1268.4864 1803.0413,-1258.2981 1798.96,-1268.0753 1805.9479,-1268.4864\"/>\n</g>\n<!-- 62 -->\n<g id=\"node63\" class=\"node\">\n<title>62</title>\n<path fill=\"#85c3ef\" stroke=\"#000000\" d=\"M1526.5,-1139C1526.5,-1139 1434.5,-1139 1434.5,-1139 1428.5,-1139 1422.5,-1133 1422.5,-1127 1422.5,-1127 1422.5,-1068 1422.5,-1068 1422.5,-1062 1428.5,-1056 1434.5,-1056 1434.5,-1056 1526.5,-1056 1526.5,-1056 1532.5,-1056 1538.5,-1062 1538.5,-1068 1538.5,-1068 1538.5,-1127 1538.5,-1127 1538.5,-1133 1532.5,-1139 1526.5,-1139\"/>\n<text text-anchor=\"start\" x=\"1442\" y=\"-1123.8\" font-family=\"Helvetica,sans-Serif\" font-size=\"14.00\" fill=\"#000000\">age ≤ 0.756</text>\n<text text-anchor=\"start\" x=\"1442.5\" y=\"-1108.8\" font-family=\"Helvetica,sans-Serif\" font-size=\"14.00\" fill=\"#000000\">gini = 0.401</text>\n<text text-anchor=\"start\" x=\"1436.5\" y=\"-1093.8\" font-family=\"Helvetica,sans-Serif\" font-size=\"14.00\" fill=\"#000000\">samples = 54</text>\n<text text-anchor=\"start\" x=\"1430.5\" y=\"-1078.8\" font-family=\"Helvetica,sans-Serif\" font-size=\"14.00\" fill=\"#000000\">value = [15, 39]</text>\n<text text-anchor=\"start\" x=\"1451.5\" y=\"-1063.8\" font-family=\"Helvetica,sans-Serif\" font-size=\"14.00\" fill=\"#000000\">class = o</text>\n</g>\n<!-- 61&#45;&gt;62 -->\n<g id=\"edge62\" class=\"edge\">\n<title>61&#45;&gt;62</title>\n<path fill=\"none\" stroke=\"#000000\" d=\"M1565.0323,-1174.8796C1554.8983,-1165.6031 1544.066,-1155.6874 1533.6535,-1146.1559\"/>\n<polygon fill=\"#000000\" stroke=\"#000000\" points=\"1535.9013,-1143.4685 1526.1618,-1139.2981 1531.1748,-1148.6319 1535.9013,-1143.4685\"/>\n</g>\n<!-- 105 -->\n<g id=\"node106\" class=\"node\">\n<title>105</title>\n<path fill=\"#ffffff\" stroke=\"#000000\" d=\"M1650.5,-1139C1650.5,-1139 1570.5,-1139 1570.5,-1139 1564.5,-1139 1558.5,-1133 1558.5,-1127 1558.5,-1127 1558.5,-1068 1558.5,-1068 1558.5,-1062 1564.5,-1056 1570.5,-1056 1570.5,-1056 1650.5,-1056 1650.5,-1056 1656.5,-1056 1662.5,-1062 1662.5,-1068 1662.5,-1068 1662.5,-1127 1662.5,-1127 1662.5,-1133 1656.5,-1139 1650.5,-1139\"/>\n<text text-anchor=\"start\" x=\"1569.5\" y=\"-1123.8\" font-family=\"Helvetica,sans-Serif\" font-size=\"14.00\" fill=\"#000000\">age ≤ &#45;0.073</text>\n<text text-anchor=\"start\" x=\"1581\" y=\"-1108.8\" font-family=\"Helvetica,sans-Serif\" font-size=\"14.00\" fill=\"#000000\">gini = 0.5</text>\n<text text-anchor=\"start\" x=\"1566.5\" y=\"-1093.8\" font-family=\"Helvetica,sans-Serif\" font-size=\"14.00\" fill=\"#000000\">samples = 10</text>\n<text text-anchor=\"start\" x=\"1569\" y=\"-1078.8\" font-family=\"Helvetica,sans-Serif\" font-size=\"14.00\" fill=\"#000000\">value = [5, 5]</text>\n<text text-anchor=\"start\" x=\"1584\" y=\"-1063.8\" font-family=\"Helvetica,sans-Serif\" font-size=\"14.00\" fill=\"#000000\">class = l</text>\n</g>\n<!-- 61&#45;&gt;105 -->\n<g id=\"edge105\" class=\"edge\">\n<title>61&#45;&gt;105</title>\n<path fill=\"none\" stroke=\"#000000\" d=\"M1610.5,-1174.8796C1610.5,-1166.6838 1610.5,-1157.9891 1610.5,-1149.5013\"/>\n<polygon fill=\"#000000\" stroke=\"#000000\" points=\"1614.0001,-1149.298 1610.5,-1139.2981 1607.0001,-1149.2981 1614.0001,-1149.298\"/>\n</g>\n<!-- 63 -->\n<g id=\"node64\" class=\"node\">\n<title>63</title>\n<path fill=\"#95cbf1\" stroke=\"#000000\" d=\"M1221.5,-1020C1221.5,-1020 1129.5,-1020 1129.5,-1020 1123.5,-1020 1117.5,-1014 1117.5,-1008 1117.5,-1008 1117.5,-949 1117.5,-949 1117.5,-943 1123.5,-937 1129.5,-937 1129.5,-937 1221.5,-937 1221.5,-937 1227.5,-937 1233.5,-943 1233.5,-949 1233.5,-949 1233.5,-1008 1233.5,-1008 1233.5,-1014 1227.5,-1020 1221.5,-1020\"/>\n<text text-anchor=\"start\" x=\"1137\" y=\"-1004.8\" font-family=\"Helvetica,sans-Serif\" font-size=\"14.00\" fill=\"#000000\">age ≤ 0.425</text>\n<text text-anchor=\"start\" x=\"1137.5\" y=\"-989.8\" font-family=\"Helvetica,sans-Serif\" font-size=\"14.00\" fill=\"#000000\">gini = 0.434</text>\n<text text-anchor=\"start\" x=\"1131.5\" y=\"-974.8\" font-family=\"Helvetica,sans-Serif\" font-size=\"14.00\" fill=\"#000000\">samples = 44</text>\n<text text-anchor=\"start\" x=\"1125.5\" y=\"-959.8\" font-family=\"Helvetica,sans-Serif\" font-size=\"14.00\" fill=\"#000000\">value = [14, 30]</text>\n<text text-anchor=\"start\" x=\"1146.5\" y=\"-944.8\" font-family=\"Helvetica,sans-Serif\" font-size=\"14.00\" fill=\"#000000\">class = o</text>\n</g>\n<!-- 62&#45;&gt;63 -->\n<g id=\"edge63\" class=\"edge\">\n<title>62&#45;&gt;63</title>\n<path fill=\"none\" stroke=\"#000000\" d=\"M1422.3696,-1060.8431C1419.0692,-1059.1334 1415.7656,-1057.5056 1412.5,-1056 1357.5154,-1030.6497 1291.8691,-1009.8663 1243.6236,-996.2264\"/>\n<polygon fill=\"#000000\" stroke=\"#000000\" points=\"1244.4823,-992.8323 1233.9091,-993.5098 1242.5971,-999.5737 1244.4823,-992.8323\"/>\n</g>\n<!-- 100 -->\n<g id=\"node101\" class=\"node\">\n<title>100</title>\n<path fill=\"#4fa8e8\" stroke=\"#000000\" d=\"M1505.5,-1020C1505.5,-1020 1401.5,-1020 1401.5,-1020 1395.5,-1020 1389.5,-1014 1389.5,-1008 1389.5,-1008 1389.5,-949 1389.5,-949 1389.5,-943 1395.5,-937 1401.5,-937 1401.5,-937 1505.5,-937 1505.5,-937 1511.5,-937 1517.5,-943 1517.5,-949 1517.5,-949 1517.5,-1008 1517.5,-1008 1517.5,-1014 1511.5,-1020 1505.5,-1020\"/>\n<text text-anchor=\"start\" x=\"1397.5\" y=\"-1004.8\" font-family=\"Helvetica,sans-Serif\" font-size=\"14.00\" fill=\"#000000\">Principal ≤ &#45;0.399</text>\n<text text-anchor=\"start\" x=\"1420\" y=\"-989.8\" font-family=\"Helvetica,sans-Serif\" font-size=\"14.00\" fill=\"#000000\">gini = 0.18</text>\n<text text-anchor=\"start\" x=\"1409.5\" y=\"-974.8\" font-family=\"Helvetica,sans-Serif\" font-size=\"14.00\" fill=\"#000000\">samples = 10</text>\n<text text-anchor=\"start\" x=\"1412\" y=\"-959.8\" font-family=\"Helvetica,sans-Serif\" font-size=\"14.00\" fill=\"#000000\">value = [1, 9]</text>\n<text text-anchor=\"start\" x=\"1424.5\" y=\"-944.8\" font-family=\"Helvetica,sans-Serif\" font-size=\"14.00\" fill=\"#000000\">class = o</text>\n</g>\n<!-- 62&#45;&gt;100 -->\n<g id=\"edge100\" class=\"edge\">\n<title>62&#45;&gt;100</title>\n<path fill=\"none\" stroke=\"#000000\" d=\"M1471.0567,-1055.8796C1469.1767,-1047.5938 1467.1811,-1038.798 1465.2351,-1030.2216\"/>\n<polygon fill=\"#000000\" stroke=\"#000000\" points=\"1468.6096,-1029.2757 1462.9836,-1020.2981 1461.7831,-1030.8247 1468.6096,-1029.2757\"/>\n</g>\n<!-- 64 -->\n<g id=\"node65\" class=\"node\">\n<title>64</title>\n<path fill=\"#85c3ef\" stroke=\"#000000\" d=\"M1042.5,-901C1042.5,-901 950.5,-901 950.5,-901 944.5,-901 938.5,-895 938.5,-889 938.5,-889 938.5,-830 938.5,-830 938.5,-824 944.5,-818 950.5,-818 950.5,-818 1042.5,-818 1042.5,-818 1048.5,-818 1054.5,-824 1054.5,-830 1054.5,-830 1054.5,-889 1054.5,-889 1054.5,-895 1048.5,-901 1042.5,-901\"/>\n<text text-anchor=\"start\" x=\"958\" y=\"-885.8\" font-family=\"Helvetica,sans-Serif\" font-size=\"14.00\" fill=\"#000000\">age ≤ 0.259</text>\n<text text-anchor=\"start\" x=\"958.5\" y=\"-870.8\" font-family=\"Helvetica,sans-Serif\" font-size=\"14.00\" fill=\"#000000\">gini = 0.401</text>\n<text text-anchor=\"start\" x=\"952.5\" y=\"-855.8\" font-family=\"Helvetica,sans-Serif\" font-size=\"14.00\" fill=\"#000000\">samples = 36</text>\n<text text-anchor=\"start\" x=\"946.5\" y=\"-840.8\" font-family=\"Helvetica,sans-Serif\" font-size=\"14.00\" fill=\"#000000\">value = [10, 26]</text>\n<text text-anchor=\"start\" x=\"967.5\" y=\"-825.8\" font-family=\"Helvetica,sans-Serif\" font-size=\"14.00\" fill=\"#000000\">class = o</text>\n</g>\n<!-- 63&#45;&gt;64 -->\n<g id=\"edge64\" class=\"edge\">\n<title>63&#45;&gt;64</title>\n<path fill=\"none\" stroke=\"#000000\" d=\"M1117.3838,-939.8641C1100.1014,-928.3747 1081.0313,-915.6968 1063.2453,-903.8726\"/>\n<polygon fill=\"#000000\" stroke=\"#000000\" points=\"1064.896,-900.7671 1054.6307,-898.1455 1061.0206,-906.5965 1064.896,-900.7671\"/>\n</g>\n<!-- 93 -->\n<g id=\"node94\" class=\"node\">\n<title>93</title>\n<path fill=\"#ffffff\" stroke=\"#000000\" d=\"M1227.5,-901C1227.5,-901 1123.5,-901 1123.5,-901 1117.5,-901 1111.5,-895 1111.5,-889 1111.5,-889 1111.5,-830 1111.5,-830 1111.5,-824 1117.5,-818 1123.5,-818 1123.5,-818 1227.5,-818 1227.5,-818 1233.5,-818 1239.5,-824 1239.5,-830 1239.5,-830 1239.5,-889 1239.5,-889 1239.5,-895 1233.5,-901 1227.5,-901\"/>\n<text text-anchor=\"start\" x=\"1119.5\" y=\"-885.8\" font-family=\"Helvetica,sans-Serif\" font-size=\"14.00\" fill=\"#000000\">Principal ≤ &#45;0.399</text>\n<text text-anchor=\"start\" x=\"1146\" y=\"-870.8\" font-family=\"Helvetica,sans-Serif\" font-size=\"14.00\" fill=\"#000000\">gini = 0.5</text>\n<text text-anchor=\"start\" x=\"1136\" y=\"-855.8\" font-family=\"Helvetica,sans-Serif\" font-size=\"14.00\" fill=\"#000000\">samples = 8</text>\n<text text-anchor=\"start\" x=\"1134\" y=\"-840.8\" font-family=\"Helvetica,sans-Serif\" font-size=\"14.00\" fill=\"#000000\">value = [4, 4]</text>\n<text text-anchor=\"start\" x=\"1149\" y=\"-825.8\" font-family=\"Helvetica,sans-Serif\" font-size=\"14.00\" fill=\"#000000\">class = l</text>\n</g>\n<!-- 63&#45;&gt;93 -->\n<g id=\"edge93\" class=\"edge\">\n<title>63&#45;&gt;93</title>\n<path fill=\"none\" stroke=\"#000000\" d=\"M1175.5,-936.8796C1175.5,-928.6838 1175.5,-919.9891 1175.5,-911.5013\"/>\n<polygon fill=\"#000000\" stroke=\"#000000\" points=\"1179.0001,-911.298 1175.5,-901.2981 1172.0001,-911.2981 1179.0001,-911.298\"/>\n</g>\n<!-- 65 -->\n<g id=\"node66\" class=\"node\">\n<title>65</title>\n<path fill=\"#8fc8f0\" stroke=\"#000000\" d=\"M916.5,-782C916.5,-782 824.5,-782 824.5,-782 818.5,-782 812.5,-776 812.5,-770 812.5,-770 812.5,-711 812.5,-711 812.5,-705 818.5,-699 824.5,-699 824.5,-699 916.5,-699 916.5,-699 922.5,-699 928.5,-705 928.5,-711 928.5,-711 928.5,-770 928.5,-770 928.5,-776 922.5,-782 916.5,-782\"/>\n<text text-anchor=\"start\" x=\"832\" y=\"-766.8\" font-family=\"Helvetica,sans-Serif\" font-size=\"14.00\" fill=\"#000000\">age ≤ 0.093</text>\n<text text-anchor=\"start\" x=\"832.5\" y=\"-751.8\" font-family=\"Helvetica,sans-Serif\" font-size=\"14.00\" fill=\"#000000\">gini = 0.422</text>\n<text text-anchor=\"start\" x=\"826.5\" y=\"-736.8\" font-family=\"Helvetica,sans-Serif\" font-size=\"14.00\" fill=\"#000000\">samples = 33</text>\n<text text-anchor=\"start\" x=\"820.5\" y=\"-721.8\" font-family=\"Helvetica,sans-Serif\" font-size=\"14.00\" fill=\"#000000\">value = [10, 23]</text>\n<text text-anchor=\"start\" x=\"841.5\" y=\"-706.8\" font-family=\"Helvetica,sans-Serif\" font-size=\"14.00\" fill=\"#000000\">class = o</text>\n</g>\n<!-- 64&#45;&gt;65 -->\n<g id=\"edge65\" class=\"edge\">\n<title>64&#45;&gt;65</title>\n<path fill=\"none\" stroke=\"#000000\" d=\"M952.4313,-817.8796C942.7045,-808.6931 932.3139,-798.8798 922.3121,-789.4336\"/>\n<polygon fill=\"#000000\" stroke=\"#000000\" points=\"924.4301,-786.6198 914.7568,-782.2981 919.6237,-791.7089 924.4301,-786.6198\"/>\n</g>\n<!-- 92 -->\n<g id=\"node93\" class=\"node\">\n<title>92</title>\n<path fill=\"#399de5\" stroke=\"#000000\" d=\"M1034,-774.5C1034,-774.5 959,-774.5 959,-774.5 953,-774.5 947,-768.5 947,-762.5 947,-762.5 947,-718.5 947,-718.5 947,-712.5 953,-706.5 959,-706.5 959,-706.5 1034,-706.5 1034,-706.5 1040,-706.5 1046,-712.5 1046,-718.5 1046,-718.5 1046,-762.5 1046,-762.5 1046,-768.5 1040,-774.5 1034,-774.5\"/>\n<text text-anchor=\"start\" x=\"967\" y=\"-759.3\" font-family=\"Helvetica,sans-Serif\" font-size=\"14.00\" fill=\"#000000\">gini = 0.0</text>\n<text text-anchor=\"start\" x=\"957\" y=\"-744.3\" font-family=\"Helvetica,sans-Serif\" font-size=\"14.00\" fill=\"#000000\">samples = 3</text>\n<text text-anchor=\"start\" x=\"955\" y=\"-729.3\" font-family=\"Helvetica,sans-Serif\" font-size=\"14.00\" fill=\"#000000\">value = [0, 3]</text>\n<text text-anchor=\"start\" x=\"967.5\" y=\"-714.3\" font-family=\"Helvetica,sans-Serif\" font-size=\"14.00\" fill=\"#000000\">class = o</text>\n</g>\n<!-- 64&#45;&gt;92 -->\n<g id=\"edge92\" class=\"edge\">\n<title>64&#45;&gt;92</title>\n<path fill=\"none\" stroke=\"#000000\" d=\"M996.5,-817.8796C996.5,-807.2134 996.5,-795.7021 996.5,-784.9015\"/>\n<polygon fill=\"#000000\" stroke=\"#000000\" points=\"1000.0001,-784.8149 996.5,-774.8149 993.0001,-784.815 1000.0001,-784.8149\"/>\n</g>\n<!-- 66 -->\n<g id=\"node67\" class=\"node\">\n<title>66</title>\n<path fill=\"#81c1ee\" stroke=\"#000000\" d=\"M938,-663C938,-663 755,-663 755,-663 749,-663 743,-657 743,-651 743,-651 743,-592 743,-592 743,-586 749,-580 755,-580 755,-580 938,-580 938,-580 944,-580 950,-586 950,-592 950,-592 950,-651 950,-651 950,-657 944,-663 938,-663\"/>\n<text text-anchor=\"start\" x=\"751\" y=\"-647.8\" font-family=\"Helvetica,sans-Serif\" font-size=\"14.00\" fill=\"#000000\">High School or Below ≤ 0.128</text>\n<text text-anchor=\"start\" x=\"808.5\" y=\"-632.8\" font-family=\"Helvetica,sans-Serif\" font-size=\"14.00\" fill=\"#000000\">gini = 0.391</text>\n<text text-anchor=\"start\" x=\"802.5\" y=\"-617.8\" font-family=\"Helvetica,sans-Serif\" font-size=\"14.00\" fill=\"#000000\">samples = 30</text>\n<text text-anchor=\"start\" x=\"801\" y=\"-602.8\" font-family=\"Helvetica,sans-Serif\" font-size=\"14.00\" fill=\"#000000\">value = [8, 22]</text>\n<text text-anchor=\"start\" x=\"817.5\" y=\"-587.8\" font-family=\"Helvetica,sans-Serif\" font-size=\"14.00\" fill=\"#000000\">class = o</text>\n</g>\n<!-- 65&#45;&gt;66 -->\n<g id=\"edge66\" class=\"edge\">\n<title>65&#45;&gt;66</title>\n<path fill=\"none\" stroke=\"#000000\" d=\"M862.106,-698.8796C860.4349,-690.5938 858.6609,-681.798 856.9312,-673.2216\"/>\n<polygon fill=\"#000000\" stroke=\"#000000\" points=\"860.3379,-672.4087 854.9299,-663.2981 853.476,-673.7927 860.3379,-672.4087\"/>\n</g>\n<!-- 89 -->\n<g id=\"node90\" class=\"node\">\n<title>89</title>\n<path fill=\"#f2c09c\" stroke=\"#000000\" d=\"M1063,-663C1063,-663 980,-663 980,-663 974,-663 968,-657 968,-651 968,-651 968,-592 968,-592 968,-586 974,-580 980,-580 980,-580 1063,-580 1063,-580 1069,-580 1075,-586 1075,-592 1075,-592 1075,-651 1075,-651 1075,-657 1069,-663 1063,-663\"/>\n<text text-anchor=\"start\" x=\"976\" y=\"-647.8\" font-family=\"Helvetica,sans-Serif\" font-size=\"14.00\" fill=\"#000000\">college ≤ 0.14</text>\n<text text-anchor=\"start\" x=\"983.5\" y=\"-632.8\" font-family=\"Helvetica,sans-Serif\" font-size=\"14.00\" fill=\"#000000\">gini = 0.444</text>\n<text text-anchor=\"start\" x=\"982\" y=\"-617.8\" font-family=\"Helvetica,sans-Serif\" font-size=\"14.00\" fill=\"#000000\">samples = 3</text>\n<text text-anchor=\"start\" x=\"980\" y=\"-602.8\" font-family=\"Helvetica,sans-Serif\" font-size=\"14.00\" fill=\"#000000\">value = [2, 1]</text>\n<text text-anchor=\"start\" x=\"995\" y=\"-587.8\" font-family=\"Helvetica,sans-Serif\" font-size=\"14.00\" fill=\"#000000\">class = l</text>\n</g>\n<!-- 65&#45;&gt;89 -->\n<g id=\"edge89\" class=\"edge\">\n<title>65&#45;&gt;89</title>\n<path fill=\"none\" stroke=\"#000000\" d=\"M923.3125,-698.8796C935.3818,-689.368 948.3039,-679.1843 960.6788,-669.432\"/>\n<polygon fill=\"#000000\" stroke=\"#000000\" points=\"963.0296,-672.0356 968.7173,-663.0969 958.6968,-666.5377 963.0296,-672.0356\"/>\n</g>\n<!-- 67 -->\n<g id=\"node68\" class=\"node\">\n<title>67</title>\n<path fill=\"#a5d2f3\" stroke=\"#000000\" d=\"M764.5,-544C764.5,-544 664.5,-544 664.5,-544 658.5,-544 652.5,-538 652.5,-532 652.5,-532 652.5,-473 652.5,-473 652.5,-467 658.5,-461 664.5,-461 664.5,-461 764.5,-461 764.5,-461 770.5,-461 776.5,-467 776.5,-473 776.5,-473 776.5,-532 776.5,-532 776.5,-538 770.5,-544 764.5,-544\"/>\n<text text-anchor=\"start\" x=\"660.5\" y=\"-528.8\" font-family=\"Helvetica,sans-Serif\" font-size=\"14.00\" fill=\"#000000\">Principal ≤ 0.058</text>\n<text text-anchor=\"start\" x=\"676.5\" y=\"-513.8\" font-family=\"Helvetica,sans-Serif\" font-size=\"14.00\" fill=\"#000000\">gini = 0.457</text>\n<text text-anchor=\"start\" x=\"670.5\" y=\"-498.8\" font-family=\"Helvetica,sans-Serif\" font-size=\"14.00\" fill=\"#000000\">samples = 17</text>\n<text text-anchor=\"start\" x=\"669\" y=\"-483.8\" font-family=\"Helvetica,sans-Serif\" font-size=\"14.00\" fill=\"#000000\">value = [6, 11]</text>\n<text text-anchor=\"start\" x=\"685.5\" y=\"-468.8\" font-family=\"Helvetica,sans-Serif\" font-size=\"14.00\" fill=\"#000000\">class = o</text>\n</g>\n<!-- 66&#45;&gt;67 -->\n<g id=\"edge67\" class=\"edge\">\n<title>66&#45;&gt;67</title>\n<path fill=\"none\" stroke=\"#000000\" d=\"M800.3328,-579.8796C790.0429,-570.6031 779.044,-560.6874 768.4713,-551.1559\"/>\n<polygon fill=\"#000000\" stroke=\"#000000\" points=\"770.6352,-548.3944 760.8642,-544.2981 765.9481,-553.5935 770.6352,-548.3944\"/>\n</g>\n<!-- 82 -->\n<g id=\"node83\" class=\"node\">\n<title>82</title>\n<path fill=\"#5dafea\" stroke=\"#000000\" d=\"M890,-544C890,-544 807,-544 807,-544 801,-544 795,-538 795,-532 795,-532 795,-473 795,-473 795,-467 801,-461 807,-461 807,-461 890,-461 890,-461 896,-461 902,-467 902,-473 902,-473 902,-532 902,-532 902,-538 896,-544 890,-544\"/>\n<text text-anchor=\"start\" x=\"807.5\" y=\"-528.8\" font-family=\"Helvetica,sans-Serif\" font-size=\"14.00\" fill=\"#000000\">age ≤ &#45;0.404</text>\n<text text-anchor=\"start\" x=\"815\" y=\"-513.8\" font-family=\"Helvetica,sans-Serif\" font-size=\"14.00\" fill=\"#000000\">gini = 0.26</text>\n<text text-anchor=\"start\" x=\"804.5\" y=\"-498.8\" font-family=\"Helvetica,sans-Serif\" font-size=\"14.00\" fill=\"#000000\">samples = 13</text>\n<text text-anchor=\"start\" x=\"803\" y=\"-483.8\" font-family=\"Helvetica,sans-Serif\" font-size=\"14.00\" fill=\"#000000\">value = [2, 11]</text>\n<text text-anchor=\"start\" x=\"819.5\" y=\"-468.8\" font-family=\"Helvetica,sans-Serif\" font-size=\"14.00\" fill=\"#000000\">class = o</text>\n</g>\n<!-- 66&#45;&gt;82 -->\n<g id=\"edge82\" class=\"edge\">\n<title>66&#45;&gt;82</title>\n<path fill=\"none\" stroke=\"#000000\" d=\"M847.1995,-579.8796C847.3372,-571.6838 847.4834,-562.9891 847.626,-554.5013\"/>\n<polygon fill=\"#000000\" stroke=\"#000000\" points=\"851.1289,-554.3555 847.7975,-544.2981 844.1299,-554.2378 851.1289,-554.3555\"/>\n</g>\n<!-- 68 -->\n<g id=\"node69\" class=\"node\">\n<title>68</title>\n<path fill=\"#7bbeee\" stroke=\"#000000\" d=\"M636,-425C636,-425 561,-425 561,-425 555,-425 549,-419 549,-413 549,-413 549,-354 549,-354 549,-348 555,-342 561,-342 561,-342 636,-342 636,-342 642,-342 648,-348 648,-354 648,-354 648,-413 648,-413 648,-419 642,-425 636,-425\"/>\n<text text-anchor=\"start\" x=\"557.5\" y=\"-409.8\" font-family=\"Helvetica,sans-Serif\" font-size=\"14.00\" fill=\"#000000\">age ≤ &#45;0.404</text>\n<text text-anchor=\"start\" x=\"560.5\" y=\"-394.8\" font-family=\"Helvetica,sans-Serif\" font-size=\"14.00\" fill=\"#000000\">gini = 0.375</text>\n<text text-anchor=\"start\" x=\"559\" y=\"-379.8\" font-family=\"Helvetica,sans-Serif\" font-size=\"14.00\" fill=\"#000000\">samples = 8</text>\n<text text-anchor=\"start\" x=\"557\" y=\"-364.8\" font-family=\"Helvetica,sans-Serif\" font-size=\"14.00\" fill=\"#000000\">value = [2, 6]</text>\n<text text-anchor=\"start\" x=\"569.5\" y=\"-349.8\" font-family=\"Helvetica,sans-Serif\" font-size=\"14.00\" fill=\"#000000\">class = o</text>\n</g>\n<!-- 67&#45;&gt;68 -->\n<g id=\"edge68\" class=\"edge\">\n<title>67&#45;&gt;68</title>\n<path fill=\"none\" stroke=\"#000000\" d=\"M673.9288,-460.8796C665.0618,-451.7832 655.5956,-442.0722 646.4709,-432.7116\"/>\n<polygon fill=\"#000000\" stroke=\"#000000\" points=\"648.7309,-430.0158 639.2443,-425.2981 643.7183,-434.9019 648.7309,-430.0158\"/>\n</g>\n<!-- 75 -->\n<g id=\"node76\" class=\"node\">\n<title>75</title>\n<path fill=\"#d7ebfa\" stroke=\"#000000\" d=\"M753,-425C753,-425 678,-425 678,-425 672,-425 666,-419 666,-413 666,-413 666,-354 666,-354 666,-348 672,-342 678,-342 678,-342 753,-342 753,-342 759,-342 765,-348 765,-354 765,-354 765,-413 765,-413 765,-419 759,-425 753,-425\"/>\n<text text-anchor=\"start\" x=\"674.5\" y=\"-409.8\" font-family=\"Helvetica,sans-Serif\" font-size=\"14.00\" fill=\"#000000\">age ≤ &#45;0.487</text>\n<text text-anchor=\"start\" x=\"677.5\" y=\"-394.8\" font-family=\"Helvetica,sans-Serif\" font-size=\"14.00\" fill=\"#000000\">gini = 0.494</text>\n<text text-anchor=\"start\" x=\"676\" y=\"-379.8\" font-family=\"Helvetica,sans-Serif\" font-size=\"14.00\" fill=\"#000000\">samples = 9</text>\n<text text-anchor=\"start\" x=\"674\" y=\"-364.8\" font-family=\"Helvetica,sans-Serif\" font-size=\"14.00\" fill=\"#000000\">value = [4, 5]</text>\n<text text-anchor=\"start\" x=\"686.5\" y=\"-349.8\" font-family=\"Helvetica,sans-Serif\" font-size=\"14.00\" fill=\"#000000\">class = o</text>\n</g>\n<!-- 67&#45;&gt;75 -->\n<g id=\"edge75\" class=\"edge\">\n<title>67&#45;&gt;75</title>\n<path fill=\"none\" stroke=\"#000000\" d=\"M714.8498,-460.8796C714.9186,-452.6838 714.9917,-443.9891 715.063,-435.5013\"/>\n<polygon fill=\"#000000\" stroke=\"#000000\" points=\"718.5645,-435.3272 715.1488,-425.2981 711.5648,-435.2683 718.5645,-435.3272\"/>\n</g>\n<!-- 69 -->\n<g id=\"node70\" class=\"node\">\n<title>69</title>\n<path fill=\"#9ccef2\" stroke=\"#000000\" d=\"M518.5,-306C518.5,-306 414.5,-306 414.5,-306 408.5,-306 402.5,-300 402.5,-294 402.5,-294 402.5,-235 402.5,-235 402.5,-229 408.5,-223 414.5,-223 414.5,-223 518.5,-223 518.5,-223 524.5,-223 530.5,-229 530.5,-235 530.5,-235 530.5,-294 530.5,-294 530.5,-300 524.5,-306 518.5,-306\"/>\n<text text-anchor=\"start\" x=\"410.5\" y=\"-290.8\" font-family=\"Helvetica,sans-Serif\" font-size=\"14.00\" fill=\"#000000\">Principal ≤ &#45;0.857</text>\n<text text-anchor=\"start\" x=\"428.5\" y=\"-275.8\" font-family=\"Helvetica,sans-Serif\" font-size=\"14.00\" fill=\"#000000\">gini = 0.444</text>\n<text text-anchor=\"start\" x=\"427\" y=\"-260.8\" font-family=\"Helvetica,sans-Serif\" font-size=\"14.00\" fill=\"#000000\">samples = 6</text>\n<text text-anchor=\"start\" x=\"425\" y=\"-245.8\" font-family=\"Helvetica,sans-Serif\" font-size=\"14.00\" fill=\"#000000\">value = [2, 4]</text>\n<text text-anchor=\"start\" x=\"437.5\" y=\"-230.8\" font-family=\"Helvetica,sans-Serif\" font-size=\"14.00\" fill=\"#000000\">class = o</text>\n</g>\n<!-- 68&#45;&gt;69 -->\n<g id=\"edge69\" class=\"edge\">\n<title>68&#45;&gt;69</title>\n<path fill=\"none\" stroke=\"#000000\" d=\"M552.3328,-341.8796C542.0429,-332.6031 531.044,-322.6874 520.4713,-313.1559\"/>\n<polygon fill=\"#000000\" stroke=\"#000000\" points=\"522.6352,-310.3944 512.8642,-306.2981 517.9481,-315.5935 522.6352,-310.3944\"/>\n</g>\n<!-- 74 -->\n<g id=\"node75\" class=\"node\">\n<title>74</title>\n<path fill=\"#399de5\" stroke=\"#000000\" d=\"M636,-298.5C636,-298.5 561,-298.5 561,-298.5 555,-298.5 549,-292.5 549,-286.5 549,-286.5 549,-242.5 549,-242.5 549,-236.5 555,-230.5 561,-230.5 561,-230.5 636,-230.5 636,-230.5 642,-230.5 648,-236.5 648,-242.5 648,-242.5 648,-286.5 648,-286.5 648,-292.5 642,-298.5 636,-298.5\"/>\n<text text-anchor=\"start\" x=\"569\" y=\"-283.3\" font-family=\"Helvetica,sans-Serif\" font-size=\"14.00\" fill=\"#000000\">gini = 0.0</text>\n<text text-anchor=\"start\" x=\"559\" y=\"-268.3\" font-family=\"Helvetica,sans-Serif\" font-size=\"14.00\" fill=\"#000000\">samples = 2</text>\n<text text-anchor=\"start\" x=\"557\" y=\"-253.3\" font-family=\"Helvetica,sans-Serif\" font-size=\"14.00\" fill=\"#000000\">value = [0, 2]</text>\n<text text-anchor=\"start\" x=\"569.5\" y=\"-238.3\" font-family=\"Helvetica,sans-Serif\" font-size=\"14.00\" fill=\"#000000\">class = o</text>\n</g>\n<!-- 68&#45;&gt;74 -->\n<g id=\"edge74\" class=\"edge\">\n<title>68&#45;&gt;74</title>\n<path fill=\"none\" stroke=\"#000000\" d=\"M598.5,-341.8796C598.5,-331.2134 598.5,-319.7021 598.5,-308.9015\"/>\n<polygon fill=\"#000000\" stroke=\"#000000\" points=\"602.0001,-308.8149 598.5,-298.8149 595.0001,-308.815 602.0001,-308.8149\"/>\n</g>\n<!-- 70 -->\n<g id=\"node71\" class=\"node\">\n<title>70</title>\n<path fill=\"#bddef6\" stroke=\"#000000\" d=\"M446,-187C446,-187 371,-187 371,-187 365,-187 359,-181 359,-175 359,-175 359,-116 359,-116 359,-110 365,-104 371,-104 371,-104 446,-104 446,-104 452,-104 458,-110 458,-116 458,-116 458,-175 458,-175 458,-181 452,-187 446,-187\"/>\n<text text-anchor=\"start\" x=\"372\" y=\"-171.8\" font-family=\"Helvetica,sans-Serif\" font-size=\"14.00\" fill=\"#000000\">age ≤ &#45;0.57</text>\n<text text-anchor=\"start\" x=\"375\" y=\"-156.8\" font-family=\"Helvetica,sans-Serif\" font-size=\"14.00\" fill=\"#000000\">gini = 0.48</text>\n<text text-anchor=\"start\" x=\"369\" y=\"-141.8\" font-family=\"Helvetica,sans-Serif\" font-size=\"14.00\" fill=\"#000000\">samples = 5</text>\n<text text-anchor=\"start\" x=\"367\" y=\"-126.8\" font-family=\"Helvetica,sans-Serif\" font-size=\"14.00\" fill=\"#000000\">value = [2, 3]</text>\n<text text-anchor=\"start\" x=\"379.5\" y=\"-111.8\" font-family=\"Helvetica,sans-Serif\" font-size=\"14.00\" fill=\"#000000\">class = o</text>\n</g>\n<!-- 69&#45;&gt;70 -->\n<g id=\"edge70\" class=\"edge\">\n<title>69&#45;&gt;70</title>\n<path fill=\"none\" stroke=\"#000000\" d=\"M446.2144,-222.8796C442.0443,-214.3236 437.6091,-205.2238 433.3003,-196.3833\"/>\n<polygon fill=\"#000000\" stroke=\"#000000\" points=\"436.3997,-194.7538 428.8722,-187.2981 430.1073,-197.8207 436.3997,-194.7538\"/>\n</g>\n<!-- 73 -->\n<g id=\"node74\" class=\"node\">\n<title>73</title>\n<path fill=\"#399de5\" stroke=\"#000000\" d=\"M563,-179.5C563,-179.5 488,-179.5 488,-179.5 482,-179.5 476,-173.5 476,-167.5 476,-167.5 476,-123.5 476,-123.5 476,-117.5 482,-111.5 488,-111.5 488,-111.5 563,-111.5 563,-111.5 569,-111.5 575,-117.5 575,-123.5 575,-123.5 575,-167.5 575,-167.5 575,-173.5 569,-179.5 563,-179.5\"/>\n<text text-anchor=\"start\" x=\"496\" y=\"-164.3\" font-family=\"Helvetica,sans-Serif\" font-size=\"14.00\" fill=\"#000000\">gini = 0.0</text>\n<text text-anchor=\"start\" x=\"486\" y=\"-149.3\" font-family=\"Helvetica,sans-Serif\" font-size=\"14.00\" fill=\"#000000\">samples = 1</text>\n<text text-anchor=\"start\" x=\"484\" y=\"-134.3\" font-family=\"Helvetica,sans-Serif\" font-size=\"14.00\" fill=\"#000000\">value = [0, 1]</text>\n<text text-anchor=\"start\" x=\"496.5\" y=\"-119.3\" font-family=\"Helvetica,sans-Serif\" font-size=\"14.00\" fill=\"#000000\">class = o</text>\n</g>\n<!-- 69&#45;&gt;73 -->\n<g id=\"edge73\" class=\"edge\">\n<title>69&#45;&gt;73</title>\n<path fill=\"none\" stroke=\"#000000\" d=\"M487.1353,-222.8796C492.5872,-211.8835 498.4843,-199.9893 503.9816,-188.9015\"/>\n<polygon fill=\"#000000\" stroke=\"#000000\" points=\"507.1804,-190.3289 508.4867,-179.8149 500.9089,-187.2195 507.1804,-190.3289\"/>\n</g>\n<!-- 71 -->\n<g id=\"node72\" class=\"node\">\n<title>71</title>\n<path fill=\"#9ccef2\" stroke=\"#000000\" d=\"M388,-68C388,-68 313,-68 313,-68 307,-68 301,-62 301,-56 301,-56 301,-12 301,-12 301,-6 307,0 313,0 313,0 388,0 388,0 394,0 400,-6 400,-12 400,-12 400,-56 400,-56 400,-62 394,-68 388,-68\"/>\n<text text-anchor=\"start\" x=\"312.5\" y=\"-52.8\" font-family=\"Helvetica,sans-Serif\" font-size=\"14.00\" fill=\"#000000\">gini = 0.444</text>\n<text text-anchor=\"start\" x=\"311\" y=\"-37.8\" font-family=\"Helvetica,sans-Serif\" font-size=\"14.00\" fill=\"#000000\">samples = 3</text>\n<text text-anchor=\"start\" x=\"309\" y=\"-22.8\" font-family=\"Helvetica,sans-Serif\" font-size=\"14.00\" fill=\"#000000\">value = [1, 2]</text>\n<text text-anchor=\"start\" x=\"321.5\" y=\"-7.8\" font-family=\"Helvetica,sans-Serif\" font-size=\"14.00\" fill=\"#000000\">class = o</text>\n</g>\n<!-- 70&#45;&gt;71 -->\n<g id=\"edge71\" class=\"edge\">\n<title>70&#45;&gt;71</title>\n<path fill=\"none\" stroke=\"#000000\" d=\"M386.9029,-103.9815C382.3612,-95.2504 377.5598,-86.0202 372.9863,-77.2281\"/>\n<polygon fill=\"#000000\" stroke=\"#000000\" points=\"376.0431,-75.52 368.3233,-68.2637 369.8331,-78.7504 376.0431,-75.52\"/>\n</g>\n<!-- 72 -->\n<g id=\"node73\" class=\"node\">\n<title>72</title>\n<path fill=\"#ffffff\" stroke=\"#000000\" d=\"M505,-68C505,-68 430,-68 430,-68 424,-68 418,-62 418,-56 418,-56 418,-12 418,-12 418,-6 424,0 430,0 430,0 505,0 505,0 511,0 517,-6 517,-12 517,-12 517,-56 517,-56 517,-62 511,-68 505,-68\"/>\n<text text-anchor=\"start\" x=\"438\" y=\"-52.8\" font-family=\"Helvetica,sans-Serif\" font-size=\"14.00\" fill=\"#000000\">gini = 0.5</text>\n<text text-anchor=\"start\" x=\"428\" y=\"-37.8\" font-family=\"Helvetica,sans-Serif\" font-size=\"14.00\" fill=\"#000000\">samples = 2</text>\n<text text-anchor=\"start\" x=\"426\" y=\"-22.8\" font-family=\"Helvetica,sans-Serif\" font-size=\"14.00\" fill=\"#000000\">value = [1, 1]</text>\n<text text-anchor=\"start\" x=\"441\" y=\"-7.8\" font-family=\"Helvetica,sans-Serif\" font-size=\"14.00\" fill=\"#000000\">class = l</text>\n</g>\n<!-- 70&#45;&gt;72 -->\n<g id=\"edge72\" class=\"edge\">\n<title>70&#45;&gt;72</title>\n<path fill=\"none\" stroke=\"#000000\" d=\"M430.4694,-103.9815C435.0895,-95.2504 439.9736,-86.0202 444.626,-77.2281\"/>\n<polygon fill=\"#000000\" stroke=\"#000000\" points=\"447.7859,-78.7395 449.3694,-68.2637 441.5987,-75.4655 447.7859,-78.7395\"/>\n</g>\n<!-- 76 -->\n<g id=\"node77\" class=\"node\">\n<title>76</title>\n<path fill=\"#399de5\" stroke=\"#000000\" d=\"M753,-298.5C753,-298.5 678,-298.5 678,-298.5 672,-298.5 666,-292.5 666,-286.5 666,-286.5 666,-242.5 666,-242.5 666,-236.5 672,-230.5 678,-230.5 678,-230.5 753,-230.5 753,-230.5 759,-230.5 765,-236.5 765,-242.5 765,-242.5 765,-286.5 765,-286.5 765,-292.5 759,-298.5 753,-298.5\"/>\n<text text-anchor=\"start\" x=\"686\" y=\"-283.3\" font-family=\"Helvetica,sans-Serif\" font-size=\"14.00\" fill=\"#000000\">gini = 0.0</text>\n<text text-anchor=\"start\" x=\"676\" y=\"-268.3\" font-family=\"Helvetica,sans-Serif\" font-size=\"14.00\" fill=\"#000000\">samples = 1</text>\n<text text-anchor=\"start\" x=\"674\" y=\"-253.3\" font-family=\"Helvetica,sans-Serif\" font-size=\"14.00\" fill=\"#000000\">value = [0, 1]</text>\n<text text-anchor=\"start\" x=\"686.5\" y=\"-238.3\" font-family=\"Helvetica,sans-Serif\" font-size=\"14.00\" fill=\"#000000\">class = o</text>\n</g>\n<!-- 75&#45;&gt;76 -->\n<g id=\"edge76\" class=\"edge\">\n<title>75&#45;&gt;76</title>\n<path fill=\"none\" stroke=\"#000000\" d=\"M715.5,-341.8796C715.5,-331.2134 715.5,-319.7021 715.5,-308.9015\"/>\n<polygon fill=\"#000000\" stroke=\"#000000\" points=\"719.0001,-308.8149 715.5,-298.8149 712.0001,-308.815 719.0001,-308.8149\"/>\n</g>\n<!-- 77 -->\n<g id=\"node78\" class=\"node\">\n<title>77</title>\n<path fill=\"#ffffff\" stroke=\"#000000\" d=\"M870,-306C870,-306 795,-306 795,-306 789,-306 783,-300 783,-294 783,-294 783,-235 783,-235 783,-229 789,-223 795,-223 795,-223 870,-223 870,-223 876,-223 882,-229 882,-235 882,-235 882,-294 882,-294 882,-300 876,-306 870,-306\"/>\n<text text-anchor=\"start\" x=\"791.5\" y=\"-290.8\" font-family=\"Helvetica,sans-Serif\" font-size=\"14.00\" fill=\"#000000\">age ≤ &#45;0.239</text>\n<text text-anchor=\"start\" x=\"803\" y=\"-275.8\" font-family=\"Helvetica,sans-Serif\" font-size=\"14.00\" fill=\"#000000\">gini = 0.5</text>\n<text text-anchor=\"start\" x=\"793\" y=\"-260.8\" font-family=\"Helvetica,sans-Serif\" font-size=\"14.00\" fill=\"#000000\">samples = 8</text>\n<text text-anchor=\"start\" x=\"791\" y=\"-245.8\" font-family=\"Helvetica,sans-Serif\" font-size=\"14.00\" fill=\"#000000\">value = [4, 4]</text>\n<text text-anchor=\"start\" x=\"806\" y=\"-230.8\" font-family=\"Helvetica,sans-Serif\" font-size=\"14.00\" fill=\"#000000\">class = l</text>\n</g>\n<!-- 75&#45;&gt;77 -->\n<g id=\"edge77\" class=\"edge\">\n<title>75&#45;&gt;77</title>\n<path fill=\"none\" stroke=\"#000000\" d=\"M756.4209,-341.8796C765.453,-332.6931 775.1013,-322.8798 784.3888,-313.4336\"/>\n<polygon fill=\"#000000\" stroke=\"#000000\" points=\"786.8893,-315.8827 791.4044,-306.2981 781.8977,-310.975 786.8893,-315.8827\"/>\n</g>\n<!-- 78 -->\n<g id=\"node79\" class=\"node\">\n<title>78</title>\n<path fill=\"#ffffff\" stroke=\"#000000\" d=\"M757,-179.5C757,-179.5 682,-179.5 682,-179.5 676,-179.5 670,-173.5 670,-167.5 670,-167.5 670,-123.5 670,-123.5 670,-117.5 676,-111.5 682,-111.5 682,-111.5 757,-111.5 757,-111.5 763,-111.5 769,-117.5 769,-123.5 769,-123.5 769,-167.5 769,-167.5 769,-173.5 763,-179.5 757,-179.5\"/>\n<text text-anchor=\"start\" x=\"690\" y=\"-164.3\" font-family=\"Helvetica,sans-Serif\" font-size=\"14.00\" fill=\"#000000\">gini = 0.5</text>\n<text text-anchor=\"start\" x=\"680\" y=\"-149.3\" font-family=\"Helvetica,sans-Serif\" font-size=\"14.00\" fill=\"#000000\">samples = 2</text>\n<text text-anchor=\"start\" x=\"678\" y=\"-134.3\" font-family=\"Helvetica,sans-Serif\" font-size=\"14.00\" fill=\"#000000\">value = [1, 1]</text>\n<text text-anchor=\"start\" x=\"693\" y=\"-119.3\" font-family=\"Helvetica,sans-Serif\" font-size=\"14.00\" fill=\"#000000\">class = l</text>\n</g>\n<!-- 77&#45;&gt;78 -->\n<g id=\"edge78\" class=\"edge\">\n<title>77&#45;&gt;78</title>\n<path fill=\"none\" stroke=\"#000000\" d=\"M792.9781,-222.8796C782.0143,-211.3337 770.1103,-198.7976 759.1399,-187.2446\"/>\n<polygon fill=\"#000000\" stroke=\"#000000\" points=\"761.5087,-184.6564 752.0848,-179.8149 756.4327,-189.4766 761.5087,-184.6564\"/>\n</g>\n<!-- 79 -->\n<g id=\"node80\" class=\"node\">\n<title>79</title>\n<path fill=\"#ffffff\" stroke=\"#000000\" d=\"M874,-187C874,-187 799,-187 799,-187 793,-187 787,-181 787,-175 787,-175 787,-116 787,-116 787,-110 793,-104 799,-104 799,-104 874,-104 874,-104 880,-104 886,-110 886,-116 886,-116 886,-175 886,-175 886,-181 880,-187 874,-187\"/>\n<text text-anchor=\"start\" x=\"795.5\" y=\"-171.8\" font-family=\"Helvetica,sans-Serif\" font-size=\"14.00\" fill=\"#000000\">age ≤ &#45;0.073</text>\n<text text-anchor=\"start\" x=\"807\" y=\"-156.8\" font-family=\"Helvetica,sans-Serif\" font-size=\"14.00\" fill=\"#000000\">gini = 0.5</text>\n<text text-anchor=\"start\" x=\"797\" y=\"-141.8\" font-family=\"Helvetica,sans-Serif\" font-size=\"14.00\" fill=\"#000000\">samples = 6</text>\n<text text-anchor=\"start\" x=\"795\" y=\"-126.8\" font-family=\"Helvetica,sans-Serif\" font-size=\"14.00\" fill=\"#000000\">value = [3, 3]</text>\n<text text-anchor=\"start\" x=\"810\" y=\"-111.8\" font-family=\"Helvetica,sans-Serif\" font-size=\"14.00\" fill=\"#000000\">class = l</text>\n</g>\n<!-- 77&#45;&gt;79 -->\n<g id=\"edge79\" class=\"edge\">\n<title>77&#45;&gt;79</title>\n<path fill=\"none\" stroke=\"#000000\" d=\"M833.899,-222.8796C834.1745,-214.6838 834.4668,-205.9891 834.7521,-197.5013\"/>\n<polygon fill=\"#000000\" stroke=\"#000000\" points=\"838.257,-197.41 835.095,-187.2981 831.261,-197.1748 838.257,-197.41\"/>\n</g>\n<!-- 80 -->\n<g id=\"node81\" class=\"node\">\n<title>80</title>\n<path fill=\"#ffffff\" stroke=\"#000000\" d=\"M815,-68C815,-68 740,-68 740,-68 734,-68 728,-62 728,-56 728,-56 728,-12 728,-12 728,-6 734,0 740,0 740,0 815,0 815,0 821,0 827,-6 827,-12 827,-12 827,-56 827,-56 827,-62 821,-68 815,-68\"/>\n<text text-anchor=\"start\" x=\"748\" y=\"-52.8\" font-family=\"Helvetica,sans-Serif\" font-size=\"14.00\" fill=\"#000000\">gini = 0.5</text>\n<text text-anchor=\"start\" x=\"738\" y=\"-37.8\" font-family=\"Helvetica,sans-Serif\" font-size=\"14.00\" fill=\"#000000\">samples = 4</text>\n<text text-anchor=\"start\" x=\"736\" y=\"-22.8\" font-family=\"Helvetica,sans-Serif\" font-size=\"14.00\" fill=\"#000000\">value = [2, 2]</text>\n<text text-anchor=\"start\" x=\"751\" y=\"-7.8\" font-family=\"Helvetica,sans-Serif\" font-size=\"14.00\" fill=\"#000000\">class = l</text>\n</g>\n<!-- 79&#45;&gt;80 -->\n<g id=\"edge80\" class=\"edge\">\n<title>79&#45;&gt;80</title>\n<path fill=\"none\" stroke=\"#000000\" d=\"M814.5306,-103.9815C809.9105,-95.2504 805.0264,-86.0202 800.374,-77.2281\"/>\n<polygon fill=\"#000000\" stroke=\"#000000\" points=\"803.4013,-75.4655 795.6306,-68.2637 797.2141,-78.7395 803.4013,-75.4655\"/>\n</g>\n<!-- 81 -->\n<g id=\"node82\" class=\"node\">\n<title>81</title>\n<path fill=\"#ffffff\" stroke=\"#000000\" d=\"M932,-68C932,-68 857,-68 857,-68 851,-68 845,-62 845,-56 845,-56 845,-12 845,-12 845,-6 851,0 857,0 857,0 932,0 932,0 938,0 944,-6 944,-12 944,-12 944,-56 944,-56 944,-62 938,-68 932,-68\"/>\n<text text-anchor=\"start\" x=\"865\" y=\"-52.8\" font-family=\"Helvetica,sans-Serif\" font-size=\"14.00\" fill=\"#000000\">gini = 0.5</text>\n<text text-anchor=\"start\" x=\"855\" y=\"-37.8\" font-family=\"Helvetica,sans-Serif\" font-size=\"14.00\" fill=\"#000000\">samples = 2</text>\n<text text-anchor=\"start\" x=\"853\" y=\"-22.8\" font-family=\"Helvetica,sans-Serif\" font-size=\"14.00\" fill=\"#000000\">value = [1, 1]</text>\n<text text-anchor=\"start\" x=\"868\" y=\"-7.8\" font-family=\"Helvetica,sans-Serif\" font-size=\"14.00\" fill=\"#000000\">class = l</text>\n</g>\n<!-- 79&#45;&gt;81 -->\n<g id=\"edge81\" class=\"edge\">\n<title>79&#45;&gt;81</title>\n<path fill=\"none\" stroke=\"#000000\" d=\"M858.0971,-103.9815C862.6388,-95.2504 867.4402,-86.0202 872.0137,-77.2281\"/>\n<polygon fill=\"#000000\" stroke=\"#000000\" points=\"875.1669,-78.7504 876.6767,-68.2637 868.9569,-75.52 875.1669,-78.7504\"/>\n</g>\n<!-- 83 -->\n<g id=\"node84\" class=\"node\">\n<title>83</title>\n<path fill=\"#399de5\" stroke=\"#000000\" d=\"M886,-417.5C886,-417.5 811,-417.5 811,-417.5 805,-417.5 799,-411.5 799,-405.5 799,-405.5 799,-361.5 799,-361.5 799,-355.5 805,-349.5 811,-349.5 811,-349.5 886,-349.5 886,-349.5 892,-349.5 898,-355.5 898,-361.5 898,-361.5 898,-405.5 898,-405.5 898,-411.5 892,-417.5 886,-417.5\"/>\n<text text-anchor=\"start\" x=\"819\" y=\"-402.3\" font-family=\"Helvetica,sans-Serif\" font-size=\"14.00\" fill=\"#000000\">gini = 0.0</text>\n<text text-anchor=\"start\" x=\"809\" y=\"-387.3\" font-family=\"Helvetica,sans-Serif\" font-size=\"14.00\" fill=\"#000000\">samples = 4</text>\n<text text-anchor=\"start\" x=\"807\" y=\"-372.3\" font-family=\"Helvetica,sans-Serif\" font-size=\"14.00\" fill=\"#000000\">value = [0, 4]</text>\n<text text-anchor=\"start\" x=\"819.5\" y=\"-357.3\" font-family=\"Helvetica,sans-Serif\" font-size=\"14.00\" fill=\"#000000\">class = o</text>\n</g>\n<!-- 82&#45;&gt;83 -->\n<g id=\"edge83\" class=\"edge\">\n<title>82&#45;&gt;83</title>\n<path fill=\"none\" stroke=\"#000000\" d=\"M848.5,-460.8796C848.5,-450.2134 848.5,-438.7021 848.5,-427.9015\"/>\n<polygon fill=\"#000000\" stroke=\"#000000\" points=\"852.0001,-427.8149 848.5,-417.8149 845.0001,-427.815 852.0001,-427.8149\"/>\n</g>\n<!-- 84 -->\n<g id=\"node85\" class=\"node\">\n<title>84</title>\n<path fill=\"#72b9ec\" stroke=\"#000000\" d=\"M1003,-425C1003,-425 928,-425 928,-425 922,-425 916,-419 916,-413 916,-413 916,-354 916,-354 916,-348 922,-342 928,-342 928,-342 1003,-342 1003,-342 1009,-342 1015,-348 1015,-354 1015,-354 1015,-413 1015,-413 1015,-419 1009,-425 1003,-425\"/>\n<text text-anchor=\"start\" x=\"924.5\" y=\"-409.8\" font-family=\"Helvetica,sans-Serif\" font-size=\"14.00\" fill=\"#000000\">age ≤ &#45;0.239</text>\n<text text-anchor=\"start\" x=\"927.5\" y=\"-394.8\" font-family=\"Helvetica,sans-Serif\" font-size=\"14.00\" fill=\"#000000\">gini = 0.346</text>\n<text text-anchor=\"start\" x=\"926\" y=\"-379.8\" font-family=\"Helvetica,sans-Serif\" font-size=\"14.00\" fill=\"#000000\">samples = 9</text>\n<text text-anchor=\"start\" x=\"924\" y=\"-364.8\" font-family=\"Helvetica,sans-Serif\" font-size=\"14.00\" fill=\"#000000\">value = [2, 7]</text>\n<text text-anchor=\"start\" x=\"936.5\" y=\"-349.8\" font-family=\"Helvetica,sans-Serif\" font-size=\"14.00\" fill=\"#000000\">class = o</text>\n</g>\n<!-- 82&#45;&gt;84 -->\n<g id=\"edge84\" class=\"edge\">\n<title>82&#45;&gt;84</title>\n<path fill=\"none\" stroke=\"#000000\" d=\"M889.4209,-460.8796C898.453,-451.6931 908.1013,-441.8798 917.3888,-432.4336\"/>\n<polygon fill=\"#000000\" stroke=\"#000000\" points=\"919.8893,-434.8827 924.4044,-425.2981 914.8977,-429.975 919.8893,-434.8827\"/>\n</g>\n<!-- 85 -->\n<g id=\"node86\" class=\"node\">\n<title>85</title>\n<path fill=\"#bddef6\" stroke=\"#000000\" d=\"M1017.5,-306C1017.5,-306 913.5,-306 913.5,-306 907.5,-306 901.5,-300 901.5,-294 901.5,-294 901.5,-235 901.5,-235 901.5,-229 907.5,-223 913.5,-223 913.5,-223 1017.5,-223 1017.5,-223 1023.5,-223 1029.5,-229 1029.5,-235 1029.5,-235 1029.5,-294 1029.5,-294 1029.5,-300 1023.5,-306 1017.5,-306\"/>\n<text text-anchor=\"start\" x=\"909.5\" y=\"-290.8\" font-family=\"Helvetica,sans-Serif\" font-size=\"14.00\" fill=\"#000000\">Principal ≤ &#45;0.399</text>\n<text text-anchor=\"start\" x=\"932\" y=\"-275.8\" font-family=\"Helvetica,sans-Serif\" font-size=\"14.00\" fill=\"#000000\">gini = 0.48</text>\n<text text-anchor=\"start\" x=\"926\" y=\"-260.8\" font-family=\"Helvetica,sans-Serif\" font-size=\"14.00\" fill=\"#000000\">samples = 5</text>\n<text text-anchor=\"start\" x=\"924\" y=\"-245.8\" font-family=\"Helvetica,sans-Serif\" font-size=\"14.00\" fill=\"#000000\">value = [2, 3]</text>\n<text text-anchor=\"start\" x=\"936.5\" y=\"-230.8\" font-family=\"Helvetica,sans-Serif\" font-size=\"14.00\" fill=\"#000000\">class = o</text>\n</g>\n<!-- 84&#45;&gt;85 -->\n<g id=\"edge85\" class=\"edge\">\n<title>84&#45;&gt;85</title>\n<path fill=\"none\" stroke=\"#000000\" d=\"M965.5,-341.8796C965.5,-333.6838 965.5,-324.9891 965.5,-316.5013\"/>\n<polygon fill=\"#000000\" stroke=\"#000000\" points=\"969.0001,-316.298 965.5,-306.2981 962.0001,-316.2981 969.0001,-316.298\"/>\n</g>\n<!-- 88 -->\n<g id=\"node89\" class=\"node\">\n<title>88</title>\n<path fill=\"#399de5\" stroke=\"#000000\" d=\"M1135,-298.5C1135,-298.5 1060,-298.5 1060,-298.5 1054,-298.5 1048,-292.5 1048,-286.5 1048,-286.5 1048,-242.5 1048,-242.5 1048,-236.5 1054,-230.5 1060,-230.5 1060,-230.5 1135,-230.5 1135,-230.5 1141,-230.5 1147,-236.5 1147,-242.5 1147,-242.5 1147,-286.5 1147,-286.5 1147,-292.5 1141,-298.5 1135,-298.5\"/>\n<text text-anchor=\"start\" x=\"1068\" y=\"-283.3\" font-family=\"Helvetica,sans-Serif\" font-size=\"14.00\" fill=\"#000000\">gini = 0.0</text>\n<text text-anchor=\"start\" x=\"1058\" y=\"-268.3\" font-family=\"Helvetica,sans-Serif\" font-size=\"14.00\" fill=\"#000000\">samples = 4</text>\n<text text-anchor=\"start\" x=\"1056\" y=\"-253.3\" font-family=\"Helvetica,sans-Serif\" font-size=\"14.00\" fill=\"#000000\">value = [0, 4]</text>\n<text text-anchor=\"start\" x=\"1068.5\" y=\"-238.3\" font-family=\"Helvetica,sans-Serif\" font-size=\"14.00\" fill=\"#000000\">class = o</text>\n</g>\n<!-- 84&#45;&gt;88 -->\n<g id=\"edge88\" class=\"edge\">\n<title>84&#45;&gt;88</title>\n<path fill=\"none\" stroke=\"#000000\" d=\"M1011.6672,-341.8796C1024.7183,-330.1138 1038.9101,-317.3197 1051.9261,-305.5855\"/>\n<polygon fill=\"#000000\" stroke=\"#000000\" points=\"1054.3526,-308.1104 1059.4364,-298.8149 1049.6654,-302.9113 1054.3526,-308.1104\"/>\n</g>\n<!-- 86 -->\n<g id=\"node87\" class=\"node\">\n<title>86</title>\n<path fill=\"#9ccef2\" stroke=\"#000000\" d=\"M995,-179.5C995,-179.5 920,-179.5 920,-179.5 914,-179.5 908,-173.5 908,-167.5 908,-167.5 908,-123.5 908,-123.5 908,-117.5 914,-111.5 920,-111.5 920,-111.5 995,-111.5 995,-111.5 1001,-111.5 1007,-117.5 1007,-123.5 1007,-123.5 1007,-167.5 1007,-167.5 1007,-173.5 1001,-179.5 995,-179.5\"/>\n<text text-anchor=\"start\" x=\"919.5\" y=\"-164.3\" font-family=\"Helvetica,sans-Serif\" font-size=\"14.00\" fill=\"#000000\">gini = 0.444</text>\n<text text-anchor=\"start\" x=\"918\" y=\"-149.3\" font-family=\"Helvetica,sans-Serif\" font-size=\"14.00\" fill=\"#000000\">samples = 3</text>\n<text text-anchor=\"start\" x=\"916\" y=\"-134.3\" font-family=\"Helvetica,sans-Serif\" font-size=\"14.00\" fill=\"#000000\">value = [1, 2]</text>\n<text text-anchor=\"start\" x=\"928.5\" y=\"-119.3\" font-family=\"Helvetica,sans-Serif\" font-size=\"14.00\" fill=\"#000000\">class = o</text>\n</g>\n<!-- 85&#45;&gt;86 -->\n<g id=\"edge86\" class=\"edge\">\n<title>85&#45;&gt;86</title>\n<path fill=\"none\" stroke=\"#000000\" d=\"M962.702,-222.8796C961.9849,-212.2134 961.2111,-200.7021 960.485,-189.9015\"/>\n<polygon fill=\"#000000\" stroke=\"#000000\" points=\"963.9699,-189.5576 959.8069,-179.8149 956.9856,-190.0272 963.9699,-189.5576\"/>\n</g>\n<!-- 87 -->\n<g id=\"node88\" class=\"node\">\n<title>87</title>\n<path fill=\"#ffffff\" stroke=\"#000000\" d=\"M1112,-179.5C1112,-179.5 1037,-179.5 1037,-179.5 1031,-179.5 1025,-173.5 1025,-167.5 1025,-167.5 1025,-123.5 1025,-123.5 1025,-117.5 1031,-111.5 1037,-111.5 1037,-111.5 1112,-111.5 1112,-111.5 1118,-111.5 1124,-117.5 1124,-123.5 1124,-123.5 1124,-167.5 1124,-167.5 1124,-173.5 1118,-179.5 1112,-179.5\"/>\n<text text-anchor=\"start\" x=\"1045\" y=\"-164.3\" font-family=\"Helvetica,sans-Serif\" font-size=\"14.00\" fill=\"#000000\">gini = 0.5</text>\n<text text-anchor=\"start\" x=\"1035\" y=\"-149.3\" font-family=\"Helvetica,sans-Serif\" font-size=\"14.00\" fill=\"#000000\">samples = 2</text>\n<text text-anchor=\"start\" x=\"1033\" y=\"-134.3\" font-family=\"Helvetica,sans-Serif\" font-size=\"14.00\" fill=\"#000000\">value = [1, 1]</text>\n<text text-anchor=\"start\" x=\"1048\" y=\"-119.3\" font-family=\"Helvetica,sans-Serif\" font-size=\"14.00\" fill=\"#000000\">class = l</text>\n</g>\n<!-- 85&#45;&gt;87 -->\n<g id=\"edge87\" class=\"edge\">\n<title>85&#45;&gt;87</title>\n<path fill=\"none\" stroke=\"#000000\" d=\"M1003.6229,-222.8796C1014.1986,-211.3337 1025.6812,-198.7976 1036.2633,-187.2446\"/>\n<polygon fill=\"#000000\" stroke=\"#000000\" points=\"1038.8951,-189.5531 1043.0687,-179.8149 1033.7333,-184.825 1038.8951,-189.5531\"/>\n</g>\n<!-- 90 -->\n<g id=\"node91\" class=\"node\">\n<title>90</title>\n<path fill=\"#ffffff\" stroke=\"#000000\" d=\"M1021,-536.5C1021,-536.5 946,-536.5 946,-536.5 940,-536.5 934,-530.5 934,-524.5 934,-524.5 934,-480.5 934,-480.5 934,-474.5 940,-468.5 946,-468.5 946,-468.5 1021,-468.5 1021,-468.5 1027,-468.5 1033,-474.5 1033,-480.5 1033,-480.5 1033,-524.5 1033,-524.5 1033,-530.5 1027,-536.5 1021,-536.5\"/>\n<text text-anchor=\"start\" x=\"954\" y=\"-521.3\" font-family=\"Helvetica,sans-Serif\" font-size=\"14.00\" fill=\"#000000\">gini = 0.5</text>\n<text text-anchor=\"start\" x=\"944\" y=\"-506.3\" font-family=\"Helvetica,sans-Serif\" font-size=\"14.00\" fill=\"#000000\">samples = 2</text>\n<text text-anchor=\"start\" x=\"942\" y=\"-491.3\" font-family=\"Helvetica,sans-Serif\" font-size=\"14.00\" fill=\"#000000\">value = [1, 1]</text>\n<text text-anchor=\"start\" x=\"957\" y=\"-476.3\" font-family=\"Helvetica,sans-Serif\" font-size=\"14.00\" fill=\"#000000\">class = l</text>\n</g>\n<!-- 89&#45;&gt;90 -->\n<g id=\"edge90\" class=\"edge\">\n<title>89&#45;&gt;90</title>\n<path fill=\"none\" stroke=\"#000000\" d=\"M1008.2094,-579.8796C1004.7683,-569.1034 1001.0517,-557.4647 997.5721,-546.5677\"/>\n<polygon fill=\"#000000\" stroke=\"#000000\" points=\"1000.8339,-545.2763 994.4577,-536.8149 994.1656,-547.4057 1000.8339,-545.2763\"/>\n</g>\n<!-- 91 -->\n<g id=\"node92\" class=\"node\">\n<title>91</title>\n<path fill=\"#e58139\" stroke=\"#000000\" d=\"M1138,-536.5C1138,-536.5 1063,-536.5 1063,-536.5 1057,-536.5 1051,-530.5 1051,-524.5 1051,-524.5 1051,-480.5 1051,-480.5 1051,-474.5 1057,-468.5 1063,-468.5 1063,-468.5 1138,-468.5 1138,-468.5 1144,-468.5 1150,-474.5 1150,-480.5 1150,-480.5 1150,-524.5 1150,-524.5 1150,-530.5 1144,-536.5 1138,-536.5\"/>\n<text text-anchor=\"start\" x=\"1071\" y=\"-521.3\" font-family=\"Helvetica,sans-Serif\" font-size=\"14.00\" fill=\"#000000\">gini = 0.0</text>\n<text text-anchor=\"start\" x=\"1061\" y=\"-506.3\" font-family=\"Helvetica,sans-Serif\" font-size=\"14.00\" fill=\"#000000\">samples = 1</text>\n<text text-anchor=\"start\" x=\"1059\" y=\"-491.3\" font-family=\"Helvetica,sans-Serif\" font-size=\"14.00\" fill=\"#000000\">value = [1, 0]</text>\n<text text-anchor=\"start\" x=\"1074\" y=\"-476.3\" font-family=\"Helvetica,sans-Serif\" font-size=\"14.00\" fill=\"#000000\">class = l</text>\n</g>\n<!-- 89&#45;&gt;91 -->\n<g id=\"edge91\" class=\"edge\">\n<title>89&#45;&gt;91</title>\n<path fill=\"none\" stroke=\"#000000\" d=\"M1049.1304,-579.8796C1056.5763,-568.6636 1064.6425,-556.5131 1072.1282,-545.2372\"/>\n<polygon fill=\"#000000\" stroke=\"#000000\" points=\"1075.1046,-547.082 1077.7195,-536.8149 1069.2727,-543.2104 1075.1046,-547.082\"/>\n</g>\n<!-- 94 -->\n<g id=\"node95\" class=\"node\">\n<title>94</title>\n<path fill=\"#e58139\" stroke=\"#000000\" d=\"M1151,-774.5C1151,-774.5 1076,-774.5 1076,-774.5 1070,-774.5 1064,-768.5 1064,-762.5 1064,-762.5 1064,-718.5 1064,-718.5 1064,-712.5 1070,-706.5 1076,-706.5 1076,-706.5 1151,-706.5 1151,-706.5 1157,-706.5 1163,-712.5 1163,-718.5 1163,-718.5 1163,-762.5 1163,-762.5 1163,-768.5 1157,-774.5 1151,-774.5\"/>\n<text text-anchor=\"start\" x=\"1084\" y=\"-759.3\" font-family=\"Helvetica,sans-Serif\" font-size=\"14.00\" fill=\"#000000\">gini = 0.0</text>\n<text text-anchor=\"start\" x=\"1074\" y=\"-744.3\" font-family=\"Helvetica,sans-Serif\" font-size=\"14.00\" fill=\"#000000\">samples = 2</text>\n<text text-anchor=\"start\" x=\"1072\" y=\"-729.3\" font-family=\"Helvetica,sans-Serif\" font-size=\"14.00\" fill=\"#000000\">value = [2, 0]</text>\n<text text-anchor=\"start\" x=\"1087\" y=\"-714.3\" font-family=\"Helvetica,sans-Serif\" font-size=\"14.00\" fill=\"#000000\">class = l</text>\n</g>\n<!-- 93&#45;&gt;94 -->\n<g id=\"edge94\" class=\"edge\">\n<title>93&#45;&gt;94</title>\n<path fill=\"none\" stroke=\"#000000\" d=\"M1153.8154,-817.8796C1148.0864,-806.8835 1141.8894,-794.9893 1136.1126,-783.9015\"/>\n<polygon fill=\"#000000\" stroke=\"#000000\" points=\"1139.103,-782.0662 1131.3784,-774.8149 1132.895,-785.3007 1139.103,-782.0662\"/>\n</g>\n<!-- 95 -->\n<g id=\"node96\" class=\"node\">\n<title>95</title>\n<path fill=\"#9ccef2\" stroke=\"#000000\" d=\"M1268,-782C1268,-782 1193,-782 1193,-782 1187,-782 1181,-776 1181,-770 1181,-770 1181,-711 1181,-711 1181,-705 1187,-699 1193,-699 1193,-699 1268,-699 1268,-699 1274,-699 1280,-705 1280,-711 1280,-711 1280,-770 1280,-770 1280,-776 1274,-782 1268,-782\"/>\n<text text-anchor=\"start\" x=\"1196\" y=\"-766.8\" font-family=\"Helvetica,sans-Serif\" font-size=\"14.00\" fill=\"#000000\">age ≤ 0.59</text>\n<text text-anchor=\"start\" x=\"1192.5\" y=\"-751.8\" font-family=\"Helvetica,sans-Serif\" font-size=\"14.00\" fill=\"#000000\">gini = 0.444</text>\n<text text-anchor=\"start\" x=\"1191\" y=\"-736.8\" font-family=\"Helvetica,sans-Serif\" font-size=\"14.00\" fill=\"#000000\">samples = 6</text>\n<text text-anchor=\"start\" x=\"1189\" y=\"-721.8\" font-family=\"Helvetica,sans-Serif\" font-size=\"14.00\" fill=\"#000000\">value = [2, 4]</text>\n<text text-anchor=\"start\" x=\"1201.5\" y=\"-706.8\" font-family=\"Helvetica,sans-Serif\" font-size=\"14.00\" fill=\"#000000\">class = o</text>\n</g>\n<!-- 93&#45;&gt;95 -->\n<g id=\"edge95\" class=\"edge\">\n<title>93&#45;&gt;95</title>\n<path fill=\"none\" stroke=\"#000000\" d=\"M1194.7363,-817.8796C1198.6908,-809.3236 1202.8966,-800.2238 1206.9825,-791.3833\"/>\n<polygon fill=\"#000000\" stroke=\"#000000\" points=\"1210.1632,-792.8439 1211.1816,-782.2981 1203.809,-789.907 1210.1632,-792.8439\"/>\n</g>\n<!-- 96 -->\n<g id=\"node97\" class=\"node\">\n<title>96</title>\n<path fill=\"#ffffff\" stroke=\"#000000\" d=\"M1318,-663C1318,-663 1135,-663 1135,-663 1129,-663 1123,-657 1123,-651 1123,-651 1123,-592 1123,-592 1123,-586 1129,-580 1135,-580 1135,-580 1318,-580 1318,-580 1324,-580 1330,-586 1330,-592 1330,-592 1330,-651 1330,-651 1330,-657 1324,-663 1318,-663\"/>\n<text text-anchor=\"start\" x=\"1131\" y=\"-647.8\" font-family=\"Helvetica,sans-Serif\" font-size=\"14.00\" fill=\"#000000\">High School or Below ≤ 0.128</text>\n<text text-anchor=\"start\" x=\"1197\" y=\"-632.8\" font-family=\"Helvetica,sans-Serif\" font-size=\"14.00\" fill=\"#000000\">gini = 0.5</text>\n<text text-anchor=\"start\" x=\"1187\" y=\"-617.8\" font-family=\"Helvetica,sans-Serif\" font-size=\"14.00\" fill=\"#000000\">samples = 4</text>\n<text text-anchor=\"start\" x=\"1185\" y=\"-602.8\" font-family=\"Helvetica,sans-Serif\" font-size=\"14.00\" fill=\"#000000\">value = [2, 2]</text>\n<text text-anchor=\"start\" x=\"1200\" y=\"-587.8\" font-family=\"Helvetica,sans-Serif\" font-size=\"14.00\" fill=\"#000000\">class = l</text>\n</g>\n<!-- 95&#45;&gt;96 -->\n<g id=\"edge96\" class=\"edge\">\n<title>95&#45;&gt;96</title>\n<path fill=\"none\" stroke=\"#000000\" d=\"M1229.101,-698.8796C1228.8255,-690.6838 1228.5332,-681.9891 1228.2479,-673.5013\"/>\n<polygon fill=\"#000000\" stroke=\"#000000\" points=\"1231.739,-673.1748 1227.905,-663.2981 1224.743,-673.41 1231.739,-673.1748\"/>\n</g>\n<!-- 99 -->\n<g id=\"node100\" class=\"node\">\n<title>99</title>\n<path fill=\"#399de5\" stroke=\"#000000\" d=\"M1435,-655.5C1435,-655.5 1360,-655.5 1360,-655.5 1354,-655.5 1348,-649.5 1348,-643.5 1348,-643.5 1348,-599.5 1348,-599.5 1348,-593.5 1354,-587.5 1360,-587.5 1360,-587.5 1435,-587.5 1435,-587.5 1441,-587.5 1447,-593.5 1447,-599.5 1447,-599.5 1447,-643.5 1447,-643.5 1447,-649.5 1441,-655.5 1435,-655.5\"/>\n<text text-anchor=\"start\" x=\"1368\" y=\"-640.3\" font-family=\"Helvetica,sans-Serif\" font-size=\"14.00\" fill=\"#000000\">gini = 0.0</text>\n<text text-anchor=\"start\" x=\"1358\" y=\"-625.3\" font-family=\"Helvetica,sans-Serif\" font-size=\"14.00\" fill=\"#000000\">samples = 2</text>\n<text text-anchor=\"start\" x=\"1356\" y=\"-610.3\" font-family=\"Helvetica,sans-Serif\" font-size=\"14.00\" fill=\"#000000\">value = [0, 2]</text>\n<text text-anchor=\"start\" x=\"1368.5\" y=\"-595.3\" font-family=\"Helvetica,sans-Serif\" font-size=\"14.00\" fill=\"#000000\">class = o</text>\n</g>\n<!-- 95&#45;&gt;99 -->\n<g id=\"edge99\" class=\"edge\">\n<title>95&#45;&gt;99</title>\n<path fill=\"none\" stroke=\"#000000\" d=\"M1280.1671,-704.9476C1282.9856,-702.9346 1285.7783,-700.9412 1288.5,-699 1305.6387,-686.7757 1324.3093,-673.4894 1341.2772,-661.4266\"/>\n<polygon fill=\"#000000\" stroke=\"#000000\" points=\"1343.3329,-664.2596 1349.4559,-655.6132 1339.2774,-658.554 1343.3329,-664.2596\"/>\n</g>\n<!-- 97 -->\n<g id=\"node98\" class=\"node\">\n<title>97</title>\n<path fill=\"#f2c09c\" stroke=\"#000000\" d=\"M1262,-536.5C1262,-536.5 1187,-536.5 1187,-536.5 1181,-536.5 1175,-530.5 1175,-524.5 1175,-524.5 1175,-480.5 1175,-480.5 1175,-474.5 1181,-468.5 1187,-468.5 1187,-468.5 1262,-468.5 1262,-468.5 1268,-468.5 1274,-474.5 1274,-480.5 1274,-480.5 1274,-524.5 1274,-524.5 1274,-530.5 1268,-536.5 1262,-536.5\"/>\n<text text-anchor=\"start\" x=\"1186.5\" y=\"-521.3\" font-family=\"Helvetica,sans-Serif\" font-size=\"14.00\" fill=\"#000000\">gini = 0.444</text>\n<text text-anchor=\"start\" x=\"1185\" y=\"-506.3\" font-family=\"Helvetica,sans-Serif\" font-size=\"14.00\" fill=\"#000000\">samples = 3</text>\n<text text-anchor=\"start\" x=\"1183\" y=\"-491.3\" font-family=\"Helvetica,sans-Serif\" font-size=\"14.00\" fill=\"#000000\">value = [2, 1]</text>\n<text text-anchor=\"start\" x=\"1198\" y=\"-476.3\" font-family=\"Helvetica,sans-Serif\" font-size=\"14.00\" fill=\"#000000\">class = l</text>\n</g>\n<!-- 96&#45;&gt;97 -->\n<g id=\"edge97\" class=\"edge\">\n<title>96&#45;&gt;97</title>\n<path fill=\"none\" stroke=\"#000000\" d=\"M1225.8005,-579.8796C1225.6212,-569.2134 1225.4278,-557.7021 1225.2462,-546.9015\"/>\n<polygon fill=\"#000000\" stroke=\"#000000\" points=\"1228.7444,-546.7547 1225.0767,-536.8149 1221.7454,-546.8724 1228.7444,-546.7547\"/>\n</g>\n<!-- 98 -->\n<g id=\"node99\" class=\"node\">\n<title>98</title>\n<path fill=\"#399de5\" stroke=\"#000000\" d=\"M1379,-536.5C1379,-536.5 1304,-536.5 1304,-536.5 1298,-536.5 1292,-530.5 1292,-524.5 1292,-524.5 1292,-480.5 1292,-480.5 1292,-474.5 1298,-468.5 1304,-468.5 1304,-468.5 1379,-468.5 1379,-468.5 1385,-468.5 1391,-474.5 1391,-480.5 1391,-480.5 1391,-524.5 1391,-524.5 1391,-530.5 1385,-536.5 1379,-536.5\"/>\n<text text-anchor=\"start\" x=\"1312\" y=\"-521.3\" font-family=\"Helvetica,sans-Serif\" font-size=\"14.00\" fill=\"#000000\">gini = 0.0</text>\n<text text-anchor=\"start\" x=\"1302\" y=\"-506.3\" font-family=\"Helvetica,sans-Serif\" font-size=\"14.00\" fill=\"#000000\">samples = 1</text>\n<text text-anchor=\"start\" x=\"1300\" y=\"-491.3\" font-family=\"Helvetica,sans-Serif\" font-size=\"14.00\" fill=\"#000000\">value = [0, 1]</text>\n<text text-anchor=\"start\" x=\"1312.5\" y=\"-476.3\" font-family=\"Helvetica,sans-Serif\" font-size=\"14.00\" fill=\"#000000\">class = o</text>\n</g>\n<!-- 96&#45;&gt;98 -->\n<g id=\"edge98\" class=\"edge\">\n<title>96&#45;&gt;98</title>\n<path fill=\"none\" stroke=\"#000000\" d=\"M1266.7214,-579.8796C1277.8792,-568.3337 1289.9939,-555.7976 1301.1586,-544.2446\"/>\n<polygon fill=\"#000000\" stroke=\"#000000\" points=\"1303.9061,-546.4381 1308.3385,-536.8149 1298.8725,-541.5736 1303.9061,-546.4381\"/>\n</g>\n<!-- 101 -->\n<g id=\"node102\" class=\"node\">\n<title>101</title>\n<path fill=\"#399de5\" stroke=\"#000000\" d=\"M1381,-893.5C1381,-893.5 1306,-893.5 1306,-893.5 1300,-893.5 1294,-887.5 1294,-881.5 1294,-881.5 1294,-837.5 1294,-837.5 1294,-831.5 1300,-825.5 1306,-825.5 1306,-825.5 1381,-825.5 1381,-825.5 1387,-825.5 1393,-831.5 1393,-837.5 1393,-837.5 1393,-881.5 1393,-881.5 1393,-887.5 1387,-893.5 1381,-893.5\"/>\n<text text-anchor=\"start\" x=\"1314\" y=\"-878.3\" font-family=\"Helvetica,sans-Serif\" font-size=\"14.00\" fill=\"#000000\">gini = 0.0</text>\n<text text-anchor=\"start\" x=\"1304\" y=\"-863.3\" font-family=\"Helvetica,sans-Serif\" font-size=\"14.00\" fill=\"#000000\">samples = 7</text>\n<text text-anchor=\"start\" x=\"1302\" y=\"-848.3\" font-family=\"Helvetica,sans-Serif\" font-size=\"14.00\" fill=\"#000000\">value = [0, 7]</text>\n<text text-anchor=\"start\" x=\"1314.5\" y=\"-833.3\" font-family=\"Helvetica,sans-Serif\" font-size=\"14.00\" fill=\"#000000\">class = o</text>\n</g>\n<!-- 100&#45;&gt;101 -->\n<g id=\"edge101\" class=\"edge\">\n<title>100&#45;&gt;101</title>\n<path fill=\"none\" stroke=\"#000000\" d=\"M1415.0273,-936.8796C1404.3547,-925.3337 1392.7667,-912.7976 1382.0875,-901.2446\"/>\n<polygon fill=\"#000000\" stroke=\"#000000\" points=\"1384.5778,-898.7825 1375.2197,-893.8149 1379.4375,-903.534 1384.5778,-898.7825\"/>\n</g>\n<!-- 102 -->\n<g id=\"node103\" class=\"node\">\n<title>102</title>\n<path fill=\"#9ccef2\" stroke=\"#000000\" d=\"M1498,-901C1498,-901 1423,-901 1423,-901 1417,-901 1411,-895 1411,-889 1411,-889 1411,-830 1411,-830 1411,-824 1417,-818 1423,-818 1423,-818 1498,-818 1498,-818 1504,-818 1510,-824 1510,-830 1510,-830 1510,-889 1510,-889 1510,-895 1504,-901 1498,-901\"/>\n<text text-anchor=\"start\" x=\"1422\" y=\"-885.8\" font-family=\"Helvetica,sans-Serif\" font-size=\"14.00\" fill=\"#000000\">age ≤ 1.254</text>\n<text text-anchor=\"start\" x=\"1422.5\" y=\"-870.8\" font-family=\"Helvetica,sans-Serif\" font-size=\"14.00\" fill=\"#000000\">gini = 0.444</text>\n<text text-anchor=\"start\" x=\"1421\" y=\"-855.8\" font-family=\"Helvetica,sans-Serif\" font-size=\"14.00\" fill=\"#000000\">samples = 3</text>\n<text text-anchor=\"start\" x=\"1419\" y=\"-840.8\" font-family=\"Helvetica,sans-Serif\" font-size=\"14.00\" fill=\"#000000\">value = [1, 2]</text>\n<text text-anchor=\"start\" x=\"1431.5\" y=\"-825.8\" font-family=\"Helvetica,sans-Serif\" font-size=\"14.00\" fill=\"#000000\">class = o</text>\n</g>\n<!-- 100&#45;&gt;102 -->\n<g id=\"edge102\" class=\"edge\">\n<title>100&#45;&gt;102</title>\n<path fill=\"none\" stroke=\"#000000\" d=\"M1455.9483,-936.8796C1456.4304,-928.6838 1456.9418,-919.9891 1457.4411,-911.5013\"/>\n<polygon fill=\"#000000\" stroke=\"#000000\" points=\"1460.9479,-911.4864 1458.0413,-901.2981 1453.96,-911.0753 1460.9479,-911.4864\"/>\n</g>\n<!-- 103 -->\n<g id=\"node104\" class=\"node\">\n<title>103</title>\n<path fill=\"#399de5\" stroke=\"#000000\" d=\"M1385,-774.5C1385,-774.5 1310,-774.5 1310,-774.5 1304,-774.5 1298,-768.5 1298,-762.5 1298,-762.5 1298,-718.5 1298,-718.5 1298,-712.5 1304,-706.5 1310,-706.5 1310,-706.5 1385,-706.5 1385,-706.5 1391,-706.5 1397,-712.5 1397,-718.5 1397,-718.5 1397,-762.5 1397,-762.5 1397,-768.5 1391,-774.5 1385,-774.5\"/>\n<text text-anchor=\"start\" x=\"1318\" y=\"-759.3\" font-family=\"Helvetica,sans-Serif\" font-size=\"14.00\" fill=\"#000000\">gini = 0.0</text>\n<text text-anchor=\"start\" x=\"1308\" y=\"-744.3\" font-family=\"Helvetica,sans-Serif\" font-size=\"14.00\" fill=\"#000000\">samples = 1</text>\n<text text-anchor=\"start\" x=\"1306\" y=\"-729.3\" font-family=\"Helvetica,sans-Serif\" font-size=\"14.00\" fill=\"#000000\">value = [0, 1]</text>\n<text text-anchor=\"start\" x=\"1318.5\" y=\"-714.3\" font-family=\"Helvetica,sans-Serif\" font-size=\"14.00\" fill=\"#000000\">class = o</text>\n</g>\n<!-- 102&#45;&gt;103 -->\n<g id=\"edge103\" class=\"edge\">\n<title>102&#45;&gt;103</title>\n<path fill=\"none\" stroke=\"#000000\" d=\"M1420.9781,-817.8796C1410.0143,-806.3337 1398.1103,-793.7976 1387.1399,-782.2446\"/>\n<polygon fill=\"#000000\" stroke=\"#000000\" points=\"1389.5087,-779.6564 1380.0848,-774.8149 1384.4327,-784.4766 1389.5087,-779.6564\"/>\n</g>\n<!-- 104 -->\n<g id=\"node105\" class=\"node\">\n<title>104</title>\n<path fill=\"#ffffff\" stroke=\"#000000\" d=\"M1502,-774.5C1502,-774.5 1427,-774.5 1427,-774.5 1421,-774.5 1415,-768.5 1415,-762.5 1415,-762.5 1415,-718.5 1415,-718.5 1415,-712.5 1421,-706.5 1427,-706.5 1427,-706.5 1502,-706.5 1502,-706.5 1508,-706.5 1514,-712.5 1514,-718.5 1514,-718.5 1514,-762.5 1514,-762.5 1514,-768.5 1508,-774.5 1502,-774.5\"/>\n<text text-anchor=\"start\" x=\"1435\" y=\"-759.3\" font-family=\"Helvetica,sans-Serif\" font-size=\"14.00\" fill=\"#000000\">gini = 0.5</text>\n<text text-anchor=\"start\" x=\"1425\" y=\"-744.3\" font-family=\"Helvetica,sans-Serif\" font-size=\"14.00\" fill=\"#000000\">samples = 2</text>\n<text text-anchor=\"start\" x=\"1423\" y=\"-729.3\" font-family=\"Helvetica,sans-Serif\" font-size=\"14.00\" fill=\"#000000\">value = [1, 1]</text>\n<text text-anchor=\"start\" x=\"1438\" y=\"-714.3\" font-family=\"Helvetica,sans-Serif\" font-size=\"14.00\" fill=\"#000000\">class = l</text>\n</g>\n<!-- 102&#45;&gt;104 -->\n<g id=\"edge104\" class=\"edge\">\n<title>102&#45;&gt;104</title>\n<path fill=\"none\" stroke=\"#000000\" d=\"M1461.899,-817.8796C1462.2575,-807.2134 1462.6445,-795.7021 1463.0075,-784.9015\"/>\n<polygon fill=\"#000000\" stroke=\"#000000\" points=\"1466.5085,-784.9269 1463.3466,-774.8149 1459.5125,-784.6917 1466.5085,-784.9269\"/>\n</g>\n<!-- 106 -->\n<g id=\"node107\" class=\"node\">\n<title>106</title>\n<path fill=\"#e58139\" stroke=\"#000000\" d=\"M1623,-1012.5C1623,-1012.5 1548,-1012.5 1548,-1012.5 1542,-1012.5 1536,-1006.5 1536,-1000.5 1536,-1000.5 1536,-956.5 1536,-956.5 1536,-950.5 1542,-944.5 1548,-944.5 1548,-944.5 1623,-944.5 1623,-944.5 1629,-944.5 1635,-950.5 1635,-956.5 1635,-956.5 1635,-1000.5 1635,-1000.5 1635,-1006.5 1629,-1012.5 1623,-1012.5\"/>\n<text text-anchor=\"start\" x=\"1556\" y=\"-997.3\" font-family=\"Helvetica,sans-Serif\" font-size=\"14.00\" fill=\"#000000\">gini = 0.0</text>\n<text text-anchor=\"start\" x=\"1546\" y=\"-982.3\" font-family=\"Helvetica,sans-Serif\" font-size=\"14.00\" fill=\"#000000\">samples = 2</text>\n<text text-anchor=\"start\" x=\"1544\" y=\"-967.3\" font-family=\"Helvetica,sans-Serif\" font-size=\"14.00\" fill=\"#000000\">value = [2, 0]</text>\n<text text-anchor=\"start\" x=\"1559\" y=\"-952.3\" font-family=\"Helvetica,sans-Serif\" font-size=\"14.00\" fill=\"#000000\">class = l</text>\n</g>\n<!-- 105&#45;&gt;106 -->\n<g id=\"edge106\" class=\"edge\">\n<title>105&#45;&gt;106</title>\n<path fill=\"none\" stroke=\"#000000\" d=\"M1601.7562,-1055.8796C1599.5154,-1045.2134 1597.0971,-1033.7021 1594.8281,-1022.9015\"/>\n<polygon fill=\"#000000\" stroke=\"#000000\" points=\"1598.1903,-1021.8817 1592.709,-1012.8149 1591.3398,-1023.3209 1598.1903,-1021.8817\"/>\n</g>\n<!-- 107 -->\n<g id=\"node108\" class=\"node\">\n<title>107</title>\n<path fill=\"#b0d8f5\" stroke=\"#000000\" d=\"M1740,-1020C1740,-1020 1665,-1020 1665,-1020 1659,-1020 1653,-1014 1653,-1008 1653,-1008 1653,-949 1653,-949 1653,-943 1659,-937 1665,-937 1665,-937 1740,-937 1740,-937 1746,-937 1752,-943 1752,-949 1752,-949 1752,-1008 1752,-1008 1752,-1014 1746,-1020 1740,-1020\"/>\n<text text-anchor=\"start\" x=\"1664\" y=\"-1004.8\" font-family=\"Helvetica,sans-Serif\" font-size=\"14.00\" fill=\"#000000\">age ≤ 1.005</text>\n<text text-anchor=\"start\" x=\"1664.5\" y=\"-989.8\" font-family=\"Helvetica,sans-Serif\" font-size=\"14.00\" fill=\"#000000\">gini = 0.469</text>\n<text text-anchor=\"start\" x=\"1663\" y=\"-974.8\" font-family=\"Helvetica,sans-Serif\" font-size=\"14.00\" fill=\"#000000\">samples = 8</text>\n<text text-anchor=\"start\" x=\"1661\" y=\"-959.8\" font-family=\"Helvetica,sans-Serif\" font-size=\"14.00\" fill=\"#000000\">value = [3, 5]</text>\n<text text-anchor=\"start\" x=\"1673.5\" y=\"-944.8\" font-family=\"Helvetica,sans-Serif\" font-size=\"14.00\" fill=\"#000000\">class = o</text>\n</g>\n<!-- 105&#45;&gt;107 -->\n<g id=\"edge107\" class=\"edge\">\n<title>105&#45;&gt;107</title>\n<path fill=\"none\" stroke=\"#000000\" d=\"M1642.6771,-1055.8796C1649.5704,-1046.9633 1656.9202,-1037.4565 1664.0239,-1028.268\"/>\n<polygon fill=\"#000000\" stroke=\"#000000\" points=\"1666.8381,-1030.3502 1670.1855,-1020.2981 1661.3001,-1026.0687 1666.8381,-1030.3502\"/>\n</g>\n<!-- 108 -->\n<g id=\"node109\" class=\"node\">\n<title>108</title>\n<path fill=\"#61b1ea\" stroke=\"#000000\" d=\"M1623,-901C1623,-901 1548,-901 1548,-901 1542,-901 1536,-895 1536,-889 1536,-889 1536,-830 1536,-830 1536,-824 1542,-818 1548,-818 1548,-818 1623,-818 1623,-818 1629,-818 1635,-824 1635,-830 1635,-830 1635,-889 1635,-889 1635,-895 1629,-901 1623,-901\"/>\n<text text-anchor=\"start\" x=\"1551\" y=\"-885.8\" font-family=\"Helvetica,sans-Serif\" font-size=\"14.00\" fill=\"#000000\">age ≤ 0.59</text>\n<text text-anchor=\"start\" x=\"1547.5\" y=\"-870.8\" font-family=\"Helvetica,sans-Serif\" font-size=\"14.00\" fill=\"#000000\">gini = 0.278</text>\n<text text-anchor=\"start\" x=\"1546\" y=\"-855.8\" font-family=\"Helvetica,sans-Serif\" font-size=\"14.00\" fill=\"#000000\">samples = 6</text>\n<text text-anchor=\"start\" x=\"1544\" y=\"-840.8\" font-family=\"Helvetica,sans-Serif\" font-size=\"14.00\" fill=\"#000000\">value = [1, 5]</text>\n<text text-anchor=\"start\" x=\"1556.5\" y=\"-825.8\" font-family=\"Helvetica,sans-Serif\" font-size=\"14.00\" fill=\"#000000\">class = o</text>\n</g>\n<!-- 107&#45;&gt;108 -->\n<g id=\"edge108\" class=\"edge\">\n<title>107&#45;&gt;108</title>\n<path fill=\"none\" stroke=\"#000000\" d=\"M1661.5791,-936.8796C1652.547,-927.6931 1642.8987,-917.8798 1633.6112,-908.4336\"/>\n<polygon fill=\"#000000\" stroke=\"#000000\" points=\"1636.1023,-905.975 1626.5956,-901.2981 1631.1107,-910.8827 1636.1023,-905.975\"/>\n</g>\n<!-- 113 -->\n<g id=\"node114\" class=\"node\">\n<title>113</title>\n<path fill=\"#e58139\" stroke=\"#000000\" d=\"M1740,-893.5C1740,-893.5 1665,-893.5 1665,-893.5 1659,-893.5 1653,-887.5 1653,-881.5 1653,-881.5 1653,-837.5 1653,-837.5 1653,-831.5 1659,-825.5 1665,-825.5 1665,-825.5 1740,-825.5 1740,-825.5 1746,-825.5 1752,-831.5 1752,-837.5 1752,-837.5 1752,-881.5 1752,-881.5 1752,-887.5 1746,-893.5 1740,-893.5\"/>\n<text text-anchor=\"start\" x=\"1673\" y=\"-878.3\" font-family=\"Helvetica,sans-Serif\" font-size=\"14.00\" fill=\"#000000\">gini = 0.0</text>\n<text text-anchor=\"start\" x=\"1663\" y=\"-863.3\" font-family=\"Helvetica,sans-Serif\" font-size=\"14.00\" fill=\"#000000\">samples = 2</text>\n<text text-anchor=\"start\" x=\"1661\" y=\"-848.3\" font-family=\"Helvetica,sans-Serif\" font-size=\"14.00\" fill=\"#000000\">value = [2, 0]</text>\n<text text-anchor=\"start\" x=\"1676\" y=\"-833.3\" font-family=\"Helvetica,sans-Serif\" font-size=\"14.00\" fill=\"#000000\">class = l</text>\n</g>\n<!-- 107&#45;&gt;113 -->\n<g id=\"edge113\" class=\"edge\">\n<title>107&#45;&gt;113</title>\n<path fill=\"none\" stroke=\"#000000\" d=\"M1702.5,-936.8796C1702.5,-926.2134 1702.5,-914.7021 1702.5,-903.9015\"/>\n<polygon fill=\"#000000\" stroke=\"#000000\" points=\"1706.0001,-903.8149 1702.5,-893.8149 1699.0001,-903.815 1706.0001,-903.8149\"/>\n</g>\n<!-- 109 -->\n<g id=\"node110\" class=\"node\">\n<title>109</title>\n<path fill=\"#399de5\" stroke=\"#000000\" d=\"M1619,-774.5C1619,-774.5 1544,-774.5 1544,-774.5 1538,-774.5 1532,-768.5 1532,-762.5 1532,-762.5 1532,-718.5 1532,-718.5 1532,-712.5 1538,-706.5 1544,-706.5 1544,-706.5 1619,-706.5 1619,-706.5 1625,-706.5 1631,-712.5 1631,-718.5 1631,-718.5 1631,-762.5 1631,-762.5 1631,-768.5 1625,-774.5 1619,-774.5\"/>\n<text text-anchor=\"start\" x=\"1552\" y=\"-759.3\" font-family=\"Helvetica,sans-Serif\" font-size=\"14.00\" fill=\"#000000\">gini = 0.0</text>\n<text text-anchor=\"start\" x=\"1542\" y=\"-744.3\" font-family=\"Helvetica,sans-Serif\" font-size=\"14.00\" fill=\"#000000\">samples = 3</text>\n<text text-anchor=\"start\" x=\"1540\" y=\"-729.3\" font-family=\"Helvetica,sans-Serif\" font-size=\"14.00\" fill=\"#000000\">value = [0, 3]</text>\n<text text-anchor=\"start\" x=\"1552.5\" y=\"-714.3\" font-family=\"Helvetica,sans-Serif\" font-size=\"14.00\" fill=\"#000000\">class = o</text>\n</g>\n<!-- 108&#45;&gt;109 -->\n<g id=\"edge109\" class=\"edge\">\n<title>108&#45;&gt;109</title>\n<path fill=\"none\" stroke=\"#000000\" d=\"M1584.101,-817.8796C1583.7425,-807.2134 1583.3555,-795.7021 1582.9925,-784.9015\"/>\n<polygon fill=\"#000000\" stroke=\"#000000\" points=\"1586.4875,-784.6917 1582.6534,-774.8149 1579.4915,-784.9269 1586.4875,-784.6917\"/>\n</g>\n<!-- 110 -->\n<g id=\"node111\" class=\"node\">\n<title>110</title>\n<path fill=\"#9ccef2\" stroke=\"#000000\" d=\"M1736,-782C1736,-782 1661,-782 1661,-782 1655,-782 1649,-776 1649,-770 1649,-770 1649,-711 1649,-711 1649,-705 1655,-699 1661,-699 1661,-699 1736,-699 1736,-699 1742,-699 1748,-705 1748,-711 1748,-711 1748,-770 1748,-770 1748,-776 1742,-782 1736,-782\"/>\n<text text-anchor=\"start\" x=\"1660\" y=\"-766.8\" font-family=\"Helvetica,sans-Serif\" font-size=\"14.00\" fill=\"#000000\">age ≤ 0.756</text>\n<text text-anchor=\"start\" x=\"1660.5\" y=\"-751.8\" font-family=\"Helvetica,sans-Serif\" font-size=\"14.00\" fill=\"#000000\">gini = 0.444</text>\n<text text-anchor=\"start\" x=\"1659\" y=\"-736.8\" font-family=\"Helvetica,sans-Serif\" font-size=\"14.00\" fill=\"#000000\">samples = 3</text>\n<text text-anchor=\"start\" x=\"1657\" y=\"-721.8\" font-family=\"Helvetica,sans-Serif\" font-size=\"14.00\" fill=\"#000000\">value = [1, 2]</text>\n<text text-anchor=\"start\" x=\"1669.5\" y=\"-706.8\" font-family=\"Helvetica,sans-Serif\" font-size=\"14.00\" fill=\"#000000\">class = o</text>\n</g>\n<!-- 108&#45;&gt;110 -->\n<g id=\"edge110\" class=\"edge\">\n<title>108&#45;&gt;110</title>\n<path fill=\"none\" stroke=\"#000000\" d=\"M1625.0219,-817.8796C1633.6597,-808.7832 1642.881,-799.0722 1651.7697,-789.7116\"/>\n<polygon fill=\"#000000\" stroke=\"#000000\" points=\"1654.4615,-791.9597 1658.8094,-782.2981 1649.3854,-787.1395 1654.4615,-791.9597\"/>\n</g>\n<!-- 111 -->\n<g id=\"node112\" class=\"node\">\n<title>111</title>\n<path fill=\"#ffffff\" stroke=\"#000000\" d=\"M1619,-655.5C1619,-655.5 1544,-655.5 1544,-655.5 1538,-655.5 1532,-649.5 1532,-643.5 1532,-643.5 1532,-599.5 1532,-599.5 1532,-593.5 1538,-587.5 1544,-587.5 1544,-587.5 1619,-587.5 1619,-587.5 1625,-587.5 1631,-593.5 1631,-599.5 1631,-599.5 1631,-643.5 1631,-643.5 1631,-649.5 1625,-655.5 1619,-655.5\"/>\n<text text-anchor=\"start\" x=\"1552\" y=\"-640.3\" font-family=\"Helvetica,sans-Serif\" font-size=\"14.00\" fill=\"#000000\">gini = 0.5</text>\n<text text-anchor=\"start\" x=\"1542\" y=\"-625.3\" font-family=\"Helvetica,sans-Serif\" font-size=\"14.00\" fill=\"#000000\">samples = 2</text>\n<text text-anchor=\"start\" x=\"1540\" y=\"-610.3\" font-family=\"Helvetica,sans-Serif\" font-size=\"14.00\" fill=\"#000000\">value = [1, 1]</text>\n<text text-anchor=\"start\" x=\"1555\" y=\"-595.3\" font-family=\"Helvetica,sans-Serif\" font-size=\"14.00\" fill=\"#000000\">class = l</text>\n</g>\n<!-- 110&#45;&gt;111 -->\n<g id=\"edge111\" class=\"edge\">\n<title>110&#45;&gt;111</title>\n<path fill=\"none\" stroke=\"#000000\" d=\"M1657.5791,-698.8796C1646.2272,-687.3337 1633.9018,-674.7976 1622.543,-663.2446\"/>\n<polygon fill=\"#000000\" stroke=\"#000000\" points=\"1624.7449,-660.4919 1615.2382,-655.8149 1619.7534,-665.3995 1624.7449,-660.4919\"/>\n</g>\n<!-- 112 -->\n<g id=\"node113\" class=\"node\">\n<title>112</title>\n<path fill=\"#399de5\" stroke=\"#000000\" d=\"M1736,-655.5C1736,-655.5 1661,-655.5 1661,-655.5 1655,-655.5 1649,-649.5 1649,-643.5 1649,-643.5 1649,-599.5 1649,-599.5 1649,-593.5 1655,-587.5 1661,-587.5 1661,-587.5 1736,-587.5 1736,-587.5 1742,-587.5 1748,-593.5 1748,-599.5 1748,-599.5 1748,-643.5 1748,-643.5 1748,-649.5 1742,-655.5 1736,-655.5\"/>\n<text text-anchor=\"start\" x=\"1669\" y=\"-640.3\" font-family=\"Helvetica,sans-Serif\" font-size=\"14.00\" fill=\"#000000\">gini = 0.0</text>\n<text text-anchor=\"start\" x=\"1659\" y=\"-625.3\" font-family=\"Helvetica,sans-Serif\" font-size=\"14.00\" fill=\"#000000\">samples = 1</text>\n<text text-anchor=\"start\" x=\"1657\" y=\"-610.3\" font-family=\"Helvetica,sans-Serif\" font-size=\"14.00\" fill=\"#000000\">value = [0, 1]</text>\n<text text-anchor=\"start\" x=\"1669.5\" y=\"-595.3\" font-family=\"Helvetica,sans-Serif\" font-size=\"14.00\" fill=\"#000000\">class = o</text>\n</g>\n<!-- 110&#45;&gt;112 -->\n<g id=\"edge112\" class=\"edge\">\n<title>110&#45;&gt;112</title>\n<path fill=\"none\" stroke=\"#000000\" d=\"M1698.5,-698.8796C1698.5,-688.2134 1698.5,-676.7021 1698.5,-665.9015\"/>\n<polygon fill=\"#000000\" stroke=\"#000000\" points=\"1702.0001,-665.8149 1698.5,-655.8149 1695.0001,-665.815 1702.0001,-665.8149\"/>\n</g>\n<!-- 115 -->\n<g id=\"node116\" class=\"node\">\n<title>115</title>\n<path fill=\"#8cc6f0\" stroke=\"#000000\" d=\"M1856.5,-1139C1856.5,-1139 1764.5,-1139 1764.5,-1139 1758.5,-1139 1752.5,-1133 1752.5,-1127 1752.5,-1127 1752.5,-1068 1752.5,-1068 1752.5,-1062 1758.5,-1056 1764.5,-1056 1764.5,-1056 1856.5,-1056 1856.5,-1056 1862.5,-1056 1868.5,-1062 1868.5,-1068 1868.5,-1068 1868.5,-1127 1868.5,-1127 1868.5,-1133 1862.5,-1139 1856.5,-1139\"/>\n<text text-anchor=\"start\" x=\"1772\" y=\"-1123.8\" font-family=\"Helvetica,sans-Serif\" font-size=\"14.00\" fill=\"#000000\">age ≤ 1.088</text>\n<text text-anchor=\"start\" x=\"1772.5\" y=\"-1108.8\" font-family=\"Helvetica,sans-Serif\" font-size=\"14.00\" fill=\"#000000\">gini = 0.417</text>\n<text text-anchor=\"start\" x=\"1766.5\" y=\"-1093.8\" font-family=\"Helvetica,sans-Serif\" font-size=\"14.00\" fill=\"#000000\">samples = 71</text>\n<text text-anchor=\"start\" x=\"1760.5\" y=\"-1078.8\" font-family=\"Helvetica,sans-Serif\" font-size=\"14.00\" fill=\"#000000\">value = [21, 50]</text>\n<text text-anchor=\"start\" x=\"1781.5\" y=\"-1063.8\" font-family=\"Helvetica,sans-Serif\" font-size=\"14.00\" fill=\"#000000\">class = o</text>\n</g>\n<!-- 114&#45;&gt;115 -->\n<g id=\"edge115\" class=\"edge\">\n<title>114&#45;&gt;115</title>\n<path fill=\"none\" stroke=\"#000000\" d=\"M1807.2488,-1174.8796C1807.5931,-1166.6838 1807.9584,-1157.9891 1808.3151,-1149.5013\"/>\n<polygon fill=\"#000000\" stroke=\"#000000\" points=\"1811.8208,-1149.4362 1808.7438,-1139.2981 1804.827,-1149.1423 1811.8208,-1149.4362\"/>\n</g>\n<!-- 158 -->\n<g id=\"node159\" class=\"node\">\n<title>158</title>\n<path fill=\"#399de5\" stroke=\"#000000\" d=\"M1974,-1131.5C1974,-1131.5 1899,-1131.5 1899,-1131.5 1893,-1131.5 1887,-1125.5 1887,-1119.5 1887,-1119.5 1887,-1075.5 1887,-1075.5 1887,-1069.5 1893,-1063.5 1899,-1063.5 1899,-1063.5 1974,-1063.5 1974,-1063.5 1980,-1063.5 1986,-1069.5 1986,-1075.5 1986,-1075.5 1986,-1119.5 1986,-1119.5 1986,-1125.5 1980,-1131.5 1974,-1131.5\"/>\n<text text-anchor=\"start\" x=\"1907\" y=\"-1116.3\" font-family=\"Helvetica,sans-Serif\" font-size=\"14.00\" fill=\"#000000\">gini = 0.0</text>\n<text text-anchor=\"start\" x=\"1897\" y=\"-1101.3\" font-family=\"Helvetica,sans-Serif\" font-size=\"14.00\" fill=\"#000000\">samples = 9</text>\n<text text-anchor=\"start\" x=\"1895\" y=\"-1086.3\" font-family=\"Helvetica,sans-Serif\" font-size=\"14.00\" fill=\"#000000\">value = [0, 9]</text>\n<text text-anchor=\"start\" x=\"1907.5\" y=\"-1071.3\" font-family=\"Helvetica,sans-Serif\" font-size=\"14.00\" fill=\"#000000\">class = o</text>\n</g>\n<!-- 114&#45;&gt;158 -->\n<g id=\"edge158\" class=\"edge\">\n<title>114&#45;&gt;158</title>\n<path fill=\"none\" stroke=\"#000000\" d=\"M1851.3174,-1174.8796C1864.2697,-1163.1138 1878.354,-1150.3197 1891.2714,-1138.5855\"/>\n<polygon fill=\"#000000\" stroke=\"#000000\" points=\"1893.6761,-1141.1296 1898.7247,-1131.8149 1888.9694,-1135.9482 1893.6761,-1141.1296\"/>\n</g>\n<!-- 116 -->\n<g id=\"node117\" class=\"node\">\n<title>116</title>\n<path fill=\"#90c8f0\" stroke=\"#000000\" d=\"M1877.5,-1020C1877.5,-1020 1785.5,-1020 1785.5,-1020 1779.5,-1020 1773.5,-1014 1773.5,-1008 1773.5,-1008 1773.5,-949 1773.5,-949 1773.5,-943 1779.5,-937 1785.5,-937 1785.5,-937 1877.5,-937 1877.5,-937 1883.5,-937 1889.5,-943 1889.5,-949 1889.5,-949 1889.5,-1008 1889.5,-1008 1889.5,-1014 1883.5,-1020 1877.5,-1020\"/>\n<text text-anchor=\"start\" x=\"1793\" y=\"-1004.8\" font-family=\"Helvetica,sans-Serif\" font-size=\"14.00\" fill=\"#000000\">age ≤ 0.756</text>\n<text text-anchor=\"start\" x=\"1793.5\" y=\"-989.8\" font-family=\"Helvetica,sans-Serif\" font-size=\"14.00\" fill=\"#000000\">gini = 0.423</text>\n<text text-anchor=\"start\" x=\"1787.5\" y=\"-974.8\" font-family=\"Helvetica,sans-Serif\" font-size=\"14.00\" fill=\"#000000\">samples = 69</text>\n<text text-anchor=\"start\" x=\"1781.5\" y=\"-959.8\" font-family=\"Helvetica,sans-Serif\" font-size=\"14.00\" fill=\"#000000\">value = [21, 48]</text>\n<text text-anchor=\"start\" x=\"1802.5\" y=\"-944.8\" font-family=\"Helvetica,sans-Serif\" font-size=\"14.00\" fill=\"#000000\">class = o</text>\n</g>\n<!-- 115&#45;&gt;116 -->\n<g id=\"edge116\" class=\"edge\">\n<title>115&#45;&gt;116</title>\n<path fill=\"none\" stroke=\"#000000\" d=\"M1817.8448,-1055.8796C1819.307,-1047.5938 1820.8592,-1038.798 1822.3727,-1030.2216\"/>\n<polygon fill=\"#000000\" stroke=\"#000000\" points=\"1825.8327,-1030.7542 1824.1239,-1020.2981 1818.9392,-1029.5376 1825.8327,-1030.7542\"/>\n</g>\n<!-- 157 -->\n<g id=\"node158\" class=\"node\">\n<title>157</title>\n<path fill=\"#399de5\" stroke=\"#000000\" d=\"M1995,-1012.5C1995,-1012.5 1920,-1012.5 1920,-1012.5 1914,-1012.5 1908,-1006.5 1908,-1000.5 1908,-1000.5 1908,-956.5 1908,-956.5 1908,-950.5 1914,-944.5 1920,-944.5 1920,-944.5 1995,-944.5 1995,-944.5 2001,-944.5 2007,-950.5 2007,-956.5 2007,-956.5 2007,-1000.5 2007,-1000.5 2007,-1006.5 2001,-1012.5 1995,-1012.5\"/>\n<text text-anchor=\"start\" x=\"1928\" y=\"-997.3\" font-family=\"Helvetica,sans-Serif\" font-size=\"14.00\" fill=\"#000000\">gini = 0.0</text>\n<text text-anchor=\"start\" x=\"1918\" y=\"-982.3\" font-family=\"Helvetica,sans-Serif\" font-size=\"14.00\" fill=\"#000000\">samples = 2</text>\n<text text-anchor=\"start\" x=\"1916\" y=\"-967.3\" font-family=\"Helvetica,sans-Serif\" font-size=\"14.00\" fill=\"#000000\">value = [0, 2]</text>\n<text text-anchor=\"start\" x=\"1928.5\" y=\"-952.3\" font-family=\"Helvetica,sans-Serif\" font-size=\"14.00\" fill=\"#000000\">class = o</text>\n</g>\n<!-- 115&#45;&gt;157 -->\n<g id=\"edge157\" class=\"edge\">\n<title>115&#45;&gt;157</title>\n<path fill=\"none\" stroke=\"#000000\" d=\"M1861.9135,-1055.8796C1876.5835,-1044.0038 1892.5477,-1031.0804 1907.1533,-1019.2568\"/>\n<polygon fill=\"#000000\" stroke=\"#000000\" points=\"1909.5407,-1021.8273 1915.111,-1012.8149 1905.1363,-1016.3866 1909.5407,-1021.8273\"/>\n</g>\n<!-- 117 -->\n<g id=\"node118\" class=\"node\">\n<title>117</title>\n<path fill=\"#8ac5f0\" stroke=\"#000000\" d=\"M1886.5,-901C1886.5,-901 1782.5,-901 1782.5,-901 1776.5,-901 1770.5,-895 1770.5,-889 1770.5,-889 1770.5,-830 1770.5,-830 1770.5,-824 1776.5,-818 1782.5,-818 1782.5,-818 1886.5,-818 1886.5,-818 1892.5,-818 1898.5,-824 1898.5,-830 1898.5,-830 1898.5,-889 1898.5,-889 1898.5,-895 1892.5,-901 1886.5,-901\"/>\n<text text-anchor=\"start\" x=\"1778.5\" y=\"-885.8\" font-family=\"Helvetica,sans-Serif\" font-size=\"14.00\" fill=\"#000000\">Principal ≤ &#45;0.399</text>\n<text text-anchor=\"start\" x=\"1796.5\" y=\"-870.8\" font-family=\"Helvetica,sans-Serif\" font-size=\"14.00\" fill=\"#000000\">gini = 0.412</text>\n<text text-anchor=\"start\" x=\"1790.5\" y=\"-855.8\" font-family=\"Helvetica,sans-Serif\" font-size=\"14.00\" fill=\"#000000\">samples = 62</text>\n<text text-anchor=\"start\" x=\"1784.5\" y=\"-840.8\" font-family=\"Helvetica,sans-Serif\" font-size=\"14.00\" fill=\"#000000\">value = [18, 44]</text>\n<text text-anchor=\"start\" x=\"1805.5\" y=\"-825.8\" font-family=\"Helvetica,sans-Serif\" font-size=\"14.00\" fill=\"#000000\">class = o</text>\n</g>\n<!-- 116&#45;&gt;117 -->\n<g id=\"edge117\" class=\"edge\">\n<title>116&#45;&gt;117</title>\n<path fill=\"none\" stroke=\"#000000\" d=\"M1832.5493,-936.8796C1832.7559,-928.6838 1832.9751,-919.9891 1833.189,-911.5013\"/>\n<polygon fill=\"#000000\" stroke=\"#000000\" points=\"1836.693,-911.3831 1833.4463,-901.2981 1829.6953,-911.2067 1836.693,-911.3831\"/>\n</g>\n<!-- 150 -->\n<g id=\"node151\" class=\"node\">\n<title>150</title>\n<path fill=\"#cee6f8\" stroke=\"#000000\" d=\"M2325,-901C2325,-901 2142,-901 2142,-901 2136,-901 2130,-895 2130,-889 2130,-889 2130,-830 2130,-830 2130,-824 2136,-818 2142,-818 2142,-818 2325,-818 2325,-818 2331,-818 2337,-824 2337,-830 2337,-830 2337,-889 2337,-889 2337,-895 2331,-901 2325,-901\"/>\n<text text-anchor=\"start\" x=\"2138\" y=\"-885.8\" font-family=\"Helvetica,sans-Serif\" font-size=\"14.00\" fill=\"#000000\">High School or Below ≤ 0.128</text>\n<text text-anchor=\"start\" x=\"2200\" y=\"-870.8\" font-family=\"Helvetica,sans-Serif\" font-size=\"14.00\" fill=\"#000000\">gini = 0.49</text>\n<text text-anchor=\"start\" x=\"2194\" y=\"-855.8\" font-family=\"Helvetica,sans-Serif\" font-size=\"14.00\" fill=\"#000000\">samples = 7</text>\n<text text-anchor=\"start\" x=\"2192\" y=\"-840.8\" font-family=\"Helvetica,sans-Serif\" font-size=\"14.00\" fill=\"#000000\">value = [3, 4]</text>\n<text text-anchor=\"start\" x=\"2204.5\" y=\"-825.8\" font-family=\"Helvetica,sans-Serif\" font-size=\"14.00\" fill=\"#000000\">class = o</text>\n</g>\n<!-- 116&#45;&gt;150 -->\n<g id=\"edge150\" class=\"edge\">\n<title>116&#45;&gt;150</title>\n<path fill=\"none\" stroke=\"#000000\" d=\"M1889.7441,-940.925C1892.6629,-939.5179 1895.5905,-938.1992 1898.5,-937 1969.3704,-907.7893 2053.4294,-888.3837 2119.6156,-876.2961\"/>\n<polygon fill=\"#000000\" stroke=\"#000000\" points=\"2120.439,-879.7043 2129.663,-874.4921 2119.2019,-872.8145 2120.439,-879.7043\"/>\n</g>\n<!-- 118 -->\n<g id=\"node119\" class=\"node\">\n<title>118</title>\n<path fill=\"#399de5\" stroke=\"#000000\" d=\"M1863,-774.5C1863,-774.5 1788,-774.5 1788,-774.5 1782,-774.5 1776,-768.5 1776,-762.5 1776,-762.5 1776,-718.5 1776,-718.5 1776,-712.5 1782,-706.5 1788,-706.5 1788,-706.5 1863,-706.5 1863,-706.5 1869,-706.5 1875,-712.5 1875,-718.5 1875,-718.5 1875,-762.5 1875,-762.5 1875,-768.5 1869,-774.5 1863,-774.5\"/>\n<text text-anchor=\"start\" x=\"1796\" y=\"-759.3\" font-family=\"Helvetica,sans-Serif\" font-size=\"14.00\" fill=\"#000000\">gini = 0.0</text>\n<text text-anchor=\"start\" x=\"1786\" y=\"-744.3\" font-family=\"Helvetica,sans-Serif\" font-size=\"14.00\" fill=\"#000000\">samples = 1</text>\n<text text-anchor=\"start\" x=\"1784\" y=\"-729.3\" font-family=\"Helvetica,sans-Serif\" font-size=\"14.00\" fill=\"#000000\">value = [0, 1]</text>\n<text text-anchor=\"start\" x=\"1796.5\" y=\"-714.3\" font-family=\"Helvetica,sans-Serif\" font-size=\"14.00\" fill=\"#000000\">class = o</text>\n</g>\n<!-- 117&#45;&gt;118 -->\n<g id=\"edge118\" class=\"edge\">\n<title>117&#45;&gt;118</title>\n<path fill=\"none\" stroke=\"#000000\" d=\"M1831.3522,-817.8796C1830.5455,-807.2134 1829.6749,-795.7021 1828.8581,-784.9015\"/>\n<polygon fill=\"#000000\" stroke=\"#000000\" points=\"1832.3395,-784.5225 1828.0952,-774.8149 1825.3595,-785.0504 1832.3395,-784.5225\"/>\n</g>\n<!-- 119 -->\n<g id=\"node120\" class=\"node\">\n<title>119</title>\n<path fill=\"#8cc6f0\" stroke=\"#000000\" d=\"M1997.5,-782C1997.5,-782 1905.5,-782 1905.5,-782 1899.5,-782 1893.5,-776 1893.5,-770 1893.5,-770 1893.5,-711 1893.5,-711 1893.5,-705 1899.5,-699 1905.5,-699 1905.5,-699 1997.5,-699 1997.5,-699 2003.5,-699 2009.5,-705 2009.5,-711 2009.5,-711 2009.5,-770 2009.5,-770 2009.5,-776 2003.5,-782 1997.5,-782\"/>\n<text text-anchor=\"start\" x=\"1915\" y=\"-766.8\" font-family=\"Helvetica,sans-Serif\" font-size=\"14.00\" fill=\"#000000\">age ≤ &#45;0.57</text>\n<text text-anchor=\"start\" x=\"1913.5\" y=\"-751.8\" font-family=\"Helvetica,sans-Serif\" font-size=\"14.00\" fill=\"#000000\">gini = 0.416</text>\n<text text-anchor=\"start\" x=\"1907.5\" y=\"-736.8\" font-family=\"Helvetica,sans-Serif\" font-size=\"14.00\" fill=\"#000000\">samples = 61</text>\n<text text-anchor=\"start\" x=\"1901.5\" y=\"-721.8\" font-family=\"Helvetica,sans-Serif\" font-size=\"14.00\" fill=\"#000000\">value = [18, 43]</text>\n<text text-anchor=\"start\" x=\"1922.5\" y=\"-706.8\" font-family=\"Helvetica,sans-Serif\" font-size=\"14.00\" fill=\"#000000\">class = o</text>\n</g>\n<!-- 117&#45;&gt;119 -->\n<g id=\"edge119\" class=\"edge\">\n<title>117&#45;&gt;119</title>\n<path fill=\"none\" stroke=\"#000000\" d=\"M1875.4209,-817.8796C1884.453,-808.6931 1894.1013,-798.8798 1903.3888,-789.4336\"/>\n<polygon fill=\"#000000\" stroke=\"#000000\" points=\"1905.8893,-791.8827 1910.4044,-782.2981 1900.8977,-786.975 1905.8893,-791.8827\"/>\n</g>\n<!-- 120 -->\n<g id=\"node121\" class=\"node\">\n<title>120</title>\n<path fill=\"#b0d8f5\" stroke=\"#000000\" d=\"M1961,-663C1961,-663 1778,-663 1778,-663 1772,-663 1766,-657 1766,-651 1766,-651 1766,-592 1766,-592 1766,-586 1772,-580 1778,-580 1778,-580 1961,-580 1961,-580 1967,-580 1973,-586 1973,-592 1973,-592 1973,-651 1973,-651 1973,-657 1967,-663 1961,-663\"/>\n<text text-anchor=\"start\" x=\"1774\" y=\"-647.8\" font-family=\"Helvetica,sans-Serif\" font-size=\"14.00\" fill=\"#000000\">High School or Below ≤ 0.128</text>\n<text text-anchor=\"start\" x=\"1831.5\" y=\"-632.8\" font-family=\"Helvetica,sans-Serif\" font-size=\"14.00\" fill=\"#000000\">gini = 0.469</text>\n<text text-anchor=\"start\" x=\"1830\" y=\"-617.8\" font-family=\"Helvetica,sans-Serif\" font-size=\"14.00\" fill=\"#000000\">samples = 8</text>\n<text text-anchor=\"start\" x=\"1828\" y=\"-602.8\" font-family=\"Helvetica,sans-Serif\" font-size=\"14.00\" fill=\"#000000\">value = [3, 5]</text>\n<text text-anchor=\"start\" x=\"1840.5\" y=\"-587.8\" font-family=\"Helvetica,sans-Serif\" font-size=\"14.00\" fill=\"#000000\">class = o</text>\n</g>\n<!-- 119&#45;&gt;120 -->\n<g id=\"edge120\" class=\"edge\">\n<title>119&#45;&gt;120</title>\n<path fill=\"none\" stroke=\"#000000\" d=\"M1922.8204,-698.8796C1916.7385,-690.0534 1910.2578,-680.6485 1903.9859,-671.5466\"/>\n<polygon fill=\"#000000\" stroke=\"#000000\" points=\"1906.8582,-669.5465 1898.302,-663.2981 1901.0941,-673.5184 1906.8582,-669.5465\"/>\n</g>\n<!-- 123 -->\n<g id=\"node124\" class=\"node\">\n<title>123</title>\n<path fill=\"#87c4ef\" stroke=\"#000000\" d=\"M2095.5,-663C2095.5,-663 2003.5,-663 2003.5,-663 1997.5,-663 1991.5,-657 1991.5,-651 1991.5,-651 1991.5,-592 1991.5,-592 1991.5,-586 1997.5,-580 2003.5,-580 2003.5,-580 2095.5,-580 2095.5,-580 2101.5,-580 2107.5,-586 2107.5,-592 2107.5,-592 2107.5,-651 2107.5,-651 2107.5,-657 2101.5,-663 2095.5,-663\"/>\n<text text-anchor=\"start\" x=\"2008.5\" y=\"-647.8\" font-family=\"Helvetica,sans-Serif\" font-size=\"14.00\" fill=\"#000000\">age ≤ &#45;0.073</text>\n<text text-anchor=\"start\" x=\"2011.5\" y=\"-632.8\" font-family=\"Helvetica,sans-Serif\" font-size=\"14.00\" fill=\"#000000\">gini = 0.406</text>\n<text text-anchor=\"start\" x=\"2005.5\" y=\"-617.8\" font-family=\"Helvetica,sans-Serif\" font-size=\"14.00\" fill=\"#000000\">samples = 53</text>\n<text text-anchor=\"start\" x=\"1999.5\" y=\"-602.8\" font-family=\"Helvetica,sans-Serif\" font-size=\"14.00\" fill=\"#000000\">value = [15, 38]</text>\n<text text-anchor=\"start\" x=\"2020.5\" y=\"-587.8\" font-family=\"Helvetica,sans-Serif\" font-size=\"14.00\" fill=\"#000000\">class = o</text>\n</g>\n<!-- 119&#45;&gt;123 -->\n<g id=\"edge123\" class=\"edge\">\n<title>119&#45;&gt;123</title>\n<path fill=\"none\" stroke=\"#000000\" d=\"M1985.7756,-698.8796C1993.1184,-689.9633 2000.9476,-680.4565 2008.5146,-671.268\"/>\n<polygon fill=\"#000000\" stroke=\"#000000\" points=\"2011.4227,-673.2424 2015.0781,-663.2981 2006.0192,-668.7924 2011.4227,-673.2424\"/>\n</g>\n<!-- 121 -->\n<g id=\"node122\" class=\"node\">\n<title>121</title>\n<path fill=\"#7bbeee\" stroke=\"#000000\" d=\"M1805,-536.5C1805,-536.5 1730,-536.5 1730,-536.5 1724,-536.5 1718,-530.5 1718,-524.5 1718,-524.5 1718,-480.5 1718,-480.5 1718,-474.5 1724,-468.5 1730,-468.5 1730,-468.5 1805,-468.5 1805,-468.5 1811,-468.5 1817,-474.5 1817,-480.5 1817,-480.5 1817,-524.5 1817,-524.5 1817,-530.5 1811,-536.5 1805,-536.5\"/>\n<text text-anchor=\"start\" x=\"1729.5\" y=\"-521.3\" font-family=\"Helvetica,sans-Serif\" font-size=\"14.00\" fill=\"#000000\">gini = 0.375</text>\n<text text-anchor=\"start\" x=\"1728\" y=\"-506.3\" font-family=\"Helvetica,sans-Serif\" font-size=\"14.00\" fill=\"#000000\">samples = 4</text>\n<text text-anchor=\"start\" x=\"1726\" y=\"-491.3\" font-family=\"Helvetica,sans-Serif\" font-size=\"14.00\" fill=\"#000000\">value = [1, 3]</text>\n<text text-anchor=\"start\" x=\"1738.5\" y=\"-476.3\" font-family=\"Helvetica,sans-Serif\" font-size=\"14.00\" fill=\"#000000\">class = o</text>\n</g>\n<!-- 120&#45;&gt;121 -->\n<g id=\"edge121\" class=\"edge\">\n<title>120&#45;&gt;121</title>\n<path fill=\"none\" stroke=\"#000000\" d=\"M1833.8253,-579.8796C1824.0231,-568.4436 1813.3882,-556.0363 1803.5643,-544.575\"/>\n<polygon fill=\"#000000\" stroke=\"#000000\" points=\"1806.0782,-542.1297 1796.9128,-536.8149 1800.7633,-546.6853 1806.0782,-542.1297\"/>\n</g>\n<!-- 122 -->\n<g id=\"node123\" class=\"node\">\n<title>122</title>\n<path fill=\"#ffffff\" stroke=\"#000000\" d=\"M1922,-536.5C1922,-536.5 1847,-536.5 1847,-536.5 1841,-536.5 1835,-530.5 1835,-524.5 1835,-524.5 1835,-480.5 1835,-480.5 1835,-474.5 1841,-468.5 1847,-468.5 1847,-468.5 1922,-468.5 1922,-468.5 1928,-468.5 1934,-474.5 1934,-480.5 1934,-480.5 1934,-524.5 1934,-524.5 1934,-530.5 1928,-536.5 1922,-536.5\"/>\n<text text-anchor=\"start\" x=\"1855\" y=\"-521.3\" font-family=\"Helvetica,sans-Serif\" font-size=\"14.00\" fill=\"#000000\">gini = 0.5</text>\n<text text-anchor=\"start\" x=\"1845\" y=\"-506.3\" font-family=\"Helvetica,sans-Serif\" font-size=\"14.00\" fill=\"#000000\">samples = 4</text>\n<text text-anchor=\"start\" x=\"1843\" y=\"-491.3\" font-family=\"Helvetica,sans-Serif\" font-size=\"14.00\" fill=\"#000000\">value = [2, 2]</text>\n<text text-anchor=\"start\" x=\"1858\" y=\"-476.3\" font-family=\"Helvetica,sans-Serif\" font-size=\"14.00\" fill=\"#000000\">class = l</text>\n</g>\n<!-- 120&#45;&gt;122 -->\n<g id=\"edge122\" class=\"edge\">\n<title>120&#45;&gt;122</title>\n<path fill=\"none\" stroke=\"#000000\" d=\"M1874.7463,-579.8796C1876.0908,-569.2134 1877.5418,-557.7021 1878.9032,-546.9015\"/>\n<polygon fill=\"#000000\" stroke=\"#000000\" points=\"1882.3964,-547.1742 1880.1746,-536.8149 1875.4514,-546.2987 1882.3964,-547.1742\"/>\n</g>\n<!-- 124 -->\n<g id=\"node125\" class=\"node\">\n<title>124</title>\n<path fill=\"#78bced\" stroke=\"#000000\" d=\"M2076,-544C2076,-544 1993,-544 1993,-544 1987,-544 1981,-538 1981,-532 1981,-532 1981,-473 1981,-473 1981,-467 1987,-461 1993,-461 1993,-461 2076,-461 2076,-461 2082,-461 2088,-467 2088,-473 2088,-473 2088,-532 2088,-532 2088,-538 2082,-544 2076,-544\"/>\n<text text-anchor=\"start\" x=\"1993.5\" y=\"-528.8\" font-family=\"Helvetica,sans-Serif\" font-size=\"14.00\" fill=\"#000000\">age ≤ &#45;0.239</text>\n<text text-anchor=\"start\" x=\"1996.5\" y=\"-513.8\" font-family=\"Helvetica,sans-Serif\" font-size=\"14.00\" fill=\"#000000\">gini = 0.366</text>\n<text text-anchor=\"start\" x=\"1990.5\" y=\"-498.8\" font-family=\"Helvetica,sans-Serif\" font-size=\"14.00\" fill=\"#000000\">samples = 29</text>\n<text text-anchor=\"start\" x=\"1989\" y=\"-483.8\" font-family=\"Helvetica,sans-Serif\" font-size=\"14.00\" fill=\"#000000\">value = [7, 22]</text>\n<text text-anchor=\"start\" x=\"2005.5\" y=\"-468.8\" font-family=\"Helvetica,sans-Serif\" font-size=\"14.00\" fill=\"#000000\">class = o</text>\n</g>\n<!-- 123&#45;&gt;124 -->\n<g id=\"edge124\" class=\"edge\">\n<title>123&#45;&gt;124</title>\n<path fill=\"none\" stroke=\"#000000\" d=\"M2044.2537,-579.8796C2043.2093,-571.5938 2042.1006,-562.798 2041.0195,-554.2216\"/>\n<polygon fill=\"#000000\" stroke=\"#000000\" points=\"2044.4919,-553.7818 2039.7687,-544.2981 2037.5468,-554.6573 2044.4919,-553.7818\"/>\n</g>\n<!-- 135 -->\n<g id=\"node136\" class=\"node\">\n<title>135</title>\n<path fill=\"#9ccef2\" stroke=\"#000000\" d=\"M2285,-544C2285,-544 2202,-544 2202,-544 2196,-544 2190,-538 2190,-532 2190,-532 2190,-473 2190,-473 2190,-467 2196,-461 2202,-461 2202,-461 2285,-461 2285,-461 2291,-461 2297,-467 2297,-473 2297,-473 2297,-532 2297,-532 2297,-538 2291,-544 2285,-544\"/>\n<text text-anchor=\"start\" x=\"2205\" y=\"-528.8\" font-family=\"Helvetica,sans-Serif\" font-size=\"14.00\" fill=\"#000000\">age ≤ 0.425</text>\n<text text-anchor=\"start\" x=\"2205.5\" y=\"-513.8\" font-family=\"Helvetica,sans-Serif\" font-size=\"14.00\" fill=\"#000000\">gini = 0.444</text>\n<text text-anchor=\"start\" x=\"2199.5\" y=\"-498.8\" font-family=\"Helvetica,sans-Serif\" font-size=\"14.00\" fill=\"#000000\">samples = 24</text>\n<text text-anchor=\"start\" x=\"2198\" y=\"-483.8\" font-family=\"Helvetica,sans-Serif\" font-size=\"14.00\" fill=\"#000000\">value = [8, 16]</text>\n<text text-anchor=\"start\" x=\"2214.5\" y=\"-468.8\" font-family=\"Helvetica,sans-Serif\" font-size=\"14.00\" fill=\"#000000\">class = o</text>\n</g>\n<!-- 123&#45;&gt;135 -->\n<g id=\"edge135\" class=\"edge\">\n<title>123&#45;&gt;135</title>\n<path fill=\"none\" stroke=\"#000000\" d=\"M2107.5901,-585.4862C2110.6022,-583.6289 2113.586,-581.7915 2116.5,-580 2137.4861,-567.0976 2160.4626,-553.0519 2181.0337,-540.5058\"/>\n<polygon fill=\"#000000\" stroke=\"#000000\" points=\"2182.9735,-543.4225 2189.6898,-535.2284 2179.3295,-537.4457 2182.9735,-543.4225\"/>\n</g>\n<!-- 125 -->\n<g id=\"node126\" class=\"node\">\n<title>125</title>\n<path fill=\"#85c3ef\" stroke=\"#000000\" d=\"M1922,-425C1922,-425 1839,-425 1839,-425 1833,-425 1827,-419 1827,-413 1827,-413 1827,-354 1827,-354 1827,-348 1833,-342 1839,-342 1839,-342 1922,-342 1922,-342 1928,-342 1934,-348 1934,-354 1934,-354 1934,-413 1934,-413 1934,-419 1928,-425 1922,-425\"/>\n<text text-anchor=\"start\" x=\"1835\" y=\"-409.8\" font-family=\"Helvetica,sans-Serif\" font-size=\"14.00\" fill=\"#000000\">college ≤ 0.14</text>\n<text text-anchor=\"start\" x=\"1842.5\" y=\"-394.8\" font-family=\"Helvetica,sans-Serif\" font-size=\"14.00\" fill=\"#000000\">gini = 0.401</text>\n<text text-anchor=\"start\" x=\"1836.5\" y=\"-379.8\" font-family=\"Helvetica,sans-Serif\" font-size=\"14.00\" fill=\"#000000\">samples = 18</text>\n<text text-anchor=\"start\" x=\"1835\" y=\"-364.8\" font-family=\"Helvetica,sans-Serif\" font-size=\"14.00\" fill=\"#000000\">value = [5, 13]</text>\n<text text-anchor=\"start\" x=\"1851.5\" y=\"-349.8\" font-family=\"Helvetica,sans-Serif\" font-size=\"14.00\" fill=\"#000000\">class = o</text>\n</g>\n<!-- 124&#45;&gt;125 -->\n<g id=\"edge125\" class=\"edge\">\n<title>124&#45;&gt;125</title>\n<path fill=\"none\" stroke=\"#000000\" d=\"M1980.6383,-460.8796C1968.258,-451.313 1954.9979,-441.0666 1942.3108,-431.2629\"/>\n<polygon fill=\"#000000\" stroke=\"#000000\" points=\"1944.1242,-428.241 1934.0713,-424.896 1939.8441,-433.78 1944.1242,-428.241\"/>\n</g>\n<!-- 132 -->\n<g id=\"node133\" class=\"node\">\n<title>132</title>\n<path fill=\"#65b3eb\" stroke=\"#000000\" d=\"M2076,-425C2076,-425 1993,-425 1993,-425 1987,-425 1981,-419 1981,-413 1981,-413 1981,-354 1981,-354 1981,-348 1987,-342 1993,-342 1993,-342 2076,-342 2076,-342 2082,-342 2088,-348 2088,-354 2088,-354 2088,-413 2088,-413 2088,-419 2082,-425 2076,-425\"/>\n<text text-anchor=\"start\" x=\"1989\" y=\"-409.8\" font-family=\"Helvetica,sans-Serif\" font-size=\"14.00\" fill=\"#000000\">college ≤ 0.14</text>\n<text text-anchor=\"start\" x=\"1996.5\" y=\"-394.8\" font-family=\"Helvetica,sans-Serif\" font-size=\"14.00\" fill=\"#000000\">gini = 0.298</text>\n<text text-anchor=\"start\" x=\"1990.5\" y=\"-379.8\" font-family=\"Helvetica,sans-Serif\" font-size=\"14.00\" fill=\"#000000\">samples = 11</text>\n<text text-anchor=\"start\" x=\"1993\" y=\"-364.8\" font-family=\"Helvetica,sans-Serif\" font-size=\"14.00\" fill=\"#000000\">value = [2, 9]</text>\n<text text-anchor=\"start\" x=\"2005.5\" y=\"-349.8\" font-family=\"Helvetica,sans-Serif\" font-size=\"14.00\" fill=\"#000000\">class = o</text>\n</g>\n<!-- 124&#45;&gt;132 -->\n<g id=\"edge132\" class=\"edge\">\n<title>124&#45;&gt;132</title>\n<path fill=\"none\" stroke=\"#000000\" d=\"M2034.5,-460.8796C2034.5,-452.6838 2034.5,-443.9891 2034.5,-435.5013\"/>\n<polygon fill=\"#000000\" stroke=\"#000000\" points=\"2038.0001,-435.298 2034.5,-425.2981 2031.0001,-435.2981 2038.0001,-435.298\"/>\n</g>\n<!-- 126 -->\n<g id=\"node127\" class=\"node\">\n<title>126</title>\n<path fill=\"#b0d8f5\" stroke=\"#000000\" d=\"M1798,-306C1798,-306 1723,-306 1723,-306 1717,-306 1711,-300 1711,-294 1711,-294 1711,-235 1711,-235 1711,-229 1717,-223 1723,-223 1723,-223 1798,-223 1798,-223 1804,-223 1810,-229 1810,-235 1810,-235 1810,-294 1810,-294 1810,-300 1804,-306 1798,-306\"/>\n<text text-anchor=\"start\" x=\"1719.5\" y=\"-290.8\" font-family=\"Helvetica,sans-Serif\" font-size=\"14.00\" fill=\"#000000\">age ≤ &#45;0.404</text>\n<text text-anchor=\"start\" x=\"1722.5\" y=\"-275.8\" font-family=\"Helvetica,sans-Serif\" font-size=\"14.00\" fill=\"#000000\">gini = 0.469</text>\n<text text-anchor=\"start\" x=\"1721\" y=\"-260.8\" font-family=\"Helvetica,sans-Serif\" font-size=\"14.00\" fill=\"#000000\">samples = 8</text>\n<text text-anchor=\"start\" x=\"1719\" y=\"-245.8\" font-family=\"Helvetica,sans-Serif\" font-size=\"14.00\" fill=\"#000000\">value = [3, 5]</text>\n<text text-anchor=\"start\" x=\"1731.5\" y=\"-230.8\" font-family=\"Helvetica,sans-Serif\" font-size=\"14.00\" fill=\"#000000\">class = o</text>\n</g>\n<!-- 125&#45;&gt;126 -->\n<g id=\"edge126\" class=\"edge\">\n<title>125&#45;&gt;126</title>\n<path fill=\"none\" stroke=\"#000000\" d=\"M1838.5298,-341.8796C1829.2662,-332.6931 1819.3704,-322.8798 1809.8448,-313.4336\"/>\n<polygon fill=\"#000000\" stroke=\"#000000\" points=\"1812.2144,-310.8543 1802.6493,-306.2981 1807.2854,-315.8247 1812.2144,-310.8543\"/>\n</g>\n<!-- 129 -->\n<g id=\"node130\" class=\"node\">\n<title>129</title>\n<path fill=\"#6ab6ec\" stroke=\"#000000\" d=\"M1920.5,-306C1920.5,-306 1840.5,-306 1840.5,-306 1834.5,-306 1828.5,-300 1828.5,-294 1828.5,-294 1828.5,-235 1828.5,-235 1828.5,-229 1834.5,-223 1840.5,-223 1840.5,-223 1920.5,-223 1920.5,-223 1926.5,-223 1932.5,-229 1932.5,-235 1932.5,-235 1932.5,-294 1932.5,-294 1932.5,-300 1926.5,-306 1920.5,-306\"/>\n<text text-anchor=\"start\" x=\"1839.5\" y=\"-290.8\" font-family=\"Helvetica,sans-Serif\" font-size=\"14.00\" fill=\"#000000\">age ≤ &#45;0.404</text>\n<text text-anchor=\"start\" x=\"1847\" y=\"-275.8\" font-family=\"Helvetica,sans-Serif\" font-size=\"14.00\" fill=\"#000000\">gini = 0.32</text>\n<text text-anchor=\"start\" x=\"1836.5\" y=\"-260.8\" font-family=\"Helvetica,sans-Serif\" font-size=\"14.00\" fill=\"#000000\">samples = 10</text>\n<text text-anchor=\"start\" x=\"1839\" y=\"-245.8\" font-family=\"Helvetica,sans-Serif\" font-size=\"14.00\" fill=\"#000000\">value = [2, 8]</text>\n<text text-anchor=\"start\" x=\"1851.5\" y=\"-230.8\" font-family=\"Helvetica,sans-Serif\" font-size=\"14.00\" fill=\"#000000\">class = o</text>\n</g>\n<!-- 125&#45;&gt;129 -->\n<g id=\"edge129\" class=\"edge\">\n<title>125&#45;&gt;129</title>\n<path fill=\"none\" stroke=\"#000000\" d=\"M1880.5,-341.8796C1880.5,-333.6838 1880.5,-324.9891 1880.5,-316.5013\"/>\n<polygon fill=\"#000000\" stroke=\"#000000\" points=\"1884.0001,-316.298 1880.5,-306.2981 1877.0001,-316.2981 1884.0001,-316.298\"/>\n</g>\n<!-- 127 -->\n<g id=\"node128\" class=\"node\">\n<title>127</title>\n<path fill=\"#ffffff\" stroke=\"#000000\" d=\"M1682,-179.5C1682,-179.5 1607,-179.5 1607,-179.5 1601,-179.5 1595,-173.5 1595,-167.5 1595,-167.5 1595,-123.5 1595,-123.5 1595,-117.5 1601,-111.5 1607,-111.5 1607,-111.5 1682,-111.5 1682,-111.5 1688,-111.5 1694,-117.5 1694,-123.5 1694,-123.5 1694,-167.5 1694,-167.5 1694,-173.5 1688,-179.5 1682,-179.5\"/>\n<text text-anchor=\"start\" x=\"1615\" y=\"-164.3\" font-family=\"Helvetica,sans-Serif\" font-size=\"14.00\" fill=\"#000000\">gini = 0.5</text>\n<text text-anchor=\"start\" x=\"1605\" y=\"-149.3\" font-family=\"Helvetica,sans-Serif\" font-size=\"14.00\" fill=\"#000000\">samples = 4</text>\n<text text-anchor=\"start\" x=\"1603\" y=\"-134.3\" font-family=\"Helvetica,sans-Serif\" font-size=\"14.00\" fill=\"#000000\">value = [2, 2]</text>\n<text text-anchor=\"start\" x=\"1618\" y=\"-119.3\" font-family=\"Helvetica,sans-Serif\" font-size=\"14.00\" fill=\"#000000\">class = l</text>\n</g>\n<!-- 126&#45;&gt;127 -->\n<g id=\"edge127\" class=\"edge\">\n<title>126&#45;&gt;127</title>\n<path fill=\"none\" stroke=\"#000000\" d=\"M1719.9288,-222.8796C1708.674,-211.3337 1696.4539,-198.7976 1685.1922,-187.2446\"/>\n<polygon fill=\"#000000\" stroke=\"#000000\" points=\"1687.4364,-184.5326 1677.9499,-179.8149 1682.4238,-189.4188 1687.4364,-184.5326\"/>\n</g>\n<!-- 128 -->\n<g id=\"node129\" class=\"node\">\n<title>128</title>\n<path fill=\"#7bbeee\" stroke=\"#000000\" d=\"M1799,-179.5C1799,-179.5 1724,-179.5 1724,-179.5 1718,-179.5 1712,-173.5 1712,-167.5 1712,-167.5 1712,-123.5 1712,-123.5 1712,-117.5 1718,-111.5 1724,-111.5 1724,-111.5 1799,-111.5 1799,-111.5 1805,-111.5 1811,-117.5 1811,-123.5 1811,-123.5 1811,-167.5 1811,-167.5 1811,-173.5 1805,-179.5 1799,-179.5\"/>\n<text text-anchor=\"start\" x=\"1723.5\" y=\"-164.3\" font-family=\"Helvetica,sans-Serif\" font-size=\"14.00\" fill=\"#000000\">gini = 0.375</text>\n<text text-anchor=\"start\" x=\"1722\" y=\"-149.3\" font-family=\"Helvetica,sans-Serif\" font-size=\"14.00\" fill=\"#000000\">samples = 4</text>\n<text text-anchor=\"start\" x=\"1720\" y=\"-134.3\" font-family=\"Helvetica,sans-Serif\" font-size=\"14.00\" fill=\"#000000\">value = [1, 3]</text>\n<text text-anchor=\"start\" x=\"1732.5\" y=\"-119.3\" font-family=\"Helvetica,sans-Serif\" font-size=\"14.00\" fill=\"#000000\">class = o</text>\n</g>\n<!-- 126&#45;&gt;128 -->\n<g id=\"edge128\" class=\"edge\">\n<title>126&#45;&gt;128</title>\n<path fill=\"none\" stroke=\"#000000\" d=\"M1760.8498,-222.8796C1760.9394,-212.2134 1761.0361,-200.7021 1761.1269,-189.9015\"/>\n<polygon fill=\"#000000\" stroke=\"#000000\" points=\"1764.6274,-189.844 1761.2116,-179.8149 1757.6276,-189.7851 1764.6274,-189.844\"/>\n</g>\n<!-- 130 -->\n<g id=\"node131\" class=\"node\">\n<title>130</title>\n<path fill=\"#61b1ea\" stroke=\"#000000\" d=\"M1917,-179.5C1917,-179.5 1842,-179.5 1842,-179.5 1836,-179.5 1830,-173.5 1830,-167.5 1830,-167.5 1830,-123.5 1830,-123.5 1830,-117.5 1836,-111.5 1842,-111.5 1842,-111.5 1917,-111.5 1917,-111.5 1923,-111.5 1929,-117.5 1929,-123.5 1929,-123.5 1929,-167.5 1929,-167.5 1929,-173.5 1923,-179.5 1917,-179.5\"/>\n<text text-anchor=\"start\" x=\"1841.5\" y=\"-164.3\" font-family=\"Helvetica,sans-Serif\" font-size=\"14.00\" fill=\"#000000\">gini = 0.278</text>\n<text text-anchor=\"start\" x=\"1840\" y=\"-149.3\" font-family=\"Helvetica,sans-Serif\" font-size=\"14.00\" fill=\"#000000\">samples = 6</text>\n<text text-anchor=\"start\" x=\"1838\" y=\"-134.3\" font-family=\"Helvetica,sans-Serif\" font-size=\"14.00\" fill=\"#000000\">value = [1, 5]</text>\n<text text-anchor=\"start\" x=\"1850.5\" y=\"-119.3\" font-family=\"Helvetica,sans-Serif\" font-size=\"14.00\" fill=\"#000000\">class = o</text>\n</g>\n<!-- 129&#45;&gt;130 -->\n<g id=\"edge130\" class=\"edge\">\n<title>129&#45;&gt;130</title>\n<path fill=\"none\" stroke=\"#000000\" d=\"M1880.1502,-222.8796C1880.0606,-212.2134 1879.9639,-200.7021 1879.8731,-189.9015\"/>\n<polygon fill=\"#000000\" stroke=\"#000000\" points=\"1883.3724,-189.7851 1879.7884,-179.8149 1876.3726,-189.844 1883.3724,-189.7851\"/>\n</g>\n<!-- 131 -->\n<g id=\"node132\" class=\"node\">\n<title>131</title>\n<path fill=\"#7bbeee\" stroke=\"#000000\" d=\"M2034,-179.5C2034,-179.5 1959,-179.5 1959,-179.5 1953,-179.5 1947,-173.5 1947,-167.5 1947,-167.5 1947,-123.5 1947,-123.5 1947,-117.5 1953,-111.5 1959,-111.5 1959,-111.5 2034,-111.5 2034,-111.5 2040,-111.5 2046,-117.5 2046,-123.5 2046,-123.5 2046,-167.5 2046,-167.5 2046,-173.5 2040,-179.5 2034,-179.5\"/>\n<text text-anchor=\"start\" x=\"1958.5\" y=\"-164.3\" font-family=\"Helvetica,sans-Serif\" font-size=\"14.00\" fill=\"#000000\">gini = 0.375</text>\n<text text-anchor=\"start\" x=\"1957\" y=\"-149.3\" font-family=\"Helvetica,sans-Serif\" font-size=\"14.00\" fill=\"#000000\">samples = 4</text>\n<text text-anchor=\"start\" x=\"1955\" y=\"-134.3\" font-family=\"Helvetica,sans-Serif\" font-size=\"14.00\" fill=\"#000000\">value = [1, 3]</text>\n<text text-anchor=\"start\" x=\"1967.5\" y=\"-119.3\" font-family=\"Helvetica,sans-Serif\" font-size=\"14.00\" fill=\"#000000\">class = o</text>\n</g>\n<!-- 129&#45;&gt;131 -->\n<g id=\"edge131\" class=\"edge\">\n<title>129&#45;&gt;131</title>\n<path fill=\"none\" stroke=\"#000000\" d=\"M1921.0712,-222.8796C1932.326,-211.3337 1944.5461,-198.7976 1955.8078,-187.2446\"/>\n<polygon fill=\"#000000\" stroke=\"#000000\" points=\"1958.5762,-189.4188 1963.0501,-179.8149 1953.5636,-184.5326 1958.5762,-189.4188\"/>\n</g>\n<!-- 133 -->\n<g id=\"node134\" class=\"node\">\n<title>133</title>\n<path fill=\"#5aade9\" stroke=\"#000000\" d=\"M2038,-298.5C2038,-298.5 1963,-298.5 1963,-298.5 1957,-298.5 1951,-292.5 1951,-286.5 1951,-286.5 1951,-242.5 1951,-242.5 1951,-236.5 1957,-230.5 1963,-230.5 1963,-230.5 2038,-230.5 2038,-230.5 2044,-230.5 2050,-236.5 2050,-242.5 2050,-242.5 2050,-286.5 2050,-286.5 2050,-292.5 2044,-298.5 2038,-298.5\"/>\n<text text-anchor=\"start\" x=\"1962.5\" y=\"-283.3\" font-family=\"Helvetica,sans-Serif\" font-size=\"14.00\" fill=\"#000000\">gini = 0.245</text>\n<text text-anchor=\"start\" x=\"1961\" y=\"-268.3\" font-family=\"Helvetica,sans-Serif\" font-size=\"14.00\" fill=\"#000000\">samples = 7</text>\n<text text-anchor=\"start\" x=\"1959\" y=\"-253.3\" font-family=\"Helvetica,sans-Serif\" font-size=\"14.00\" fill=\"#000000\">value = [1, 6]</text>\n<text text-anchor=\"start\" x=\"1971.5\" y=\"-238.3\" font-family=\"Helvetica,sans-Serif\" font-size=\"14.00\" fill=\"#000000\">class = o</text>\n</g>\n<!-- 132&#45;&gt;133 -->\n<g id=\"edge133\" class=\"edge\">\n<title>132&#45;&gt;133</title>\n<path fill=\"none\" stroke=\"#000000\" d=\"M2022.6084,-341.8796C2019.5295,-331.1034 2016.2042,-319.4647 2013.0908,-308.5677\"/>\n<polygon fill=\"#000000\" stroke=\"#000000\" points=\"2016.4169,-307.4686 2010.3043,-298.8149 2009.6862,-309.3917 2016.4169,-307.4686\"/>\n</g>\n<!-- 134 -->\n<g id=\"node135\" class=\"node\">\n<title>134</title>\n<path fill=\"#7bbeee\" stroke=\"#000000\" d=\"M2155,-298.5C2155,-298.5 2080,-298.5 2080,-298.5 2074,-298.5 2068,-292.5 2068,-286.5 2068,-286.5 2068,-242.5 2068,-242.5 2068,-236.5 2074,-230.5 2080,-230.5 2080,-230.5 2155,-230.5 2155,-230.5 2161,-230.5 2167,-236.5 2167,-242.5 2167,-242.5 2167,-286.5 2167,-286.5 2167,-292.5 2161,-298.5 2155,-298.5\"/>\n<text text-anchor=\"start\" x=\"2079.5\" y=\"-283.3\" font-family=\"Helvetica,sans-Serif\" font-size=\"14.00\" fill=\"#000000\">gini = 0.375</text>\n<text text-anchor=\"start\" x=\"2078\" y=\"-268.3\" font-family=\"Helvetica,sans-Serif\" font-size=\"14.00\" fill=\"#000000\">samples = 4</text>\n<text text-anchor=\"start\" x=\"2076\" y=\"-253.3\" font-family=\"Helvetica,sans-Serif\" font-size=\"14.00\" fill=\"#000000\">value = [1, 3]</text>\n<text text-anchor=\"start\" x=\"2088.5\" y=\"-238.3\" font-family=\"Helvetica,sans-Serif\" font-size=\"14.00\" fill=\"#000000\">class = o</text>\n</g>\n<!-- 132&#45;&gt;134 -->\n<g id=\"edge134\" class=\"edge\">\n<title>132&#45;&gt;134</title>\n<path fill=\"none\" stroke=\"#000000\" d=\"M2063.5294,-341.8796C2071.3523,-330.6636 2079.827,-318.5131 2087.6917,-307.2372\"/>\n<polygon fill=\"#000000\" stroke=\"#000000\" points=\"2090.716,-309.0192 2093.5661,-298.8149 2084.9746,-305.0147 2090.716,-309.0192\"/>\n</g>\n<!-- 136 -->\n<g id=\"node137\" class=\"node\">\n<title>136</title>\n<path fill=\"#bddef6\" stroke=\"#000000\" d=\"M2335,-425C2335,-425 2152,-425 2152,-425 2146,-425 2140,-419 2140,-413 2140,-413 2140,-354 2140,-354 2140,-348 2146,-342 2152,-342 2152,-342 2335,-342 2335,-342 2341,-342 2347,-348 2347,-354 2347,-354 2347,-413 2347,-413 2347,-419 2341,-425 2335,-425\"/>\n<text text-anchor=\"start\" x=\"2148\" y=\"-409.8\" font-family=\"Helvetica,sans-Serif\" font-size=\"14.00\" fill=\"#000000\">High School or Below ≤ 0.128</text>\n<text text-anchor=\"start\" x=\"2210\" y=\"-394.8\" font-family=\"Helvetica,sans-Serif\" font-size=\"14.00\" fill=\"#000000\">gini = 0.48</text>\n<text text-anchor=\"start\" x=\"2199.5\" y=\"-379.8\" font-family=\"Helvetica,sans-Serif\" font-size=\"14.00\" fill=\"#000000\">samples = 15</text>\n<text text-anchor=\"start\" x=\"2202\" y=\"-364.8\" font-family=\"Helvetica,sans-Serif\" font-size=\"14.00\" fill=\"#000000\">value = [6, 9]</text>\n<text text-anchor=\"start\" x=\"2214.5\" y=\"-349.8\" font-family=\"Helvetica,sans-Serif\" font-size=\"14.00\" fill=\"#000000\">class = o</text>\n</g>\n<!-- 135&#45;&gt;136 -->\n<g id=\"edge136\" class=\"edge\">\n<title>135&#45;&gt;136</title>\n<path fill=\"none\" stroke=\"#000000\" d=\"M2243.5,-460.8796C2243.5,-452.6838 2243.5,-443.9891 2243.5,-435.5013\"/>\n<polygon fill=\"#000000\" stroke=\"#000000\" points=\"2247.0001,-435.298 2243.5,-425.2981 2240.0001,-435.2981 2247.0001,-435.298\"/>\n</g>\n<!-- 145 -->\n<g id=\"node146\" class=\"node\">\n<title>145</title>\n<path fill=\"#72b9ec\" stroke=\"#000000\" d=\"M2566,-425C2566,-425 2383,-425 2383,-425 2377,-425 2371,-419 2371,-413 2371,-413 2371,-354 2371,-354 2371,-348 2377,-342 2383,-342 2383,-342 2566,-342 2566,-342 2572,-342 2578,-348 2578,-354 2578,-354 2578,-413 2578,-413 2578,-419 2572,-425 2566,-425\"/>\n<text text-anchor=\"start\" x=\"2379\" y=\"-409.8\" font-family=\"Helvetica,sans-Serif\" font-size=\"14.00\" fill=\"#000000\">High School or Below ≤ 0.128</text>\n<text text-anchor=\"start\" x=\"2436.5\" y=\"-394.8\" font-family=\"Helvetica,sans-Serif\" font-size=\"14.00\" fill=\"#000000\">gini = 0.346</text>\n<text text-anchor=\"start\" x=\"2435\" y=\"-379.8\" font-family=\"Helvetica,sans-Serif\" font-size=\"14.00\" fill=\"#000000\">samples = 9</text>\n<text text-anchor=\"start\" x=\"2433\" y=\"-364.8\" font-family=\"Helvetica,sans-Serif\" font-size=\"14.00\" fill=\"#000000\">value = [2, 7]</text>\n<text text-anchor=\"start\" x=\"2445.5\" y=\"-349.8\" font-family=\"Helvetica,sans-Serif\" font-size=\"14.00\" fill=\"#000000\">class = o</text>\n</g>\n<!-- 135&#45;&gt;145 -->\n<g id=\"edge145\" class=\"edge\">\n<title>135&#45;&gt;145</title>\n<path fill=\"none\" stroke=\"#000000\" d=\"M2297.0767,-474.8999C2323.0456,-461.522 2354.9441,-445.0894 2384.4982,-429.8646\"/>\n<polygon fill=\"#000000\" stroke=\"#000000\" points=\"2386.2988,-432.8741 2393.5857,-425.1831 2383.0931,-426.6513 2386.2988,-432.8741\"/>\n</g>\n<!-- 137 -->\n<g id=\"node138\" class=\"node\">\n<title>137</title>\n<path fill=\"#deeffb\" stroke=\"#000000\" d=\"M2277.5,-306C2277.5,-306 2197.5,-306 2197.5,-306 2191.5,-306 2185.5,-300 2185.5,-294 2185.5,-294 2185.5,-235 2185.5,-235 2185.5,-229 2191.5,-223 2197.5,-223 2197.5,-223 2277.5,-223 2277.5,-223 2283.5,-223 2289.5,-229 2289.5,-235 2289.5,-235 2289.5,-294 2289.5,-294 2289.5,-300 2283.5,-306 2277.5,-306\"/>\n<text text-anchor=\"start\" x=\"2199\" y=\"-290.8\" font-family=\"Helvetica,sans-Serif\" font-size=\"14.00\" fill=\"#000000\">age ≤ 0.093</text>\n<text text-anchor=\"start\" x=\"2199.5\" y=\"-275.8\" font-family=\"Helvetica,sans-Serif\" font-size=\"14.00\" fill=\"#000000\">gini = 0.496</text>\n<text text-anchor=\"start\" x=\"2193.5\" y=\"-260.8\" font-family=\"Helvetica,sans-Serif\" font-size=\"14.00\" fill=\"#000000\">samples = 11</text>\n<text text-anchor=\"start\" x=\"2196\" y=\"-245.8\" font-family=\"Helvetica,sans-Serif\" font-size=\"14.00\" fill=\"#000000\">value = [5, 6]</text>\n<text text-anchor=\"start\" x=\"2208.5\" y=\"-230.8\" font-family=\"Helvetica,sans-Serif\" font-size=\"14.00\" fill=\"#000000\">class = o</text>\n</g>\n<!-- 136&#45;&gt;137 -->\n<g id=\"edge137\" class=\"edge\">\n<title>136&#45;&gt;137</title>\n<path fill=\"none\" stroke=\"#000000\" d=\"M2241.4015,-341.8796C2240.9883,-333.6838 2240.5499,-324.9891 2240.1219,-316.5013\"/>\n<polygon fill=\"#000000\" stroke=\"#000000\" points=\"2243.6067,-316.1091 2239.6075,-306.2981 2236.6156,-316.4617 2243.6067,-316.1091\"/>\n</g>\n<!-- 142 -->\n<g id=\"node143\" class=\"node\">\n<title>142</title>\n<path fill=\"#7bbeee\" stroke=\"#000000\" d=\"M2395,-306C2395,-306 2320,-306 2320,-306 2314,-306 2308,-300 2308,-294 2308,-294 2308,-235 2308,-235 2308,-229 2314,-223 2320,-223 2320,-223 2395,-223 2395,-223 2401,-223 2407,-229 2407,-235 2407,-235 2407,-294 2407,-294 2407,-300 2401,-306 2395,-306\"/>\n<text text-anchor=\"start\" x=\"2319\" y=\"-290.8\" font-family=\"Helvetica,sans-Serif\" font-size=\"14.00\" fill=\"#000000\">age ≤ 0.093</text>\n<text text-anchor=\"start\" x=\"2319.5\" y=\"-275.8\" font-family=\"Helvetica,sans-Serif\" font-size=\"14.00\" fill=\"#000000\">gini = 0.375</text>\n<text text-anchor=\"start\" x=\"2318\" y=\"-260.8\" font-family=\"Helvetica,sans-Serif\" font-size=\"14.00\" fill=\"#000000\">samples = 4</text>\n<text text-anchor=\"start\" x=\"2316\" y=\"-245.8\" font-family=\"Helvetica,sans-Serif\" font-size=\"14.00\" fill=\"#000000\">value = [1, 3]</text>\n<text text-anchor=\"start\" x=\"2328.5\" y=\"-230.8\" font-family=\"Helvetica,sans-Serif\" font-size=\"14.00\" fill=\"#000000\">class = o</text>\n</g>\n<!-- 136&#45;&gt;142 -->\n<g id=\"edge142\" class=\"edge\">\n<title>136&#45;&gt;142</title>\n<path fill=\"none\" stroke=\"#000000\" d=\"M2283.3717,-341.8796C2292.0858,-332.7832 2301.3888,-323.0722 2310.3562,-313.7116\"/>\n<polygon fill=\"#000000\" stroke=\"#000000\" points=\"2313.0678,-315.9405 2317.4581,-306.2981 2308.013,-311.098 2313.0678,-315.9405\"/>\n</g>\n<!-- 138 -->\n<g id=\"node139\" class=\"node\">\n<title>138</title>\n<path fill=\"#9ccef2\" stroke=\"#000000\" d=\"M2158,-179.5C2158,-179.5 2083,-179.5 2083,-179.5 2077,-179.5 2071,-173.5 2071,-167.5 2071,-167.5 2071,-123.5 2071,-123.5 2071,-117.5 2077,-111.5 2083,-111.5 2083,-111.5 2158,-111.5 2158,-111.5 2164,-111.5 2170,-117.5 2170,-123.5 2170,-123.5 2170,-167.5 2170,-167.5 2170,-173.5 2164,-179.5 2158,-179.5\"/>\n<text text-anchor=\"start\" x=\"2082.5\" y=\"-164.3\" font-family=\"Helvetica,sans-Serif\" font-size=\"14.00\" fill=\"#000000\">gini = 0.444</text>\n<text text-anchor=\"start\" x=\"2081\" y=\"-149.3\" font-family=\"Helvetica,sans-Serif\" font-size=\"14.00\" fill=\"#000000\">samples = 3</text>\n<text text-anchor=\"start\" x=\"2079\" y=\"-134.3\" font-family=\"Helvetica,sans-Serif\" font-size=\"14.00\" fill=\"#000000\">value = [1, 2]</text>\n<text text-anchor=\"start\" x=\"2091.5\" y=\"-119.3\" font-family=\"Helvetica,sans-Serif\" font-size=\"14.00\" fill=\"#000000\">class = o</text>\n</g>\n<!-- 137&#45;&gt;138 -->\n<g id=\"edge138\" class=\"edge\">\n<title>137&#45;&gt;138</title>\n<path fill=\"none\" stroke=\"#000000\" d=\"M2196.5791,-222.8796C2185.2272,-211.3337 2172.9018,-198.7976 2161.543,-187.2446\"/>\n<polygon fill=\"#000000\" stroke=\"#000000\" points=\"2163.7449,-184.4919 2154.2382,-179.8149 2158.7534,-189.3995 2163.7449,-184.4919\"/>\n</g>\n<!-- 139 -->\n<g id=\"node140\" class=\"node\">\n<title>139</title>\n<path fill=\"#ffffff\" stroke=\"#000000\" d=\"M2275,-187C2275,-187 2200,-187 2200,-187 2194,-187 2188,-181 2188,-175 2188,-175 2188,-116 2188,-116 2188,-110 2194,-104 2200,-104 2200,-104 2275,-104 2275,-104 2281,-104 2287,-110 2287,-116 2287,-116 2287,-175 2287,-175 2287,-181 2281,-187 2275,-187\"/>\n<text text-anchor=\"start\" x=\"2199\" y=\"-171.8\" font-family=\"Helvetica,sans-Serif\" font-size=\"14.00\" fill=\"#000000\">age ≤ 0.259</text>\n<text text-anchor=\"start\" x=\"2208\" y=\"-156.8\" font-family=\"Helvetica,sans-Serif\" font-size=\"14.00\" fill=\"#000000\">gini = 0.5</text>\n<text text-anchor=\"start\" x=\"2198\" y=\"-141.8\" font-family=\"Helvetica,sans-Serif\" font-size=\"14.00\" fill=\"#000000\">samples = 8</text>\n<text text-anchor=\"start\" x=\"2196\" y=\"-126.8\" font-family=\"Helvetica,sans-Serif\" font-size=\"14.00\" fill=\"#000000\">value = [4, 4]</text>\n<text text-anchor=\"start\" x=\"2211\" y=\"-111.8\" font-family=\"Helvetica,sans-Serif\" font-size=\"14.00\" fill=\"#000000\">class = l</text>\n</g>\n<!-- 137&#45;&gt;139 -->\n<g id=\"edge139\" class=\"edge\">\n<title>137&#45;&gt;139</title>\n<path fill=\"none\" stroke=\"#000000\" d=\"M2237.5,-222.8796C2237.5,-214.6838 2237.5,-205.9891 2237.5,-197.5013\"/>\n<polygon fill=\"#000000\" stroke=\"#000000\" points=\"2241.0001,-197.298 2237.5,-187.2981 2234.0001,-197.2981 2241.0001,-197.298\"/>\n</g>\n<!-- 140 -->\n<g id=\"node141\" class=\"node\">\n<title>140</title>\n<path fill=\"#ffffff\" stroke=\"#000000\" d=\"M2216,-68C2216,-68 2141,-68 2141,-68 2135,-68 2129,-62 2129,-56 2129,-56 2129,-12 2129,-12 2129,-6 2135,0 2141,0 2141,0 2216,0 2216,0 2222,0 2228,-6 2228,-12 2228,-12 2228,-56 2228,-56 2228,-62 2222,-68 2216,-68\"/>\n<text text-anchor=\"start\" x=\"2149\" y=\"-52.8\" font-family=\"Helvetica,sans-Serif\" font-size=\"14.00\" fill=\"#000000\">gini = 0.5</text>\n<text text-anchor=\"start\" x=\"2139\" y=\"-37.8\" font-family=\"Helvetica,sans-Serif\" font-size=\"14.00\" fill=\"#000000\">samples = 4</text>\n<text text-anchor=\"start\" x=\"2137\" y=\"-22.8\" font-family=\"Helvetica,sans-Serif\" font-size=\"14.00\" fill=\"#000000\">value = [2, 2]</text>\n<text text-anchor=\"start\" x=\"2152\" y=\"-7.8\" font-family=\"Helvetica,sans-Serif\" font-size=\"14.00\" fill=\"#000000\">class = l</text>\n</g>\n<!-- 139&#45;&gt;140 -->\n<g id=\"edge140\" class=\"edge\">\n<title>139&#45;&gt;140</title>\n<path fill=\"none\" stroke=\"#000000\" d=\"M2215.5306,-103.9815C2210.9105,-95.2504 2206.0264,-86.0202 2201.374,-77.2281\"/>\n<polygon fill=\"#000000\" stroke=\"#000000\" points=\"2204.4013,-75.4655 2196.6306,-68.2637 2198.2141,-78.7395 2204.4013,-75.4655\"/>\n</g>\n<!-- 141 -->\n<g id=\"node142\" class=\"node\">\n<title>141</title>\n<path fill=\"#ffffff\" stroke=\"#000000\" d=\"M2333,-68C2333,-68 2258,-68 2258,-68 2252,-68 2246,-62 2246,-56 2246,-56 2246,-12 2246,-12 2246,-6 2252,0 2258,0 2258,0 2333,0 2333,0 2339,0 2345,-6 2345,-12 2345,-12 2345,-56 2345,-56 2345,-62 2339,-68 2333,-68\"/>\n<text text-anchor=\"start\" x=\"2266\" y=\"-52.8\" font-family=\"Helvetica,sans-Serif\" font-size=\"14.00\" fill=\"#000000\">gini = 0.5</text>\n<text text-anchor=\"start\" x=\"2256\" y=\"-37.8\" font-family=\"Helvetica,sans-Serif\" font-size=\"14.00\" fill=\"#000000\">samples = 4</text>\n<text text-anchor=\"start\" x=\"2254\" y=\"-22.8\" font-family=\"Helvetica,sans-Serif\" font-size=\"14.00\" fill=\"#000000\">value = [2, 2]</text>\n<text text-anchor=\"start\" x=\"2269\" y=\"-7.8\" font-family=\"Helvetica,sans-Serif\" font-size=\"14.00\" fill=\"#000000\">class = l</text>\n</g>\n<!-- 139&#45;&gt;141 -->\n<g id=\"edge141\" class=\"edge\">\n<title>139&#45;&gt;141</title>\n<path fill=\"none\" stroke=\"#000000\" d=\"M2259.0971,-103.9815C2263.6388,-95.2504 2268.4402,-86.0202 2273.0137,-77.2281\"/>\n<polygon fill=\"#000000\" stroke=\"#000000\" points=\"2276.1669,-78.7504 2277.6767,-68.2637 2269.9569,-75.52 2276.1669,-78.7504\"/>\n</g>\n<!-- 143 -->\n<g id=\"node144\" class=\"node\">\n<title>143</title>\n<path fill=\"#ffffff\" stroke=\"#000000\" d=\"M2393,-179.5C2393,-179.5 2318,-179.5 2318,-179.5 2312,-179.5 2306,-173.5 2306,-167.5 2306,-167.5 2306,-123.5 2306,-123.5 2306,-117.5 2312,-111.5 2318,-111.5 2318,-111.5 2393,-111.5 2393,-111.5 2399,-111.5 2405,-117.5 2405,-123.5 2405,-123.5 2405,-167.5 2405,-167.5 2405,-173.5 2399,-179.5 2393,-179.5\"/>\n<text text-anchor=\"start\" x=\"2326\" y=\"-164.3\" font-family=\"Helvetica,sans-Serif\" font-size=\"14.00\" fill=\"#000000\">gini = 0.5</text>\n<text text-anchor=\"start\" x=\"2316\" y=\"-149.3\" font-family=\"Helvetica,sans-Serif\" font-size=\"14.00\" fill=\"#000000\">samples = 2</text>\n<text text-anchor=\"start\" x=\"2314\" y=\"-134.3\" font-family=\"Helvetica,sans-Serif\" font-size=\"14.00\" fill=\"#000000\">value = [1, 1]</text>\n<text text-anchor=\"start\" x=\"2329\" y=\"-119.3\" font-family=\"Helvetica,sans-Serif\" font-size=\"14.00\" fill=\"#000000\">class = l</text>\n</g>\n<!-- 142&#45;&gt;143 -->\n<g id=\"edge143\" class=\"edge\">\n<title>142&#45;&gt;143</title>\n<path fill=\"none\" stroke=\"#000000\" d=\"M2356.8005,-222.8796C2356.6212,-212.2134 2356.4278,-200.7021 2356.2462,-189.9015\"/>\n<polygon fill=\"#000000\" stroke=\"#000000\" points=\"2359.7444,-189.7547 2356.0767,-179.8149 2352.7454,-189.8724 2359.7444,-189.7547\"/>\n</g>\n<!-- 144 -->\n<g id=\"node145\" class=\"node\">\n<title>144</title>\n<path fill=\"#399de5\" stroke=\"#000000\" d=\"M2510,-179.5C2510,-179.5 2435,-179.5 2435,-179.5 2429,-179.5 2423,-173.5 2423,-167.5 2423,-167.5 2423,-123.5 2423,-123.5 2423,-117.5 2429,-111.5 2435,-111.5 2435,-111.5 2510,-111.5 2510,-111.5 2516,-111.5 2522,-117.5 2522,-123.5 2522,-123.5 2522,-167.5 2522,-167.5 2522,-173.5 2516,-179.5 2510,-179.5\"/>\n<text text-anchor=\"start\" x=\"2443\" y=\"-164.3\" font-family=\"Helvetica,sans-Serif\" font-size=\"14.00\" fill=\"#000000\">gini = 0.0</text>\n<text text-anchor=\"start\" x=\"2433\" y=\"-149.3\" font-family=\"Helvetica,sans-Serif\" font-size=\"14.00\" fill=\"#000000\">samples = 2</text>\n<text text-anchor=\"start\" x=\"2431\" y=\"-134.3\" font-family=\"Helvetica,sans-Serif\" font-size=\"14.00\" fill=\"#000000\">value = [0, 2]</text>\n<text text-anchor=\"start\" x=\"2443.5\" y=\"-119.3\" font-family=\"Helvetica,sans-Serif\" font-size=\"14.00\" fill=\"#000000\">class = o</text>\n</g>\n<!-- 142&#45;&gt;144 -->\n<g id=\"edge144\" class=\"edge\">\n<title>142&#45;&gt;144</title>\n<path fill=\"none\" stroke=\"#000000\" d=\"M2397.7214,-222.8796C2408.8792,-211.3337 2420.9939,-198.7976 2432.1586,-187.2446\"/>\n<polygon fill=\"#000000\" stroke=\"#000000\" points=\"2434.9061,-189.4381 2439.3385,-179.8149 2429.8725,-184.5736 2434.9061,-189.4381\"/>\n</g>\n<!-- 146 -->\n<g id=\"node147\" class=\"node\">\n<title>146</title>\n<path fill=\"#399de5\" stroke=\"#000000\" d=\"M2512,-298.5C2512,-298.5 2437,-298.5 2437,-298.5 2431,-298.5 2425,-292.5 2425,-286.5 2425,-286.5 2425,-242.5 2425,-242.5 2425,-236.5 2431,-230.5 2437,-230.5 2437,-230.5 2512,-230.5 2512,-230.5 2518,-230.5 2524,-236.5 2524,-242.5 2524,-242.5 2524,-286.5 2524,-286.5 2524,-292.5 2518,-298.5 2512,-298.5\"/>\n<text text-anchor=\"start\" x=\"2445\" y=\"-283.3\" font-family=\"Helvetica,sans-Serif\" font-size=\"14.00\" fill=\"#000000\">gini = 0.0</text>\n<text text-anchor=\"start\" x=\"2435\" y=\"-268.3\" font-family=\"Helvetica,sans-Serif\" font-size=\"14.00\" fill=\"#000000\">samples = 2</text>\n<text text-anchor=\"start\" x=\"2433\" y=\"-253.3\" font-family=\"Helvetica,sans-Serif\" font-size=\"14.00\" fill=\"#000000\">value = [0, 2]</text>\n<text text-anchor=\"start\" x=\"2445.5\" y=\"-238.3\" font-family=\"Helvetica,sans-Serif\" font-size=\"14.00\" fill=\"#000000\">class = o</text>\n</g>\n<!-- 145&#45;&gt;146 -->\n<g id=\"edge146\" class=\"edge\">\n<title>145&#45;&gt;146</title>\n<path fill=\"none\" stroke=\"#000000\" d=\"M2474.5,-341.8796C2474.5,-331.2134 2474.5,-319.7021 2474.5,-308.9015\"/>\n<polygon fill=\"#000000\" stroke=\"#000000\" points=\"2478.0001,-308.8149 2474.5,-298.8149 2471.0001,-308.815 2478.0001,-308.8149\"/>\n</g>\n<!-- 147 -->\n<g id=\"node148\" class=\"node\">\n<title>147</title>\n<path fill=\"#88c4ef\" stroke=\"#000000\" d=\"M2629,-306C2629,-306 2554,-306 2554,-306 2548,-306 2542,-300 2542,-294 2542,-294 2542,-235 2542,-235 2542,-229 2548,-223 2554,-223 2554,-223 2629,-223 2629,-223 2635,-223 2641,-229 2641,-235 2641,-235 2641,-294 2641,-294 2641,-300 2635,-306 2629,-306\"/>\n<text text-anchor=\"start\" x=\"2557\" y=\"-290.8\" font-family=\"Helvetica,sans-Serif\" font-size=\"14.00\" fill=\"#000000\">age ≤ 0.59</text>\n<text text-anchor=\"start\" x=\"2553.5\" y=\"-275.8\" font-family=\"Helvetica,sans-Serif\" font-size=\"14.00\" fill=\"#000000\">gini = 0.408</text>\n<text text-anchor=\"start\" x=\"2552\" y=\"-260.8\" font-family=\"Helvetica,sans-Serif\" font-size=\"14.00\" fill=\"#000000\">samples = 7</text>\n<text text-anchor=\"start\" x=\"2550\" y=\"-245.8\" font-family=\"Helvetica,sans-Serif\" font-size=\"14.00\" fill=\"#000000\">value = [2, 5]</text>\n<text text-anchor=\"start\" x=\"2562.5\" y=\"-230.8\" font-family=\"Helvetica,sans-Serif\" font-size=\"14.00\" fill=\"#000000\">class = o</text>\n</g>\n<!-- 145&#45;&gt;147 -->\n<g id=\"edge147\" class=\"edge\">\n<title>145&#45;&gt;147</title>\n<path fill=\"none\" stroke=\"#000000\" d=\"M2515.4209,-341.8796C2524.453,-332.6931 2534.1013,-322.8798 2543.3888,-313.4336\"/>\n<polygon fill=\"#000000\" stroke=\"#000000\" points=\"2545.8893,-315.8827 2550.4044,-306.2981 2540.8977,-310.975 2545.8893,-315.8827\"/>\n</g>\n<!-- 148 -->\n<g id=\"node149\" class=\"node\">\n<title>148</title>\n<path fill=\"#9ccef2\" stroke=\"#000000\" d=\"M2628,-179.5C2628,-179.5 2553,-179.5 2553,-179.5 2547,-179.5 2541,-173.5 2541,-167.5 2541,-167.5 2541,-123.5 2541,-123.5 2541,-117.5 2547,-111.5 2553,-111.5 2553,-111.5 2628,-111.5 2628,-111.5 2634,-111.5 2640,-117.5 2640,-123.5 2640,-123.5 2640,-167.5 2640,-167.5 2640,-173.5 2634,-179.5 2628,-179.5\"/>\n<text text-anchor=\"start\" x=\"2552.5\" y=\"-164.3\" font-family=\"Helvetica,sans-Serif\" font-size=\"14.00\" fill=\"#000000\">gini = 0.444</text>\n<text text-anchor=\"start\" x=\"2551\" y=\"-149.3\" font-family=\"Helvetica,sans-Serif\" font-size=\"14.00\" fill=\"#000000\">samples = 3</text>\n<text text-anchor=\"start\" x=\"2549\" y=\"-134.3\" font-family=\"Helvetica,sans-Serif\" font-size=\"14.00\" fill=\"#000000\">value = [1, 2]</text>\n<text text-anchor=\"start\" x=\"2561.5\" y=\"-119.3\" font-family=\"Helvetica,sans-Serif\" font-size=\"14.00\" fill=\"#000000\">class = o</text>\n</g>\n<!-- 147&#45;&gt;148 -->\n<g id=\"edge148\" class=\"edge\">\n<title>147&#45;&gt;148</title>\n<path fill=\"none\" stroke=\"#000000\" d=\"M2591.1502,-222.8796C2591.0606,-212.2134 2590.9639,-200.7021 2590.8731,-189.9015\"/>\n<polygon fill=\"#000000\" stroke=\"#000000\" points=\"2594.3724,-189.7851 2590.7884,-179.8149 2587.3726,-189.844 2594.3724,-189.7851\"/>\n</g>\n<!-- 149 -->\n<g id=\"node150\" class=\"node\">\n<title>149</title>\n<path fill=\"#7bbeee\" stroke=\"#000000\" d=\"M2745,-179.5C2745,-179.5 2670,-179.5 2670,-179.5 2664,-179.5 2658,-173.5 2658,-167.5 2658,-167.5 2658,-123.5 2658,-123.5 2658,-117.5 2664,-111.5 2670,-111.5 2670,-111.5 2745,-111.5 2745,-111.5 2751,-111.5 2757,-117.5 2757,-123.5 2757,-123.5 2757,-167.5 2757,-167.5 2757,-173.5 2751,-179.5 2745,-179.5\"/>\n<text text-anchor=\"start\" x=\"2669.5\" y=\"-164.3\" font-family=\"Helvetica,sans-Serif\" font-size=\"14.00\" fill=\"#000000\">gini = 0.375</text>\n<text text-anchor=\"start\" x=\"2668\" y=\"-149.3\" font-family=\"Helvetica,sans-Serif\" font-size=\"14.00\" fill=\"#000000\">samples = 4</text>\n<text text-anchor=\"start\" x=\"2666\" y=\"-134.3\" font-family=\"Helvetica,sans-Serif\" font-size=\"14.00\" fill=\"#000000\">value = [1, 3]</text>\n<text text-anchor=\"start\" x=\"2678.5\" y=\"-119.3\" font-family=\"Helvetica,sans-Serif\" font-size=\"14.00\" fill=\"#000000\">class = o</text>\n</g>\n<!-- 147&#45;&gt;149 -->\n<g id=\"edge149\" class=\"edge\">\n<title>147&#45;&gt;149</title>\n<path fill=\"none\" stroke=\"#000000\" d=\"M2632.0712,-222.8796C2643.326,-211.3337 2655.5461,-198.7976 2666.8078,-187.2446\"/>\n<polygon fill=\"#000000\" stroke=\"#000000\" points=\"2669.5762,-189.4188 2674.0501,-179.8149 2664.5636,-184.5326 2669.5762,-189.4188\"/>\n</g>\n<!-- 151 -->\n<g id=\"node152\" class=\"node\">\n<title>151</title>\n<path fill=\"#7bbeee\" stroke=\"#000000\" d=\"M2271,-782C2271,-782 2196,-782 2196,-782 2190,-782 2184,-776 2184,-770 2184,-770 2184,-711 2184,-711 2184,-705 2190,-699 2196,-699 2196,-699 2271,-699 2271,-699 2277,-699 2283,-705 2283,-711 2283,-711 2283,-770 2283,-770 2283,-776 2277,-782 2271,-782\"/>\n<text text-anchor=\"start\" x=\"2195\" y=\"-766.8\" font-family=\"Helvetica,sans-Serif\" font-size=\"14.00\" fill=\"#000000\">age ≤ 0.922</text>\n<text text-anchor=\"start\" x=\"2195.5\" y=\"-751.8\" font-family=\"Helvetica,sans-Serif\" font-size=\"14.00\" fill=\"#000000\">gini = 0.375</text>\n<text text-anchor=\"start\" x=\"2194\" y=\"-736.8\" font-family=\"Helvetica,sans-Serif\" font-size=\"14.00\" fill=\"#000000\">samples = 4</text>\n<text text-anchor=\"start\" x=\"2192\" y=\"-721.8\" font-family=\"Helvetica,sans-Serif\" font-size=\"14.00\" fill=\"#000000\">value = [1, 3]</text>\n<text text-anchor=\"start\" x=\"2204.5\" y=\"-706.8\" font-family=\"Helvetica,sans-Serif\" font-size=\"14.00\" fill=\"#000000\">class = o</text>\n</g>\n<!-- 150&#45;&gt;151 -->\n<g id=\"edge151\" class=\"edge\">\n<title>150&#45;&gt;151</title>\n<path fill=\"none\" stroke=\"#000000\" d=\"M2233.5,-817.8796C2233.5,-809.6838 2233.5,-800.9891 2233.5,-792.5013\"/>\n<polygon fill=\"#000000\" stroke=\"#000000\" points=\"2237.0001,-792.298 2233.5,-782.2981 2230.0001,-792.2981 2237.0001,-792.298\"/>\n</g>\n<!-- 154 -->\n<g id=\"node155\" class=\"node\">\n<title>154</title>\n<path fill=\"#f2c09c\" stroke=\"#000000\" d=\"M2447,-782C2447,-782 2372,-782 2372,-782 2366,-782 2360,-776 2360,-770 2360,-770 2360,-711 2360,-711 2360,-705 2366,-699 2372,-699 2372,-699 2447,-699 2447,-699 2453,-699 2459,-705 2459,-711 2459,-711 2459,-770 2459,-770 2459,-776 2453,-782 2447,-782\"/>\n<text text-anchor=\"start\" x=\"2371\" y=\"-766.8\" font-family=\"Helvetica,sans-Serif\" font-size=\"14.00\" fill=\"#000000\">age ≤ 0.922</text>\n<text text-anchor=\"start\" x=\"2371.5\" y=\"-751.8\" font-family=\"Helvetica,sans-Serif\" font-size=\"14.00\" fill=\"#000000\">gini = 0.444</text>\n<text text-anchor=\"start\" x=\"2370\" y=\"-736.8\" font-family=\"Helvetica,sans-Serif\" font-size=\"14.00\" fill=\"#000000\">samples = 3</text>\n<text text-anchor=\"start\" x=\"2368\" y=\"-721.8\" font-family=\"Helvetica,sans-Serif\" font-size=\"14.00\" fill=\"#000000\">value = [2, 1]</text>\n<text text-anchor=\"start\" x=\"2383\" y=\"-706.8\" font-family=\"Helvetica,sans-Serif\" font-size=\"14.00\" fill=\"#000000\">class = l</text>\n</g>\n<!-- 150&#45;&gt;154 -->\n<g id=\"edge154\" class=\"edge\">\n<title>150&#45;&gt;154</title>\n<path fill=\"none\" stroke=\"#000000\" d=\"M2295.0563,-817.8796C2313.2864,-805.5535 2333.1857,-792.0988 2351.2031,-779.9167\"/>\n<polygon fill=\"#000000\" stroke=\"#000000\" points=\"2353.5575,-782.5498 2359.8812,-774.0491 2349.6366,-776.7509 2353.5575,-782.5498\"/>\n</g>\n<!-- 152 -->\n<g id=\"node153\" class=\"node\">\n<title>152</title>\n<path fill=\"#399de5\" stroke=\"#000000\" d=\"M2213,-655.5C2213,-655.5 2138,-655.5 2138,-655.5 2132,-655.5 2126,-649.5 2126,-643.5 2126,-643.5 2126,-599.5 2126,-599.5 2126,-593.5 2132,-587.5 2138,-587.5 2138,-587.5 2213,-587.5 2213,-587.5 2219,-587.5 2225,-593.5 2225,-599.5 2225,-599.5 2225,-643.5 2225,-643.5 2225,-649.5 2219,-655.5 2213,-655.5\"/>\n<text text-anchor=\"start\" x=\"2146\" y=\"-640.3\" font-family=\"Helvetica,sans-Serif\" font-size=\"14.00\" fill=\"#000000\">gini = 0.0</text>\n<text text-anchor=\"start\" x=\"2136\" y=\"-625.3\" font-family=\"Helvetica,sans-Serif\" font-size=\"14.00\" fill=\"#000000\">samples = 1</text>\n<text text-anchor=\"start\" x=\"2134\" y=\"-610.3\" font-family=\"Helvetica,sans-Serif\" font-size=\"14.00\" fill=\"#000000\">value = [0, 1]</text>\n<text text-anchor=\"start\" x=\"2146.5\" y=\"-595.3\" font-family=\"Helvetica,sans-Serif\" font-size=\"14.00\" fill=\"#000000\">class = o</text>\n</g>\n<!-- 151&#45;&gt;152 -->\n<g id=\"edge152\" class=\"edge\">\n<title>151&#45;&gt;152</title>\n<path fill=\"none\" stroke=\"#000000\" d=\"M2213.2144,-698.8796C2207.855,-687.8835 2202.0578,-675.9893 2196.6537,-664.9015\"/>\n<polygon fill=\"#000000\" stroke=\"#000000\" points=\"2199.7524,-663.2706 2192.2249,-655.8149 2193.46,-666.3375 2199.7524,-663.2706\"/>\n</g>\n<!-- 153 -->\n<g id=\"node154\" class=\"node\">\n<title>153</title>\n<path fill=\"#9ccef2\" stroke=\"#000000\" d=\"M2330,-655.5C2330,-655.5 2255,-655.5 2255,-655.5 2249,-655.5 2243,-649.5 2243,-643.5 2243,-643.5 2243,-599.5 2243,-599.5 2243,-593.5 2249,-587.5 2255,-587.5 2255,-587.5 2330,-587.5 2330,-587.5 2336,-587.5 2342,-593.5 2342,-599.5 2342,-599.5 2342,-643.5 2342,-643.5 2342,-649.5 2336,-655.5 2330,-655.5\"/>\n<text text-anchor=\"start\" x=\"2254.5\" y=\"-640.3\" font-family=\"Helvetica,sans-Serif\" font-size=\"14.00\" fill=\"#000000\">gini = 0.444</text>\n<text text-anchor=\"start\" x=\"2253\" y=\"-625.3\" font-family=\"Helvetica,sans-Serif\" font-size=\"14.00\" fill=\"#000000\">samples = 3</text>\n<text text-anchor=\"start\" x=\"2251\" y=\"-610.3\" font-family=\"Helvetica,sans-Serif\" font-size=\"14.00\" fill=\"#000000\">value = [1, 2]</text>\n<text text-anchor=\"start\" x=\"2263.5\" y=\"-595.3\" font-family=\"Helvetica,sans-Serif\" font-size=\"14.00\" fill=\"#000000\">class = o</text>\n</g>\n<!-- 151&#45;&gt;153 -->\n<g id=\"edge153\" class=\"edge\">\n<title>151&#45;&gt;153</title>\n<path fill=\"none\" stroke=\"#000000\" d=\"M2254.1353,-698.8796C2259.5872,-687.8835 2265.4843,-675.9893 2270.9816,-664.9015\"/>\n<polygon fill=\"#000000\" stroke=\"#000000\" points=\"2274.1804,-666.3289 2275.4867,-655.8149 2267.9089,-663.2195 2274.1804,-666.3289\"/>\n</g>\n<!-- 155 -->\n<g id=\"node156\" class=\"node\">\n<title>155</title>\n<path fill=\"#e58139\" stroke=\"#000000\" d=\"M2447,-655.5C2447,-655.5 2372,-655.5 2372,-655.5 2366,-655.5 2360,-649.5 2360,-643.5 2360,-643.5 2360,-599.5 2360,-599.5 2360,-593.5 2366,-587.5 2372,-587.5 2372,-587.5 2447,-587.5 2447,-587.5 2453,-587.5 2459,-593.5 2459,-599.5 2459,-599.5 2459,-643.5 2459,-643.5 2459,-649.5 2453,-655.5 2447,-655.5\"/>\n<text text-anchor=\"start\" x=\"2380\" y=\"-640.3\" font-family=\"Helvetica,sans-Serif\" font-size=\"14.00\" fill=\"#000000\">gini = 0.0</text>\n<text text-anchor=\"start\" x=\"2370\" y=\"-625.3\" font-family=\"Helvetica,sans-Serif\" font-size=\"14.00\" fill=\"#000000\">samples = 1</text>\n<text text-anchor=\"start\" x=\"2368\" y=\"-610.3\" font-family=\"Helvetica,sans-Serif\" font-size=\"14.00\" fill=\"#000000\">value = [1, 0]</text>\n<text text-anchor=\"start\" x=\"2383\" y=\"-595.3\" font-family=\"Helvetica,sans-Serif\" font-size=\"14.00\" fill=\"#000000\">class = l</text>\n</g>\n<!-- 154&#45;&gt;155 -->\n<g id=\"edge155\" class=\"edge\">\n<title>154&#45;&gt;155</title>\n<path fill=\"none\" stroke=\"#000000\" d=\"M2409.5,-698.8796C2409.5,-688.2134 2409.5,-676.7021 2409.5,-665.9015\"/>\n<polygon fill=\"#000000\" stroke=\"#000000\" points=\"2413.0001,-665.8149 2409.5,-655.8149 2406.0001,-665.815 2413.0001,-665.8149\"/>\n</g>\n<!-- 156 -->\n<g id=\"node157\" class=\"node\">\n<title>156</title>\n<path fill=\"#ffffff\" stroke=\"#000000\" d=\"M2564,-655.5C2564,-655.5 2489,-655.5 2489,-655.5 2483,-655.5 2477,-649.5 2477,-643.5 2477,-643.5 2477,-599.5 2477,-599.5 2477,-593.5 2483,-587.5 2489,-587.5 2489,-587.5 2564,-587.5 2564,-587.5 2570,-587.5 2576,-593.5 2576,-599.5 2576,-599.5 2576,-643.5 2576,-643.5 2576,-649.5 2570,-655.5 2564,-655.5\"/>\n<text text-anchor=\"start\" x=\"2497\" y=\"-640.3\" font-family=\"Helvetica,sans-Serif\" font-size=\"14.00\" fill=\"#000000\">gini = 0.5</text>\n<text text-anchor=\"start\" x=\"2487\" y=\"-625.3\" font-family=\"Helvetica,sans-Serif\" font-size=\"14.00\" fill=\"#000000\">samples = 2</text>\n<text text-anchor=\"start\" x=\"2485\" y=\"-610.3\" font-family=\"Helvetica,sans-Serif\" font-size=\"14.00\" fill=\"#000000\">value = [1, 1]</text>\n<text text-anchor=\"start\" x=\"2500\" y=\"-595.3\" font-family=\"Helvetica,sans-Serif\" font-size=\"14.00\" fill=\"#000000\">class = l</text>\n</g>\n<!-- 154&#45;&gt;156 -->\n<g id=\"edge156\" class=\"edge\">\n<title>154&#45;&gt;156</title>\n<path fill=\"none\" stroke=\"#000000\" d=\"M2450.4209,-698.8796C2461.7728,-687.3337 2474.0982,-674.7976 2485.457,-663.2446\"/>\n<polygon fill=\"#000000\" stroke=\"#000000\" points=\"2488.2466,-665.3995 2492.7618,-655.8149 2483.2551,-660.4919 2488.2466,-665.3995\"/>\n</g>\n<!-- 160 -->\n<g id=\"node161\" class=\"node\">\n<title>160</title>\n<path fill=\"#e58139\" stroke=\"#000000\" d=\"M1974,-1250.5C1974,-1250.5 1899,-1250.5 1899,-1250.5 1893,-1250.5 1887,-1244.5 1887,-1238.5 1887,-1238.5 1887,-1194.5 1887,-1194.5 1887,-1188.5 1893,-1182.5 1899,-1182.5 1899,-1182.5 1974,-1182.5 1974,-1182.5 1980,-1182.5 1986,-1188.5 1986,-1194.5 1986,-1194.5 1986,-1238.5 1986,-1238.5 1986,-1244.5 1980,-1250.5 1974,-1250.5\"/>\n<text text-anchor=\"start\" x=\"1907\" y=\"-1235.3\" font-family=\"Helvetica,sans-Serif\" font-size=\"14.00\" fill=\"#000000\">gini = 0.0</text>\n<text text-anchor=\"start\" x=\"1897\" y=\"-1220.3\" font-family=\"Helvetica,sans-Serif\" font-size=\"14.00\" fill=\"#000000\">samples = 1</text>\n<text text-anchor=\"start\" x=\"1895\" y=\"-1205.3\" font-family=\"Helvetica,sans-Serif\" font-size=\"14.00\" fill=\"#000000\">value = [1, 0]</text>\n<text text-anchor=\"start\" x=\"1910\" y=\"-1190.3\" font-family=\"Helvetica,sans-Serif\" font-size=\"14.00\" fill=\"#000000\">class = l</text>\n</g>\n<!-- 159&#45;&gt;160 -->\n<g id=\"edge160\" class=\"edge\">\n<title>159&#45;&gt;160</title>\n<path fill=\"none\" stroke=\"#000000\" d=\"M1940.4015,-1293.8796C1939.8637,-1283.2134 1939.2833,-1271.7021 1938.7387,-1260.9015\"/>\n<polygon fill=\"#000000\" stroke=\"#000000\" points=\"1942.2294,-1260.626 1938.2302,-1250.8149 1935.2383,-1260.9785 1942.2294,-1260.626\"/>\n</g>\n<!-- 161 -->\n<g id=\"node162\" class=\"node\">\n<title>161</title>\n<path fill=\"#bddef6\" stroke=\"#000000\" d=\"M2199,-1258C2199,-1258 2016,-1258 2016,-1258 2010,-1258 2004,-1252 2004,-1246 2004,-1246 2004,-1187 2004,-1187 2004,-1181 2010,-1175 2016,-1175 2016,-1175 2199,-1175 2199,-1175 2205,-1175 2211,-1181 2211,-1187 2211,-1187 2211,-1246 2211,-1246 2211,-1252 2205,-1258 2199,-1258\"/>\n<text text-anchor=\"start\" x=\"2012\" y=\"-1242.8\" font-family=\"Helvetica,sans-Serif\" font-size=\"14.00\" fill=\"#000000\">High School or Below ≤ 0.128</text>\n<text text-anchor=\"start\" x=\"2074\" y=\"-1227.8\" font-family=\"Helvetica,sans-Serif\" font-size=\"14.00\" fill=\"#000000\">gini = 0.48</text>\n<text text-anchor=\"start\" x=\"2068\" y=\"-1212.8\" font-family=\"Helvetica,sans-Serif\" font-size=\"14.00\" fill=\"#000000\">samples = 5</text>\n<text text-anchor=\"start\" x=\"2066\" y=\"-1197.8\" font-family=\"Helvetica,sans-Serif\" font-size=\"14.00\" fill=\"#000000\">value = [2, 3]</text>\n<text text-anchor=\"start\" x=\"2078.5\" y=\"-1182.8\" font-family=\"Helvetica,sans-Serif\" font-size=\"14.00\" fill=\"#000000\">class = o</text>\n</g>\n<!-- 159&#45;&gt;161 -->\n<g id=\"edge161\" class=\"edge\">\n<title>159&#45;&gt;161</title>\n<path fill=\"none\" stroke=\"#000000\" d=\"M2000.209,-1293.8796C2013.523,-1284.2774 2027.7866,-1273.9903 2041.4259,-1264.1534\"/>\n<polygon fill=\"#000000\" stroke=\"#000000\" points=\"2043.7602,-1266.7852 2049.8236,-1258.0969 2039.6655,-1261.1077 2043.7602,-1266.7852\"/>\n</g>\n<!-- 162 -->\n<g id=\"node163\" class=\"node\">\n<title>162</title>\n<path fill=\"#399de5\" stroke=\"#000000\" d=\"M2111,-1131.5C2111,-1131.5 2036,-1131.5 2036,-1131.5 2030,-1131.5 2024,-1125.5 2024,-1119.5 2024,-1119.5 2024,-1075.5 2024,-1075.5 2024,-1069.5 2030,-1063.5 2036,-1063.5 2036,-1063.5 2111,-1063.5 2111,-1063.5 2117,-1063.5 2123,-1069.5 2123,-1075.5 2123,-1075.5 2123,-1119.5 2123,-1119.5 2123,-1125.5 2117,-1131.5 2111,-1131.5\"/>\n<text text-anchor=\"start\" x=\"2044\" y=\"-1116.3\" font-family=\"Helvetica,sans-Serif\" font-size=\"14.00\" fill=\"#000000\">gini = 0.0</text>\n<text text-anchor=\"start\" x=\"2034\" y=\"-1101.3\" font-family=\"Helvetica,sans-Serif\" font-size=\"14.00\" fill=\"#000000\">samples = 2</text>\n<text text-anchor=\"start\" x=\"2032\" y=\"-1086.3\" font-family=\"Helvetica,sans-Serif\" font-size=\"14.00\" fill=\"#000000\">value = [0, 2]</text>\n<text text-anchor=\"start\" x=\"2044.5\" y=\"-1071.3\" font-family=\"Helvetica,sans-Serif\" font-size=\"14.00\" fill=\"#000000\">class = o</text>\n</g>\n<!-- 161&#45;&gt;162 -->\n<g id=\"edge162\" class=\"edge\">\n<title>161&#45;&gt;162</title>\n<path fill=\"none\" stroke=\"#000000\" d=\"M2095.6084,-1174.8796C2092.5295,-1164.1034 2089.2042,-1152.4647 2086.0908,-1141.5677\"/>\n<polygon fill=\"#000000\" stroke=\"#000000\" points=\"2089.4169,-1140.4686 2083.3043,-1131.8149 2082.6862,-1142.3917 2089.4169,-1140.4686\"/>\n</g>\n<!-- 163 -->\n<g id=\"node164\" class=\"node\">\n<title>163</title>\n<path fill=\"#f2c09c\" stroke=\"#000000\" d=\"M2238,-1139C2238,-1139 2153,-1139 2153,-1139 2147,-1139 2141,-1133 2141,-1127 2141,-1127 2141,-1068 2141,-1068 2141,-1062 2147,-1056 2153,-1056 2153,-1056 2238,-1056 2238,-1056 2244,-1056 2250,-1062 2250,-1068 2250,-1068 2250,-1127 2250,-1127 2250,-1133 2244,-1139 2238,-1139\"/>\n<text text-anchor=\"start\" x=\"2149\" y=\"-1123.8\" font-family=\"Helvetica,sans-Serif\" font-size=\"14.00\" fill=\"#000000\">terms ≤ &#45;0.019</text>\n<text text-anchor=\"start\" x=\"2157.5\" y=\"-1108.8\" font-family=\"Helvetica,sans-Serif\" font-size=\"14.00\" fill=\"#000000\">gini = 0.444</text>\n<text text-anchor=\"start\" x=\"2156\" y=\"-1093.8\" font-family=\"Helvetica,sans-Serif\" font-size=\"14.00\" fill=\"#000000\">samples = 3</text>\n<text text-anchor=\"start\" x=\"2154\" y=\"-1078.8\" font-family=\"Helvetica,sans-Serif\" font-size=\"14.00\" fill=\"#000000\">value = [2, 1]</text>\n<text text-anchor=\"start\" x=\"2169\" y=\"-1063.8\" font-family=\"Helvetica,sans-Serif\" font-size=\"14.00\" fill=\"#000000\">class = l</text>\n</g>\n<!-- 161&#45;&gt;163 -->\n<g id=\"edge163\" class=\"edge\">\n<title>161&#45;&gt;163</title>\n<path fill=\"none\" stroke=\"#000000\" d=\"M2138.2781,-1174.8796C2144.8051,-1166.0534 2151.7599,-1156.6485 2158.4908,-1147.5466\"/>\n<polygon fill=\"#000000\" stroke=\"#000000\" points=\"2161.4588,-1149.4195 2164.5905,-1139.2981 2155.8305,-1145.2574 2161.4588,-1149.4195\"/>\n</g>\n<!-- 164 -->\n<g id=\"node165\" class=\"node\">\n<title>164</title>\n<path fill=\"#e58139\" stroke=\"#000000\" d=\"M2175,-1012.5C2175,-1012.5 2100,-1012.5 2100,-1012.5 2094,-1012.5 2088,-1006.5 2088,-1000.5 2088,-1000.5 2088,-956.5 2088,-956.5 2088,-950.5 2094,-944.5 2100,-944.5 2100,-944.5 2175,-944.5 2175,-944.5 2181,-944.5 2187,-950.5 2187,-956.5 2187,-956.5 2187,-1000.5 2187,-1000.5 2187,-1006.5 2181,-1012.5 2175,-1012.5\"/>\n<text text-anchor=\"start\" x=\"2108\" y=\"-997.3\" font-family=\"Helvetica,sans-Serif\" font-size=\"14.00\" fill=\"#000000\">gini = 0.0</text>\n<text text-anchor=\"start\" x=\"2098\" y=\"-982.3\" font-family=\"Helvetica,sans-Serif\" font-size=\"14.00\" fill=\"#000000\">samples = 1</text>\n<text text-anchor=\"start\" x=\"2096\" y=\"-967.3\" font-family=\"Helvetica,sans-Serif\" font-size=\"14.00\" fill=\"#000000\">value = [1, 0]</text>\n<text text-anchor=\"start\" x=\"2111\" y=\"-952.3\" font-family=\"Helvetica,sans-Serif\" font-size=\"14.00\" fill=\"#000000\">class = l</text>\n</g>\n<!-- 163&#45;&gt;164 -->\n<g id=\"edge164\" class=\"edge\">\n<title>163&#45;&gt;164</title>\n<path fill=\"none\" stroke=\"#000000\" d=\"M2175.2144,-1055.8796C2169.855,-1044.8835 2164.0578,-1032.9893 2158.6537,-1021.9015\"/>\n<polygon fill=\"#000000\" stroke=\"#000000\" points=\"2161.7524,-1020.2706 2154.2249,-1012.8149 2155.46,-1023.3375 2161.7524,-1020.2706\"/>\n</g>\n<!-- 165 -->\n<g id=\"node166\" class=\"node\">\n<title>165</title>\n<path fill=\"#ffffff\" stroke=\"#000000\" d=\"M2292,-1012.5C2292,-1012.5 2217,-1012.5 2217,-1012.5 2211,-1012.5 2205,-1006.5 2205,-1000.5 2205,-1000.5 2205,-956.5 2205,-956.5 2205,-950.5 2211,-944.5 2217,-944.5 2217,-944.5 2292,-944.5 2292,-944.5 2298,-944.5 2304,-950.5 2304,-956.5 2304,-956.5 2304,-1000.5 2304,-1000.5 2304,-1006.5 2298,-1012.5 2292,-1012.5\"/>\n<text text-anchor=\"start\" x=\"2225\" y=\"-997.3\" font-family=\"Helvetica,sans-Serif\" font-size=\"14.00\" fill=\"#000000\">gini = 0.5</text>\n<text text-anchor=\"start\" x=\"2215\" y=\"-982.3\" font-family=\"Helvetica,sans-Serif\" font-size=\"14.00\" fill=\"#000000\">samples = 2</text>\n<text text-anchor=\"start\" x=\"2213\" y=\"-967.3\" font-family=\"Helvetica,sans-Serif\" font-size=\"14.00\" fill=\"#000000\">value = [1, 1]</text>\n<text text-anchor=\"start\" x=\"2228\" y=\"-952.3\" font-family=\"Helvetica,sans-Serif\" font-size=\"14.00\" fill=\"#000000\">class = l</text>\n</g>\n<!-- 163&#45;&gt;165 -->\n<g id=\"edge165\" class=\"edge\">\n<title>163&#45;&gt;165</title>\n<path fill=\"none\" stroke=\"#000000\" d=\"M2216.1353,-1055.8796C2221.5872,-1044.8835 2227.4843,-1032.9893 2232.9816,-1021.9015\"/>\n<polygon fill=\"#000000\" stroke=\"#000000\" points=\"2236.1804,-1023.3289 2237.4867,-1012.8149 2229.9089,-1020.2195 2236.1804,-1023.3289\"/>\n</g>\n<!-- 167 -->\n<g id=\"node168\" class=\"node\">\n<title>167</title>\n<path fill=\"#399de5\" stroke=\"#000000\" d=\"M2173,-1369.5C2173,-1369.5 2098,-1369.5 2098,-1369.5 2092,-1369.5 2086,-1363.5 2086,-1357.5 2086,-1357.5 2086,-1313.5 2086,-1313.5 2086,-1307.5 2092,-1301.5 2098,-1301.5 2098,-1301.5 2173,-1301.5 2173,-1301.5 2179,-1301.5 2185,-1307.5 2185,-1313.5 2185,-1313.5 2185,-1357.5 2185,-1357.5 2185,-1363.5 2179,-1369.5 2173,-1369.5\"/>\n<text text-anchor=\"start\" x=\"2106\" y=\"-1354.3\" font-family=\"Helvetica,sans-Serif\" font-size=\"14.00\" fill=\"#000000\">gini = 0.0</text>\n<text text-anchor=\"start\" x=\"2096\" y=\"-1339.3\" font-family=\"Helvetica,sans-Serif\" font-size=\"14.00\" fill=\"#000000\">samples = 6</text>\n<text text-anchor=\"start\" x=\"2094\" y=\"-1324.3\" font-family=\"Helvetica,sans-Serif\" font-size=\"14.00\" fill=\"#000000\">value = [0, 6]</text>\n<text text-anchor=\"start\" x=\"2106.5\" y=\"-1309.3\" font-family=\"Helvetica,sans-Serif\" font-size=\"14.00\" fill=\"#000000\">class = o</text>\n</g>\n<!-- 166&#45;&gt;167 -->\n<g id=\"edge167\" class=\"edge\">\n<title>166&#45;&gt;167</title>\n<path fill=\"none\" stroke=\"#000000\" d=\"M2135.5,-1412.8796C2135.5,-1402.2134 2135.5,-1390.7021 2135.5,-1379.9015\"/>\n<polygon fill=\"#000000\" stroke=\"#000000\" points=\"2139.0001,-1379.8149 2135.5,-1369.8149 2132.0001,-1379.815 2139.0001,-1379.8149\"/>\n</g>\n<!-- 168 -->\n<g id=\"node169\" class=\"node\">\n<title>168</title>\n<path fill=\"#9ccef2\" stroke=\"#000000\" d=\"M2383.5,-1377C2383.5,-1377 2281.5,-1377 2281.5,-1377 2275.5,-1377 2269.5,-1371 2269.5,-1365 2269.5,-1365 2269.5,-1306 2269.5,-1306 2269.5,-1300 2275.5,-1294 2281.5,-1294 2281.5,-1294 2383.5,-1294 2383.5,-1294 2389.5,-1294 2395.5,-1300 2395.5,-1306 2395.5,-1306 2395.5,-1365 2395.5,-1365 2395.5,-1371 2389.5,-1377 2383.5,-1377\"/>\n<text text-anchor=\"start\" x=\"2277.5\" y=\"-1361.8\" font-family=\"Helvetica,sans-Serif\" font-size=\"14.00\" fill=\"#000000\">Bechalor ≤ 1.119</text>\n<text text-anchor=\"start\" x=\"2294.5\" y=\"-1346.8\" font-family=\"Helvetica,sans-Serif\" font-size=\"14.00\" fill=\"#000000\">gini = 0.444</text>\n<text text-anchor=\"start\" x=\"2293\" y=\"-1331.8\" font-family=\"Helvetica,sans-Serif\" font-size=\"14.00\" fill=\"#000000\">samples = 6</text>\n<text text-anchor=\"start\" x=\"2291\" y=\"-1316.8\" font-family=\"Helvetica,sans-Serif\" font-size=\"14.00\" fill=\"#000000\">value = [2, 4]</text>\n<text text-anchor=\"start\" x=\"2303.5\" y=\"-1301.8\" font-family=\"Helvetica,sans-Serif\" font-size=\"14.00\" fill=\"#000000\">class = o</text>\n</g>\n<!-- 166&#45;&gt;168 -->\n<g id=\"edge168\" class=\"edge\">\n<title>166&#45;&gt;168</title>\n<path fill=\"none\" stroke=\"#000000\" d=\"M2189.0709,-1422.1399C2211.0909,-1408.8385 2236.9236,-1393.234 2260.553,-1378.9604\"/>\n<polygon fill=\"#000000\" stroke=\"#000000\" points=\"2262.3979,-1381.935 2269.1478,-1373.7686 2258.7785,-1375.9433 2262.3979,-1381.935\"/>\n</g>\n<!-- 169 -->\n<g id=\"node170\" class=\"node\">\n<title>169</title>\n<path fill=\"#6ab6ec\" stroke=\"#000000\" d=\"M2424,-1258C2424,-1258 2241,-1258 2241,-1258 2235,-1258 2229,-1252 2229,-1246 2229,-1246 2229,-1187 2229,-1187 2229,-1181 2235,-1175 2241,-1175 2241,-1175 2424,-1175 2424,-1175 2430,-1175 2436,-1181 2436,-1187 2436,-1187 2436,-1246 2436,-1246 2436,-1252 2430,-1258 2424,-1258\"/>\n<text text-anchor=\"start\" x=\"2237\" y=\"-1242.8\" font-family=\"Helvetica,sans-Serif\" font-size=\"14.00\" fill=\"#000000\">High School or Below ≤ 0.128</text>\n<text text-anchor=\"start\" x=\"2299\" y=\"-1227.8\" font-family=\"Helvetica,sans-Serif\" font-size=\"14.00\" fill=\"#000000\">gini = 0.32</text>\n<text text-anchor=\"start\" x=\"2293\" y=\"-1212.8\" font-family=\"Helvetica,sans-Serif\" font-size=\"14.00\" fill=\"#000000\">samples = 5</text>\n<text text-anchor=\"start\" x=\"2291\" y=\"-1197.8\" font-family=\"Helvetica,sans-Serif\" font-size=\"14.00\" fill=\"#000000\">value = [1, 4]</text>\n<text text-anchor=\"start\" x=\"2303.5\" y=\"-1182.8\" font-family=\"Helvetica,sans-Serif\" font-size=\"14.00\" fill=\"#000000\">class = o</text>\n</g>\n<!-- 168&#45;&gt;169 -->\n<g id=\"edge169\" class=\"edge\">\n<title>168&#45;&gt;169</title>\n<path fill=\"none\" stroke=\"#000000\" d=\"M2332.5,-1293.8796C2332.5,-1285.6838 2332.5,-1276.9891 2332.5,-1268.5013\"/>\n<polygon fill=\"#000000\" stroke=\"#000000\" points=\"2336.0001,-1268.298 2332.5,-1258.2981 2329.0001,-1268.2981 2336.0001,-1268.298\"/>\n</g>\n<!-- 174 -->\n<g id=\"node175\" class=\"node\">\n<title>174</title>\n<path fill=\"#e58139\" stroke=\"#000000\" d=\"M2541,-1250.5C2541,-1250.5 2466,-1250.5 2466,-1250.5 2460,-1250.5 2454,-1244.5 2454,-1238.5 2454,-1238.5 2454,-1194.5 2454,-1194.5 2454,-1188.5 2460,-1182.5 2466,-1182.5 2466,-1182.5 2541,-1182.5 2541,-1182.5 2547,-1182.5 2553,-1188.5 2553,-1194.5 2553,-1194.5 2553,-1238.5 2553,-1238.5 2553,-1244.5 2547,-1250.5 2541,-1250.5\"/>\n<text text-anchor=\"start\" x=\"2474\" y=\"-1235.3\" font-family=\"Helvetica,sans-Serif\" font-size=\"14.00\" fill=\"#000000\">gini = 0.0</text>\n<text text-anchor=\"start\" x=\"2464\" y=\"-1220.3\" font-family=\"Helvetica,sans-Serif\" font-size=\"14.00\" fill=\"#000000\">samples = 1</text>\n<text text-anchor=\"start\" x=\"2462\" y=\"-1205.3\" font-family=\"Helvetica,sans-Serif\" font-size=\"14.00\" fill=\"#000000\">value = [1, 0]</text>\n<text text-anchor=\"start\" x=\"2477\" y=\"-1190.3\" font-family=\"Helvetica,sans-Serif\" font-size=\"14.00\" fill=\"#000000\">class = l</text>\n</g>\n<!-- 168&#45;&gt;174 -->\n<g id=\"edge174\" class=\"edge\">\n<title>168&#45;&gt;174</title>\n<path fill=\"none\" stroke=\"#000000\" d=\"M2393.6441,-1293.8915C2410.4941,-1282.3364 2428.7445,-1269.7385 2445.5,-1258 2446.2542,-1257.4716 2447.0136,-1256.9389 2447.7771,-1256.4026\"/>\n<polygon fill=\"#000000\" stroke=\"#000000\" points=\"2449.9216,-1259.1731 2456.0759,-1250.549 2445.8868,-1253.4529 2449.9216,-1259.1731\"/>\n</g>\n<!-- 170 -->\n<g id=\"node171\" class=\"node\">\n<title>170</title>\n<path fill=\"#399de5\" stroke=\"#000000\" d=\"M2365,-1131.5C2365,-1131.5 2290,-1131.5 2290,-1131.5 2284,-1131.5 2278,-1125.5 2278,-1119.5 2278,-1119.5 2278,-1075.5 2278,-1075.5 2278,-1069.5 2284,-1063.5 2290,-1063.5 2290,-1063.5 2365,-1063.5 2365,-1063.5 2371,-1063.5 2377,-1069.5 2377,-1075.5 2377,-1075.5 2377,-1119.5 2377,-1119.5 2377,-1125.5 2371,-1131.5 2365,-1131.5\"/>\n<text text-anchor=\"start\" x=\"2298\" y=\"-1116.3\" font-family=\"Helvetica,sans-Serif\" font-size=\"14.00\" fill=\"#000000\">gini = 0.0</text>\n<text text-anchor=\"start\" x=\"2288\" y=\"-1101.3\" font-family=\"Helvetica,sans-Serif\" font-size=\"14.00\" fill=\"#000000\">samples = 2</text>\n<text text-anchor=\"start\" x=\"2286\" y=\"-1086.3\" font-family=\"Helvetica,sans-Serif\" font-size=\"14.00\" fill=\"#000000\">value = [0, 2]</text>\n<text text-anchor=\"start\" x=\"2298.5\" y=\"-1071.3\" font-family=\"Helvetica,sans-Serif\" font-size=\"14.00\" fill=\"#000000\">class = o</text>\n</g>\n<!-- 169&#45;&gt;170 -->\n<g id=\"edge170\" class=\"edge\">\n<title>169&#45;&gt;170</title>\n<path fill=\"none\" stroke=\"#000000\" d=\"M2330.7512,-1174.8796C2330.3031,-1164.2134 2329.8194,-1152.7021 2329.3656,-1141.9015\"/>\n<polygon fill=\"#000000\" stroke=\"#000000\" points=\"2332.8586,-1141.6592 2328.9418,-1131.8149 2325.8648,-1141.9531 2332.8586,-1141.6592\"/>\n</g>\n<!-- 171 -->\n<g id=\"node172\" class=\"node\">\n<title>171</title>\n<path fill=\"#9ccef2\" stroke=\"#000000\" d=\"M2492,-1139C2492,-1139 2407,-1139 2407,-1139 2401,-1139 2395,-1133 2395,-1127 2395,-1127 2395,-1068 2395,-1068 2395,-1062 2401,-1056 2407,-1056 2407,-1056 2492,-1056 2492,-1056 2498,-1056 2504,-1062 2504,-1068 2504,-1068 2504,-1127 2504,-1127 2504,-1133 2498,-1139 2492,-1139\"/>\n<text text-anchor=\"start\" x=\"2403\" y=\"-1123.8\" font-family=\"Helvetica,sans-Serif\" font-size=\"14.00\" fill=\"#000000\">terms ≤ &#45;0.019</text>\n<text text-anchor=\"start\" x=\"2411.5\" y=\"-1108.8\" font-family=\"Helvetica,sans-Serif\" font-size=\"14.00\" fill=\"#000000\">gini = 0.444</text>\n<text text-anchor=\"start\" x=\"2410\" y=\"-1093.8\" font-family=\"Helvetica,sans-Serif\" font-size=\"14.00\" fill=\"#000000\">samples = 3</text>\n<text text-anchor=\"start\" x=\"2408\" y=\"-1078.8\" font-family=\"Helvetica,sans-Serif\" font-size=\"14.00\" fill=\"#000000\">value = [1, 2]</text>\n<text text-anchor=\"start\" x=\"2420.5\" y=\"-1063.8\" font-family=\"Helvetica,sans-Serif\" font-size=\"14.00\" fill=\"#000000\">class = o</text>\n</g>\n<!-- 169&#45;&gt;171 -->\n<g id=\"edge171\" class=\"edge\">\n<title>169&#45;&gt;171</title>\n<path fill=\"none\" stroke=\"#000000\" d=\"M2373.4209,-1174.8796C2382.453,-1165.6931 2392.1013,-1155.8798 2401.3888,-1146.4336\"/>\n<polygon fill=\"#000000\" stroke=\"#000000\" points=\"2403.8893,-1148.8827 2408.4044,-1139.2981 2398.8977,-1143.975 2403.8893,-1148.8827\"/>\n</g>\n<!-- 172 -->\n<g id=\"node173\" class=\"node\">\n<title>172</title>\n<path fill=\"#399de5\" stroke=\"#000000\" d=\"M2448,-1012.5C2448,-1012.5 2373,-1012.5 2373,-1012.5 2367,-1012.5 2361,-1006.5 2361,-1000.5 2361,-1000.5 2361,-956.5 2361,-956.5 2361,-950.5 2367,-944.5 2373,-944.5 2373,-944.5 2448,-944.5 2448,-944.5 2454,-944.5 2460,-950.5 2460,-956.5 2460,-956.5 2460,-1000.5 2460,-1000.5 2460,-1006.5 2454,-1012.5 2448,-1012.5\"/>\n<text text-anchor=\"start\" x=\"2381\" y=\"-997.3\" font-family=\"Helvetica,sans-Serif\" font-size=\"14.00\" fill=\"#000000\">gini = 0.0</text>\n<text text-anchor=\"start\" x=\"2371\" y=\"-982.3\" font-family=\"Helvetica,sans-Serif\" font-size=\"14.00\" fill=\"#000000\">samples = 1</text>\n<text text-anchor=\"start\" x=\"2369\" y=\"-967.3\" font-family=\"Helvetica,sans-Serif\" font-size=\"14.00\" fill=\"#000000\">value = [0, 1]</text>\n<text text-anchor=\"start\" x=\"2381.5\" y=\"-952.3\" font-family=\"Helvetica,sans-Serif\" font-size=\"14.00\" fill=\"#000000\">class = o</text>\n</g>\n<!-- 171&#45;&gt;172 -->\n<g id=\"edge172\" class=\"edge\">\n<title>171&#45;&gt;172</title>\n<path fill=\"none\" stroke=\"#000000\" d=\"M2435.8597,-1055.8796C2432.328,-1045.1034 2428.5136,-1033.4647 2424.9424,-1022.5677\"/>\n<polygon fill=\"#000000\" stroke=\"#000000\" points=\"2428.1864,-1021.2276 2421.7461,-1012.8149 2421.5345,-1023.4077 2428.1864,-1021.2276\"/>\n</g>\n<!-- 173 -->\n<g id=\"node174\" class=\"node\">\n<title>173</title>\n<path fill=\"#ffffff\" stroke=\"#000000\" d=\"M2565,-1012.5C2565,-1012.5 2490,-1012.5 2490,-1012.5 2484,-1012.5 2478,-1006.5 2478,-1000.5 2478,-1000.5 2478,-956.5 2478,-956.5 2478,-950.5 2484,-944.5 2490,-944.5 2490,-944.5 2565,-944.5 2565,-944.5 2571,-944.5 2577,-950.5 2577,-956.5 2577,-956.5 2577,-1000.5 2577,-1000.5 2577,-1006.5 2571,-1012.5 2565,-1012.5\"/>\n<text text-anchor=\"start\" x=\"2498\" y=\"-997.3\" font-family=\"Helvetica,sans-Serif\" font-size=\"14.00\" fill=\"#000000\">gini = 0.5</text>\n<text text-anchor=\"start\" x=\"2488\" y=\"-982.3\" font-family=\"Helvetica,sans-Serif\" font-size=\"14.00\" fill=\"#000000\">samples = 2</text>\n<text text-anchor=\"start\" x=\"2486\" y=\"-967.3\" font-family=\"Helvetica,sans-Serif\" font-size=\"14.00\" fill=\"#000000\">value = [1, 1]</text>\n<text text-anchor=\"start\" x=\"2501\" y=\"-952.3\" font-family=\"Helvetica,sans-Serif\" font-size=\"14.00\" fill=\"#000000\">class = l</text>\n</g>\n<!-- 171&#45;&gt;173 -->\n<g id=\"edge173\" class=\"edge\">\n<title>171&#45;&gt;173</title>\n<path fill=\"none\" stroke=\"#000000\" d=\"M2476.7806,-1055.8796C2484.1323,-1044.6636 2492.0964,-1032.5131 2499.4874,-1021.2372\"/>\n<polygon fill=\"#000000\" stroke=\"#000000\" points=\"2502.4531,-1023.0972 2505.0079,-1012.8149 2496.5986,-1019.2598 2502.4531,-1023.0972\"/>\n</g>\n<!-- 179 -->\n<g id=\"node180\" class=\"node\">\n<title>179</title>\n<path fill=\"#43a2e6\" stroke=\"#000000\" d=\"M2064,-2210C2064,-2210 1981,-2210 1981,-2210 1975,-2210 1969,-2204 1969,-2198 1969,-2198 1969,-2139 1969,-2139 1969,-2133 1975,-2127 1981,-2127 1981,-2127 2064,-2127 2064,-2127 2070,-2127 2076,-2133 2076,-2139 2076,-2139 2076,-2198 2076,-2198 2076,-2204 2070,-2210 2064,-2210\"/>\n<text text-anchor=\"start\" x=\"1984\" y=\"-2194.8\" font-family=\"Helvetica,sans-Serif\" font-size=\"14.00\" fill=\"#000000\">age ≤ 0.922</text>\n<text text-anchor=\"start\" x=\"1984.5\" y=\"-2179.8\" font-family=\"Helvetica,sans-Serif\" font-size=\"14.00\" fill=\"#000000\">gini = 0.095</text>\n<text text-anchor=\"start\" x=\"1978.5\" y=\"-2164.8\" font-family=\"Helvetica,sans-Serif\" font-size=\"14.00\" fill=\"#000000\">samples = 20</text>\n<text text-anchor=\"start\" x=\"1977\" y=\"-2149.8\" font-family=\"Helvetica,sans-Serif\" font-size=\"14.00\" fill=\"#000000\">value = [1, 19]</text>\n<text text-anchor=\"start\" x=\"1993.5\" y=\"-2134.8\" font-family=\"Helvetica,sans-Serif\" font-size=\"14.00\" fill=\"#000000\">class = o</text>\n</g>\n<!-- 178&#45;&gt;179 -->\n<g id=\"edge179\" class=\"edge\">\n<title>178&#45;&gt;179</title>\n<path fill=\"none\" stroke=\"#000000\" d=\"M2022.5,-2245.8796C2022.5,-2237.6838 2022.5,-2228.9891 2022.5,-2220.5013\"/>\n<polygon fill=\"#000000\" stroke=\"#000000\" points=\"2026.0001,-2220.298 2022.5,-2210.2981 2019.0001,-2220.2981 2026.0001,-2220.298\"/>\n</g>\n<!-- 184 -->\n<g id=\"node185\" class=\"node\">\n<title>184</title>\n<path fill=\"#76bbed\" stroke=\"#000000\" d=\"M2216,-2210C2216,-2210 2133,-2210 2133,-2210 2127,-2210 2121,-2204 2121,-2198 2121,-2198 2121,-2139 2121,-2139 2121,-2133 2127,-2127 2133,-2127 2133,-2127 2216,-2127 2216,-2127 2222,-2127 2228,-2133 2228,-2139 2228,-2139 2228,-2198 2228,-2198 2228,-2204 2222,-2210 2216,-2210\"/>\n<text text-anchor=\"start\" x=\"2133.5\" y=\"-2194.8\" font-family=\"Helvetica,sans-Serif\" font-size=\"14.00\" fill=\"#000000\">age ≤ &#45;0.073</text>\n<text text-anchor=\"start\" x=\"2141\" y=\"-2179.8\" font-family=\"Helvetica,sans-Serif\" font-size=\"14.00\" fill=\"#000000\">gini = 0.36</text>\n<text text-anchor=\"start\" x=\"2130.5\" y=\"-2164.8\" font-family=\"Helvetica,sans-Serif\" font-size=\"14.00\" fill=\"#000000\">samples = 17</text>\n<text text-anchor=\"start\" x=\"2129\" y=\"-2149.8\" font-family=\"Helvetica,sans-Serif\" font-size=\"14.00\" fill=\"#000000\">value = [4, 13]</text>\n<text text-anchor=\"start\" x=\"2145.5\" y=\"-2134.8\" font-family=\"Helvetica,sans-Serif\" font-size=\"14.00\" fill=\"#000000\">class = o</text>\n</g>\n<!-- 178&#45;&gt;184 -->\n<g id=\"edge184\" class=\"edge\">\n<title>178&#45;&gt;184</title>\n<path fill=\"none\" stroke=\"#000000\" d=\"M2075.6622,-2245.8796C2087.8115,-2236.368 2100.8192,-2226.1843 2113.276,-2216.432\"/>\n<polygon fill=\"#000000\" stroke=\"#000000\" points=\"2115.6514,-2219.0173 2121.3678,-2210.0969 2111.3362,-2213.5055 2115.6514,-2219.0173\"/>\n</g>\n<!-- 180 -->\n<g id=\"node181\" class=\"node\">\n<title>180</title>\n<path fill=\"#399de5\" stroke=\"#000000\" d=\"M1975,-2083.5C1975,-2083.5 1892,-2083.5 1892,-2083.5 1886,-2083.5 1880,-2077.5 1880,-2071.5 1880,-2071.5 1880,-2027.5 1880,-2027.5 1880,-2021.5 1886,-2015.5 1892,-2015.5 1892,-2015.5 1975,-2015.5 1975,-2015.5 1981,-2015.5 1987,-2021.5 1987,-2027.5 1987,-2027.5 1987,-2071.5 1987,-2071.5 1987,-2077.5 1981,-2083.5 1975,-2083.5\"/>\n<text text-anchor=\"start\" x=\"1904\" y=\"-2068.3\" font-family=\"Helvetica,sans-Serif\" font-size=\"14.00\" fill=\"#000000\">gini = 0.0</text>\n<text text-anchor=\"start\" x=\"1889.5\" y=\"-2053.3\" font-family=\"Helvetica,sans-Serif\" font-size=\"14.00\" fill=\"#000000\">samples = 18</text>\n<text text-anchor=\"start\" x=\"1888\" y=\"-2038.3\" font-family=\"Helvetica,sans-Serif\" font-size=\"14.00\" fill=\"#000000\">value = [0, 18]</text>\n<text text-anchor=\"start\" x=\"1904.5\" y=\"-2023.3\" font-family=\"Helvetica,sans-Serif\" font-size=\"14.00\" fill=\"#000000\">class = o</text>\n</g>\n<!-- 179&#45;&gt;180 -->\n<g id=\"edge180\" class=\"edge\">\n<title>179&#45;&gt;180</title>\n<path fill=\"none\" stroke=\"#000000\" d=\"M1991.3721,-2126.8796C1982.9014,-2115.5536 1973.7181,-2103.2748 1965.2153,-2091.9058\"/>\n<polygon fill=\"#000000\" stroke=\"#000000\" points=\"1967.9562,-2089.7268 1959.1641,-2083.8149 1962.3505,-2093.9193 1967.9562,-2089.7268\"/>\n</g>\n<!-- 181 -->\n<g id=\"node182\" class=\"node\">\n<title>181</title>\n<path fill=\"#ffffff\" stroke=\"#000000\" d=\"M2092,-2091C2092,-2091 2017,-2091 2017,-2091 2011,-2091 2005,-2085 2005,-2079 2005,-2079 2005,-2020 2005,-2020 2005,-2014 2011,-2008 2017,-2008 2017,-2008 2092,-2008 2092,-2008 2098,-2008 2104,-2014 2104,-2020 2104,-2020 2104,-2079 2104,-2079 2104,-2085 2098,-2091 2092,-2091\"/>\n<text text-anchor=\"start\" x=\"2016\" y=\"-2075.8\" font-family=\"Helvetica,sans-Serif\" font-size=\"14.00\" fill=\"#000000\">age ≤ 1.337</text>\n<text text-anchor=\"start\" x=\"2025\" y=\"-2060.8\" font-family=\"Helvetica,sans-Serif\" font-size=\"14.00\" fill=\"#000000\">gini = 0.5</text>\n<text text-anchor=\"start\" x=\"2015\" y=\"-2045.8\" font-family=\"Helvetica,sans-Serif\" font-size=\"14.00\" fill=\"#000000\">samples = 2</text>\n<text text-anchor=\"start\" x=\"2013\" y=\"-2030.8\" font-family=\"Helvetica,sans-Serif\" font-size=\"14.00\" fill=\"#000000\">value = [1, 1]</text>\n<text text-anchor=\"start\" x=\"2028\" y=\"-2015.8\" font-family=\"Helvetica,sans-Serif\" font-size=\"14.00\" fill=\"#000000\">class = l</text>\n</g>\n<!-- 179&#45;&gt;181 -->\n<g id=\"edge181\" class=\"edge\">\n<title>179&#45;&gt;181</title>\n<path fill=\"none\" stroke=\"#000000\" d=\"M2033.692,-2126.8796C2035.9202,-2118.5938 2038.2854,-2109.798 2040.5917,-2101.2216\"/>\n<polygon fill=\"#000000\" stroke=\"#000000\" points=\"2044.0432,-2101.8639 2043.2602,-2091.2981 2037.2834,-2100.0461 2044.0432,-2101.8639\"/>\n</g>\n<!-- 182 -->\n<g id=\"node183\" class=\"node\">\n<title>182</title>\n<path fill=\"#e58139\" stroke=\"#000000\" d=\"M1976,-1964.5C1976,-1964.5 1901,-1964.5 1901,-1964.5 1895,-1964.5 1889,-1958.5 1889,-1952.5 1889,-1952.5 1889,-1908.5 1889,-1908.5 1889,-1902.5 1895,-1896.5 1901,-1896.5 1901,-1896.5 1976,-1896.5 1976,-1896.5 1982,-1896.5 1988,-1902.5 1988,-1908.5 1988,-1908.5 1988,-1952.5 1988,-1952.5 1988,-1958.5 1982,-1964.5 1976,-1964.5\"/>\n<text text-anchor=\"start\" x=\"1909\" y=\"-1949.3\" font-family=\"Helvetica,sans-Serif\" font-size=\"14.00\" fill=\"#000000\">gini = 0.0</text>\n<text text-anchor=\"start\" x=\"1899\" y=\"-1934.3\" font-family=\"Helvetica,sans-Serif\" font-size=\"14.00\" fill=\"#000000\">samples = 1</text>\n<text text-anchor=\"start\" x=\"1897\" y=\"-1919.3\" font-family=\"Helvetica,sans-Serif\" font-size=\"14.00\" fill=\"#000000\">value = [1, 0]</text>\n<text text-anchor=\"start\" x=\"1912\" y=\"-1904.3\" font-family=\"Helvetica,sans-Serif\" font-size=\"14.00\" fill=\"#000000\">class = l</text>\n</g>\n<!-- 181&#45;&gt;182 -->\n<g id=\"edge182\" class=\"edge\">\n<title>181&#45;&gt;182</title>\n<path fill=\"none\" stroke=\"#000000\" d=\"M2013.9288,-2007.8796C2002.674,-1996.3337 1990.4539,-1983.7976 1979.1922,-1972.2446\"/>\n<polygon fill=\"#000000\" stroke=\"#000000\" points=\"1981.4364,-1969.5326 1971.9499,-1964.8149 1976.4238,-1974.4188 1981.4364,-1969.5326\"/>\n</g>\n<!-- 183 -->\n<g id=\"node184\" class=\"node\">\n<title>183</title>\n<path fill=\"#399de5\" stroke=\"#000000\" d=\"M2093,-1964.5C2093,-1964.5 2018,-1964.5 2018,-1964.5 2012,-1964.5 2006,-1958.5 2006,-1952.5 2006,-1952.5 2006,-1908.5 2006,-1908.5 2006,-1902.5 2012,-1896.5 2018,-1896.5 2018,-1896.5 2093,-1896.5 2093,-1896.5 2099,-1896.5 2105,-1902.5 2105,-1908.5 2105,-1908.5 2105,-1952.5 2105,-1952.5 2105,-1958.5 2099,-1964.5 2093,-1964.5\"/>\n<text text-anchor=\"start\" x=\"2026\" y=\"-1949.3\" font-family=\"Helvetica,sans-Serif\" font-size=\"14.00\" fill=\"#000000\">gini = 0.0</text>\n<text text-anchor=\"start\" x=\"2016\" y=\"-1934.3\" font-family=\"Helvetica,sans-Serif\" font-size=\"14.00\" fill=\"#000000\">samples = 1</text>\n<text text-anchor=\"start\" x=\"2014\" y=\"-1919.3\" font-family=\"Helvetica,sans-Serif\" font-size=\"14.00\" fill=\"#000000\">value = [0, 1]</text>\n<text text-anchor=\"start\" x=\"2026.5\" y=\"-1904.3\" font-family=\"Helvetica,sans-Serif\" font-size=\"14.00\" fill=\"#000000\">class = o</text>\n</g>\n<!-- 181&#45;&gt;183 -->\n<g id=\"edge183\" class=\"edge\">\n<title>181&#45;&gt;183</title>\n<path fill=\"none\" stroke=\"#000000\" d=\"M2054.8498,-2007.8796C2054.9394,-1997.2134 2055.0361,-1985.7021 2055.1269,-1974.9015\"/>\n<polygon fill=\"#000000\" stroke=\"#000000\" points=\"2058.6274,-1974.844 2055.2116,-1964.8149 2051.6276,-1974.7851 2058.6274,-1974.844\"/>\n</g>\n<!-- 185 -->\n<g id=\"node186\" class=\"node\">\n<title>185</title>\n<path fill=\"#bddef6\" stroke=\"#000000\" d=\"M2214.5,-2091C2214.5,-2091 2134.5,-2091 2134.5,-2091 2128.5,-2091 2122.5,-2085 2122.5,-2079 2122.5,-2079 2122.5,-2020 2122.5,-2020 2122.5,-2014 2128.5,-2008 2134.5,-2008 2134.5,-2008 2214.5,-2008 2214.5,-2008 2220.5,-2008 2226.5,-2014 2226.5,-2020 2226.5,-2020 2226.5,-2079 2226.5,-2079 2226.5,-2085 2220.5,-2091 2214.5,-2091\"/>\n<text text-anchor=\"start\" x=\"2133.5\" y=\"-2075.8\" font-family=\"Helvetica,sans-Serif\" font-size=\"14.00\" fill=\"#000000\">age ≤ &#45;0.902</text>\n<text text-anchor=\"start\" x=\"2141\" y=\"-2060.8\" font-family=\"Helvetica,sans-Serif\" font-size=\"14.00\" fill=\"#000000\">gini = 0.48</text>\n<text text-anchor=\"start\" x=\"2130.5\" y=\"-2045.8\" font-family=\"Helvetica,sans-Serif\" font-size=\"14.00\" fill=\"#000000\">samples = 10</text>\n<text text-anchor=\"start\" x=\"2133\" y=\"-2030.8\" font-family=\"Helvetica,sans-Serif\" font-size=\"14.00\" fill=\"#000000\">value = [4, 6]</text>\n<text text-anchor=\"start\" x=\"2145.5\" y=\"-2015.8\" font-family=\"Helvetica,sans-Serif\" font-size=\"14.00\" fill=\"#000000\">class = o</text>\n</g>\n<!-- 184&#45;&gt;185 -->\n<g id=\"edge185\" class=\"edge\">\n<title>184&#45;&gt;185</title>\n<path fill=\"none\" stroke=\"#000000\" d=\"M2174.5,-2126.8796C2174.5,-2118.6838 2174.5,-2109.9891 2174.5,-2101.5013\"/>\n<polygon fill=\"#000000\" stroke=\"#000000\" points=\"2178.0001,-2101.298 2174.5,-2091.2981 2171.0001,-2101.2981 2178.0001,-2101.298\"/>\n</g>\n<!-- 194 -->\n<g id=\"node195\" class=\"node\">\n<title>194</title>\n<path fill=\"#399de5\" stroke=\"#000000\" d=\"M2332,-2083.5C2332,-2083.5 2257,-2083.5 2257,-2083.5 2251,-2083.5 2245,-2077.5 2245,-2071.5 2245,-2071.5 2245,-2027.5 2245,-2027.5 2245,-2021.5 2251,-2015.5 2257,-2015.5 2257,-2015.5 2332,-2015.5 2332,-2015.5 2338,-2015.5 2344,-2021.5 2344,-2027.5 2344,-2027.5 2344,-2071.5 2344,-2071.5 2344,-2077.5 2338,-2083.5 2332,-2083.5\"/>\n<text text-anchor=\"start\" x=\"2265\" y=\"-2068.3\" font-family=\"Helvetica,sans-Serif\" font-size=\"14.00\" fill=\"#000000\">gini = 0.0</text>\n<text text-anchor=\"start\" x=\"2255\" y=\"-2053.3\" font-family=\"Helvetica,sans-Serif\" font-size=\"14.00\" fill=\"#000000\">samples = 7</text>\n<text text-anchor=\"start\" x=\"2253\" y=\"-2038.3\" font-family=\"Helvetica,sans-Serif\" font-size=\"14.00\" fill=\"#000000\">value = [0, 7]</text>\n<text text-anchor=\"start\" x=\"2265.5\" y=\"-2023.3\" font-family=\"Helvetica,sans-Serif\" font-size=\"14.00\" fill=\"#000000\">class = o</text>\n</g>\n<!-- 184&#45;&gt;194 -->\n<g id=\"edge194\" class=\"edge\">\n<title>184&#45;&gt;194</title>\n<path fill=\"none\" stroke=\"#000000\" d=\"M2216.4702,-2126.8796C2228.224,-2115.2237 2240.9954,-2102.5587 2252.7372,-2090.9148\"/>\n<polygon fill=\"#000000\" stroke=\"#000000\" points=\"2255.2606,-2093.3416 2259.8967,-2083.8149 2250.3316,-2088.3712 2255.2606,-2093.3416\"/>\n</g>\n<!-- 186 -->\n<g id=\"node187\" class=\"node\">\n<title>186</title>\n<path fill=\"#399de5\" stroke=\"#000000\" d=\"M2211,-1964.5C2211,-1964.5 2136,-1964.5 2136,-1964.5 2130,-1964.5 2124,-1958.5 2124,-1952.5 2124,-1952.5 2124,-1908.5 2124,-1908.5 2124,-1902.5 2130,-1896.5 2136,-1896.5 2136,-1896.5 2211,-1896.5 2211,-1896.5 2217,-1896.5 2223,-1902.5 2223,-1908.5 2223,-1908.5 2223,-1952.5 2223,-1952.5 2223,-1958.5 2217,-1964.5 2211,-1964.5\"/>\n<text text-anchor=\"start\" x=\"2144\" y=\"-1949.3\" font-family=\"Helvetica,sans-Serif\" font-size=\"14.00\" fill=\"#000000\">gini = 0.0</text>\n<text text-anchor=\"start\" x=\"2134\" y=\"-1934.3\" font-family=\"Helvetica,sans-Serif\" font-size=\"14.00\" fill=\"#000000\">samples = 3</text>\n<text text-anchor=\"start\" x=\"2132\" y=\"-1919.3\" font-family=\"Helvetica,sans-Serif\" font-size=\"14.00\" fill=\"#000000\">value = [0, 3]</text>\n<text text-anchor=\"start\" x=\"2144.5\" y=\"-1904.3\" font-family=\"Helvetica,sans-Serif\" font-size=\"14.00\" fill=\"#000000\">class = o</text>\n</g>\n<!-- 185&#45;&gt;186 -->\n<g id=\"edge186\" class=\"edge\">\n<title>185&#45;&gt;186</title>\n<path fill=\"none\" stroke=\"#000000\" d=\"M2174.1502,-2007.8796C2174.0606,-1997.2134 2173.9639,-1985.7021 2173.8731,-1974.9015\"/>\n<polygon fill=\"#000000\" stroke=\"#000000\" points=\"2177.3724,-1974.7851 2173.7884,-1964.8149 2170.3726,-1974.844 2177.3724,-1974.7851\"/>\n</g>\n<!-- 187 -->\n<g id=\"node188\" class=\"node\">\n<title>187</title>\n<path fill=\"#f8e0ce\" stroke=\"#000000\" d=\"M2338,-1972C2338,-1972 2253,-1972 2253,-1972 2247,-1972 2241,-1966 2241,-1960 2241,-1960 2241,-1901 2241,-1901 2241,-1895 2247,-1889 2253,-1889 2253,-1889 2338,-1889 2338,-1889 2344,-1889 2350,-1895 2350,-1901 2350,-1901 2350,-1960 2350,-1960 2350,-1966 2344,-1972 2338,-1972\"/>\n<text text-anchor=\"start\" x=\"2249\" y=\"-1956.8\" font-family=\"Helvetica,sans-Serif\" font-size=\"14.00\" fill=\"#000000\">terms ≤ &#45;0.019</text>\n<text text-anchor=\"start\" x=\"2262\" y=\"-1941.8\" font-family=\"Helvetica,sans-Serif\" font-size=\"14.00\" fill=\"#000000\">gini = 0.49</text>\n<text text-anchor=\"start\" x=\"2256\" y=\"-1926.8\" font-family=\"Helvetica,sans-Serif\" font-size=\"14.00\" fill=\"#000000\">samples = 7</text>\n<text text-anchor=\"start\" x=\"2254\" y=\"-1911.8\" font-family=\"Helvetica,sans-Serif\" font-size=\"14.00\" fill=\"#000000\">value = [4, 3]</text>\n<text text-anchor=\"start\" x=\"2269\" y=\"-1896.8\" font-family=\"Helvetica,sans-Serif\" font-size=\"14.00\" fill=\"#000000\">class = l</text>\n</g>\n<!-- 185&#45;&gt;187 -->\n<g id=\"edge187\" class=\"edge\">\n<title>185&#45;&gt;187</title>\n<path fill=\"none\" stroke=\"#000000\" d=\"M2216.8199,-2007.8796C2226.1608,-1998.6931 2236.139,-1988.8798 2245.744,-1979.4336\"/>\n<polygon fill=\"#000000\" stroke=\"#000000\" points=\"2248.3238,-1981.8054 2252.9994,-1972.2981 2243.4155,-1976.8146 2248.3238,-1981.8054\"/>\n</g>\n<!-- 188 -->\n<g id=\"node189\" class=\"node\">\n<title>188</title>\n<path fill=\"#9ccef2\" stroke=\"#000000\" d=\"M2274,-1853C2274,-1853 2199,-1853 2199,-1853 2193,-1853 2187,-1847 2187,-1841 2187,-1841 2187,-1782 2187,-1782 2187,-1776 2193,-1770 2199,-1770 2199,-1770 2274,-1770 2274,-1770 2280,-1770 2286,-1776 2286,-1782 2286,-1782 2286,-1841 2286,-1841 2286,-1847 2280,-1853 2274,-1853\"/>\n<text text-anchor=\"start\" x=\"2200\" y=\"-1837.8\" font-family=\"Helvetica,sans-Serif\" font-size=\"14.00\" fill=\"#000000\">age ≤ &#45;0.57</text>\n<text text-anchor=\"start\" x=\"2198.5\" y=\"-1822.8\" font-family=\"Helvetica,sans-Serif\" font-size=\"14.00\" fill=\"#000000\">gini = 0.444</text>\n<text text-anchor=\"start\" x=\"2197\" y=\"-1807.8\" font-family=\"Helvetica,sans-Serif\" font-size=\"14.00\" fill=\"#000000\">samples = 3</text>\n<text text-anchor=\"start\" x=\"2195\" y=\"-1792.8\" font-family=\"Helvetica,sans-Serif\" font-size=\"14.00\" fill=\"#000000\">value = [1, 2]</text>\n<text text-anchor=\"start\" x=\"2207.5\" y=\"-1777.8\" font-family=\"Helvetica,sans-Serif\" font-size=\"14.00\" fill=\"#000000\">class = o</text>\n</g>\n<!-- 187&#45;&gt;188 -->\n<g id=\"edge188\" class=\"edge\">\n<title>187&#45;&gt;188</title>\n<path fill=\"none\" stroke=\"#000000\" d=\"M2274.8647,-1888.8796C2270.6226,-1880.3236 2266.111,-1871.2238 2261.7279,-1862.3833\"/>\n<polygon fill=\"#000000\" stroke=\"#000000\" points=\"2264.8012,-1860.7026 2257.2234,-1853.2981 2258.5297,-1863.8121 2264.8012,-1860.7026\"/>\n</g>\n<!-- 191 -->\n<g id=\"node192\" class=\"node\">\n<title>191</title>\n<path fill=\"#eeab7b\" stroke=\"#000000\" d=\"M2391,-1853C2391,-1853 2316,-1853 2316,-1853 2310,-1853 2304,-1847 2304,-1841 2304,-1841 2304,-1782 2304,-1782 2304,-1776 2310,-1770 2316,-1770 2316,-1770 2391,-1770 2391,-1770 2397,-1770 2403,-1776 2403,-1782 2403,-1782 2403,-1841 2403,-1841 2403,-1847 2397,-1853 2391,-1853\"/>\n<text text-anchor=\"start\" x=\"2312.5\" y=\"-1837.8\" font-family=\"Helvetica,sans-Serif\" font-size=\"14.00\" fill=\"#000000\">age ≤ &#45;0.736</text>\n<text text-anchor=\"start\" x=\"2315.5\" y=\"-1822.8\" font-family=\"Helvetica,sans-Serif\" font-size=\"14.00\" fill=\"#000000\">gini = 0.375</text>\n<text text-anchor=\"start\" x=\"2314\" y=\"-1807.8\" font-family=\"Helvetica,sans-Serif\" font-size=\"14.00\" fill=\"#000000\">samples = 4</text>\n<text text-anchor=\"start\" x=\"2312\" y=\"-1792.8\" font-family=\"Helvetica,sans-Serif\" font-size=\"14.00\" fill=\"#000000\">value = [3, 1]</text>\n<text text-anchor=\"start\" x=\"2327\" y=\"-1777.8\" font-family=\"Helvetica,sans-Serif\" font-size=\"14.00\" fill=\"#000000\">class = l</text>\n</g>\n<!-- 187&#45;&gt;191 -->\n<g id=\"edge191\" class=\"edge\">\n<title>187&#45;&gt;191</title>\n<path fill=\"none\" stroke=\"#000000\" d=\"M2315.7856,-1888.8796C2319.9557,-1880.3236 2324.3909,-1871.2238 2328.6997,-1862.3833\"/>\n<polygon fill=\"#000000\" stroke=\"#000000\" points=\"2331.8927,-1863.8207 2333.1278,-1853.2981 2325.6003,-1860.7538 2331.8927,-1863.8207\"/>\n</g>\n<!-- 189 -->\n<g id=\"node190\" class=\"node\">\n<title>189</title>\n<path fill=\"#e58139\" stroke=\"#000000\" d=\"M2157,-1726.5C2157,-1726.5 2082,-1726.5 2082,-1726.5 2076,-1726.5 2070,-1720.5 2070,-1714.5 2070,-1714.5 2070,-1670.5 2070,-1670.5 2070,-1664.5 2076,-1658.5 2082,-1658.5 2082,-1658.5 2157,-1658.5 2157,-1658.5 2163,-1658.5 2169,-1664.5 2169,-1670.5 2169,-1670.5 2169,-1714.5 2169,-1714.5 2169,-1720.5 2163,-1726.5 2157,-1726.5\"/>\n<text text-anchor=\"start\" x=\"2090\" y=\"-1711.3\" font-family=\"Helvetica,sans-Serif\" font-size=\"14.00\" fill=\"#000000\">gini = 0.0</text>\n<text text-anchor=\"start\" x=\"2080\" y=\"-1696.3\" font-family=\"Helvetica,sans-Serif\" font-size=\"14.00\" fill=\"#000000\">samples = 1</text>\n<text text-anchor=\"start\" x=\"2078\" y=\"-1681.3\" font-family=\"Helvetica,sans-Serif\" font-size=\"14.00\" fill=\"#000000\">value = [1, 0]</text>\n<text text-anchor=\"start\" x=\"2093\" y=\"-1666.3\" font-family=\"Helvetica,sans-Serif\" font-size=\"14.00\" fill=\"#000000\">class = l</text>\n</g>\n<!-- 188&#45;&gt;189 -->\n<g id=\"edge189\" class=\"edge\">\n<title>188&#45;&gt;189</title>\n<path fill=\"none\" stroke=\"#000000\" d=\"M2195.5791,-1769.8796C2184.2272,-1758.3337 2171.9018,-1745.7976 2160.543,-1734.2446\"/>\n<polygon fill=\"#000000\" stroke=\"#000000\" points=\"2162.7449,-1731.4919 2153.2382,-1726.8149 2157.7534,-1736.3995 2162.7449,-1731.4919\"/>\n</g>\n<!-- 190 -->\n<g id=\"node191\" class=\"node\">\n<title>190</title>\n<path fill=\"#399de5\" stroke=\"#000000\" d=\"M2274,-1726.5C2274,-1726.5 2199,-1726.5 2199,-1726.5 2193,-1726.5 2187,-1720.5 2187,-1714.5 2187,-1714.5 2187,-1670.5 2187,-1670.5 2187,-1664.5 2193,-1658.5 2199,-1658.5 2199,-1658.5 2274,-1658.5 2274,-1658.5 2280,-1658.5 2286,-1664.5 2286,-1670.5 2286,-1670.5 2286,-1714.5 2286,-1714.5 2286,-1720.5 2280,-1726.5 2274,-1726.5\"/>\n<text text-anchor=\"start\" x=\"2207\" y=\"-1711.3\" font-family=\"Helvetica,sans-Serif\" font-size=\"14.00\" fill=\"#000000\">gini = 0.0</text>\n<text text-anchor=\"start\" x=\"2197\" y=\"-1696.3\" font-family=\"Helvetica,sans-Serif\" font-size=\"14.00\" fill=\"#000000\">samples = 2</text>\n<text text-anchor=\"start\" x=\"2195\" y=\"-1681.3\" font-family=\"Helvetica,sans-Serif\" font-size=\"14.00\" fill=\"#000000\">value = [0, 2]</text>\n<text text-anchor=\"start\" x=\"2207.5\" y=\"-1666.3\" font-family=\"Helvetica,sans-Serif\" font-size=\"14.00\" fill=\"#000000\">class = o</text>\n</g>\n<!-- 188&#45;&gt;190 -->\n<g id=\"edge190\" class=\"edge\">\n<title>188&#45;&gt;190</title>\n<path fill=\"none\" stroke=\"#000000\" d=\"M2236.5,-1769.8796C2236.5,-1759.2134 2236.5,-1747.7021 2236.5,-1736.9015\"/>\n<polygon fill=\"#000000\" stroke=\"#000000\" points=\"2240.0001,-1736.8149 2236.5,-1726.8149 2233.0001,-1736.815 2240.0001,-1736.8149\"/>\n</g>\n<!-- 192 -->\n<g id=\"node193\" class=\"node\">\n<title>192</title>\n<path fill=\"#399de5\" stroke=\"#000000\" d=\"M2391,-1726.5C2391,-1726.5 2316,-1726.5 2316,-1726.5 2310,-1726.5 2304,-1720.5 2304,-1714.5 2304,-1714.5 2304,-1670.5 2304,-1670.5 2304,-1664.5 2310,-1658.5 2316,-1658.5 2316,-1658.5 2391,-1658.5 2391,-1658.5 2397,-1658.5 2403,-1664.5 2403,-1670.5 2403,-1670.5 2403,-1714.5 2403,-1714.5 2403,-1720.5 2397,-1726.5 2391,-1726.5\"/>\n<text text-anchor=\"start\" x=\"2324\" y=\"-1711.3\" font-family=\"Helvetica,sans-Serif\" font-size=\"14.00\" fill=\"#000000\">gini = 0.0</text>\n<text text-anchor=\"start\" x=\"2314\" y=\"-1696.3\" font-family=\"Helvetica,sans-Serif\" font-size=\"14.00\" fill=\"#000000\">samples = 1</text>\n<text text-anchor=\"start\" x=\"2312\" y=\"-1681.3\" font-family=\"Helvetica,sans-Serif\" font-size=\"14.00\" fill=\"#000000\">value = [0, 1]</text>\n<text text-anchor=\"start\" x=\"2324.5\" y=\"-1666.3\" font-family=\"Helvetica,sans-Serif\" font-size=\"14.00\" fill=\"#000000\">class = o</text>\n</g>\n<!-- 191&#45;&gt;192 -->\n<g id=\"edge192\" class=\"edge\">\n<title>191&#45;&gt;192</title>\n<path fill=\"none\" stroke=\"#000000\" d=\"M2353.5,-1769.8796C2353.5,-1759.2134 2353.5,-1747.7021 2353.5,-1736.9015\"/>\n<polygon fill=\"#000000\" stroke=\"#000000\" points=\"2357.0001,-1736.8149 2353.5,-1726.8149 2350.0001,-1736.815 2357.0001,-1736.8149\"/>\n</g>\n<!-- 193 -->\n<g id=\"node194\" class=\"node\">\n<title>193</title>\n<path fill=\"#e58139\" stroke=\"#000000\" d=\"M2508,-1726.5C2508,-1726.5 2433,-1726.5 2433,-1726.5 2427,-1726.5 2421,-1720.5 2421,-1714.5 2421,-1714.5 2421,-1670.5 2421,-1670.5 2421,-1664.5 2427,-1658.5 2433,-1658.5 2433,-1658.5 2508,-1658.5 2508,-1658.5 2514,-1658.5 2520,-1664.5 2520,-1670.5 2520,-1670.5 2520,-1714.5 2520,-1714.5 2520,-1720.5 2514,-1726.5 2508,-1726.5\"/>\n<text text-anchor=\"start\" x=\"2441\" y=\"-1711.3\" font-family=\"Helvetica,sans-Serif\" font-size=\"14.00\" fill=\"#000000\">gini = 0.0</text>\n<text text-anchor=\"start\" x=\"2431\" y=\"-1696.3\" font-family=\"Helvetica,sans-Serif\" font-size=\"14.00\" fill=\"#000000\">samples = 3</text>\n<text text-anchor=\"start\" x=\"2429\" y=\"-1681.3\" font-family=\"Helvetica,sans-Serif\" font-size=\"14.00\" fill=\"#000000\">value = [3, 0]</text>\n<text text-anchor=\"start\" x=\"2444\" y=\"-1666.3\" font-family=\"Helvetica,sans-Serif\" font-size=\"14.00\" fill=\"#000000\">class = l</text>\n</g>\n<!-- 191&#45;&gt;193 -->\n<g id=\"edge193\" class=\"edge\">\n<title>191&#45;&gt;193</title>\n<path fill=\"none\" stroke=\"#000000\" d=\"M2394.4209,-1769.8796C2405.7728,-1758.3337 2418.0982,-1745.7976 2429.457,-1734.2446\"/>\n<polygon fill=\"#000000\" stroke=\"#000000\" points=\"2432.2466,-1736.3995 2436.7618,-1726.8149 2427.2551,-1731.4919 2432.2466,-1736.3995\"/>\n</g>\n</g>\n</svg>\n"
          },
          "metadata": {
            "tags": []
          },
          "execution_count": 24
        }
      ]
    },
    {
      "cell_type": "markdown",
      "metadata": {
        "id": "WUrc-OXEL4ma"
      },
      "source": [
        "# 8. c) Support Vector Machine"
      ]
    },
    {
      "cell_type": "code",
      "metadata": {
        "id": "x_PEy3BzL4mb",
        "colab": {
          "base_uri": "https://localhost:8080/"
        },
        "outputId": "e42a3cfe-388d-4aaf-b433-5cd800266bda"
      },
      "source": [
        "from sklearn import svm\n",
        "\n",
        "# Modelling and training\n",
        "clf_rbf = svm.SVC(kernel='rbf')\n",
        "clf_rbf.fit(X_train, y_train) \n",
        "\n",
        "clf_linear = svm.SVC(kernel='linear')\n",
        "clf_linear.fit(X_train, y_train) \n",
        "\n",
        "clf_poly = svm.SVC(kernel='poly')\n",
        "clf_poly.fit(X_train, y_train) \n",
        "\n",
        "clf_sig = svm.SVC(kernel='sigmoid')\n",
        "clf_sig.fit(X_train, y_train) "
      ],
      "execution_count": 25,
      "outputs": [
        {
          "output_type": "execute_result",
          "data": {
            "text/plain": [
              "SVC(C=1.0, break_ties=False, cache_size=200, class_weight=None, coef0=0.0,\n",
              "    decision_function_shape='ovr', degree=3, gamma='scale', kernel='sigmoid',\n",
              "    max_iter=-1, probability=False, random_state=None, shrinking=True,\n",
              "    tol=0.001, verbose=False)"
            ]
          },
          "metadata": {
            "tags": []
          },
          "execution_count": 25
        }
      ]
    },
    {
      "cell_type": "code",
      "metadata": {
        "id": "dUGkeR5zL4me"
      },
      "source": [
        "# Prediction\n",
        "yhat_rbf = clf_rbf.predict(X_test)\n",
        "yhat_linear = clf_linear.predict(X_test)\n",
        "yhat_poly = clf_poly.predict(X_test)\n",
        "yhat_sig = clf_sig.predict(X_test)"
      ],
      "execution_count": 26,
      "outputs": []
    },
    {
      "cell_type": "code",
      "metadata": {
        "id": "YWTxghd7L4mg",
        "colab": {
          "base_uri": "https://localhost:8080/"
        },
        "outputId": "c6368cb6-55e1-40b5-ee37-4f71bb148bb5"
      },
      "source": [
        "#Evaluation\n",
        "\n",
        "print('jaccard scores:\\n')\n",
        "print('RBF:',jaccard_score(y_test, yhat_rbf))\n",
        "print('Linear:',jaccard_score(y_test, yhat_linear))\n",
        "print('Polynomial',jaccard_score(y_test, yhat_poly))\n",
        "print('Sigmoid',jaccard_score(y_test, yhat_sig))\n",
        "print('Best Kernel: Linear')"
      ],
      "execution_count": 27,
      "outputs": [
        {
          "output_type": "stream",
          "text": [
            "jaccard scores:\n",
            "\n",
            "RBF: 0.8285714285714286\n",
            "Linear: 0.8142857142857143\n",
            "Polynomial 0.7857142857142857\n",
            "Sigmoid 0.8285714285714286\n",
            "Best Kernel: Linear\n"
          ],
          "name": "stdout"
        }
      ]
    },
    {
      "cell_type": "markdown",
      "metadata": {
        "id": "BUHDjcCGL4mj"
      },
      "source": [
        "# 8. d) Logistic Regression"
      ]
    },
    {
      "cell_type": "code",
      "metadata": {
        "id": "g7DMyJnML4mj"
      },
      "source": [
        "from sklearn.linear_model import LogisticRegression\n",
        "\n",
        "# Modelling\n",
        "LR_lib = LogisticRegression(C=0.01, solver='liblinear').fit(X_train,y_train)\n",
        "LR_sag = LogisticRegression(C=0.01, solver='sag').fit(X_train,y_train)"
      ],
      "execution_count": 28,
      "outputs": []
    },
    {
      "cell_type": "code",
      "metadata": {
        "id": "N4Yxp3YoL4mm"
      },
      "source": [
        "# Prediction\n",
        "yhat_lib = LR_lib.predict(X_test)\n",
        "yhat_sag = LR_sag.predict(X_test)\n",
        "\n",
        "yhat_prob_lib = LR_lib.predict_proba(X_test)\n",
        "yhat_prob_sag = LR_sag.predict_proba(X_test)"
      ],
      "execution_count": 29,
      "outputs": []
    },
    {
      "cell_type": "code",
      "metadata": {
        "id": "156NG6TQL4mp",
        "colab": {
          "base_uri": "https://localhost:8080/"
        },
        "outputId": "b979c7ff-5859-4384-9a9f-a20daf1ef2dd"
      },
      "source": [
        "# Evaluation\n",
        "print('F1 Score:')\n",
        "print('liblinear: ',f1_score(y_test, yhat_lib), end=' ')\n",
        "print('sag: ',f1_score(y_test, yhat_sag))\n",
        "\n",
        "print('\\njaccard_score')\n",
        "print('liblinear: ',jaccard_score(y_test, yhat_lib), end=' ')\n",
        "print('sag: ',jaccard_score(y_test, yhat_sag))\n",
        "\n",
        "print('\\nBEST OPTION: Sag solver')"
      ],
      "execution_count": 30,
      "outputs": [
        {
          "output_type": "stream",
          "text": [
            "F1 Score:\n",
            "liblinear:  0.8976377952755905 sag:  0.90625\n",
            "\n",
            "jaccard_score\n",
            "liblinear:  0.8142857142857143 sag:  0.8285714285714286\n",
            "\n",
            "BEST OPTION: Sag solver\n"
          ],
          "name": "stdout"
        }
      ]
    },
    {
      "cell_type": "markdown",
      "metadata": {
        "id": "V07Lw8vYL4mr"
      },
      "source": [
        "# 9. Model Evaluation using Test set"
      ]
    },
    {
      "cell_type": "code",
      "metadata": {
        "id": "9TYPRBYyL4mw",
        "colab": {
          "base_uri": "https://localhost:8080/"
        },
        "outputId": "91ced992-f1b7-45db-d9d9-fa9e83fd2413"
      },
      "source": [
        "#Model Evaluation Data\n",
        "!wget -O loan_test.csv https://s3-api.us-geo.objectstorage.softlayer.net/cf-courses-data/CognitiveClass/ML0101ENv3/labs/loan_test.csv"
      ],
      "execution_count": 31,
      "outputs": [
        {
          "output_type": "stream",
          "text": [
            "--2020-12-01 10:06:03--  https://s3-api.us-geo.objectstorage.softlayer.net/cf-courses-data/CognitiveClass/ML0101ENv3/labs/loan_test.csv\n",
            "Resolving s3-api.us-geo.objectstorage.softlayer.net (s3-api.us-geo.objectstorage.softlayer.net)... 67.228.254.196\n",
            "Connecting to s3-api.us-geo.objectstorage.softlayer.net (s3-api.us-geo.objectstorage.softlayer.net)|67.228.254.196|:443... connected.\n",
            "HTTP request sent, awaiting response... 200 OK\n",
            "Length: 3642 (3.6K) [text/csv]\n",
            "Saving to: ‘loan_test.csv’\n",
            "\n",
            "loan_test.csv       100%[===================>]   3.56K  --.-KB/s    in 0s      \n",
            "\n",
            "2020-12-01 10:06:04 (627 MB/s) - ‘loan_test.csv’ saved [3642/3642]\n",
            "\n"
          ],
          "name": "stdout"
        }
      ]
    },
    {
      "cell_type": "markdown",
      "metadata": {
        "button": false,
        "new_sheet": false,
        "run_control": {
          "read_only": false
        },
        "id": "Sr4egMFqL4m0"
      },
      "source": [
        "### Load Test set for evaluation "
      ]
    },
    {
      "cell_type": "code",
      "metadata": {
        "button": false,
        "new_sheet": false,
        "run_control": {
          "read_only": false
        },
        "scrolled": true,
        "id": "RtdHNbHEL4m1",
        "colab": {
          "base_uri": "https://localhost:8080/",
          "height": 204
        },
        "outputId": "6469907a-3843-439e-f947-9036d510f795"
      },
      "source": [
        "test_df = pd.read_csv('loan_test.csv')\n",
        "test_df.head()"
      ],
      "execution_count": 32,
      "outputs": [
        {
          "output_type": "execute_result",
          "data": {
            "text/html": [
              "<div>\n",
              "<style scoped>\n",
              "    .dataframe tbody tr th:only-of-type {\n",
              "        vertical-align: middle;\n",
              "    }\n",
              "\n",
              "    .dataframe tbody tr th {\n",
              "        vertical-align: top;\n",
              "    }\n",
              "\n",
              "    .dataframe thead th {\n",
              "        text-align: right;\n",
              "    }\n",
              "</style>\n",
              "<table border=\"1\" class=\"dataframe\">\n",
              "  <thead>\n",
              "    <tr style=\"text-align: right;\">\n",
              "      <th></th>\n",
              "      <th>Unnamed: 0</th>\n",
              "      <th>Unnamed: 0.1</th>\n",
              "      <th>loan_status</th>\n",
              "      <th>Principal</th>\n",
              "      <th>terms</th>\n",
              "      <th>effective_date</th>\n",
              "      <th>due_date</th>\n",
              "      <th>age</th>\n",
              "      <th>education</th>\n",
              "      <th>Gender</th>\n",
              "    </tr>\n",
              "  </thead>\n",
              "  <tbody>\n",
              "    <tr>\n",
              "      <th>0</th>\n",
              "      <td>1</td>\n",
              "      <td>1</td>\n",
              "      <td>PAIDOFF</td>\n",
              "      <td>1000</td>\n",
              "      <td>30</td>\n",
              "      <td>9/8/2016</td>\n",
              "      <td>10/7/2016</td>\n",
              "      <td>50</td>\n",
              "      <td>Bechalor</td>\n",
              "      <td>female</td>\n",
              "    </tr>\n",
              "    <tr>\n",
              "      <th>1</th>\n",
              "      <td>5</td>\n",
              "      <td>5</td>\n",
              "      <td>PAIDOFF</td>\n",
              "      <td>300</td>\n",
              "      <td>7</td>\n",
              "      <td>9/9/2016</td>\n",
              "      <td>9/15/2016</td>\n",
              "      <td>35</td>\n",
              "      <td>Master or Above</td>\n",
              "      <td>male</td>\n",
              "    </tr>\n",
              "    <tr>\n",
              "      <th>2</th>\n",
              "      <td>21</td>\n",
              "      <td>21</td>\n",
              "      <td>PAIDOFF</td>\n",
              "      <td>1000</td>\n",
              "      <td>30</td>\n",
              "      <td>9/10/2016</td>\n",
              "      <td>10/9/2016</td>\n",
              "      <td>43</td>\n",
              "      <td>High School or Below</td>\n",
              "      <td>female</td>\n",
              "    </tr>\n",
              "    <tr>\n",
              "      <th>3</th>\n",
              "      <td>24</td>\n",
              "      <td>24</td>\n",
              "      <td>PAIDOFF</td>\n",
              "      <td>1000</td>\n",
              "      <td>30</td>\n",
              "      <td>9/10/2016</td>\n",
              "      <td>10/9/2016</td>\n",
              "      <td>26</td>\n",
              "      <td>college</td>\n",
              "      <td>male</td>\n",
              "    </tr>\n",
              "    <tr>\n",
              "      <th>4</th>\n",
              "      <td>35</td>\n",
              "      <td>35</td>\n",
              "      <td>PAIDOFF</td>\n",
              "      <td>800</td>\n",
              "      <td>15</td>\n",
              "      <td>9/11/2016</td>\n",
              "      <td>9/25/2016</td>\n",
              "      <td>29</td>\n",
              "      <td>Bechalor</td>\n",
              "      <td>male</td>\n",
              "    </tr>\n",
              "  </tbody>\n",
              "</table>\n",
              "</div>"
            ],
            "text/plain": [
              "   Unnamed: 0  Unnamed: 0.1 loan_status  ...  age             education  Gender\n",
              "0           1             1     PAIDOFF  ...   50              Bechalor  female\n",
              "1           5             5     PAIDOFF  ...   35       Master or Above    male\n",
              "2          21            21     PAIDOFF  ...   43  High School or Below  female\n",
              "3          24            24     PAIDOFF  ...   26               college    male\n",
              "4          35            35     PAIDOFF  ...   29              Bechalor    male\n",
              "\n",
              "[5 rows x 10 columns]"
            ]
          },
          "metadata": {
            "tags": []
          },
          "execution_count": 32
        }
      ]
    },
    {
      "cell_type": "markdown",
      "metadata": {
        "id": "D_vA2sEtf1Eo"
      },
      "source": [
        "## 10. Test Data Pre-processing pipeline"
      ]
    },
    {
      "cell_type": "code",
      "metadata": {
        "id": "DZe8ZPtpL4m6"
      },
      "source": [
        "# Converting date to Std. date format\n",
        "test_df['due_date'] = pd.to_datetime(test_df['due_date'])\n",
        "test_df['effective_date'] = pd.to_datetime(test_df['effective_date'])\n",
        "\n",
        "# Replacing Male = 0 and Female = 1 in gender column\n",
        "test_df['Gender'].replace(to_replace=['male','female'], value=[0,1],inplace=True)\n",
        "\n",
        "# Creating Test date with required features\n",
        "Feature2 = test_df[['Principal','terms','age','Gender']]\n",
        "\n",
        "# Adding one-hot encoded Education columns\n",
        "Feature2 = pd.concat([Feature2,pd.get_dummies(test_df['education'])], axis=1)\n"
      ],
      "execution_count": 33,
      "outputs": []
    },
    {
      "cell_type": "code",
      "metadata": {
        "id": "64QBcl8HL4m9",
        "colab": {
          "base_uri": "https://localhost:8080/",
          "height": 204
        },
        "outputId": "c3737a73-fd53-4cf0-a0c9-1ddcab448703"
      },
      "source": [
        "# Checking Features\n",
        "X_TEST = Feature2\n",
        "X_TEST.head()"
      ],
      "execution_count": 34,
      "outputs": [
        {
          "output_type": "execute_result",
          "data": {
            "text/html": [
              "<div>\n",
              "<style scoped>\n",
              "    .dataframe tbody tr th:only-of-type {\n",
              "        vertical-align: middle;\n",
              "    }\n",
              "\n",
              "    .dataframe tbody tr th {\n",
              "        vertical-align: top;\n",
              "    }\n",
              "\n",
              "    .dataframe thead th {\n",
              "        text-align: right;\n",
              "    }\n",
              "</style>\n",
              "<table border=\"1\" class=\"dataframe\">\n",
              "  <thead>\n",
              "    <tr style=\"text-align: right;\">\n",
              "      <th></th>\n",
              "      <th>Principal</th>\n",
              "      <th>terms</th>\n",
              "      <th>age</th>\n",
              "      <th>Gender</th>\n",
              "      <th>Bechalor</th>\n",
              "      <th>High School or Below</th>\n",
              "      <th>Master or Above</th>\n",
              "      <th>college</th>\n",
              "    </tr>\n",
              "  </thead>\n",
              "  <tbody>\n",
              "    <tr>\n",
              "      <th>0</th>\n",
              "      <td>1000</td>\n",
              "      <td>30</td>\n",
              "      <td>50</td>\n",
              "      <td>1</td>\n",
              "      <td>1</td>\n",
              "      <td>0</td>\n",
              "      <td>0</td>\n",
              "      <td>0</td>\n",
              "    </tr>\n",
              "    <tr>\n",
              "      <th>1</th>\n",
              "      <td>300</td>\n",
              "      <td>7</td>\n",
              "      <td>35</td>\n",
              "      <td>0</td>\n",
              "      <td>0</td>\n",
              "      <td>0</td>\n",
              "      <td>1</td>\n",
              "      <td>0</td>\n",
              "    </tr>\n",
              "    <tr>\n",
              "      <th>2</th>\n",
              "      <td>1000</td>\n",
              "      <td>30</td>\n",
              "      <td>43</td>\n",
              "      <td>1</td>\n",
              "      <td>0</td>\n",
              "      <td>1</td>\n",
              "      <td>0</td>\n",
              "      <td>0</td>\n",
              "    </tr>\n",
              "    <tr>\n",
              "      <th>3</th>\n",
              "      <td>1000</td>\n",
              "      <td>30</td>\n",
              "      <td>26</td>\n",
              "      <td>0</td>\n",
              "      <td>0</td>\n",
              "      <td>0</td>\n",
              "      <td>0</td>\n",
              "      <td>1</td>\n",
              "    </tr>\n",
              "    <tr>\n",
              "      <th>4</th>\n",
              "      <td>800</td>\n",
              "      <td>15</td>\n",
              "      <td>29</td>\n",
              "      <td>0</td>\n",
              "      <td>1</td>\n",
              "      <td>0</td>\n",
              "      <td>0</td>\n",
              "      <td>0</td>\n",
              "    </tr>\n",
              "  </tbody>\n",
              "</table>\n",
              "</div>"
            ],
            "text/plain": [
              "   Principal  terms  age  ...  High School or Below  Master or Above  college\n",
              "0       1000     30   50  ...                     0                0        0\n",
              "1        300      7   35  ...                     0                1        0\n",
              "2       1000     30   43  ...                     1                0        0\n",
              "3       1000     30   26  ...                     0                0        1\n",
              "4        800     15   29  ...                     0                0        0\n",
              "\n",
              "[5 rows x 8 columns]"
            ]
          },
          "metadata": {
            "tags": []
          },
          "execution_count": 34
        }
      ]
    },
    {
      "cell_type": "code",
      "metadata": {
        "colab": {
          "base_uri": "https://localhost:8080/"
        },
        "id": "Is1GhANagh2Y",
        "outputId": "36f9957b-96cc-4195-efa4-8cd0c0f7ee21"
      },
      "source": [
        "# Creating Test labels\n",
        "Y_TEST = test_df['loan_status'].values\n",
        "Y_TEST[0:5]"
      ],
      "execution_count": 35,
      "outputs": [
        {
          "output_type": "execute_result",
          "data": {
            "text/plain": [
              "array(['PAIDOFF', 'PAIDOFF', 'PAIDOFF', 'PAIDOFF', 'PAIDOFF'],\n",
              "      dtype=object)"
            ]
          },
          "metadata": {
            "tags": []
          },
          "execution_count": 35
        }
      ]
    },
    {
      "cell_type": "code",
      "metadata": {
        "id": "b5jtIQbPL4m_",
        "colab": {
          "base_uri": "https://localhost:8080/"
        },
        "outputId": "2313dc73-03aa-49a3-a34e-cc9c1c7728f3"
      },
      "source": [
        "# Transform: PAIDOFF = 1, COLLECTION = 0.\n",
        "le_loan_sta2 = preprocessing.LabelEncoder()\n",
        "le_loan_sta2.fit(['PAIDOFF','COLLECTION'])\n",
        "Y_TEST = le_loan_sta2.transform(Y_TEST) \n",
        "Y_TEST"
      ],
      "execution_count": 36,
      "outputs": [
        {
          "output_type": "execute_result",
          "data": {
            "text/plain": [
              "array([1, 1, 1, 1, 1, 1, 1, 1, 1, 1, 1, 1, 1, 1, 1, 1, 1, 1, 1, 1, 1, 1,\n",
              "       1, 1, 1, 1, 1, 1, 1, 1, 1, 1, 1, 1, 1, 1, 1, 1, 1, 1, 0, 0, 0, 0,\n",
              "       0, 0, 0, 0, 0, 0, 0, 0, 0, 0])"
            ]
          },
          "metadata": {
            "tags": []
          },
          "execution_count": 36
        }
      ]
    },
    {
      "cell_type": "code",
      "metadata": {
        "id": "qgL96ln1L4nC",
        "colab": {
          "base_uri": "https://localhost:8080/"
        },
        "outputId": "fbbb3d4f-4ade-47c0-9920-558d7428f6c8"
      },
      "source": [
        "# applying normalization\n",
        "X_TEST= preprocessing.StandardScaler().fit(X_TEST).transform(X_TEST)\n",
        "X_TEST[0:5]"
      ],
      "execution_count": 37,
      "outputs": [
        {
          "output_type": "execute_result",
          "data": {
            "text/plain": [
              "array([[ 0.49362588,  0.92844966,  3.05981865,  1.97714211,  2.39791576,\n",
              "        -0.79772404, -0.19611614, -0.86135677],\n",
              "       [-3.56269116, -1.70427745,  0.53336288, -0.50578054, -0.41702883,\n",
              "        -0.79772404,  5.09901951, -0.86135677],\n",
              "       [ 0.49362588,  0.92844966,  1.88080596,  1.97714211, -0.41702883,\n",
              "         1.25356634, -0.19611614, -0.86135677],\n",
              "       [ 0.49362588,  0.92844966, -0.98251057, -0.50578054, -0.41702883,\n",
              "        -0.79772404, -0.19611614,  1.16095912],\n",
              "       [-0.66532184, -0.78854628, -0.47721942, -0.50578054,  2.39791576,\n",
              "        -0.79772404, -0.19611614, -0.86135677]])"
            ]
          },
          "metadata": {
            "tags": []
          },
          "execution_count": 37
        }
      ]
    },
    {
      "cell_type": "markdown",
      "metadata": {
        "id": "Ksmiwghfs0KF"
      },
      "source": [
        "# 11. Calculating Accuracies of All Models"
      ]
    },
    {
      "cell_type": "markdown",
      "metadata": {
        "id": "iyij1jrUtTX6"
      },
      "source": [
        "## K-Nearest Neighbor (KNN) Model Evaluation"
      ]
    },
    {
      "cell_type": "code",
      "metadata": {
        "id": "pd-D0uwOL4nF",
        "colab": {
          "base_uri": "https://localhost:8080/"
        },
        "outputId": "efa1f761-285e-49c3-c403-f54e46b2661b"
      },
      "source": [
        "Y_hat_KNN = neighAlgo.predict(X_TEST)\n",
        "\n",
        "jc1 = metrics.jaccard_score(Y_TEST, Y_hat_KNN)\n",
        "fs1 = metrics.f1_score(Y_TEST, Y_hat_KNN)\n",
        "\n",
        "print('Jaccard index:', jc1)\n",
        "print('F1 score:', fs1)"
      ],
      "execution_count": 38,
      "outputs": [
        {
          "output_type": "stream",
          "text": [
            "Jaccard index: 0.7037037037037037\n",
            "F1 score: 0.8260869565217392\n"
          ],
          "name": "stdout"
        }
      ]
    },
    {
      "cell_type": "markdown",
      "metadata": {
        "id": "OT7UxLw2uyDp"
      },
      "source": [
        "## Dicision Tree Model Evaluation"
      ]
    },
    {
      "cell_type": "code",
      "metadata": {
        "id": "JCceBQVUL4nH",
        "colab": {
          "base_uri": "https://localhost:8080/"
        },
        "outputId": "0f22fe24-746c-4f1c-c2d3-8d80b9e823b6"
      },
      "source": [
        "Y_hat_T = clf_tree.predict(X_TEST)\n",
        "\n",
        "jc2 = metrics.jaccard_score(Y_TEST, Y_hat_T)\n",
        "fs2 = metrics.f1_score(Y_TEST, Y_hat_T)\n",
        "\n",
        "print('Jaccard index:', jc2)\n",
        "print('F1 score:', fs2)"
      ],
      "execution_count": 39,
      "outputs": [
        {
          "output_type": "stream",
          "text": [
            "Jaccard index: 0.66\n",
            "F1 score: 0.7951807228915662\n"
          ],
          "name": "stdout"
        }
      ]
    },
    {
      "cell_type": "markdown",
      "metadata": {
        "id": "aylj2dSivC9-"
      },
      "source": [
        "## Support Vector Machine (SVM) Model Evaluation"
      ]
    },
    {
      "cell_type": "code",
      "metadata": {
        "id": "iSEKMi2QL4nK",
        "colab": {
          "base_uri": "https://localhost:8080/"
        },
        "outputId": "6f2227c8-0c7d-4113-98ec-52272218a6a7"
      },
      "source": [
        "Y_hat_SVM = clf_linear.predict(X_TEST)\n",
        "\n",
        "jc3 = metrics.jaccard_score(Y_TEST, Y_hat_SVM)\n",
        "fs3 = metrics.f1_score(Y_TEST, Y_hat_SVM)\n",
        "\n",
        "print('Jaccard index:', jc3)\n",
        "print('F1 score:', fs3)"
      ],
      "execution_count": 40,
      "outputs": [
        {
          "output_type": "stream",
          "text": [
            "Jaccard index: 0.7407407407407407\n",
            "F1 score: 0.851063829787234\n"
          ],
          "name": "stdout"
        }
      ]
    },
    {
      "cell_type": "markdown",
      "metadata": {
        "id": "SPml5cx4vVNP"
      },
      "source": [
        "## Logistic Regression Model Evaluation "
      ]
    },
    {
      "cell_type": "code",
      "metadata": {
        "colab": {
          "base_uri": "https://localhost:8080/"
        },
        "id": "N7YvvdKFhrmp",
        "outputId": "f7c30c7f-3e17-4140-a70a-affdf14d79c8"
      },
      "source": [
        "y_hat_LR = LR_sag.predict(X_TEST)\n",
        "\n",
        "jc4 = metrics.jaccard_score(Y_TEST, y_hat_LR)\n",
        "fs4 = metrics.f1_score(Y_TEST, y_hat_LR)\n",
        "\n",
        "print('Jaccard index:', jc4)\n",
        "print('F1 score:', fs4)"
      ],
      "execution_count": 41,
      "outputs": [
        {
          "output_type": "stream",
          "text": [
            "Jaccard index: 0.7407407407407407\n",
            "F1 score: 0.851063829787234\n"
          ],
          "name": "stdout"
        }
      ]
    },
    {
      "cell_type": "markdown",
      "metadata": {
        "id": "9o-ihUOWL4nQ"
      },
      "source": [
        "# 12. **Result and Conclusion**:\n",
        "The accuracy of the built model using different evaluation metrics:"
      ]
    },
    {
      "cell_type": "code",
      "metadata": {
        "id": "SAjJ8U2paomp",
        "colab": {
          "base_uri": "https://localhost:8080/",
          "height": 173
        },
        "outputId": "47be832a-2f93-42dc-84a5-b30620feca3e"
      },
      "source": [
        "list_jc = [jc1, jc2, jc3, jc4]\n",
        "list_fs = [fs1, fs2, fs3, fs4]\n",
        "\n",
        "# fomulate the report format\n",
        "df = pd.DataFrame(list_jc, index=['KNN','Decision Tree','SVM','Logistic Regression'])\n",
        "df.columns = ['Jaccard Index']\n",
        "df.insert(loc=1, column='F1-score', value=list_fs)\n",
        "df.columns.name = 'Algorithm'\n",
        "df"
      ],
      "execution_count": 42,
      "outputs": [
        {
          "output_type": "execute_result",
          "data": {
            "text/html": [
              "<div>\n",
              "<style scoped>\n",
              "    .dataframe tbody tr th:only-of-type {\n",
              "        vertical-align: middle;\n",
              "    }\n",
              "\n",
              "    .dataframe tbody tr th {\n",
              "        vertical-align: top;\n",
              "    }\n",
              "\n",
              "    .dataframe thead th {\n",
              "        text-align: right;\n",
              "    }\n",
              "</style>\n",
              "<table border=\"1\" class=\"dataframe\">\n",
              "  <thead>\n",
              "    <tr style=\"text-align: right;\">\n",
              "      <th>Algorithm</th>\n",
              "      <th>Jaccard Index</th>\n",
              "      <th>F1-score</th>\n",
              "    </tr>\n",
              "  </thead>\n",
              "  <tbody>\n",
              "    <tr>\n",
              "      <th>KNN</th>\n",
              "      <td>0.703704</td>\n",
              "      <td>0.826087</td>\n",
              "    </tr>\n",
              "    <tr>\n",
              "      <th>Decision Tree</th>\n",
              "      <td>0.660000</td>\n",
              "      <td>0.795181</td>\n",
              "    </tr>\n",
              "    <tr>\n",
              "      <th>SVM</th>\n",
              "      <td>0.740741</td>\n",
              "      <td>0.851064</td>\n",
              "    </tr>\n",
              "    <tr>\n",
              "      <th>Logistic Regression</th>\n",
              "      <td>0.740741</td>\n",
              "      <td>0.851064</td>\n",
              "    </tr>\n",
              "  </tbody>\n",
              "</table>\n",
              "</div>"
            ],
            "text/plain": [
              "Algorithm            Jaccard Index  F1-score\n",
              "KNN                       0.703704  0.826087\n",
              "Decision Tree             0.660000  0.795181\n",
              "SVM                       0.740741  0.851064\n",
              "Logistic Regression       0.740741  0.851064"
            ]
          },
          "metadata": {
            "tags": []
          },
          "execution_count": 42
        }
      ]
    },
    {
      "cell_type": "markdown",
      "metadata": {
        "id": "Va38Ck08xq3a"
      },
      "source": [
        "### We can conclude here that for the data set of Loan case, **Support Vector Machine and Logistic Regression** classifiers are no doubt the winners here as both gives the same Accuracy. So any one of them can be used for classification of this kind of use case.\n",
        " "
      ]
    },
    {
      "cell_type": "code",
      "metadata": {
        "id": "DH6e6Hb2iFj1"
      },
      "source": [
        ""
      ],
      "execution_count": 42,
      "outputs": []
    }
  ]
}