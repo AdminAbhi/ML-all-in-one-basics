{
  "nbformat": 4,
  "nbformat_minor": 0,
  "metadata": {
    "kernelspec": {
      "display_name": "Python 3.6",
      "language": "python",
      "name": "python3"
    },
    "language_info": {
      "codemirror_mode": {
        "name": "ipython",
        "version": 3
      },
      "file_extension": ".py",
      "mimetype": "text/x-python",
      "name": "python",
      "nbconvert_exporter": "python",
      "pygments_lexer": "ipython3",
      "version": "3.6.9"
    },
    "colab": {
      "name": "ML-with-Python.ipynb",
      "provenance": []
    }
  },
  "cells": [
    {
      "cell_type": "markdown",
      "metadata": {
        "button": false,
        "new_sheet": false,
        "run_control": {
          "read_only": false
        },
        "id": "mvo-27zFL4kw",
        "colab_type": "text"
      },
      "source": [
        "<h1 align=\"center\"><font size=\"5\">Classification with Python</font></h1>"
      ]
    },
    {
      "cell_type": "markdown",
      "metadata": {
        "button": false,
        "new_sheet": false,
        "run_control": {
          "read_only": false
        },
        "id": "tZhyxwuZL4kx",
        "colab_type": "text"
      },
      "source": [
        "We load a dataset using Pandas library, and apply the following algorithms, and find the best one for this specific dataset by accuracy evaluation methods.\n",
        "\n",
        "Lets first load required libraries:"
      ]
    },
    {
      "cell_type": "code",
      "metadata": {
        "button": false,
        "new_sheet": false,
        "run_control": {
          "read_only": false
        },
        "id": "VDPlTMyNL4kx",
        "colab_type": "code",
        "colab": {}
      },
      "source": [
        "import itertools\n",
        "import numpy as np\n",
        "import matplotlib.pyplot as plt\n",
        "from matplotlib.ticker import NullFormatter\n",
        "import pandas as pd\n",
        "import numpy as np\n",
        "import matplotlib.ticker as ticker\n",
        "from sklearn import preprocessing\n",
        "%matplotlib inline"
      ],
      "execution_count": 1,
      "outputs": []
    },
    {
      "cell_type": "markdown",
      "metadata": {
        "button": false,
        "new_sheet": false,
        "run_control": {
          "read_only": false
        },
        "id": "bMVW5Q4QL4k1",
        "colab_type": "text"
      },
      "source": [
        "### About dataset"
      ]
    },
    {
      "cell_type": "markdown",
      "metadata": {
        "button": false,
        "new_sheet": false,
        "run_control": {
          "read_only": false
        },
        "id": "jJIrmbrZL4k2",
        "colab_type": "text"
      },
      "source": [
        "This dataset is about past loans. The __Loan_train.csv__ data set includes details of 346 customers whose loan are already paid off or defaulted. It includes following fields:\n",
        "\n",
        "| Field          | Description                                                                           |\n",
        "|----------------|---------------------------------------------------------------------------------------|\n",
        "| Loan_status    | Whether a loan is paid off on in collection                                           |\n",
        "| Principal      | Basic principal loan amount at the                                                    |\n",
        "| Terms          | Origination terms which can be weekly (7 days), biweekly, and monthly payoff schedule |\n",
        "| Effective_date | When the loan got originated and took effects                                         |\n",
        "| Due_date       | Since it’s one-time payoff schedule, each loan has one single due date                |\n",
        "| Age            | Age of applicant                                                                      |\n",
        "| Education      | Education of applicant                                                                |\n",
        "| Gender         | The gender of applicant                                                               |"
      ]
    },
    {
      "cell_type": "markdown",
      "metadata": {
        "button": false,
        "new_sheet": false,
        "run_control": {
          "read_only": false
        },
        "id": "Fm2IqYyAL4k3",
        "colab_type": "text"
      },
      "source": [
        "Lets download the dataset"
      ]
    },
    {
      "cell_type": "code",
      "metadata": {
        "button": false,
        "new_sheet": false,
        "run_control": {
          "read_only": false
        },
        "id": "UpcUCcvmL4k4",
        "colab_type": "code",
        "colab": {
          "base_uri": "https://localhost:8080/",
          "height": 224
        },
        "outputId": "d28a7714-a242-4698-c9d0-873f7e9b0328"
      },
      "source": [
        "!wget -O loan_train.csv https://s3-api.us-geo.objectstorage.softlayer.net/cf-courses-data/CognitiveClass/ML0101ENv3/labs/loan_train.csv"
      ],
      "execution_count": 2,
      "outputs": [
        {
          "output_type": "stream",
          "text": [
            "--2020-07-28 11:52:10--  https://s3-api.us-geo.objectstorage.softlayer.net/cf-courses-data/CognitiveClass/ML0101ENv3/labs/loan_train.csv\n",
            "Resolving s3-api.us-geo.objectstorage.softlayer.net (s3-api.us-geo.objectstorage.softlayer.net)... 67.228.254.196\n",
            "Connecting to s3-api.us-geo.objectstorage.softlayer.net (s3-api.us-geo.objectstorage.softlayer.net)|67.228.254.196|:443... connected.\n",
            "HTTP request sent, awaiting response... 200 OK\n",
            "Length: 23101 (23K) [text/csv]\n",
            "Saving to: ‘loan_train.csv’\n",
            "\n",
            "\rloan_train.csv        0%[                    ]       0  --.-KB/s               \rloan_train.csv      100%[===================>]  22.56K  --.-KB/s    in 0.01s   \n",
            "\n",
            "2020-07-28 11:52:10 (1.75 MB/s) - ‘loan_train.csv’ saved [23101/23101]\n",
            "\n"
          ],
          "name": "stdout"
        }
      ]
    },
    {
      "cell_type": "markdown",
      "metadata": {
        "button": false,
        "new_sheet": false,
        "run_control": {
          "read_only": false
        },
        "id": "VNPbQRFzL4k8",
        "colab_type": "text"
      },
      "source": [
        "### Load Data From CSV File  "
      ]
    },
    {
      "cell_type": "code",
      "metadata": {
        "button": false,
        "new_sheet": false,
        "run_control": {
          "read_only": false
        },
        "id": "klIcmu0eL4k9",
        "colab_type": "code",
        "colab": {
          "base_uri": "https://localhost:8080/",
          "height": 258
        },
        "outputId": "bf4bbd24-bd73-4676-cad6-9454dd05bce7"
      },
      "source": [
        "df = pd.read_csv('loan_train.csv')\n",
        "df.head()"
      ],
      "execution_count": 3,
      "outputs": [
        {
          "output_type": "execute_result",
          "data": {
            "text/html": [
              "<div>\n",
              "<style scoped>\n",
              "    .dataframe tbody tr th:only-of-type {\n",
              "        vertical-align: middle;\n",
              "    }\n",
              "\n",
              "    .dataframe tbody tr th {\n",
              "        vertical-align: top;\n",
              "    }\n",
              "\n",
              "    .dataframe thead th {\n",
              "        text-align: right;\n",
              "    }\n",
              "</style>\n",
              "<table border=\"1\" class=\"dataframe\">\n",
              "  <thead>\n",
              "    <tr style=\"text-align: right;\">\n",
              "      <th></th>\n",
              "      <th>Unnamed: 0</th>\n",
              "      <th>Unnamed: 0.1</th>\n",
              "      <th>loan_status</th>\n",
              "      <th>Principal</th>\n",
              "      <th>terms</th>\n",
              "      <th>effective_date</th>\n",
              "      <th>due_date</th>\n",
              "      <th>age</th>\n",
              "      <th>education</th>\n",
              "      <th>Gender</th>\n",
              "    </tr>\n",
              "  </thead>\n",
              "  <tbody>\n",
              "    <tr>\n",
              "      <th>0</th>\n",
              "      <td>0</td>\n",
              "      <td>0</td>\n",
              "      <td>PAIDOFF</td>\n",
              "      <td>1000</td>\n",
              "      <td>30</td>\n",
              "      <td>9/8/2016</td>\n",
              "      <td>10/7/2016</td>\n",
              "      <td>45</td>\n",
              "      <td>High School or Below</td>\n",
              "      <td>male</td>\n",
              "    </tr>\n",
              "    <tr>\n",
              "      <th>1</th>\n",
              "      <td>2</td>\n",
              "      <td>2</td>\n",
              "      <td>PAIDOFF</td>\n",
              "      <td>1000</td>\n",
              "      <td>30</td>\n",
              "      <td>9/8/2016</td>\n",
              "      <td>10/7/2016</td>\n",
              "      <td>33</td>\n",
              "      <td>Bechalor</td>\n",
              "      <td>female</td>\n",
              "    </tr>\n",
              "    <tr>\n",
              "      <th>2</th>\n",
              "      <td>3</td>\n",
              "      <td>3</td>\n",
              "      <td>PAIDOFF</td>\n",
              "      <td>1000</td>\n",
              "      <td>15</td>\n",
              "      <td>9/8/2016</td>\n",
              "      <td>9/22/2016</td>\n",
              "      <td>27</td>\n",
              "      <td>college</td>\n",
              "      <td>male</td>\n",
              "    </tr>\n",
              "    <tr>\n",
              "      <th>3</th>\n",
              "      <td>4</td>\n",
              "      <td>4</td>\n",
              "      <td>PAIDOFF</td>\n",
              "      <td>1000</td>\n",
              "      <td>30</td>\n",
              "      <td>9/9/2016</td>\n",
              "      <td>10/8/2016</td>\n",
              "      <td>28</td>\n",
              "      <td>college</td>\n",
              "      <td>female</td>\n",
              "    </tr>\n",
              "    <tr>\n",
              "      <th>4</th>\n",
              "      <td>6</td>\n",
              "      <td>6</td>\n",
              "      <td>PAIDOFF</td>\n",
              "      <td>1000</td>\n",
              "      <td>30</td>\n",
              "      <td>9/9/2016</td>\n",
              "      <td>10/8/2016</td>\n",
              "      <td>29</td>\n",
              "      <td>college</td>\n",
              "      <td>male</td>\n",
              "    </tr>\n",
              "  </tbody>\n",
              "</table>\n",
              "</div>"
            ],
            "text/plain": [
              "   Unnamed: 0  Unnamed: 0.1 loan_status  ...  age             education  Gender\n",
              "0           0             0     PAIDOFF  ...   45  High School or Below    male\n",
              "1           2             2     PAIDOFF  ...   33              Bechalor  female\n",
              "2           3             3     PAIDOFF  ...   27               college    male\n",
              "3           4             4     PAIDOFF  ...   28               college  female\n",
              "4           6             6     PAIDOFF  ...   29               college    male\n",
              "\n",
              "[5 rows x 10 columns]"
            ]
          },
          "metadata": {
            "tags": []
          },
          "execution_count": 3
        }
      ]
    },
    {
      "cell_type": "code",
      "metadata": {
        "id": "Q3VYQEI6L4lB",
        "colab_type": "code",
        "colab": {
          "base_uri": "https://localhost:8080/",
          "height": 34
        },
        "outputId": "2397cba8-f6a4-4add-ed20-035935465959"
      },
      "source": [
        "df.shape"
      ],
      "execution_count": 4,
      "outputs": [
        {
          "output_type": "execute_result",
          "data": {
            "text/plain": [
              "(346, 10)"
            ]
          },
          "metadata": {
            "tags": []
          },
          "execution_count": 4
        }
      ]
    },
    {
      "cell_type": "markdown",
      "metadata": {
        "button": false,
        "new_sheet": false,
        "run_control": {
          "read_only": false
        },
        "id": "u3zYUhrWL4lE",
        "colab_type": "text"
      },
      "source": [
        "### Convert to date time object "
      ]
    },
    {
      "cell_type": "code",
      "metadata": {
        "button": false,
        "new_sheet": false,
        "run_control": {
          "read_only": false
        },
        "id": "tLsF5-qhL4lF",
        "colab_type": "code",
        "colab": {
          "base_uri": "https://localhost:8080/",
          "height": 326
        },
        "outputId": "4f1adf10-a16d-4914-bfe9-eb0f4f16eab6"
      },
      "source": [
        "df['due_date'] = pd.to_datetime(df['due_date'])\n",
        "df['effective_date'] = pd.to_datetime(df['effective_date'])\n",
        "df.head()"
      ],
      "execution_count": 5,
      "outputs": [
        {
          "output_type": "execute_result",
          "data": {
            "text/html": [
              "<div>\n",
              "<style scoped>\n",
              "    .dataframe tbody tr th:only-of-type {\n",
              "        vertical-align: middle;\n",
              "    }\n",
              "\n",
              "    .dataframe tbody tr th {\n",
              "        vertical-align: top;\n",
              "    }\n",
              "\n",
              "    .dataframe thead th {\n",
              "        text-align: right;\n",
              "    }\n",
              "</style>\n",
              "<table border=\"1\" class=\"dataframe\">\n",
              "  <thead>\n",
              "    <tr style=\"text-align: right;\">\n",
              "      <th></th>\n",
              "      <th>Unnamed: 0</th>\n",
              "      <th>Unnamed: 0.1</th>\n",
              "      <th>loan_status</th>\n",
              "      <th>Principal</th>\n",
              "      <th>terms</th>\n",
              "      <th>effective_date</th>\n",
              "      <th>due_date</th>\n",
              "      <th>age</th>\n",
              "      <th>education</th>\n",
              "      <th>Gender</th>\n",
              "    </tr>\n",
              "  </thead>\n",
              "  <tbody>\n",
              "    <tr>\n",
              "      <th>0</th>\n",
              "      <td>0</td>\n",
              "      <td>0</td>\n",
              "      <td>PAIDOFF</td>\n",
              "      <td>1000</td>\n",
              "      <td>30</td>\n",
              "      <td>2016-09-08</td>\n",
              "      <td>2016-10-07</td>\n",
              "      <td>45</td>\n",
              "      <td>High School or Below</td>\n",
              "      <td>male</td>\n",
              "    </tr>\n",
              "    <tr>\n",
              "      <th>1</th>\n",
              "      <td>2</td>\n",
              "      <td>2</td>\n",
              "      <td>PAIDOFF</td>\n",
              "      <td>1000</td>\n",
              "      <td>30</td>\n",
              "      <td>2016-09-08</td>\n",
              "      <td>2016-10-07</td>\n",
              "      <td>33</td>\n",
              "      <td>Bechalor</td>\n",
              "      <td>female</td>\n",
              "    </tr>\n",
              "    <tr>\n",
              "      <th>2</th>\n",
              "      <td>3</td>\n",
              "      <td>3</td>\n",
              "      <td>PAIDOFF</td>\n",
              "      <td>1000</td>\n",
              "      <td>15</td>\n",
              "      <td>2016-09-08</td>\n",
              "      <td>2016-09-22</td>\n",
              "      <td>27</td>\n",
              "      <td>college</td>\n",
              "      <td>male</td>\n",
              "    </tr>\n",
              "    <tr>\n",
              "      <th>3</th>\n",
              "      <td>4</td>\n",
              "      <td>4</td>\n",
              "      <td>PAIDOFF</td>\n",
              "      <td>1000</td>\n",
              "      <td>30</td>\n",
              "      <td>2016-09-09</td>\n",
              "      <td>2016-10-08</td>\n",
              "      <td>28</td>\n",
              "      <td>college</td>\n",
              "      <td>female</td>\n",
              "    </tr>\n",
              "    <tr>\n",
              "      <th>4</th>\n",
              "      <td>6</td>\n",
              "      <td>6</td>\n",
              "      <td>PAIDOFF</td>\n",
              "      <td>1000</td>\n",
              "      <td>30</td>\n",
              "      <td>2016-09-09</td>\n",
              "      <td>2016-10-08</td>\n",
              "      <td>29</td>\n",
              "      <td>college</td>\n",
              "      <td>male</td>\n",
              "    </tr>\n",
              "  </tbody>\n",
              "</table>\n",
              "</div>"
            ],
            "text/plain": [
              "   Unnamed: 0  Unnamed: 0.1 loan_status  ...  age             education  Gender\n",
              "0           0             0     PAIDOFF  ...   45  High School or Below    male\n",
              "1           2             2     PAIDOFF  ...   33              Bechalor  female\n",
              "2           3             3     PAIDOFF  ...   27               college    male\n",
              "3           4             4     PAIDOFF  ...   28               college  female\n",
              "4           6             6     PAIDOFF  ...   29               college    male\n",
              "\n",
              "[5 rows x 10 columns]"
            ]
          },
          "metadata": {
            "tags": []
          },
          "execution_count": 5
        }
      ]
    },
    {
      "cell_type": "markdown",
      "metadata": {
        "button": false,
        "new_sheet": false,
        "run_control": {
          "read_only": false
        },
        "id": "-4DGdgl7L4lJ",
        "colab_type": "text"
      },
      "source": [
        "# Data visualization and pre-processing\n",
        "\n"
      ]
    },
    {
      "cell_type": "markdown",
      "metadata": {
        "button": false,
        "new_sheet": false,
        "run_control": {
          "read_only": false
        },
        "id": "RaLJ16gPL4lK",
        "colab_type": "text"
      },
      "source": [
        "Let’s see how many of each class is in our data set "
      ]
    },
    {
      "cell_type": "code",
      "metadata": {
        "button": false,
        "new_sheet": false,
        "run_control": {
          "read_only": false
        },
        "id": "ig-tstFKL4lK",
        "colab_type": "code",
        "colab": {
          "base_uri": "https://localhost:8080/",
          "height": 68
        },
        "outputId": "93e7dc3e-022c-4f52-8b97-b3181628506d"
      },
      "source": [
        "df['loan_status'].value_counts()"
      ],
      "execution_count": 6,
      "outputs": [
        {
          "output_type": "execute_result",
          "data": {
            "text/plain": [
              "PAIDOFF       260\n",
              "COLLECTION     86\n",
              "Name: loan_status, dtype: int64"
            ]
          },
          "metadata": {
            "tags": []
          },
          "execution_count": 6
        }
      ]
    },
    {
      "cell_type": "markdown",
      "metadata": {
        "button": false,
        "new_sheet": false,
        "run_control": {
          "read_only": false
        },
        "id": "0ZGfNnn6L4lO",
        "colab_type": "text"
      },
      "source": [
        "260 people have paid off the loan on time while 86 have gone into collection \n"
      ]
    },
    {
      "cell_type": "markdown",
      "metadata": {
        "id": "x67JmGL3L4lP",
        "colab_type": "text"
      },
      "source": [
        "Lets plot some columns to underestand data better:"
      ]
    },
    {
      "cell_type": "code",
      "metadata": {
        "id": "JfreN6TcL4lP",
        "colab_type": "code",
        "colab": {}
      },
      "source": [
        "# notice: installing seaborn might takes a few minutes\n",
        "# Uncomment below line if you system dont't have seaborn\n",
        "# !conda install -c anaconda seaborn -y"
      ],
      "execution_count": 8,
      "outputs": []
    },
    {
      "cell_type": "code",
      "metadata": {
        "id": "UGErDZz-L4lS",
        "colab_type": "code",
        "colab": {
          "base_uri": "https://localhost:8080/",
          "height": 279
        },
        "outputId": "f376698a-c582-4401-b9a1-e8dbbf4fabfc"
      },
      "source": [
        "import seaborn as sns\n",
        "\n",
        "bins = np.linspace(df.Principal.min(), df.Principal.max(), 10)\n",
        "g = sns.FacetGrid(df, col=\"Gender\", hue=\"loan_status\", palette=\"Set1\", col_wrap=2)\n",
        "g.map(plt.hist, 'Principal', bins=bins, ec=\"k\")\n",
        "\n",
        "g.axes[-1].legend()\n",
        "plt.show()"
      ],
      "execution_count": 9,
      "outputs": [
        {
          "output_type": "stream",
          "text": [
            "/usr/local/lib/python3.6/dist-packages/statsmodels/tools/_testing.py:19: FutureWarning: pandas.util.testing is deprecated. Use the functions in the public API at pandas.testing instead.\n",
            "  import pandas.util.testing as tm\n"
          ],
          "name": "stderr"
        },
        {
          "output_type": "display_data",
          "data": {
            "image/png": "[encoded data removed]",
            "text/plain": [
              "<Figure size 432x216 with 2 Axes>"
            ]
          },
          "metadata": {
            "tags": [],
            "needs_background": "light"
          }
        }
      ]
    },
    {
      "cell_type": "code",
      "metadata": {
        "button": false,
        "new_sheet": false,
        "run_control": {
          "read_only": false
        },
        "id": "sP2vqOmfL4lW",
        "colab_type": "code",
        "colab": {
          "base_uri": "https://localhost:8080/",
          "height": 225
        },
        "outputId": "e670fc1d-295d-403c-8e11-cf9f2a0d516f"
      },
      "source": [
        "bins = np.linspace(df.age.min(), df.age.max(), 10)\n",
        "g = sns.FacetGrid(df, col=\"Gender\", hue=\"loan_status\", palette=\"Set1\", col_wrap=2)\n",
        "g.map(plt.hist, 'age', bins=bins, ec=\"k\")\n",
        "\n",
        "g.axes[-1].legend()\n",
        "plt.show()"
      ],
      "execution_count": 10,
      "outputs": [
        {
          "output_type": "display_data",
          "data": {
            "image/png": "[encoded data removed]",
            "text/plain": [
              "<Figure size 432x216 with 2 Axes>"
            ]
          },
          "metadata": {
            "tags": [],
            "needs_background": "light"
          }
        }
      ]
    },
    {
      "cell_type": "markdown",
      "metadata": {
        "button": false,
        "new_sheet": false,
        "run_control": {
          "read_only": false
        },
        "id": "SGsYGgn0L4la",
        "colab_type": "text"
      },
      "source": [
        "# Pre-processing:  Feature selection/extraction"
      ]
    },
    {
      "cell_type": "markdown",
      "metadata": {
        "button": false,
        "new_sheet": false,
        "run_control": {
          "read_only": false
        },
        "id": "zSz2qiAbL4lb",
        "colab_type": "text"
      },
      "source": [
        "### Lets look at the day of the week people get the loan "
      ]
    },
    {
      "cell_type": "code",
      "metadata": {
        "button": false,
        "new_sheet": false,
        "run_control": {
          "read_only": false
        },
        "id": "upaV0aa_L4lc",
        "colab_type": "code",
        "colab": {
          "base_uri": "https://localhost:8080/",
          "height": 225
        },
        "outputId": "899200fb-3141-40ee-9cea-697f90e010be"
      },
      "source": [
        "df['dayofweek'] = df['effective_date'].dt.dayofweek\n",
        "bins = np.linspace(df.dayofweek.min(), df.dayofweek.max(), 10)\n",
        "g = sns.FacetGrid(df, col=\"Gender\", hue=\"loan_status\", palette=\"Set1\", col_wrap=2)\n",
        "g.map(plt.hist, 'dayofweek', bins=bins, ec=\"k\")\n",
        "g.axes[-1].legend()\n",
        "plt.show()\n"
      ],
      "execution_count": 11,
      "outputs": [
        {
          "output_type": "display_data",
          "data": {
            "image/png": "[encoded data removed]",
            "text/plain": [
              "<Figure size 432x216 with 2 Axes>"
            ]
          },
          "metadata": {
            "tags": [],
            "needs_background": "light"
          }
        }
      ]
    },
    {
      "cell_type": "markdown",
      "metadata": {
        "button": false,
        "new_sheet": false,
        "run_control": {
          "read_only": false
        },
        "id": "f1p3IqVML4lf",
        "colab_type": "text"
      },
      "source": [
        "We see that people who get the loan at the end of the week dont pay it off, so lets use Feature binarization to set a threshold values less then day 4 "
      ]
    },
    {
      "cell_type": "code",
      "metadata": {
        "button": false,
        "new_sheet": false,
        "run_control": {
          "read_only": false
        },
        "id": "H_4nBrjvL4lg",
        "colab_type": "code",
        "colab": {
          "base_uri": "https://localhost:8080/",
          "height": 326
        },
        "outputId": "5f85bbdc-6e08-40f4-c4be-aa8180795ba9"
      },
      "source": [
        "df['weekend'] = df['dayofweek'].apply(lambda x: 1 if (x>3)  else 0)\n",
        "df.head()"
      ],
      "execution_count": 12,
      "outputs": [
        {
          "output_type": "execute_result",
          "data": {
            "text/html": [
              "<div>\n",
              "<style scoped>\n",
              "    .dataframe tbody tr th:only-of-type {\n",
              "        vertical-align: middle;\n",
              "    }\n",
              "\n",
              "    .dataframe tbody tr th {\n",
              "        vertical-align: top;\n",
              "    }\n",
              "\n",
              "    .dataframe thead th {\n",
              "        text-align: right;\n",
              "    }\n",
              "</style>\n",
              "<table border=\"1\" class=\"dataframe\">\n",
              "  <thead>\n",
              "    <tr style=\"text-align: right;\">\n",
              "      <th></th>\n",
              "      <th>Unnamed: 0</th>\n",
              "      <th>Unnamed: 0.1</th>\n",
              "      <th>loan_status</th>\n",
              "      <th>Principal</th>\n",
              "      <th>terms</th>\n",
              "      <th>effective_date</th>\n",
              "      <th>due_date</th>\n",
              "      <th>age</th>\n",
              "      <th>education</th>\n",
              "      <th>Gender</th>\n",
              "      <th>dayofweek</th>\n",
              "      <th>weekend</th>\n",
              "    </tr>\n",
              "  </thead>\n",
              "  <tbody>\n",
              "    <tr>\n",
              "      <th>0</th>\n",
              "      <td>0</td>\n",
              "      <td>0</td>\n",
              "      <td>PAIDOFF</td>\n",
              "      <td>1000</td>\n",
              "      <td>30</td>\n",
              "      <td>2016-09-08</td>\n",
              "      <td>2016-10-07</td>\n",
              "      <td>45</td>\n",
              "      <td>High School or Below</td>\n",
              "      <td>male</td>\n",
              "      <td>3</td>\n",
              "      <td>0</td>\n",
              "    </tr>\n",
              "    <tr>\n",
              "      <th>1</th>\n",
              "      <td>2</td>\n",
              "      <td>2</td>\n",
              "      <td>PAIDOFF</td>\n",
              "      <td>1000</td>\n",
              "      <td>30</td>\n",
              "      <td>2016-09-08</td>\n",
              "      <td>2016-10-07</td>\n",
              "      <td>33</td>\n",
              "      <td>Bechalor</td>\n",
              "      <td>female</td>\n",
              "      <td>3</td>\n",
              "      <td>0</td>\n",
              "    </tr>\n",
              "    <tr>\n",
              "      <th>2</th>\n",
              "      <td>3</td>\n",
              "      <td>3</td>\n",
              "      <td>PAIDOFF</td>\n",
              "      <td>1000</td>\n",
              "      <td>15</td>\n",
              "      <td>2016-09-08</td>\n",
              "      <td>2016-09-22</td>\n",
              "      <td>27</td>\n",
              "      <td>college</td>\n",
              "      <td>male</td>\n",
              "      <td>3</td>\n",
              "      <td>0</td>\n",
              "    </tr>\n",
              "    <tr>\n",
              "      <th>3</th>\n",
              "      <td>4</td>\n",
              "      <td>4</td>\n",
              "      <td>PAIDOFF</td>\n",
              "      <td>1000</td>\n",
              "      <td>30</td>\n",
              "      <td>2016-09-09</td>\n",
              "      <td>2016-10-08</td>\n",
              "      <td>28</td>\n",
              "      <td>college</td>\n",
              "      <td>female</td>\n",
              "      <td>4</td>\n",
              "      <td>1</td>\n",
              "    </tr>\n",
              "    <tr>\n",
              "      <th>4</th>\n",
              "      <td>6</td>\n",
              "      <td>6</td>\n",
              "      <td>PAIDOFF</td>\n",
              "      <td>1000</td>\n",
              "      <td>30</td>\n",
              "      <td>2016-09-09</td>\n",
              "      <td>2016-10-08</td>\n",
              "      <td>29</td>\n",
              "      <td>college</td>\n",
              "      <td>male</td>\n",
              "      <td>4</td>\n",
              "      <td>1</td>\n",
              "    </tr>\n",
              "  </tbody>\n",
              "</table>\n",
              "</div>"
            ],
            "text/plain": [
              "   Unnamed: 0  Unnamed: 0.1 loan_status  ...  Gender  dayofweek weekend\n",
              "0           0             0     PAIDOFF  ...    male          3       0\n",
              "1           2             2     PAIDOFF  ...  female          3       0\n",
              "2           3             3     PAIDOFF  ...    male          3       0\n",
              "3           4             4     PAIDOFF  ...  female          4       1\n",
              "4           6             6     PAIDOFF  ...    male          4       1\n",
              "\n",
              "[5 rows x 12 columns]"
            ]
          },
          "metadata": {
            "tags": []
          },
          "execution_count": 12
        }
      ]
    },
    {
      "cell_type": "markdown",
      "metadata": {
        "button": false,
        "new_sheet": false,
        "run_control": {
          "read_only": false
        },
        "id": "mPNn-4zIL4lj",
        "colab_type": "text"
      },
      "source": [
        "## Convert Categorical features to numerical values"
      ]
    },
    {
      "cell_type": "markdown",
      "metadata": {
        "button": false,
        "new_sheet": false,
        "run_control": {
          "read_only": false
        },
        "id": "xkWjr574L4lj",
        "colab_type": "text"
      },
      "source": [
        "Lets look at gender:"
      ]
    },
    {
      "cell_type": "code",
      "metadata": {
        "button": false,
        "new_sheet": false,
        "run_control": {
          "read_only": false
        },
        "id": "aZoR51D9L4lk",
        "colab_type": "code",
        "colab": {
          "base_uri": "https://localhost:8080/",
          "height": 119
        },
        "outputId": "9c27fc48-a041-4c79-d73f-4ec19a2f5e38"
      },
      "source": [
        "df.groupby(['Gender'])['loan_status'].value_counts(normalize=True)"
      ],
      "execution_count": 13,
      "outputs": [
        {
          "output_type": "execute_result",
          "data": {
            "text/plain": [
              "Gender  loan_status\n",
              "female  PAIDOFF        0.865385\n",
              "        COLLECTION     0.134615\n",
              "male    PAIDOFF        0.731293\n",
              "        COLLECTION     0.268707\n",
              "Name: loan_status, dtype: float64"
            ]
          },
          "metadata": {
            "tags": []
          },
          "execution_count": 13
        }
      ]
    },
    {
      "cell_type": "markdown",
      "metadata": {
        "button": false,
        "new_sheet": false,
        "run_control": {
          "read_only": false
        },
        "id": "KK9IsSfrL4ln",
        "colab_type": "text"
      },
      "source": [
        "86 % of female pay there loans while only 73 % of males pay there loan\n"
      ]
    },
    {
      "cell_type": "markdown",
      "metadata": {
        "button": false,
        "new_sheet": false,
        "run_control": {
          "read_only": false
        },
        "id": "mQtWpUA-L4lo",
        "colab_type": "text"
      },
      "source": [
        "Lets convert male to 0 and female to 1:\n"
      ]
    },
    {
      "cell_type": "code",
      "metadata": {
        "button": false,
        "new_sheet": false,
        "run_control": {
          "read_only": false
        },
        "id": "z5GBuNIrL4lo",
        "colab_type": "code",
        "colab": {
          "base_uri": "https://localhost:8080/",
          "height": 326
        },
        "outputId": "948c9410-339c-4128-a2ae-170f132de031"
      },
      "source": [
        "df['Gender'].replace(to_replace=['male','female'], value=[0,1],inplace=True)\n",
        "df.head()"
      ],
      "execution_count": 14,
      "outputs": [
        {
          "output_type": "execute_result",
          "data": {
            "text/html": [
              "<div>\n",
              "<style scoped>\n",
              "    .dataframe tbody tr th:only-of-type {\n",
              "        vertical-align: middle;\n",
              "    }\n",
              "\n",
              "    .dataframe tbody tr th {\n",
              "        vertical-align: top;\n",
              "    }\n",
              "\n",
              "    .dataframe thead th {\n",
              "        text-align: right;\n",
              "    }\n",
              "</style>\n",
              "<table border=\"1\" class=\"dataframe\">\n",
              "  <thead>\n",
              "    <tr style=\"text-align: right;\">\n",
              "      <th></th>\n",
              "      <th>Unnamed: 0</th>\n",
              "      <th>Unnamed: 0.1</th>\n",
              "      <th>loan_status</th>\n",
              "      <th>Principal</th>\n",
              "      <th>terms</th>\n",
              "      <th>effective_date</th>\n",
              "      <th>due_date</th>\n",
              "      <th>age</th>\n",
              "      <th>education</th>\n",
              "      <th>Gender</th>\n",
              "      <th>dayofweek</th>\n",
              "      <th>weekend</th>\n",
              "    </tr>\n",
              "  </thead>\n",
              "  <tbody>\n",
              "    <tr>\n",
              "      <th>0</th>\n",
              "      <td>0</td>\n",
              "      <td>0</td>\n",
              "      <td>PAIDOFF</td>\n",
              "      <td>1000</td>\n",
              "      <td>30</td>\n",
              "      <td>2016-09-08</td>\n",
              "      <td>2016-10-07</td>\n",
              "      <td>45</td>\n",
              "      <td>High School or Below</td>\n",
              "      <td>0</td>\n",
              "      <td>3</td>\n",
              "      <td>0</td>\n",
              "    </tr>\n",
              "    <tr>\n",
              "      <th>1</th>\n",
              "      <td>2</td>\n",
              "      <td>2</td>\n",
              "      <td>PAIDOFF</td>\n",
              "      <td>1000</td>\n",
              "      <td>30</td>\n",
              "      <td>2016-09-08</td>\n",
              "      <td>2016-10-07</td>\n",
              "      <td>33</td>\n",
              "      <td>Bechalor</td>\n",
              "      <td>1</td>\n",
              "      <td>3</td>\n",
              "      <td>0</td>\n",
              "    </tr>\n",
              "    <tr>\n",
              "      <th>2</th>\n",
              "      <td>3</td>\n",
              "      <td>3</td>\n",
              "      <td>PAIDOFF</td>\n",
              "      <td>1000</td>\n",
              "      <td>15</td>\n",
              "      <td>2016-09-08</td>\n",
              "      <td>2016-09-22</td>\n",
              "      <td>27</td>\n",
              "      <td>college</td>\n",
              "      <td>0</td>\n",
              "      <td>3</td>\n",
              "      <td>0</td>\n",
              "    </tr>\n",
              "    <tr>\n",
              "      <th>3</th>\n",
              "      <td>4</td>\n",
              "      <td>4</td>\n",
              "      <td>PAIDOFF</td>\n",
              "      <td>1000</td>\n",
              "      <td>30</td>\n",
              "      <td>2016-09-09</td>\n",
              "      <td>2016-10-08</td>\n",
              "      <td>28</td>\n",
              "      <td>college</td>\n",
              "      <td>1</td>\n",
              "      <td>4</td>\n",
              "      <td>1</td>\n",
              "    </tr>\n",
              "    <tr>\n",
              "      <th>4</th>\n",
              "      <td>6</td>\n",
              "      <td>6</td>\n",
              "      <td>PAIDOFF</td>\n",
              "      <td>1000</td>\n",
              "      <td>30</td>\n",
              "      <td>2016-09-09</td>\n",
              "      <td>2016-10-08</td>\n",
              "      <td>29</td>\n",
              "      <td>college</td>\n",
              "      <td>0</td>\n",
              "      <td>4</td>\n",
              "      <td>1</td>\n",
              "    </tr>\n",
              "  </tbody>\n",
              "</table>\n",
              "</div>"
            ],
            "text/plain": [
              "   Unnamed: 0  Unnamed: 0.1 loan_status  ...  Gender  dayofweek weekend\n",
              "0           0             0     PAIDOFF  ...       0          3       0\n",
              "1           2             2     PAIDOFF  ...       1          3       0\n",
              "2           3             3     PAIDOFF  ...       0          3       0\n",
              "3           4             4     PAIDOFF  ...       1          4       1\n",
              "4           6             6     PAIDOFF  ...       0          4       1\n",
              "\n",
              "[5 rows x 12 columns]"
            ]
          },
          "metadata": {
            "tags": []
          },
          "execution_count": 14
        }
      ]
    },
    {
      "cell_type": "markdown",
      "metadata": {
        "button": false,
        "new_sheet": false,
        "run_control": {
          "read_only": false
        },
        "id": "2TLsak_WL4lr",
        "colab_type": "text"
      },
      "source": [
        "## One Hot Encoding  \n",
        "#### How about education?"
      ]
    },
    {
      "cell_type": "code",
      "metadata": {
        "button": false,
        "new_sheet": false,
        "run_control": {
          "read_only": false
        },
        "id": "2iYl0TMhL4ls",
        "colab_type": "code",
        "colab": {
          "base_uri": "https://localhost:8080/",
          "height": 187
        },
        "outputId": "92d3ba47-b035-4082-defe-29f4ab099cad"
      },
      "source": [
        "df.groupby(['education'])['loan_status'].value_counts(normalize=True)"
      ],
      "execution_count": 15,
      "outputs": [
        {
          "output_type": "execute_result",
          "data": {
            "text/plain": [
              "education             loan_status\n",
              "Bechalor              PAIDOFF        0.750000\n",
              "                      COLLECTION     0.250000\n",
              "High School or Below  PAIDOFF        0.741722\n",
              "                      COLLECTION     0.258278\n",
              "Master or Above       COLLECTION     0.500000\n",
              "                      PAIDOFF        0.500000\n",
              "college               PAIDOFF        0.765101\n",
              "                      COLLECTION     0.234899\n",
              "Name: loan_status, dtype: float64"
            ]
          },
          "metadata": {
            "tags": []
          },
          "execution_count": 15
        }
      ]
    },
    {
      "cell_type": "markdown",
      "metadata": {
        "button": false,
        "new_sheet": false,
        "run_control": {
          "read_only": false
        },
        "id": "Zz0BRUBKL4lv",
        "colab_type": "text"
      },
      "source": [
        "#### Feature befor One Hot Encoding"
      ]
    },
    {
      "cell_type": "code",
      "metadata": {
        "button": false,
        "new_sheet": false,
        "run_control": {
          "read_only": false
        },
        "id": "F2MZxhciL4lx",
        "colab_type": "code",
        "colab": {
          "base_uri": "https://localhost:8080/",
          "height": 204
        },
        "outputId": "df31abc6-febf-4cb8-9b27-160895a1a146"
      },
      "source": [
        "df[['Principal','terms','age','Gender','education']].head()"
      ],
      "execution_count": 16,
      "outputs": [
        {
          "output_type": "execute_result",
          "data": {
            "text/html": [
              "<div>\n",
              "<style scoped>\n",
              "    .dataframe tbody tr th:only-of-type {\n",
              "        vertical-align: middle;\n",
              "    }\n",
              "\n",
              "    .dataframe tbody tr th {\n",
              "        vertical-align: top;\n",
              "    }\n",
              "\n",
              "    .dataframe thead th {\n",
              "        text-align: right;\n",
              "    }\n",
              "</style>\n",
              "<table border=\"1\" class=\"dataframe\">\n",
              "  <thead>\n",
              "    <tr style=\"text-align: right;\">\n",
              "      <th></th>\n",
              "      <th>Principal</th>\n",
              "      <th>terms</th>\n",
              "      <th>age</th>\n",
              "      <th>Gender</th>\n",
              "      <th>education</th>\n",
              "    </tr>\n",
              "  </thead>\n",
              "  <tbody>\n",
              "    <tr>\n",
              "      <th>0</th>\n",
              "      <td>1000</td>\n",
              "      <td>30</td>\n",
              "      <td>45</td>\n",
              "      <td>0</td>\n",
              "      <td>High School or Below</td>\n",
              "    </tr>\n",
              "    <tr>\n",
              "      <th>1</th>\n",
              "      <td>1000</td>\n",
              "      <td>30</td>\n",
              "      <td>33</td>\n",
              "      <td>1</td>\n",
              "      <td>Bechalor</td>\n",
              "    </tr>\n",
              "    <tr>\n",
              "      <th>2</th>\n",
              "      <td>1000</td>\n",
              "      <td>15</td>\n",
              "      <td>27</td>\n",
              "      <td>0</td>\n",
              "      <td>college</td>\n",
              "    </tr>\n",
              "    <tr>\n",
              "      <th>3</th>\n",
              "      <td>1000</td>\n",
              "      <td>30</td>\n",
              "      <td>28</td>\n",
              "      <td>1</td>\n",
              "      <td>college</td>\n",
              "    </tr>\n",
              "    <tr>\n",
              "      <th>4</th>\n",
              "      <td>1000</td>\n",
              "      <td>30</td>\n",
              "      <td>29</td>\n",
              "      <td>0</td>\n",
              "      <td>college</td>\n",
              "    </tr>\n",
              "  </tbody>\n",
              "</table>\n",
              "</div>"
            ],
            "text/plain": [
              "   Principal  terms  age  Gender             education\n",
              "0       1000     30   45       0  High School or Below\n",
              "1       1000     30   33       1              Bechalor\n",
              "2       1000     15   27       0               college\n",
              "3       1000     30   28       1               college\n",
              "4       1000     30   29       0               college"
            ]
          },
          "metadata": {
            "tags": []
          },
          "execution_count": 16
        }
      ]
    },
    {
      "cell_type": "markdown",
      "metadata": {
        "button": false,
        "new_sheet": false,
        "run_control": {
          "read_only": false
        },
        "id": "ZO9CHBf1L4l0",
        "colab_type": "text"
      },
      "source": [
        "#### Use one hot encoding technique to conver categorical varables to binary variables and append them to the feature Data Frame "
      ]
    },
    {
      "cell_type": "code",
      "metadata": {
        "button": false,
        "new_sheet": false,
        "run_control": {
          "read_only": false
        },
        "id": "D1Lud5RPL4l0",
        "colab_type": "code",
        "colab": {
          "base_uri": "https://localhost:8080/",
          "height": 204
        },
        "outputId": "473a6563-e590-42ed-db65-d2b57d5766a4"
      },
      "source": [
        "Feature = df[['Principal','terms','age','Gender','weekend']]\n",
        "Feature = pd.concat([Feature,pd.get_dummies(df['education'])], axis=1)\n",
        "Feature.drop(['Master or Above'], axis = 1,inplace=True)\n",
        "Feature.head()\n"
      ],
      "execution_count": 17,
      "outputs": [
        {
          "output_type": "execute_result",
          "data": {
            "text/html": [
              "<div>\n",
              "<style scoped>\n",
              "    .dataframe tbody tr th:only-of-type {\n",
              "        vertical-align: middle;\n",
              "    }\n",
              "\n",
              "    .dataframe tbody tr th {\n",
              "        vertical-align: top;\n",
              "    }\n",
              "\n",
              "    .dataframe thead th {\n",
              "        text-align: right;\n",
              "    }\n",
              "</style>\n",
              "<table border=\"1\" class=\"dataframe\">\n",
              "  <thead>\n",
              "    <tr style=\"text-align: right;\">\n",
              "      <th></th>\n",
              "      <th>Principal</th>\n",
              "      <th>terms</th>\n",
              "      <th>age</th>\n",
              "      <th>Gender</th>\n",
              "      <th>weekend</th>\n",
              "      <th>Bechalor</th>\n",
              "      <th>High School or Below</th>\n",
              "      <th>college</th>\n",
              "    </tr>\n",
              "  </thead>\n",
              "  <tbody>\n",
              "    <tr>\n",
              "      <th>0</th>\n",
              "      <td>1000</td>\n",
              "      <td>30</td>\n",
              "      <td>45</td>\n",
              "      <td>0</td>\n",
              "      <td>0</td>\n",
              "      <td>0</td>\n",
              "      <td>1</td>\n",
              "      <td>0</td>\n",
              "    </tr>\n",
              "    <tr>\n",
              "      <th>1</th>\n",
              "      <td>1000</td>\n",
              "      <td>30</td>\n",
              "      <td>33</td>\n",
              "      <td>1</td>\n",
              "      <td>0</td>\n",
              "      <td>1</td>\n",
              "      <td>0</td>\n",
              "      <td>0</td>\n",
              "    </tr>\n",
              "    <tr>\n",
              "      <th>2</th>\n",
              "      <td>1000</td>\n",
              "      <td>15</td>\n",
              "      <td>27</td>\n",
              "      <td>0</td>\n",
              "      <td>0</td>\n",
              "      <td>0</td>\n",
              "      <td>0</td>\n",
              "      <td>1</td>\n",
              "    </tr>\n",
              "    <tr>\n",
              "      <th>3</th>\n",
              "      <td>1000</td>\n",
              "      <td>30</td>\n",
              "      <td>28</td>\n",
              "      <td>1</td>\n",
              "      <td>1</td>\n",
              "      <td>0</td>\n",
              "      <td>0</td>\n",
              "      <td>1</td>\n",
              "    </tr>\n",
              "    <tr>\n",
              "      <th>4</th>\n",
              "      <td>1000</td>\n",
              "      <td>30</td>\n",
              "      <td>29</td>\n",
              "      <td>0</td>\n",
              "      <td>1</td>\n",
              "      <td>0</td>\n",
              "      <td>0</td>\n",
              "      <td>1</td>\n",
              "    </tr>\n",
              "  </tbody>\n",
              "</table>\n",
              "</div>"
            ],
            "text/plain": [
              "   Principal  terms  age  ...  Bechalor  High School or Below  college\n",
              "0       1000     30   45  ...         0                     1        0\n",
              "1       1000     30   33  ...         1                     0        0\n",
              "2       1000     15   27  ...         0                     0        1\n",
              "3       1000     30   28  ...         0                     0        1\n",
              "4       1000     30   29  ...         0                     0        1\n",
              "\n",
              "[5 rows x 8 columns]"
            ]
          },
          "metadata": {
            "tags": []
          },
          "execution_count": 17
        }
      ]
    },
    {
      "cell_type": "markdown",
      "metadata": {
        "button": false,
        "new_sheet": false,
        "run_control": {
          "read_only": false
        },
        "id": "Iwmp8waPL4l3",
        "colab_type": "text"
      },
      "source": [
        "### Feature selection"
      ]
    },
    {
      "cell_type": "markdown",
      "metadata": {
        "button": false,
        "new_sheet": false,
        "run_control": {
          "read_only": false
        },
        "id": "TJSJYK77L4l3",
        "colab_type": "text"
      },
      "source": [
        "Lets defind feature sets, X:"
      ]
    },
    {
      "cell_type": "code",
      "metadata": {
        "button": false,
        "new_sheet": false,
        "run_control": {
          "read_only": false
        },
        "id": "tLoLwTLkL4l3",
        "colab_type": "code",
        "colab": {
          "base_uri": "https://localhost:8080/",
          "height": 204
        },
        "outputId": "196df3f2-baf8-4e10-f99c-a2bde6f763f5"
      },
      "source": [
        "X = Feature\n",
        "X[0:5]"
      ],
      "execution_count": 24,
      "outputs": [
        {
          "output_type": "execute_result",
          "data": {
            "text/html": [
              "<div>\n",
              "<style scoped>\n",
              "    .dataframe tbody tr th:only-of-type {\n",
              "        vertical-align: middle;\n",
              "    }\n",
              "\n",
              "    .dataframe tbody tr th {\n",
              "        vertical-align: top;\n",
              "    }\n",
              "\n",
              "    .dataframe thead th {\n",
              "        text-align: right;\n",
              "    }\n",
              "</style>\n",
              "<table border=\"1\" class=\"dataframe\">\n",
              "  <thead>\n",
              "    <tr style=\"text-align: right;\">\n",
              "      <th></th>\n",
              "      <th>Principal</th>\n",
              "      <th>terms</th>\n",
              "      <th>age</th>\n",
              "      <th>Gender</th>\n",
              "      <th>weekend</th>\n",
              "      <th>Bechalor</th>\n",
              "      <th>High School or Below</th>\n",
              "      <th>college</th>\n",
              "    </tr>\n",
              "  </thead>\n",
              "  <tbody>\n",
              "    <tr>\n",
              "      <th>0</th>\n",
              "      <td>1000</td>\n",
              "      <td>30</td>\n",
              "      <td>45</td>\n",
              "      <td>0</td>\n",
              "      <td>0</td>\n",
              "      <td>0</td>\n",
              "      <td>1</td>\n",
              "      <td>0</td>\n",
              "    </tr>\n",
              "    <tr>\n",
              "      <th>1</th>\n",
              "      <td>1000</td>\n",
              "      <td>30</td>\n",
              "      <td>33</td>\n",
              "      <td>1</td>\n",
              "      <td>0</td>\n",
              "      <td>1</td>\n",
              "      <td>0</td>\n",
              "      <td>0</td>\n",
              "    </tr>\n",
              "    <tr>\n",
              "      <th>2</th>\n",
              "      <td>1000</td>\n",
              "      <td>15</td>\n",
              "      <td>27</td>\n",
              "      <td>0</td>\n",
              "      <td>0</td>\n",
              "      <td>0</td>\n",
              "      <td>0</td>\n",
              "      <td>1</td>\n",
              "    </tr>\n",
              "    <tr>\n",
              "      <th>3</th>\n",
              "      <td>1000</td>\n",
              "      <td>30</td>\n",
              "      <td>28</td>\n",
              "      <td>1</td>\n",
              "      <td>1</td>\n",
              "      <td>0</td>\n",
              "      <td>0</td>\n",
              "      <td>1</td>\n",
              "    </tr>\n",
              "    <tr>\n",
              "      <th>4</th>\n",
              "      <td>1000</td>\n",
              "      <td>30</td>\n",
              "      <td>29</td>\n",
              "      <td>0</td>\n",
              "      <td>1</td>\n",
              "      <td>0</td>\n",
              "      <td>0</td>\n",
              "      <td>1</td>\n",
              "    </tr>\n",
              "  </tbody>\n",
              "</table>\n",
              "</div>"
            ],
            "text/plain": [
              "   Principal  terms  age  ...  Bechalor  High School or Below  college\n",
              "0       1000     30   45  ...         0                     1        0\n",
              "1       1000     30   33  ...         1                     0        0\n",
              "2       1000     15   27  ...         0                     0        1\n",
              "3       1000     30   28  ...         0                     0        1\n",
              "4       1000     30   29  ...         0                     0        1\n",
              "\n",
              "[5 rows x 8 columns]"
            ]
          },
          "metadata": {
            "tags": []
          },
          "execution_count": 24
        }
      ]
    },
    {
      "cell_type": "markdown",
      "metadata": {
        "button": false,
        "new_sheet": false,
        "run_control": {
          "read_only": false
        },
        "id": "nHBNsgFSL4l7",
        "colab_type": "text"
      },
      "source": [
        "What are our lables?"
      ]
    },
    {
      "cell_type": "code",
      "metadata": {
        "button": false,
        "new_sheet": false,
        "run_control": {
          "read_only": false
        },
        "id": "v-ZLFNFNL4l7",
        "colab_type": "code",
        "colab": {
          "base_uri": "https://localhost:8080/",
          "height": 51
        },
        "outputId": "8773794f-de58-4185-fe65-ca83e11eda58"
      },
      "source": [
        "y = df['loan_status'].values\n",
        "y[0:5]"
      ],
      "execution_count": 25,
      "outputs": [
        {
          "output_type": "execute_result",
          "data": {
            "text/plain": [
              "array(['PAIDOFF', 'PAIDOFF', 'PAIDOFF', 'PAIDOFF', 'PAIDOFF'],\n",
              "      dtype=object)"
            ]
          },
          "metadata": {
            "tags": []
          },
          "execution_count": 25
        }
      ]
    },
    {
      "cell_type": "code",
      "metadata": {
        "id": "I2phOXqDL4l-",
        "colab_type": "code",
        "colab": {
          "base_uri": "https://localhost:8080/",
          "height": 289
        },
        "outputId": "6db3984f-5bf5-4c60-983d-e475a280abb3"
      },
      "source": [
        "from sklearn import preprocessing\n",
        "# Transform: PAIDOFF = 1, COLLECTION = 0.\n",
        "le_loan_sta = preprocessing.LabelEncoder()\n",
        "le_loan_sta.fit(['PAIDOFF','COLLECTION'])\n",
        "y = le_loan_sta.transform(y) \n",
        "y"
      ],
      "execution_count": 26,
      "outputs": [
        {
          "output_type": "execute_result",
          "data": {
            "text/plain": [
              "array([1, 1, 1, 1, 1, 1, 1, 1, 1, 1, 1, 1, 1, 1, 1, 1, 1, 1, 1, 1, 1, 1,\n",
              "       1, 1, 1, 1, 1, 1, 1, 1, 1, 1, 1, 1, 1, 1, 1, 1, 1, 1, 1, 1, 1, 1,\n",
              "       1, 1, 1, 1, 1, 1, 1, 1, 1, 1, 1, 1, 1, 1, 1, 1, 1, 1, 1, 1, 1, 1,\n",
              "       1, 1, 1, 1, 1, 1, 1, 1, 1, 1, 1, 1, 1, 1, 1, 1, 1, 1, 1, 1, 1, 1,\n",
              "       1, 1, 1, 1, 1, 1, 1, 1, 1, 1, 1, 1, 1, 1, 1, 1, 1, 1, 1, 1, 1, 1,\n",
              "       1, 1, 1, 1, 1, 1, 1, 1, 1, 1, 1, 1, 1, 1, 1, 1, 1, 1, 1, 1, 1, 1,\n",
              "       1, 1, 1, 1, 1, 1, 1, 1, 1, 1, 1, 1, 1, 1, 1, 1, 1, 1, 1, 1, 1, 1,\n",
              "       1, 1, 1, 1, 1, 1, 1, 1, 1, 1, 1, 1, 1, 1, 1, 1, 1, 1, 1, 1, 1, 1,\n",
              "       1, 1, 1, 1, 1, 1, 1, 1, 1, 1, 1, 1, 1, 1, 1, 1, 1, 1, 1, 1, 1, 1,\n",
              "       1, 1, 1, 1, 1, 1, 1, 1, 1, 1, 1, 1, 1, 1, 1, 1, 1, 1, 1, 1, 1, 1,\n",
              "       1, 1, 1, 1, 1, 1, 1, 1, 1, 1, 1, 1, 1, 1, 1, 1, 1, 1, 1, 1, 1, 1,\n",
              "       1, 1, 1, 1, 1, 1, 1, 1, 1, 1, 1, 1, 1, 1, 1, 1, 1, 1, 0, 0, 0, 0,\n",
              "       0, 0, 0, 0, 0, 0, 0, 0, 0, 0, 0, 0, 0, 0, 0, 0, 0, 0, 0, 0, 0, 0,\n",
              "       0, 0, 0, 0, 0, 0, 0, 0, 0, 0, 0, 0, 0, 0, 0, 0, 0, 0, 0, 0, 0, 0,\n",
              "       0, 0, 0, 0, 0, 0, 0, 0, 0, 0, 0, 0, 0, 0, 0, 0, 0, 0, 0, 0, 0, 0,\n",
              "       0, 0, 0, 0, 0, 0, 0, 0, 0, 0, 0, 0, 0, 0, 0, 0])"
            ]
          },
          "metadata": {
            "tags": []
          },
          "execution_count": 26
        }
      ]
    },
    {
      "cell_type": "markdown",
      "metadata": {
        "button": false,
        "new_sheet": false,
        "run_control": {
          "read_only": false
        },
        "id": "9B1OETd8L4mB",
        "colab_type": "text"
      },
      "source": [
        "## Normalize Data "
      ]
    },
    {
      "cell_type": "markdown",
      "metadata": {
        "button": false,
        "new_sheet": false,
        "run_control": {
          "read_only": false
        },
        "id": "WHNxuErlL4mB",
        "colab_type": "text"
      },
      "source": [
        "Data Standardization give data zero mean and unit variance (technically should be done after train test split )"
      ]
    },
    {
      "cell_type": "code",
      "metadata": {
        "button": false,
        "new_sheet": false,
        "run_control": {
          "read_only": false
        },
        "id": "52eee9goL4mC",
        "colab_type": "code",
        "colab": {
          "base_uri": "https://localhost:8080/",
          "height": 187
        },
        "outputId": "dda9625e-1647-4214-9c05-867327e10ce2"
      },
      "source": [
        "X= preprocessing.StandardScaler().fit(X).transform(X)\n",
        "X[0:5]"
      ],
      "execution_count": 27,
      "outputs": [
        {
          "output_type": "execute_result",
          "data": {
            "text/plain": [
              "array([[ 0.51578458,  0.92071769,  2.33152555, -0.42056004, -1.20577805,\n",
              "        -0.38170062,  1.13639374, -0.86968108],\n",
              "       [ 0.51578458,  0.92071769,  0.34170148,  2.37778177, -1.20577805,\n",
              "         2.61985426, -0.87997669, -0.86968108],\n",
              "       [ 0.51578458, -0.95911111, -0.65321055, -0.42056004, -1.20577805,\n",
              "        -0.38170062, -0.87997669,  1.14984679],\n",
              "       [ 0.51578458,  0.92071769, -0.48739188,  2.37778177,  0.82934003,\n",
              "        -0.38170062, -0.87997669,  1.14984679],\n",
              "       [ 0.51578458,  0.92071769, -0.3215732 , -0.42056004,  0.82934003,\n",
              "        -0.38170062, -0.87997669,  1.14984679]])"
            ]
          },
          "metadata": {
            "tags": []
          },
          "execution_count": 27
        }
      ]
    },
    {
      "cell_type": "markdown",
      "metadata": {
        "button": false,
        "new_sheet": false,
        "run_control": {
          "read_only": false
        },
        "id": "WuvrSkHIL4mF",
        "colab_type": "text"
      },
      "source": [
        "# Classification "
      ]
    },
    {
      "cell_type": "markdown",
      "metadata": {
        "button": false,
        "new_sheet": false,
        "run_control": {
          "read_only": false
        },
        "id": "GVz7H8s_L4mF",
        "colab_type": "text"
      },
      "source": [
        "Let's use the following algorithm:\n",
        "- K Nearest Neighbor(KNN)\n",
        "- Decision Tree\n",
        "- Support Vector Machine\n",
        "- Logistic Regression\n"
      ]
    },
    {
      "cell_type": "markdown",
      "metadata": {
        "id": "4yzXSEMPL4mG",
        "colab_type": "text"
      },
      "source": [
        "### K Nearest Neighbor(KNN)\n",
        "- split the train_loan.csv into train and test to find the best __k__."
      ]
    },
    {
      "cell_type": "code",
      "metadata": {
        "id": "ynmoPO9ZL4mG",
        "colab_type": "code",
        "colab": {}
      },
      "source": [
        "# import scoring methods\n",
        "from sklearn.metrics import jaccard_similarity_score\n",
        "from sklearn.metrics import f1_score\n",
        "from sklearn.metrics import log_loss\n",
        "from sklearn.model_selection import cross_val_score\n",
        "\n",
        "#Train-Test Split\n",
        "from sklearn.model_selection import train_test_split\n",
        "X_train, X_test, y_train, y_test = train_test_split(X, y, test_size=0.2)"
      ],
      "execution_count": 28,
      "outputs": []
    },
    {
      "cell_type": "code",
      "metadata": {
        "id": "6_esYe8JL4mJ",
        "colab_type": "code",
        "colab": {
          "base_uri": "https://localhost:8080/",
          "height": 187
        },
        "outputId": "e0c3cbb4-2332-461a-ebb3-1b17825927e4"
      },
      "source": [
        "#Training\n",
        "from sklearn.neighbors import KNeighborsClassifier\n",
        "from sklearn import metrics\n",
        "\n",
        "Ks = 11\n",
        "\n",
        "std_acc = np.zeros((Ks-1))\n",
        "mean_acc = np.zeros((Ks-1))\n",
        "ConfustionMx = [];\n",
        "for n in range(1,Ks):\n",
        "    \n",
        "    #Train Model and Predict  \n",
        "    neigh = KNeighborsClassifier(n_neighbors = n).fit(X_train,y_train)\n",
        "    yhat=neigh.predict(X_test)\n",
        "    \n",
        "    #Accuaracy\n",
        "    mean_acc[n-1] = metrics.accuracy_score(y_test, yhat)\n",
        "    std_acc[n-1]=np.std(yhat==y_test)/np.sqrt(yhat.shape[0])\n",
        "    print('k =',n,'accuaracy:', np.round(mean_acc[n-1], 2))\n",
        "   "
      ],
      "execution_count": 37,
      "outputs": [
        {
          "output_type": "stream",
          "text": [
            "k = 1 accuaracy: 0.63\n",
            "k = 2 accuaracy: 0.63\n",
            "k = 3 accuaracy: 0.7\n",
            "k = 4 accuaracy: 0.67\n",
            "k = 5 accuaracy: 0.76\n",
            "k = 6 accuaracy: 0.71\n",
            "k = 7 accuaracy: 0.74\n",
            "k = 8 accuaracy: 0.73\n",
            "k = 9 accuaracy: 0.76\n",
            "k = 10 accuaracy: 0.73\n"
          ],
          "name": "stdout"
        }
      ]
    },
    {
      "cell_type": "code",
      "metadata": {
        "id": "Jl-LwIBEL4mM",
        "colab_type": "code",
        "colab": {
          "base_uri": "https://localhost:8080/",
          "height": 348
        },
        "outputId": "b9f82331-70e7-4b42-e46a-b9aab22a6e18"
      },
      "source": [
        "plt.plot(range(1,Ks),mean_acc,'g')\n",
        "plt.fill_between(range(1,Ks),mean_acc - 1 * std_acc,mean_acc + 1 * std_acc, alpha=0.10)\n",
        "plt.legend(('Accuracy ', '+/- 3xstd'))\n",
        "plt.ylabel('Accuracy ')\n",
        "plt.xlabel('Number of Neighbours(K)')\n",
        "plt.tight_layout()\n",
        "plt.show()\n",
        "\n",
        "print( \"The best accuracy was with\", mean_acc.max(), \"with k =\", mean_acc.argmax()+1) \n",
        "neighAlgo = KNeighborsClassifier(n_neighbors = mean_acc.argmax()+1).fit(X_train,y_train)\n",
        "yhat=neighAlgo.predict(X_test)\n",
        "\n",
        "print('Jaccard index:',metrics.jaccard_score(y_test, yhat))\n",
        "print('F1 score:',metrics.f1_score(y_test, yhat))"
      ],
      "execution_count": 38,
      "outputs": [
        {
          "output_type": "display_data",
          "data": {
            "image/png": "[encoded data removed]",
            "text/plain": [
              "<Figure size 432x288 with 1 Axes>"
            ]
          },
          "metadata": {
            "tags": [],
            "needs_background": "light"
          }
        },
        {
          "output_type": "stream",
          "text": [
            "The best accuracy was with 0.7571428571428571 with k = 5\n",
            "Jaccard index: 0.7384615384615385\n",
            "F1 score: 0.8495575221238938\n"
          ],
          "name": "stdout"
        }
      ]
    },
    {
      "cell_type": "markdown",
      "metadata": {
        "id": "7uiGhzEwL4mR",
        "colab_type": "text"
      },
      "source": [
        "## Decision Tree"
      ]
    },
    {
      "cell_type": "code",
      "metadata": {
        "id": "mex_ui1kL4mR",
        "colab_type": "code",
        "colab": {
          "base_uri": "https://localhost:8080/",
          "height": 88
        },
        "outputId": "30a31e62-bcac-4e43-8cae-50511962094b"
      },
      "source": [
        "from sklearn.tree import DecisionTreeClassifier\n",
        "from sklearn.externals.six import StringIO\n",
        "import matplotlib.image as mpimg\n",
        "from sklearn import tree\n",
        "\n",
        "#Modelling\n",
        "clf_tree = tree.DecisionTreeClassifier()\n",
        "clf_tree = clf_tree.fit(X_train, y_train)\n",
        "\n",
        "#Prediction\n",
        "y_pred=clf_tree.predict(X_train)\n",
        "\n",
        "trainScores = {}\n",
        "trainScores['Tree-jaccard']=jaccard_similarity_score(y_train, y_pred)\n",
        "trainScores['Tree-f1-score']=f1_score(y_train, y_pred, average='weighted')\n",
        "\n",
        "trainScores"
      ],
      "execution_count": 41,
      "outputs": [
        {
          "output_type": "stream",
          "text": [
            "/usr/local/lib/python3.6/dist-packages/sklearn/metrics/_classification.py:664: FutureWarning: jaccard_similarity_score has been deprecated and replaced with jaccard_score. It will be removed in version 0.23. This implementation has surprising behavior for binary and multiclass classification tasks.\n",
            "  FutureWarning)\n"
          ],
          "name": "stderr"
        },
        {
          "output_type": "execute_result",
          "data": {
            "text/plain": [
              "{'Tree-f1-score': 0.9121578455943781, 'Tree-jaccard': 0.9094202898550725}"
            ]
          },
          "metadata": {
            "tags": []
          },
          "execution_count": 41
        }
      ]
    },
    {
      "cell_type": "code",
      "metadata": {
        "id": "BfbltMhdL4mV",
        "colab_type": "code",
        "colab": {
          "base_uri": "https://localhost:8080/",
          "height": 88
        },
        "outputId": "e3344f8b-e119-43f2-edb9-4f794ec55769"
      },
      "source": [
        "!pip install graphviz\n",
        "!pip install pydotplus\n",
        "import graphviz \n",
        "import pydotplus"
      ],
      "execution_count": 42,
      "outputs": [
        {
          "output_type": "stream",
          "text": [
            "Requirement already satisfied: graphviz in /usr/local/lib/python3.6/dist-packages (0.10.1)\n",
            "Requirement already satisfied: pydotplus in /usr/local/lib/python3.6/dist-packages (2.0.2)\n",
            "Requirement already satisfied: pyparsing>=2.0.1 in /usr/local/lib/python3.6/dist-packages (from pydotplus) (2.4.7)\n"
          ],
          "name": "stdout"
        }
      ]
    },
    {
      "cell_type": "code",
      "metadata": {
        "id": "pUq6ROtBL4mY",
        "colab_type": "code",
        "colab": {
          "base_uri": "https://localhost:8080/",
          "height": 553
        },
        "outputId": "011e44fc-9ec8-4481-ed3f-f98288365500"
      },
      "source": [
        "dot_data = tree.export_graphviz(clf_tree, out_file=None, \n",
        "                     feature_names=['Principal',\n",
        "                                    'terms','age',\n",
        "                                    'Gender',\n",
        "                                    'weekend',\n",
        "                                    'Bechalor',\n",
        "                                    'High School or Below',\n",
        "                                    'college',\n",
        "                                   ],  \n",
        "                     class_names='loan_status',  \n",
        "                     filled=True, rounded=True,  \n",
        "                     special_characters=True) \n",
        "graph = pydotplus.graph_from_dot_data(dot_data)\n",
        "graph.set_size('\"8,8!\"')\n",
        "gvz_graph = graphviz.Source(graph.to_string())\n",
        "\n",
        "gvz_graph"
      ],
      "execution_count": 43,
      "outputs": [
        {
          "output_type": "execute_result",
          "data": {
            "text/plain": [
              "<graphviz.files.Source at 0x7f4b8bc24630>"
            ],
            "image/svg+xml": "<?xml version=\"1.0\" encoding=\"UTF-8\" standalone=\"no\"?>\n<!DOCTYPE svg PUBLIC \"-//W3C//DTD SVG 1.1//EN\"\n \"http://www.w3.org/Graphics/SVG/1.1/DTD/svg11.dtd\">\n<!-- Generated by graphviz version 2.40.1 (20161225.0304)\n -->\n<!-- Title: Tree Pages: 1 -->\n<svg width=\"576pt\" height=\"399pt\"\n viewBox=\"0.00 0.00 576.00 399.28\" xmlns=\"http://www.w3.org/2000/svg\" xmlns:xlink=\"http://www.w3.org/1999/xlink\">\n<g id=\"graph0\" class=\"graph\" transform=\"scale(.1902 .1902) rotate(0) translate(4 2095)\">\n<title>Tree</title>\n<polygon fill=\"#ffffff\" stroke=\"transparent\" points=\"-4,4 -4,-2095 3024,-2095 3024,4 -4,4\"/>\n<!-- 0 -->\n<g id=\"node1\" class=\"node\">\n<title>0</title>\n<path fill=\"#7bbeee\" stroke=\"#000000\" d=\"M900.5,-2091C900.5,-2091 792.5,-2091 792.5,-2091 786.5,-2091 780.5,-2085 780.5,-2079 780.5,-2079 780.5,-2020 780.5,-2020 780.5,-2014 786.5,-2008 792.5,-2008 792.5,-2008 900.5,-2008 900.5,-2008 906.5,-2008 912.5,-2014 912.5,-2020 912.5,-2020 912.5,-2079 912.5,-2079 912.5,-2085 906.5,-2091 900.5,-2091\"/>\n<text text-anchor=\"start\" x=\"788.5\" y=\"-2075.8\" font-family=\"Helvetica,sans-Serif\" font-size=\"14.00\" fill=\"#000000\">weekend ≤ &#45;0.188</text>\n<text text-anchor=\"start\" x=\"808.5\" y=\"-2060.8\" font-family=\"Helvetica,sans-Serif\" font-size=\"14.00\" fill=\"#000000\">gini = 0.375</text>\n<text text-anchor=\"start\" x=\"798.5\" y=\"-2045.8\" font-family=\"Helvetica,sans-Serif\" font-size=\"14.00\" fill=\"#000000\">samples = 276</text>\n<text text-anchor=\"start\" x=\"792.5\" y=\"-2030.8\" font-family=\"Helvetica,sans-Serif\" font-size=\"14.00\" fill=\"#000000\">value = [69, 207]</text>\n<text text-anchor=\"start\" x=\"817.5\" y=\"-2015.8\" font-family=\"Helvetica,sans-Serif\" font-size=\"14.00\" fill=\"#000000\">class = o</text>\n</g>\n<!-- 1 -->\n<g id=\"node2\" class=\"node\">\n<title>1</title>\n<path fill=\"#3d9fe5\" stroke=\"#000000\" d=\"M807.5,-1972C807.5,-1972 715.5,-1972 715.5,-1972 709.5,-1972 703.5,-1966 703.5,-1960 703.5,-1960 703.5,-1901 703.5,-1901 703.5,-1895 709.5,-1889 715.5,-1889 715.5,-1889 807.5,-1889 807.5,-1889 813.5,-1889 819.5,-1895 819.5,-1901 819.5,-1901 819.5,-1960 819.5,-1960 819.5,-1966 813.5,-1972 807.5,-1972\"/>\n<text text-anchor=\"start\" x=\"723\" y=\"-1956.8\" font-family=\"Helvetica,sans-Serif\" font-size=\"14.00\" fill=\"#000000\">age ≤ 1.254</text>\n<text text-anchor=\"start\" x=\"723.5\" y=\"-1941.8\" font-family=\"Helvetica,sans-Serif\" font-size=\"14.00\" fill=\"#000000\">gini = 0.036</text>\n<text text-anchor=\"start\" x=\"713.5\" y=\"-1926.8\" font-family=\"Helvetica,sans-Serif\" font-size=\"14.00\" fill=\"#000000\">samples = 108</text>\n<text text-anchor=\"start\" x=\"711.5\" y=\"-1911.8\" font-family=\"Helvetica,sans-Serif\" font-size=\"14.00\" fill=\"#000000\">value = [2, 106]</text>\n<text text-anchor=\"start\" x=\"732.5\" y=\"-1896.8\" font-family=\"Helvetica,sans-Serif\" font-size=\"14.00\" fill=\"#000000\">class = o</text>\n</g>\n<!-- 0&#45;&gt;1 -->\n<g id=\"edge1\" class=\"edge\">\n<title>0&#45;&gt;1</title>\n<path fill=\"none\" stroke=\"#000000\" d=\"M816.7711,-2007.8796C810.4667,-1999.0534 803.749,-1989.6485 797.2476,-1980.5466\"/>\n<polygon fill=\"#000000\" stroke=\"#000000\" points=\"800.0163,-1978.4011 791.3558,-1972.2981 794.3201,-1982.4698 800.0163,-1978.4011\"/>\n<text text-anchor=\"middle\" x=\"787.2458\" y=\"-1993.2579\" font-family=\"Helvetica,sans-Serif\" font-size=\"14.00\" fill=\"#000000\">True</text>\n</g>\n<!-- 16 -->\n<g id=\"node17\" class=\"node\">\n<title>16</title>\n<path fill=\"#bcdef6\" stroke=\"#000000\" d=\"M969.5,-1972C969.5,-1972 869.5,-1972 869.5,-1972 863.5,-1972 857.5,-1966 857.5,-1960 857.5,-1960 857.5,-1901 857.5,-1901 857.5,-1895 863.5,-1889 869.5,-1889 869.5,-1889 969.5,-1889 969.5,-1889 975.5,-1889 981.5,-1895 981.5,-1901 981.5,-1901 981.5,-1960 981.5,-1960 981.5,-1966 975.5,-1972 969.5,-1972\"/>\n<text text-anchor=\"start\" x=\"877\" y=\"-1956.8\" font-family=\"Helvetica,sans-Serif\" font-size=\"14.00\" fill=\"#000000\">terms ≤ &#45;1.46</text>\n<text text-anchor=\"start\" x=\"886\" y=\"-1941.8\" font-family=\"Helvetica,sans-Serif\" font-size=\"14.00\" fill=\"#000000\">gini = 0.48</text>\n<text text-anchor=\"start\" x=\"871.5\" y=\"-1926.8\" font-family=\"Helvetica,sans-Serif\" font-size=\"14.00\" fill=\"#000000\">samples = 168</text>\n<text text-anchor=\"start\" x=\"865.5\" y=\"-1911.8\" font-family=\"Helvetica,sans-Serif\" font-size=\"14.00\" fill=\"#000000\">value = [67, 101]</text>\n<text text-anchor=\"start\" x=\"890.5\" y=\"-1896.8\" font-family=\"Helvetica,sans-Serif\" font-size=\"14.00\" fill=\"#000000\">class = o</text>\n</g>\n<!-- 0&#45;&gt;16 -->\n<g id=\"edge16\" class=\"edge\">\n<title>0&#45;&gt;16</title>\n<path fill=\"none\" stroke=\"#000000\" d=\"M872.0319,-2007.8796C877.391,-1999.1434 883.0979,-1989.8404 888.6282,-1980.8253\"/>\n<polygon fill=\"#000000\" stroke=\"#000000\" points=\"891.6135,-1982.6522 893.8592,-1972.2981 885.6467,-1978.9919 891.6135,-1982.6522\"/>\n<text text-anchor=\"middle\" x=\"899.6839\" y=\"-1992.9101\" font-family=\"Helvetica,sans-Serif\" font-size=\"14.00\" fill=\"#000000\">False</text>\n</g>\n<!-- 2 -->\n<g id=\"node3\" class=\"node\">\n<title>2</title>\n<path fill=\"#3b9ee5\" stroke=\"#000000\" d=\"M609,-1853C609,-1853 526,-1853 526,-1853 520,-1853 514,-1847 514,-1841 514,-1841 514,-1782 514,-1782 514,-1776 520,-1770 526,-1770 526,-1770 609,-1770 609,-1770 615,-1770 621,-1776 621,-1782 621,-1782 621,-1841 621,-1841 621,-1847 615,-1853 609,-1853\"/>\n<text text-anchor=\"start\" x=\"526.5\" y=\"-1837.8\" font-family=\"Helvetica,sans-Serif\" font-size=\"14.00\" fill=\"#000000\">age ≤ &#45;0.736</text>\n<text text-anchor=\"start\" x=\"534\" y=\"-1822.8\" font-family=\"Helvetica,sans-Serif\" font-size=\"14.00\" fill=\"#000000\">gini = 0.02</text>\n<text text-anchor=\"start\" x=\"523.5\" y=\"-1807.8\" font-family=\"Helvetica,sans-Serif\" font-size=\"14.00\" fill=\"#000000\">samples = 98</text>\n<text text-anchor=\"start\" x=\"522\" y=\"-1792.8\" font-family=\"Helvetica,sans-Serif\" font-size=\"14.00\" fill=\"#000000\">value = [1, 97]</text>\n<text text-anchor=\"start\" x=\"538.5\" y=\"-1777.8\" font-family=\"Helvetica,sans-Serif\" font-size=\"14.00\" fill=\"#000000\">class = o</text>\n</g>\n<!-- 1&#45;&gt;2 -->\n<g id=\"edge2\" class=\"edge\">\n<title>1&#45;&gt;2</title>\n<path fill=\"none\" stroke=\"#000000\" d=\"M703.2936,-1894.7961C680.0335,-1880.5283 653.2103,-1864.0749 629.5785,-1849.5791\"/>\n<polygon fill=\"#000000\" stroke=\"#000000\" points=\"631.3831,-1846.5801 621.0289,-1844.3347 627.723,-1852.547 631.3831,-1846.5801\"/>\n</g>\n<!-- 11 -->\n<g id=\"node12\" class=\"node\">\n<title>11</title>\n<path fill=\"#4fa8e8\" stroke=\"#000000\" d=\"M801.5,-1853C801.5,-1853 721.5,-1853 721.5,-1853 715.5,-1853 709.5,-1847 709.5,-1841 709.5,-1841 709.5,-1782 709.5,-1782 709.5,-1776 715.5,-1770 721.5,-1770 721.5,-1770 801.5,-1770 801.5,-1770 807.5,-1770 813.5,-1776 813.5,-1782 813.5,-1782 813.5,-1841 813.5,-1841 813.5,-1847 807.5,-1853 801.5,-1853\"/>\n<text text-anchor=\"start\" x=\"727\" y=\"-1837.8\" font-family=\"Helvetica,sans-Serif\" font-size=\"14.00\" fill=\"#000000\">age ≤ 1.42</text>\n<text text-anchor=\"start\" x=\"728\" y=\"-1822.8\" font-family=\"Helvetica,sans-Serif\" font-size=\"14.00\" fill=\"#000000\">gini = 0.18</text>\n<text text-anchor=\"start\" x=\"717.5\" y=\"-1807.8\" font-family=\"Helvetica,sans-Serif\" font-size=\"14.00\" fill=\"#000000\">samples = 10</text>\n<text text-anchor=\"start\" x=\"720\" y=\"-1792.8\" font-family=\"Helvetica,sans-Serif\" font-size=\"14.00\" fill=\"#000000\">value = [1, 9]</text>\n<text text-anchor=\"start\" x=\"732.5\" y=\"-1777.8\" font-family=\"Helvetica,sans-Serif\" font-size=\"14.00\" fill=\"#000000\">class = o</text>\n</g>\n<!-- 1&#45;&gt;11 -->\n<g id=\"edge11\" class=\"edge\">\n<title>1&#45;&gt;11</title>\n<path fill=\"none\" stroke=\"#000000\" d=\"M761.5,-1888.8796C761.5,-1880.6838 761.5,-1871.9891 761.5,-1863.5013\"/>\n<polygon fill=\"#000000\" stroke=\"#000000\" points=\"765.0001,-1863.298 761.5,-1853.2981 758.0001,-1863.2981 765.0001,-1863.298\"/>\n</g>\n<!-- 3 -->\n<g id=\"node4\" class=\"node\">\n<title>3</title>\n<path fill=\"#42a1e6\" stroke=\"#000000\" d=\"M484,-1734C484,-1734 401,-1734 401,-1734 395,-1734 389,-1728 389,-1722 389,-1722 389,-1663 389,-1663 389,-1657 395,-1651 401,-1651 401,-1651 484,-1651 484,-1651 490,-1651 496,-1657 496,-1663 496,-1663 496,-1722 496,-1722 496,-1728 490,-1734 484,-1734\"/>\n<text text-anchor=\"start\" x=\"401.5\" y=\"-1718.8\" font-family=\"Helvetica,sans-Serif\" font-size=\"14.00\" fill=\"#000000\">age ≤ &#45;0.902</text>\n<text text-anchor=\"start\" x=\"404.5\" y=\"-1703.8\" font-family=\"Helvetica,sans-Serif\" font-size=\"14.00\" fill=\"#000000\">gini = 0.083</text>\n<text text-anchor=\"start\" x=\"398.5\" y=\"-1688.8\" font-family=\"Helvetica,sans-Serif\" font-size=\"14.00\" fill=\"#000000\">samples = 23</text>\n<text text-anchor=\"start\" x=\"397\" y=\"-1673.8\" font-family=\"Helvetica,sans-Serif\" font-size=\"14.00\" fill=\"#000000\">value = [1, 22]</text>\n<text text-anchor=\"start\" x=\"413.5\" y=\"-1658.8\" font-family=\"Helvetica,sans-Serif\" font-size=\"14.00\" fill=\"#000000\">class = o</text>\n</g>\n<!-- 2&#45;&gt;3 -->\n<g id=\"edge3\" class=\"edge\">\n<title>2&#45;&gt;3</title>\n<path fill=\"none\" stroke=\"#000000\" d=\"M523.7811,-1769.8796C514.1314,-1760.6931 503.8234,-1750.8798 493.9009,-1741.4336\"/>\n<polygon fill=\"#000000\" stroke=\"#000000\" points=\"496.0616,-1738.6582 486.4055,-1734.2981 491.235,-1743.7282 496.0616,-1738.6582\"/>\n</g>\n<!-- 10 -->\n<g id=\"node11\" class=\"node\">\n<title>10</title>\n<path fill=\"#399de5\" stroke=\"#000000\" d=\"M609,-1726.5C609,-1726.5 526,-1726.5 526,-1726.5 520,-1726.5 514,-1720.5 514,-1714.5 514,-1714.5 514,-1670.5 514,-1670.5 514,-1664.5 520,-1658.5 526,-1658.5 526,-1658.5 609,-1658.5 609,-1658.5 615,-1658.5 621,-1664.5 621,-1670.5 621,-1670.5 621,-1714.5 621,-1714.5 621,-1720.5 615,-1726.5 609,-1726.5\"/>\n<text text-anchor=\"start\" x=\"538\" y=\"-1711.3\" font-family=\"Helvetica,sans-Serif\" font-size=\"14.00\" fill=\"#000000\">gini = 0.0</text>\n<text text-anchor=\"start\" x=\"523.5\" y=\"-1696.3\" font-family=\"Helvetica,sans-Serif\" font-size=\"14.00\" fill=\"#000000\">samples = 75</text>\n<text text-anchor=\"start\" x=\"522\" y=\"-1681.3\" font-family=\"Helvetica,sans-Serif\" font-size=\"14.00\" fill=\"#000000\">value = [0, 75]</text>\n<text text-anchor=\"start\" x=\"538.5\" y=\"-1666.3\" font-family=\"Helvetica,sans-Serif\" font-size=\"14.00\" fill=\"#000000\">class = o</text>\n</g>\n<!-- 2&#45;&gt;10 -->\n<g id=\"edge10\" class=\"edge\">\n<title>2&#45;&gt;10</title>\n<path fill=\"none\" stroke=\"#000000\" d=\"M567.5,-1769.8796C567.5,-1759.2134 567.5,-1747.7021 567.5,-1736.9015\"/>\n<polygon fill=\"#000000\" stroke=\"#000000\" points=\"571.0001,-1736.8149 567.5,-1726.8149 564.0001,-1736.815 571.0001,-1736.8149\"/>\n</g>\n<!-- 4 -->\n<g id=\"node5\" class=\"node\">\n<title>4</title>\n<path fill=\"#399de5\" stroke=\"#000000\" d=\"M363,-1607.5C363,-1607.5 280,-1607.5 280,-1607.5 274,-1607.5 268,-1601.5 268,-1595.5 268,-1595.5 268,-1551.5 268,-1551.5 268,-1545.5 274,-1539.5 280,-1539.5 280,-1539.5 363,-1539.5 363,-1539.5 369,-1539.5 375,-1545.5 375,-1551.5 375,-1551.5 375,-1595.5 375,-1595.5 375,-1601.5 369,-1607.5 363,-1607.5\"/>\n<text text-anchor=\"start\" x=\"292\" y=\"-1592.3\" font-family=\"Helvetica,sans-Serif\" font-size=\"14.00\" fill=\"#000000\">gini = 0.0</text>\n<text text-anchor=\"start\" x=\"277.5\" y=\"-1577.3\" font-family=\"Helvetica,sans-Serif\" font-size=\"14.00\" fill=\"#000000\">samples = 17</text>\n<text text-anchor=\"start\" x=\"276\" y=\"-1562.3\" font-family=\"Helvetica,sans-Serif\" font-size=\"14.00\" fill=\"#000000\">value = [0, 17]</text>\n<text text-anchor=\"start\" x=\"292.5\" y=\"-1547.3\" font-family=\"Helvetica,sans-Serif\" font-size=\"14.00\" fill=\"#000000\">class = o</text>\n</g>\n<!-- 3&#45;&gt;4 -->\n<g id=\"edge4\" class=\"edge\">\n<title>3&#45;&gt;4</title>\n<path fill=\"none\" stroke=\"#000000\" d=\"M400.1801,-1650.8796C388.3283,-1639.2237 375.4505,-1626.5587 363.6109,-1614.9148\"/>\n<polygon fill=\"#000000\" stroke=\"#000000\" points=\"365.9756,-1612.3314 356.3917,-1607.8149 361.0673,-1617.3223 365.9756,-1612.3314\"/>\n</g>\n<!-- 5 -->\n<g id=\"node6\" class=\"node\">\n<title>5</title>\n<path fill=\"#61b1ea\" stroke=\"#000000\" d=\"M488,-1615C488,-1615 405,-1615 405,-1615 399,-1615 393,-1609 393,-1603 393,-1603 393,-1544 393,-1544 393,-1538 399,-1532 405,-1532 405,-1532 488,-1532 488,-1532 494,-1532 500,-1538 500,-1544 500,-1544 500,-1603 500,-1603 500,-1609 494,-1615 488,-1615\"/>\n<text text-anchor=\"start\" x=\"401\" y=\"-1599.8\" font-family=\"Helvetica,sans-Serif\" font-size=\"14.00\" fill=\"#000000\">college ≤ 0.14</text>\n<text text-anchor=\"start\" x=\"408.5\" y=\"-1584.8\" font-family=\"Helvetica,sans-Serif\" font-size=\"14.00\" fill=\"#000000\">gini = 0.278</text>\n<text text-anchor=\"start\" x=\"407\" y=\"-1569.8\" font-family=\"Helvetica,sans-Serif\" font-size=\"14.00\" fill=\"#000000\">samples = 6</text>\n<text text-anchor=\"start\" x=\"405\" y=\"-1554.8\" font-family=\"Helvetica,sans-Serif\" font-size=\"14.00\" fill=\"#000000\">value = [1, 5]</text>\n<text text-anchor=\"start\" x=\"417.5\" y=\"-1539.8\" font-family=\"Helvetica,sans-Serif\" font-size=\"14.00\" fill=\"#000000\">class = o</text>\n</g>\n<!-- 3&#45;&gt;5 -->\n<g id=\"edge5\" class=\"edge\">\n<title>3&#45;&gt;5</title>\n<path fill=\"none\" stroke=\"#000000\" d=\"M443.899,-1650.8796C444.1745,-1642.6838 444.4668,-1633.9891 444.7521,-1625.5013\"/>\n<polygon fill=\"#000000\" stroke=\"#000000\" points=\"448.257,-1625.41 445.095,-1615.2981 441.261,-1625.1748 448.257,-1625.41\"/>\n</g>\n<!-- 6 -->\n<g id=\"node7\" class=\"node\">\n<title>6</title>\n<path fill=\"#399de5\" stroke=\"#000000\" d=\"M378,-1488.5C378,-1488.5 303,-1488.5 303,-1488.5 297,-1488.5 291,-1482.5 291,-1476.5 291,-1476.5 291,-1432.5 291,-1432.5 291,-1426.5 297,-1420.5 303,-1420.5 303,-1420.5 378,-1420.5 378,-1420.5 384,-1420.5 390,-1426.5 390,-1432.5 390,-1432.5 390,-1476.5 390,-1476.5 390,-1482.5 384,-1488.5 378,-1488.5\"/>\n<text text-anchor=\"start\" x=\"311\" y=\"-1473.3\" font-family=\"Helvetica,sans-Serif\" font-size=\"14.00\" fill=\"#000000\">gini = 0.0</text>\n<text text-anchor=\"start\" x=\"301\" y=\"-1458.3\" font-family=\"Helvetica,sans-Serif\" font-size=\"14.00\" fill=\"#000000\">samples = 4</text>\n<text text-anchor=\"start\" x=\"299\" y=\"-1443.3\" font-family=\"Helvetica,sans-Serif\" font-size=\"14.00\" fill=\"#000000\">value = [0, 4]</text>\n<text text-anchor=\"start\" x=\"311.5\" y=\"-1428.3\" font-family=\"Helvetica,sans-Serif\" font-size=\"14.00\" fill=\"#000000\">class = o</text>\n</g>\n<!-- 5&#45;&gt;6 -->\n<g id=\"edge6\" class=\"edge\">\n<title>5&#45;&gt;6</title>\n<path fill=\"none\" stroke=\"#000000\" d=\"M409.4263,-1531.8796C399.2397,-1520.4436 388.1878,-1508.0363 377.9785,-1496.575\"/>\n<polygon fill=\"#000000\" stroke=\"#000000\" points=\"380.3312,-1493.9541 371.0662,-1488.8149 375.1042,-1498.6101 380.3312,-1493.9541\"/>\n</g>\n<!-- 7 -->\n<g id=\"node8\" class=\"node\">\n<title>7</title>\n<path fill=\"#ffffff\" stroke=\"#000000\" d=\"M505,-1496C505,-1496 420,-1496 420,-1496 414,-1496 408,-1490 408,-1484 408,-1484 408,-1425 408,-1425 408,-1419 414,-1413 420,-1413 420,-1413 505,-1413 505,-1413 511,-1413 517,-1419 517,-1425 517,-1425 517,-1484 517,-1484 517,-1490 511,-1496 505,-1496\"/>\n<text text-anchor=\"start\" x=\"416\" y=\"-1480.8\" font-family=\"Helvetica,sans-Serif\" font-size=\"14.00\" fill=\"#000000\">terms ≤ &#45;0.019</text>\n<text text-anchor=\"start\" x=\"433\" y=\"-1465.8\" font-family=\"Helvetica,sans-Serif\" font-size=\"14.00\" fill=\"#000000\">gini = 0.5</text>\n<text text-anchor=\"start\" x=\"423\" y=\"-1450.8\" font-family=\"Helvetica,sans-Serif\" font-size=\"14.00\" fill=\"#000000\">samples = 2</text>\n<text text-anchor=\"start\" x=\"421\" y=\"-1435.8\" font-family=\"Helvetica,sans-Serif\" font-size=\"14.00\" fill=\"#000000\">value = [1, 1]</text>\n<text text-anchor=\"start\" x=\"436\" y=\"-1420.8\" font-family=\"Helvetica,sans-Serif\" font-size=\"14.00\" fill=\"#000000\">class = l</text>\n</g>\n<!-- 5&#45;&gt;7 -->\n<g id=\"edge7\" class=\"edge\">\n<title>5&#45;&gt;7</title>\n<path fill=\"none\" stroke=\"#000000\" d=\"M452.096,-1531.8796C453.2101,-1523.5938 454.3927,-1514.798 455.5458,-1506.2216\"/>\n<polygon fill=\"#000000\" stroke=\"#000000\" points=\"459.0162,-1506.6753 456.8801,-1496.2981 452.0787,-1505.7425 459.0162,-1506.6753\"/>\n</g>\n<!-- 8 -->\n<g id=\"node9\" class=\"node\">\n<title>8</title>\n<path fill=\"#399de5\" stroke=\"#000000\" d=\"M385,-1369.5C385,-1369.5 310,-1369.5 310,-1369.5 304,-1369.5 298,-1363.5 298,-1357.5 298,-1357.5 298,-1313.5 298,-1313.5 298,-1307.5 304,-1301.5 310,-1301.5 310,-1301.5 385,-1301.5 385,-1301.5 391,-1301.5 397,-1307.5 397,-1313.5 397,-1313.5 397,-1357.5 397,-1357.5 397,-1363.5 391,-1369.5 385,-1369.5\"/>\n<text text-anchor=\"start\" x=\"318\" y=\"-1354.3\" font-family=\"Helvetica,sans-Serif\" font-size=\"14.00\" fill=\"#000000\">gini = 0.0</text>\n<text text-anchor=\"start\" x=\"308\" y=\"-1339.3\" font-family=\"Helvetica,sans-Serif\" font-size=\"14.00\" fill=\"#000000\">samples = 1</text>\n<text text-anchor=\"start\" x=\"306\" y=\"-1324.3\" font-family=\"Helvetica,sans-Serif\" font-size=\"14.00\" fill=\"#000000\">value = [0, 1]</text>\n<text text-anchor=\"start\" x=\"318.5\" y=\"-1309.3\" font-family=\"Helvetica,sans-Serif\" font-size=\"14.00\" fill=\"#000000\">class = o</text>\n</g>\n<!-- 7&#45;&gt;8 -->\n<g id=\"edge8\" class=\"edge\">\n<title>7&#45;&gt;8</title>\n<path fill=\"none\" stroke=\"#000000\" d=\"M422.2786,-1412.8796C411.1208,-1401.3337 399.0061,-1388.7976 387.8414,-1377.2446\"/>\n<polygon fill=\"#000000\" stroke=\"#000000\" points=\"390.1275,-1374.5736 380.6615,-1369.8149 385.0939,-1379.4381 390.1275,-1374.5736\"/>\n</g>\n<!-- 9 -->\n<g id=\"node10\" class=\"node\">\n<title>9</title>\n<path fill=\"#e58139\" stroke=\"#000000\" d=\"M502,-1369.5C502,-1369.5 427,-1369.5 427,-1369.5 421,-1369.5 415,-1363.5 415,-1357.5 415,-1357.5 415,-1313.5 415,-1313.5 415,-1307.5 421,-1301.5 427,-1301.5 427,-1301.5 502,-1301.5 502,-1301.5 508,-1301.5 514,-1307.5 514,-1313.5 514,-1313.5 514,-1357.5 514,-1357.5 514,-1363.5 508,-1369.5 502,-1369.5\"/>\n<text text-anchor=\"start\" x=\"435\" y=\"-1354.3\" font-family=\"Helvetica,sans-Serif\" font-size=\"14.00\" fill=\"#000000\">gini = 0.0</text>\n<text text-anchor=\"start\" x=\"425\" y=\"-1339.3\" font-family=\"Helvetica,sans-Serif\" font-size=\"14.00\" fill=\"#000000\">samples = 1</text>\n<text text-anchor=\"start\" x=\"423\" y=\"-1324.3\" font-family=\"Helvetica,sans-Serif\" font-size=\"14.00\" fill=\"#000000\">value = [1, 0]</text>\n<text text-anchor=\"start\" x=\"438\" y=\"-1309.3\" font-family=\"Helvetica,sans-Serif\" font-size=\"14.00\" fill=\"#000000\">class = l</text>\n</g>\n<!-- 7&#45;&gt;9 -->\n<g id=\"edge9\" class=\"edge\">\n<title>7&#45;&gt;9</title>\n<path fill=\"none\" stroke=\"#000000\" d=\"M463.1995,-1412.8796C463.3788,-1402.2134 463.5722,-1390.7021 463.7538,-1379.9015\"/>\n<polygon fill=\"#000000\" stroke=\"#000000\" points=\"467.2546,-1379.8724 463.9233,-1369.8149 460.2556,-1379.7547 467.2546,-1379.8724\"/>\n</g>\n<!-- 12 -->\n<g id=\"node13\" class=\"node\">\n<title>12</title>\n<path fill=\"#ffffff\" stroke=\"#000000\" d=\"M834,-1734C834,-1734 651,-1734 651,-1734 645,-1734 639,-1728 639,-1722 639,-1722 639,-1663 639,-1663 639,-1657 645,-1651 651,-1651 651,-1651 834,-1651 834,-1651 840,-1651 846,-1657 846,-1663 846,-1663 846,-1722 846,-1722 846,-1728 840,-1734 834,-1734\"/>\n<text text-anchor=\"start\" x=\"647\" y=\"-1718.8\" font-family=\"Helvetica,sans-Serif\" font-size=\"14.00\" fill=\"#000000\">High School or Below ≤ 0.128</text>\n<text text-anchor=\"start\" x=\"713\" y=\"-1703.8\" font-family=\"Helvetica,sans-Serif\" font-size=\"14.00\" fill=\"#000000\">gini = 0.5</text>\n<text text-anchor=\"start\" x=\"703\" y=\"-1688.8\" font-family=\"Helvetica,sans-Serif\" font-size=\"14.00\" fill=\"#000000\">samples = 2</text>\n<text text-anchor=\"start\" x=\"701\" y=\"-1673.8\" font-family=\"Helvetica,sans-Serif\" font-size=\"14.00\" fill=\"#000000\">value = [1, 1]</text>\n<text text-anchor=\"start\" x=\"716\" y=\"-1658.8\" font-family=\"Helvetica,sans-Serif\" font-size=\"14.00\" fill=\"#000000\">class = l</text>\n</g>\n<!-- 11&#45;&gt;12 -->\n<g id=\"edge12\" class=\"edge\">\n<title>11&#45;&gt;12</title>\n<path fill=\"none\" stroke=\"#000000\" d=\"M754.8547,-1769.8796C753.5318,-1761.5938 752.1274,-1752.798 750.7581,-1744.2216\"/>\n<polygon fill=\"#000000\" stroke=\"#000000\" points=\"754.2066,-1743.6211 749.1736,-1734.2981 747.2942,-1744.7249 754.2066,-1743.6211\"/>\n</g>\n<!-- 15 -->\n<g id=\"node16\" class=\"node\">\n<title>15</title>\n<path fill=\"#399de5\" stroke=\"#000000\" d=\"M951,-1726.5C951,-1726.5 876,-1726.5 876,-1726.5 870,-1726.5 864,-1720.5 864,-1714.5 864,-1714.5 864,-1670.5 864,-1670.5 864,-1664.5 870,-1658.5 876,-1658.5 876,-1658.5 951,-1658.5 951,-1658.5 957,-1658.5 963,-1664.5 963,-1670.5 963,-1670.5 963,-1714.5 963,-1714.5 963,-1720.5 957,-1726.5 951,-1726.5\"/>\n<text text-anchor=\"start\" x=\"884\" y=\"-1711.3\" font-family=\"Helvetica,sans-Serif\" font-size=\"14.00\" fill=\"#000000\">gini = 0.0</text>\n<text text-anchor=\"start\" x=\"874\" y=\"-1696.3\" font-family=\"Helvetica,sans-Serif\" font-size=\"14.00\" fill=\"#000000\">samples = 8</text>\n<text text-anchor=\"start\" x=\"872\" y=\"-1681.3\" font-family=\"Helvetica,sans-Serif\" font-size=\"14.00\" fill=\"#000000\">value = [0, 8]</text>\n<text text-anchor=\"start\" x=\"884.5\" y=\"-1666.3\" font-family=\"Helvetica,sans-Serif\" font-size=\"14.00\" fill=\"#000000\">class = o</text>\n</g>\n<!-- 11&#45;&gt;15 -->\n<g id=\"edge15\" class=\"edge\">\n<title>11&#45;&gt;15</title>\n<path fill=\"none\" stroke=\"#000000\" d=\"M813.8098,-1770.547C829.313,-1758.4096 846.2775,-1745.1282 861.7453,-1733.0185\"/>\n<polygon fill=\"#000000\" stroke=\"#000000\" points=\"863.9655,-1735.7254 869.6819,-1726.805 859.6503,-1730.2136 863.9655,-1735.7254\"/>\n</g>\n<!-- 13 -->\n<g id=\"node14\" class=\"node\">\n<title>13</title>\n<path fill=\"#e58139\" stroke=\"#000000\" d=\"M663,-1607.5C663,-1607.5 588,-1607.5 588,-1607.5 582,-1607.5 576,-1601.5 576,-1595.5 576,-1595.5 576,-1551.5 576,-1551.5 576,-1545.5 582,-1539.5 588,-1539.5 588,-1539.5 663,-1539.5 663,-1539.5 669,-1539.5 675,-1545.5 675,-1551.5 675,-1551.5 675,-1595.5 675,-1595.5 675,-1601.5 669,-1607.5 663,-1607.5\"/>\n<text text-anchor=\"start\" x=\"596\" y=\"-1592.3\" font-family=\"Helvetica,sans-Serif\" font-size=\"14.00\" fill=\"#000000\">gini = 0.0</text>\n<text text-anchor=\"start\" x=\"586\" y=\"-1577.3\" font-family=\"Helvetica,sans-Serif\" font-size=\"14.00\" fill=\"#000000\">samples = 1</text>\n<text text-anchor=\"start\" x=\"584\" y=\"-1562.3\" font-family=\"Helvetica,sans-Serif\" font-size=\"14.00\" fill=\"#000000\">value = [1, 0]</text>\n<text text-anchor=\"start\" x=\"599\" y=\"-1547.3\" font-family=\"Helvetica,sans-Serif\" font-size=\"14.00\" fill=\"#000000\">class = l</text>\n</g>\n<!-- 12&#45;&gt;13 -->\n<g id=\"edge13\" class=\"edge\">\n<title>12&#45;&gt;13</title>\n<path fill=\"none\" stroke=\"#000000\" d=\"M701.5791,-1650.8796C690.2272,-1639.3337 677.9018,-1626.7976 666.543,-1615.2446\"/>\n<polygon fill=\"#000000\" stroke=\"#000000\" points=\"668.7449,-1612.4919 659.2382,-1607.8149 663.7534,-1617.3995 668.7449,-1612.4919\"/>\n</g>\n<!-- 14 -->\n<g id=\"node15\" class=\"node\">\n<title>14</title>\n<path fill=\"#399de5\" stroke=\"#000000\" d=\"M780,-1607.5C780,-1607.5 705,-1607.5 705,-1607.5 699,-1607.5 693,-1601.5 693,-1595.5 693,-1595.5 693,-1551.5 693,-1551.5 693,-1545.5 699,-1539.5 705,-1539.5 705,-1539.5 780,-1539.5 780,-1539.5 786,-1539.5 792,-1545.5 792,-1551.5 792,-1551.5 792,-1595.5 792,-1595.5 792,-1601.5 786,-1607.5 780,-1607.5\"/>\n<text text-anchor=\"start\" x=\"713\" y=\"-1592.3\" font-family=\"Helvetica,sans-Serif\" font-size=\"14.00\" fill=\"#000000\">gini = 0.0</text>\n<text text-anchor=\"start\" x=\"703\" y=\"-1577.3\" font-family=\"Helvetica,sans-Serif\" font-size=\"14.00\" fill=\"#000000\">samples = 1</text>\n<text text-anchor=\"start\" x=\"701\" y=\"-1562.3\" font-family=\"Helvetica,sans-Serif\" font-size=\"14.00\" fill=\"#000000\">value = [0, 1]</text>\n<text text-anchor=\"start\" x=\"713.5\" y=\"-1547.3\" font-family=\"Helvetica,sans-Serif\" font-size=\"14.00\" fill=\"#000000\">class = o</text>\n</g>\n<!-- 12&#45;&gt;14 -->\n<g id=\"edge14\" class=\"edge\">\n<title>12&#45;&gt;14</title>\n<path fill=\"none\" stroke=\"#000000\" d=\"M742.5,-1650.8796C742.5,-1640.2134 742.5,-1628.7021 742.5,-1617.9015\"/>\n<polygon fill=\"#000000\" stroke=\"#000000\" points=\"746.0001,-1617.8149 742.5,-1607.8149 739.0001,-1617.815 746.0001,-1617.8149\"/>\n</g>\n<!-- 17 -->\n<g id=\"node18\" class=\"node\">\n<title>17</title>\n<path fill=\"#399de5\" stroke=\"#000000\" d=\"M957,-1845.5C957,-1845.5 882,-1845.5 882,-1845.5 876,-1845.5 870,-1839.5 870,-1833.5 870,-1833.5 870,-1789.5 870,-1789.5 870,-1783.5 876,-1777.5 882,-1777.5 882,-1777.5 957,-1777.5 957,-1777.5 963,-1777.5 969,-1783.5 969,-1789.5 969,-1789.5 969,-1833.5 969,-1833.5 969,-1839.5 963,-1845.5 957,-1845.5\"/>\n<text text-anchor=\"start\" x=\"890\" y=\"-1830.3\" font-family=\"Helvetica,sans-Serif\" font-size=\"14.00\" fill=\"#000000\">gini = 0.0</text>\n<text text-anchor=\"start\" x=\"880\" y=\"-1815.3\" font-family=\"Helvetica,sans-Serif\" font-size=\"14.00\" fill=\"#000000\">samples = 7</text>\n<text text-anchor=\"start\" x=\"878\" y=\"-1800.3\" font-family=\"Helvetica,sans-Serif\" font-size=\"14.00\" fill=\"#000000\">value = [0, 7]</text>\n<text text-anchor=\"start\" x=\"890.5\" y=\"-1785.3\" font-family=\"Helvetica,sans-Serif\" font-size=\"14.00\" fill=\"#000000\">class = o</text>\n</g>\n<!-- 16&#45;&gt;17 -->\n<g id=\"edge17\" class=\"edge\">\n<title>16&#45;&gt;17</title>\n<path fill=\"none\" stroke=\"#000000\" d=\"M919.5,-1888.8796C919.5,-1878.2134 919.5,-1866.7021 919.5,-1855.9015\"/>\n<polygon fill=\"#000000\" stroke=\"#000000\" points=\"923.0001,-1855.8149 919.5,-1845.8149 916.0001,-1855.815 923.0001,-1855.8149\"/>\n</g>\n<!-- 18 -->\n<g id=\"node19\" class=\"node\">\n<title>18</title>\n<path fill=\"#c6e3f8\" stroke=\"#000000\" d=\"M1108,-1853C1108,-1853 1015,-1853 1015,-1853 1009,-1853 1003,-1847 1003,-1841 1003,-1841 1003,-1782 1003,-1782 1003,-1776 1009,-1770 1015,-1770 1015,-1770 1108,-1770 1108,-1770 1114,-1770 1120,-1776 1120,-1782 1120,-1782 1120,-1841 1120,-1841 1120,-1847 1114,-1853 1108,-1853\"/>\n<text text-anchor=\"start\" x=\"1011\" y=\"-1837.8\" font-family=\"Helvetica,sans-Serif\" font-size=\"14.00\" fill=\"#000000\">Gender ≤ 0.979</text>\n<text text-anchor=\"start\" x=\"1023.5\" y=\"-1822.8\" font-family=\"Helvetica,sans-Serif\" font-size=\"14.00\" fill=\"#000000\">gini = 0.486</text>\n<text text-anchor=\"start\" x=\"1013.5\" y=\"-1807.8\" font-family=\"Helvetica,sans-Serif\" font-size=\"14.00\" fill=\"#000000\">samples = 161</text>\n<text text-anchor=\"start\" x=\"1011.5\" y=\"-1792.8\" font-family=\"Helvetica,sans-Serif\" font-size=\"14.00\" fill=\"#000000\">value = [67, 94]</text>\n<text text-anchor=\"start\" x=\"1032.5\" y=\"-1777.8\" font-family=\"Helvetica,sans-Serif\" font-size=\"14.00\" fill=\"#000000\">class = o</text>\n</g>\n<!-- 16&#45;&gt;18 -->\n<g id=\"edge18\" class=\"edge\">\n<title>16&#45;&gt;18</title>\n<path fill=\"none\" stroke=\"#000000\" d=\"M969.1647,-1888.8796C980.3416,-1879.513 992.2962,-1869.4948 1003.7712,-1859.8784\"/>\n<polygon fill=\"#000000\" stroke=\"#000000\" points=\"1006.2069,-1862.4037 1011.6233,-1853.2981 1001.7107,-1857.0386 1006.2069,-1862.4037\"/>\n</g>\n<!-- 19 -->\n<g id=\"node20\" class=\"node\">\n<title>19</title>\n<path fill=\"#d2e9f9\" stroke=\"#000000\" d=\"M1107.5,-1734C1107.5,-1734 1015.5,-1734 1015.5,-1734 1009.5,-1734 1003.5,-1728 1003.5,-1722 1003.5,-1722 1003.5,-1663 1003.5,-1663 1003.5,-1657 1009.5,-1651 1015.5,-1651 1015.5,-1651 1107.5,-1651 1107.5,-1651 1113.5,-1651 1119.5,-1657 1119.5,-1663 1119.5,-1663 1119.5,-1722 1119.5,-1722 1119.5,-1728 1113.5,-1734 1107.5,-1734\"/>\n<text text-anchor=\"start\" x=\"1020.5\" y=\"-1718.8\" font-family=\"Helvetica,sans-Serif\" font-size=\"14.00\" fill=\"#000000\">age ≤ &#45;1.234</text>\n<text text-anchor=\"start\" x=\"1023.5\" y=\"-1703.8\" font-family=\"Helvetica,sans-Serif\" font-size=\"14.00\" fill=\"#000000\">gini = 0.492</text>\n<text text-anchor=\"start\" x=\"1013.5\" y=\"-1688.8\" font-family=\"Helvetica,sans-Serif\" font-size=\"14.00\" fill=\"#000000\">samples = 142</text>\n<text text-anchor=\"start\" x=\"1011.5\" y=\"-1673.8\" font-family=\"Helvetica,sans-Serif\" font-size=\"14.00\" fill=\"#000000\">value = [62, 80]</text>\n<text text-anchor=\"start\" x=\"1032.5\" y=\"-1658.8\" font-family=\"Helvetica,sans-Serif\" font-size=\"14.00\" fill=\"#000000\">class = o</text>\n</g>\n<!-- 18&#45;&gt;19 -->\n<g id=\"edge19\" class=\"edge\">\n<title>18&#45;&gt;19</title>\n<path fill=\"none\" stroke=\"#000000\" d=\"M1061.5,-1769.8796C1061.5,-1761.6838 1061.5,-1752.9891 1061.5,-1744.5013\"/>\n<polygon fill=\"#000000\" stroke=\"#000000\" points=\"1065.0001,-1744.298 1061.5,-1734.2981 1058.0001,-1744.2981 1065.0001,-1744.298\"/>\n</g>\n<!-- 160 -->\n<g id=\"node161\" class=\"node\">\n<title>160</title>\n<path fill=\"#80c0ee\" stroke=\"#000000\" d=\"M1614,-1734C1614,-1734 1431,-1734 1431,-1734 1425,-1734 1419,-1728 1419,-1722 1419,-1722 1419,-1663 1419,-1663 1419,-1657 1425,-1651 1431,-1651 1431,-1651 1614,-1651 1614,-1651 1620,-1651 1626,-1657 1626,-1663 1626,-1663 1626,-1722 1626,-1722 1626,-1728 1620,-1734 1614,-1734\"/>\n<text text-anchor=\"start\" x=\"1427\" y=\"-1718.8\" font-family=\"Helvetica,sans-Serif\" font-size=\"14.00\" fill=\"#000000\">High School or Below ≤ 0.128</text>\n<text text-anchor=\"start\" x=\"1484.5\" y=\"-1703.8\" font-family=\"Helvetica,sans-Serif\" font-size=\"14.00\" fill=\"#000000\">gini = 0.388</text>\n<text text-anchor=\"start\" x=\"1478.5\" y=\"-1688.8\" font-family=\"Helvetica,sans-Serif\" font-size=\"14.00\" fill=\"#000000\">samples = 19</text>\n<text text-anchor=\"start\" x=\"1477\" y=\"-1673.8\" font-family=\"Helvetica,sans-Serif\" font-size=\"14.00\" fill=\"#000000\">value = [5, 14]</text>\n<text text-anchor=\"start\" x=\"1493.5\" y=\"-1658.8\" font-family=\"Helvetica,sans-Serif\" font-size=\"14.00\" fill=\"#000000\">class = o</text>\n</g>\n<!-- 18&#45;&gt;160 -->\n<g id=\"edge160\" class=\"edge\">\n<title>18&#45;&gt;160</title>\n<path fill=\"none\" stroke=\"#000000\" d=\"M1120.3542,-1796.3077C1192.8393,-1777.5968 1317.5696,-1745.3996 1408.9449,-1721.8125\"/>\n<polygon fill=\"#000000\" stroke=\"#000000\" points=\"1409.9885,-1725.1579 1418.7963,-1719.2695 1408.2389,-1718.3801 1409.9885,-1725.1579\"/>\n</g>\n<!-- 20 -->\n<g id=\"node21\" class=\"node\">\n<title>20</title>\n<path fill=\"#88c4ef\" stroke=\"#000000\" d=\"M905,-1615C905,-1615 822,-1615 822,-1615 816,-1615 810,-1609 810,-1603 810,-1603 810,-1544 810,-1544 810,-1538 816,-1532 822,-1532 822,-1532 905,-1532 905,-1532 911,-1532 917,-1538 917,-1544 917,-1544 917,-1603 917,-1603 917,-1609 911,-1615 905,-1615\"/>\n<text text-anchor=\"start\" x=\"827\" y=\"-1599.8\" font-family=\"Helvetica,sans-Serif\" font-size=\"14.00\" fill=\"#000000\">age ≤ &#45;1.98</text>\n<text text-anchor=\"start\" x=\"825.5\" y=\"-1584.8\" font-family=\"Helvetica,sans-Serif\" font-size=\"14.00\" fill=\"#000000\">gini = 0.408</text>\n<text text-anchor=\"start\" x=\"819.5\" y=\"-1569.8\" font-family=\"Helvetica,sans-Serif\" font-size=\"14.00\" fill=\"#000000\">samples = 14</text>\n<text text-anchor=\"start\" x=\"818\" y=\"-1554.8\" font-family=\"Helvetica,sans-Serif\" font-size=\"14.00\" fill=\"#000000\">value = [4, 10]</text>\n<text text-anchor=\"start\" x=\"834.5\" y=\"-1539.8\" font-family=\"Helvetica,sans-Serif\" font-size=\"14.00\" fill=\"#000000\">class = o</text>\n</g>\n<!-- 19&#45;&gt;20 -->\n<g id=\"edge20\" class=\"edge\">\n<title>19&#45;&gt;20</title>\n<path fill=\"none\" stroke=\"#000000\" d=\"M1003.4313,-1657.6001C979.0355,-1642.938 950.6149,-1625.8569 925.7844,-1610.9335\"/>\n<polygon fill=\"#000000\" stroke=\"#000000\" points=\"927.5378,-1607.9039 917.1637,-1605.7525 923.9319,-1613.9037 927.5378,-1607.9039\"/>\n</g>\n<!-- 35 -->\n<g id=\"node36\" class=\"node\">\n<title>35</title>\n<path fill=\"#ddeefb\" stroke=\"#000000\" d=\"M1152.5,-1615C1152.5,-1615 1060.5,-1615 1060.5,-1615 1054.5,-1615 1048.5,-1609 1048.5,-1603 1048.5,-1603 1048.5,-1544 1048.5,-1544 1048.5,-1538 1054.5,-1532 1060.5,-1532 1060.5,-1532 1152.5,-1532 1152.5,-1532 1158.5,-1532 1164.5,-1538 1164.5,-1544 1164.5,-1544 1164.5,-1603 1164.5,-1603 1164.5,-1609 1158.5,-1615 1152.5,-1615\"/>\n<text text-anchor=\"start\" x=\"1065.5\" y=\"-1599.8\" font-family=\"Helvetica,sans-Serif\" font-size=\"14.00\" fill=\"#000000\">age ≤ &#45;0.902</text>\n<text text-anchor=\"start\" x=\"1068.5\" y=\"-1584.8\" font-family=\"Helvetica,sans-Serif\" font-size=\"14.00\" fill=\"#000000\">gini = 0.496</text>\n<text text-anchor=\"start\" x=\"1058.5\" y=\"-1569.8\" font-family=\"Helvetica,sans-Serif\" font-size=\"14.00\" fill=\"#000000\">samples = 128</text>\n<text text-anchor=\"start\" x=\"1056.5\" y=\"-1554.8\" font-family=\"Helvetica,sans-Serif\" font-size=\"14.00\" fill=\"#000000\">value = [58, 70]</text>\n<text text-anchor=\"start\" x=\"1077.5\" y=\"-1539.8\" font-family=\"Helvetica,sans-Serif\" font-size=\"14.00\" fill=\"#000000\">class = o</text>\n</g>\n<!-- 19&#45;&gt;35 -->\n<g id=\"edge35\" class=\"edge\">\n<title>19&#45;&gt;35</title>\n<path fill=\"none\" stroke=\"#000000\" d=\"M1077.2388,-1650.8796C1080.4402,-1642.4136 1083.8429,-1633.4153 1087.1528,-1624.6626\"/>\n<polygon fill=\"#000000\" stroke=\"#000000\" points=\"1090.4306,-1625.8896 1090.694,-1615.2981 1083.8831,-1623.4136 1090.4306,-1625.8896\"/>\n</g>\n<!-- 21 -->\n<g id=\"node22\" class=\"node\">\n<title>21</title>\n<path fill=\"#e58139\" stroke=\"#000000\" d=\"M779,-1488.5C779,-1488.5 704,-1488.5 704,-1488.5 698,-1488.5 692,-1482.5 692,-1476.5 692,-1476.5 692,-1432.5 692,-1432.5 692,-1426.5 698,-1420.5 704,-1420.5 704,-1420.5 779,-1420.5 779,-1420.5 785,-1420.5 791,-1426.5 791,-1432.5 791,-1432.5 791,-1476.5 791,-1476.5 791,-1482.5 785,-1488.5 779,-1488.5\"/>\n<text text-anchor=\"start\" x=\"712\" y=\"-1473.3\" font-family=\"Helvetica,sans-Serif\" font-size=\"14.00\" fill=\"#000000\">gini = 0.0</text>\n<text text-anchor=\"start\" x=\"702\" y=\"-1458.3\" font-family=\"Helvetica,sans-Serif\" font-size=\"14.00\" fill=\"#000000\">samples = 1</text>\n<text text-anchor=\"start\" x=\"700\" y=\"-1443.3\" font-family=\"Helvetica,sans-Serif\" font-size=\"14.00\" fill=\"#000000\">value = [1, 0]</text>\n<text text-anchor=\"start\" x=\"715\" y=\"-1428.3\" font-family=\"Helvetica,sans-Serif\" font-size=\"14.00\" fill=\"#000000\">class = l</text>\n</g>\n<!-- 20&#45;&gt;21 -->\n<g id=\"edge21\" class=\"edge\">\n<title>20&#45;&gt;21</title>\n<path fill=\"none\" stroke=\"#000000\" d=\"M820.8303,-1531.8796C808.8806,-1520.2237 795.8963,-1507.5587 783.9589,-1495.9148\"/>\n<polygon fill=\"#000000\" stroke=\"#000000\" points=\"786.2825,-1493.292 776.68,-1488.8149 781.3947,-1498.303 786.2825,-1493.292\"/>\n</g>\n<!-- 22 -->\n<g id=\"node23\" class=\"node\">\n<title>22</title>\n<path fill=\"#74baed\" stroke=\"#000000\" d=\"M904,-1496C904,-1496 821,-1496 821,-1496 815,-1496 809,-1490 809,-1484 809,-1484 809,-1425 809,-1425 809,-1419 815,-1413 821,-1413 821,-1413 904,-1413 904,-1413 910,-1413 916,-1419 916,-1425 916,-1425 916,-1484 916,-1484 916,-1490 910,-1496 904,-1496\"/>\n<text text-anchor=\"start\" x=\"817\" y=\"-1480.8\" font-family=\"Helvetica,sans-Serif\" font-size=\"14.00\" fill=\"#000000\">college ≤ 0.14</text>\n<text text-anchor=\"start\" x=\"824.5\" y=\"-1465.8\" font-family=\"Helvetica,sans-Serif\" font-size=\"14.00\" fill=\"#000000\">gini = 0.355</text>\n<text text-anchor=\"start\" x=\"818.5\" y=\"-1450.8\" font-family=\"Helvetica,sans-Serif\" font-size=\"14.00\" fill=\"#000000\">samples = 13</text>\n<text text-anchor=\"start\" x=\"817\" y=\"-1435.8\" font-family=\"Helvetica,sans-Serif\" font-size=\"14.00\" fill=\"#000000\">value = [3, 10]</text>\n<text text-anchor=\"start\" x=\"833.5\" y=\"-1420.8\" font-family=\"Helvetica,sans-Serif\" font-size=\"14.00\" fill=\"#000000\">class = o</text>\n</g>\n<!-- 20&#45;&gt;22 -->\n<g id=\"edge22\" class=\"edge\">\n<title>20&#45;&gt;22</title>\n<path fill=\"none\" stroke=\"#000000\" d=\"M863.1502,-1531.8796C863.0814,-1523.6838 863.0083,-1514.9891 862.937,-1506.5013\"/>\n<polygon fill=\"#000000\" stroke=\"#000000\" points=\"866.4352,-1506.2683 862.8512,-1496.2981 859.4355,-1506.3272 866.4352,-1506.2683\"/>\n</g>\n<!-- 23 -->\n<g id=\"node24\" class=\"node\">\n<title>23</title>\n<path fill=\"#8ec7f0\" stroke=\"#000000\" d=\"M654.5,-1377C654.5,-1377 552.5,-1377 552.5,-1377 546.5,-1377 540.5,-1371 540.5,-1365 540.5,-1365 540.5,-1306 540.5,-1306 540.5,-1300 546.5,-1294 552.5,-1294 552.5,-1294 654.5,-1294 654.5,-1294 660.5,-1294 666.5,-1300 666.5,-1306 666.5,-1306 666.5,-1365 666.5,-1365 666.5,-1371 660.5,-1377 654.5,-1377\"/>\n<text text-anchor=\"start\" x=\"548.5\" y=\"-1361.8\" font-family=\"Helvetica,sans-Serif\" font-size=\"14.00\" fill=\"#000000\">Bechalor ≤ 1.119</text>\n<text text-anchor=\"start\" x=\"570\" y=\"-1346.8\" font-family=\"Helvetica,sans-Serif\" font-size=\"14.00\" fill=\"#000000\">gini = 0.42</text>\n<text text-anchor=\"start\" x=\"559.5\" y=\"-1331.8\" font-family=\"Helvetica,sans-Serif\" font-size=\"14.00\" fill=\"#000000\">samples = 10</text>\n<text text-anchor=\"start\" x=\"562\" y=\"-1316.8\" font-family=\"Helvetica,sans-Serif\" font-size=\"14.00\" fill=\"#000000\">value = [3, 7]</text>\n<text text-anchor=\"start\" x=\"574.5\" y=\"-1301.8\" font-family=\"Helvetica,sans-Serif\" font-size=\"14.00\" fill=\"#000000\">class = o</text>\n</g>\n<!-- 22&#45;&gt;23 -->\n<g id=\"edge23\" class=\"edge\">\n<title>22&#45;&gt;23</title>\n<path fill=\"none\" stroke=\"#000000\" d=\"M808.9862,-1418.2039C805.8139,-1416.3804 802.6374,-1414.6315 799.5,-1413 760.1622,-1392.5446 714.1521,-1374.0903 676.5992,-1360.3257\"/>\n<polygon fill=\"#000000\" stroke=\"#000000\" points=\"677.3394,-1356.871 666.7453,-1356.7499 674.9515,-1363.4512 677.3394,-1356.871\"/>\n</g>\n<!-- 34 -->\n<g id=\"node35\" class=\"node\">\n<title>34</title>\n<path fill=\"#399de5\" stroke=\"#000000\" d=\"M900,-1369.5C900,-1369.5 825,-1369.5 825,-1369.5 819,-1369.5 813,-1363.5 813,-1357.5 813,-1357.5 813,-1313.5 813,-1313.5 813,-1307.5 819,-1301.5 825,-1301.5 825,-1301.5 900,-1301.5 900,-1301.5 906,-1301.5 912,-1307.5 912,-1313.5 912,-1313.5 912,-1357.5 912,-1357.5 912,-1363.5 906,-1369.5 900,-1369.5\"/>\n<text text-anchor=\"start\" x=\"833\" y=\"-1354.3\" font-family=\"Helvetica,sans-Serif\" font-size=\"14.00\" fill=\"#000000\">gini = 0.0</text>\n<text text-anchor=\"start\" x=\"823\" y=\"-1339.3\" font-family=\"Helvetica,sans-Serif\" font-size=\"14.00\" fill=\"#000000\">samples = 3</text>\n<text text-anchor=\"start\" x=\"821\" y=\"-1324.3\" font-family=\"Helvetica,sans-Serif\" font-size=\"14.00\" fill=\"#000000\">value = [0, 3]</text>\n<text text-anchor=\"start\" x=\"833.5\" y=\"-1309.3\" font-family=\"Helvetica,sans-Serif\" font-size=\"14.00\" fill=\"#000000\">class = o</text>\n</g>\n<!-- 22&#45;&gt;34 -->\n<g id=\"edge34\" class=\"edge\">\n<title>22&#45;&gt;34</title>\n<path fill=\"none\" stroke=\"#000000\" d=\"M862.5,-1412.8796C862.5,-1402.2134 862.5,-1390.7021 862.5,-1379.9015\"/>\n<polygon fill=\"#000000\" stroke=\"#000000\" points=\"866.0001,-1379.8149 862.5,-1369.8149 859.0001,-1379.815 866.0001,-1379.8149\"/>\n</g>\n<!-- 24 -->\n<g id=\"node25\" class=\"node\">\n<title>24</title>\n<path fill=\"#7bbeee\" stroke=\"#000000\" d=\"M408,-1258C408,-1258 333,-1258 333,-1258 327,-1258 321,-1252 321,-1246 321,-1246 321,-1187 321,-1187 321,-1181 327,-1175 333,-1175 333,-1175 408,-1175 408,-1175 414,-1175 420,-1181 420,-1187 420,-1187 420,-1246 420,-1246 420,-1252 414,-1258 408,-1258\"/>\n<text text-anchor=\"start\" x=\"329.5\" y=\"-1242.8\" font-family=\"Helvetica,sans-Serif\" font-size=\"14.00\" fill=\"#000000\">age ≤ &#45;1.399</text>\n<text text-anchor=\"start\" x=\"332.5\" y=\"-1227.8\" font-family=\"Helvetica,sans-Serif\" font-size=\"14.00\" fill=\"#000000\">gini = 0.375</text>\n<text text-anchor=\"start\" x=\"331\" y=\"-1212.8\" font-family=\"Helvetica,sans-Serif\" font-size=\"14.00\" fill=\"#000000\">samples = 8</text>\n<text text-anchor=\"start\" x=\"329\" y=\"-1197.8\" font-family=\"Helvetica,sans-Serif\" font-size=\"14.00\" fill=\"#000000\">value = [2, 6]</text>\n<text text-anchor=\"start\" x=\"341.5\" y=\"-1182.8\" font-family=\"Helvetica,sans-Serif\" font-size=\"14.00\" fill=\"#000000\">class = o</text>\n</g>\n<!-- 23&#45;&gt;24 -->\n<g id=\"edge24\" class=\"edge\">\n<title>23&#45;&gt;24</title>\n<path fill=\"none\" stroke=\"#000000\" d=\"M540.2737,-1303.0912C534.267,-1300.0167 528.2685,-1296.9483 522.5,-1294 491.6791,-1278.2472 457.3252,-1260.728 429.0854,-1246.337\"/>\n<polygon fill=\"#000000\" stroke=\"#000000\" points=\"430.6427,-1243.2024 420.1437,-1241.7808 427.4646,-1249.4394 430.6427,-1243.2024\"/>\n</g>\n<!-- 31 -->\n<g id=\"node32\" class=\"node\">\n<title>31</title>\n<path fill=\"#ffffff\" stroke=\"#000000\" d=\"M641,-1258C641,-1258 566,-1258 566,-1258 560,-1258 554,-1252 554,-1246 554,-1246 554,-1187 554,-1187 554,-1181 560,-1175 566,-1175 566,-1175 641,-1175 641,-1175 647,-1175 653,-1181 653,-1187 653,-1187 653,-1246 653,-1246 653,-1252 647,-1258 641,-1258\"/>\n<text text-anchor=\"start\" x=\"562.5\" y=\"-1242.8\" font-family=\"Helvetica,sans-Serif\" font-size=\"14.00\" fill=\"#000000\">age ≤ &#45;1.565</text>\n<text text-anchor=\"start\" x=\"574\" y=\"-1227.8\" font-family=\"Helvetica,sans-Serif\" font-size=\"14.00\" fill=\"#000000\">gini = 0.5</text>\n<text text-anchor=\"start\" x=\"564\" y=\"-1212.8\" font-family=\"Helvetica,sans-Serif\" font-size=\"14.00\" fill=\"#000000\">samples = 2</text>\n<text text-anchor=\"start\" x=\"562\" y=\"-1197.8\" font-family=\"Helvetica,sans-Serif\" font-size=\"14.00\" fill=\"#000000\">value = [1, 1]</text>\n<text text-anchor=\"start\" x=\"577\" y=\"-1182.8\" font-family=\"Helvetica,sans-Serif\" font-size=\"14.00\" fill=\"#000000\">class = l</text>\n</g>\n<!-- 23&#45;&gt;31 -->\n<g id=\"edge31\" class=\"edge\">\n<title>23&#45;&gt;31</title>\n<path fill=\"none\" stroke=\"#000000\" d=\"M603.5,-1293.8796C603.5,-1285.6838 603.5,-1276.9891 603.5,-1268.5013\"/>\n<polygon fill=\"#000000\" stroke=\"#000000\" points=\"607.0001,-1268.298 603.5,-1258.2981 600.0001,-1268.2981 607.0001,-1268.298\"/>\n</g>\n<!-- 25 -->\n<g id=\"node26\" class=\"node\">\n<title>25</title>\n<path fill=\"#61b1ea\" stroke=\"#000000\" d=\"M291,-1139C291,-1139 216,-1139 216,-1139 210,-1139 204,-1133 204,-1127 204,-1127 204,-1068 204,-1068 204,-1062 210,-1056 216,-1056 216,-1056 291,-1056 291,-1056 297,-1056 303,-1062 303,-1068 303,-1068 303,-1127 303,-1127 303,-1133 297,-1139 291,-1139\"/>\n<text text-anchor=\"start\" x=\"212.5\" y=\"-1123.8\" font-family=\"Helvetica,sans-Serif\" font-size=\"14.00\" fill=\"#000000\">age ≤ &#45;1.565</text>\n<text text-anchor=\"start\" x=\"215.5\" y=\"-1108.8\" font-family=\"Helvetica,sans-Serif\" font-size=\"14.00\" fill=\"#000000\">gini = 0.278</text>\n<text text-anchor=\"start\" x=\"214\" y=\"-1093.8\" font-family=\"Helvetica,sans-Serif\" font-size=\"14.00\" fill=\"#000000\">samples = 6</text>\n<text text-anchor=\"start\" x=\"212\" y=\"-1078.8\" font-family=\"Helvetica,sans-Serif\" font-size=\"14.00\" fill=\"#000000\">value = [1, 5]</text>\n<text text-anchor=\"start\" x=\"224.5\" y=\"-1063.8\" font-family=\"Helvetica,sans-Serif\" font-size=\"14.00\" fill=\"#000000\">class = o</text>\n</g>\n<!-- 24&#45;&gt;25 -->\n<g id=\"edge25\" class=\"edge\">\n<title>24&#45;&gt;25</title>\n<path fill=\"none\" stroke=\"#000000\" d=\"M329.5791,-1174.8796C320.547,-1165.6931 310.8987,-1155.8798 301.6112,-1146.4336\"/>\n<polygon fill=\"#000000\" stroke=\"#000000\" points=\"304.1023,-1143.975 294.5956,-1139.2981 299.1107,-1148.8827 304.1023,-1143.975\"/>\n</g>\n<!-- 30 -->\n<g id=\"node31\" class=\"node\">\n<title>30</title>\n<path fill=\"#ffffff\" stroke=\"#000000\" d=\"M408,-1131.5C408,-1131.5 333,-1131.5 333,-1131.5 327,-1131.5 321,-1125.5 321,-1119.5 321,-1119.5 321,-1075.5 321,-1075.5 321,-1069.5 327,-1063.5 333,-1063.5 333,-1063.5 408,-1063.5 408,-1063.5 414,-1063.5 420,-1069.5 420,-1075.5 420,-1075.5 420,-1119.5 420,-1119.5 420,-1125.5 414,-1131.5 408,-1131.5\"/>\n<text text-anchor=\"start\" x=\"341\" y=\"-1116.3\" font-family=\"Helvetica,sans-Serif\" font-size=\"14.00\" fill=\"#000000\">gini = 0.5</text>\n<text text-anchor=\"start\" x=\"331\" y=\"-1101.3\" font-family=\"Helvetica,sans-Serif\" font-size=\"14.00\" fill=\"#000000\">samples = 2</text>\n<text text-anchor=\"start\" x=\"329\" y=\"-1086.3\" font-family=\"Helvetica,sans-Serif\" font-size=\"14.00\" fill=\"#000000\">value = [1, 1]</text>\n<text text-anchor=\"start\" x=\"344\" y=\"-1071.3\" font-family=\"Helvetica,sans-Serif\" font-size=\"14.00\" fill=\"#000000\">class = l</text>\n</g>\n<!-- 24&#45;&gt;30 -->\n<g id=\"edge30\" class=\"edge\">\n<title>24&#45;&gt;30</title>\n<path fill=\"none\" stroke=\"#000000\" d=\"M370.5,-1174.8796C370.5,-1164.2134 370.5,-1152.7021 370.5,-1141.9015\"/>\n<polygon fill=\"#000000\" stroke=\"#000000\" points=\"374.0001,-1141.8149 370.5,-1131.8149 367.0001,-1141.815 374.0001,-1141.8149\"/>\n</g>\n<!-- 26 -->\n<g id=\"node27\" class=\"node\">\n<title>26</title>\n<path fill=\"#9ccef2\" stroke=\"#000000\" d=\"M233,-1020C233,-1020 158,-1020 158,-1020 152,-1020 146,-1014 146,-1008 146,-1008 146,-949 146,-949 146,-943 152,-937 158,-937 158,-937 233,-937 233,-937 239,-937 245,-943 245,-949 245,-949 245,-1008 245,-1008 245,-1014 239,-1020 233,-1020\"/>\n<text text-anchor=\"start\" x=\"154.5\" y=\"-1004.8\" font-family=\"Helvetica,sans-Serif\" font-size=\"14.00\" fill=\"#000000\">age ≤ &#45;1.731</text>\n<text text-anchor=\"start\" x=\"157.5\" y=\"-989.8\" font-family=\"Helvetica,sans-Serif\" font-size=\"14.00\" fill=\"#000000\">gini = 0.444</text>\n<text text-anchor=\"start\" x=\"156\" y=\"-974.8\" font-family=\"Helvetica,sans-Serif\" font-size=\"14.00\" fill=\"#000000\">samples = 3</text>\n<text text-anchor=\"start\" x=\"154\" y=\"-959.8\" font-family=\"Helvetica,sans-Serif\" font-size=\"14.00\" fill=\"#000000\">value = [1, 2]</text>\n<text text-anchor=\"start\" x=\"166.5\" y=\"-944.8\" font-family=\"Helvetica,sans-Serif\" font-size=\"14.00\" fill=\"#000000\">class = o</text>\n</g>\n<!-- 25&#45;&gt;26 -->\n<g id=\"edge26\" class=\"edge\">\n<title>25&#45;&gt;26</title>\n<path fill=\"none\" stroke=\"#000000\" d=\"M233.2144,-1055.8796C229.0443,-1047.3236 224.6091,-1038.2238 220.3003,-1029.3833\"/>\n<polygon fill=\"#000000\" stroke=\"#000000\" points=\"223.3997,-1027.7538 215.8722,-1020.2981 217.1073,-1030.8207 223.3997,-1027.7538\"/>\n</g>\n<!-- 29 -->\n<g id=\"node30\" class=\"node\">\n<title>29</title>\n<path fill=\"#399de5\" stroke=\"#000000\" d=\"M350,-1012.5C350,-1012.5 275,-1012.5 275,-1012.5 269,-1012.5 263,-1006.5 263,-1000.5 263,-1000.5 263,-956.5 263,-956.5 263,-950.5 269,-944.5 275,-944.5 275,-944.5 350,-944.5 350,-944.5 356,-944.5 362,-950.5 362,-956.5 362,-956.5 362,-1000.5 362,-1000.5 362,-1006.5 356,-1012.5 350,-1012.5\"/>\n<text text-anchor=\"start\" x=\"283\" y=\"-997.3\" font-family=\"Helvetica,sans-Serif\" font-size=\"14.00\" fill=\"#000000\">gini = 0.0</text>\n<text text-anchor=\"start\" x=\"273\" y=\"-982.3\" font-family=\"Helvetica,sans-Serif\" font-size=\"14.00\" fill=\"#000000\">samples = 3</text>\n<text text-anchor=\"start\" x=\"271\" y=\"-967.3\" font-family=\"Helvetica,sans-Serif\" font-size=\"14.00\" fill=\"#000000\">value = [0, 3]</text>\n<text text-anchor=\"start\" x=\"283.5\" y=\"-952.3\" font-family=\"Helvetica,sans-Serif\" font-size=\"14.00\" fill=\"#000000\">class = o</text>\n</g>\n<!-- 25&#45;&gt;29 -->\n<g id=\"edge29\" class=\"edge\">\n<title>25&#45;&gt;29</title>\n<path fill=\"none\" stroke=\"#000000\" d=\"M274.1353,-1055.8796C279.5872,-1044.8835 285.4843,-1032.9893 290.9816,-1021.9015\"/>\n<polygon fill=\"#000000\" stroke=\"#000000\" points=\"294.1804,-1023.3289 295.4867,-1012.8149 287.9089,-1020.2195 294.1804,-1023.3289\"/>\n</g>\n<!-- 27 -->\n<g id=\"node28\" class=\"node\">\n<title>27</title>\n<path fill=\"#399de5\" stroke=\"#000000\" d=\"M175,-893.5C175,-893.5 100,-893.5 100,-893.5 94,-893.5 88,-887.5 88,-881.5 88,-881.5 88,-837.5 88,-837.5 88,-831.5 94,-825.5 100,-825.5 100,-825.5 175,-825.5 175,-825.5 181,-825.5 187,-831.5 187,-837.5 187,-837.5 187,-881.5 187,-881.5 187,-887.5 181,-893.5 175,-893.5\"/>\n<text text-anchor=\"start\" x=\"108\" y=\"-878.3\" font-family=\"Helvetica,sans-Serif\" font-size=\"14.00\" fill=\"#000000\">gini = 0.0</text>\n<text text-anchor=\"start\" x=\"98\" y=\"-863.3\" font-family=\"Helvetica,sans-Serif\" font-size=\"14.00\" fill=\"#000000\">samples = 1</text>\n<text text-anchor=\"start\" x=\"96\" y=\"-848.3\" font-family=\"Helvetica,sans-Serif\" font-size=\"14.00\" fill=\"#000000\">value = [0, 1]</text>\n<text text-anchor=\"start\" x=\"108.5\" y=\"-833.3\" font-family=\"Helvetica,sans-Serif\" font-size=\"14.00\" fill=\"#000000\">class = o</text>\n</g>\n<!-- 26&#45;&gt;27 -->\n<g id=\"edge27\" class=\"edge\">\n<title>26&#45;&gt;27</title>\n<path fill=\"none\" stroke=\"#000000\" d=\"M175.2144,-936.8796C169.855,-925.8835 164.0578,-913.9893 158.6537,-902.9015\"/>\n<polygon fill=\"#000000\" stroke=\"#000000\" points=\"161.7524,-901.2706 154.2249,-893.8149 155.46,-904.3375 161.7524,-901.2706\"/>\n</g>\n<!-- 28 -->\n<g id=\"node29\" class=\"node\">\n<title>28</title>\n<path fill=\"#ffffff\" stroke=\"#000000\" d=\"M292,-893.5C292,-893.5 217,-893.5 217,-893.5 211,-893.5 205,-887.5 205,-881.5 205,-881.5 205,-837.5 205,-837.5 205,-831.5 211,-825.5 217,-825.5 217,-825.5 292,-825.5 292,-825.5 298,-825.5 304,-831.5 304,-837.5 304,-837.5 304,-881.5 304,-881.5 304,-887.5 298,-893.5 292,-893.5\"/>\n<text text-anchor=\"start\" x=\"225\" y=\"-878.3\" font-family=\"Helvetica,sans-Serif\" font-size=\"14.00\" fill=\"#000000\">gini = 0.5</text>\n<text text-anchor=\"start\" x=\"215\" y=\"-863.3\" font-family=\"Helvetica,sans-Serif\" font-size=\"14.00\" fill=\"#000000\">samples = 2</text>\n<text text-anchor=\"start\" x=\"213\" y=\"-848.3\" font-family=\"Helvetica,sans-Serif\" font-size=\"14.00\" fill=\"#000000\">value = [1, 1]</text>\n<text text-anchor=\"start\" x=\"228\" y=\"-833.3\" font-family=\"Helvetica,sans-Serif\" font-size=\"14.00\" fill=\"#000000\">class = l</text>\n</g>\n<!-- 26&#45;&gt;28 -->\n<g id=\"edge28\" class=\"edge\">\n<title>26&#45;&gt;28</title>\n<path fill=\"none\" stroke=\"#000000\" d=\"M216.1353,-936.8796C221.5872,-925.8835 227.4843,-913.9893 232.9816,-902.9015\"/>\n<polygon fill=\"#000000\" stroke=\"#000000\" points=\"236.1804,-904.3289 237.4867,-893.8149 229.9089,-901.2195 236.1804,-904.3289\"/>\n</g>\n<!-- 32 -->\n<g id=\"node33\" class=\"node\">\n<title>32</title>\n<path fill=\"#399de5\" stroke=\"#000000\" d=\"M525,-1131.5C525,-1131.5 450,-1131.5 450,-1131.5 444,-1131.5 438,-1125.5 438,-1119.5 438,-1119.5 438,-1075.5 438,-1075.5 438,-1069.5 444,-1063.5 450,-1063.5 450,-1063.5 525,-1063.5 525,-1063.5 531,-1063.5 537,-1069.5 537,-1075.5 537,-1075.5 537,-1119.5 537,-1119.5 537,-1125.5 531,-1131.5 525,-1131.5\"/>\n<text text-anchor=\"start\" x=\"458\" y=\"-1116.3\" font-family=\"Helvetica,sans-Serif\" font-size=\"14.00\" fill=\"#000000\">gini = 0.0</text>\n<text text-anchor=\"start\" x=\"448\" y=\"-1101.3\" font-family=\"Helvetica,sans-Serif\" font-size=\"14.00\" fill=\"#000000\">samples = 1</text>\n<text text-anchor=\"start\" x=\"446\" y=\"-1086.3\" font-family=\"Helvetica,sans-Serif\" font-size=\"14.00\" fill=\"#000000\">value = [0, 1]</text>\n<text text-anchor=\"start\" x=\"458.5\" y=\"-1071.3\" font-family=\"Helvetica,sans-Serif\" font-size=\"14.00\" fill=\"#000000\">class = o</text>\n</g>\n<!-- 31&#45;&gt;32 -->\n<g id=\"edge32\" class=\"edge\">\n<title>31&#45;&gt;32</title>\n<path fill=\"none\" stroke=\"#000000\" d=\"M562.9288,-1174.8796C551.674,-1163.3337 539.4539,-1150.7976 528.1922,-1139.2446\"/>\n<polygon fill=\"#000000\" stroke=\"#000000\" points=\"530.4364,-1136.5326 520.9499,-1131.8149 525.4238,-1141.4188 530.4364,-1136.5326\"/>\n</g>\n<!-- 33 -->\n<g id=\"node34\" class=\"node\">\n<title>33</title>\n<path fill=\"#e58139\" stroke=\"#000000\" d=\"M642,-1131.5C642,-1131.5 567,-1131.5 567,-1131.5 561,-1131.5 555,-1125.5 555,-1119.5 555,-1119.5 555,-1075.5 555,-1075.5 555,-1069.5 561,-1063.5 567,-1063.5 567,-1063.5 642,-1063.5 642,-1063.5 648,-1063.5 654,-1069.5 654,-1075.5 654,-1075.5 654,-1119.5 654,-1119.5 654,-1125.5 648,-1131.5 642,-1131.5\"/>\n<text text-anchor=\"start\" x=\"575\" y=\"-1116.3\" font-family=\"Helvetica,sans-Serif\" font-size=\"14.00\" fill=\"#000000\">gini = 0.0</text>\n<text text-anchor=\"start\" x=\"565\" y=\"-1101.3\" font-family=\"Helvetica,sans-Serif\" font-size=\"14.00\" fill=\"#000000\">samples = 1</text>\n<text text-anchor=\"start\" x=\"563\" y=\"-1086.3\" font-family=\"Helvetica,sans-Serif\" font-size=\"14.00\" fill=\"#000000\">value = [1, 0]</text>\n<text text-anchor=\"start\" x=\"578\" y=\"-1071.3\" font-family=\"Helvetica,sans-Serif\" font-size=\"14.00\" fill=\"#000000\">class = l</text>\n</g>\n<!-- 31&#45;&gt;33 -->\n<g id=\"edge33\" class=\"edge\">\n<title>31&#45;&gt;33</title>\n<path fill=\"none\" stroke=\"#000000\" d=\"M603.8498,-1174.8796C603.9394,-1164.2134 604.0361,-1152.7021 604.1269,-1141.9015\"/>\n<polygon fill=\"#000000\" stroke=\"#000000\" points=\"607.6274,-1141.844 604.2116,-1131.8149 600.6276,-1141.7851 607.6274,-1141.844\"/>\n</g>\n<!-- 36 -->\n<g id=\"node37\" class=\"node\">\n<title>36</title>\n<path fill=\"#f2c09c\" stroke=\"#000000\" d=\"M1149,-1496C1149,-1496 1064,-1496 1064,-1496 1058,-1496 1052,-1490 1052,-1484 1052,-1484 1052,-1425 1052,-1425 1052,-1419 1058,-1413 1064,-1413 1064,-1413 1149,-1413 1149,-1413 1155,-1413 1161,-1419 1161,-1425 1161,-1425 1161,-1484 1161,-1484 1161,-1490 1155,-1496 1149,-1496\"/>\n<text text-anchor=\"start\" x=\"1060\" y=\"-1480.8\" font-family=\"Helvetica,sans-Serif\" font-size=\"14.00\" fill=\"#000000\">terms ≤ &#45;0.019</text>\n<text text-anchor=\"start\" x=\"1068.5\" y=\"-1465.8\" font-family=\"Helvetica,sans-Serif\" font-size=\"14.00\" fill=\"#000000\">gini = 0.444</text>\n<text text-anchor=\"start\" x=\"1062.5\" y=\"-1450.8\" font-family=\"Helvetica,sans-Serif\" font-size=\"14.00\" fill=\"#000000\">samples = 15</text>\n<text text-anchor=\"start\" x=\"1061\" y=\"-1435.8\" font-family=\"Helvetica,sans-Serif\" font-size=\"14.00\" fill=\"#000000\">value = [10, 5]</text>\n<text text-anchor=\"start\" x=\"1080\" y=\"-1420.8\" font-family=\"Helvetica,sans-Serif\" font-size=\"14.00\" fill=\"#000000\">class = l</text>\n</g>\n<!-- 35&#45;&gt;36 -->\n<g id=\"edge36\" class=\"edge\">\n<title>35&#45;&gt;36</title>\n<path fill=\"none\" stroke=\"#000000\" d=\"M1106.5,-1531.8796C1106.5,-1523.6838 1106.5,-1514.9891 1106.5,-1506.5013\"/>\n<polygon fill=\"#000000\" stroke=\"#000000\" points=\"1110.0001,-1506.298 1106.5,-1496.2981 1103.0001,-1506.2981 1110.0001,-1506.298\"/>\n</g>\n<!-- 49 -->\n<g id=\"node50\" class=\"node\">\n<title>49</title>\n<path fill=\"#cbe5f8\" stroke=\"#000000\" d=\"M1380.5,-1496C1380.5,-1496 1288.5,-1496 1288.5,-1496 1282.5,-1496 1276.5,-1490 1276.5,-1484 1276.5,-1484 1276.5,-1425 1276.5,-1425 1276.5,-1419 1282.5,-1413 1288.5,-1413 1288.5,-1413 1380.5,-1413 1380.5,-1413 1386.5,-1413 1392.5,-1419 1392.5,-1425 1392.5,-1425 1392.5,-1484 1392.5,-1484 1392.5,-1490 1386.5,-1496 1380.5,-1496\"/>\n<text text-anchor=\"start\" x=\"1296\" y=\"-1480.8\" font-family=\"Helvetica,sans-Serif\" font-size=\"14.00\" fill=\"#000000\">age ≤ 2.083</text>\n<text text-anchor=\"start\" x=\"1296.5\" y=\"-1465.8\" font-family=\"Helvetica,sans-Serif\" font-size=\"14.00\" fill=\"#000000\">gini = 0.489</text>\n<text text-anchor=\"start\" x=\"1286.5\" y=\"-1450.8\" font-family=\"Helvetica,sans-Serif\" font-size=\"14.00\" fill=\"#000000\">samples = 113</text>\n<text text-anchor=\"start\" x=\"1284.5\" y=\"-1435.8\" font-family=\"Helvetica,sans-Serif\" font-size=\"14.00\" fill=\"#000000\">value = [48, 65]</text>\n<text text-anchor=\"start\" x=\"1305.5\" y=\"-1420.8\" font-family=\"Helvetica,sans-Serif\" font-size=\"14.00\" fill=\"#000000\">class = o</text>\n</g>\n<!-- 35&#45;&gt;49 -->\n<g id=\"edge49\" class=\"edge\">\n<title>35&#45;&gt;49</title>\n<path fill=\"none\" stroke=\"#000000\" d=\"M1164.624,-1543.1634C1195.9791,-1526.7982 1234.8267,-1506.5225 1267.4555,-1489.4925\"/>\n<polygon fill=\"#000000\" stroke=\"#000000\" points=\"1269.2365,-1492.5111 1276.4822,-1484.7812 1265.9975,-1486.3055 1269.2365,-1492.5111\"/>\n</g>\n<!-- 37 -->\n<g id=\"node38\" class=\"node\">\n<title>37</title>\n<path fill=\"#ffffff\" stroke=\"#000000\" d=\"M1044.5,-1377C1044.5,-1377 942.5,-1377 942.5,-1377 936.5,-1377 930.5,-1371 930.5,-1365 930.5,-1365 930.5,-1306 930.5,-1306 930.5,-1300 936.5,-1294 942.5,-1294 942.5,-1294 1044.5,-1294 1044.5,-1294 1050.5,-1294 1056.5,-1300 1056.5,-1306 1056.5,-1306 1056.5,-1365 1056.5,-1365 1056.5,-1371 1050.5,-1377 1044.5,-1377\"/>\n<text text-anchor=\"start\" x=\"938.5\" y=\"-1361.8\" font-family=\"Helvetica,sans-Serif\" font-size=\"14.00\" fill=\"#000000\">Bechalor ≤ 1.119</text>\n<text text-anchor=\"start\" x=\"964\" y=\"-1346.8\" font-family=\"Helvetica,sans-Serif\" font-size=\"14.00\" fill=\"#000000\">gini = 0.5</text>\n<text text-anchor=\"start\" x=\"954\" y=\"-1331.8\" font-family=\"Helvetica,sans-Serif\" font-size=\"14.00\" fill=\"#000000\">samples = 8</text>\n<text text-anchor=\"start\" x=\"952\" y=\"-1316.8\" font-family=\"Helvetica,sans-Serif\" font-size=\"14.00\" fill=\"#000000\">value = [4, 4]</text>\n<text text-anchor=\"start\" x=\"967\" y=\"-1301.8\" font-family=\"Helvetica,sans-Serif\" font-size=\"14.00\" fill=\"#000000\">class = l</text>\n</g>\n<!-- 36&#45;&gt;37 -->\n<g id=\"edge37\" class=\"edge\">\n<title>36&#45;&gt;37</title>\n<path fill=\"none\" stroke=\"#000000\" d=\"M1066.9781,-1412.8796C1058.3403,-1403.7832 1049.119,-1394.0722 1040.2303,-1384.7116\"/>\n<polygon fill=\"#000000\" stroke=\"#000000\" points=\"1042.6146,-1382.1395 1033.1906,-1377.2981 1037.5385,-1386.9597 1042.6146,-1382.1395\"/>\n</g>\n<!-- 46 -->\n<g id=\"node47\" class=\"node\">\n<title>46</title>\n<path fill=\"#e9965a\" stroke=\"#000000\" d=\"M1170,-1377C1170,-1377 1087,-1377 1087,-1377 1081,-1377 1075,-1371 1075,-1365 1075,-1365 1075,-1306 1075,-1306 1075,-1300 1081,-1294 1087,-1294 1087,-1294 1170,-1294 1170,-1294 1176,-1294 1182,-1300 1182,-1306 1182,-1306 1182,-1365 1182,-1365 1182,-1371 1176,-1377 1170,-1377\"/>\n<text text-anchor=\"start\" x=\"1083\" y=\"-1361.8\" font-family=\"Helvetica,sans-Serif\" font-size=\"14.00\" fill=\"#000000\">college ≤ 0.14</text>\n<text text-anchor=\"start\" x=\"1090.5\" y=\"-1346.8\" font-family=\"Helvetica,sans-Serif\" font-size=\"14.00\" fill=\"#000000\">gini = 0.245</text>\n<text text-anchor=\"start\" x=\"1089\" y=\"-1331.8\" font-family=\"Helvetica,sans-Serif\" font-size=\"14.00\" fill=\"#000000\">samples = 7</text>\n<text text-anchor=\"start\" x=\"1087\" y=\"-1316.8\" font-family=\"Helvetica,sans-Serif\" font-size=\"14.00\" fill=\"#000000\">value = [6, 1]</text>\n<text text-anchor=\"start\" x=\"1102\" y=\"-1301.8\" font-family=\"Helvetica,sans-Serif\" font-size=\"14.00\" fill=\"#000000\">class = l</text>\n</g>\n<!-- 36&#45;&gt;46 -->\n<g id=\"edge46\" class=\"edge\">\n<title>36&#45;&gt;46</title>\n<path fill=\"none\" stroke=\"#000000\" d=\"M1114.1945,-1412.8796C1115.7264,-1404.5938 1117.3525,-1395.798 1118.938,-1387.2216\"/>\n<polygon fill=\"#000000\" stroke=\"#000000\" points=\"1122.3963,-1387.7677 1120.7726,-1377.2981 1115.5129,-1386.4951 1122.3963,-1387.7677\"/>\n</g>\n<!-- 38 -->\n<g id=\"node39\" class=\"node\">\n<title>38</title>\n<path fill=\"#9ccef2\" stroke=\"#000000\" d=\"M891,-1258C891,-1258 816,-1258 816,-1258 810,-1258 804,-1252 804,-1246 804,-1246 804,-1187 804,-1187 804,-1181 810,-1175 816,-1175 816,-1175 891,-1175 891,-1175 897,-1175 903,-1181 903,-1187 903,-1187 903,-1246 903,-1246 903,-1252 897,-1258 891,-1258\"/>\n<text text-anchor=\"start\" x=\"812.5\" y=\"-1242.8\" font-family=\"Helvetica,sans-Serif\" font-size=\"14.00\" fill=\"#000000\">age ≤ &#45;1.068</text>\n<text text-anchor=\"start\" x=\"815.5\" y=\"-1227.8\" font-family=\"Helvetica,sans-Serif\" font-size=\"14.00\" fill=\"#000000\">gini = 0.444</text>\n<text text-anchor=\"start\" x=\"814\" y=\"-1212.8\" font-family=\"Helvetica,sans-Serif\" font-size=\"14.00\" fill=\"#000000\">samples = 6</text>\n<text text-anchor=\"start\" x=\"812\" y=\"-1197.8\" font-family=\"Helvetica,sans-Serif\" font-size=\"14.00\" fill=\"#000000\">value = [2, 4]</text>\n<text text-anchor=\"start\" x=\"824.5\" y=\"-1182.8\" font-family=\"Helvetica,sans-Serif\" font-size=\"14.00\" fill=\"#000000\">class = o</text>\n</g>\n<!-- 37&#45;&gt;38 -->\n<g id=\"edge38\" class=\"edge\">\n<title>37&#45;&gt;38</title>\n<path fill=\"none\" stroke=\"#000000\" d=\"M944.5348,-1293.8796C933.5153,-1284.513 921.7291,-1274.4948 910.4158,-1264.8784\"/>\n<polygon fill=\"#000000\" stroke=\"#000000\" points=\"912.5604,-1262.1078 902.6742,-1258.2981 908.0268,-1267.4414 912.5604,-1262.1078\"/>\n</g>\n<!-- 45 -->\n<g id=\"node46\" class=\"node\">\n<title>45</title>\n<path fill=\"#e58139\" stroke=\"#000000\" d=\"M1031,-1250.5C1031,-1250.5 956,-1250.5 956,-1250.5 950,-1250.5 944,-1244.5 944,-1238.5 944,-1238.5 944,-1194.5 944,-1194.5 944,-1188.5 950,-1182.5 956,-1182.5 956,-1182.5 1031,-1182.5 1031,-1182.5 1037,-1182.5 1043,-1188.5 1043,-1194.5 1043,-1194.5 1043,-1238.5 1043,-1238.5 1043,-1244.5 1037,-1250.5 1031,-1250.5\"/>\n<text text-anchor=\"start\" x=\"964\" y=\"-1235.3\" font-family=\"Helvetica,sans-Serif\" font-size=\"14.00\" fill=\"#000000\">gini = 0.0</text>\n<text text-anchor=\"start\" x=\"954\" y=\"-1220.3\" font-family=\"Helvetica,sans-Serif\" font-size=\"14.00\" fill=\"#000000\">samples = 2</text>\n<text text-anchor=\"start\" x=\"952\" y=\"-1205.3\" font-family=\"Helvetica,sans-Serif\" font-size=\"14.00\" fill=\"#000000\">value = [2, 0]</text>\n<text text-anchor=\"start\" x=\"967\" y=\"-1190.3\" font-family=\"Helvetica,sans-Serif\" font-size=\"14.00\" fill=\"#000000\">class = l</text>\n</g>\n<!-- 37&#45;&gt;45 -->\n<g id=\"edge45\" class=\"edge\">\n<title>37&#45;&gt;45</title>\n<path fill=\"none\" stroke=\"#000000\" d=\"M993.5,-1293.8796C993.5,-1283.2134 993.5,-1271.7021 993.5,-1260.9015\"/>\n<polygon fill=\"#000000\" stroke=\"#000000\" points=\"997.0001,-1260.8149 993.5,-1250.8149 990.0001,-1260.815 997.0001,-1260.8149\"/>\n</g>\n<!-- 39 -->\n<g id=\"node40\" class=\"node\">\n<title>39</title>\n<path fill=\"#399de5\" stroke=\"#000000\" d=\"M759,-1131.5C759,-1131.5 684,-1131.5 684,-1131.5 678,-1131.5 672,-1125.5 672,-1119.5 672,-1119.5 672,-1075.5 672,-1075.5 672,-1069.5 678,-1063.5 684,-1063.5 684,-1063.5 759,-1063.5 759,-1063.5 765,-1063.5 771,-1069.5 771,-1075.5 771,-1075.5 771,-1119.5 771,-1119.5 771,-1125.5 765,-1131.5 759,-1131.5\"/>\n<text text-anchor=\"start\" x=\"692\" y=\"-1116.3\" font-family=\"Helvetica,sans-Serif\" font-size=\"14.00\" fill=\"#000000\">gini = 0.0</text>\n<text text-anchor=\"start\" x=\"682\" y=\"-1101.3\" font-family=\"Helvetica,sans-Serif\" font-size=\"14.00\" fill=\"#000000\">samples = 2</text>\n<text text-anchor=\"start\" x=\"680\" y=\"-1086.3\" font-family=\"Helvetica,sans-Serif\" font-size=\"14.00\" fill=\"#000000\">value = [0, 2]</text>\n<text text-anchor=\"start\" x=\"692.5\" y=\"-1071.3\" font-family=\"Helvetica,sans-Serif\" font-size=\"14.00\" fill=\"#000000\">class = o</text>\n</g>\n<!-- 38&#45;&gt;39 -->\n<g id=\"edge39\" class=\"edge\">\n<title>38&#45;&gt;39</title>\n<path fill=\"none\" stroke=\"#000000\" d=\"M807.3328,-1174.8796C794.2817,-1163.1138 780.0899,-1150.3197 767.0739,-1138.5855\"/>\n<polygon fill=\"#000000\" stroke=\"#000000\" points=\"769.3346,-1135.9113 759.5636,-1131.8149 764.6474,-1141.1104 769.3346,-1135.9113\"/>\n</g>\n<!-- 40 -->\n<g id=\"node41\" class=\"node\">\n<title>40</title>\n<path fill=\"#ffffff\" stroke=\"#000000\" d=\"M905.5,-1139C905.5,-1139 801.5,-1139 801.5,-1139 795.5,-1139 789.5,-1133 789.5,-1127 789.5,-1127 789.5,-1068 789.5,-1068 789.5,-1062 795.5,-1056 801.5,-1056 801.5,-1056 905.5,-1056 905.5,-1056 911.5,-1056 917.5,-1062 917.5,-1068 917.5,-1068 917.5,-1127 917.5,-1127 917.5,-1133 911.5,-1139 905.5,-1139\"/>\n<text text-anchor=\"start\" x=\"797.5\" y=\"-1123.8\" font-family=\"Helvetica,sans-Serif\" font-size=\"14.00\" fill=\"#000000\">Principal ≤ &#45;0.399</text>\n<text text-anchor=\"start\" x=\"824\" y=\"-1108.8\" font-family=\"Helvetica,sans-Serif\" font-size=\"14.00\" fill=\"#000000\">gini = 0.5</text>\n<text text-anchor=\"start\" x=\"814\" y=\"-1093.8\" font-family=\"Helvetica,sans-Serif\" font-size=\"14.00\" fill=\"#000000\">samples = 4</text>\n<text text-anchor=\"start\" x=\"812\" y=\"-1078.8\" font-family=\"Helvetica,sans-Serif\" font-size=\"14.00\" fill=\"#000000\">value = [2, 2]</text>\n<text text-anchor=\"start\" x=\"827\" y=\"-1063.8\" font-family=\"Helvetica,sans-Serif\" font-size=\"14.00\" fill=\"#000000\">class = l</text>\n</g>\n<!-- 38&#45;&gt;40 -->\n<g id=\"edge40\" class=\"edge\">\n<title>38&#45;&gt;40</title>\n<path fill=\"none\" stroke=\"#000000\" d=\"M853.5,-1174.8796C853.5,-1166.6838 853.5,-1157.9891 853.5,-1149.5013\"/>\n<polygon fill=\"#000000\" stroke=\"#000000\" points=\"857.0001,-1149.298 853.5,-1139.2981 850.0001,-1149.2981 857.0001,-1149.298\"/>\n</g>\n<!-- 41 -->\n<g id=\"node42\" class=\"node\">\n<title>41</title>\n<path fill=\"#e58139\" stroke=\"#000000\" d=\"M714,-1012.5C714,-1012.5 639,-1012.5 639,-1012.5 633,-1012.5 627,-1006.5 627,-1000.5 627,-1000.5 627,-956.5 627,-956.5 627,-950.5 633,-944.5 639,-944.5 639,-944.5 714,-944.5 714,-944.5 720,-944.5 726,-950.5 726,-956.5 726,-956.5 726,-1000.5 726,-1000.5 726,-1006.5 720,-1012.5 714,-1012.5\"/>\n<text text-anchor=\"start\" x=\"647\" y=\"-997.3\" font-family=\"Helvetica,sans-Serif\" font-size=\"14.00\" fill=\"#000000\">gini = 0.0</text>\n<text text-anchor=\"start\" x=\"637\" y=\"-982.3\" font-family=\"Helvetica,sans-Serif\" font-size=\"14.00\" fill=\"#000000\">samples = 1</text>\n<text text-anchor=\"start\" x=\"635\" y=\"-967.3\" font-family=\"Helvetica,sans-Serif\" font-size=\"14.00\" fill=\"#000000\">value = [1, 0]</text>\n<text text-anchor=\"start\" x=\"650\" y=\"-952.3\" font-family=\"Helvetica,sans-Serif\" font-size=\"14.00\" fill=\"#000000\">class = l</text>\n</g>\n<!-- 40&#45;&gt;41 -->\n<g id=\"edge41\" class=\"edge\">\n<title>40&#45;&gt;41</title>\n<path fill=\"none\" stroke=\"#000000\" d=\"M789.2394,-1056.3827C771.4077,-1044.7746 752.1115,-1032.027 734.5,-1020 733.7395,-1019.4807 732.9743,-1018.9565 732.2052,-1018.4282\"/>\n<polygon fill=\"#000000\" stroke=\"#000000\" points=\"734.0719,-1015.4635 723.8595,-1012.6423 730.0836,-1021.2162 734.0719,-1015.4635\"/>\n</g>\n<!-- 42 -->\n<g id=\"node43\" class=\"node\">\n<title>42</title>\n<path fill=\"#9ccef2\" stroke=\"#000000\" d=\"M939,-1020C939,-1020 756,-1020 756,-1020 750,-1020 744,-1014 744,-1008 744,-1008 744,-949 744,-949 744,-943 750,-937 756,-937 756,-937 939,-937 939,-937 945,-937 951,-943 951,-949 951,-949 951,-1008 951,-1008 951,-1014 945,-1020 939,-1020\"/>\n<text text-anchor=\"start\" x=\"752\" y=\"-1004.8\" font-family=\"Helvetica,sans-Serif\" font-size=\"14.00\" fill=\"#000000\">High School or Below ≤ 0.128</text>\n<text text-anchor=\"start\" x=\"809.5\" y=\"-989.8\" font-family=\"Helvetica,sans-Serif\" font-size=\"14.00\" fill=\"#000000\">gini = 0.444</text>\n<text text-anchor=\"start\" x=\"808\" y=\"-974.8\" font-family=\"Helvetica,sans-Serif\" font-size=\"14.00\" fill=\"#000000\">samples = 3</text>\n<text text-anchor=\"start\" x=\"806\" y=\"-959.8\" font-family=\"Helvetica,sans-Serif\" font-size=\"14.00\" fill=\"#000000\">value = [1, 2]</text>\n<text text-anchor=\"start\" x=\"818.5\" y=\"-944.8\" font-family=\"Helvetica,sans-Serif\" font-size=\"14.00\" fill=\"#000000\">class = o</text>\n</g>\n<!-- 40&#45;&gt;42 -->\n<g id=\"edge42\" class=\"edge\">\n<title>40&#45;&gt;42</title>\n<path fill=\"none\" stroke=\"#000000\" d=\"M851.4015,-1055.8796C850.9883,-1047.6838 850.5499,-1038.9891 850.1219,-1030.5013\"/>\n<polygon fill=\"#000000\" stroke=\"#000000\" points=\"853.6067,-1030.1091 849.6075,-1020.2981 846.6156,-1030.4617 853.6067,-1030.1091\"/>\n</g>\n<!-- 43 -->\n<g id=\"node44\" class=\"node\">\n<title>43</title>\n<path fill=\"#ffffff\" stroke=\"#000000\" d=\"M767,-893.5C767,-893.5 692,-893.5 692,-893.5 686,-893.5 680,-887.5 680,-881.5 680,-881.5 680,-837.5 680,-837.5 680,-831.5 686,-825.5 692,-825.5 692,-825.5 767,-825.5 767,-825.5 773,-825.5 779,-831.5 779,-837.5 779,-837.5 779,-881.5 779,-881.5 779,-887.5 773,-893.5 767,-893.5\"/>\n<text text-anchor=\"start\" x=\"700\" y=\"-878.3\" font-family=\"Helvetica,sans-Serif\" font-size=\"14.00\" fill=\"#000000\">gini = 0.5</text>\n<text text-anchor=\"start\" x=\"690\" y=\"-863.3\" font-family=\"Helvetica,sans-Serif\" font-size=\"14.00\" fill=\"#000000\">samples = 2</text>\n<text text-anchor=\"start\" x=\"688\" y=\"-848.3\" font-family=\"Helvetica,sans-Serif\" font-size=\"14.00\" fill=\"#000000\">value = [1, 1]</text>\n<text text-anchor=\"start\" x=\"703\" y=\"-833.3\" font-family=\"Helvetica,sans-Serif\" font-size=\"14.00\" fill=\"#000000\">class = l</text>\n</g>\n<!-- 42&#45;&gt;43 -->\n<g id=\"edge43\" class=\"edge\">\n<title>42&#45;&gt;43</title>\n<path fill=\"none\" stroke=\"#000000\" d=\"M806.2293,-936.8796C794.7805,-925.3337 782.3497,-912.7976 770.8938,-901.2446\"/>\n<polygon fill=\"#000000\" stroke=\"#000000\" points=\"773.0531,-898.4514 763.5266,-893.8149 768.0825,-903.3802 773.0531,-898.4514\"/>\n</g>\n<!-- 44 -->\n<g id=\"node45\" class=\"node\">\n<title>44</title>\n<path fill=\"#399de5\" stroke=\"#000000\" d=\"M884,-893.5C884,-893.5 809,-893.5 809,-893.5 803,-893.5 797,-887.5 797,-881.5 797,-881.5 797,-837.5 797,-837.5 797,-831.5 803,-825.5 809,-825.5 809,-825.5 884,-825.5 884,-825.5 890,-825.5 896,-831.5 896,-837.5 896,-837.5 896,-881.5 896,-881.5 896,-887.5 890,-893.5 884,-893.5\"/>\n<text text-anchor=\"start\" x=\"817\" y=\"-878.3\" font-family=\"Helvetica,sans-Serif\" font-size=\"14.00\" fill=\"#000000\">gini = 0.0</text>\n<text text-anchor=\"start\" x=\"807\" y=\"-863.3\" font-family=\"Helvetica,sans-Serif\" font-size=\"14.00\" fill=\"#000000\">samples = 1</text>\n<text text-anchor=\"start\" x=\"805\" y=\"-848.3\" font-family=\"Helvetica,sans-Serif\" font-size=\"14.00\" fill=\"#000000\">value = [0, 1]</text>\n<text text-anchor=\"start\" x=\"817.5\" y=\"-833.3\" font-family=\"Helvetica,sans-Serif\" font-size=\"14.00\" fill=\"#000000\">class = o</text>\n</g>\n<!-- 42&#45;&gt;44 -->\n<g id=\"edge44\" class=\"edge\">\n<title>42&#45;&gt;44</title>\n<path fill=\"none\" stroke=\"#000000\" d=\"M847.1502,-936.8796C847.0606,-926.2134 846.9639,-914.7021 846.8731,-903.9015\"/>\n<polygon fill=\"#000000\" stroke=\"#000000\" points=\"850.3724,-903.7851 846.7884,-893.8149 843.3726,-903.844 850.3724,-903.7851\"/>\n</g>\n<!-- 47 -->\n<g id=\"node48\" class=\"node\">\n<title>47</title>\n<path fill=\"#f2c09c\" stroke=\"#000000\" d=\"M1149,-1250.5C1149,-1250.5 1074,-1250.5 1074,-1250.5 1068,-1250.5 1062,-1244.5 1062,-1238.5 1062,-1238.5 1062,-1194.5 1062,-1194.5 1062,-1188.5 1068,-1182.5 1074,-1182.5 1074,-1182.5 1149,-1182.5 1149,-1182.5 1155,-1182.5 1161,-1188.5 1161,-1194.5 1161,-1194.5 1161,-1238.5 1161,-1238.5 1161,-1244.5 1155,-1250.5 1149,-1250.5\"/>\n<text text-anchor=\"start\" x=\"1073.5\" y=\"-1235.3\" font-family=\"Helvetica,sans-Serif\" font-size=\"14.00\" fill=\"#000000\">gini = 0.444</text>\n<text text-anchor=\"start\" x=\"1072\" y=\"-1220.3\" font-family=\"Helvetica,sans-Serif\" font-size=\"14.00\" fill=\"#000000\">samples = 3</text>\n<text text-anchor=\"start\" x=\"1070\" y=\"-1205.3\" font-family=\"Helvetica,sans-Serif\" font-size=\"14.00\" fill=\"#000000\">value = [2, 1]</text>\n<text text-anchor=\"start\" x=\"1085\" y=\"-1190.3\" font-family=\"Helvetica,sans-Serif\" font-size=\"14.00\" fill=\"#000000\">class = l</text>\n</g>\n<!-- 46&#45;&gt;47 -->\n<g id=\"edge47\" class=\"edge\">\n<title>46&#45;&gt;47</title>\n<path fill=\"none\" stroke=\"#000000\" d=\"M1122.5542,-1293.8796C1121.0305,-1283.2134 1119.386,-1271.7021 1117.8431,-1260.9015\"/>\n<polygon fill=\"#000000\" stroke=\"#000000\" points=\"1121.2813,-1260.2194 1116.4021,-1250.8149 1114.3516,-1261.2094 1121.2813,-1260.2194\"/>\n</g>\n<!-- 48 -->\n<g id=\"node49\" class=\"node\">\n<title>48</title>\n<path fill=\"#e58139\" stroke=\"#000000\" d=\"M1266,-1250.5C1266,-1250.5 1191,-1250.5 1191,-1250.5 1185,-1250.5 1179,-1244.5 1179,-1238.5 1179,-1238.5 1179,-1194.5 1179,-1194.5 1179,-1188.5 1185,-1182.5 1191,-1182.5 1191,-1182.5 1266,-1182.5 1266,-1182.5 1272,-1182.5 1278,-1188.5 1278,-1194.5 1278,-1194.5 1278,-1238.5 1278,-1238.5 1278,-1244.5 1272,-1250.5 1266,-1250.5\"/>\n<text text-anchor=\"start\" x=\"1199\" y=\"-1235.3\" font-family=\"Helvetica,sans-Serif\" font-size=\"14.00\" fill=\"#000000\">gini = 0.0</text>\n<text text-anchor=\"start\" x=\"1189\" y=\"-1220.3\" font-family=\"Helvetica,sans-Serif\" font-size=\"14.00\" fill=\"#000000\">samples = 4</text>\n<text text-anchor=\"start\" x=\"1187\" y=\"-1205.3\" font-family=\"Helvetica,sans-Serif\" font-size=\"14.00\" fill=\"#000000\">value = [4, 0]</text>\n<text text-anchor=\"start\" x=\"1202\" y=\"-1190.3\" font-family=\"Helvetica,sans-Serif\" font-size=\"14.00\" fill=\"#000000\">class = l</text>\n</g>\n<!-- 46&#45;&gt;48 -->\n<g id=\"edge48\" class=\"edge\">\n<title>46&#45;&gt;48</title>\n<path fill=\"none\" stroke=\"#000000\" d=\"M1163.4751,-1293.8796C1173.0852,-1282.4436 1183.5115,-1270.0363 1193.1429,-1258.575\"/>\n<polygon fill=\"#000000\" stroke=\"#000000\" points=\"1195.91,-1260.7225 1199.6639,-1250.8149 1190.5509,-1256.219 1195.91,-1260.7225\"/>\n</g>\n<!-- 50 -->\n<g id=\"node51\" class=\"node\">\n<title>50</title>\n<path fill=\"#c3e1f7\" stroke=\"#000000\" d=\"M1411.5,-1377C1411.5,-1377 1319.5,-1377 1319.5,-1377 1313.5,-1377 1307.5,-1371 1307.5,-1365 1307.5,-1365 1307.5,-1306 1307.5,-1306 1307.5,-1300 1313.5,-1294 1319.5,-1294 1319.5,-1294 1411.5,-1294 1411.5,-1294 1417.5,-1294 1423.5,-1300 1423.5,-1306 1423.5,-1306 1423.5,-1365 1423.5,-1365 1423.5,-1371 1417.5,-1377 1411.5,-1377\"/>\n<text text-anchor=\"start\" x=\"1327\" y=\"-1361.8\" font-family=\"Helvetica,sans-Serif\" font-size=\"14.00\" fill=\"#000000\">age ≤ 1.834</text>\n<text text-anchor=\"start\" x=\"1327.5\" y=\"-1346.8\" font-family=\"Helvetica,sans-Serif\" font-size=\"14.00\" fill=\"#000000\">gini = 0.484</text>\n<text text-anchor=\"start\" x=\"1317.5\" y=\"-1331.8\" font-family=\"Helvetica,sans-Serif\" font-size=\"14.00\" fill=\"#000000\">samples = 107</text>\n<text text-anchor=\"start\" x=\"1315.5\" y=\"-1316.8\" font-family=\"Helvetica,sans-Serif\" font-size=\"14.00\" fill=\"#000000\">value = [44, 63]</text>\n<text text-anchor=\"start\" x=\"1336.5\" y=\"-1301.8\" font-family=\"Helvetica,sans-Serif\" font-size=\"14.00\" fill=\"#000000\">class = o</text>\n</g>\n<!-- 49&#45;&gt;50 -->\n<g id=\"edge50\" class=\"edge\">\n<title>49&#45;&gt;50</title>\n<path fill=\"none\" stroke=\"#000000\" d=\"M1345.3423,-1412.8796C1347.5008,-1404.5938 1349.7921,-1395.798 1352.0263,-1387.2216\"/>\n<polygon fill=\"#000000\" stroke=\"#000000\" points=\"1355.4774,-1387.8575 1354.6114,-1377.2981 1348.7035,-1386.0928 1355.4774,-1387.8575\"/>\n</g>\n<!-- 153 -->\n<g id=\"node154\" class=\"node\">\n<title>153</title>\n<path fill=\"#f2c09c\" stroke=\"#000000\" d=\"M1902,-1377C1902,-1377 1719,-1377 1719,-1377 1713,-1377 1707,-1371 1707,-1365 1707,-1365 1707,-1306 1707,-1306 1707,-1300 1713,-1294 1719,-1294 1719,-1294 1902,-1294 1902,-1294 1908,-1294 1914,-1300 1914,-1306 1914,-1306 1914,-1365 1914,-1365 1914,-1371 1908,-1377 1902,-1377\"/>\n<text text-anchor=\"start\" x=\"1715\" y=\"-1361.8\" font-family=\"Helvetica,sans-Serif\" font-size=\"14.00\" fill=\"#000000\">High School or Below ≤ 0.128</text>\n<text text-anchor=\"start\" x=\"1772.5\" y=\"-1346.8\" font-family=\"Helvetica,sans-Serif\" font-size=\"14.00\" fill=\"#000000\">gini = 0.444</text>\n<text text-anchor=\"start\" x=\"1771\" y=\"-1331.8\" font-family=\"Helvetica,sans-Serif\" font-size=\"14.00\" fill=\"#000000\">samples = 6</text>\n<text text-anchor=\"start\" x=\"1769\" y=\"-1316.8\" font-family=\"Helvetica,sans-Serif\" font-size=\"14.00\" fill=\"#000000\">value = [4, 2]</text>\n<text text-anchor=\"start\" x=\"1784\" y=\"-1301.8\" font-family=\"Helvetica,sans-Serif\" font-size=\"14.00\" fill=\"#000000\">class = l</text>\n</g>\n<!-- 49&#45;&gt;153 -->\n<g id=\"edge153\" class=\"edge\">\n<title>49&#45;&gt;153</title>\n<path fill=\"none\" stroke=\"#000000\" d=\"M1392.6858,-1416.7795C1395.6202,-1415.4114 1398.567,-1414.1407 1401.5,-1413 1497.2925,-1375.7447 1612.8799,-1355.9646 1696.7043,-1345.7412\"/>\n<polygon fill=\"#000000\" stroke=\"#000000\" points=\"1697.2507,-1349.201 1706.7658,-1344.5413 1696.4217,-1342.2502 1697.2507,-1349.201\"/>\n</g>\n<!-- 51 -->\n<g id=\"node52\" class=\"node\">\n<title>51</title>\n<path fill=\"#cae5f8\" stroke=\"#000000\" d=\"M1411.5,-1258C1411.5,-1258 1319.5,-1258 1319.5,-1258 1313.5,-1258 1307.5,-1252 1307.5,-1246 1307.5,-1246 1307.5,-1187 1307.5,-1187 1307.5,-1181 1313.5,-1175 1319.5,-1175 1319.5,-1175 1411.5,-1175 1411.5,-1175 1417.5,-1175 1423.5,-1181 1423.5,-1187 1423.5,-1187 1423.5,-1246 1423.5,-1246 1423.5,-1252 1417.5,-1258 1411.5,-1258\"/>\n<text text-anchor=\"start\" x=\"1320\" y=\"-1242.8\" font-family=\"Helvetica,sans-Serif\" font-size=\"14.00\" fill=\"#000000\">college ≤ 0.14</text>\n<text text-anchor=\"start\" x=\"1327.5\" y=\"-1227.8\" font-family=\"Helvetica,sans-Serif\" font-size=\"14.00\" fill=\"#000000\">gini = 0.488</text>\n<text text-anchor=\"start\" x=\"1317.5\" y=\"-1212.8\" font-family=\"Helvetica,sans-Serif\" font-size=\"14.00\" fill=\"#000000\">samples = 104</text>\n<text text-anchor=\"start\" x=\"1315.5\" y=\"-1197.8\" font-family=\"Helvetica,sans-Serif\" font-size=\"14.00\" fill=\"#000000\">value = [44, 60]</text>\n<text text-anchor=\"start\" x=\"1336.5\" y=\"-1182.8\" font-family=\"Helvetica,sans-Serif\" font-size=\"14.00\" fill=\"#000000\">class = o</text>\n</g>\n<!-- 50&#45;&gt;51 -->\n<g id=\"edge51\" class=\"edge\">\n<title>50&#45;&gt;51</title>\n<path fill=\"none\" stroke=\"#000000\" d=\"M1365.5,-1293.8796C1365.5,-1285.6838 1365.5,-1276.9891 1365.5,-1268.5013\"/>\n<polygon fill=\"#000000\" stroke=\"#000000\" points=\"1369.0001,-1268.298 1365.5,-1258.2981 1362.0001,-1268.2981 1369.0001,-1268.298\"/>\n</g>\n<!-- 152 -->\n<g id=\"node153\" class=\"node\">\n<title>152</title>\n<path fill=\"#399de5\" stroke=\"#000000\" d=\"M1529,-1250.5C1529,-1250.5 1454,-1250.5 1454,-1250.5 1448,-1250.5 1442,-1244.5 1442,-1238.5 1442,-1238.5 1442,-1194.5 1442,-1194.5 1442,-1188.5 1448,-1182.5 1454,-1182.5 1454,-1182.5 1529,-1182.5 1529,-1182.5 1535,-1182.5 1541,-1188.5 1541,-1194.5 1541,-1194.5 1541,-1238.5 1541,-1238.5 1541,-1244.5 1535,-1250.5 1529,-1250.5\"/>\n<text text-anchor=\"start\" x=\"1462\" y=\"-1235.3\" font-family=\"Helvetica,sans-Serif\" font-size=\"14.00\" fill=\"#000000\">gini = 0.0</text>\n<text text-anchor=\"start\" x=\"1452\" y=\"-1220.3\" font-family=\"Helvetica,sans-Serif\" font-size=\"14.00\" fill=\"#000000\">samples = 3</text>\n<text text-anchor=\"start\" x=\"1450\" y=\"-1205.3\" font-family=\"Helvetica,sans-Serif\" font-size=\"14.00\" fill=\"#000000\">value = [0, 3]</text>\n<text text-anchor=\"start\" x=\"1462.5\" y=\"-1190.3\" font-family=\"Helvetica,sans-Serif\" font-size=\"14.00\" fill=\"#000000\">class = o</text>\n</g>\n<!-- 50&#45;&gt;152 -->\n<g id=\"edge152\" class=\"edge\">\n<title>50&#45;&gt;152</title>\n<path fill=\"none\" stroke=\"#000000\" d=\"M1409.5687,-1293.8796C1421.9102,-1282.2237 1435.3202,-1269.5587 1447.649,-1257.9148\"/>\n<polygon fill=\"#000000\" stroke=\"#000000\" points=\"1450.2996,-1260.2258 1455.1665,-1250.8149 1445.4932,-1255.1366 1450.2996,-1260.2258\"/>\n</g>\n<!-- 52 -->\n<g id=\"node53\" class=\"node\">\n<title>52</title>\n<path fill=\"#ecf6fc\" stroke=\"#000000\" d=\"M1411.5,-1139C1411.5,-1139 1319.5,-1139 1319.5,-1139 1313.5,-1139 1307.5,-1133 1307.5,-1127 1307.5,-1127 1307.5,-1068 1307.5,-1068 1307.5,-1062 1313.5,-1056 1319.5,-1056 1319.5,-1056 1411.5,-1056 1411.5,-1056 1417.5,-1056 1423.5,-1062 1423.5,-1068 1423.5,-1068 1423.5,-1127 1423.5,-1127 1423.5,-1133 1417.5,-1139 1411.5,-1139\"/>\n<text text-anchor=\"start\" x=\"1331\" y=\"-1123.8\" font-family=\"Helvetica,sans-Serif\" font-size=\"14.00\" fill=\"#000000\">age ≤ 0.59</text>\n<text text-anchor=\"start\" x=\"1327.5\" y=\"-1108.8\" font-family=\"Helvetica,sans-Serif\" font-size=\"14.00\" fill=\"#000000\">gini = 0.499</text>\n<text text-anchor=\"start\" x=\"1321.5\" y=\"-1093.8\" font-family=\"Helvetica,sans-Serif\" font-size=\"14.00\" fill=\"#000000\">samples = 59</text>\n<text text-anchor=\"start\" x=\"1315.5\" y=\"-1078.8\" font-family=\"Helvetica,sans-Serif\" font-size=\"14.00\" fill=\"#000000\">value = [28, 31]</text>\n<text text-anchor=\"start\" x=\"1336.5\" y=\"-1063.8\" font-family=\"Helvetica,sans-Serif\" font-size=\"14.00\" fill=\"#000000\">class = o</text>\n</g>\n<!-- 51&#45;&gt;52 -->\n<g id=\"edge52\" class=\"edge\">\n<title>51&#45;&gt;52</title>\n<path fill=\"none\" stroke=\"#000000\" d=\"M1365.5,-1174.8796C1365.5,-1166.6838 1365.5,-1157.9891 1365.5,-1149.5013\"/>\n<polygon fill=\"#000000\" stroke=\"#000000\" points=\"1369.0001,-1149.298 1365.5,-1139.2981 1362.0001,-1149.2981 1369.0001,-1149.298\"/>\n</g>\n<!-- 107 -->\n<g id=\"node108\" class=\"node\">\n<title>107</title>\n<path fill=\"#a6d3f3\" stroke=\"#000000\" d=\"M1989.5,-1139C1989.5,-1139 1897.5,-1139 1897.5,-1139 1891.5,-1139 1885.5,-1133 1885.5,-1127 1885.5,-1127 1885.5,-1068 1885.5,-1068 1885.5,-1062 1891.5,-1056 1897.5,-1056 1897.5,-1056 1989.5,-1056 1989.5,-1056 1995.5,-1056 2001.5,-1062 2001.5,-1068 2001.5,-1068 2001.5,-1127 2001.5,-1127 2001.5,-1133 1995.5,-1139 1989.5,-1139\"/>\n<text text-anchor=\"start\" x=\"1897\" y=\"-1123.8\" font-family=\"Helvetica,sans-Serif\" font-size=\"14.00\" fill=\"#000000\">terms ≤ &#45;0.019</text>\n<text text-anchor=\"start\" x=\"1905.5\" y=\"-1108.8\" font-family=\"Helvetica,sans-Serif\" font-size=\"14.00\" fill=\"#000000\">gini = 0.458</text>\n<text text-anchor=\"start\" x=\"1899.5\" y=\"-1093.8\" font-family=\"Helvetica,sans-Serif\" font-size=\"14.00\" fill=\"#000000\">samples = 45</text>\n<text text-anchor=\"start\" x=\"1893.5\" y=\"-1078.8\" font-family=\"Helvetica,sans-Serif\" font-size=\"14.00\" fill=\"#000000\">value = [16, 29]</text>\n<text text-anchor=\"start\" x=\"1914.5\" y=\"-1063.8\" font-family=\"Helvetica,sans-Serif\" font-size=\"14.00\" fill=\"#000000\">class = o</text>\n</g>\n<!-- 51&#45;&gt;107 -->\n<g id=\"edge107\" class=\"edge\">\n<title>51&#45;&gt;107</title>\n<path fill=\"none\" stroke=\"#000000\" d=\"M1423.635,-1178.6451C1426.583,-1177.3129 1429.5466,-1176.0866 1432.5,-1175 1512.4853,-1145.5726 1755.1372,-1117.1443 1875.0017,-1104.4359\"/>\n<polygon fill=\"#000000\" stroke=\"#000000\" points=\"1875.5843,-1107.894 1885.1624,-1103.3651 1874.8506,-1100.9325 1875.5843,-1107.894\"/>\n</g>\n<!-- 53 -->\n<g id=\"node54\" class=\"node\">\n<title>53</title>\n<path fill=\"#cee6f8\" stroke=\"#000000\" d=\"M1167.5,-1020C1167.5,-1020 1075.5,-1020 1075.5,-1020 1069.5,-1020 1063.5,-1014 1063.5,-1008 1063.5,-1008 1063.5,-949 1063.5,-949 1063.5,-943 1069.5,-937 1075.5,-937 1075.5,-937 1167.5,-937 1167.5,-937 1173.5,-937 1179.5,-943 1179.5,-949 1179.5,-949 1179.5,-1008 1179.5,-1008 1179.5,-1014 1173.5,-1020 1167.5,-1020\"/>\n<text text-anchor=\"start\" x=\"1083\" y=\"-1004.8\" font-family=\"Helvetica,sans-Serif\" font-size=\"14.00\" fill=\"#000000\">age ≤ 0.259</text>\n<text text-anchor=\"start\" x=\"1088\" y=\"-989.8\" font-family=\"Helvetica,sans-Serif\" font-size=\"14.00\" fill=\"#000000\">gini = 0.49</text>\n<text text-anchor=\"start\" x=\"1077.5\" y=\"-974.8\" font-family=\"Helvetica,sans-Serif\" font-size=\"14.00\" fill=\"#000000\">samples = 42</text>\n<text text-anchor=\"start\" x=\"1071.5\" y=\"-959.8\" font-family=\"Helvetica,sans-Serif\" font-size=\"14.00\" fill=\"#000000\">value = [18, 24]</text>\n<text text-anchor=\"start\" x=\"1092.5\" y=\"-944.8\" font-family=\"Helvetica,sans-Serif\" font-size=\"14.00\" fill=\"#000000\">class = o</text>\n</g>\n<!-- 52&#45;&gt;53 -->\n<g id=\"edge53\" class=\"edge\">\n<title>52&#45;&gt;53</title>\n<path fill=\"none\" stroke=\"#000000\" d=\"M1307.3659,-1069.1477C1271.761,-1051.783 1226.0491,-1029.4891 1188.8686,-1011.356\"/>\n<polygon fill=\"#000000\" stroke=\"#000000\" points=\"1190.1334,-1008.0788 1179.6111,-1006.8411 1187.0649,-1014.3704 1190.1334,-1008.0788\"/>\n</g>\n<!-- 90 -->\n<g id=\"node91\" class=\"node\">\n<title>90</title>\n<path fill=\"#f7d9c4\" stroke=\"#000000\" d=\"M1408,-1020C1408,-1020 1325,-1020 1325,-1020 1319,-1020 1313,-1014 1313,-1008 1313,-1008 1313,-949 1313,-949 1313,-943 1319,-937 1325,-937 1325,-937 1408,-937 1408,-937 1414,-937 1420,-943 1420,-949 1420,-949 1420,-1008 1420,-1008 1420,-1014 1414,-1020 1408,-1020\"/>\n<text text-anchor=\"start\" x=\"1328\" y=\"-1004.8\" font-family=\"Helvetica,sans-Serif\" font-size=\"14.00\" fill=\"#000000\">age ≤ 1.088</text>\n<text text-anchor=\"start\" x=\"1328.5\" y=\"-989.8\" font-family=\"Helvetica,sans-Serif\" font-size=\"14.00\" fill=\"#000000\">gini = 0.484</text>\n<text text-anchor=\"start\" x=\"1322.5\" y=\"-974.8\" font-family=\"Helvetica,sans-Serif\" font-size=\"14.00\" fill=\"#000000\">samples = 17</text>\n<text text-anchor=\"start\" x=\"1321\" y=\"-959.8\" font-family=\"Helvetica,sans-Serif\" font-size=\"14.00\" fill=\"#000000\">value = [10, 7]</text>\n<text text-anchor=\"start\" x=\"1340\" y=\"-944.8\" font-family=\"Helvetica,sans-Serif\" font-size=\"14.00\" fill=\"#000000\">class = l</text>\n</g>\n<!-- 52&#45;&gt;90 -->\n<g id=\"edge90\" class=\"edge\">\n<title>52&#45;&gt;90</title>\n<path fill=\"none\" stroke=\"#000000\" d=\"M1365.8498,-1055.8796C1365.9186,-1047.6838 1365.9917,-1038.9891 1366.063,-1030.5013\"/>\n<polygon fill=\"#000000\" stroke=\"#000000\" points=\"1369.5645,-1030.3272 1366.1488,-1020.2981 1362.5648,-1030.2683 1369.5645,-1030.3272\"/>\n</g>\n<!-- 54 -->\n<g id=\"node55\" class=\"node\">\n<title>54</title>\n<path fill=\"#e9f4fc\" stroke=\"#000000\" d=\"M1028.5,-901C1028.5,-901 926.5,-901 926.5,-901 920.5,-901 914.5,-895 914.5,-889 914.5,-889 914.5,-830 914.5,-830 914.5,-824 920.5,-818 926.5,-818 926.5,-818 1028.5,-818 1028.5,-818 1034.5,-818 1040.5,-824 1040.5,-830 1040.5,-830 1040.5,-889 1040.5,-889 1040.5,-895 1034.5,-901 1028.5,-901\"/>\n<text text-anchor=\"start\" x=\"922.5\" y=\"-885.8\" font-family=\"Helvetica,sans-Serif\" font-size=\"14.00\" fill=\"#000000\">Bechalor ≤ 1.119</text>\n<text text-anchor=\"start\" x=\"939.5\" y=\"-870.8\" font-family=\"Helvetica,sans-Serif\" font-size=\"14.00\" fill=\"#000000\">gini = 0.498</text>\n<text text-anchor=\"start\" x=\"933.5\" y=\"-855.8\" font-family=\"Helvetica,sans-Serif\" font-size=\"14.00\" fill=\"#000000\">samples = 34</text>\n<text text-anchor=\"start\" x=\"927.5\" y=\"-840.8\" font-family=\"Helvetica,sans-Serif\" font-size=\"14.00\" fill=\"#000000\">value = [16, 18]</text>\n<text text-anchor=\"start\" x=\"948.5\" y=\"-825.8\" font-family=\"Helvetica,sans-Serif\" font-size=\"14.00\" fill=\"#000000\">class = o</text>\n</g>\n<!-- 53&#45;&gt;54 -->\n<g id=\"edge54\" class=\"edge\">\n<title>53&#45;&gt;54</title>\n<path fill=\"none\" stroke=\"#000000\" d=\"M1071.1358,-936.8796C1059.8015,-927.513 1047.6785,-917.4948 1036.0419,-907.8784\"/>\n<polygon fill=\"#000000\" stroke=\"#000000\" points=\"1038.0173,-904.9703 1028.0792,-901.2981 1033.5581,-910.3663 1038.0173,-904.9703\"/>\n</g>\n<!-- 81 -->\n<g id=\"node82\" class=\"node\">\n<title>81</title>\n<path fill=\"#7bbeee\" stroke=\"#000000\" d=\"M1172.5,-901C1172.5,-901 1070.5,-901 1070.5,-901 1064.5,-901 1058.5,-895 1058.5,-889 1058.5,-889 1058.5,-830 1058.5,-830 1058.5,-824 1064.5,-818 1070.5,-818 1070.5,-818 1172.5,-818 1172.5,-818 1178.5,-818 1184.5,-824 1184.5,-830 1184.5,-830 1184.5,-889 1184.5,-889 1184.5,-895 1178.5,-901 1172.5,-901\"/>\n<text text-anchor=\"start\" x=\"1066.5\" y=\"-885.8\" font-family=\"Helvetica,sans-Serif\" font-size=\"14.00\" fill=\"#000000\">Bechalor ≤ 1.119</text>\n<text text-anchor=\"start\" x=\"1083.5\" y=\"-870.8\" font-family=\"Helvetica,sans-Serif\" font-size=\"14.00\" fill=\"#000000\">gini = 0.375</text>\n<text text-anchor=\"start\" x=\"1082\" y=\"-855.8\" font-family=\"Helvetica,sans-Serif\" font-size=\"14.00\" fill=\"#000000\">samples = 8</text>\n<text text-anchor=\"start\" x=\"1080\" y=\"-840.8\" font-family=\"Helvetica,sans-Serif\" font-size=\"14.00\" fill=\"#000000\">value = [2, 6]</text>\n<text text-anchor=\"start\" x=\"1092.5\" y=\"-825.8\" font-family=\"Helvetica,sans-Serif\" font-size=\"14.00\" fill=\"#000000\">class = o</text>\n</g>\n<!-- 53&#45;&gt;81 -->\n<g id=\"edge81\" class=\"edge\">\n<title>53&#45;&gt;81</title>\n<path fill=\"none\" stroke=\"#000000\" d=\"M1121.5,-936.8796C1121.5,-928.6838 1121.5,-919.9891 1121.5,-911.5013\"/>\n<polygon fill=\"#000000\" stroke=\"#000000\" points=\"1125.0001,-911.298 1121.5,-901.2981 1118.0001,-911.2981 1125.0001,-911.298\"/>\n</g>\n<!-- 55 -->\n<g id=\"node56\" class=\"node\">\n<title>55</title>\n<path fill=\"#cee6f8\" stroke=\"#000000\" d=\"M640.5,-782C640.5,-782 548.5,-782 548.5,-782 542.5,-782 536.5,-776 536.5,-770 536.5,-770 536.5,-711 536.5,-711 536.5,-705 542.5,-699 548.5,-699 548.5,-699 640.5,-699 640.5,-699 646.5,-699 652.5,-705 652.5,-711 652.5,-711 652.5,-770 652.5,-770 652.5,-776 646.5,-782 640.5,-782\"/>\n<text text-anchor=\"start\" x=\"556\" y=\"-766.8\" font-family=\"Helvetica,sans-Serif\" font-size=\"14.00\" fill=\"#000000\">age ≤ 0.093</text>\n<text text-anchor=\"start\" x=\"561\" y=\"-751.8\" font-family=\"Helvetica,sans-Serif\" font-size=\"14.00\" fill=\"#000000\">gini = 0.49</text>\n<text text-anchor=\"start\" x=\"550.5\" y=\"-736.8\" font-family=\"Helvetica,sans-Serif\" font-size=\"14.00\" fill=\"#000000\">samples = 28</text>\n<text text-anchor=\"start\" x=\"544.5\" y=\"-721.8\" font-family=\"Helvetica,sans-Serif\" font-size=\"14.00\" fill=\"#000000\">value = [12, 16]</text>\n<text text-anchor=\"start\" x=\"565.5\" y=\"-706.8\" font-family=\"Helvetica,sans-Serif\" font-size=\"14.00\" fill=\"#000000\">class = o</text>\n</g>\n<!-- 54&#45;&gt;55 -->\n<g id=\"edge55\" class=\"edge\">\n<title>54&#45;&gt;55</title>\n<path fill=\"none\" stroke=\"#000000\" d=\"M914.3071,-822.2311C911.0286,-820.7226 907.748,-819.3009 904.5,-818 824.0865,-785.7928 726.4379,-764.0422 662.496,-751.9745\"/>\n<polygon fill=\"#000000\" stroke=\"#000000\" points=\"663.0024,-748.5087 652.5309,-750.1207 661.7221,-755.3907 663.0024,-748.5087\"/>\n</g>\n<!-- 76 -->\n<g id=\"node77\" class=\"node\">\n<title>76</title>\n<path fill=\"#f2c09c\" stroke=\"#000000\" d=\"M915,-782C915,-782 830,-782 830,-782 824,-782 818,-776 818,-770 818,-770 818,-711 818,-711 818,-705 824,-699 830,-699 830,-699 915,-699 915,-699 921,-699 927,-705 927,-711 927,-711 927,-770 927,-770 927,-776 921,-782 915,-782\"/>\n<text text-anchor=\"start\" x=\"826\" y=\"-766.8\" font-family=\"Helvetica,sans-Serif\" font-size=\"14.00\" fill=\"#000000\">terms ≤ &#45;0.019</text>\n<text text-anchor=\"start\" x=\"834.5\" y=\"-751.8\" font-family=\"Helvetica,sans-Serif\" font-size=\"14.00\" fill=\"#000000\">gini = 0.444</text>\n<text text-anchor=\"start\" x=\"833\" y=\"-736.8\" font-family=\"Helvetica,sans-Serif\" font-size=\"14.00\" fill=\"#000000\">samples = 6</text>\n<text text-anchor=\"start\" x=\"831\" y=\"-721.8\" font-family=\"Helvetica,sans-Serif\" font-size=\"14.00\" fill=\"#000000\">value = [4, 2]</text>\n<text text-anchor=\"start\" x=\"846\" y=\"-706.8\" font-family=\"Helvetica,sans-Serif\" font-size=\"14.00\" fill=\"#000000\">class = l</text>\n</g>\n<!-- 54&#45;&gt;76 -->\n<g id=\"edge76\" class=\"edge\">\n<title>54&#45;&gt;76</title>\n<path fill=\"none\" stroke=\"#000000\" d=\"M940.7761,-817.8796C932.8293,-808.8733 924.351,-799.2644 916.1674,-789.9897\"/>\n<polygon fill=\"#000000\" stroke=\"#000000\" points=\"918.6213,-787.4808 909.3807,-782.2981 913.3725,-792.1122 918.6213,-787.4808\"/>\n</g>\n<!-- 56 -->\n<g id=\"node57\" class=\"node\">\n<title>56</title>\n<path fill=\"#bddef6\" stroke=\"#000000\" d=\"M480.5,-663C480.5,-663 388.5,-663 388.5,-663 382.5,-663 376.5,-657 376.5,-651 376.5,-651 376.5,-592 376.5,-592 376.5,-586 382.5,-580 388.5,-580 388.5,-580 480.5,-580 480.5,-580 486.5,-580 492.5,-586 492.5,-592 492.5,-592 492.5,-651 492.5,-651 492.5,-657 486.5,-663 480.5,-663\"/>\n<text text-anchor=\"start\" x=\"393.5\" y=\"-647.8\" font-family=\"Helvetica,sans-Serif\" font-size=\"14.00\" fill=\"#000000\">age ≤ &#45;0.239</text>\n<text text-anchor=\"start\" x=\"401\" y=\"-632.8\" font-family=\"Helvetica,sans-Serif\" font-size=\"14.00\" fill=\"#000000\">gini = 0.48</text>\n<text text-anchor=\"start\" x=\"390.5\" y=\"-617.8\" font-family=\"Helvetica,sans-Serif\" font-size=\"14.00\" fill=\"#000000\">samples = 25</text>\n<text text-anchor=\"start\" x=\"384.5\" y=\"-602.8\" font-family=\"Helvetica,sans-Serif\" font-size=\"14.00\" fill=\"#000000\">value = [10, 15]</text>\n<text text-anchor=\"start\" x=\"405.5\" y=\"-587.8\" font-family=\"Helvetica,sans-Serif\" font-size=\"14.00\" fill=\"#000000\">class = o</text>\n</g>\n<!-- 55&#45;&gt;56 -->\n<g id=\"edge56\" class=\"edge\">\n<title>55&#45;&gt;56</title>\n<path fill=\"none\" stroke=\"#000000\" d=\"M538.5398,-698.8796C525.6292,-689.2774 511.7979,-678.9903 498.5718,-669.1534\"/>\n<polygon fill=\"#000000\" stroke=\"#000000\" points=\"500.5414,-666.2564 490.4286,-663.0969 496.3639,-671.8732 500.5414,-666.2564\"/>\n</g>\n<!-- 73 -->\n<g id=\"node74\" class=\"node\">\n<title>73</title>\n<path fill=\"#f2c09c\" stroke=\"#000000\" d=\"M637,-663C637,-663 552,-663 552,-663 546,-663 540,-657 540,-651 540,-651 540,-592 540,-592 540,-586 546,-580 552,-580 552,-580 637,-580 637,-580 643,-580 649,-586 649,-592 649,-592 649,-651 649,-651 649,-657 643,-663 637,-663\"/>\n<text text-anchor=\"start\" x=\"548\" y=\"-647.8\" font-family=\"Helvetica,sans-Serif\" font-size=\"14.00\" fill=\"#000000\">terms ≤ &#45;0.019</text>\n<text text-anchor=\"start\" x=\"556.5\" y=\"-632.8\" font-family=\"Helvetica,sans-Serif\" font-size=\"14.00\" fill=\"#000000\">gini = 0.444</text>\n<text text-anchor=\"start\" x=\"555\" y=\"-617.8\" font-family=\"Helvetica,sans-Serif\" font-size=\"14.00\" fill=\"#000000\">samples = 3</text>\n<text text-anchor=\"start\" x=\"553\" y=\"-602.8\" font-family=\"Helvetica,sans-Serif\" font-size=\"14.00\" fill=\"#000000\">value = [2, 1]</text>\n<text text-anchor=\"start\" x=\"568\" y=\"-587.8\" font-family=\"Helvetica,sans-Serif\" font-size=\"14.00\" fill=\"#000000\">class = l</text>\n</g>\n<!-- 55&#45;&gt;73 -->\n<g id=\"edge73\" class=\"edge\">\n<title>55&#45;&gt;73</title>\n<path fill=\"none\" stroke=\"#000000\" d=\"M594.5,-698.8796C594.5,-690.6838 594.5,-681.9891 594.5,-673.5013\"/>\n<polygon fill=\"#000000\" stroke=\"#000000\" points=\"598.0001,-673.298 594.5,-663.2981 591.0001,-673.2981 598.0001,-673.298\"/>\n</g>\n<!-- 57 -->\n<g id=\"node58\" class=\"node\">\n<title>57</title>\n<path fill=\"#ebf5fc\" stroke=\"#000000\" d=\"M355,-544C355,-544 270,-544 270,-544 264,-544 258,-538 258,-532 258,-532 258,-473 258,-473 258,-467 264,-461 270,-461 270,-461 355,-461 355,-461 361,-461 367,-467 367,-473 367,-473 367,-532 367,-532 367,-538 361,-544 355,-544\"/>\n<text text-anchor=\"start\" x=\"266\" y=\"-528.8\" font-family=\"Helvetica,sans-Serif\" font-size=\"14.00\" fill=\"#000000\">terms ≤ &#45;0.019</text>\n<text text-anchor=\"start\" x=\"274.5\" y=\"-513.8\" font-family=\"Helvetica,sans-Serif\" font-size=\"14.00\" fill=\"#000000\">gini = 0.499</text>\n<text text-anchor=\"start\" x=\"268.5\" y=\"-498.8\" font-family=\"Helvetica,sans-Serif\" font-size=\"14.00\" fill=\"#000000\">samples = 19</text>\n<text text-anchor=\"start\" x=\"267\" y=\"-483.8\" font-family=\"Helvetica,sans-Serif\" font-size=\"14.00\" fill=\"#000000\">value = [9, 10]</text>\n<text text-anchor=\"start\" x=\"283.5\" y=\"-468.8\" font-family=\"Helvetica,sans-Serif\" font-size=\"14.00\" fill=\"#000000\">class = o</text>\n</g>\n<!-- 56&#45;&gt;57 -->\n<g id=\"edge57\" class=\"edge\">\n<title>56&#45;&gt;57</title>\n<path fill=\"none\" stroke=\"#000000\" d=\"M391.8303,-579.8796C382.4123,-570.6931 372.3516,-560.8798 362.6672,-551.4336\"/>\n<polygon fill=\"#000000\" stroke=\"#000000\" points=\"364.9543,-548.7751 355.3518,-544.2981 360.0665,-553.7861 364.9543,-548.7751\"/>\n</g>\n<!-- 70 -->\n<g id=\"node71\" class=\"node\">\n<title>70</title>\n<path fill=\"#61b1ea\" stroke=\"#000000\" d=\"M472,-544C472,-544 397,-544 397,-544 391,-544 385,-538 385,-532 385,-532 385,-473 385,-473 385,-467 391,-461 397,-461 397,-461 472,-461 472,-461 478,-461 484,-467 484,-473 484,-473 484,-532 484,-532 484,-538 478,-544 472,-544\"/>\n<text text-anchor=\"start\" x=\"393.5\" y=\"-528.8\" font-family=\"Helvetica,sans-Serif\" font-size=\"14.00\" fill=\"#000000\">age ≤ &#45;0.073</text>\n<text text-anchor=\"start\" x=\"396.5\" y=\"-513.8\" font-family=\"Helvetica,sans-Serif\" font-size=\"14.00\" fill=\"#000000\">gini = 0.278</text>\n<text text-anchor=\"start\" x=\"395\" y=\"-498.8\" font-family=\"Helvetica,sans-Serif\" font-size=\"14.00\" fill=\"#000000\">samples = 6</text>\n<text text-anchor=\"start\" x=\"393\" y=\"-483.8\" font-family=\"Helvetica,sans-Serif\" font-size=\"14.00\" fill=\"#000000\">value = [1, 5]</text>\n<text text-anchor=\"start\" x=\"405.5\" y=\"-468.8\" font-family=\"Helvetica,sans-Serif\" font-size=\"14.00\" fill=\"#000000\">class = o</text>\n</g>\n<!-- 56&#45;&gt;70 -->\n<g id=\"edge70\" class=\"edge\">\n<title>56&#45;&gt;70</title>\n<path fill=\"none\" stroke=\"#000000\" d=\"M434.5,-579.8796C434.5,-571.6838 434.5,-562.9891 434.5,-554.5013\"/>\n<polygon fill=\"#000000\" stroke=\"#000000\" points=\"438.0001,-554.298 434.5,-544.2981 431.0001,-554.2981 438.0001,-554.298\"/>\n</g>\n<!-- 58 -->\n<g id=\"node59\" class=\"node\">\n<title>58</title>\n<path fill=\"#9ccef2\" stroke=\"#000000\" d=\"M219,-425C219,-425 144,-425 144,-425 138,-425 132,-419 132,-413 132,-413 132,-354 132,-354 132,-348 138,-342 144,-342 144,-342 219,-342 219,-342 225,-342 231,-348 231,-354 231,-354 231,-413 231,-413 231,-419 225,-425 219,-425\"/>\n<text text-anchor=\"start\" x=\"140.5\" y=\"-409.8\" font-family=\"Helvetica,sans-Serif\" font-size=\"14.00\" fill=\"#000000\">age ≤ &#45;0.404</text>\n<text text-anchor=\"start\" x=\"143.5\" y=\"-394.8\" font-family=\"Helvetica,sans-Serif\" font-size=\"14.00\" fill=\"#000000\">gini = 0.444</text>\n<text text-anchor=\"start\" x=\"142\" y=\"-379.8\" font-family=\"Helvetica,sans-Serif\" font-size=\"14.00\" fill=\"#000000\">samples = 6</text>\n<text text-anchor=\"start\" x=\"140\" y=\"-364.8\" font-family=\"Helvetica,sans-Serif\" font-size=\"14.00\" fill=\"#000000\">value = [2, 4]</text>\n<text text-anchor=\"start\" x=\"152.5\" y=\"-349.8\" font-family=\"Helvetica,sans-Serif\" font-size=\"14.00\" fill=\"#000000\">class = o</text>\n</g>\n<!-- 57&#45;&gt;58 -->\n<g id=\"edge58\" class=\"edge\">\n<title>57&#45;&gt;58</title>\n<path fill=\"none\" stroke=\"#000000\" d=\"M266.6826,-460.8796C256.4706,-451.6031 245.555,-441.6874 235.0624,-432.1559\"/>\n<polygon fill=\"#000000\" stroke=\"#000000\" points=\"237.2684,-429.4313 227.513,-425.2981 232.5616,-434.6127 237.2684,-429.4313\"/>\n</g>\n<!-- 63 -->\n<g id=\"node64\" class=\"node\">\n<title>63</title>\n<path fill=\"#fbede3\" stroke=\"#000000\" d=\"M353.5,-425C353.5,-425 273.5,-425 273.5,-425 267.5,-425 261.5,-419 261.5,-413 261.5,-413 261.5,-354 261.5,-354 261.5,-348 267.5,-342 273.5,-342 273.5,-342 353.5,-342 353.5,-342 359.5,-342 365.5,-348 365.5,-354 365.5,-354 365.5,-413 365.5,-413 365.5,-419 359.5,-425 353.5,-425\"/>\n<text text-anchor=\"start\" x=\"272.5\" y=\"-409.8\" font-family=\"Helvetica,sans-Serif\" font-size=\"14.00\" fill=\"#000000\">age ≤ &#45;0.736</text>\n<text text-anchor=\"start\" x=\"275.5\" y=\"-394.8\" font-family=\"Helvetica,sans-Serif\" font-size=\"14.00\" fill=\"#000000\">gini = 0.497</text>\n<text text-anchor=\"start\" x=\"269.5\" y=\"-379.8\" font-family=\"Helvetica,sans-Serif\" font-size=\"14.00\" fill=\"#000000\">samples = 13</text>\n<text text-anchor=\"start\" x=\"272\" y=\"-364.8\" font-family=\"Helvetica,sans-Serif\" font-size=\"14.00\" fill=\"#000000\">value = [7, 6]</text>\n<text text-anchor=\"start\" x=\"287\" y=\"-349.8\" font-family=\"Helvetica,sans-Serif\" font-size=\"14.00\" fill=\"#000000\">class = l</text>\n</g>\n<!-- 57&#45;&gt;63 -->\n<g id=\"edge63\" class=\"edge\">\n<title>57&#45;&gt;63</title>\n<path fill=\"none\" stroke=\"#000000\" d=\"M312.8498,-460.8796C312.9186,-452.6838 312.9917,-443.9891 313.063,-435.5013\"/>\n<polygon fill=\"#000000\" stroke=\"#000000\" points=\"316.5645,-435.3272 313.1488,-425.2981 309.5648,-435.2683 316.5645,-435.3272\"/>\n</g>\n<!-- 59 -->\n<g id=\"node60\" class=\"node\">\n<title>59</title>\n<path fill=\"#399de5\" stroke=\"#000000\" d=\"M87,-298.5C87,-298.5 12,-298.5 12,-298.5 6,-298.5 0,-292.5 0,-286.5 0,-286.5 0,-242.5 0,-242.5 0,-236.5 6,-230.5 12,-230.5 12,-230.5 87,-230.5 87,-230.5 93,-230.5 99,-236.5 99,-242.5 99,-242.5 99,-286.5 99,-286.5 99,-292.5 93,-298.5 87,-298.5\"/>\n<text text-anchor=\"start\" x=\"20\" y=\"-283.3\" font-family=\"Helvetica,sans-Serif\" font-size=\"14.00\" fill=\"#000000\">gini = 0.0</text>\n<text text-anchor=\"start\" x=\"10\" y=\"-268.3\" font-family=\"Helvetica,sans-Serif\" font-size=\"14.00\" fill=\"#000000\">samples = 3</text>\n<text text-anchor=\"start\" x=\"8\" y=\"-253.3\" font-family=\"Helvetica,sans-Serif\" font-size=\"14.00\" fill=\"#000000\">value = [0, 3]</text>\n<text text-anchor=\"start\" x=\"20.5\" y=\"-238.3\" font-family=\"Helvetica,sans-Serif\" font-size=\"14.00\" fill=\"#000000\">class = o</text>\n</g>\n<!-- 58&#45;&gt;59 -->\n<g id=\"edge59\" class=\"edge\">\n<title>58&#45;&gt;59</title>\n<path fill=\"none\" stroke=\"#000000\" d=\"M135.3328,-341.8796C122.2817,-330.1138 108.0899,-317.3197 95.0739,-305.5855\"/>\n<polygon fill=\"#000000\" stroke=\"#000000\" points=\"97.3346,-302.9113 87.5636,-298.8149 92.6474,-308.1104 97.3346,-302.9113\"/>\n</g>\n<!-- 60 -->\n<g id=\"node61\" class=\"node\">\n<title>60</title>\n<path fill=\"#f2c09c\" stroke=\"#000000\" d=\"M233.5,-306C233.5,-306 129.5,-306 129.5,-306 123.5,-306 117.5,-300 117.5,-294 117.5,-294 117.5,-235 117.5,-235 117.5,-229 123.5,-223 129.5,-223 129.5,-223 233.5,-223 233.5,-223 239.5,-223 245.5,-229 245.5,-235 245.5,-235 245.5,-294 245.5,-294 245.5,-300 239.5,-306 233.5,-306\"/>\n<text text-anchor=\"start\" x=\"125.5\" y=\"-290.8\" font-family=\"Helvetica,sans-Serif\" font-size=\"14.00\" fill=\"#000000\">Principal ≤ &#45;0.399</text>\n<text text-anchor=\"start\" x=\"143.5\" y=\"-275.8\" font-family=\"Helvetica,sans-Serif\" font-size=\"14.00\" fill=\"#000000\">gini = 0.444</text>\n<text text-anchor=\"start\" x=\"142\" y=\"-260.8\" font-family=\"Helvetica,sans-Serif\" font-size=\"14.00\" fill=\"#000000\">samples = 3</text>\n<text text-anchor=\"start\" x=\"140\" y=\"-245.8\" font-family=\"Helvetica,sans-Serif\" font-size=\"14.00\" fill=\"#000000\">value = [2, 1]</text>\n<text text-anchor=\"start\" x=\"155\" y=\"-230.8\" font-family=\"Helvetica,sans-Serif\" font-size=\"14.00\" fill=\"#000000\">class = l</text>\n</g>\n<!-- 58&#45;&gt;60 -->\n<g id=\"edge60\" class=\"edge\">\n<title>58&#45;&gt;60</title>\n<path fill=\"none\" stroke=\"#000000\" d=\"M181.5,-341.8796C181.5,-333.6838 181.5,-324.9891 181.5,-316.5013\"/>\n<polygon fill=\"#000000\" stroke=\"#000000\" points=\"185.0001,-316.298 181.5,-306.2981 178.0001,-316.2981 185.0001,-316.298\"/>\n</g>\n<!-- 61 -->\n<g id=\"node62\" class=\"node\">\n<title>61</title>\n<path fill=\"#ffffff\" stroke=\"#000000\" d=\"M161,-179.5C161,-179.5 86,-179.5 86,-179.5 80,-179.5 74,-173.5 74,-167.5 74,-167.5 74,-123.5 74,-123.5 74,-117.5 80,-111.5 86,-111.5 86,-111.5 161,-111.5 161,-111.5 167,-111.5 173,-117.5 173,-123.5 173,-123.5 173,-167.5 173,-167.5 173,-173.5 167,-179.5 161,-179.5\"/>\n<text text-anchor=\"start\" x=\"94\" y=\"-164.3\" font-family=\"Helvetica,sans-Serif\" font-size=\"14.00\" fill=\"#000000\">gini = 0.5</text>\n<text text-anchor=\"start\" x=\"84\" y=\"-149.3\" font-family=\"Helvetica,sans-Serif\" font-size=\"14.00\" fill=\"#000000\">samples = 2</text>\n<text text-anchor=\"start\" x=\"82\" y=\"-134.3\" font-family=\"Helvetica,sans-Serif\" font-size=\"14.00\" fill=\"#000000\">value = [1, 1]</text>\n<text text-anchor=\"start\" x=\"97\" y=\"-119.3\" font-family=\"Helvetica,sans-Serif\" font-size=\"14.00\" fill=\"#000000\">class = l</text>\n</g>\n<!-- 60&#45;&gt;61 -->\n<g id=\"edge61\" class=\"edge\">\n<title>60&#45;&gt;61</title>\n<path fill=\"none\" stroke=\"#000000\" d=\"M161.2144,-222.8796C155.855,-211.8835 150.0578,-199.9893 144.6537,-188.9015\"/>\n<polygon fill=\"#000000\" stroke=\"#000000\" points=\"147.7524,-187.2706 140.2249,-179.8149 141.46,-190.3375 147.7524,-187.2706\"/>\n</g>\n<!-- 62 -->\n<g id=\"node63\" class=\"node\">\n<title>62</title>\n<path fill=\"#e58139\" stroke=\"#000000\" d=\"M278,-179.5C278,-179.5 203,-179.5 203,-179.5 197,-179.5 191,-173.5 191,-167.5 191,-167.5 191,-123.5 191,-123.5 191,-117.5 197,-111.5 203,-111.5 203,-111.5 278,-111.5 278,-111.5 284,-111.5 290,-117.5 290,-123.5 290,-123.5 290,-167.5 290,-167.5 290,-173.5 284,-179.5 278,-179.5\"/>\n<text text-anchor=\"start\" x=\"211\" y=\"-164.3\" font-family=\"Helvetica,sans-Serif\" font-size=\"14.00\" fill=\"#000000\">gini = 0.0</text>\n<text text-anchor=\"start\" x=\"201\" y=\"-149.3\" font-family=\"Helvetica,sans-Serif\" font-size=\"14.00\" fill=\"#000000\">samples = 1</text>\n<text text-anchor=\"start\" x=\"199\" y=\"-134.3\" font-family=\"Helvetica,sans-Serif\" font-size=\"14.00\" fill=\"#000000\">value = [1, 0]</text>\n<text text-anchor=\"start\" x=\"214\" y=\"-119.3\" font-family=\"Helvetica,sans-Serif\" font-size=\"14.00\" fill=\"#000000\">class = l</text>\n</g>\n<!-- 60&#45;&gt;62 -->\n<g id=\"edge62\" class=\"edge\">\n<title>60&#45;&gt;62</title>\n<path fill=\"none\" stroke=\"#000000\" d=\"M202.1353,-222.8796C207.5872,-211.8835 213.4843,-199.9893 218.9816,-188.9015\"/>\n<polygon fill=\"#000000\" stroke=\"#000000\" points=\"222.1804,-190.3289 223.4867,-179.8149 215.9089,-187.2195 222.1804,-190.3289\"/>\n</g>\n<!-- 64 -->\n<g id=\"node65\" class=\"node\">\n<title>64</title>\n<path fill=\"#eeab7b\" stroke=\"#000000\" d=\"M351,-298.5C351,-298.5 276,-298.5 276,-298.5 270,-298.5 264,-292.5 264,-286.5 264,-286.5 264,-242.5 264,-242.5 264,-236.5 270,-230.5 276,-230.5 276,-230.5 351,-230.5 351,-230.5 357,-230.5 363,-236.5 363,-242.5 363,-242.5 363,-286.5 363,-286.5 363,-292.5 357,-298.5 351,-298.5\"/>\n<text text-anchor=\"start\" x=\"275.5\" y=\"-283.3\" font-family=\"Helvetica,sans-Serif\" font-size=\"14.00\" fill=\"#000000\">gini = 0.375</text>\n<text text-anchor=\"start\" x=\"274\" y=\"-268.3\" font-family=\"Helvetica,sans-Serif\" font-size=\"14.00\" fill=\"#000000\">samples = 4</text>\n<text text-anchor=\"start\" x=\"272\" y=\"-253.3\" font-family=\"Helvetica,sans-Serif\" font-size=\"14.00\" fill=\"#000000\">value = [3, 1]</text>\n<text text-anchor=\"start\" x=\"287\" y=\"-238.3\" font-family=\"Helvetica,sans-Serif\" font-size=\"14.00\" fill=\"#000000\">class = l</text>\n</g>\n<!-- 63&#45;&gt;64 -->\n<g id=\"edge64\" class=\"edge\">\n<title>63&#45;&gt;64</title>\n<path fill=\"none\" stroke=\"#000000\" d=\"M313.5,-341.8796C313.5,-331.2134 313.5,-319.7021 313.5,-308.9015\"/>\n<polygon fill=\"#000000\" stroke=\"#000000\" points=\"317.0001,-308.8149 313.5,-298.8149 310.0001,-308.815 317.0001,-308.8149\"/>\n</g>\n<!-- 65 -->\n<g id=\"node66\" class=\"node\">\n<title>65</title>\n<path fill=\"#d7ebfa\" stroke=\"#000000\" d=\"M468,-306C468,-306 393,-306 393,-306 387,-306 381,-300 381,-294 381,-294 381,-235 381,-235 381,-229 387,-223 393,-223 393,-223 468,-223 468,-223 474,-223 480,-229 480,-235 480,-235 480,-294 480,-294 480,-300 474,-306 468,-306\"/>\n<text text-anchor=\"start\" x=\"394\" y=\"-290.8\" font-family=\"Helvetica,sans-Serif\" font-size=\"14.00\" fill=\"#000000\">age ≤ &#45;0.57</text>\n<text text-anchor=\"start\" x=\"392.5\" y=\"-275.8\" font-family=\"Helvetica,sans-Serif\" font-size=\"14.00\" fill=\"#000000\">gini = 0.494</text>\n<text text-anchor=\"start\" x=\"391\" y=\"-260.8\" font-family=\"Helvetica,sans-Serif\" font-size=\"14.00\" fill=\"#000000\">samples = 9</text>\n<text text-anchor=\"start\" x=\"389\" y=\"-245.8\" font-family=\"Helvetica,sans-Serif\" font-size=\"14.00\" fill=\"#000000\">value = [4, 5]</text>\n<text text-anchor=\"start\" x=\"401.5\" y=\"-230.8\" font-family=\"Helvetica,sans-Serif\" font-size=\"14.00\" fill=\"#000000\">class = o</text>\n</g>\n<!-- 63&#45;&gt;65 -->\n<g id=\"edge65\" class=\"edge\">\n<title>63&#45;&gt;65</title>\n<path fill=\"none\" stroke=\"#000000\" d=\"M354.4209,-341.8796C363.453,-332.6931 373.1013,-322.8798 382.3888,-313.4336\"/>\n<polygon fill=\"#000000\" stroke=\"#000000\" points=\"384.8893,-315.8827 389.4044,-306.2981 379.8977,-310.975 384.8893,-315.8827\"/>\n</g>\n<!-- 66 -->\n<g id=\"node67\" class=\"node\">\n<title>66</title>\n<path fill=\"#ffffff\" stroke=\"#000000\" d=\"M461,-179.5C461,-179.5 386,-179.5 386,-179.5 380,-179.5 374,-173.5 374,-167.5 374,-167.5 374,-123.5 374,-123.5 374,-117.5 380,-111.5 386,-111.5 386,-111.5 461,-111.5 461,-111.5 467,-111.5 473,-117.5 473,-123.5 473,-123.5 473,-167.5 473,-167.5 473,-173.5 467,-179.5 461,-179.5\"/>\n<text text-anchor=\"start\" x=\"394\" y=\"-164.3\" font-family=\"Helvetica,sans-Serif\" font-size=\"14.00\" fill=\"#000000\">gini = 0.5</text>\n<text text-anchor=\"start\" x=\"384\" y=\"-149.3\" font-family=\"Helvetica,sans-Serif\" font-size=\"14.00\" fill=\"#000000\">samples = 4</text>\n<text text-anchor=\"start\" x=\"382\" y=\"-134.3\" font-family=\"Helvetica,sans-Serif\" font-size=\"14.00\" fill=\"#000000\">value = [2, 2]</text>\n<text text-anchor=\"start\" x=\"397\" y=\"-119.3\" font-family=\"Helvetica,sans-Serif\" font-size=\"14.00\" fill=\"#000000\">class = l</text>\n</g>\n<!-- 65&#45;&gt;66 -->\n<g id=\"edge66\" class=\"edge\">\n<title>65&#45;&gt;66</title>\n<path fill=\"none\" stroke=\"#000000\" d=\"M428.0517,-222.8796C427.4243,-212.2134 426.7472,-200.7021 426.1119,-189.9015\"/>\n<polygon fill=\"#000000\" stroke=\"#000000\" points=\"429.5998,-189.5921 425.5185,-179.8149 422.6119,-190.0032 429.5998,-189.5921\"/>\n</g>\n<!-- 67 -->\n<g id=\"node68\" class=\"node\">\n<title>67</title>\n<path fill=\"#bddef6\" stroke=\"#000000\" d=\"M578,-187C578,-187 503,-187 503,-187 497,-187 491,-181 491,-175 491,-175 491,-116 491,-116 491,-110 497,-104 503,-104 503,-104 578,-104 578,-104 584,-104 590,-110 590,-116 590,-116 590,-175 590,-175 590,-181 584,-187 578,-187\"/>\n<text text-anchor=\"start\" x=\"499.5\" y=\"-171.8\" font-family=\"Helvetica,sans-Serif\" font-size=\"14.00\" fill=\"#000000\">age ≤ &#45;0.404</text>\n<text text-anchor=\"start\" x=\"507\" y=\"-156.8\" font-family=\"Helvetica,sans-Serif\" font-size=\"14.00\" fill=\"#000000\">gini = 0.48</text>\n<text text-anchor=\"start\" x=\"501\" y=\"-141.8\" font-family=\"Helvetica,sans-Serif\" font-size=\"14.00\" fill=\"#000000\">samples = 5</text>\n<text text-anchor=\"start\" x=\"499\" y=\"-126.8\" font-family=\"Helvetica,sans-Serif\" font-size=\"14.00\" fill=\"#000000\">value = [2, 3]</text>\n<text text-anchor=\"start\" x=\"511.5\" y=\"-111.8\" font-family=\"Helvetica,sans-Serif\" font-size=\"14.00\" fill=\"#000000\">class = o</text>\n</g>\n<!-- 65&#45;&gt;67 -->\n<g id=\"edge67\" class=\"edge\">\n<title>65&#45;&gt;67</title>\n<path fill=\"none\" stroke=\"#000000\" d=\"M468.9727,-222.8796C477.3811,-213.7832 486.3576,-204.0722 495.0103,-194.7116\"/>\n<polygon fill=\"#000000\" stroke=\"#000000\" points=\"497.6453,-197.0172 501.8631,-187.2981 492.505,-192.2656 497.6453,-197.0172\"/>\n</g>\n<!-- 68 -->\n<g id=\"node69\" class=\"node\">\n<title>68</title>\n<path fill=\"#9ccef2\" stroke=\"#000000\" d=\"M519,-68C519,-68 444,-68 444,-68 438,-68 432,-62 432,-56 432,-56 432,-12 432,-12 432,-6 438,0 444,0 444,0 519,0 519,0 525,0 531,-6 531,-12 531,-12 531,-56 531,-56 531,-62 525,-68 519,-68\"/>\n<text text-anchor=\"start\" x=\"443.5\" y=\"-52.8\" font-family=\"Helvetica,sans-Serif\" font-size=\"14.00\" fill=\"#000000\">gini = 0.444</text>\n<text text-anchor=\"start\" x=\"442\" y=\"-37.8\" font-family=\"Helvetica,sans-Serif\" font-size=\"14.00\" fill=\"#000000\">samples = 3</text>\n<text text-anchor=\"start\" x=\"440\" y=\"-22.8\" font-family=\"Helvetica,sans-Serif\" font-size=\"14.00\" fill=\"#000000\">value = [1, 2]</text>\n<text text-anchor=\"start\" x=\"452.5\" y=\"-7.8\" font-family=\"Helvetica,sans-Serif\" font-size=\"14.00\" fill=\"#000000\">class = o</text>\n</g>\n<!-- 67&#45;&gt;68 -->\n<g id=\"edge68\" class=\"edge\">\n<title>67&#45;&gt;68</title>\n<path fill=\"none\" stroke=\"#000000\" d=\"M518.5306,-103.9815C513.9105,-95.2504 509.0264,-86.0202 504.374,-77.2281\"/>\n<polygon fill=\"#000000\" stroke=\"#000000\" points=\"507.4013,-75.4655 499.6306,-68.2637 501.2141,-78.7395 507.4013,-75.4655\"/>\n</g>\n<!-- 69 -->\n<g id=\"node70\" class=\"node\">\n<title>69</title>\n<path fill=\"#ffffff\" stroke=\"#000000\" d=\"M636,-68C636,-68 561,-68 561,-68 555,-68 549,-62 549,-56 549,-56 549,-12 549,-12 549,-6 555,0 561,0 561,0 636,0 636,0 642,0 648,-6 648,-12 648,-12 648,-56 648,-56 648,-62 642,-68 636,-68\"/>\n<text text-anchor=\"start\" x=\"569\" y=\"-52.8\" font-family=\"Helvetica,sans-Serif\" font-size=\"14.00\" fill=\"#000000\">gini = 0.5</text>\n<text text-anchor=\"start\" x=\"559\" y=\"-37.8\" font-family=\"Helvetica,sans-Serif\" font-size=\"14.00\" fill=\"#000000\">samples = 2</text>\n<text text-anchor=\"start\" x=\"557\" y=\"-22.8\" font-family=\"Helvetica,sans-Serif\" font-size=\"14.00\" fill=\"#000000\">value = [1, 1]</text>\n<text text-anchor=\"start\" x=\"572\" y=\"-7.8\" font-family=\"Helvetica,sans-Serif\" font-size=\"14.00\" fill=\"#000000\">class = l</text>\n</g>\n<!-- 67&#45;&gt;69 -->\n<g id=\"edge69\" class=\"edge\">\n<title>67&#45;&gt;69</title>\n<path fill=\"none\" stroke=\"#000000\" d=\"M562.0971,-103.9815C566.6388,-95.2504 571.4402,-86.0202 576.0137,-77.2281\"/>\n<polygon fill=\"#000000\" stroke=\"#000000\" points=\"579.1669,-78.7504 580.6767,-68.2637 572.9569,-75.52 579.1669,-78.7504\"/>\n</g>\n<!-- 71 -->\n<g id=\"node72\" class=\"node\">\n<title>71</title>\n<path fill=\"#7bbeee\" stroke=\"#000000\" d=\"M472,-417.5C472,-417.5 397,-417.5 397,-417.5 391,-417.5 385,-411.5 385,-405.5 385,-405.5 385,-361.5 385,-361.5 385,-355.5 391,-349.5 397,-349.5 397,-349.5 472,-349.5 472,-349.5 478,-349.5 484,-355.5 484,-361.5 484,-361.5 484,-405.5 484,-405.5 484,-411.5 478,-417.5 472,-417.5\"/>\n<text text-anchor=\"start\" x=\"396.5\" y=\"-402.3\" font-family=\"Helvetica,sans-Serif\" font-size=\"14.00\" fill=\"#000000\">gini = 0.375</text>\n<text text-anchor=\"start\" x=\"395\" y=\"-387.3\" font-family=\"Helvetica,sans-Serif\" font-size=\"14.00\" fill=\"#000000\">samples = 4</text>\n<text text-anchor=\"start\" x=\"393\" y=\"-372.3\" font-family=\"Helvetica,sans-Serif\" font-size=\"14.00\" fill=\"#000000\">value = [1, 3]</text>\n<text text-anchor=\"start\" x=\"405.5\" y=\"-357.3\" font-family=\"Helvetica,sans-Serif\" font-size=\"14.00\" fill=\"#000000\">class = o</text>\n</g>\n<!-- 70&#45;&gt;71 -->\n<g id=\"edge71\" class=\"edge\">\n<title>70&#45;&gt;71</title>\n<path fill=\"none\" stroke=\"#000000\" d=\"M434.5,-460.8796C434.5,-450.2134 434.5,-438.7021 434.5,-427.9015\"/>\n<polygon fill=\"#000000\" stroke=\"#000000\" points=\"438.0001,-427.8149 434.5,-417.8149 431.0001,-427.815 438.0001,-427.8149\"/>\n</g>\n<!-- 72 -->\n<g id=\"node73\" class=\"node\">\n<title>72</title>\n<path fill=\"#399de5\" stroke=\"#000000\" d=\"M589,-417.5C589,-417.5 514,-417.5 514,-417.5 508,-417.5 502,-411.5 502,-405.5 502,-405.5 502,-361.5 502,-361.5 502,-355.5 508,-349.5 514,-349.5 514,-349.5 589,-349.5 589,-349.5 595,-349.5 601,-355.5 601,-361.5 601,-361.5 601,-405.5 601,-405.5 601,-411.5 595,-417.5 589,-417.5\"/>\n<text text-anchor=\"start\" x=\"522\" y=\"-402.3\" font-family=\"Helvetica,sans-Serif\" font-size=\"14.00\" fill=\"#000000\">gini = 0.0</text>\n<text text-anchor=\"start\" x=\"512\" y=\"-387.3\" font-family=\"Helvetica,sans-Serif\" font-size=\"14.00\" fill=\"#000000\">samples = 2</text>\n<text text-anchor=\"start\" x=\"510\" y=\"-372.3\" font-family=\"Helvetica,sans-Serif\" font-size=\"14.00\" fill=\"#000000\">value = [0, 2]</text>\n<text text-anchor=\"start\" x=\"522.5\" y=\"-357.3\" font-family=\"Helvetica,sans-Serif\" font-size=\"14.00\" fill=\"#000000\">class = o</text>\n</g>\n<!-- 70&#45;&gt;72 -->\n<g id=\"edge72\" class=\"edge\">\n<title>70&#45;&gt;72</title>\n<path fill=\"none\" stroke=\"#000000\" d=\"M475.4209,-460.8796C486.7728,-449.3337 499.0982,-436.7976 510.457,-425.2446\"/>\n<polygon fill=\"#000000\" stroke=\"#000000\" points=\"513.2466,-427.3995 517.7618,-417.8149 508.2551,-422.4919 513.2466,-427.3995\"/>\n</g>\n<!-- 74 -->\n<g id=\"node75\" class=\"node\">\n<title>74</title>\n<path fill=\"#e58139\" stroke=\"#000000\" d=\"M589,-536.5C589,-536.5 514,-536.5 514,-536.5 508,-536.5 502,-530.5 502,-524.5 502,-524.5 502,-480.5 502,-480.5 502,-474.5 508,-468.5 514,-468.5 514,-468.5 589,-468.5 589,-468.5 595,-468.5 601,-474.5 601,-480.5 601,-480.5 601,-524.5 601,-524.5 601,-530.5 595,-536.5 589,-536.5\"/>\n<text text-anchor=\"start\" x=\"522\" y=\"-521.3\" font-family=\"Helvetica,sans-Serif\" font-size=\"14.00\" fill=\"#000000\">gini = 0.0</text>\n<text text-anchor=\"start\" x=\"512\" y=\"-506.3\" font-family=\"Helvetica,sans-Serif\" font-size=\"14.00\" fill=\"#000000\">samples = 2</text>\n<text text-anchor=\"start\" x=\"510\" y=\"-491.3\" font-family=\"Helvetica,sans-Serif\" font-size=\"14.00\" fill=\"#000000\">value = [2, 0]</text>\n<text text-anchor=\"start\" x=\"525\" y=\"-476.3\" font-family=\"Helvetica,sans-Serif\" font-size=\"14.00\" fill=\"#000000\">class = l</text>\n</g>\n<!-- 73&#45;&gt;74 -->\n<g id=\"edge74\" class=\"edge\">\n<title>73&#45;&gt;74</title>\n<path fill=\"none\" stroke=\"#000000\" d=\"M579.4607,-579.8796C575.527,-568.9935 571.2753,-557.227 567.3032,-546.2344\"/>\n<polygon fill=\"#000000\" stroke=\"#000000\" points=\"570.5897,-545.0303 563.8995,-536.8149 564.0063,-547.4092 570.5897,-545.0303\"/>\n</g>\n<!-- 75 -->\n<g id=\"node76\" class=\"node\">\n<title>75</title>\n<path fill=\"#399de5\" stroke=\"#000000\" d=\"M706,-536.5C706,-536.5 631,-536.5 631,-536.5 625,-536.5 619,-530.5 619,-524.5 619,-524.5 619,-480.5 619,-480.5 619,-474.5 625,-468.5 631,-468.5 631,-468.5 706,-468.5 706,-468.5 712,-468.5 718,-474.5 718,-480.5 718,-480.5 718,-524.5 718,-524.5 718,-530.5 712,-536.5 706,-536.5\"/>\n<text text-anchor=\"start\" x=\"639\" y=\"-521.3\" font-family=\"Helvetica,sans-Serif\" font-size=\"14.00\" fill=\"#000000\">gini = 0.0</text>\n<text text-anchor=\"start\" x=\"629\" y=\"-506.3\" font-family=\"Helvetica,sans-Serif\" font-size=\"14.00\" fill=\"#000000\">samples = 1</text>\n<text text-anchor=\"start\" x=\"627\" y=\"-491.3\" font-family=\"Helvetica,sans-Serif\" font-size=\"14.00\" fill=\"#000000\">value = [0, 1]</text>\n<text text-anchor=\"start\" x=\"639.5\" y=\"-476.3\" font-family=\"Helvetica,sans-Serif\" font-size=\"14.00\" fill=\"#000000\">class = o</text>\n</g>\n<!-- 73&#45;&gt;75 -->\n<g id=\"edge75\" class=\"edge\">\n<title>73&#45;&gt;75</title>\n<path fill=\"none\" stroke=\"#000000\" d=\"M620.3816,-579.8796C627.2879,-568.7735 634.7639,-556.7513 641.7175,-545.5691\"/>\n<polygon fill=\"#000000\" stroke=\"#000000\" points=\"644.8527,-547.1552 647.1613,-536.8149 638.9083,-543.4587 644.8527,-547.1552\"/>\n</g>\n<!-- 77 -->\n<g id=\"node78\" class=\"node\">\n<title>77</title>\n<path fill=\"#e58139\" stroke=\"#000000\" d=\"M795,-655.5C795,-655.5 720,-655.5 720,-655.5 714,-655.5 708,-649.5 708,-643.5 708,-643.5 708,-599.5 708,-599.5 708,-593.5 714,-587.5 720,-587.5 720,-587.5 795,-587.5 795,-587.5 801,-587.5 807,-593.5 807,-599.5 807,-599.5 807,-643.5 807,-643.5 807,-649.5 801,-655.5 795,-655.5\"/>\n<text text-anchor=\"start\" x=\"728\" y=\"-640.3\" font-family=\"Helvetica,sans-Serif\" font-size=\"14.00\" fill=\"#000000\">gini = 0.0</text>\n<text text-anchor=\"start\" x=\"718\" y=\"-625.3\" font-family=\"Helvetica,sans-Serif\" font-size=\"14.00\" fill=\"#000000\">samples = 2</text>\n<text text-anchor=\"start\" x=\"716\" y=\"-610.3\" font-family=\"Helvetica,sans-Serif\" font-size=\"14.00\" fill=\"#000000\">value = [2, 0]</text>\n<text text-anchor=\"start\" x=\"731\" y=\"-595.3\" font-family=\"Helvetica,sans-Serif\" font-size=\"14.00\" fill=\"#000000\">class = l</text>\n</g>\n<!-- 76&#45;&gt;77 -->\n<g id=\"edge77\" class=\"edge\">\n<title>76&#45;&gt;77</title>\n<path fill=\"none\" stroke=\"#000000\" d=\"M832.2786,-698.8796C821.1208,-687.3337 809.0061,-674.7976 797.8414,-663.2446\"/>\n<polygon fill=\"#000000\" stroke=\"#000000\" points=\"800.1275,-660.5736 790.6615,-655.8149 795.0939,-665.4381 800.1275,-660.5736\"/>\n</g>\n<!-- 78 -->\n<g id=\"node79\" class=\"node\">\n<title>78</title>\n<path fill=\"#ffffff\" stroke=\"#000000\" d=\"M912,-663C912,-663 837,-663 837,-663 831,-663 825,-657 825,-651 825,-651 825,-592 825,-592 825,-586 831,-580 837,-580 837,-580 912,-580 912,-580 918,-580 924,-586 924,-592 924,-592 924,-651 924,-651 924,-657 918,-663 912,-663\"/>\n<text text-anchor=\"start\" x=\"833.5\" y=\"-647.8\" font-family=\"Helvetica,sans-Serif\" font-size=\"14.00\" fill=\"#000000\">age ≤ &#45;0.653</text>\n<text text-anchor=\"start\" x=\"845\" y=\"-632.8\" font-family=\"Helvetica,sans-Serif\" font-size=\"14.00\" fill=\"#000000\">gini = 0.5</text>\n<text text-anchor=\"start\" x=\"835\" y=\"-617.8\" font-family=\"Helvetica,sans-Serif\" font-size=\"14.00\" fill=\"#000000\">samples = 4</text>\n<text text-anchor=\"start\" x=\"833\" y=\"-602.8\" font-family=\"Helvetica,sans-Serif\" font-size=\"14.00\" fill=\"#000000\">value = [2, 2]</text>\n<text text-anchor=\"start\" x=\"848\" y=\"-587.8\" font-family=\"Helvetica,sans-Serif\" font-size=\"14.00\" fill=\"#000000\">class = l</text>\n</g>\n<!-- 76&#45;&gt;78 -->\n<g id=\"edge78\" class=\"edge\">\n<title>76&#45;&gt;78</title>\n<path fill=\"none\" stroke=\"#000000\" d=\"M873.1995,-698.8796C873.3372,-690.6838 873.4834,-681.9891 873.626,-673.5013\"/>\n<polygon fill=\"#000000\" stroke=\"#000000\" points=\"877.1289,-673.3555 873.7975,-663.2981 870.1299,-673.2378 877.1289,-673.3555\"/>\n</g>\n<!-- 79 -->\n<g id=\"node80\" class=\"node\">\n<title>79</title>\n<path fill=\"#ffffff\" stroke=\"#000000\" d=\"M823,-536.5C823,-536.5 748,-536.5 748,-536.5 742,-536.5 736,-530.5 736,-524.5 736,-524.5 736,-480.5 736,-480.5 736,-474.5 742,-468.5 748,-468.5 748,-468.5 823,-468.5 823,-468.5 829,-468.5 835,-474.5 835,-480.5 835,-480.5 835,-524.5 835,-524.5 835,-530.5 829,-536.5 823,-536.5\"/>\n<text text-anchor=\"start\" x=\"756\" y=\"-521.3\" font-family=\"Helvetica,sans-Serif\" font-size=\"14.00\" fill=\"#000000\">gini = 0.5</text>\n<text text-anchor=\"start\" x=\"746\" y=\"-506.3\" font-family=\"Helvetica,sans-Serif\" font-size=\"14.00\" fill=\"#000000\">samples = 2</text>\n<text text-anchor=\"start\" x=\"744\" y=\"-491.3\" font-family=\"Helvetica,sans-Serif\" font-size=\"14.00\" fill=\"#000000\">value = [1, 1]</text>\n<text text-anchor=\"start\" x=\"759\" y=\"-476.3\" font-family=\"Helvetica,sans-Serif\" font-size=\"14.00\" fill=\"#000000\">class = l</text>\n</g>\n<!-- 78&#45;&gt;79 -->\n<g id=\"edge79\" class=\"edge\">\n<title>78&#45;&gt;79</title>\n<path fill=\"none\" stroke=\"#000000\" d=\"M843.3721,-579.8796C834.9014,-568.5536 825.7181,-556.2748 817.2153,-544.9058\"/>\n<polygon fill=\"#000000\" stroke=\"#000000\" points=\"819.9562,-542.7268 811.1641,-536.8149 814.3505,-546.9193 819.9562,-542.7268\"/>\n</g>\n<!-- 80 -->\n<g id=\"node81\" class=\"node\">\n<title>80</title>\n<path fill=\"#ffffff\" stroke=\"#000000\" d=\"M940,-536.5C940,-536.5 865,-536.5 865,-536.5 859,-536.5 853,-530.5 853,-524.5 853,-524.5 853,-480.5 853,-480.5 853,-474.5 859,-468.5 865,-468.5 865,-468.5 940,-468.5 940,-468.5 946,-468.5 952,-474.5 952,-480.5 952,-480.5 952,-524.5 952,-524.5 952,-530.5 946,-536.5 940,-536.5\"/>\n<text text-anchor=\"start\" x=\"873\" y=\"-521.3\" font-family=\"Helvetica,sans-Serif\" font-size=\"14.00\" fill=\"#000000\">gini = 0.5</text>\n<text text-anchor=\"start\" x=\"863\" y=\"-506.3\" font-family=\"Helvetica,sans-Serif\" font-size=\"14.00\" fill=\"#000000\">samples = 2</text>\n<text text-anchor=\"start\" x=\"861\" y=\"-491.3\" font-family=\"Helvetica,sans-Serif\" font-size=\"14.00\" fill=\"#000000\">value = [1, 1]</text>\n<text text-anchor=\"start\" x=\"876\" y=\"-476.3\" font-family=\"Helvetica,sans-Serif\" font-size=\"14.00\" fill=\"#000000\">class = l</text>\n</g>\n<!-- 78&#45;&gt;80 -->\n<g id=\"edge80\" class=\"edge\">\n<title>78&#45;&gt;80</title>\n<path fill=\"none\" stroke=\"#000000\" d=\"M884.293,-579.8796C886.8286,-569.1034 889.5671,-557.4647 892.1311,-546.5677\"/>\n<polygon fill=\"#000000\" stroke=\"#000000\" points=\"895.5424,-547.3508 894.4259,-536.8149 888.7285,-545.7474 895.5424,-547.3508\"/>\n</g>\n<!-- 82 -->\n<g id=\"node83\" class=\"node\">\n<title>82</title>\n<path fill=\"#bddef6\" stroke=\"#000000\" d=\"M1042,-782C1042,-782 957,-782 957,-782 951,-782 945,-776 945,-770 945,-770 945,-711 945,-711 945,-705 951,-699 957,-699 957,-699 1042,-699 1042,-699 1048,-699 1054,-705 1054,-711 1054,-711 1054,-770 1054,-770 1054,-776 1048,-782 1042,-782\"/>\n<text text-anchor=\"start\" x=\"953\" y=\"-766.8\" font-family=\"Helvetica,sans-Serif\" font-size=\"14.00\" fill=\"#000000\">terms ≤ &#45;0.019</text>\n<text text-anchor=\"start\" x=\"966\" y=\"-751.8\" font-family=\"Helvetica,sans-Serif\" font-size=\"14.00\" fill=\"#000000\">gini = 0.48</text>\n<text text-anchor=\"start\" x=\"960\" y=\"-736.8\" font-family=\"Helvetica,sans-Serif\" font-size=\"14.00\" fill=\"#000000\">samples = 5</text>\n<text text-anchor=\"start\" x=\"958\" y=\"-721.8\" font-family=\"Helvetica,sans-Serif\" font-size=\"14.00\" fill=\"#000000\">value = [2, 3]</text>\n<text text-anchor=\"start\" x=\"970.5\" y=\"-706.8\" font-family=\"Helvetica,sans-Serif\" font-size=\"14.00\" fill=\"#000000\">class = o</text>\n</g>\n<!-- 81&#45;&gt;82 -->\n<g id=\"edge82\" class=\"edge\">\n<title>81&#45;&gt;82</title>\n<path fill=\"none\" stroke=\"#000000\" d=\"M1078.8303,-817.8796C1069.4123,-808.6931 1059.3516,-798.8798 1049.6672,-789.4336\"/>\n<polygon fill=\"#000000\" stroke=\"#000000\" points=\"1051.9543,-786.7751 1042.3518,-782.2981 1047.0665,-791.7861 1051.9543,-786.7751\"/>\n</g>\n<!-- 89 -->\n<g id=\"node90\" class=\"node\">\n<title>89</title>\n<path fill=\"#399de5\" stroke=\"#000000\" d=\"M1159,-774.5C1159,-774.5 1084,-774.5 1084,-774.5 1078,-774.5 1072,-768.5 1072,-762.5 1072,-762.5 1072,-718.5 1072,-718.5 1072,-712.5 1078,-706.5 1084,-706.5 1084,-706.5 1159,-706.5 1159,-706.5 1165,-706.5 1171,-712.5 1171,-718.5 1171,-718.5 1171,-762.5 1171,-762.5 1171,-768.5 1165,-774.5 1159,-774.5\"/>\n<text text-anchor=\"start\" x=\"1092\" y=\"-759.3\" font-family=\"Helvetica,sans-Serif\" font-size=\"14.00\" fill=\"#000000\">gini = 0.0</text>\n<text text-anchor=\"start\" x=\"1082\" y=\"-744.3\" font-family=\"Helvetica,sans-Serif\" font-size=\"14.00\" fill=\"#000000\">samples = 3</text>\n<text text-anchor=\"start\" x=\"1080\" y=\"-729.3\" font-family=\"Helvetica,sans-Serif\" font-size=\"14.00\" fill=\"#000000\">value = [0, 3]</text>\n<text text-anchor=\"start\" x=\"1092.5\" y=\"-714.3\" font-family=\"Helvetica,sans-Serif\" font-size=\"14.00\" fill=\"#000000\">class = o</text>\n</g>\n<!-- 81&#45;&gt;89 -->\n<g id=\"edge89\" class=\"edge\">\n<title>81&#45;&gt;89</title>\n<path fill=\"none\" stroke=\"#000000\" d=\"M1121.5,-817.8796C1121.5,-807.2134 1121.5,-795.7021 1121.5,-784.9015\"/>\n<polygon fill=\"#000000\" stroke=\"#000000\" points=\"1125.0001,-784.8149 1121.5,-774.8149 1118.0001,-784.815 1125.0001,-784.8149\"/>\n</g>\n<!-- 83 -->\n<g id=\"node84\" class=\"node\">\n<title>83</title>\n<path fill=\"#399de5\" stroke=\"#000000\" d=\"M1034,-655.5C1034,-655.5 959,-655.5 959,-655.5 953,-655.5 947,-649.5 947,-643.5 947,-643.5 947,-599.5 947,-599.5 947,-593.5 953,-587.5 959,-587.5 959,-587.5 1034,-587.5 1034,-587.5 1040,-587.5 1046,-593.5 1046,-599.5 1046,-599.5 1046,-643.5 1046,-643.5 1046,-649.5 1040,-655.5 1034,-655.5\"/>\n<text text-anchor=\"start\" x=\"967\" y=\"-640.3\" font-family=\"Helvetica,sans-Serif\" font-size=\"14.00\" fill=\"#000000\">gini = 0.0</text>\n<text text-anchor=\"start\" x=\"957\" y=\"-625.3\" font-family=\"Helvetica,sans-Serif\" font-size=\"14.00\" fill=\"#000000\">samples = 1</text>\n<text text-anchor=\"start\" x=\"955\" y=\"-610.3\" font-family=\"Helvetica,sans-Serif\" font-size=\"14.00\" fill=\"#000000\">value = [0, 1]</text>\n<text text-anchor=\"start\" x=\"967.5\" y=\"-595.3\" font-family=\"Helvetica,sans-Serif\" font-size=\"14.00\" fill=\"#000000\">class = o</text>\n</g>\n<!-- 82&#45;&gt;83 -->\n<g id=\"edge83\" class=\"edge\">\n<title>82&#45;&gt;83</title>\n<path fill=\"none\" stroke=\"#000000\" d=\"M998.4507,-698.8796C998.1818,-688.2134 997.8916,-676.7021 997.6194,-665.9015\"/>\n<polygon fill=\"#000000\" stroke=\"#000000\" points=\"1001.1161,-665.7235 997.3651,-655.8149 994.1183,-665.9 1001.1161,-665.7235\"/>\n</g>\n<!-- 84 -->\n<g id=\"node85\" class=\"node\">\n<title>84</title>\n<path fill=\"#ffffff\" stroke=\"#000000\" d=\"M1180.5,-663C1180.5,-663 1076.5,-663 1076.5,-663 1070.5,-663 1064.5,-657 1064.5,-651 1064.5,-651 1064.5,-592 1064.5,-592 1064.5,-586 1070.5,-580 1076.5,-580 1076.5,-580 1180.5,-580 1180.5,-580 1186.5,-580 1192.5,-586 1192.5,-592 1192.5,-592 1192.5,-651 1192.5,-651 1192.5,-657 1186.5,-663 1180.5,-663\"/>\n<text text-anchor=\"start\" x=\"1072.5\" y=\"-647.8\" font-family=\"Helvetica,sans-Serif\" font-size=\"14.00\" fill=\"#000000\">Principal ≤ &#45;0.399</text>\n<text text-anchor=\"start\" x=\"1099\" y=\"-632.8\" font-family=\"Helvetica,sans-Serif\" font-size=\"14.00\" fill=\"#000000\">gini = 0.5</text>\n<text text-anchor=\"start\" x=\"1089\" y=\"-617.8\" font-family=\"Helvetica,sans-Serif\" font-size=\"14.00\" fill=\"#000000\">samples = 4</text>\n<text text-anchor=\"start\" x=\"1087\" y=\"-602.8\" font-family=\"Helvetica,sans-Serif\" font-size=\"14.00\" fill=\"#000000\">value = [2, 2]</text>\n<text text-anchor=\"start\" x=\"1102\" y=\"-587.8\" font-family=\"Helvetica,sans-Serif\" font-size=\"14.00\" fill=\"#000000\">class = l</text>\n</g>\n<!-- 82&#45;&gt;84 -->\n<g id=\"edge84\" class=\"edge\">\n<title>82&#45;&gt;84</title>\n<path fill=\"none\" stroke=\"#000000\" d=\"M1044.6179,-698.8796C1054.674,-689.6031 1065.423,-679.6874 1075.7554,-670.1559\"/>\n<polygon fill=\"#000000\" stroke=\"#000000\" points=\"1078.2124,-672.6511 1083.1895,-663.2981 1073.4661,-667.506 1078.2124,-672.6511\"/>\n</g>\n<!-- 85 -->\n<g id=\"node86\" class=\"node\">\n<title>85</title>\n<path fill=\"#e58139\" stroke=\"#000000\" d=\"M1057,-536.5C1057,-536.5 982,-536.5 982,-536.5 976,-536.5 970,-530.5 970,-524.5 970,-524.5 970,-480.5 970,-480.5 970,-474.5 976,-468.5 982,-468.5 982,-468.5 1057,-468.5 1057,-468.5 1063,-468.5 1069,-474.5 1069,-480.5 1069,-480.5 1069,-524.5 1069,-524.5 1069,-530.5 1063,-536.5 1057,-536.5\"/>\n<text text-anchor=\"start\" x=\"990\" y=\"-521.3\" font-family=\"Helvetica,sans-Serif\" font-size=\"14.00\" fill=\"#000000\">gini = 0.0</text>\n<text text-anchor=\"start\" x=\"980\" y=\"-506.3\" font-family=\"Helvetica,sans-Serif\" font-size=\"14.00\" fill=\"#000000\">samples = 1</text>\n<text text-anchor=\"start\" x=\"978\" y=\"-491.3\" font-family=\"Helvetica,sans-Serif\" font-size=\"14.00\" fill=\"#000000\">value = [1, 0]</text>\n<text text-anchor=\"start\" x=\"993\" y=\"-476.3\" font-family=\"Helvetica,sans-Serif\" font-size=\"14.00\" fill=\"#000000\">class = l</text>\n</g>\n<!-- 84&#45;&gt;85 -->\n<g id=\"edge85\" class=\"edge\">\n<title>84&#45;&gt;85</title>\n<path fill=\"none\" stroke=\"#000000\" d=\"M1090.3771,-579.8796C1079.8014,-568.3337 1068.3188,-555.7976 1057.7367,-544.2446\"/>\n<polygon fill=\"#000000\" stroke=\"#000000\" points=\"1060.2667,-541.825 1050.9313,-536.8149 1055.1049,-546.5531 1060.2667,-541.825\"/>\n</g>\n<!-- 86 -->\n<g id=\"node87\" class=\"node\">\n<title>86</title>\n<path fill=\"#9ccef2\" stroke=\"#000000\" d=\"M1174,-544C1174,-544 1099,-544 1099,-544 1093,-544 1087,-538 1087,-532 1087,-532 1087,-473 1087,-473 1087,-467 1093,-461 1099,-461 1099,-461 1174,-461 1174,-461 1180,-461 1186,-467 1186,-473 1186,-473 1186,-532 1186,-532 1186,-538 1180,-544 1174,-544\"/>\n<text text-anchor=\"start\" x=\"1098\" y=\"-528.8\" font-family=\"Helvetica,sans-Serif\" font-size=\"14.00\" fill=\"#000000\">age ≤ 0.425</text>\n<text text-anchor=\"start\" x=\"1098.5\" y=\"-513.8\" font-family=\"Helvetica,sans-Serif\" font-size=\"14.00\" fill=\"#000000\">gini = 0.444</text>\n<text text-anchor=\"start\" x=\"1097\" y=\"-498.8\" font-family=\"Helvetica,sans-Serif\" font-size=\"14.00\" fill=\"#000000\">samples = 3</text>\n<text text-anchor=\"start\" x=\"1095\" y=\"-483.8\" font-family=\"Helvetica,sans-Serif\" font-size=\"14.00\" fill=\"#000000\">value = [1, 2]</text>\n<text text-anchor=\"start\" x=\"1107.5\" y=\"-468.8\" font-family=\"Helvetica,sans-Serif\" font-size=\"14.00\" fill=\"#000000\">class = o</text>\n</g>\n<!-- 84&#45;&gt;86 -->\n<g id=\"edge86\" class=\"edge\">\n<title>84&#45;&gt;86</title>\n<path fill=\"none\" stroke=\"#000000\" d=\"M1131.298,-579.8796C1131.849,-571.6838 1132.4335,-562.9891 1133.0041,-554.5013\"/>\n<polygon fill=\"#000000\" stroke=\"#000000\" points=\"1136.5113,-554.5103 1133.69,-544.2981 1129.5271,-554.0408 1136.5113,-554.5103\"/>\n</g>\n<!-- 87 -->\n<g id=\"node88\" class=\"node\">\n<title>87</title>\n<path fill=\"#399de5\" stroke=\"#000000\" d=\"M1115,-417.5C1115,-417.5 1040,-417.5 1040,-417.5 1034,-417.5 1028,-411.5 1028,-405.5 1028,-405.5 1028,-361.5 1028,-361.5 1028,-355.5 1034,-349.5 1040,-349.5 1040,-349.5 1115,-349.5 1115,-349.5 1121,-349.5 1127,-355.5 1127,-361.5 1127,-361.5 1127,-405.5 1127,-405.5 1127,-411.5 1121,-417.5 1115,-417.5\"/>\n<text text-anchor=\"start\" x=\"1048\" y=\"-402.3\" font-family=\"Helvetica,sans-Serif\" font-size=\"14.00\" fill=\"#000000\">gini = 0.0</text>\n<text text-anchor=\"start\" x=\"1038\" y=\"-387.3\" font-family=\"Helvetica,sans-Serif\" font-size=\"14.00\" fill=\"#000000\">samples = 1</text>\n<text text-anchor=\"start\" x=\"1036\" y=\"-372.3\" font-family=\"Helvetica,sans-Serif\" font-size=\"14.00\" fill=\"#000000\">value = [0, 1]</text>\n<text text-anchor=\"start\" x=\"1048.5\" y=\"-357.3\" font-family=\"Helvetica,sans-Serif\" font-size=\"14.00\" fill=\"#000000\">class = o</text>\n</g>\n<!-- 86&#45;&gt;87 -->\n<g id=\"edge87\" class=\"edge\">\n<title>86&#45;&gt;87</title>\n<path fill=\"none\" stroke=\"#000000\" d=\"M1115.8647,-460.8796C1110.4128,-449.8835 1104.5157,-437.9893 1099.0184,-426.9015\"/>\n<polygon fill=\"#000000\" stroke=\"#000000\" points=\"1102.0911,-425.2195 1094.5133,-417.8149 1095.8196,-428.3289 1102.0911,-425.2195\"/>\n</g>\n<!-- 88 -->\n<g id=\"node89\" class=\"node\">\n<title>88</title>\n<path fill=\"#ffffff\" stroke=\"#000000\" d=\"M1232,-417.5C1232,-417.5 1157,-417.5 1157,-417.5 1151,-417.5 1145,-411.5 1145,-405.5 1145,-405.5 1145,-361.5 1145,-361.5 1145,-355.5 1151,-349.5 1157,-349.5 1157,-349.5 1232,-349.5 1232,-349.5 1238,-349.5 1244,-355.5 1244,-361.5 1244,-361.5 1244,-405.5 1244,-405.5 1244,-411.5 1238,-417.5 1232,-417.5\"/>\n<text text-anchor=\"start\" x=\"1165\" y=\"-402.3\" font-family=\"Helvetica,sans-Serif\" font-size=\"14.00\" fill=\"#000000\">gini = 0.5</text>\n<text text-anchor=\"start\" x=\"1155\" y=\"-387.3\" font-family=\"Helvetica,sans-Serif\" font-size=\"14.00\" fill=\"#000000\">samples = 2</text>\n<text text-anchor=\"start\" x=\"1153\" y=\"-372.3\" font-family=\"Helvetica,sans-Serif\" font-size=\"14.00\" fill=\"#000000\">value = [1, 1]</text>\n<text text-anchor=\"start\" x=\"1168\" y=\"-357.3\" font-family=\"Helvetica,sans-Serif\" font-size=\"14.00\" fill=\"#000000\">class = l</text>\n</g>\n<!-- 86&#45;&gt;88 -->\n<g id=\"edge88\" class=\"edge\">\n<title>86&#45;&gt;88</title>\n<path fill=\"none\" stroke=\"#000000\" d=\"M1156.7856,-460.8796C1162.145,-449.8835 1167.9422,-437.9893 1173.3463,-426.9015\"/>\n<polygon fill=\"#000000\" stroke=\"#000000\" points=\"1176.54,-428.3375 1177.7751,-417.8149 1170.2476,-425.2706 1176.54,-428.3375\"/>\n</g>\n<!-- 91 -->\n<g id=\"node92\" class=\"node\">\n<title>91</title>\n<path fill=\"#eca572\" stroke=\"#000000\" d=\"M1418.5,-901C1418.5,-901 1314.5,-901 1314.5,-901 1308.5,-901 1302.5,-895 1302.5,-889 1302.5,-889 1302.5,-830 1302.5,-830 1302.5,-824 1308.5,-818 1314.5,-818 1314.5,-818 1418.5,-818 1418.5,-818 1424.5,-818 1430.5,-824 1430.5,-830 1430.5,-830 1430.5,-889 1430.5,-889 1430.5,-895 1424.5,-901 1418.5,-901\"/>\n<text text-anchor=\"start\" x=\"1310.5\" y=\"-885.8\" font-family=\"Helvetica,sans-Serif\" font-size=\"14.00\" fill=\"#000000\">Principal ≤ &#45;0.399</text>\n<text text-anchor=\"start\" x=\"1328.5\" y=\"-870.8\" font-family=\"Helvetica,sans-Serif\" font-size=\"14.00\" fill=\"#000000\">gini = 0.346</text>\n<text text-anchor=\"start\" x=\"1327\" y=\"-855.8\" font-family=\"Helvetica,sans-Serif\" font-size=\"14.00\" fill=\"#000000\">samples = 9</text>\n<text text-anchor=\"start\" x=\"1325\" y=\"-840.8\" font-family=\"Helvetica,sans-Serif\" font-size=\"14.00\" fill=\"#000000\">value = [7, 2]</text>\n<text text-anchor=\"start\" x=\"1340\" y=\"-825.8\" font-family=\"Helvetica,sans-Serif\" font-size=\"14.00\" fill=\"#000000\">class = l</text>\n</g>\n<!-- 90&#45;&gt;91 -->\n<g id=\"edge91\" class=\"edge\">\n<title>90&#45;&gt;91</title>\n<path fill=\"none\" stroke=\"#000000\" d=\"M1366.5,-936.8796C1366.5,-928.6838 1366.5,-919.9891 1366.5,-911.5013\"/>\n<polygon fill=\"#000000\" stroke=\"#000000\" points=\"1370.0001,-911.298 1366.5,-901.2981 1363.0001,-911.2981 1370.0001,-911.298\"/>\n</g>\n<!-- 98 -->\n<g id=\"node99\" class=\"node\">\n<title>98</title>\n<path fill=\"#b0d8f5\" stroke=\"#000000\" d=\"M1552,-901C1552,-901 1477,-901 1477,-901 1471,-901 1465,-895 1465,-889 1465,-889 1465,-830 1465,-830 1465,-824 1471,-818 1477,-818 1477,-818 1552,-818 1552,-818 1558,-818 1564,-824 1564,-830 1564,-830 1564,-889 1564,-889 1564,-895 1558,-901 1552,-901\"/>\n<text text-anchor=\"start\" x=\"1476\" y=\"-885.8\" font-family=\"Helvetica,sans-Serif\" font-size=\"14.00\" fill=\"#000000\">age ≤ 1.585</text>\n<text text-anchor=\"start\" x=\"1476.5\" y=\"-870.8\" font-family=\"Helvetica,sans-Serif\" font-size=\"14.00\" fill=\"#000000\">gini = 0.469</text>\n<text text-anchor=\"start\" x=\"1475\" y=\"-855.8\" font-family=\"Helvetica,sans-Serif\" font-size=\"14.00\" fill=\"#000000\">samples = 8</text>\n<text text-anchor=\"start\" x=\"1473\" y=\"-840.8\" font-family=\"Helvetica,sans-Serif\" font-size=\"14.00\" fill=\"#000000\">value = [3, 5]</text>\n<text text-anchor=\"start\" x=\"1485.5\" y=\"-825.8\" font-family=\"Helvetica,sans-Serif\" font-size=\"14.00\" fill=\"#000000\">class = o</text>\n</g>\n<!-- 90&#45;&gt;98 -->\n<g id=\"edge98\" class=\"edge\">\n<title>90&#45;&gt;98</title>\n<path fill=\"none\" stroke=\"#000000\" d=\"M1418.2632,-936.8796C1430.6887,-926.8888 1444.0362,-916.1567 1456.7158,-905.9617\"/>\n<polygon fill=\"#000000\" stroke=\"#000000\" points=\"1458.9099,-908.6885 1464.51,-899.6946 1454.5236,-903.2332 1458.9099,-908.6885\"/>\n</g>\n<!-- 92 -->\n<g id=\"node93\" class=\"node\">\n<title>92</title>\n<path fill=\"#e58139\" stroke=\"#000000\" d=\"M1276,-774.5C1276,-774.5 1201,-774.5 1201,-774.5 1195,-774.5 1189,-768.5 1189,-762.5 1189,-762.5 1189,-718.5 1189,-718.5 1189,-712.5 1195,-706.5 1201,-706.5 1201,-706.5 1276,-706.5 1276,-706.5 1282,-706.5 1288,-712.5 1288,-718.5 1288,-718.5 1288,-762.5 1288,-762.5 1288,-768.5 1282,-774.5 1276,-774.5\"/>\n<text text-anchor=\"start\" x=\"1209\" y=\"-759.3\" font-family=\"Helvetica,sans-Serif\" font-size=\"14.00\" fill=\"#000000\">gini = 0.0</text>\n<text text-anchor=\"start\" x=\"1199\" y=\"-744.3\" font-family=\"Helvetica,sans-Serif\" font-size=\"14.00\" fill=\"#000000\">samples = 3</text>\n<text text-anchor=\"start\" x=\"1197\" y=\"-729.3\" font-family=\"Helvetica,sans-Serif\" font-size=\"14.00\" fill=\"#000000\">value = [3, 0]</text>\n<text text-anchor=\"start\" x=\"1212\" y=\"-714.3\" font-family=\"Helvetica,sans-Serif\" font-size=\"14.00\" fill=\"#000000\">class = l</text>\n</g>\n<!-- 91&#45;&gt;92 -->\n<g id=\"edge92\" class=\"edge\">\n<title>91&#45;&gt;92</title>\n<path fill=\"none\" stroke=\"#000000\" d=\"M1321.7318,-817.8796C1309.1944,-806.2237 1295.5716,-793.5587 1283.047,-781.9148\"/>\n<polygon fill=\"#000000\" stroke=\"#000000\" points=\"1285.1172,-779.0605 1275.4102,-774.8149 1280.3509,-784.1872 1285.1172,-779.0605\"/>\n</g>\n<!-- 93 -->\n<g id=\"node94\" class=\"node\">\n<title>93</title>\n<path fill=\"#f2c09c\" stroke=\"#000000\" d=\"M1420.5,-782C1420.5,-782 1318.5,-782 1318.5,-782 1312.5,-782 1306.5,-776 1306.5,-770 1306.5,-770 1306.5,-711 1306.5,-711 1306.5,-705 1312.5,-699 1318.5,-699 1318.5,-699 1420.5,-699 1420.5,-699 1426.5,-699 1432.5,-705 1432.5,-711 1432.5,-711 1432.5,-770 1432.5,-770 1432.5,-776 1426.5,-782 1420.5,-782\"/>\n<text text-anchor=\"start\" x=\"1314.5\" y=\"-766.8\" font-family=\"Helvetica,sans-Serif\" font-size=\"14.00\" fill=\"#000000\">Bechalor ≤ 1.119</text>\n<text text-anchor=\"start\" x=\"1331.5\" y=\"-751.8\" font-family=\"Helvetica,sans-Serif\" font-size=\"14.00\" fill=\"#000000\">gini = 0.444</text>\n<text text-anchor=\"start\" x=\"1330\" y=\"-736.8\" font-family=\"Helvetica,sans-Serif\" font-size=\"14.00\" fill=\"#000000\">samples = 6</text>\n<text text-anchor=\"start\" x=\"1328\" y=\"-721.8\" font-family=\"Helvetica,sans-Serif\" font-size=\"14.00\" fill=\"#000000\">value = [4, 2]</text>\n<text text-anchor=\"start\" x=\"1343\" y=\"-706.8\" font-family=\"Helvetica,sans-Serif\" font-size=\"14.00\" fill=\"#000000\">class = l</text>\n</g>\n<!-- 91&#45;&gt;93 -->\n<g id=\"edge93\" class=\"edge\">\n<title>91&#45;&gt;93</title>\n<path fill=\"none\" stroke=\"#000000\" d=\"M1367.5493,-817.8796C1367.7559,-809.6838 1367.9751,-800.9891 1368.189,-792.5013\"/>\n<polygon fill=\"#000000\" stroke=\"#000000\" points=\"1371.693,-792.3831 1368.4463,-782.2981 1364.6953,-792.2067 1371.693,-792.3831\"/>\n</g>\n<!-- 94 -->\n<g id=\"node95\" class=\"node\">\n<title>94</title>\n<path fill=\"#eca06a\" stroke=\"#000000\" d=\"M1303,-663C1303,-663 1228,-663 1228,-663 1222,-663 1216,-657 1216,-651 1216,-651 1216,-592 1216,-592 1216,-586 1222,-580 1228,-580 1228,-580 1303,-580 1303,-580 1309,-580 1315,-586 1315,-592 1315,-592 1315,-651 1315,-651 1315,-657 1309,-663 1303,-663\"/>\n<text text-anchor=\"start\" x=\"1227\" y=\"-647.8\" font-family=\"Helvetica,sans-Serif\" font-size=\"14.00\" fill=\"#000000\">age ≤ 0.922</text>\n<text text-anchor=\"start\" x=\"1232\" y=\"-632.8\" font-family=\"Helvetica,sans-Serif\" font-size=\"14.00\" fill=\"#000000\">gini = 0.32</text>\n<text text-anchor=\"start\" x=\"1226\" y=\"-617.8\" font-family=\"Helvetica,sans-Serif\" font-size=\"14.00\" fill=\"#000000\">samples = 5</text>\n<text text-anchor=\"start\" x=\"1224\" y=\"-602.8\" font-family=\"Helvetica,sans-Serif\" font-size=\"14.00\" fill=\"#000000\">value = [4, 1]</text>\n<text text-anchor=\"start\" x=\"1239\" y=\"-587.8\" font-family=\"Helvetica,sans-Serif\" font-size=\"14.00\" fill=\"#000000\">class = l</text>\n</g>\n<!-- 93&#45;&gt;94 -->\n<g id=\"edge94\" class=\"edge\">\n<title>93&#45;&gt;94</title>\n<path fill=\"none\" stroke=\"#000000\" d=\"M1333.1258,-698.8796C1325.2548,-689.8733 1316.8571,-680.2644 1308.7515,-670.9897\"/>\n<polygon fill=\"#000000\" stroke=\"#000000\" points=\"1311.2454,-668.5246 1302.0294,-663.2981 1305.9746,-673.131 1311.2454,-668.5246\"/>\n</g>\n<!-- 97 -->\n<g id=\"node98\" class=\"node\">\n<title>97</title>\n<path fill=\"#399de5\" stroke=\"#000000\" d=\"M1420,-655.5C1420,-655.5 1345,-655.5 1345,-655.5 1339,-655.5 1333,-649.5 1333,-643.5 1333,-643.5 1333,-599.5 1333,-599.5 1333,-593.5 1339,-587.5 1345,-587.5 1345,-587.5 1420,-587.5 1420,-587.5 1426,-587.5 1432,-593.5 1432,-599.5 1432,-599.5 1432,-643.5 1432,-643.5 1432,-649.5 1426,-655.5 1420,-655.5\"/>\n<text text-anchor=\"start\" x=\"1353\" y=\"-640.3\" font-family=\"Helvetica,sans-Serif\" font-size=\"14.00\" fill=\"#000000\">gini = 0.0</text>\n<text text-anchor=\"start\" x=\"1343\" y=\"-625.3\" font-family=\"Helvetica,sans-Serif\" font-size=\"14.00\" fill=\"#000000\">samples = 1</text>\n<text text-anchor=\"start\" x=\"1341\" y=\"-610.3\" font-family=\"Helvetica,sans-Serif\" font-size=\"14.00\" fill=\"#000000\">value = [0, 1]</text>\n<text text-anchor=\"start\" x=\"1353.5\" y=\"-595.3\" font-family=\"Helvetica,sans-Serif\" font-size=\"14.00\" fill=\"#000000\">class = o</text>\n</g>\n<!-- 93&#45;&gt;97 -->\n<g id=\"edge97\" class=\"edge\">\n<title>93&#45;&gt;97</title>\n<path fill=\"none\" stroke=\"#000000\" d=\"M1374.0468,-698.8796C1375.212,-688.2134 1376.4695,-676.7021 1377.6494,-665.9015\"/>\n<polygon fill=\"#000000\" stroke=\"#000000\" points=\"1381.1445,-666.1359 1378.7513,-655.8149 1374.1859,-665.3757 1381.1445,-666.1359\"/>\n</g>\n<!-- 95 -->\n<g id=\"node96\" class=\"node\">\n<title>95</title>\n<path fill=\"#e58139\" stroke=\"#000000\" d=\"M1291,-536.5C1291,-536.5 1216,-536.5 1216,-536.5 1210,-536.5 1204,-530.5 1204,-524.5 1204,-524.5 1204,-480.5 1204,-480.5 1204,-474.5 1210,-468.5 1216,-468.5 1216,-468.5 1291,-468.5 1291,-468.5 1297,-468.5 1303,-474.5 1303,-480.5 1303,-480.5 1303,-524.5 1303,-524.5 1303,-530.5 1297,-536.5 1291,-536.5\"/>\n<text text-anchor=\"start\" x=\"1224\" y=\"-521.3\" font-family=\"Helvetica,sans-Serif\" font-size=\"14.00\" fill=\"#000000\">gini = 0.0</text>\n<text text-anchor=\"start\" x=\"1214\" y=\"-506.3\" font-family=\"Helvetica,sans-Serif\" font-size=\"14.00\" fill=\"#000000\">samples = 2</text>\n<text text-anchor=\"start\" x=\"1212\" y=\"-491.3\" font-family=\"Helvetica,sans-Serif\" font-size=\"14.00\" fill=\"#000000\">value = [2, 0]</text>\n<text text-anchor=\"start\" x=\"1227\" y=\"-476.3\" font-family=\"Helvetica,sans-Serif\" font-size=\"14.00\" fill=\"#000000\">class = l</text>\n</g>\n<!-- 94&#45;&gt;95 -->\n<g id=\"edge95\" class=\"edge\">\n<title>94&#45;&gt;95</title>\n<path fill=\"none\" stroke=\"#000000\" d=\"M1261.303,-579.8796C1260.2274,-569.2134 1259.0666,-557.7021 1257.9775,-546.9015\"/>\n<polygon fill=\"#000000\" stroke=\"#000000\" points=\"1261.4461,-546.4133 1256.9603,-536.8149 1254.4814,-547.1157 1261.4461,-546.4133\"/>\n</g>\n<!-- 96 -->\n<g id=\"node97\" class=\"node\">\n<title>96</title>\n<path fill=\"#f2c09c\" stroke=\"#000000\" d=\"M1408,-536.5C1408,-536.5 1333,-536.5 1333,-536.5 1327,-536.5 1321,-530.5 1321,-524.5 1321,-524.5 1321,-480.5 1321,-480.5 1321,-474.5 1327,-468.5 1333,-468.5 1333,-468.5 1408,-468.5 1408,-468.5 1414,-468.5 1420,-474.5 1420,-480.5 1420,-480.5 1420,-524.5 1420,-524.5 1420,-530.5 1414,-536.5 1408,-536.5\"/>\n<text text-anchor=\"start\" x=\"1332.5\" y=\"-521.3\" font-family=\"Helvetica,sans-Serif\" font-size=\"14.00\" fill=\"#000000\">gini = 0.444</text>\n<text text-anchor=\"start\" x=\"1331\" y=\"-506.3\" font-family=\"Helvetica,sans-Serif\" font-size=\"14.00\" fill=\"#000000\">samples = 3</text>\n<text text-anchor=\"start\" x=\"1329\" y=\"-491.3\" font-family=\"Helvetica,sans-Serif\" font-size=\"14.00\" fill=\"#000000\">value = [2, 1]</text>\n<text text-anchor=\"start\" x=\"1344\" y=\"-476.3\" font-family=\"Helvetica,sans-Serif\" font-size=\"14.00\" fill=\"#000000\">class = l</text>\n</g>\n<!-- 94&#45;&gt;96 -->\n<g id=\"edge96\" class=\"edge\">\n<title>94&#45;&gt;96</title>\n<path fill=\"none\" stroke=\"#000000\" d=\"M1302.2239,-579.8796C1312.3144,-568.4436 1323.2621,-556.0363 1333.375,-544.575\"/>\n<polygon fill=\"#000000\" stroke=\"#000000\" points=\"1336.2303,-546.629 1340.2221,-536.8149 1330.9814,-541.9977 1336.2303,-546.629\"/>\n</g>\n<!-- 99 -->\n<g id=\"node100\" class=\"node\">\n<title>99</title>\n<path fill=\"#88c4ef\" stroke=\"#000000\" d=\"M1566.5,-782C1566.5,-782 1462.5,-782 1462.5,-782 1456.5,-782 1450.5,-776 1450.5,-770 1450.5,-770 1450.5,-711 1450.5,-711 1450.5,-705 1456.5,-699 1462.5,-699 1462.5,-699 1566.5,-699 1566.5,-699 1572.5,-699 1578.5,-705 1578.5,-711 1578.5,-711 1578.5,-770 1578.5,-770 1578.5,-776 1572.5,-782 1566.5,-782\"/>\n<text text-anchor=\"start\" x=\"1458.5\" y=\"-766.8\" font-family=\"Helvetica,sans-Serif\" font-size=\"14.00\" fill=\"#000000\">Principal ≤ &#45;0.399</text>\n<text text-anchor=\"start\" x=\"1476.5\" y=\"-751.8\" font-family=\"Helvetica,sans-Serif\" font-size=\"14.00\" fill=\"#000000\">gini = 0.408</text>\n<text text-anchor=\"start\" x=\"1475\" y=\"-736.8\" font-family=\"Helvetica,sans-Serif\" font-size=\"14.00\" fill=\"#000000\">samples = 7</text>\n<text text-anchor=\"start\" x=\"1473\" y=\"-721.8\" font-family=\"Helvetica,sans-Serif\" font-size=\"14.00\" fill=\"#000000\">value = [2, 5]</text>\n<text text-anchor=\"start\" x=\"1485.5\" y=\"-706.8\" font-family=\"Helvetica,sans-Serif\" font-size=\"14.00\" fill=\"#000000\">class = o</text>\n</g>\n<!-- 98&#45;&gt;99 -->\n<g id=\"edge99\" class=\"edge\">\n<title>98&#45;&gt;99</title>\n<path fill=\"none\" stroke=\"#000000\" d=\"M1514.5,-817.8796C1514.5,-809.6838 1514.5,-800.9891 1514.5,-792.5013\"/>\n<polygon fill=\"#000000\" stroke=\"#000000\" points=\"1518.0001,-792.298 1514.5,-782.2981 1511.0001,-792.2981 1518.0001,-792.298\"/>\n</g>\n<!-- 106 -->\n<g id=\"node107\" class=\"node\">\n<title>106</title>\n<path fill=\"#e58139\" stroke=\"#000000\" d=\"M1684,-774.5C1684,-774.5 1609,-774.5 1609,-774.5 1603,-774.5 1597,-768.5 1597,-762.5 1597,-762.5 1597,-718.5 1597,-718.5 1597,-712.5 1603,-706.5 1609,-706.5 1609,-706.5 1684,-706.5 1684,-706.5 1690,-706.5 1696,-712.5 1696,-718.5 1696,-718.5 1696,-762.5 1696,-762.5 1696,-768.5 1690,-774.5 1684,-774.5\"/>\n<text text-anchor=\"start\" x=\"1617\" y=\"-759.3\" font-family=\"Helvetica,sans-Serif\" font-size=\"14.00\" fill=\"#000000\">gini = 0.0</text>\n<text text-anchor=\"start\" x=\"1607\" y=\"-744.3\" font-family=\"Helvetica,sans-Serif\" font-size=\"14.00\" fill=\"#000000\">samples = 1</text>\n<text text-anchor=\"start\" x=\"1605\" y=\"-729.3\" font-family=\"Helvetica,sans-Serif\" font-size=\"14.00\" fill=\"#000000\">value = [1, 0]</text>\n<text text-anchor=\"start\" x=\"1620\" y=\"-714.3\" font-family=\"Helvetica,sans-Serif\" font-size=\"14.00\" fill=\"#000000\">class = l</text>\n</g>\n<!-- 98&#45;&gt;106 -->\n<g id=\"edge106\" class=\"edge\">\n<title>98&#45;&gt;106</title>\n<path fill=\"none\" stroke=\"#000000\" d=\"M1560.6672,-817.8796C1573.7183,-806.1138 1587.9101,-793.3197 1600.9261,-781.5855\"/>\n<polygon fill=\"#000000\" stroke=\"#000000\" points=\"1603.3526,-784.1104 1608.4364,-774.8149 1598.6654,-778.9113 1603.3526,-784.1104\"/>\n</g>\n<!-- 100 -->\n<g id=\"node101\" class=\"node\">\n<title>100</title>\n<path fill=\"#399de5\" stroke=\"#000000\" d=\"M1538,-655.5C1538,-655.5 1463,-655.5 1463,-655.5 1457,-655.5 1451,-649.5 1451,-643.5 1451,-643.5 1451,-599.5 1451,-599.5 1451,-593.5 1457,-587.5 1463,-587.5 1463,-587.5 1538,-587.5 1538,-587.5 1544,-587.5 1550,-593.5 1550,-599.5 1550,-599.5 1550,-643.5 1550,-643.5 1550,-649.5 1544,-655.5 1538,-655.5\"/>\n<text text-anchor=\"start\" x=\"1471\" y=\"-640.3\" font-family=\"Helvetica,sans-Serif\" font-size=\"14.00\" fill=\"#000000\">gini = 0.0</text>\n<text text-anchor=\"start\" x=\"1461\" y=\"-625.3\" font-family=\"Helvetica,sans-Serif\" font-size=\"14.00\" fill=\"#000000\">samples = 2</text>\n<text text-anchor=\"start\" x=\"1459\" y=\"-610.3\" font-family=\"Helvetica,sans-Serif\" font-size=\"14.00\" fill=\"#000000\">value = [0, 2]</text>\n<text text-anchor=\"start\" x=\"1471.5\" y=\"-595.3\" font-family=\"Helvetica,sans-Serif\" font-size=\"14.00\" fill=\"#000000\">class = o</text>\n</g>\n<!-- 99&#45;&gt;100 -->\n<g id=\"edge100\" class=\"edge\">\n<title>99&#45;&gt;100</title>\n<path fill=\"none\" stroke=\"#000000\" d=\"M1509.6035,-698.8796C1508.3486,-688.2134 1506.9944,-676.7021 1505.7237,-665.9015\"/>\n<polygon fill=\"#000000\" stroke=\"#000000\" points=\"1509.1816,-665.3375 1504.5371,-655.8149 1502.2295,-666.1554 1509.1816,-665.3375\"/>\n</g>\n<!-- 101 -->\n<g id=\"node102\" class=\"node\">\n<title>101</title>\n<path fill=\"#bddef6\" stroke=\"#000000\" d=\"M1665,-663C1665,-663 1580,-663 1580,-663 1574,-663 1568,-657 1568,-651 1568,-651 1568,-592 1568,-592 1568,-586 1574,-580 1580,-580 1580,-580 1665,-580 1665,-580 1671,-580 1677,-586 1677,-592 1677,-592 1677,-651 1677,-651 1677,-657 1671,-663 1665,-663\"/>\n<text text-anchor=\"start\" x=\"1576\" y=\"-647.8\" font-family=\"Helvetica,sans-Serif\" font-size=\"14.00\" fill=\"#000000\">terms ≤ &#45;0.019</text>\n<text text-anchor=\"start\" x=\"1589\" y=\"-632.8\" font-family=\"Helvetica,sans-Serif\" font-size=\"14.00\" fill=\"#000000\">gini = 0.48</text>\n<text text-anchor=\"start\" x=\"1583\" y=\"-617.8\" font-family=\"Helvetica,sans-Serif\" font-size=\"14.00\" fill=\"#000000\">samples = 5</text>\n<text text-anchor=\"start\" x=\"1581\" y=\"-602.8\" font-family=\"Helvetica,sans-Serif\" font-size=\"14.00\" fill=\"#000000\">value = [2, 3]</text>\n<text text-anchor=\"start\" x=\"1593.5\" y=\"-587.8\" font-family=\"Helvetica,sans-Serif\" font-size=\"14.00\" fill=\"#000000\">class = o</text>\n</g>\n<!-- 99&#45;&gt;101 -->\n<g id=\"edge101\" class=\"edge\">\n<title>99&#45;&gt;101</title>\n<path fill=\"none\" stroke=\"#000000\" d=\"M1552.2732,-698.8796C1560.5287,-689.7832 1569.342,-680.0722 1577.8374,-670.7116\"/>\n<polygon fill=\"#000000\" stroke=\"#000000\" points=\"1580.4368,-673.0553 1584.5656,-663.2981 1575.2533,-668.3509 1580.4368,-673.0553\"/>\n</g>\n<!-- 102 -->\n<g id=\"node103\" class=\"node\">\n<title>102</title>\n<path fill=\"#f2c09c\" stroke=\"#000000\" d=\"M1552.5,-544C1552.5,-544 1450.5,-544 1450.5,-544 1444.5,-544 1438.5,-538 1438.5,-532 1438.5,-532 1438.5,-473 1438.5,-473 1438.5,-467 1444.5,-461 1450.5,-461 1450.5,-461 1552.5,-461 1552.5,-461 1558.5,-461 1564.5,-467 1564.5,-473 1564.5,-473 1564.5,-532 1564.5,-532 1564.5,-538 1558.5,-544 1552.5,-544\"/>\n<text text-anchor=\"start\" x=\"1446.5\" y=\"-528.8\" font-family=\"Helvetica,sans-Serif\" font-size=\"14.00\" fill=\"#000000\">Bechalor ≤ 1.119</text>\n<text text-anchor=\"start\" x=\"1463.5\" y=\"-513.8\" font-family=\"Helvetica,sans-Serif\" font-size=\"14.00\" fill=\"#000000\">gini = 0.444</text>\n<text text-anchor=\"start\" x=\"1462\" y=\"-498.8\" font-family=\"Helvetica,sans-Serif\" font-size=\"14.00\" fill=\"#000000\">samples = 3</text>\n<text text-anchor=\"start\" x=\"1460\" y=\"-483.8\" font-family=\"Helvetica,sans-Serif\" font-size=\"14.00\" fill=\"#000000\">value = [2, 1]</text>\n<text text-anchor=\"start\" x=\"1475\" y=\"-468.8\" font-family=\"Helvetica,sans-Serif\" font-size=\"14.00\" fill=\"#000000\">class = l</text>\n</g>\n<!-- 101&#45;&gt;102 -->\n<g id=\"edge102\" class=\"edge\">\n<title>101&#45;&gt;102</title>\n<path fill=\"none\" stroke=\"#000000\" d=\"M1580.1801,-579.8796C1570.8392,-570.6931 1560.861,-560.8798 1551.256,-551.4336\"/>\n<polygon fill=\"#000000\" stroke=\"#000000\" points=\"1553.5845,-548.8146 1544.0006,-544.2981 1548.6762,-553.8054 1553.5845,-548.8146\"/>\n</g>\n<!-- 105 -->\n<g id=\"node106\" class=\"node\">\n<title>105</title>\n<path fill=\"#399de5\" stroke=\"#000000\" d=\"M1670,-536.5C1670,-536.5 1595,-536.5 1595,-536.5 1589,-536.5 1583,-530.5 1583,-524.5 1583,-524.5 1583,-480.5 1583,-480.5 1583,-474.5 1589,-468.5 1595,-468.5 1595,-468.5 1670,-468.5 1670,-468.5 1676,-468.5 1682,-474.5 1682,-480.5 1682,-480.5 1682,-524.5 1682,-524.5 1682,-530.5 1676,-536.5 1670,-536.5\"/>\n<text text-anchor=\"start\" x=\"1603\" y=\"-521.3\" font-family=\"Helvetica,sans-Serif\" font-size=\"14.00\" fill=\"#000000\">gini = 0.0</text>\n<text text-anchor=\"start\" x=\"1593\" y=\"-506.3\" font-family=\"Helvetica,sans-Serif\" font-size=\"14.00\" fill=\"#000000\">samples = 2</text>\n<text text-anchor=\"start\" x=\"1591\" y=\"-491.3\" font-family=\"Helvetica,sans-Serif\" font-size=\"14.00\" fill=\"#000000\">value = [0, 2]</text>\n<text text-anchor=\"start\" x=\"1603.5\" y=\"-476.3\" font-family=\"Helvetica,sans-Serif\" font-size=\"14.00\" fill=\"#000000\">class = o</text>\n</g>\n<!-- 101&#45;&gt;105 -->\n<g id=\"edge105\" class=\"edge\">\n<title>101&#45;&gt;105</title>\n<path fill=\"none\" stroke=\"#000000\" d=\"M1625.9975,-579.8796C1626.8938,-569.2134 1627.8612,-557.7021 1628.7688,-546.9015\"/>\n<polygon fill=\"#000000\" stroke=\"#000000\" points=\"1632.2666,-547.0729 1629.6164,-536.8149 1625.2912,-546.4867 1632.2666,-547.0729\"/>\n</g>\n<!-- 103 -->\n<g id=\"node104\" class=\"node\">\n<title>103</title>\n<path fill=\"#ffffff\" stroke=\"#000000\" d=\"M1429,-417.5C1429,-417.5 1354,-417.5 1354,-417.5 1348,-417.5 1342,-411.5 1342,-405.5 1342,-405.5 1342,-361.5 1342,-361.5 1342,-355.5 1348,-349.5 1354,-349.5 1354,-349.5 1429,-349.5 1429,-349.5 1435,-349.5 1441,-355.5 1441,-361.5 1441,-361.5 1441,-405.5 1441,-405.5 1441,-411.5 1435,-417.5 1429,-417.5\"/>\n<text text-anchor=\"start\" x=\"1362\" y=\"-402.3\" font-family=\"Helvetica,sans-Serif\" font-size=\"14.00\" fill=\"#000000\">gini = 0.5</text>\n<text text-anchor=\"start\" x=\"1352\" y=\"-387.3\" font-family=\"Helvetica,sans-Serif\" font-size=\"14.00\" fill=\"#000000\">samples = 2</text>\n<text text-anchor=\"start\" x=\"1350\" y=\"-372.3\" font-family=\"Helvetica,sans-Serif\" font-size=\"14.00\" fill=\"#000000\">value = [1, 1]</text>\n<text text-anchor=\"start\" x=\"1365\" y=\"-357.3\" font-family=\"Helvetica,sans-Serif\" font-size=\"14.00\" fill=\"#000000\">class = l</text>\n</g>\n<!-- 102&#45;&gt;103 -->\n<g id=\"edge103\" class=\"edge\">\n<title>102&#45;&gt;103</title>\n<path fill=\"none\" stroke=\"#000000\" d=\"M1463.0273,-460.8796C1452.3547,-449.3337 1440.7667,-436.7976 1430.0875,-425.2446\"/>\n<polygon fill=\"#000000\" stroke=\"#000000\" points=\"1432.5778,-422.7825 1423.2197,-417.8149 1427.4375,-427.534 1432.5778,-422.7825\"/>\n</g>\n<!-- 104 -->\n<g id=\"node105\" class=\"node\">\n<title>104</title>\n<path fill=\"#e58139\" stroke=\"#000000\" d=\"M1546,-417.5C1546,-417.5 1471,-417.5 1471,-417.5 1465,-417.5 1459,-411.5 1459,-405.5 1459,-405.5 1459,-361.5 1459,-361.5 1459,-355.5 1465,-349.5 1471,-349.5 1471,-349.5 1546,-349.5 1546,-349.5 1552,-349.5 1558,-355.5 1558,-361.5 1558,-361.5 1558,-405.5 1558,-405.5 1558,-411.5 1552,-417.5 1546,-417.5\"/>\n<text text-anchor=\"start\" x=\"1479\" y=\"-402.3\" font-family=\"Helvetica,sans-Serif\" font-size=\"14.00\" fill=\"#000000\">gini = 0.0</text>\n<text text-anchor=\"start\" x=\"1469\" y=\"-387.3\" font-family=\"Helvetica,sans-Serif\" font-size=\"14.00\" fill=\"#000000\">samples = 1</text>\n<text text-anchor=\"start\" x=\"1467\" y=\"-372.3\" font-family=\"Helvetica,sans-Serif\" font-size=\"14.00\" fill=\"#000000\">value = [1, 0]</text>\n<text text-anchor=\"start\" x=\"1482\" y=\"-357.3\" font-family=\"Helvetica,sans-Serif\" font-size=\"14.00\" fill=\"#000000\">class = l</text>\n</g>\n<!-- 102&#45;&gt;104 -->\n<g id=\"edge104\" class=\"edge\">\n<title>102&#45;&gt;104</title>\n<path fill=\"none\" stroke=\"#000000\" d=\"M1503.9483,-460.8796C1504.5757,-450.2134 1505.2528,-438.7021 1505.8881,-427.9015\"/>\n<polygon fill=\"#000000\" stroke=\"#000000\" points=\"1509.3881,-428.0032 1506.4815,-417.8149 1502.4002,-427.5921 1509.3881,-428.0032\"/>\n</g>\n<!-- 108 -->\n<g id=\"node109\" class=\"node\">\n<title>108</title>\n<path fill=\"#dbedfa\" stroke=\"#000000\" d=\"M1993.5,-1020C1993.5,-1020 1893.5,-1020 1893.5,-1020 1887.5,-1020 1881.5,-1014 1881.5,-1008 1881.5,-1008 1881.5,-949 1881.5,-949 1881.5,-943 1887.5,-937 1893.5,-937 1893.5,-937 1993.5,-937 1993.5,-937 1999.5,-937 2005.5,-943 2005.5,-949 2005.5,-949 2005.5,-1008 2005.5,-1008 2005.5,-1014 1999.5,-1020 1993.5,-1020\"/>\n<text text-anchor=\"start\" x=\"1889.5\" y=\"-1004.8\" font-family=\"Helvetica,sans-Serif\" font-size=\"14.00\" fill=\"#000000\">Principal ≤ 0.058</text>\n<text text-anchor=\"start\" x=\"1905.5\" y=\"-989.8\" font-family=\"Helvetica,sans-Serif\" font-size=\"14.00\" fill=\"#000000\">gini = 0.495</text>\n<text text-anchor=\"start\" x=\"1899.5\" y=\"-974.8\" font-family=\"Helvetica,sans-Serif\" font-size=\"14.00\" fill=\"#000000\">samples = 20</text>\n<text text-anchor=\"start\" x=\"1898\" y=\"-959.8\" font-family=\"Helvetica,sans-Serif\" font-size=\"14.00\" fill=\"#000000\">value = [9, 11]</text>\n<text text-anchor=\"start\" x=\"1914.5\" y=\"-944.8\" font-family=\"Helvetica,sans-Serif\" font-size=\"14.00\" fill=\"#000000\">class = o</text>\n</g>\n<!-- 107&#45;&gt;108 -->\n<g id=\"edge108\" class=\"edge\">\n<title>107&#45;&gt;108</title>\n<path fill=\"none\" stroke=\"#000000\" d=\"M1943.5,-1055.8796C1943.5,-1047.6838 1943.5,-1038.9891 1943.5,-1030.5013\"/>\n<polygon fill=\"#000000\" stroke=\"#000000\" points=\"1947.0001,-1030.298 1943.5,-1020.2981 1940.0001,-1030.2981 1947.0001,-1030.298\"/>\n</g>\n<!-- 131 -->\n<g id=\"node132\" class=\"node\">\n<title>131</title>\n<path fill=\"#86c3ef\" stroke=\"#000000\" d=\"M2236,-1020C2236,-1020 2153,-1020 2153,-1020 2147,-1020 2141,-1014 2141,-1008 2141,-1008 2141,-949 2141,-949 2141,-943 2147,-937 2153,-937 2153,-937 2236,-937 2236,-937 2242,-937 2248,-943 2248,-949 2248,-949 2248,-1008 2248,-1008 2248,-1014 2242,-1020 2236,-1020\"/>\n<text text-anchor=\"start\" x=\"2153.5\" y=\"-1004.8\" font-family=\"Helvetica,sans-Serif\" font-size=\"14.00\" fill=\"#000000\">age ≤ &#45;0.239</text>\n<text text-anchor=\"start\" x=\"2156.5\" y=\"-989.8\" font-family=\"Helvetica,sans-Serif\" font-size=\"14.00\" fill=\"#000000\">gini = 0.403</text>\n<text text-anchor=\"start\" x=\"2150.5\" y=\"-974.8\" font-family=\"Helvetica,sans-Serif\" font-size=\"14.00\" fill=\"#000000\">samples = 25</text>\n<text text-anchor=\"start\" x=\"2149\" y=\"-959.8\" font-family=\"Helvetica,sans-Serif\" font-size=\"14.00\" fill=\"#000000\">value = [7, 18]</text>\n<text text-anchor=\"start\" x=\"2165.5\" y=\"-944.8\" font-family=\"Helvetica,sans-Serif\" font-size=\"14.00\" fill=\"#000000\">class = o</text>\n</g>\n<!-- 107&#45;&gt;131 -->\n<g id=\"edge131\" class=\"edge\">\n<title>107&#45;&gt;131</title>\n<path fill=\"none\" stroke=\"#000000\" d=\"M2001.7153,-1069.8999C2040.6782,-1051.4275 2091.9254,-1027.131 2131.7883,-1008.2319\"/>\n<polygon fill=\"#000000\" stroke=\"#000000\" points=\"2133.3486,-1011.3656 2140.8852,-1003.919 2130.3498,-1005.0404 2133.3486,-1011.3656\"/>\n</g>\n<!-- 109 -->\n<g id=\"node110\" class=\"node\">\n<title>109</title>\n<path fill=\"#83c2ef\" stroke=\"#000000\" d=\"M1924.5,-901C1924.5,-901 1844.5,-901 1844.5,-901 1838.5,-901 1832.5,-895 1832.5,-889 1832.5,-889 1832.5,-830 1832.5,-830 1832.5,-824 1838.5,-818 1844.5,-818 1844.5,-818 1924.5,-818 1924.5,-818 1930.5,-818 1936.5,-824 1936.5,-830 1936.5,-830 1936.5,-889 1936.5,-889 1936.5,-895 1930.5,-901 1924.5,-901\"/>\n<text text-anchor=\"start\" x=\"1846\" y=\"-885.8\" font-family=\"Helvetica,sans-Serif\" font-size=\"14.00\" fill=\"#000000\">age ≤ 1.088</text>\n<text text-anchor=\"start\" x=\"1846.5\" y=\"-870.8\" font-family=\"Helvetica,sans-Serif\" font-size=\"14.00\" fill=\"#000000\">gini = 0.397</text>\n<text text-anchor=\"start\" x=\"1840.5\" y=\"-855.8\" font-family=\"Helvetica,sans-Serif\" font-size=\"14.00\" fill=\"#000000\">samples = 11</text>\n<text text-anchor=\"start\" x=\"1843\" y=\"-840.8\" font-family=\"Helvetica,sans-Serif\" font-size=\"14.00\" fill=\"#000000\">value = [3, 8]</text>\n<text text-anchor=\"start\" x=\"1855.5\" y=\"-825.8\" font-family=\"Helvetica,sans-Serif\" font-size=\"14.00\" fill=\"#000000\">class = o</text>\n</g>\n<!-- 108&#45;&gt;109 -->\n<g id=\"edge109\" class=\"edge\">\n<title>108&#45;&gt;109</title>\n<path fill=\"none\" stroke=\"#000000\" d=\"M1922.8647,-936.8796C1918.6226,-928.3236 1914.111,-919.2238 1909.7279,-910.3833\"/>\n<polygon fill=\"#000000\" stroke=\"#000000\" points=\"1912.8012,-908.7026 1905.2234,-901.2981 1906.5297,-911.8121 1912.8012,-908.7026\"/>\n</g>\n<!-- 122 -->\n<g id=\"node123\" class=\"node\">\n<title>122</title>\n<path fill=\"#f2c09c\" stroke=\"#000000\" d=\"M2042,-901C2042,-901 1967,-901 1967,-901 1961,-901 1955,-895 1955,-889 1955,-889 1955,-830 1955,-830 1955,-824 1961,-818 1967,-818 1967,-818 2042,-818 2042,-818 2048,-818 2054,-824 2054,-830 2054,-830 2054,-889 2054,-889 2054,-895 2048,-901 2042,-901\"/>\n<text text-anchor=\"start\" x=\"1970\" y=\"-885.8\" font-family=\"Helvetica,sans-Serif\" font-size=\"14.00\" fill=\"#000000\">age ≤ 0.59</text>\n<text text-anchor=\"start\" x=\"1966.5\" y=\"-870.8\" font-family=\"Helvetica,sans-Serif\" font-size=\"14.00\" fill=\"#000000\">gini = 0.444</text>\n<text text-anchor=\"start\" x=\"1965\" y=\"-855.8\" font-family=\"Helvetica,sans-Serif\" font-size=\"14.00\" fill=\"#000000\">samples = 9</text>\n<text text-anchor=\"start\" x=\"1963\" y=\"-840.8\" font-family=\"Helvetica,sans-Serif\" font-size=\"14.00\" fill=\"#000000\">value = [6, 3]</text>\n<text text-anchor=\"start\" x=\"1978\" y=\"-825.8\" font-family=\"Helvetica,sans-Serif\" font-size=\"14.00\" fill=\"#000000\">class = l</text>\n</g>\n<!-- 108&#45;&gt;122 -->\n<g id=\"edge122\" class=\"edge\">\n<title>108&#45;&gt;122</title>\n<path fill=\"none\" stroke=\"#000000\" d=\"M1964.8348,-936.8796C1969.2207,-928.3236 1973.8853,-919.2238 1978.417,-910.3833\"/>\n<polygon fill=\"#000000\" stroke=\"#000000\" points=\"1981.627,-911.7936 1983.0741,-901.2981 1975.3978,-908.6004 1981.627,-911.7936\"/>\n</g>\n<!-- 110 -->\n<g id=\"node111\" class=\"node\">\n<title>110</title>\n<path fill=\"#6ab6ec\" stroke=\"#000000\" d=\"M1806.5,-782C1806.5,-782 1726.5,-782 1726.5,-782 1720.5,-782 1714.5,-776 1714.5,-770 1714.5,-770 1714.5,-711 1714.5,-711 1714.5,-705 1720.5,-699 1726.5,-699 1726.5,-699 1806.5,-699 1806.5,-699 1812.5,-699 1818.5,-705 1818.5,-711 1818.5,-711 1818.5,-770 1818.5,-770 1818.5,-776 1812.5,-782 1806.5,-782\"/>\n<text text-anchor=\"start\" x=\"1728\" y=\"-766.8\" font-family=\"Helvetica,sans-Serif\" font-size=\"14.00\" fill=\"#000000\">age ≤ 0.259</text>\n<text text-anchor=\"start\" x=\"1733\" y=\"-751.8\" font-family=\"Helvetica,sans-Serif\" font-size=\"14.00\" fill=\"#000000\">gini = 0.32</text>\n<text text-anchor=\"start\" x=\"1722.5\" y=\"-736.8\" font-family=\"Helvetica,sans-Serif\" font-size=\"14.00\" fill=\"#000000\">samples = 10</text>\n<text text-anchor=\"start\" x=\"1725\" y=\"-721.8\" font-family=\"Helvetica,sans-Serif\" font-size=\"14.00\" fill=\"#000000\">value = [2, 8]</text>\n<text text-anchor=\"start\" x=\"1737.5\" y=\"-706.8\" font-family=\"Helvetica,sans-Serif\" font-size=\"14.00\" fill=\"#000000\">class = o</text>\n</g>\n<!-- 109&#45;&gt;110 -->\n<g id=\"edge110\" class=\"edge\">\n<title>109&#45;&gt;110</title>\n<path fill=\"none\" stroke=\"#000000\" d=\"M1843.2293,-817.8796C1834.1201,-808.6931 1824.3892,-798.8798 1815.0224,-789.4336\"/>\n<polygon fill=\"#000000\" stroke=\"#000000\" points=\"1817.4733,-786.9345 1807.9468,-782.2981 1812.5027,-791.8634 1817.4733,-786.9345\"/>\n</g>\n<!-- 121 -->\n<g id=\"node122\" class=\"node\">\n<title>121</title>\n<path fill=\"#e58139\" stroke=\"#000000\" d=\"M1924,-774.5C1924,-774.5 1849,-774.5 1849,-774.5 1843,-774.5 1837,-768.5 1837,-762.5 1837,-762.5 1837,-718.5 1837,-718.5 1837,-712.5 1843,-706.5 1849,-706.5 1849,-706.5 1924,-706.5 1924,-706.5 1930,-706.5 1936,-712.5 1936,-718.5 1936,-718.5 1936,-762.5 1936,-762.5 1936,-768.5 1930,-774.5 1924,-774.5\"/>\n<text text-anchor=\"start\" x=\"1857\" y=\"-759.3\" font-family=\"Helvetica,sans-Serif\" font-size=\"14.00\" fill=\"#000000\">gini = 0.0</text>\n<text text-anchor=\"start\" x=\"1847\" y=\"-744.3\" font-family=\"Helvetica,sans-Serif\" font-size=\"14.00\" fill=\"#000000\">samples = 1</text>\n<text text-anchor=\"start\" x=\"1845\" y=\"-729.3\" font-family=\"Helvetica,sans-Serif\" font-size=\"14.00\" fill=\"#000000\">value = [1, 0]</text>\n<text text-anchor=\"start\" x=\"1860\" y=\"-714.3\" font-family=\"Helvetica,sans-Serif\" font-size=\"14.00\" fill=\"#000000\">class = l</text>\n</g>\n<!-- 109&#45;&gt;121 -->\n<g id=\"edge121\" class=\"edge\">\n<title>109&#45;&gt;121</title>\n<path fill=\"none\" stroke=\"#000000\" d=\"M1885.1995,-817.8796C1885.3788,-807.2134 1885.5722,-795.7021 1885.7538,-784.9015\"/>\n<polygon fill=\"#000000\" stroke=\"#000000\" points=\"1889.2546,-784.8724 1885.9233,-774.8149 1882.2556,-784.7547 1889.2546,-784.8724\"/>\n</g>\n<!-- 111 -->\n<g id=\"node112\" class=\"node\">\n<title>111</title>\n<path fill=\"#88c4ef\" stroke=\"#000000\" d=\"M1787,-663C1787,-663 1712,-663 1712,-663 1706,-663 1700,-657 1700,-651 1700,-651 1700,-592 1700,-592 1700,-586 1706,-580 1712,-580 1712,-580 1787,-580 1787,-580 1793,-580 1799,-586 1799,-592 1799,-592 1799,-651 1799,-651 1799,-657 1793,-663 1787,-663\"/>\n<text text-anchor=\"start\" x=\"1715\" y=\"-647.8\" font-family=\"Helvetica,sans-Serif\" font-size=\"14.00\" fill=\"#000000\">age ≤ 0.01</text>\n<text text-anchor=\"start\" x=\"1711.5\" y=\"-632.8\" font-family=\"Helvetica,sans-Serif\" font-size=\"14.00\" fill=\"#000000\">gini = 0.408</text>\n<text text-anchor=\"start\" x=\"1710\" y=\"-617.8\" font-family=\"Helvetica,sans-Serif\" font-size=\"14.00\" fill=\"#000000\">samples = 7</text>\n<text text-anchor=\"start\" x=\"1708\" y=\"-602.8\" font-family=\"Helvetica,sans-Serif\" font-size=\"14.00\" fill=\"#000000\">value = [2, 5]</text>\n<text text-anchor=\"start\" x=\"1720.5\" y=\"-587.8\" font-family=\"Helvetica,sans-Serif\" font-size=\"14.00\" fill=\"#000000\">class = o</text>\n</g>\n<!-- 110&#45;&gt;111 -->\n<g id=\"edge111\" class=\"edge\">\n<title>110&#45;&gt;111</title>\n<path fill=\"none\" stroke=\"#000000\" d=\"M1760.5542,-698.8796C1759.3705,-690.5938 1758.114,-681.798 1756.8888,-673.2216\"/>\n<polygon fill=\"#000000\" stroke=\"#000000\" points=\"1760.3503,-672.7026 1755.4712,-663.2981 1753.4206,-673.6926 1760.3503,-672.7026\"/>\n</g>\n<!-- 120 -->\n<g id=\"node121\" class=\"node\">\n<title>120</title>\n<path fill=\"#399de5\" stroke=\"#000000\" d=\"M1904,-655.5C1904,-655.5 1829,-655.5 1829,-655.5 1823,-655.5 1817,-649.5 1817,-643.5 1817,-643.5 1817,-599.5 1817,-599.5 1817,-593.5 1823,-587.5 1829,-587.5 1829,-587.5 1904,-587.5 1904,-587.5 1910,-587.5 1916,-593.5 1916,-599.5 1916,-599.5 1916,-643.5 1916,-643.5 1916,-649.5 1910,-655.5 1904,-655.5\"/>\n<text text-anchor=\"start\" x=\"1837\" y=\"-640.3\" font-family=\"Helvetica,sans-Serif\" font-size=\"14.00\" fill=\"#000000\">gini = 0.0</text>\n<text text-anchor=\"start\" x=\"1827\" y=\"-625.3\" font-family=\"Helvetica,sans-Serif\" font-size=\"14.00\" fill=\"#000000\">samples = 3</text>\n<text text-anchor=\"start\" x=\"1825\" y=\"-610.3\" font-family=\"Helvetica,sans-Serif\" font-size=\"14.00\" fill=\"#000000\">value = [0, 3]</text>\n<text text-anchor=\"start\" x=\"1837.5\" y=\"-595.3\" font-family=\"Helvetica,sans-Serif\" font-size=\"14.00\" fill=\"#000000\">class = o</text>\n</g>\n<!-- 110&#45;&gt;120 -->\n<g id=\"edge120\" class=\"edge\">\n<title>110&#45;&gt;120</title>\n<path fill=\"none\" stroke=\"#000000\" d=\"M1801.4751,-698.8796C1811.0852,-687.4436 1821.5115,-675.0363 1831.1429,-663.575\"/>\n<polygon fill=\"#000000\" stroke=\"#000000\" points=\"1833.91,-665.7225 1837.6639,-655.8149 1828.5509,-661.219 1833.91,-665.7225\"/>\n</g>\n<!-- 112 -->\n<g id=\"node113\" class=\"node\">\n<title>112</title>\n<path fill=\"#61b1ea\" stroke=\"#000000\" d=\"M1787,-544C1787,-544 1712,-544 1712,-544 1706,-544 1700,-538 1700,-532 1700,-532 1700,-473 1700,-473 1700,-467 1706,-461 1712,-461 1712,-461 1787,-461 1787,-461 1793,-461 1799,-467 1799,-473 1799,-473 1799,-532 1799,-532 1799,-538 1793,-544 1787,-544\"/>\n<text text-anchor=\"start\" x=\"1708.5\" y=\"-528.8\" font-family=\"Helvetica,sans-Serif\" font-size=\"14.00\" fill=\"#000000\">age ≤ &#45;0.404</text>\n<text text-anchor=\"start\" x=\"1711.5\" y=\"-513.8\" font-family=\"Helvetica,sans-Serif\" font-size=\"14.00\" fill=\"#000000\">gini = 0.278</text>\n<text text-anchor=\"start\" x=\"1710\" y=\"-498.8\" font-family=\"Helvetica,sans-Serif\" font-size=\"14.00\" fill=\"#000000\">samples = 6</text>\n<text text-anchor=\"start\" x=\"1708\" y=\"-483.8\" font-family=\"Helvetica,sans-Serif\" font-size=\"14.00\" fill=\"#000000\">value = [1, 5]</text>\n<text text-anchor=\"start\" x=\"1720.5\" y=\"-468.8\" font-family=\"Helvetica,sans-Serif\" font-size=\"14.00\" fill=\"#000000\">class = o</text>\n</g>\n<!-- 111&#45;&gt;112 -->\n<g id=\"edge112\" class=\"edge\">\n<title>111&#45;&gt;112</title>\n<path fill=\"none\" stroke=\"#000000\" d=\"M1749.5,-579.8796C1749.5,-571.6838 1749.5,-562.9891 1749.5,-554.5013\"/>\n<polygon fill=\"#000000\" stroke=\"#000000\" points=\"1753.0001,-554.298 1749.5,-544.2981 1746.0001,-554.2981 1753.0001,-554.298\"/>\n</g>\n<!-- 119 -->\n<g id=\"node120\" class=\"node\">\n<title>119</title>\n<path fill=\"#e58139\" stroke=\"#000000\" d=\"M1904,-536.5C1904,-536.5 1829,-536.5 1829,-536.5 1823,-536.5 1817,-530.5 1817,-524.5 1817,-524.5 1817,-480.5 1817,-480.5 1817,-474.5 1823,-468.5 1829,-468.5 1829,-468.5 1904,-468.5 1904,-468.5 1910,-468.5 1916,-474.5 1916,-480.5 1916,-480.5 1916,-524.5 1916,-524.5 1916,-530.5 1910,-536.5 1904,-536.5\"/>\n<text text-anchor=\"start\" x=\"1837\" y=\"-521.3\" font-family=\"Helvetica,sans-Serif\" font-size=\"14.00\" fill=\"#000000\">gini = 0.0</text>\n<text text-anchor=\"start\" x=\"1827\" y=\"-506.3\" font-family=\"Helvetica,sans-Serif\" font-size=\"14.00\" fill=\"#000000\">samples = 1</text>\n<text text-anchor=\"start\" x=\"1825\" y=\"-491.3\" font-family=\"Helvetica,sans-Serif\" font-size=\"14.00\" fill=\"#000000\">value = [1, 0]</text>\n<text text-anchor=\"start\" x=\"1840\" y=\"-476.3\" font-family=\"Helvetica,sans-Serif\" font-size=\"14.00\" fill=\"#000000\">class = l</text>\n</g>\n<!-- 111&#45;&gt;119 -->\n<g id=\"edge119\" class=\"edge\">\n<title>111&#45;&gt;119</title>\n<path fill=\"none\" stroke=\"#000000\" d=\"M1790.4209,-579.8796C1801.7728,-568.3337 1814.0982,-555.7976 1825.457,-544.2446\"/>\n<polygon fill=\"#000000\" stroke=\"#000000\" points=\"1828.2466,-546.3995 1832.7618,-536.8149 1823.2551,-541.4919 1828.2466,-546.3995\"/>\n</g>\n<!-- 113 -->\n<g id=\"node114\" class=\"node\">\n<title>113</title>\n<path fill=\"#9ccef2\" stroke=\"#000000\" d=\"M1677,-425C1677,-425 1602,-425 1602,-425 1596,-425 1590,-419 1590,-413 1590,-413 1590,-354 1590,-354 1590,-348 1596,-342 1602,-342 1602,-342 1677,-342 1677,-342 1683,-342 1689,-348 1689,-354 1689,-354 1689,-413 1689,-413 1689,-419 1683,-425 1677,-425\"/>\n<text text-anchor=\"start\" x=\"1598.5\" y=\"-409.8\" font-family=\"Helvetica,sans-Serif\" font-size=\"14.00\" fill=\"#000000\">age ≤ &#45;0.653</text>\n<text text-anchor=\"start\" x=\"1601.5\" y=\"-394.8\" font-family=\"Helvetica,sans-Serif\" font-size=\"14.00\" fill=\"#000000\">gini = 0.444</text>\n<text text-anchor=\"start\" x=\"1600\" y=\"-379.8\" font-family=\"Helvetica,sans-Serif\" font-size=\"14.00\" fill=\"#000000\">samples = 3</text>\n<text text-anchor=\"start\" x=\"1598\" y=\"-364.8\" font-family=\"Helvetica,sans-Serif\" font-size=\"14.00\" fill=\"#000000\">value = [1, 2]</text>\n<text text-anchor=\"start\" x=\"1610.5\" y=\"-349.8\" font-family=\"Helvetica,sans-Serif\" font-size=\"14.00\" fill=\"#000000\">class = o</text>\n</g>\n<!-- 112&#45;&gt;113 -->\n<g id=\"edge113\" class=\"edge\">\n<title>112&#45;&gt;113</title>\n<path fill=\"none\" stroke=\"#000000\" d=\"M1711.0273,-460.8796C1702.6189,-451.7832 1693.6424,-442.0722 1684.9897,-432.7116\"/>\n<polygon fill=\"#000000\" stroke=\"#000000\" points=\"1687.495,-430.2656 1678.1369,-425.2981 1682.3547,-435.0172 1687.495,-430.2656\"/>\n</g>\n<!-- 118 -->\n<g id=\"node119\" class=\"node\">\n<title>118</title>\n<path fill=\"#399de5\" stroke=\"#000000\" d=\"M1794,-417.5C1794,-417.5 1719,-417.5 1719,-417.5 1713,-417.5 1707,-411.5 1707,-405.5 1707,-405.5 1707,-361.5 1707,-361.5 1707,-355.5 1713,-349.5 1719,-349.5 1719,-349.5 1794,-349.5 1794,-349.5 1800,-349.5 1806,-355.5 1806,-361.5 1806,-361.5 1806,-405.5 1806,-405.5 1806,-411.5 1800,-417.5 1794,-417.5\"/>\n<text text-anchor=\"start\" x=\"1727\" y=\"-402.3\" font-family=\"Helvetica,sans-Serif\" font-size=\"14.00\" fill=\"#000000\">gini = 0.0</text>\n<text text-anchor=\"start\" x=\"1717\" y=\"-387.3\" font-family=\"Helvetica,sans-Serif\" font-size=\"14.00\" fill=\"#000000\">samples = 3</text>\n<text text-anchor=\"start\" x=\"1715\" y=\"-372.3\" font-family=\"Helvetica,sans-Serif\" font-size=\"14.00\" fill=\"#000000\">value = [0, 3]</text>\n<text text-anchor=\"start\" x=\"1727.5\" y=\"-357.3\" font-family=\"Helvetica,sans-Serif\" font-size=\"14.00\" fill=\"#000000\">class = o</text>\n</g>\n<!-- 112&#45;&gt;118 -->\n<g id=\"edge118\" class=\"edge\">\n<title>112&#45;&gt;118</title>\n<path fill=\"none\" stroke=\"#000000\" d=\"M1751.9483,-460.8796C1752.5757,-450.2134 1753.2528,-438.7021 1753.8881,-427.9015\"/>\n<polygon fill=\"#000000\" stroke=\"#000000\" points=\"1757.3881,-428.0032 1754.4815,-417.8149 1750.4002,-427.5921 1757.3881,-428.0032\"/>\n</g>\n<!-- 114 -->\n<g id=\"node115\" class=\"node\">\n<title>114</title>\n<path fill=\"#399de5\" stroke=\"#000000\" d=\"M1611,-298.5C1611,-298.5 1536,-298.5 1536,-298.5 1530,-298.5 1524,-292.5 1524,-286.5 1524,-286.5 1524,-242.5 1524,-242.5 1524,-236.5 1530,-230.5 1536,-230.5 1536,-230.5 1611,-230.5 1611,-230.5 1617,-230.5 1623,-236.5 1623,-242.5 1623,-242.5 1623,-286.5 1623,-286.5 1623,-292.5 1617,-298.5 1611,-298.5\"/>\n<text text-anchor=\"start\" x=\"1544\" y=\"-283.3\" font-family=\"Helvetica,sans-Serif\" font-size=\"14.00\" fill=\"#000000\">gini = 0.0</text>\n<text text-anchor=\"start\" x=\"1534\" y=\"-268.3\" font-family=\"Helvetica,sans-Serif\" font-size=\"14.00\" fill=\"#000000\">samples = 1</text>\n<text text-anchor=\"start\" x=\"1532\" y=\"-253.3\" font-family=\"Helvetica,sans-Serif\" font-size=\"14.00\" fill=\"#000000\">value = [0, 1]</text>\n<text text-anchor=\"start\" x=\"1544.5\" y=\"-238.3\" font-family=\"Helvetica,sans-Serif\" font-size=\"14.00\" fill=\"#000000\">class = o</text>\n</g>\n<!-- 113&#45;&gt;114 -->\n<g id=\"edge114\" class=\"edge\">\n<title>113&#45;&gt;114</title>\n<path fill=\"none\" stroke=\"#000000\" d=\"M1616.4164,-341.8796C1610.2567,-330.7735 1603.5889,-318.7513 1597.3871,-307.5691\"/>\n<polygon fill=\"#000000\" stroke=\"#000000\" points=\"1600.4428,-305.8624 1592.5318,-298.8149 1594.3213,-309.2576 1600.4428,-305.8624\"/>\n</g>\n<!-- 115 -->\n<g id=\"node116\" class=\"node\">\n<title>115</title>\n<path fill=\"#ffffff\" stroke=\"#000000\" d=\"M1757.5,-306C1757.5,-306 1653.5,-306 1653.5,-306 1647.5,-306 1641.5,-300 1641.5,-294 1641.5,-294 1641.5,-235 1641.5,-235 1641.5,-229 1647.5,-223 1653.5,-223 1653.5,-223 1757.5,-223 1757.5,-223 1763.5,-223 1769.5,-229 1769.5,-235 1769.5,-235 1769.5,-294 1769.5,-294 1769.5,-300 1763.5,-306 1757.5,-306\"/>\n<text text-anchor=\"start\" x=\"1649.5\" y=\"-290.8\" font-family=\"Helvetica,sans-Serif\" font-size=\"14.00\" fill=\"#000000\">Principal ≤ &#45;0.857</text>\n<text text-anchor=\"start\" x=\"1676\" y=\"-275.8\" font-family=\"Helvetica,sans-Serif\" font-size=\"14.00\" fill=\"#000000\">gini = 0.5</text>\n<text text-anchor=\"start\" x=\"1666\" y=\"-260.8\" font-family=\"Helvetica,sans-Serif\" font-size=\"14.00\" fill=\"#000000\">samples = 2</text>\n<text text-anchor=\"start\" x=\"1664\" y=\"-245.8\" font-family=\"Helvetica,sans-Serif\" font-size=\"14.00\" fill=\"#000000\">value = [1, 1]</text>\n<text text-anchor=\"start\" x=\"1679\" y=\"-230.8\" font-family=\"Helvetica,sans-Serif\" font-size=\"14.00\" fill=\"#000000\">class = l</text>\n</g>\n<!-- 113&#45;&gt;115 -->\n<g id=\"edge115\" class=\"edge\">\n<title>113&#45;&gt;115</title>\n<path fill=\"none\" stroke=\"#000000\" d=\"M1662.5836,-341.8796C1667.3789,-333.2335 1672.4822,-324.0322 1677.4338,-315.1042\"/>\n<polygon fill=\"#000000\" stroke=\"#000000\" points=\"1680.5284,-316.7407 1682.3179,-306.2981 1674.4069,-313.3455 1680.5284,-316.7407\"/>\n</g>\n<!-- 116 -->\n<g id=\"node117\" class=\"node\">\n<title>116</title>\n<path fill=\"#e58139\" stroke=\"#000000\" d=\"M1684,-179.5C1684,-179.5 1609,-179.5 1609,-179.5 1603,-179.5 1597,-173.5 1597,-167.5 1597,-167.5 1597,-123.5 1597,-123.5 1597,-117.5 1603,-111.5 1609,-111.5 1609,-111.5 1684,-111.5 1684,-111.5 1690,-111.5 1696,-117.5 1696,-123.5 1696,-123.5 1696,-167.5 1696,-167.5 1696,-173.5 1690,-179.5 1684,-179.5\"/>\n<text text-anchor=\"start\" x=\"1617\" y=\"-164.3\" font-family=\"Helvetica,sans-Serif\" font-size=\"14.00\" fill=\"#000000\">gini = 0.0</text>\n<text text-anchor=\"start\" x=\"1607\" y=\"-149.3\" font-family=\"Helvetica,sans-Serif\" font-size=\"14.00\" fill=\"#000000\">samples = 1</text>\n<text text-anchor=\"start\" x=\"1605\" y=\"-134.3\" font-family=\"Helvetica,sans-Serif\" font-size=\"14.00\" fill=\"#000000\">value = [1, 0]</text>\n<text text-anchor=\"start\" x=\"1620\" y=\"-119.3\" font-family=\"Helvetica,sans-Serif\" font-size=\"14.00\" fill=\"#000000\">class = l</text>\n</g>\n<!-- 115&#45;&gt;116 -->\n<g id=\"edge116\" class=\"edge\">\n<title>115&#45;&gt;116</title>\n<path fill=\"none\" stroke=\"#000000\" d=\"M1684.8647,-222.8796C1679.4128,-211.8835 1673.5157,-199.9893 1668.0184,-188.9015\"/>\n<polygon fill=\"#000000\" stroke=\"#000000\" points=\"1671.0911,-187.2195 1663.5133,-179.8149 1664.8196,-190.3289 1671.0911,-187.2195\"/>\n</g>\n<!-- 117 -->\n<g id=\"node118\" class=\"node\">\n<title>117</title>\n<path fill=\"#399de5\" stroke=\"#000000\" d=\"M1801,-179.5C1801,-179.5 1726,-179.5 1726,-179.5 1720,-179.5 1714,-173.5 1714,-167.5 1714,-167.5 1714,-123.5 1714,-123.5 1714,-117.5 1720,-111.5 1726,-111.5 1726,-111.5 1801,-111.5 1801,-111.5 1807,-111.5 1813,-117.5 1813,-123.5 1813,-123.5 1813,-167.5 1813,-167.5 1813,-173.5 1807,-179.5 1801,-179.5\"/>\n<text text-anchor=\"start\" x=\"1734\" y=\"-164.3\" font-family=\"Helvetica,sans-Serif\" font-size=\"14.00\" fill=\"#000000\">gini = 0.0</text>\n<text text-anchor=\"start\" x=\"1724\" y=\"-149.3\" font-family=\"Helvetica,sans-Serif\" font-size=\"14.00\" fill=\"#000000\">samples = 1</text>\n<text text-anchor=\"start\" x=\"1722\" y=\"-134.3\" font-family=\"Helvetica,sans-Serif\" font-size=\"14.00\" fill=\"#000000\">value = [0, 1]</text>\n<text text-anchor=\"start\" x=\"1734.5\" y=\"-119.3\" font-family=\"Helvetica,sans-Serif\" font-size=\"14.00\" fill=\"#000000\">class = o</text>\n</g>\n<!-- 115&#45;&gt;117 -->\n<g id=\"edge117\" class=\"edge\">\n<title>115&#45;&gt;117</title>\n<path fill=\"none\" stroke=\"#000000\" d=\"M1725.7856,-222.8796C1731.145,-211.8835 1736.9422,-199.9893 1742.3463,-188.9015\"/>\n<polygon fill=\"#000000\" stroke=\"#000000\" points=\"1745.54,-190.3375 1746.7751,-179.8149 1739.2476,-187.2706 1745.54,-190.3375\"/>\n</g>\n<!-- 123 -->\n<g id=\"node124\" class=\"node\">\n<title>123</title>\n<path fill=\"#eeab7b\" stroke=\"#000000\" d=\"M2041,-782C2041,-782 1966,-782 1966,-782 1960,-782 1954,-776 1954,-770 1954,-770 1954,-711 1954,-711 1954,-705 1960,-699 1966,-699 1966,-699 2041,-699 2041,-699 2047,-699 2053,-705 2053,-711 2053,-711 2053,-770 2053,-770 2053,-776 2047,-782 2041,-782\"/>\n<text text-anchor=\"start\" x=\"1962.5\" y=\"-766.8\" font-family=\"Helvetica,sans-Serif\" font-size=\"14.00\" fill=\"#000000\">age ≤ &#45;0.239</text>\n<text text-anchor=\"start\" x=\"1965.5\" y=\"-751.8\" font-family=\"Helvetica,sans-Serif\" font-size=\"14.00\" fill=\"#000000\">gini = 0.375</text>\n<text text-anchor=\"start\" x=\"1964\" y=\"-736.8\" font-family=\"Helvetica,sans-Serif\" font-size=\"14.00\" fill=\"#000000\">samples = 8</text>\n<text text-anchor=\"start\" x=\"1962\" y=\"-721.8\" font-family=\"Helvetica,sans-Serif\" font-size=\"14.00\" fill=\"#000000\">value = [6, 2]</text>\n<text text-anchor=\"start\" x=\"1977\" y=\"-706.8\" font-family=\"Helvetica,sans-Serif\" font-size=\"14.00\" fill=\"#000000\">class = l</text>\n</g>\n<!-- 122&#45;&gt;123 -->\n<g id=\"edge123\" class=\"edge\">\n<title>122&#45;&gt;123</title>\n<path fill=\"none\" stroke=\"#000000\" d=\"M2004.1502,-817.8796C2004.0814,-809.6838 2004.0083,-800.9891 2003.937,-792.5013\"/>\n<polygon fill=\"#000000\" stroke=\"#000000\" points=\"2007.4352,-792.2683 2003.8512,-782.2981 2000.4355,-792.3272 2007.4352,-792.2683\"/>\n</g>\n<!-- 130 -->\n<g id=\"node131\" class=\"node\">\n<title>130</title>\n<path fill=\"#399de5\" stroke=\"#000000\" d=\"M2158,-774.5C2158,-774.5 2083,-774.5 2083,-774.5 2077,-774.5 2071,-768.5 2071,-762.5 2071,-762.5 2071,-718.5 2071,-718.5 2071,-712.5 2077,-706.5 2083,-706.5 2083,-706.5 2158,-706.5 2158,-706.5 2164,-706.5 2170,-712.5 2170,-718.5 2170,-718.5 2170,-762.5 2170,-762.5 2170,-768.5 2164,-774.5 2158,-774.5\"/>\n<text text-anchor=\"start\" x=\"2091\" y=\"-759.3\" font-family=\"Helvetica,sans-Serif\" font-size=\"14.00\" fill=\"#000000\">gini = 0.0</text>\n<text text-anchor=\"start\" x=\"2081\" y=\"-744.3\" font-family=\"Helvetica,sans-Serif\" font-size=\"14.00\" fill=\"#000000\">samples = 1</text>\n<text text-anchor=\"start\" x=\"2079\" y=\"-729.3\" font-family=\"Helvetica,sans-Serif\" font-size=\"14.00\" fill=\"#000000\">value = [0, 1]</text>\n<text text-anchor=\"start\" x=\"2091.5\" y=\"-714.3\" font-family=\"Helvetica,sans-Serif\" font-size=\"14.00\" fill=\"#000000\">class = o</text>\n</g>\n<!-- 122&#45;&gt;130 -->\n<g id=\"edge130\" class=\"edge\">\n<title>122&#45;&gt;130</title>\n<path fill=\"none\" stroke=\"#000000\" d=\"M2045.0712,-817.8796C2056.326,-806.3337 2068.5461,-793.7976 2079.8078,-782.2446\"/>\n<polygon fill=\"#000000\" stroke=\"#000000\" points=\"2082.5762,-784.4188 2087.0501,-774.8149 2077.5636,-779.5326 2082.5762,-784.4188\"/>\n</g>\n<!-- 124 -->\n<g id=\"node125\" class=\"node\">\n<title>124</title>\n<path fill=\"#e58139\" stroke=\"#000000\" d=\"M2021,-655.5C2021,-655.5 1946,-655.5 1946,-655.5 1940,-655.5 1934,-649.5 1934,-643.5 1934,-643.5 1934,-599.5 1934,-599.5 1934,-593.5 1940,-587.5 1946,-587.5 1946,-587.5 2021,-587.5 2021,-587.5 2027,-587.5 2033,-593.5 2033,-599.5 2033,-599.5 2033,-643.5 2033,-643.5 2033,-649.5 2027,-655.5 2021,-655.5\"/>\n<text text-anchor=\"start\" x=\"1954\" y=\"-640.3\" font-family=\"Helvetica,sans-Serif\" font-size=\"14.00\" fill=\"#000000\">gini = 0.0</text>\n<text text-anchor=\"start\" x=\"1944\" y=\"-625.3\" font-family=\"Helvetica,sans-Serif\" font-size=\"14.00\" fill=\"#000000\">samples = 2</text>\n<text text-anchor=\"start\" x=\"1942\" y=\"-610.3\" font-family=\"Helvetica,sans-Serif\" font-size=\"14.00\" fill=\"#000000\">value = [2, 0]</text>\n<text text-anchor=\"start\" x=\"1957\" y=\"-595.3\" font-family=\"Helvetica,sans-Serif\" font-size=\"14.00\" fill=\"#000000\">class = l</text>\n</g>\n<!-- 123&#45;&gt;124 -->\n<g id=\"edge124\" class=\"edge\">\n<title>123&#45;&gt;124</title>\n<path fill=\"none\" stroke=\"#000000\" d=\"M1996.505,-698.8796C1994.7123,-688.2134 1992.7777,-676.7021 1990.9624,-665.9015\"/>\n<polygon fill=\"#000000\" stroke=\"#000000\" points=\"1994.3763,-665.0965 1989.2672,-655.8149 1987.4731,-666.2568 1994.3763,-665.0965\"/>\n</g>\n<!-- 125 -->\n<g id=\"node126\" class=\"node\">\n<title>125</title>\n<path fill=\"#f2c09c\" stroke=\"#000000\" d=\"M2138,-663C2138,-663 2063,-663 2063,-663 2057,-663 2051,-657 2051,-651 2051,-651 2051,-592 2051,-592 2051,-586 2057,-580 2063,-580 2063,-580 2138,-580 2138,-580 2144,-580 2150,-586 2150,-592 2150,-592 2150,-651 2150,-651 2150,-657 2144,-663 2138,-663\"/>\n<text text-anchor=\"start\" x=\"2062\" y=\"-647.8\" font-family=\"Helvetica,sans-Serif\" font-size=\"14.00\" fill=\"#000000\">age ≤ 0.259</text>\n<text text-anchor=\"start\" x=\"2062.5\" y=\"-632.8\" font-family=\"Helvetica,sans-Serif\" font-size=\"14.00\" fill=\"#000000\">gini = 0.444</text>\n<text text-anchor=\"start\" x=\"2061\" y=\"-617.8\" font-family=\"Helvetica,sans-Serif\" font-size=\"14.00\" fill=\"#000000\">samples = 6</text>\n<text text-anchor=\"start\" x=\"2059\" y=\"-602.8\" font-family=\"Helvetica,sans-Serif\" font-size=\"14.00\" fill=\"#000000\">value = [4, 2]</text>\n<text text-anchor=\"start\" x=\"2074\" y=\"-587.8\" font-family=\"Helvetica,sans-Serif\" font-size=\"14.00\" fill=\"#000000\">class = l</text>\n</g>\n<!-- 123&#45;&gt;125 -->\n<g id=\"edge125\" class=\"edge\">\n<title>123&#45;&gt;125</title>\n<path fill=\"none\" stroke=\"#000000\" d=\"M2037.4259,-698.8796C2044.6938,-689.9633 2052.443,-680.4565 2059.9328,-671.268\"/>\n<polygon fill=\"#000000\" stroke=\"#000000\" points=\"2062.824,-673.2606 2066.4293,-663.2981 2057.3982,-668.8379 2062.824,-673.2606\"/>\n</g>\n<!-- 126 -->\n<g id=\"node127\" class=\"node\">\n<title>126</title>\n<path fill=\"#ffffff\" stroke=\"#000000\" d=\"M2029,-544C2029,-544 1954,-544 1954,-544 1948,-544 1942,-538 1942,-532 1942,-532 1942,-473 1942,-473 1942,-467 1948,-461 1954,-461 1954,-461 2029,-461 2029,-461 2035,-461 2041,-467 2041,-473 2041,-473 2041,-532 2041,-532 2041,-538 2035,-544 2029,-544\"/>\n<text text-anchor=\"start\" x=\"1950.5\" y=\"-528.8\" font-family=\"Helvetica,sans-Serif\" font-size=\"14.00\" fill=\"#000000\">age ≤ &#45;0.073</text>\n<text text-anchor=\"start\" x=\"1962\" y=\"-513.8\" font-family=\"Helvetica,sans-Serif\" font-size=\"14.00\" fill=\"#000000\">gini = 0.5</text>\n<text text-anchor=\"start\" x=\"1952\" y=\"-498.8\" font-family=\"Helvetica,sans-Serif\" font-size=\"14.00\" fill=\"#000000\">samples = 4</text>\n<text text-anchor=\"start\" x=\"1950\" y=\"-483.8\" font-family=\"Helvetica,sans-Serif\" font-size=\"14.00\" fill=\"#000000\">value = [2, 2]</text>\n<text text-anchor=\"start\" x=\"1965\" y=\"-468.8\" font-family=\"Helvetica,sans-Serif\" font-size=\"14.00\" fill=\"#000000\">class = l</text>\n</g>\n<!-- 125&#45;&gt;126 -->\n<g id=\"edge126\" class=\"edge\">\n<title>125&#45;&gt;126</title>\n<path fill=\"none\" stroke=\"#000000\" d=\"M2062.3771,-579.8796C2054.0451,-570.7832 2045.1502,-561.0722 2036.5761,-551.7116\"/>\n<polygon fill=\"#000000\" stroke=\"#000000\" points=\"2039.1211,-549.3081 2029.7856,-544.2981 2033.9592,-554.0363 2039.1211,-549.3081\"/>\n</g>\n<!-- 129 -->\n<g id=\"node130\" class=\"node\">\n<title>129</title>\n<path fill=\"#e58139\" stroke=\"#000000\" d=\"M2146,-536.5C2146,-536.5 2071,-536.5 2071,-536.5 2065,-536.5 2059,-530.5 2059,-524.5 2059,-524.5 2059,-480.5 2059,-480.5 2059,-474.5 2065,-468.5 2071,-468.5 2071,-468.5 2146,-468.5 2146,-468.5 2152,-468.5 2158,-474.5 2158,-480.5 2158,-480.5 2158,-524.5 2158,-524.5 2158,-530.5 2152,-536.5 2146,-536.5\"/>\n<text text-anchor=\"start\" x=\"2079\" y=\"-521.3\" font-family=\"Helvetica,sans-Serif\" font-size=\"14.00\" fill=\"#000000\">gini = 0.0</text>\n<text text-anchor=\"start\" x=\"2069\" y=\"-506.3\" font-family=\"Helvetica,sans-Serif\" font-size=\"14.00\" fill=\"#000000\">samples = 2</text>\n<text text-anchor=\"start\" x=\"2067\" y=\"-491.3\" font-family=\"Helvetica,sans-Serif\" font-size=\"14.00\" fill=\"#000000\">value = [2, 0]</text>\n<text text-anchor=\"start\" x=\"2082\" y=\"-476.3\" font-family=\"Helvetica,sans-Serif\" font-size=\"14.00\" fill=\"#000000\">class = l</text>\n</g>\n<!-- 125&#45;&gt;129 -->\n<g id=\"edge129\" class=\"edge\">\n<title>125&#45;&gt;129</title>\n<path fill=\"none\" stroke=\"#000000\" d=\"M2103.298,-579.8796C2104.0151,-569.2134 2104.7889,-557.7021 2105.515,-546.9015\"/>\n<polygon fill=\"#000000\" stroke=\"#000000\" points=\"2109.0144,-547.0272 2106.1931,-536.8149 2102.0301,-546.5576 2109.0144,-547.0272\"/>\n</g>\n<!-- 127 -->\n<g id=\"node128\" class=\"node\">\n<title>127</title>\n<path fill=\"#ffffff\" stroke=\"#000000\" d=\"M1970,-417.5C1970,-417.5 1895,-417.5 1895,-417.5 1889,-417.5 1883,-411.5 1883,-405.5 1883,-405.5 1883,-361.5 1883,-361.5 1883,-355.5 1889,-349.5 1895,-349.5 1895,-349.5 1970,-349.5 1970,-349.5 1976,-349.5 1982,-355.5 1982,-361.5 1982,-361.5 1982,-405.5 1982,-405.5 1982,-411.5 1976,-417.5 1970,-417.5\"/>\n<text text-anchor=\"start\" x=\"1903\" y=\"-402.3\" font-family=\"Helvetica,sans-Serif\" font-size=\"14.00\" fill=\"#000000\">gini = 0.5</text>\n<text text-anchor=\"start\" x=\"1893\" y=\"-387.3\" font-family=\"Helvetica,sans-Serif\" font-size=\"14.00\" fill=\"#000000\">samples = 2</text>\n<text text-anchor=\"start\" x=\"1891\" y=\"-372.3\" font-family=\"Helvetica,sans-Serif\" font-size=\"14.00\" fill=\"#000000\">value = [1, 1]</text>\n<text text-anchor=\"start\" x=\"1906\" y=\"-357.3\" font-family=\"Helvetica,sans-Serif\" font-size=\"14.00\" fill=\"#000000\">class = l</text>\n</g>\n<!-- 126&#45;&gt;127 -->\n<g id=\"edge127\" class=\"edge\">\n<title>126&#45;&gt;127</title>\n<path fill=\"none\" stroke=\"#000000\" d=\"M1970.8647,-460.8796C1965.4128,-449.8835 1959.5157,-437.9893 1954.0184,-426.9015\"/>\n<polygon fill=\"#000000\" stroke=\"#000000\" points=\"1957.0911,-425.2195 1949.5133,-417.8149 1950.8196,-428.3289 1957.0911,-425.2195\"/>\n</g>\n<!-- 128 -->\n<g id=\"node129\" class=\"node\">\n<title>128</title>\n<path fill=\"#ffffff\" stroke=\"#000000\" d=\"M2087,-417.5C2087,-417.5 2012,-417.5 2012,-417.5 2006,-417.5 2000,-411.5 2000,-405.5 2000,-405.5 2000,-361.5 2000,-361.5 2000,-355.5 2006,-349.5 2012,-349.5 2012,-349.5 2087,-349.5 2087,-349.5 2093,-349.5 2099,-355.5 2099,-361.5 2099,-361.5 2099,-405.5 2099,-405.5 2099,-411.5 2093,-417.5 2087,-417.5\"/>\n<text text-anchor=\"start\" x=\"2020\" y=\"-402.3\" font-family=\"Helvetica,sans-Serif\" font-size=\"14.00\" fill=\"#000000\">gini = 0.5</text>\n<text text-anchor=\"start\" x=\"2010\" y=\"-387.3\" font-family=\"Helvetica,sans-Serif\" font-size=\"14.00\" fill=\"#000000\">samples = 2</text>\n<text text-anchor=\"start\" x=\"2008\" y=\"-372.3\" font-family=\"Helvetica,sans-Serif\" font-size=\"14.00\" fill=\"#000000\">value = [1, 1]</text>\n<text text-anchor=\"start\" x=\"2023\" y=\"-357.3\" font-family=\"Helvetica,sans-Serif\" font-size=\"14.00\" fill=\"#000000\">class = l</text>\n</g>\n<!-- 126&#45;&gt;128 -->\n<g id=\"edge128\" class=\"edge\">\n<title>126&#45;&gt;128</title>\n<path fill=\"none\" stroke=\"#000000\" d=\"M2011.7856,-460.8796C2017.145,-449.8835 2022.9422,-437.9893 2028.3463,-426.9015\"/>\n<polygon fill=\"#000000\" stroke=\"#000000\" points=\"2031.54,-428.3375 2032.7751,-417.8149 2025.2476,-425.2706 2031.54,-428.3375\"/>\n</g>\n<!-- 132 -->\n<g id=\"node133\" class=\"node\">\n<title>132</title>\n<path fill=\"#6ab6ec\" stroke=\"#000000\" d=\"M2292.5,-901C2292.5,-901 2212.5,-901 2212.5,-901 2206.5,-901 2200.5,-895 2200.5,-889 2200.5,-889 2200.5,-830 2200.5,-830 2200.5,-824 2206.5,-818 2212.5,-818 2212.5,-818 2292.5,-818 2292.5,-818 2298.5,-818 2304.5,-824 2304.5,-830 2304.5,-830 2304.5,-889 2304.5,-889 2304.5,-895 2298.5,-901 2292.5,-901\"/>\n<text text-anchor=\"start\" x=\"2216\" y=\"-885.8\" font-family=\"Helvetica,sans-Serif\" font-size=\"14.00\" fill=\"#000000\">age ≤ &#45;0.57</text>\n<text text-anchor=\"start\" x=\"2219\" y=\"-870.8\" font-family=\"Helvetica,sans-Serif\" font-size=\"14.00\" fill=\"#000000\">gini = 0.32</text>\n<text text-anchor=\"start\" x=\"2208.5\" y=\"-855.8\" font-family=\"Helvetica,sans-Serif\" font-size=\"14.00\" fill=\"#000000\">samples = 10</text>\n<text text-anchor=\"start\" x=\"2211\" y=\"-840.8\" font-family=\"Helvetica,sans-Serif\" font-size=\"14.00\" fill=\"#000000\">value = [2, 8]</text>\n<text text-anchor=\"start\" x=\"2223.5\" y=\"-825.8\" font-family=\"Helvetica,sans-Serif\" font-size=\"14.00\" fill=\"#000000\">class = o</text>\n</g>\n<!-- 131&#45;&gt;132 -->\n<g id=\"edge132\" class=\"edge\">\n<title>131&#45;&gt;132</title>\n<path fill=\"none\" stroke=\"#000000\" d=\"M2214.7856,-936.8796C2218.9557,-928.3236 2223.3909,-919.2238 2227.6997,-910.3833\"/>\n<polygon fill=\"#000000\" stroke=\"#000000\" points=\"2230.8927,-911.8207 2232.1278,-901.2981 2224.6003,-908.7538 2230.8927,-911.8207\"/>\n</g>\n<!-- 139 -->\n<g id=\"node140\" class=\"node\">\n<title>139</title>\n<path fill=\"#9ccef2\" stroke=\"#000000\" d=\"M2584,-901C2584,-901 2501,-901 2501,-901 2495,-901 2489,-895 2489,-889 2489,-889 2489,-830 2489,-830 2489,-824 2495,-818 2501,-818 2501,-818 2584,-818 2584,-818 2590,-818 2596,-824 2596,-830 2596,-830 2596,-889 2596,-889 2596,-895 2590,-901 2584,-901\"/>\n<text text-anchor=\"start\" x=\"2504\" y=\"-885.8\" font-family=\"Helvetica,sans-Serif\" font-size=\"14.00\" fill=\"#000000\">age ≤ 0.425</text>\n<text text-anchor=\"start\" x=\"2504.5\" y=\"-870.8\" font-family=\"Helvetica,sans-Serif\" font-size=\"14.00\" fill=\"#000000\">gini = 0.444</text>\n<text text-anchor=\"start\" x=\"2498.5\" y=\"-855.8\" font-family=\"Helvetica,sans-Serif\" font-size=\"14.00\" fill=\"#000000\">samples = 15</text>\n<text text-anchor=\"start\" x=\"2497\" y=\"-840.8\" font-family=\"Helvetica,sans-Serif\" font-size=\"14.00\" fill=\"#000000\">value = [5, 10]</text>\n<text text-anchor=\"start\" x=\"2513.5\" y=\"-825.8\" font-family=\"Helvetica,sans-Serif\" font-size=\"14.00\" fill=\"#000000\">class = o</text>\n</g>\n<!-- 131&#45;&gt;139 -->\n<g id=\"edge139\" class=\"edge\">\n<title>131&#45;&gt;139</title>\n<path fill=\"none\" stroke=\"#000000\" d=\"M2248.1665,-941.5898C2251.2731,-939.9454 2254.3962,-938.401 2257.5,-937 2330.1755,-904.1959 2419.7187,-882.6487 2478.8216,-870.7868\"/>\n<polygon fill=\"#000000\" stroke=\"#000000\" points=\"2479.631,-874.1946 2488.7644,-868.825 2478.276,-867.327 2479.631,-874.1946\"/>\n</g>\n<!-- 133 -->\n<g id=\"node134\" class=\"node\">\n<title>133</title>\n<path fill=\"#9ccef2\" stroke=\"#000000\" d=\"M2304.5,-782C2304.5,-782 2200.5,-782 2200.5,-782 2194.5,-782 2188.5,-776 2188.5,-770 2188.5,-770 2188.5,-711 2188.5,-711 2188.5,-705 2194.5,-699 2200.5,-699 2200.5,-699 2304.5,-699 2304.5,-699 2310.5,-699 2316.5,-705 2316.5,-711 2316.5,-711 2316.5,-770 2316.5,-770 2316.5,-776 2310.5,-782 2304.5,-782\"/>\n<text text-anchor=\"start\" x=\"2196.5\" y=\"-766.8\" font-family=\"Helvetica,sans-Serif\" font-size=\"14.00\" fill=\"#000000\">Principal ≤ &#45;0.399</text>\n<text text-anchor=\"start\" x=\"2214.5\" y=\"-751.8\" font-family=\"Helvetica,sans-Serif\" font-size=\"14.00\" fill=\"#000000\">gini = 0.444</text>\n<text text-anchor=\"start\" x=\"2213\" y=\"-736.8\" font-family=\"Helvetica,sans-Serif\" font-size=\"14.00\" fill=\"#000000\">samples = 6</text>\n<text text-anchor=\"start\" x=\"2211\" y=\"-721.8\" font-family=\"Helvetica,sans-Serif\" font-size=\"14.00\" fill=\"#000000\">value = [2, 4]</text>\n<text text-anchor=\"start\" x=\"2223.5\" y=\"-706.8\" font-family=\"Helvetica,sans-Serif\" font-size=\"14.00\" fill=\"#000000\">class = o</text>\n</g>\n<!-- 132&#45;&gt;133 -->\n<g id=\"edge133\" class=\"edge\">\n<title>132&#45;&gt;133</title>\n<path fill=\"none\" stroke=\"#000000\" d=\"M2252.5,-817.8796C2252.5,-809.6838 2252.5,-800.9891 2252.5,-792.5013\"/>\n<polygon fill=\"#000000\" stroke=\"#000000\" points=\"2256.0001,-792.298 2252.5,-782.2981 2249.0001,-792.2981 2256.0001,-792.298\"/>\n</g>\n<!-- 138 -->\n<g id=\"node139\" class=\"node\">\n<title>138</title>\n<path fill=\"#399de5\" stroke=\"#000000\" d=\"M2422,-774.5C2422,-774.5 2347,-774.5 2347,-774.5 2341,-774.5 2335,-768.5 2335,-762.5 2335,-762.5 2335,-718.5 2335,-718.5 2335,-712.5 2341,-706.5 2347,-706.5 2347,-706.5 2422,-706.5 2422,-706.5 2428,-706.5 2434,-712.5 2434,-718.5 2434,-718.5 2434,-762.5 2434,-762.5 2434,-768.5 2428,-774.5 2422,-774.5\"/>\n<text text-anchor=\"start\" x=\"2355\" y=\"-759.3\" font-family=\"Helvetica,sans-Serif\" font-size=\"14.00\" fill=\"#000000\">gini = 0.0</text>\n<text text-anchor=\"start\" x=\"2345\" y=\"-744.3\" font-family=\"Helvetica,sans-Serif\" font-size=\"14.00\" fill=\"#000000\">samples = 4</text>\n<text text-anchor=\"start\" x=\"2343\" y=\"-729.3\" font-family=\"Helvetica,sans-Serif\" font-size=\"14.00\" fill=\"#000000\">value = [0, 4]</text>\n<text text-anchor=\"start\" x=\"2355.5\" y=\"-714.3\" font-family=\"Helvetica,sans-Serif\" font-size=\"14.00\" fill=\"#000000\">class = o</text>\n</g>\n<!-- 132&#45;&gt;138 -->\n<g id=\"edge138\" class=\"edge\">\n<title>132&#45;&gt;138</title>\n<path fill=\"none\" stroke=\"#000000\" d=\"M2298.6672,-817.8796C2311.7183,-806.1138 2325.9101,-793.3197 2338.9261,-781.5855\"/>\n<polygon fill=\"#000000\" stroke=\"#000000\" points=\"2341.3526,-784.1104 2346.4364,-774.8149 2336.6654,-778.9113 2341.3526,-784.1104\"/>\n</g>\n<!-- 134 -->\n<g id=\"node135\" class=\"node\">\n<title>134</title>\n<path fill=\"#399de5\" stroke=\"#000000\" d=\"M2255,-655.5C2255,-655.5 2180,-655.5 2180,-655.5 2174,-655.5 2168,-649.5 2168,-643.5 2168,-643.5 2168,-599.5 2168,-599.5 2168,-593.5 2174,-587.5 2180,-587.5 2180,-587.5 2255,-587.5 2255,-587.5 2261,-587.5 2267,-593.5 2267,-599.5 2267,-599.5 2267,-643.5 2267,-643.5 2267,-649.5 2261,-655.5 2255,-655.5\"/>\n<text text-anchor=\"start\" x=\"2188\" y=\"-640.3\" font-family=\"Helvetica,sans-Serif\" font-size=\"14.00\" fill=\"#000000\">gini = 0.0</text>\n<text text-anchor=\"start\" x=\"2178\" y=\"-625.3\" font-family=\"Helvetica,sans-Serif\" font-size=\"14.00\" fill=\"#000000\">samples = 1</text>\n<text text-anchor=\"start\" x=\"2176\" y=\"-610.3\" font-family=\"Helvetica,sans-Serif\" font-size=\"14.00\" fill=\"#000000\">value = [0, 1]</text>\n<text text-anchor=\"start\" x=\"2188.5\" y=\"-595.3\" font-family=\"Helvetica,sans-Serif\" font-size=\"14.00\" fill=\"#000000\">class = o</text>\n</g>\n<!-- 133&#45;&gt;134 -->\n<g id=\"edge134\" class=\"edge\">\n<title>133&#45;&gt;134</title>\n<path fill=\"none\" stroke=\"#000000\" d=\"M2240.2587,-698.8796C2237.0892,-688.1034 2233.6661,-676.4647 2230.4611,-665.5677\"/>\n<polygon fill=\"#000000\" stroke=\"#000000\" points=\"2233.7721,-664.421 2227.5926,-655.8149 2227.0566,-666.3962 2233.7721,-664.421\"/>\n</g>\n<!-- 135 -->\n<g id=\"node136\" class=\"node\">\n<title>135</title>\n<path fill=\"#bddef6\" stroke=\"#000000\" d=\"M2372,-663C2372,-663 2297,-663 2297,-663 2291,-663 2285,-657 2285,-651 2285,-651 2285,-592 2285,-592 2285,-586 2291,-580 2297,-580 2297,-580 2372,-580 2372,-580 2378,-580 2384,-586 2384,-592 2384,-592 2384,-651 2384,-651 2384,-657 2378,-663 2372,-663\"/>\n<text text-anchor=\"start\" x=\"2293.5\" y=\"-647.8\" font-family=\"Helvetica,sans-Serif\" font-size=\"14.00\" fill=\"#000000\">age ≤ &#45;0.736</text>\n<text text-anchor=\"start\" x=\"2301\" y=\"-632.8\" font-family=\"Helvetica,sans-Serif\" font-size=\"14.00\" fill=\"#000000\">gini = 0.48</text>\n<text text-anchor=\"start\" x=\"2295\" y=\"-617.8\" font-family=\"Helvetica,sans-Serif\" font-size=\"14.00\" fill=\"#000000\">samples = 5</text>\n<text text-anchor=\"start\" x=\"2293\" y=\"-602.8\" font-family=\"Helvetica,sans-Serif\" font-size=\"14.00\" fill=\"#000000\">value = [2, 3]</text>\n<text text-anchor=\"start\" x=\"2305.5\" y=\"-587.8\" font-family=\"Helvetica,sans-Serif\" font-size=\"14.00\" fill=\"#000000\">class = o</text>\n</g>\n<!-- 133&#45;&gt;135 -->\n<g id=\"edge135\" class=\"edge\">\n<title>133&#45;&gt;135</title>\n<path fill=\"none\" stroke=\"#000000\" d=\"M2281.1796,-698.8796C2287.2615,-690.0534 2293.7422,-680.6485 2300.0141,-671.5466\"/>\n<polygon fill=\"#000000\" stroke=\"#000000\" points=\"2302.9059,-673.5184 2305.698,-663.2981 2297.1418,-669.5465 2302.9059,-673.5184\"/>\n</g>\n<!-- 136 -->\n<g id=\"node137\" class=\"node\">\n<title>136</title>\n<path fill=\"#9ccef2\" stroke=\"#000000\" d=\"M2321,-536.5C2321,-536.5 2246,-536.5 2246,-536.5 2240,-536.5 2234,-530.5 2234,-524.5 2234,-524.5 2234,-480.5 2234,-480.5 2234,-474.5 2240,-468.5 2246,-468.5 2246,-468.5 2321,-468.5 2321,-468.5 2327,-468.5 2333,-474.5 2333,-480.5 2333,-480.5 2333,-524.5 2333,-524.5 2333,-530.5 2327,-536.5 2321,-536.5\"/>\n<text text-anchor=\"start\" x=\"2245.5\" y=\"-521.3\" font-family=\"Helvetica,sans-Serif\" font-size=\"14.00\" fill=\"#000000\">gini = 0.444</text>\n<text text-anchor=\"start\" x=\"2244\" y=\"-506.3\" font-family=\"Helvetica,sans-Serif\" font-size=\"14.00\" fill=\"#000000\">samples = 3</text>\n<text text-anchor=\"start\" x=\"2242\" y=\"-491.3\" font-family=\"Helvetica,sans-Serif\" font-size=\"14.00\" fill=\"#000000\">value = [1, 2]</text>\n<text text-anchor=\"start\" x=\"2254.5\" y=\"-476.3\" font-family=\"Helvetica,sans-Serif\" font-size=\"14.00\" fill=\"#000000\">class = o</text>\n</g>\n<!-- 135&#45;&gt;136 -->\n<g id=\"edge136\" class=\"edge\">\n<title>135&#45;&gt;136</title>\n<path fill=\"none\" stroke=\"#000000\" d=\"M2316.6627,-579.8796C2311.9972,-568.9935 2306.9544,-557.227 2302.2433,-546.2344\"/>\n<polygon fill=\"#000000\" stroke=\"#000000\" points=\"2305.3627,-544.6277 2298.2064,-536.8149 2298.9286,-547.3851 2305.3627,-544.6277\"/>\n</g>\n<!-- 137 -->\n<g id=\"node138\" class=\"node\">\n<title>137</title>\n<path fill=\"#ffffff\" stroke=\"#000000\" d=\"M2438,-536.5C2438,-536.5 2363,-536.5 2363,-536.5 2357,-536.5 2351,-530.5 2351,-524.5 2351,-524.5 2351,-480.5 2351,-480.5 2351,-474.5 2357,-468.5 2363,-468.5 2363,-468.5 2438,-468.5 2438,-468.5 2444,-468.5 2450,-474.5 2450,-480.5 2450,-480.5 2450,-524.5 2450,-524.5 2450,-530.5 2444,-536.5 2438,-536.5\"/>\n<text text-anchor=\"start\" x=\"2371\" y=\"-521.3\" font-family=\"Helvetica,sans-Serif\" font-size=\"14.00\" fill=\"#000000\">gini = 0.5</text>\n<text text-anchor=\"start\" x=\"2361\" y=\"-506.3\" font-family=\"Helvetica,sans-Serif\" font-size=\"14.00\" fill=\"#000000\">samples = 2</text>\n<text text-anchor=\"start\" x=\"2359\" y=\"-491.3\" font-family=\"Helvetica,sans-Serif\" font-size=\"14.00\" fill=\"#000000\">value = [1, 1]</text>\n<text text-anchor=\"start\" x=\"2374\" y=\"-476.3\" font-family=\"Helvetica,sans-Serif\" font-size=\"14.00\" fill=\"#000000\">class = l</text>\n</g>\n<!-- 135&#45;&gt;137 -->\n<g id=\"edge137\" class=\"edge\">\n<title>135&#45;&gt;137</title>\n<path fill=\"none\" stroke=\"#000000\" d=\"M2357.5836,-579.8796C2363.7433,-568.7735 2370.4111,-556.7513 2376.6129,-545.5691\"/>\n<polygon fill=\"#000000\" stroke=\"#000000\" points=\"2379.6787,-547.2576 2381.4682,-536.8149 2373.5572,-543.8624 2379.6787,-547.2576\"/>\n</g>\n<!-- 140 -->\n<g id=\"node141\" class=\"node\">\n<title>140</title>\n<path fill=\"#ffffff\" stroke=\"#000000\" d=\"M2580,-782C2580,-782 2505,-782 2505,-782 2499,-782 2493,-776 2493,-770 2493,-770 2493,-711 2493,-711 2493,-705 2499,-699 2505,-699 2505,-699 2580,-699 2580,-699 2586,-699 2592,-705 2592,-711 2592,-711 2592,-770 2592,-770 2592,-776 2586,-782 2580,-782\"/>\n<text text-anchor=\"start\" x=\"2508\" y=\"-766.8\" font-family=\"Helvetica,sans-Serif\" font-size=\"14.00\" fill=\"#000000\">age ≤ 0.01</text>\n<text text-anchor=\"start\" x=\"2513\" y=\"-751.8\" font-family=\"Helvetica,sans-Serif\" font-size=\"14.00\" fill=\"#000000\">gini = 0.5</text>\n<text text-anchor=\"start\" x=\"2503\" y=\"-736.8\" font-family=\"Helvetica,sans-Serif\" font-size=\"14.00\" fill=\"#000000\">samples = 6</text>\n<text text-anchor=\"start\" x=\"2501\" y=\"-721.8\" font-family=\"Helvetica,sans-Serif\" font-size=\"14.00\" fill=\"#000000\">value = [3, 3]</text>\n<text text-anchor=\"start\" x=\"2516\" y=\"-706.8\" font-family=\"Helvetica,sans-Serif\" font-size=\"14.00\" fill=\"#000000\">class = l</text>\n</g>\n<!-- 139&#45;&gt;140 -->\n<g id=\"edge140\" class=\"edge\">\n<title>139&#45;&gt;140</title>\n<path fill=\"none\" stroke=\"#000000\" d=\"M2542.5,-817.8796C2542.5,-809.6838 2542.5,-800.9891 2542.5,-792.5013\"/>\n<polygon fill=\"#000000\" stroke=\"#000000\" points=\"2546.0001,-792.298 2542.5,-782.2981 2539.0001,-792.2981 2546.0001,-792.298\"/>\n</g>\n<!-- 145 -->\n<g id=\"node146\" class=\"node\">\n<title>145</title>\n<path fill=\"#72b9ec\" stroke=\"#000000\" d=\"M2723,-782C2723,-782 2648,-782 2648,-782 2642,-782 2636,-776 2636,-770 2636,-770 2636,-711 2636,-711 2636,-705 2642,-699 2648,-699 2648,-699 2723,-699 2723,-699 2729,-699 2735,-705 2735,-711 2735,-711 2735,-770 2735,-770 2735,-776 2729,-782 2723,-782\"/>\n<text text-anchor=\"start\" x=\"2651\" y=\"-766.8\" font-family=\"Helvetica,sans-Serif\" font-size=\"14.00\" fill=\"#000000\">age ≤ 0.59</text>\n<text text-anchor=\"start\" x=\"2647.5\" y=\"-751.8\" font-family=\"Helvetica,sans-Serif\" font-size=\"14.00\" fill=\"#000000\">gini = 0.346</text>\n<text text-anchor=\"start\" x=\"2646\" y=\"-736.8\" font-family=\"Helvetica,sans-Serif\" font-size=\"14.00\" fill=\"#000000\">samples = 9</text>\n<text text-anchor=\"start\" x=\"2644\" y=\"-721.8\" font-family=\"Helvetica,sans-Serif\" font-size=\"14.00\" fill=\"#000000\">value = [2, 7]</text>\n<text text-anchor=\"start\" x=\"2656.5\" y=\"-706.8\" font-family=\"Helvetica,sans-Serif\" font-size=\"14.00\" fill=\"#000000\">class = o</text>\n</g>\n<!-- 139&#45;&gt;145 -->\n<g id=\"edge145\" class=\"edge\">\n<title>139&#45;&gt;145</title>\n<path fill=\"none\" stroke=\"#000000\" d=\"M2592.5145,-817.8796C2603.901,-808.4041 2616.0889,-798.2617 2627.7675,-788.5431\"/>\n<polygon fill=\"#000000\" stroke=\"#000000\" points=\"2630.3074,-790.9829 2635.7553,-781.896 2625.8298,-785.6022 2630.3074,-790.9829\"/>\n</g>\n<!-- 141 -->\n<g id=\"node142\" class=\"node\">\n<title>141</title>\n<path fill=\"#ffffff\" stroke=\"#000000\" d=\"M2489,-655.5C2489,-655.5 2414,-655.5 2414,-655.5 2408,-655.5 2402,-649.5 2402,-643.5 2402,-643.5 2402,-599.5 2402,-599.5 2402,-593.5 2408,-587.5 2414,-587.5 2414,-587.5 2489,-587.5 2489,-587.5 2495,-587.5 2501,-593.5 2501,-599.5 2501,-599.5 2501,-643.5 2501,-643.5 2501,-649.5 2495,-655.5 2489,-655.5\"/>\n<text text-anchor=\"start\" x=\"2422\" y=\"-640.3\" font-family=\"Helvetica,sans-Serif\" font-size=\"14.00\" fill=\"#000000\">gini = 0.5</text>\n<text text-anchor=\"start\" x=\"2412\" y=\"-625.3\" font-family=\"Helvetica,sans-Serif\" font-size=\"14.00\" fill=\"#000000\">samples = 2</text>\n<text text-anchor=\"start\" x=\"2410\" y=\"-610.3\" font-family=\"Helvetica,sans-Serif\" font-size=\"14.00\" fill=\"#000000\">value = [1, 1]</text>\n<text text-anchor=\"start\" x=\"2425\" y=\"-595.3\" font-family=\"Helvetica,sans-Serif\" font-size=\"14.00\" fill=\"#000000\">class = l</text>\n</g>\n<!-- 140&#45;&gt;141 -->\n<g id=\"edge141\" class=\"edge\">\n<title>140&#45;&gt;141</title>\n<path fill=\"none\" stroke=\"#000000\" d=\"M2510.6726,-698.8796C2502.0116,-687.5536 2492.6219,-675.2748 2483.928,-663.9058\"/>\n<polygon fill=\"#000000\" stroke=\"#000000\" points=\"2486.5956,-661.6324 2477.7408,-655.8149 2481.0351,-665.8846 2486.5956,-661.6324\"/>\n</g>\n<!-- 142 -->\n<g id=\"node143\" class=\"node\">\n<title>142</title>\n<path fill=\"#ffffff\" stroke=\"#000000\" d=\"M2606,-663C2606,-663 2531,-663 2531,-663 2525,-663 2519,-657 2519,-651 2519,-651 2519,-592 2519,-592 2519,-586 2525,-580 2531,-580 2531,-580 2606,-580 2606,-580 2612,-580 2618,-586 2618,-592 2618,-592 2618,-651 2618,-651 2618,-657 2612,-663 2606,-663\"/>\n<text text-anchor=\"start\" x=\"2530\" y=\"-647.8\" font-family=\"Helvetica,sans-Serif\" font-size=\"14.00\" fill=\"#000000\">age ≤ 0.259</text>\n<text text-anchor=\"start\" x=\"2539\" y=\"-632.8\" font-family=\"Helvetica,sans-Serif\" font-size=\"14.00\" fill=\"#000000\">gini = 0.5</text>\n<text text-anchor=\"start\" x=\"2529\" y=\"-617.8\" font-family=\"Helvetica,sans-Serif\" font-size=\"14.00\" fill=\"#000000\">samples = 4</text>\n<text text-anchor=\"start\" x=\"2527\" y=\"-602.8\" font-family=\"Helvetica,sans-Serif\" font-size=\"14.00\" fill=\"#000000\">value = [2, 2]</text>\n<text text-anchor=\"start\" x=\"2542\" y=\"-587.8\" font-family=\"Helvetica,sans-Serif\" font-size=\"14.00\" fill=\"#000000\">class = l</text>\n</g>\n<!-- 140&#45;&gt;142 -->\n<g id=\"edge142\" class=\"edge\">\n<title>140&#45;&gt;142</title>\n<path fill=\"none\" stroke=\"#000000\" d=\"M2551.5935,-698.8796C2553.4039,-690.5938 2555.3257,-681.798 2557.1995,-673.2216\"/>\n<polygon fill=\"#000000\" stroke=\"#000000\" points=\"2560.6524,-673.8147 2559.3676,-663.2981 2553.8137,-672.3205 2560.6524,-673.8147\"/>\n</g>\n<!-- 143 -->\n<g id=\"node144\" class=\"node\">\n<title>143</title>\n<path fill=\"#ffffff\" stroke=\"#000000\" d=\"M2584,-536.5C2584,-536.5 2509,-536.5 2509,-536.5 2503,-536.5 2497,-530.5 2497,-524.5 2497,-524.5 2497,-480.5 2497,-480.5 2497,-474.5 2503,-468.5 2509,-468.5 2509,-468.5 2584,-468.5 2584,-468.5 2590,-468.5 2596,-474.5 2596,-480.5 2596,-480.5 2596,-524.5 2596,-524.5 2596,-530.5 2590,-536.5 2584,-536.5\"/>\n<text text-anchor=\"start\" x=\"2517\" y=\"-521.3\" font-family=\"Helvetica,sans-Serif\" font-size=\"14.00\" fill=\"#000000\">gini = 0.5</text>\n<text text-anchor=\"start\" x=\"2507\" y=\"-506.3\" font-family=\"Helvetica,sans-Serif\" font-size=\"14.00\" fill=\"#000000\">samples = 2</text>\n<text text-anchor=\"start\" x=\"2505\" y=\"-491.3\" font-family=\"Helvetica,sans-Serif\" font-size=\"14.00\" fill=\"#000000\">value = [1, 1]</text>\n<text text-anchor=\"start\" x=\"2520\" y=\"-476.3\" font-family=\"Helvetica,sans-Serif\" font-size=\"14.00\" fill=\"#000000\">class = l</text>\n</g>\n<!-- 142&#45;&gt;143 -->\n<g id=\"edge143\" class=\"edge\">\n<title>142&#45;&gt;143</title>\n<path fill=\"none\" stroke=\"#000000\" d=\"M2560.8055,-579.8796C2558.8336,-569.2134 2556.7054,-557.7021 2554.7087,-546.9015\"/>\n<polygon fill=\"#000000\" stroke=\"#000000\" points=\"2558.1036,-546.012 2552.8439,-536.8149 2551.2203,-547.2846 2558.1036,-546.012\"/>\n</g>\n<!-- 144 -->\n<g id=\"node145\" class=\"node\">\n<title>144</title>\n<path fill=\"#ffffff\" stroke=\"#000000\" d=\"M2701,-536.5C2701,-536.5 2626,-536.5 2626,-536.5 2620,-536.5 2614,-530.5 2614,-524.5 2614,-524.5 2614,-480.5 2614,-480.5 2614,-474.5 2620,-468.5 2626,-468.5 2626,-468.5 2701,-468.5 2701,-468.5 2707,-468.5 2713,-474.5 2713,-480.5 2713,-480.5 2713,-524.5 2713,-524.5 2713,-530.5 2707,-536.5 2701,-536.5\"/>\n<text text-anchor=\"start\" x=\"2634\" y=\"-521.3\" font-family=\"Helvetica,sans-Serif\" font-size=\"14.00\" fill=\"#000000\">gini = 0.5</text>\n<text text-anchor=\"start\" x=\"2624\" y=\"-506.3\" font-family=\"Helvetica,sans-Serif\" font-size=\"14.00\" fill=\"#000000\">samples = 2</text>\n<text text-anchor=\"start\" x=\"2622\" y=\"-491.3\" font-family=\"Helvetica,sans-Serif\" font-size=\"14.00\" fill=\"#000000\">value = [1, 1]</text>\n<text text-anchor=\"start\" x=\"2637\" y=\"-476.3\" font-family=\"Helvetica,sans-Serif\" font-size=\"14.00\" fill=\"#000000\">class = l</text>\n</g>\n<!-- 142&#45;&gt;144 -->\n<g id=\"edge144\" class=\"edge\">\n<title>142&#45;&gt;144</title>\n<path fill=\"none\" stroke=\"#000000\" d=\"M2601.7264,-579.8796C2610.7681,-568.5536 2620.5705,-556.2748 2629.6466,-544.9058\"/>\n<polygon fill=\"#000000\" stroke=\"#000000\" points=\"2632.602,-546.8137 2636.1057,-536.8149 2627.1315,-542.4464 2632.602,-546.8137\"/>\n</g>\n<!-- 146 -->\n<g id=\"node147\" class=\"node\">\n<title>146</title>\n<path fill=\"#9ccef2\" stroke=\"#000000\" d=\"M2723,-655.5C2723,-655.5 2648,-655.5 2648,-655.5 2642,-655.5 2636,-649.5 2636,-643.5 2636,-643.5 2636,-599.5 2636,-599.5 2636,-593.5 2642,-587.5 2648,-587.5 2648,-587.5 2723,-587.5 2723,-587.5 2729,-587.5 2735,-593.5 2735,-599.5 2735,-599.5 2735,-643.5 2735,-643.5 2735,-649.5 2729,-655.5 2723,-655.5\"/>\n<text text-anchor=\"start\" x=\"2647.5\" y=\"-640.3\" font-family=\"Helvetica,sans-Serif\" font-size=\"14.00\" fill=\"#000000\">gini = 0.444</text>\n<text text-anchor=\"start\" x=\"2646\" y=\"-625.3\" font-family=\"Helvetica,sans-Serif\" font-size=\"14.00\" fill=\"#000000\">samples = 3</text>\n<text text-anchor=\"start\" x=\"2644\" y=\"-610.3\" font-family=\"Helvetica,sans-Serif\" font-size=\"14.00\" fill=\"#000000\">value = [1, 2]</text>\n<text text-anchor=\"start\" x=\"2656.5\" y=\"-595.3\" font-family=\"Helvetica,sans-Serif\" font-size=\"14.00\" fill=\"#000000\">class = o</text>\n</g>\n<!-- 145&#45;&gt;146 -->\n<g id=\"edge146\" class=\"edge\">\n<title>145&#45;&gt;146</title>\n<path fill=\"none\" stroke=\"#000000\" d=\"M2685.5,-698.8796C2685.5,-688.2134 2685.5,-676.7021 2685.5,-665.9015\"/>\n<polygon fill=\"#000000\" stroke=\"#000000\" points=\"2689.0001,-665.8149 2685.5,-655.8149 2682.0001,-665.815 2689.0001,-665.8149\"/>\n</g>\n<!-- 147 -->\n<g id=\"node148\" class=\"node\">\n<title>147</title>\n<path fill=\"#61b1ea\" stroke=\"#000000\" d=\"M2840,-663C2840,-663 2765,-663 2765,-663 2759,-663 2753,-657 2753,-651 2753,-651 2753,-592 2753,-592 2753,-586 2759,-580 2765,-580 2765,-580 2840,-580 2840,-580 2846,-580 2852,-586 2852,-592 2852,-592 2852,-651 2852,-651 2852,-657 2846,-663 2840,-663\"/>\n<text text-anchor=\"start\" x=\"2764\" y=\"-647.8\" font-family=\"Helvetica,sans-Serif\" font-size=\"14.00\" fill=\"#000000\">age ≤ 0.922</text>\n<text text-anchor=\"start\" x=\"2764.5\" y=\"-632.8\" font-family=\"Helvetica,sans-Serif\" font-size=\"14.00\" fill=\"#000000\">gini = 0.278</text>\n<text text-anchor=\"start\" x=\"2763\" y=\"-617.8\" font-family=\"Helvetica,sans-Serif\" font-size=\"14.00\" fill=\"#000000\">samples = 6</text>\n<text text-anchor=\"start\" x=\"2761\" y=\"-602.8\" font-family=\"Helvetica,sans-Serif\" font-size=\"14.00\" fill=\"#000000\">value = [1, 5]</text>\n<text text-anchor=\"start\" x=\"2773.5\" y=\"-587.8\" font-family=\"Helvetica,sans-Serif\" font-size=\"14.00\" fill=\"#000000\">class = o</text>\n</g>\n<!-- 145&#45;&gt;147 -->\n<g id=\"edge147\" class=\"edge\">\n<title>145&#45;&gt;147</title>\n<path fill=\"none\" stroke=\"#000000\" d=\"M2726.4209,-698.8796C2735.453,-689.6931 2745.1013,-679.8798 2754.3888,-670.4336\"/>\n<polygon fill=\"#000000\" stroke=\"#000000\" points=\"2756.8893,-672.8827 2761.4044,-663.2981 2751.8977,-667.975 2756.8893,-672.8827\"/>\n</g>\n<!-- 148 -->\n<g id=\"node149\" class=\"node\">\n<title>148</title>\n<path fill=\"#399de5\" stroke=\"#000000\" d=\"M2833,-536.5C2833,-536.5 2758,-536.5 2758,-536.5 2752,-536.5 2746,-530.5 2746,-524.5 2746,-524.5 2746,-480.5 2746,-480.5 2746,-474.5 2752,-468.5 2758,-468.5 2758,-468.5 2833,-468.5 2833,-468.5 2839,-468.5 2845,-474.5 2845,-480.5 2845,-480.5 2845,-524.5 2845,-524.5 2845,-530.5 2839,-536.5 2833,-536.5\"/>\n<text text-anchor=\"start\" x=\"2766\" y=\"-521.3\" font-family=\"Helvetica,sans-Serif\" font-size=\"14.00\" fill=\"#000000\">gini = 0.0</text>\n<text text-anchor=\"start\" x=\"2756\" y=\"-506.3\" font-family=\"Helvetica,sans-Serif\" font-size=\"14.00\" fill=\"#000000\">samples = 2</text>\n<text text-anchor=\"start\" x=\"2754\" y=\"-491.3\" font-family=\"Helvetica,sans-Serif\" font-size=\"14.00\" fill=\"#000000\">value = [0, 2]</text>\n<text text-anchor=\"start\" x=\"2766.5\" y=\"-476.3\" font-family=\"Helvetica,sans-Serif\" font-size=\"14.00\" fill=\"#000000\">class = o</text>\n</g>\n<!-- 147&#45;&gt;148 -->\n<g id=\"edge148\" class=\"edge\">\n<title>147&#45;&gt;148</title>\n<path fill=\"none\" stroke=\"#000000\" d=\"M2800.0517,-579.8796C2799.4243,-569.2134 2798.7472,-557.7021 2798.1119,-546.9015\"/>\n<polygon fill=\"#000000\" stroke=\"#000000\" points=\"2801.5998,-546.5921 2797.5185,-536.8149 2794.6119,-547.0032 2801.5998,-546.5921\"/>\n</g>\n<!-- 149 -->\n<g id=\"node150\" class=\"node\">\n<title>149</title>\n<path fill=\"#7bbeee\" stroke=\"#000000\" d=\"M2950,-544C2950,-544 2875,-544 2875,-544 2869,-544 2863,-538 2863,-532 2863,-532 2863,-473 2863,-473 2863,-467 2869,-461 2875,-461 2875,-461 2950,-461 2950,-461 2956,-461 2962,-467 2962,-473 2962,-473 2962,-532 2962,-532 2962,-538 2956,-544 2950,-544\"/>\n<text text-anchor=\"start\" x=\"2874\" y=\"-528.8\" font-family=\"Helvetica,sans-Serif\" font-size=\"14.00\" fill=\"#000000\">age ≤ 1.254</text>\n<text text-anchor=\"start\" x=\"2874.5\" y=\"-513.8\" font-family=\"Helvetica,sans-Serif\" font-size=\"14.00\" fill=\"#000000\">gini = 0.375</text>\n<text text-anchor=\"start\" x=\"2873\" y=\"-498.8\" font-family=\"Helvetica,sans-Serif\" font-size=\"14.00\" fill=\"#000000\">samples = 4</text>\n<text text-anchor=\"start\" x=\"2871\" y=\"-483.8\" font-family=\"Helvetica,sans-Serif\" font-size=\"14.00\" fill=\"#000000\">value = [1, 3]</text>\n<text text-anchor=\"start\" x=\"2883.5\" y=\"-468.8\" font-family=\"Helvetica,sans-Serif\" font-size=\"14.00\" fill=\"#000000\">class = o</text>\n</g>\n<!-- 147&#45;&gt;149 -->\n<g id=\"edge149\" class=\"edge\">\n<title>147&#45;&gt;149</title>\n<path fill=\"none\" stroke=\"#000000\" d=\"M2840.9727,-579.8796C2849.3811,-570.7832 2858.3576,-561.0722 2867.0103,-551.7116\"/>\n<polygon fill=\"#000000\" stroke=\"#000000\" points=\"2869.6453,-554.0172 2873.8631,-544.2981 2864.505,-549.2656 2869.6453,-554.0172\"/>\n</g>\n<!-- 150 -->\n<g id=\"node151\" class=\"node\">\n<title>150</title>\n<path fill=\"#9ccef2\" stroke=\"#000000\" d=\"M2891,-417.5C2891,-417.5 2816,-417.5 2816,-417.5 2810,-417.5 2804,-411.5 2804,-405.5 2804,-405.5 2804,-361.5 2804,-361.5 2804,-355.5 2810,-349.5 2816,-349.5 2816,-349.5 2891,-349.5 2891,-349.5 2897,-349.5 2903,-355.5 2903,-361.5 2903,-361.5 2903,-405.5 2903,-405.5 2903,-411.5 2897,-417.5 2891,-417.5\"/>\n<text text-anchor=\"start\" x=\"2815.5\" y=\"-402.3\" font-family=\"Helvetica,sans-Serif\" font-size=\"14.00\" fill=\"#000000\">gini = 0.444</text>\n<text text-anchor=\"start\" x=\"2814\" y=\"-387.3\" font-family=\"Helvetica,sans-Serif\" font-size=\"14.00\" fill=\"#000000\">samples = 3</text>\n<text text-anchor=\"start\" x=\"2812\" y=\"-372.3\" font-family=\"Helvetica,sans-Serif\" font-size=\"14.00\" fill=\"#000000\">value = [1, 2]</text>\n<text text-anchor=\"start\" x=\"2824.5\" y=\"-357.3\" font-family=\"Helvetica,sans-Serif\" font-size=\"14.00\" fill=\"#000000\">class = o</text>\n</g>\n<!-- 149&#45;&gt;150 -->\n<g id=\"edge150\" class=\"edge\">\n<title>149&#45;&gt;150</title>\n<path fill=\"none\" stroke=\"#000000\" d=\"M2891.8647,-460.8796C2886.4128,-449.8835 2880.5157,-437.9893 2875.0184,-426.9015\"/>\n<polygon fill=\"#000000\" stroke=\"#000000\" points=\"2878.0911,-425.2195 2870.5133,-417.8149 2871.8196,-428.3289 2878.0911,-425.2195\"/>\n</g>\n<!-- 151 -->\n<g id=\"node152\" class=\"node\">\n<title>151</title>\n<path fill=\"#399de5\" stroke=\"#000000\" d=\"M3008,-417.5C3008,-417.5 2933,-417.5 2933,-417.5 2927,-417.5 2921,-411.5 2921,-405.5 2921,-405.5 2921,-361.5 2921,-361.5 2921,-355.5 2927,-349.5 2933,-349.5 2933,-349.5 3008,-349.5 3008,-349.5 3014,-349.5 3020,-355.5 3020,-361.5 3020,-361.5 3020,-405.5 3020,-405.5 3020,-411.5 3014,-417.5 3008,-417.5\"/>\n<text text-anchor=\"start\" x=\"2941\" y=\"-402.3\" font-family=\"Helvetica,sans-Serif\" font-size=\"14.00\" fill=\"#000000\">gini = 0.0</text>\n<text text-anchor=\"start\" x=\"2931\" y=\"-387.3\" font-family=\"Helvetica,sans-Serif\" font-size=\"14.00\" fill=\"#000000\">samples = 1</text>\n<text text-anchor=\"start\" x=\"2929\" y=\"-372.3\" font-family=\"Helvetica,sans-Serif\" font-size=\"14.00\" fill=\"#000000\">value = [0, 1]</text>\n<text text-anchor=\"start\" x=\"2941.5\" y=\"-357.3\" font-family=\"Helvetica,sans-Serif\" font-size=\"14.00\" fill=\"#000000\">class = o</text>\n</g>\n<!-- 149&#45;&gt;151 -->\n<g id=\"edge151\" class=\"edge\">\n<title>149&#45;&gt;151</title>\n<path fill=\"none\" stroke=\"#000000\" d=\"M2932.7856,-460.8796C2938.145,-449.8835 2943.9422,-437.9893 2949.3463,-426.9015\"/>\n<polygon fill=\"#000000\" stroke=\"#000000\" points=\"2952.54,-428.3375 2953.7751,-417.8149 2946.2476,-425.2706 2952.54,-428.3375\"/>\n</g>\n<!-- 154 -->\n<g id=\"node155\" class=\"node\">\n<title>154</title>\n<path fill=\"#e58139\" stroke=\"#000000\" d=\"M1848,-1250.5C1848,-1250.5 1773,-1250.5 1773,-1250.5 1767,-1250.5 1761,-1244.5 1761,-1238.5 1761,-1238.5 1761,-1194.5 1761,-1194.5 1761,-1188.5 1767,-1182.5 1773,-1182.5 1773,-1182.5 1848,-1182.5 1848,-1182.5 1854,-1182.5 1860,-1188.5 1860,-1194.5 1860,-1194.5 1860,-1238.5 1860,-1238.5 1860,-1244.5 1854,-1250.5 1848,-1250.5\"/>\n<text text-anchor=\"start\" x=\"1781\" y=\"-1235.3\" font-family=\"Helvetica,sans-Serif\" font-size=\"14.00\" fill=\"#000000\">gini = 0.0</text>\n<text text-anchor=\"start\" x=\"1771\" y=\"-1220.3\" font-family=\"Helvetica,sans-Serif\" font-size=\"14.00\" fill=\"#000000\">samples = 2</text>\n<text text-anchor=\"start\" x=\"1769\" y=\"-1205.3\" font-family=\"Helvetica,sans-Serif\" font-size=\"14.00\" fill=\"#000000\">value = [2, 0]</text>\n<text text-anchor=\"start\" x=\"1784\" y=\"-1190.3\" font-family=\"Helvetica,sans-Serif\" font-size=\"14.00\" fill=\"#000000\">class = l</text>\n</g>\n<!-- 153&#45;&gt;154 -->\n<g id=\"edge154\" class=\"edge\">\n<title>153&#45;&gt;154</title>\n<path fill=\"none\" stroke=\"#000000\" d=\"M1810.5,-1293.8796C1810.5,-1283.2134 1810.5,-1271.7021 1810.5,-1260.9015\"/>\n<polygon fill=\"#000000\" stroke=\"#000000\" points=\"1814.0001,-1260.8149 1810.5,-1250.8149 1807.0001,-1260.815 1814.0001,-1260.8149\"/>\n</g>\n<!-- 155 -->\n<g id=\"node156\" class=\"node\">\n<title>155</title>\n<path fill=\"#ffffff\" stroke=\"#000000\" d=\"M2358,-1258C2358,-1258 2273,-1258 2273,-1258 2267,-1258 2261,-1252 2261,-1246 2261,-1246 2261,-1187 2261,-1187 2261,-1181 2267,-1175 2273,-1175 2273,-1175 2358,-1175 2358,-1175 2364,-1175 2370,-1181 2370,-1187 2370,-1187 2370,-1246 2370,-1246 2370,-1252 2364,-1258 2358,-1258\"/>\n<text text-anchor=\"start\" x=\"2269\" y=\"-1242.8\" font-family=\"Helvetica,sans-Serif\" font-size=\"14.00\" fill=\"#000000\">terms ≤ &#45;0.019</text>\n<text text-anchor=\"start\" x=\"2286\" y=\"-1227.8\" font-family=\"Helvetica,sans-Serif\" font-size=\"14.00\" fill=\"#000000\">gini = 0.5</text>\n<text text-anchor=\"start\" x=\"2276\" y=\"-1212.8\" font-family=\"Helvetica,sans-Serif\" font-size=\"14.00\" fill=\"#000000\">samples = 4</text>\n<text text-anchor=\"start\" x=\"2274\" y=\"-1197.8\" font-family=\"Helvetica,sans-Serif\" font-size=\"14.00\" fill=\"#000000\">value = [2, 2]</text>\n<text text-anchor=\"start\" x=\"2289\" y=\"-1182.8\" font-family=\"Helvetica,sans-Serif\" font-size=\"14.00\" fill=\"#000000\">class = l</text>\n</g>\n<!-- 153&#45;&gt;155 -->\n<g id=\"edge155\" class=\"edge\">\n<title>153&#45;&gt;155</title>\n<path fill=\"none\" stroke=\"#000000\" d=\"M1914.2183,-1311.0595C2015.4239,-1287.211 2166.1998,-1251.6816 2251.1941,-1231.6533\"/>\n<polygon fill=\"#000000\" stroke=\"#000000\" points=\"2252.0427,-1235.0493 2260.9733,-1229.3489 2250.4371,-1228.2359 2252.0427,-1235.0493\"/>\n</g>\n<!-- 156 -->\n<g id=\"node157\" class=\"node\">\n<title>156</title>\n<path fill=\"#9ccef2\" stroke=\"#000000\" d=\"M2367.5,-1139C2367.5,-1139 2263.5,-1139 2263.5,-1139 2257.5,-1139 2251.5,-1133 2251.5,-1127 2251.5,-1127 2251.5,-1068 2251.5,-1068 2251.5,-1062 2257.5,-1056 2263.5,-1056 2263.5,-1056 2367.5,-1056 2367.5,-1056 2373.5,-1056 2379.5,-1062 2379.5,-1068 2379.5,-1068 2379.5,-1127 2379.5,-1127 2379.5,-1133 2373.5,-1139 2367.5,-1139\"/>\n<text text-anchor=\"start\" x=\"2259.5\" y=\"-1123.8\" font-family=\"Helvetica,sans-Serif\" font-size=\"14.00\" fill=\"#000000\">Principal ≤ &#45;0.399</text>\n<text text-anchor=\"start\" x=\"2277.5\" y=\"-1108.8\" font-family=\"Helvetica,sans-Serif\" font-size=\"14.00\" fill=\"#000000\">gini = 0.444</text>\n<text text-anchor=\"start\" x=\"2276\" y=\"-1093.8\" font-family=\"Helvetica,sans-Serif\" font-size=\"14.00\" fill=\"#000000\">samples = 3</text>\n<text text-anchor=\"start\" x=\"2274\" y=\"-1078.8\" font-family=\"Helvetica,sans-Serif\" font-size=\"14.00\" fill=\"#000000\">value = [1, 2]</text>\n<text text-anchor=\"start\" x=\"2286.5\" y=\"-1063.8\" font-family=\"Helvetica,sans-Serif\" font-size=\"14.00\" fill=\"#000000\">class = o</text>\n</g>\n<!-- 155&#45;&gt;156 -->\n<g id=\"edge156\" class=\"edge\">\n<title>155&#45;&gt;156</title>\n<path fill=\"none\" stroke=\"#000000\" d=\"M2315.5,-1174.8796C2315.5,-1166.6838 2315.5,-1157.9891 2315.5,-1149.5013\"/>\n<polygon fill=\"#000000\" stroke=\"#000000\" points=\"2319.0001,-1149.298 2315.5,-1139.2981 2312.0001,-1149.2981 2319.0001,-1149.298\"/>\n</g>\n<!-- 159 -->\n<g id=\"node160\" class=\"node\">\n<title>159</title>\n<path fill=\"#e58139\" stroke=\"#000000\" d=\"M2485,-1131.5C2485,-1131.5 2410,-1131.5 2410,-1131.5 2404,-1131.5 2398,-1125.5 2398,-1119.5 2398,-1119.5 2398,-1075.5 2398,-1075.5 2398,-1069.5 2404,-1063.5 2410,-1063.5 2410,-1063.5 2485,-1063.5 2485,-1063.5 2491,-1063.5 2497,-1069.5 2497,-1075.5 2497,-1075.5 2497,-1119.5 2497,-1119.5 2497,-1125.5 2491,-1131.5 2485,-1131.5\"/>\n<text text-anchor=\"start\" x=\"2418\" y=\"-1116.3\" font-family=\"Helvetica,sans-Serif\" font-size=\"14.00\" fill=\"#000000\">gini = 0.0</text>\n<text text-anchor=\"start\" x=\"2408\" y=\"-1101.3\" font-family=\"Helvetica,sans-Serif\" font-size=\"14.00\" fill=\"#000000\">samples = 1</text>\n<text text-anchor=\"start\" x=\"2406\" y=\"-1086.3\" font-family=\"Helvetica,sans-Serif\" font-size=\"14.00\" fill=\"#000000\">value = [1, 0]</text>\n<text text-anchor=\"start\" x=\"2421\" y=\"-1071.3\" font-family=\"Helvetica,sans-Serif\" font-size=\"14.00\" fill=\"#000000\">class = l</text>\n</g>\n<!-- 155&#45;&gt;159 -->\n<g id=\"edge159\" class=\"edge\">\n<title>155&#45;&gt;159</title>\n<path fill=\"none\" stroke=\"#000000\" d=\"M2361.6672,-1174.8796C2374.7183,-1163.1138 2388.9101,-1150.3197 2401.9261,-1138.5855\"/>\n<polygon fill=\"#000000\" stroke=\"#000000\" points=\"2404.3526,-1141.1104 2409.4364,-1131.8149 2399.6654,-1135.9113 2404.3526,-1141.1104\"/>\n</g>\n<!-- 157 -->\n<g id=\"node158\" class=\"node\">\n<title>157</title>\n<path fill=\"#e58139\" stroke=\"#000000\" d=\"M2353,-1012.5C2353,-1012.5 2278,-1012.5 2278,-1012.5 2272,-1012.5 2266,-1006.5 2266,-1000.5 2266,-1000.5 2266,-956.5 2266,-956.5 2266,-950.5 2272,-944.5 2278,-944.5 2278,-944.5 2353,-944.5 2353,-944.5 2359,-944.5 2365,-950.5 2365,-956.5 2365,-956.5 2365,-1000.5 2365,-1000.5 2365,-1006.5 2359,-1012.5 2353,-1012.5\"/>\n<text text-anchor=\"start\" x=\"2286\" y=\"-997.3\" font-family=\"Helvetica,sans-Serif\" font-size=\"14.00\" fill=\"#000000\">gini = 0.0</text>\n<text text-anchor=\"start\" x=\"2276\" y=\"-982.3\" font-family=\"Helvetica,sans-Serif\" font-size=\"14.00\" fill=\"#000000\">samples = 1</text>\n<text text-anchor=\"start\" x=\"2274\" y=\"-967.3\" font-family=\"Helvetica,sans-Serif\" font-size=\"14.00\" fill=\"#000000\">value = [1, 0]</text>\n<text text-anchor=\"start\" x=\"2289\" y=\"-952.3\" font-family=\"Helvetica,sans-Serif\" font-size=\"14.00\" fill=\"#000000\">class = l</text>\n</g>\n<!-- 156&#45;&gt;157 -->\n<g id=\"edge157\" class=\"edge\">\n<title>156&#45;&gt;157</title>\n<path fill=\"none\" stroke=\"#000000\" d=\"M2315.5,-1055.8796C2315.5,-1045.2134 2315.5,-1033.7021 2315.5,-1022.9015\"/>\n<polygon fill=\"#000000\" stroke=\"#000000\" points=\"2319.0001,-1022.8149 2315.5,-1012.8149 2312.0001,-1022.815 2319.0001,-1022.8149\"/>\n</g>\n<!-- 158 -->\n<g id=\"node159\" class=\"node\">\n<title>158</title>\n<path fill=\"#399de5\" stroke=\"#000000\" d=\"M2470,-1012.5C2470,-1012.5 2395,-1012.5 2395,-1012.5 2389,-1012.5 2383,-1006.5 2383,-1000.5 2383,-1000.5 2383,-956.5 2383,-956.5 2383,-950.5 2389,-944.5 2395,-944.5 2395,-944.5 2470,-944.5 2470,-944.5 2476,-944.5 2482,-950.5 2482,-956.5 2482,-956.5 2482,-1000.5 2482,-1000.5 2482,-1006.5 2476,-1012.5 2470,-1012.5\"/>\n<text text-anchor=\"start\" x=\"2403\" y=\"-997.3\" font-family=\"Helvetica,sans-Serif\" font-size=\"14.00\" fill=\"#000000\">gini = 0.0</text>\n<text text-anchor=\"start\" x=\"2393\" y=\"-982.3\" font-family=\"Helvetica,sans-Serif\" font-size=\"14.00\" fill=\"#000000\">samples = 2</text>\n<text text-anchor=\"start\" x=\"2391\" y=\"-967.3\" font-family=\"Helvetica,sans-Serif\" font-size=\"14.00\" fill=\"#000000\">value = [0, 2]</text>\n<text text-anchor=\"start\" x=\"2403.5\" y=\"-952.3\" font-family=\"Helvetica,sans-Serif\" font-size=\"14.00\" fill=\"#000000\">class = o</text>\n</g>\n<!-- 156&#45;&gt;158 -->\n<g id=\"edge158\" class=\"edge\">\n<title>156&#45;&gt;158</title>\n<path fill=\"none\" stroke=\"#000000\" d=\"M2356.4209,-1055.8796C2367.7728,-1044.3337 2380.0982,-1031.7976 2391.457,-1020.2446\"/>\n<polygon fill=\"#000000\" stroke=\"#000000\" points=\"2394.2466,-1022.3995 2398.7618,-1012.8149 2389.2551,-1017.4919 2394.2466,-1022.3995\"/>\n</g>\n<!-- 161 -->\n<g id=\"node162\" class=\"node\">\n<title>161</title>\n<path fill=\"#4ba6e7\" stroke=\"#000000\" d=\"M1564,-1615C1564,-1615 1481,-1615 1481,-1615 1475,-1615 1469,-1609 1469,-1603 1469,-1603 1469,-1544 1469,-1544 1469,-1538 1475,-1532 1481,-1532 1481,-1532 1564,-1532 1564,-1532 1570,-1532 1576,-1538 1576,-1544 1576,-1544 1576,-1603 1576,-1603 1576,-1609 1570,-1615 1564,-1615\"/>\n<text text-anchor=\"start\" x=\"1484\" y=\"-1599.8\" font-family=\"Helvetica,sans-Serif\" font-size=\"14.00\" fill=\"#000000\">age ≤ 0.922</text>\n<text text-anchor=\"start\" x=\"1484.5\" y=\"-1584.8\" font-family=\"Helvetica,sans-Serif\" font-size=\"14.00\" fill=\"#000000\">gini = 0.153</text>\n<text text-anchor=\"start\" x=\"1478.5\" y=\"-1569.8\" font-family=\"Helvetica,sans-Serif\" font-size=\"14.00\" fill=\"#000000\">samples = 12</text>\n<text text-anchor=\"start\" x=\"1477\" y=\"-1554.8\" font-family=\"Helvetica,sans-Serif\" font-size=\"14.00\" fill=\"#000000\">value = [1, 11]</text>\n<text text-anchor=\"start\" x=\"1493.5\" y=\"-1539.8\" font-family=\"Helvetica,sans-Serif\" font-size=\"14.00\" fill=\"#000000\">class = o</text>\n</g>\n<!-- 160&#45;&gt;161 -->\n<g id=\"edge161\" class=\"edge\">\n<title>160&#45;&gt;161</title>\n<path fill=\"none\" stroke=\"#000000\" d=\"M1522.5,-1650.8796C1522.5,-1642.6838 1522.5,-1633.9891 1522.5,-1625.5013\"/>\n<polygon fill=\"#000000\" stroke=\"#000000\" points=\"1526.0001,-1625.298 1522.5,-1615.2981 1519.0001,-1625.2981 1526.0001,-1625.298\"/>\n</g>\n<!-- 164 -->\n<g id=\"node165\" class=\"node\">\n<title>164</title>\n<path fill=\"#f8e0ce\" stroke=\"#000000\" d=\"M1740,-1615C1740,-1615 1665,-1615 1665,-1615 1659,-1615 1653,-1609 1653,-1603 1653,-1603 1653,-1544 1653,-1544 1653,-1538 1659,-1532 1665,-1532 1665,-1532 1740,-1532 1740,-1532 1746,-1532 1752,-1538 1752,-1544 1752,-1544 1752,-1603 1752,-1603 1752,-1609 1746,-1615 1740,-1615\"/>\n<text text-anchor=\"start\" x=\"1668\" y=\"-1599.8\" font-family=\"Helvetica,sans-Serif\" font-size=\"14.00\" fill=\"#000000\">age ≤ 0.01</text>\n<text text-anchor=\"start\" x=\"1669\" y=\"-1584.8\" font-family=\"Helvetica,sans-Serif\" font-size=\"14.00\" fill=\"#000000\">gini = 0.49</text>\n<text text-anchor=\"start\" x=\"1663\" y=\"-1569.8\" font-family=\"Helvetica,sans-Serif\" font-size=\"14.00\" fill=\"#000000\">samples = 7</text>\n<text text-anchor=\"start\" x=\"1661\" y=\"-1554.8\" font-family=\"Helvetica,sans-Serif\" font-size=\"14.00\" fill=\"#000000\">value = [4, 3]</text>\n<text text-anchor=\"start\" x=\"1676\" y=\"-1539.8\" font-family=\"Helvetica,sans-Serif\" font-size=\"14.00\" fill=\"#000000\">class = l</text>\n</g>\n<!-- 160&#45;&gt;164 -->\n<g id=\"edge164\" class=\"edge\">\n<title>160&#45;&gt;164</title>\n<path fill=\"none\" stroke=\"#000000\" d=\"M1585.4553,-1650.8796C1604.6209,-1638.2089 1625.5904,-1624.3458 1644.4188,-1611.8981\"/>\n<polygon fill=\"#000000\" stroke=\"#000000\" points=\"1646.4932,-1614.7225 1652.9048,-1606.2879 1642.6327,-1608.8832 1646.4932,-1614.7225\"/>\n</g>\n<!-- 162 -->\n<g id=\"node163\" class=\"node\">\n<title>162</title>\n<path fill=\"#399de5\" stroke=\"#000000\" d=\"M1506,-1488.5C1506,-1488.5 1423,-1488.5 1423,-1488.5 1417,-1488.5 1411,-1482.5 1411,-1476.5 1411,-1476.5 1411,-1432.5 1411,-1432.5 1411,-1426.5 1417,-1420.5 1423,-1420.5 1423,-1420.5 1506,-1420.5 1506,-1420.5 1512,-1420.5 1518,-1426.5 1518,-1432.5 1518,-1432.5 1518,-1476.5 1518,-1476.5 1518,-1482.5 1512,-1488.5 1506,-1488.5\"/>\n<text text-anchor=\"start\" x=\"1435\" y=\"-1473.3\" font-family=\"Helvetica,sans-Serif\" font-size=\"14.00\" fill=\"#000000\">gini = 0.0</text>\n<text text-anchor=\"start\" x=\"1420.5\" y=\"-1458.3\" font-family=\"Helvetica,sans-Serif\" font-size=\"14.00\" fill=\"#000000\">samples = 11</text>\n<text text-anchor=\"start\" x=\"1419\" y=\"-1443.3\" font-family=\"Helvetica,sans-Serif\" font-size=\"14.00\" fill=\"#000000\">value = [0, 11]</text>\n<text text-anchor=\"start\" x=\"1435.5\" y=\"-1428.3\" font-family=\"Helvetica,sans-Serif\" font-size=\"14.00\" fill=\"#000000\">class = o</text>\n</g>\n<!-- 161&#45;&gt;162 -->\n<g id=\"edge162\" class=\"edge\">\n<title>161&#45;&gt;162</title>\n<path fill=\"none\" stroke=\"#000000\" d=\"M1502.2144,-1531.8796C1496.855,-1520.8835 1491.0578,-1508.9893 1485.6537,-1497.9015\"/>\n<polygon fill=\"#000000\" stroke=\"#000000\" points=\"1488.7524,-1496.2706 1481.2249,-1488.8149 1482.46,-1499.3375 1488.7524,-1496.2706\"/>\n</g>\n<!-- 163 -->\n<g id=\"node164\" class=\"node\">\n<title>163</title>\n<path fill=\"#e58139\" stroke=\"#000000\" d=\"M1623,-1488.5C1623,-1488.5 1548,-1488.5 1548,-1488.5 1542,-1488.5 1536,-1482.5 1536,-1476.5 1536,-1476.5 1536,-1432.5 1536,-1432.5 1536,-1426.5 1542,-1420.5 1548,-1420.5 1548,-1420.5 1623,-1420.5 1623,-1420.5 1629,-1420.5 1635,-1426.5 1635,-1432.5 1635,-1432.5 1635,-1476.5 1635,-1476.5 1635,-1482.5 1629,-1488.5 1623,-1488.5\"/>\n<text text-anchor=\"start\" x=\"1556\" y=\"-1473.3\" font-family=\"Helvetica,sans-Serif\" font-size=\"14.00\" fill=\"#000000\">gini = 0.0</text>\n<text text-anchor=\"start\" x=\"1546\" y=\"-1458.3\" font-family=\"Helvetica,sans-Serif\" font-size=\"14.00\" fill=\"#000000\">samples = 1</text>\n<text text-anchor=\"start\" x=\"1544\" y=\"-1443.3\" font-family=\"Helvetica,sans-Serif\" font-size=\"14.00\" fill=\"#000000\">value = [1, 0]</text>\n<text text-anchor=\"start\" x=\"1559\" y=\"-1428.3\" font-family=\"Helvetica,sans-Serif\" font-size=\"14.00\" fill=\"#000000\">class = l</text>\n</g>\n<!-- 161&#45;&gt;163 -->\n<g id=\"edge163\" class=\"edge\">\n<title>161&#45;&gt;163</title>\n<path fill=\"none\" stroke=\"#000000\" d=\"M1544.5343,-1531.8796C1550.3558,-1520.8835 1556.6527,-1508.9893 1562.5227,-1497.9015\"/>\n<polygon fill=\"#000000\" stroke=\"#000000\" points=\"1565.7476,-1499.2905 1567.3333,-1488.8149 1559.5611,-1496.0152 1565.7476,-1499.2905\"/>\n</g>\n<!-- 165 -->\n<g id=\"node166\" class=\"node\">\n<title>165</title>\n<path fill=\"#e58139\" stroke=\"#000000\" d=\"M1740,-1488.5C1740,-1488.5 1665,-1488.5 1665,-1488.5 1659,-1488.5 1653,-1482.5 1653,-1476.5 1653,-1476.5 1653,-1432.5 1653,-1432.5 1653,-1426.5 1659,-1420.5 1665,-1420.5 1665,-1420.5 1740,-1420.5 1740,-1420.5 1746,-1420.5 1752,-1426.5 1752,-1432.5 1752,-1432.5 1752,-1476.5 1752,-1476.5 1752,-1482.5 1746,-1488.5 1740,-1488.5\"/>\n<text text-anchor=\"start\" x=\"1673\" y=\"-1473.3\" font-family=\"Helvetica,sans-Serif\" font-size=\"14.00\" fill=\"#000000\">gini = 0.0</text>\n<text text-anchor=\"start\" x=\"1663\" y=\"-1458.3\" font-family=\"Helvetica,sans-Serif\" font-size=\"14.00\" fill=\"#000000\">samples = 4</text>\n<text text-anchor=\"start\" x=\"1661\" y=\"-1443.3\" font-family=\"Helvetica,sans-Serif\" font-size=\"14.00\" fill=\"#000000\">value = [4, 0]</text>\n<text text-anchor=\"start\" x=\"1676\" y=\"-1428.3\" font-family=\"Helvetica,sans-Serif\" font-size=\"14.00\" fill=\"#000000\">class = l</text>\n</g>\n<!-- 164&#45;&gt;165 -->\n<g id=\"edge165\" class=\"edge\">\n<title>164&#45;&gt;165</title>\n<path fill=\"none\" stroke=\"#000000\" d=\"M1702.5,-1531.8796C1702.5,-1521.2134 1702.5,-1509.7021 1702.5,-1498.9015\"/>\n<polygon fill=\"#000000\" stroke=\"#000000\" points=\"1706.0001,-1498.8149 1702.5,-1488.8149 1699.0001,-1498.815 1706.0001,-1498.8149\"/>\n</g>\n<!-- 166 -->\n<g id=\"node167\" class=\"node\">\n<title>166</title>\n<path fill=\"#399de5\" stroke=\"#000000\" d=\"M1857,-1488.5C1857,-1488.5 1782,-1488.5 1782,-1488.5 1776,-1488.5 1770,-1482.5 1770,-1476.5 1770,-1476.5 1770,-1432.5 1770,-1432.5 1770,-1426.5 1776,-1420.5 1782,-1420.5 1782,-1420.5 1857,-1420.5 1857,-1420.5 1863,-1420.5 1869,-1426.5 1869,-1432.5 1869,-1432.5 1869,-1476.5 1869,-1476.5 1869,-1482.5 1863,-1488.5 1857,-1488.5\"/>\n<text text-anchor=\"start\" x=\"1790\" y=\"-1473.3\" font-family=\"Helvetica,sans-Serif\" font-size=\"14.00\" fill=\"#000000\">gini = 0.0</text>\n<text text-anchor=\"start\" x=\"1780\" y=\"-1458.3\" font-family=\"Helvetica,sans-Serif\" font-size=\"14.00\" fill=\"#000000\">samples = 3</text>\n<text text-anchor=\"start\" x=\"1778\" y=\"-1443.3\" font-family=\"Helvetica,sans-Serif\" font-size=\"14.00\" fill=\"#000000\">value = [0, 3]</text>\n<text text-anchor=\"start\" x=\"1790.5\" y=\"-1428.3\" font-family=\"Helvetica,sans-Serif\" font-size=\"14.00\" fill=\"#000000\">class = o</text>\n</g>\n<!-- 164&#45;&gt;166 -->\n<g id=\"edge166\" class=\"edge\">\n<title>164&#45;&gt;166</title>\n<path fill=\"none\" stroke=\"#000000\" d=\"M1743.4209,-1531.8796C1754.7728,-1520.3337 1767.0982,-1507.7976 1778.457,-1496.2446\"/>\n<polygon fill=\"#000000\" stroke=\"#000000\" points=\"1781.2466,-1498.3995 1785.7618,-1488.8149 1776.2551,-1493.4919 1781.2466,-1498.3995\"/>\n</g>\n</g>\n</svg>\n"
          },
          "metadata": {
            "tags": []
          },
          "execution_count": 43
        }
      ]
    },
    {
      "cell_type": "markdown",
      "metadata": {
        "id": "WUrc-OXEL4ma",
        "colab_type": "text"
      },
      "source": [
        "# Support Vector Machine"
      ]
    },
    {
      "cell_type": "code",
      "metadata": {
        "id": "x_PEy3BzL4mb",
        "colab_type": "code",
        "colab": {
          "base_uri": "https://localhost:8080/",
          "height": 85
        },
        "outputId": "ba605525-e8c9-4a44-98e1-b2ddbca52e36"
      },
      "source": [
        "from sklearn import svm\n",
        "\n",
        "# Modelling and training\n",
        "clf_rbf = svm.SVC(kernel='rbf')\n",
        "clf_rbf.fit(X_train, y_train) \n",
        "\n",
        "clf_linear = svm.SVC(kernel='linear')\n",
        "clf_linear.fit(X_train, y_train) \n",
        "\n",
        "clf_poly = svm.SVC(kernel='poly')\n",
        "clf_poly.fit(X_train, y_train) \n",
        "\n",
        "clf_sig = svm.SVC(kernel='sigmoid')\n",
        "clf_sig.fit(X_train, y_train) "
      ],
      "execution_count": 44,
      "outputs": [
        {
          "output_type": "execute_result",
          "data": {
            "text/plain": [
              "SVC(C=1.0, break_ties=False, cache_size=200, class_weight=None, coef0=0.0,\n",
              "    decision_function_shape='ovr', degree=3, gamma='scale', kernel='sigmoid',\n",
              "    max_iter=-1, probability=False, random_state=None, shrinking=True,\n",
              "    tol=0.001, verbose=False)"
            ]
          },
          "metadata": {
            "tags": []
          },
          "execution_count": 44
        }
      ]
    },
    {
      "cell_type": "code",
      "metadata": {
        "id": "dUGkeR5zL4me",
        "colab_type": "code",
        "colab": {}
      },
      "source": [
        "# Prediction\n",
        "yhat_rbf = clf_rbf.predict(X_test)\n",
        "yhat_linear = clf_linear.predict(X_test)\n",
        "yhat_poly = clf_poly.predict(X_test)\n",
        "yhat_sig = clf_sig.predict(X_test)"
      ],
      "execution_count": 45,
      "outputs": []
    },
    {
      "cell_type": "code",
      "metadata": {
        "id": "YWTxghd7L4mg",
        "colab_type": "code",
        "colab": {
          "base_uri": "https://localhost:8080/",
          "height": 119
        },
        "outputId": "531e5509-7032-4c7d-dad0-b8e3353aee52"
      },
      "source": [
        "#Evaluation\n",
        "\n",
        "from sklearn.metrics import f1_score\n",
        "from sklearn.metrics import jaccard_score\n",
        "\n",
        "print('jaccard scores:')\n",
        "print('RBF:',jaccard_score(y_test, yhat_rbf))\n",
        "print('Linear:',jaccard_score(y_test, yhat_linear))\n",
        "print('Polynomial',jaccard_score(y_test, yhat_poly))\n",
        "print('Sigmoid',jaccard_score(y_test, yhat_sig))\n",
        "print('Best Kernel: Linear')"
      ],
      "execution_count": 48,
      "outputs": [
        {
          "output_type": "stream",
          "text": [
            "jaccard scores:\n",
            "RBF: 0.7428571428571429\n",
            "Linear: 0.7571428571428571\n",
            "Polynomial 0.7391304347826086\n",
            "Sigmoid 0.7428571428571429\n",
            "Best Kernel: Linear\n"
          ],
          "name": "stdout"
        }
      ]
    },
    {
      "cell_type": "markdown",
      "metadata": {
        "id": "BUHDjcCGL4mj",
        "colab_type": "text"
      },
      "source": [
        "# Logistic Regression"
      ]
    },
    {
      "cell_type": "code",
      "metadata": {
        "id": "g7DMyJnML4mj",
        "colab_type": "code",
        "colab": {}
      },
      "source": [
        "from sklearn.linear_model import LogisticRegression\n",
        "from sklearn.metrics import log_loss\n",
        "\n",
        "# Modelling\n",
        "LR_lib = LogisticRegression(C=0.01, solver='liblinear').fit(X_train,y_train)\n",
        "LR_sag = LogisticRegression(C=0.01, solver='sag').fit(X_train,y_train)"
      ],
      "execution_count": 49,
      "outputs": []
    },
    {
      "cell_type": "code",
      "metadata": {
        "id": "N4Yxp3YoL4mm",
        "colab_type": "code",
        "colab": {}
      },
      "source": [
        "# Prediction\n",
        "yhat_lib = LR_lib.predict(X_test)\n",
        "yhat_sag = LR_sag.predict(X_test)\n",
        "\n",
        "yhat_prob_lib = LR_lib.predict_proba(X_test)\n",
        "yhat_prob_sag = LR_sag.predict_proba(X_test)"
      ],
      "execution_count": 50,
      "outputs": []
    },
    {
      "cell_type": "code",
      "metadata": {
        "id": "156NG6TQL4mp",
        "colab_type": "code",
        "colab": {
          "base_uri": "https://localhost:8080/",
          "height": 119
        },
        "outputId": "bae7e6cb-b8b8-42bb-9231-142ed56259b7"
      },
      "source": [
        "# Evaluation\n",
        "print('log loss with liblinear',log_loss(y_test, yhat_prob_lib))\n",
        "print('log loss with sag',log_loss(y_test, yhat_prob_sag))\n",
        "print('liblinear solver:',jaccard_score(y_test, yhat_lib))\n",
        "print('sag solver:',jaccard_score(y_test, yhat_sag))\n",
        "\n",
        "print('\\nBEST OPTION: liblinear solver')"
      ],
      "execution_count": 54,
      "outputs": [
        {
          "output_type": "stream",
          "text": [
            "log loss with liblinear 0.5476398819069569\n",
            "log loss with sag 0.4911588513400661\n",
            "liblinear solver: 0.7571428571428571\n",
            "sag solver: 0.7571428571428571\n",
            "\n",
            "BEST OPTION: liblinear solver\n"
          ],
          "name": "stdout"
        }
      ]
    },
    {
      "cell_type": "markdown",
      "metadata": {
        "id": "V07Lw8vYL4mr",
        "colab_type": "text"
      },
      "source": [
        "## Model Evaluation using Test set"
      ]
    },
    {
      "cell_type": "code",
      "metadata": {
        "id": "XqqNj2KML4ms",
        "colab_type": "code",
        "colab": {}
      },
      "source": [
        "from sklearn.metrics import jaccard_similarity_score\n",
        "from sklearn.metrics import f1_score\n",
        "from sklearn.metrics import log_loss"
      ],
      "execution_count": 55,
      "outputs": []
    },
    {
      "cell_type": "markdown",
      "metadata": {
        "id": "kEFJc8PYL4mv",
        "colab_type": "text"
      },
      "source": [
        "First, download and load the test set:"
      ]
    },
    {
      "cell_type": "code",
      "metadata": {
        "id": "9TYPRBYyL4mw",
        "colab_type": "code",
        "colab": {
          "base_uri": "https://localhost:8080/",
          "height": 224
        },
        "outputId": "86ad5d0b-21f9-437f-a1da-faf29eb289e5"
      },
      "source": [
        "!wget -O loan_test.csv https://s3-api.us-geo.objectstorage.softlayer.net/cf-courses-data/CognitiveClass/ML0101ENv3/labs/loan_test.csv"
      ],
      "execution_count": 56,
      "outputs": [
        {
          "output_type": "stream",
          "text": [
            "--2020-07-28 12:29:29--  https://s3-api.us-geo.objectstorage.softlayer.net/cf-courses-data/CognitiveClass/ML0101ENv3/labs/loan_test.csv\n",
            "Resolving s3-api.us-geo.objectstorage.softlayer.net (s3-api.us-geo.objectstorage.softlayer.net)... 67.228.254.196\n",
            "Connecting to s3-api.us-geo.objectstorage.softlayer.net (s3-api.us-geo.objectstorage.softlayer.net)|67.228.254.196|:443... connected.\n",
            "HTTP request sent, awaiting response... 200 OK\n",
            "Length: 3642 (3.6K) [text/csv]\n",
            "Saving to: ‘loan_test.csv’\n",
            "\n",
            "\rloan_test.csv         0%[                    ]       0  --.-KB/s               \rloan_test.csv       100%[===================>]   3.56K  --.-KB/s    in 0s      \n",
            "\n",
            "2020-07-28 12:29:29 (677 MB/s) - ‘loan_test.csv’ saved [3642/3642]\n",
            "\n"
          ],
          "name": "stdout"
        }
      ]
    },
    {
      "cell_type": "markdown",
      "metadata": {
        "button": false,
        "new_sheet": false,
        "run_control": {
          "read_only": false
        },
        "id": "Sr4egMFqL4m0",
        "colab_type": "text"
      },
      "source": [
        "### Load Test set for evaluation "
      ]
    },
    {
      "cell_type": "code",
      "metadata": {
        "button": false,
        "new_sheet": false,
        "run_control": {
          "read_only": false
        },
        "scrolled": true,
        "id": "RtdHNbHEL4m1",
        "colab_type": "code",
        "colab": {
          "base_uri": "https://localhost:8080/",
          "height": 275
        },
        "outputId": "db2243a7-d353-4331-829f-fcbd1f14cd6a"
      },
      "source": [
        "test_df = pd.read_csv('loan_test.csv')\n",
        "test_df.head()"
      ],
      "execution_count": 57,
      "outputs": [
        {
          "output_type": "execute_result",
          "data": {
            "text/html": [
              "<div>\n",
              "<style scoped>\n",
              "    .dataframe tbody tr th:only-of-type {\n",
              "        vertical-align: middle;\n",
              "    }\n",
              "\n",
              "    .dataframe tbody tr th {\n",
              "        vertical-align: top;\n",
              "    }\n",
              "\n",
              "    .dataframe thead th {\n",
              "        text-align: right;\n",
              "    }\n",
              "</style>\n",
              "<table border=\"1\" class=\"dataframe\">\n",
              "  <thead>\n",
              "    <tr style=\"text-align: right;\">\n",
              "      <th></th>\n",
              "      <th>Unnamed: 0</th>\n",
              "      <th>Unnamed: 0.1</th>\n",
              "      <th>loan_status</th>\n",
              "      <th>Principal</th>\n",
              "      <th>terms</th>\n",
              "      <th>effective_date</th>\n",
              "      <th>due_date</th>\n",
              "      <th>age</th>\n",
              "      <th>education</th>\n",
              "      <th>Gender</th>\n",
              "    </tr>\n",
              "  </thead>\n",
              "  <tbody>\n",
              "    <tr>\n",
              "      <th>0</th>\n",
              "      <td>1</td>\n",
              "      <td>1</td>\n",
              "      <td>PAIDOFF</td>\n",
              "      <td>1000</td>\n",
              "      <td>30</td>\n",
              "      <td>9/8/2016</td>\n",
              "      <td>10/7/2016</td>\n",
              "      <td>50</td>\n",
              "      <td>Bechalor</td>\n",
              "      <td>female</td>\n",
              "    </tr>\n",
              "    <tr>\n",
              "      <th>1</th>\n",
              "      <td>5</td>\n",
              "      <td>5</td>\n",
              "      <td>PAIDOFF</td>\n",
              "      <td>300</td>\n",
              "      <td>7</td>\n",
              "      <td>9/9/2016</td>\n",
              "      <td>9/15/2016</td>\n",
              "      <td>35</td>\n",
              "      <td>Master or Above</td>\n",
              "      <td>male</td>\n",
              "    </tr>\n",
              "    <tr>\n",
              "      <th>2</th>\n",
              "      <td>21</td>\n",
              "      <td>21</td>\n",
              "      <td>PAIDOFF</td>\n",
              "      <td>1000</td>\n",
              "      <td>30</td>\n",
              "      <td>9/10/2016</td>\n",
              "      <td>10/9/2016</td>\n",
              "      <td>43</td>\n",
              "      <td>High School or Below</td>\n",
              "      <td>female</td>\n",
              "    </tr>\n",
              "    <tr>\n",
              "      <th>3</th>\n",
              "      <td>24</td>\n",
              "      <td>24</td>\n",
              "      <td>PAIDOFF</td>\n",
              "      <td>1000</td>\n",
              "      <td>30</td>\n",
              "      <td>9/10/2016</td>\n",
              "      <td>10/9/2016</td>\n",
              "      <td>26</td>\n",
              "      <td>college</td>\n",
              "      <td>male</td>\n",
              "    </tr>\n",
              "    <tr>\n",
              "      <th>4</th>\n",
              "      <td>35</td>\n",
              "      <td>35</td>\n",
              "      <td>PAIDOFF</td>\n",
              "      <td>800</td>\n",
              "      <td>15</td>\n",
              "      <td>9/11/2016</td>\n",
              "      <td>9/25/2016</td>\n",
              "      <td>29</td>\n",
              "      <td>Bechalor</td>\n",
              "      <td>male</td>\n",
              "    </tr>\n",
              "  </tbody>\n",
              "</table>\n",
              "</div>"
            ],
            "text/plain": [
              "   Unnamed: 0  Unnamed: 0.1 loan_status  ...  age             education  Gender\n",
              "0           1             1     PAIDOFF  ...   50              Bechalor  female\n",
              "1           5             5     PAIDOFF  ...   35       Master or Above    male\n",
              "2          21            21     PAIDOFF  ...   43  High School or Below  female\n",
              "3          24            24     PAIDOFF  ...   26               college    male\n",
              "4          35            35     PAIDOFF  ...   29              Bechalor    male\n",
              "\n",
              "[5 rows x 10 columns]"
            ]
          },
          "metadata": {
            "tags": []
          },
          "execution_count": 57
        }
      ]
    },
    {
      "cell_type": "code",
      "metadata": {
        "id": "DZe8ZPtpL4m6",
        "colab_type": "code",
        "colab": {}
      },
      "source": [
        "test_df['due_date'] = pd.to_datetime(test_df['due_date'])\n",
        "test_df['effective_date'] = pd.to_datetime(test_df['effective_date'])\n",
        "test_df['dayofweek'] = test_df['effective_date'].dt.dayofweek\n",
        "test_df['weekend'] = test_df['dayofweek'].apply(lambda x: 1 if (x>3)  else 0)\n",
        "test_df['Gender'].replace(to_replace=['male','female'], value=[0,1],inplace=True)\n",
        "Feature2 = test_df[['Principal','terms','age','Gender','weekend']]\n",
        "Feature2 = pd.concat([Feature2,pd.get_dummies(test_df['education'])], axis=1)\n",
        "Feature2.drop(['Master or Above'], axis = 1,inplace=True)"
      ],
      "execution_count": 58,
      "outputs": []
    },
    {
      "cell_type": "code",
      "metadata": {
        "id": "64QBcl8HL4m9",
        "colab_type": "code",
        "colab": {
          "base_uri": "https://localhost:8080/",
          "height": 51
        },
        "outputId": "13ca405a-f69a-499b-ddb1-ac98aac2171f"
      },
      "source": [
        "X_TEST = Feature2\n",
        "X_TEST[0:5]\n",
        "\n",
        "Y_TEST = test_df['loan_status'].values\n",
        "Y_TEST[0:5]"
      ],
      "execution_count": 59,
      "outputs": [
        {
          "output_type": "execute_result",
          "data": {
            "text/plain": [
              "array(['PAIDOFF', 'PAIDOFF', 'PAIDOFF', 'PAIDOFF', 'PAIDOFF'],\n",
              "      dtype=object)"
            ]
          },
          "metadata": {
            "tags": []
          },
          "execution_count": 59
        }
      ]
    },
    {
      "cell_type": "code",
      "metadata": {
        "id": "b5jtIQbPL4m_",
        "colab_type": "code",
        "colab": {
          "base_uri": "https://localhost:8080/",
          "height": 68
        },
        "outputId": "52902caa-a345-4d1a-a81f-27411f40a2b4"
      },
      "source": [
        "from sklearn import preprocessing\n",
        "# Transform: PAIDOFF = 1, COLLECTION = 0.\n",
        "le_loan_sta2 = preprocessing.LabelEncoder()\n",
        "le_loan_sta2.fit(['PAIDOFF','COLLECTION'])\n",
        "Y_TEST = le_loan_sta2.transform(Y_TEST) \n",
        "Y_TEST"
      ],
      "execution_count": 60,
      "outputs": [
        {
          "output_type": "execute_result",
          "data": {
            "text/plain": [
              "array([1, 1, 1, 1, 1, 1, 1, 1, 1, 1, 1, 1, 1, 1, 1, 1, 1, 1, 1, 1, 1, 1,\n",
              "       1, 1, 1, 1, 1, 1, 1, 1, 1, 1, 1, 1, 1, 1, 1, 1, 1, 1, 0, 0, 0, 0,\n",
              "       0, 0, 0, 0, 0, 0, 0, 0, 0, 0])"
            ]
          },
          "metadata": {
            "tags": []
          },
          "execution_count": 60
        }
      ]
    },
    {
      "cell_type": "code",
      "metadata": {
        "id": "qgL96ln1L4nC",
        "colab_type": "code",
        "colab": {
          "base_uri": "https://localhost:8080/",
          "height": 187
        },
        "outputId": "6ce34247-4720-4b7c-e4cb-985c422a22f8"
      },
      "source": [
        "X_TEST= preprocessing.StandardScaler().fit(X_TEST).transform(X_TEST)\n",
        "X_TEST[0:5]"
      ],
      "execution_count": 61,
      "outputs": [
        {
          "output_type": "execute_result",
          "data": {
            "text/plain": [
              "array([[ 0.49362588,  0.92844966,  3.05981865,  1.97714211, -1.30384048,\n",
              "         2.39791576, -0.79772404, -0.86135677],\n",
              "       [-3.56269116, -1.70427745,  0.53336288, -0.50578054,  0.76696499,\n",
              "        -0.41702883, -0.79772404, -0.86135677],\n",
              "       [ 0.49362588,  0.92844966,  1.88080596,  1.97714211,  0.76696499,\n",
              "        -0.41702883,  1.25356634, -0.86135677],\n",
              "       [ 0.49362588,  0.92844966, -0.98251057, -0.50578054,  0.76696499,\n",
              "        -0.41702883, -0.79772404,  1.16095912],\n",
              "       [-0.66532184, -0.78854628, -0.47721942, -0.50578054,  0.76696499,\n",
              "         2.39791576, -0.79772404, -0.86135677]])"
            ]
          },
          "metadata": {
            "tags": []
          },
          "execution_count": 61
        }
      ]
    },
    {
      "cell_type": "code",
      "metadata": {
        "id": "pd-D0uwOL4nF",
        "colab_type": "code",
        "colab": {
          "base_uri": "https://localhost:8080/",
          "height": 51
        },
        "outputId": "fc580eb2-f7a0-4d30-ddb7-f1f06894f4e4"
      },
      "source": [
        "Y_hat_KNN= neighAlgo.predict(X_TEST)\n",
        "\n",
        "jc1 = metrics.jaccard_score(Y_TEST, Y_hat_KNN)\n",
        "fs1 = metrics.f1_score(Y_TEST, Y_hat_KNN)\n",
        "\n",
        "print('Jaccard index:', jc1)\n",
        "print('F1 score:', fs1)"
      ],
      "execution_count": 72,
      "outputs": [
        {
          "output_type": "stream",
          "text": [
            "Jaccard index: 0.673469387755102\n",
            "F1 score: 0.8048780487804876\n"
          ],
          "name": "stdout"
        }
      ]
    },
    {
      "cell_type": "code",
      "metadata": {
        "id": "JCceBQVUL4nH",
        "colab_type": "code",
        "colab": {
          "base_uri": "https://localhost:8080/",
          "height": 51
        },
        "outputId": "d4229e85-d94f-405b-96a5-3549a4cfcdcb"
      },
      "source": [
        "Y_hat_T=clf_tree.predict(X_TEST)\n",
        "\n",
        "jc2 = metrics.jaccard_score(Y_TEST, Y_hat_T)\n",
        "fs2 = metrics.f1_score(Y_TEST, Y_hat_T)\n",
        "\n",
        "print('Jaccard index:',)\n",
        "print('F1 score:', fs2)"
      ],
      "execution_count": 73,
      "outputs": [
        {
          "output_type": "stream",
          "text": [
            "Jaccard index:\n",
            "F1 score: 0.825\n"
          ],
          "name": "stdout"
        }
      ]
    },
    {
      "cell_type": "code",
      "metadata": {
        "id": "iSEKMi2QL4nK",
        "colab_type": "code",
        "colab": {
          "base_uri": "https://localhost:8080/",
          "height": 51
        },
        "outputId": "09acb309-ecfb-43ba-93e3-27477979d7cf"
      },
      "source": [
        "Y_hat_SVM=clf_linear.predict(X_TEST)\n",
        "\n",
        "jc3 = metrics.jaccard_score(Y_TEST, Y_hat_SVM)\n",
        "fs3 = metrics.f1_score(Y_TEST, Y_hat_SVM)\n",
        "\n",
        "print('Jaccard index:', jc3)\n",
        "print('F1 score:', fs3)"
      ],
      "execution_count": 74,
      "outputs": [
        {
          "output_type": "stream",
          "text": [
            "Jaccard index: 0.7407407407407407\n",
            "F1 score: 0.851063829787234\n"
          ],
          "name": "stdout"
        }
      ]
    },
    {
      "cell_type": "code",
      "metadata": {
        "id": "AtQICZQqL4nN",
        "colab_type": "code",
        "colab": {
          "base_uri": "https://localhost:8080/",
          "height": 68
        },
        "outputId": "55b4f8e3-5bb3-4235-f047-c4308a345748"
      },
      "source": [
        "y_hat_LR = LR_lib.predict(X_TEST)\n",
        "y_hat_LR_prob_lib = LR_lib.predict_proba(X_TEST)\n",
        "\n",
        "jc4 = metrics.jaccard_score(Y_TEST, y_hat_LR)\n",
        "fs4 = metrics.f1_score(Y_TEST, y_hat_LR)\n",
        "ll4 = log_loss(Y_TEST, y_hat_LR_prob_lib)\n",
        "\n",
        "print('Jaccard index:', jc4)\n",
        "print('F1 score:', fs4)\n",
        "print('log loss with liblinear', ll4)"
      ],
      "execution_count": 75,
      "outputs": [
        {
          "output_type": "stream",
          "text": [
            "Jaccard index: 0.7407407407407407\n",
            "F1 score: 0.851063829787234\n",
            "log loss with liblinear 0.57492385147783\n"
          ],
          "name": "stdout"
        }
      ]
    },
    {
      "cell_type": "markdown",
      "metadata": {
        "id": "9o-ihUOWL4nQ",
        "colab_type": "text"
      },
      "source": [
        "# Report\n",
        "The accuracy of the built model using different evaluation metrics:"
      ]
    },
    {
      "cell_type": "code",
      "metadata": {
        "id": "SAjJ8U2paomp",
        "colab_type": "code",
        "colab": {
          "base_uri": "https://localhost:8080/",
          "height": 173
        },
        "outputId": "7ecfe701-079f-4f75-98b9-570b5218a876"
      },
      "source": [
        "import pandas as pd\n",
        "\n",
        "list_jc = [jc1, jc2, jc3, jc4]\n",
        "list_fs = [fs1, fs2, fs3, fs4]\n",
        "list_ll = ['NA', 'NA', 'NA', ll4]\n",
        "\n",
        "# fomulate the report format\n",
        "df = pd.DataFrame(list_jc, index=['KNN','Decision Tree','SVM','Logistic Regression'])\n",
        "df.columns = ['Jaccard']\n",
        "df.insert(loc=1, column='F1-score', value=list_fs)\n",
        "df.insert(loc=2, column='LogLoss', value=list_ll)\n",
        "df.columns.name = 'Algorithm'\n",
        "df"
      ],
      "execution_count": 76,
      "outputs": [
        {
          "output_type": "execute_result",
          "data": {
            "text/html": [
              "<div>\n",
              "<style scoped>\n",
              "    .dataframe tbody tr th:only-of-type {\n",
              "        vertical-align: middle;\n",
              "    }\n",
              "\n",
              "    .dataframe tbody tr th {\n",
              "        vertical-align: top;\n",
              "    }\n",
              "\n",
              "    .dataframe thead th {\n",
              "        text-align: right;\n",
              "    }\n",
              "</style>\n",
              "<table border=\"1\" class=\"dataframe\">\n",
              "  <thead>\n",
              "    <tr style=\"text-align: right;\">\n",
              "      <th>Algorithm</th>\n",
              "      <th>Jaccard</th>\n",
              "      <th>F1-score</th>\n",
              "      <th>LogLoss</th>\n",
              "    </tr>\n",
              "  </thead>\n",
              "  <tbody>\n",
              "    <tr>\n",
              "      <th>KNN</th>\n",
              "      <td>0.673469</td>\n",
              "      <td>0.804878</td>\n",
              "      <td>NA</td>\n",
              "    </tr>\n",
              "    <tr>\n",
              "      <th>Decision Tree</th>\n",
              "      <td>0.702128</td>\n",
              "      <td>0.825000</td>\n",
              "      <td>NA</td>\n",
              "    </tr>\n",
              "    <tr>\n",
              "      <th>SVM</th>\n",
              "      <td>0.740741</td>\n",
              "      <td>0.851064</td>\n",
              "      <td>NA</td>\n",
              "    </tr>\n",
              "    <tr>\n",
              "      <th>Logistic Regression</th>\n",
              "      <td>0.740741</td>\n",
              "      <td>0.851064</td>\n",
              "      <td>0.574924</td>\n",
              "    </tr>\n",
              "  </tbody>\n",
              "</table>\n",
              "</div>"
            ],
            "text/plain": [
              "Algorithm             Jaccard  F1-score   LogLoss\n",
              "KNN                  0.673469  0.804878        NA\n",
              "Decision Tree        0.702128  0.825000        NA\n",
              "SVM                  0.740741  0.851064        NA\n",
              "Logistic Regression  0.740741  0.851064  0.574924"
            ]
          },
          "metadata": {
            "tags": []
          },
          "execution_count": 76
        }
      ]
    }
  ]
}